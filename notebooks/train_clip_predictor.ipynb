{
 "cells": [
  {
   "cell_type": "code",
   "execution_count": 1,
   "metadata": {},
   "outputs": [],
   "source": [
    "import pandas as pd\n",
    "import numpy as np\n",
    "from tqdm import tqdm, trange\n",
    "from sklearn.model_selection import train_test_split\n",
    "import torch\n",
    "import torch.nn as nn\n",
    "import torch.optim as optim"
   ]
  },
  {
   "cell_type": "code",
   "execution_count": 2,
   "metadata": {},
   "outputs": [],
   "source": [
    "# datapath = \"data/\"\n",
    "# all_embeddings = []\n",
    "# all_parametric = []\n",
    "# for i in trange(2048):\n",
    "#     dir = datapath + f\"batch_{i}/\"\n",
    "#     embeddings = pd.read_csv(dir + \"embeddings.csv\", index_col=0)\n",
    "#     parametric = pd.read_csv(dir + \"parametric.csv\", index_col=0)\n",
    "#     parametric = parametric.loc[embeddings.index,:]\n",
    "#     all_embeddings.append(embeddings)\n",
    "#     all_parametric.append(parametric)\n",
    "# all_embeddings = pd.concat(all_embeddings)\n",
    "# all_parametric = pd.concat(all_parametric)\n",
    "# all_embeddings.to_csv(\"all_embeddings.csv\")\n",
    "# all_parametric.to_csv(\"all_parametric.csv\")\n",
    "\n",
    "all_embeddings = pd.read_csv(\"all_embeddings.csv\", index_col=0)\n",
    "all_parametric = pd.read_csv(\"all_parametric.csv\", index_col=0)"
   ]
  },
  {
   "cell_type": "code",
   "execution_count": 3,
   "metadata": {},
   "outputs": [],
   "source": [
    "x_train, x_test, y_train, y_test = train_test_split(all_parametric, all_embeddings, test_size=0.05, random_state=42)\n",
    "x_train, x_val, y_train, y_val = train_test_split(x_train, y_train, test_size=0.05, random_state=42)\n",
    "x_train = torch.tensor(x_train.values, dtype=torch.float32)\n",
    "x_val = torch.tensor(x_val.values, dtype=torch.float32)\n",
    "x_test = torch.tensor(x_test.values, dtype=torch.float32)\n",
    "y_train = torch.tensor(y_train.values, dtype=torch.float32)\n",
    "y_val = torch.tensor(y_val.values, dtype=torch.float32)\n",
    "y_test = torch.tensor(y_test.values, dtype=torch.float32)"
   ]
  },
  {
   "cell_type": "code",
   "execution_count": 4,
   "metadata": {},
   "outputs": [],
   "source": [
    "device = torch.device(\"cuda:0\" if torch.cuda.is_available() else \"cpu\")\n",
    "x_train = x_train.to(device)\n",
    "x_val = x_val.to(device)\n",
    "x_test = x_test.to(device)\n",
    "y_train = y_train.to(device)\n",
    "y_val = y_val.to(device)\n",
    "y_test = y_test.to(device)"
   ]
  },
  {
   "cell_type": "code",
   "execution_count": 89,
   "metadata": {},
   "outputs": [],
   "source": [
    "# Residual Block class\n",
    "class ResidualBlock(nn.Module):\n",
    "    def __init__(self, input_size, layer_size, num_layers):\n",
    "        super(ResidualBlock, self).__init__()\n",
    "        self.layers = self._make_layers(input_size, layer_size, num_layers)\n",
    "\n",
    "    def _make_layers(self, input_size, layer_size, num_layers):\n",
    "        layers = []\n",
    "        layers.append(nn.Linear(input_size, layer_size))\n",
    "        layers.append(nn.ReLU())\n",
    "        for _ in range(num_layers - 1):\n",
    "            layers.append(nn.Linear(layer_size, layer_size))\n",
    "            layers.append(nn.ReLU())\n",
    "        layers.append(nn.BatchNorm1d(layer_size))\n",
    "        return nn.Sequential(*layers)\n",
    "\n",
    "    def forward(self, x):\n",
    "        residual = x\n",
    "        out = self.layers(x)\n",
    "        total = out + residual\n",
    "        return total\n",
    "\n",
    "\n",
    "# Residual Network class\n",
    "class ResidualNetwork(nn.Module):\n",
    "    def __init__(self, input_size, output_size, layer_size, layers_per_block, num_blocks):\n",
    "        super(ResidualNetwork, self).__init__()\n",
    "        self.initial_layer = nn.Linear(input_size, layer_size)\n",
    "        self.blocks = self._make_blocks(layer_size, layers_per_block, num_blocks)\n",
    "        self.final_layer = nn.Linear(layer_size, output_size)\n",
    "\n",
    "    def _make_blocks(self, layer_size, layers_per_block, num_blocks):\n",
    "        blocks = []\n",
    "        for _ in range(num_blocks):\n",
    "            blocks.append(ResidualBlock(layer_size, layer_size, layers_per_block))\n",
    "        return nn.Sequential(*blocks)\n",
    "\n",
    "    def forward(self, x):\n",
    "        out = self.initial_layer(x)\n",
    "        out = self.blocks(out)\n",
    "        out = self.final_layer(out)\n",
    "        return out\n",
    "\n",
    "\n",
    "# Example usage\n",
    "input_size = len(all_parametric.columns)\n",
    "output_size = len(all_embeddings.columns)\n",
    "layer_size = 128\n",
    "layers_per_block = 2\n",
    "num_blocks = 3\n",
    "\n",
    "model = ResidualNetwork(input_size, output_size, layer_size, layers_per_block, num_blocks).to(device)\n",
    "criterion = nn.MSELoss()\n",
    "optimizer = optim.Adam(model.parameters(), lr=0.0001)"
   ]
  },
  {
   "cell_type": "code",
   "execution_count": 90,
   "metadata": {},
   "outputs": [
    {
     "name": "stdout",
     "output_type": "stream",
     "text": [
      "Epoch [1/100] - Validation Loss: 0.013147275894880295\n",
      "Epoch [2/100] - Validation Loss: 0.009379365481436253\n",
      "Epoch [3/100] - Validation Loss: 0.007882894948124886\n",
      "Epoch [4/100] - Validation Loss: 0.011997319757938385\n",
      "Epoch [5/100] - Validation Loss: 0.00642175180837512\n",
      "Epoch [6/100] - Validation Loss: 0.005273997317999601\n",
      "Epoch [7/100] - Validation Loss: 0.004541254602372646\n",
      "Epoch [8/100] - Validation Loss: 0.22118894755840302\n",
      "Epoch [9/100] - Validation Loss: 0.004190958105027676\n",
      "Epoch [10/100] - Validation Loss: 0.00399976409971714\n",
      "Epoch [11/100] - Validation Loss: 0.0038859383203089237\n",
      "Epoch [12/100] - Validation Loss: 0.0042318375781178474\n",
      "Epoch [13/100] - Validation Loss: 0.004141479730606079\n",
      "Epoch [14/100] - Validation Loss: 0.0038009637501090765\n",
      "Epoch [15/100] - Validation Loss: 0.003786378540098667\n",
      "Epoch [16/100] - Validation Loss: 0.003919878043234348\n",
      "Epoch [17/100] - Validation Loss: 0.003854452632367611\n",
      "Epoch [18/100] - Validation Loss: 0.0038776900619268417\n",
      "Epoch [19/100] - Validation Loss: 0.003879005089402199\n",
      "Early stopping at epoch 19.\n"
     ]
    }
   ],
   "source": [
    "patience = 5\n",
    "best_val_loss = float('inf')\n",
    "counter = 0\n",
    "num_epochs = 100\n",
    "batch_size = 16\n",
    "\n",
    "with torch.autograd.set_detect_anomaly(True):\n",
    "    for epoch in range(num_epochs):\n",
    "        # Shuffle data indices\n",
    "        indices = np.arange(len(x_train))\n",
    "        np.random.shuffle(indices)\n",
    "\n",
    "        model.train()\n",
    "        for i in range(0, len(x_train), batch_size):\n",
    "            batch_indices = indices[i:i + batch_size]\n",
    "            inputs = x_train[batch_indices]\n",
    "            targets = y_train[batch_indices]\n",
    "\n",
    "            optimizer.zero_grad()\n",
    "            outputs = model(inputs)\n",
    "            loss = criterion(outputs, targets)\n",
    "            loss.backward()\n",
    "            optimizer.step()\n",
    "\n",
    "        # Validation\n",
    "        model.eval()\n",
    "        with torch.no_grad():\n",
    "            val_outputs = model(x_val)\n",
    "            val_loss = criterion(val_outputs, y_val)\n",
    "\n",
    "        # Early stopping\n",
    "        if val_loss < best_val_loss:\n",
    "            best_val_loss = val_loss\n",
    "            counter = 0\n",
    "        else:\n",
    "            counter += 1\n",
    "            if counter >= patience:\n",
    "                print(f\"Early stopping at epoch {epoch}.\")\n",
    "                break\n",
    "\n",
    "        print(f\"Epoch [{epoch + 1}/{num_epochs}] - Validation Loss: {val_loss.item()}\")"
   ]
  },
  {
   "cell_type": "code",
   "execution_count": 91,
   "metadata": {},
   "outputs": [],
   "source": [
    "targets = y_test.clone().cpu()"
   ]
  },
  {
   "cell_type": "code",
   "execution_count": 92,
   "metadata": {},
   "outputs": [],
   "source": [
    "preds = model(x_test).cpu()"
   ]
  },
  {
   "cell_type": "code",
   "execution_count": 93,
   "metadata": {},
   "outputs": [
    {
     "name": "stdout",
     "output_type": "stream",
     "text": [
      "tensor([[0.9937, 0.9568, 0.9563,  ..., 0.9543, 0.9605, 0.9163],\n",
      "        [0.9635, 0.9908, 0.9492,  ..., 0.9638, 0.9517, 0.9356],\n",
      "        [0.9586, 0.9288, 0.9933,  ..., 0.9589, 0.9476, 0.9551],\n",
      "        ...,\n",
      "        [0.9567, 0.9531, 0.9701,  ..., 0.9887, 0.9687, 0.9459],\n",
      "        [0.9692, 0.9420, 0.9676,  ..., 0.9724, 0.9924, 0.9361],\n",
      "        [0.9369, 0.9330, 0.9671,  ..., 0.9406, 0.9340, 0.9886]],\n",
      "       grad_fn=<MmBackward0>)\n"
     ]
    }
   ],
   "source": [
    "a_norm = preds / preds.norm(dim=1)[:, None]\n",
    "b_norm = targets / targets.norm(dim=1)[:, None]\n",
    "res = torch.mm(a_norm, b_norm.transpose(0,1))\n",
    "print(res)"
   ]
  },
  {
   "cell_type": "code",
   "execution_count": 94,
   "metadata": {},
   "outputs": [],
   "source": [
    "d = torch.diag(res)"
   ]
  },
  {
   "cell_type": "code",
   "execution_count": 95,
   "metadata": {},
   "outputs": [],
   "source": [
    "d_full = d.unsqueeze(dim=1).repeat(1, len(res))"
   ]
  },
  {
   "cell_type": "code",
   "execution_count": 96,
   "metadata": {},
   "outputs": [
    {
     "name": "stdout",
     "output_type": "stream",
     "text": [
      "tensor(0.0010)\n"
     ]
    }
   ],
   "source": [
    "print(torch.sum(d_full<res)/len(res)/(len(res)-1))"
   ]
  },
  {
   "cell_type": "code",
   "execution_count": 97,
   "metadata": {},
   "outputs": [
    {
     "name": "stdout",
     "output_type": "stream",
     "text": [
      "tensor(0.0005)\n"
     ]
    }
   ],
   "source": [
    "print(torch.sum(d_full.T<res)/len(res)/(len(res)-1))"
   ]
  },
  {
   "cell_type": "code",
   "execution_count": 98,
   "metadata": {},
   "outputs": [],
   "source": [
    "# torch.save(model, \"resnet_0010_0005.pt\")"
   ]
  },
  {
   "cell_type": "code",
   "execution_count": null,
   "metadata": {},
   "outputs": [],
   "source": []
  }
 ],
 "metadata": {
  "kernelspec": {
   "display_name": "clip_gluon",
   "language": "python",
   "name": "python3"
  },
  "language_info": {
   "codemirror_mode": {
    "name": "ipython",
    "version": 3
   },
   "file_extension": ".py",
   "mimetype": "text/x-python",
   "name": "python",
   "nbconvert_exporter": "python",
   "pygments_lexer": "ipython3",
   "version": "3.10.9"
  },
  "orig_nbformat": 4
 },
 "nbformat": 4,
 "nbformat_minor": 2
}
