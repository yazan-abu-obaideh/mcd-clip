{
 "cells": [
  {
   "cell_type": "code",
   "execution_count": 20,
   "id": "6551bf1b-85f7-4380-85eb-956cf18802be",
   "metadata": {},
   "outputs": [],
   "source": [
    "import os\n",
    "from datetime import datetime\n",
    "from typing import List\n",
    "\n",
    "import sys\n",
    "\n",
    "sys.path.append(os.path.join('src'))\n",
    "\n",
    "import numpy as np\n",
    "import pandas as pd\n",
    "from decode_mcd import DesignTargets, ContinuousTarget, CounterfactualsGenerator\n",
    "\n",
    "from mcd_clip.datasets.combined_datasets import CombinedDataset\n",
    "from mcd_clip.datasets.validations_lists import COMBINED_VALIDATION_FUNCTIONS\n",
    "from mcd_clip.optimization.combined_optimizer import CombinedOptimizer, distance_column_name, TextEmbeddingTarget, \\\n",
    "    ImageEmbeddingTarget\n",
    "from mcd_clip.optimization.embedding_similarity_optimizer import to_full_clips_dataframe\n",
    "from mcd_clip.resource_utils import run_result_path, resource_path\n",
    "\n",
    "import nest_asyncio\n",
    "nest_asyncio.apply()\n",
    "\n",
    "from mcd_clip.singletons import IMAGE_CONVERTOR\n",
    "\n",
    "\n",
    "\n",
    "def render_some(full_df: pd.DataFrame, run_dir: str, batch_number: int, distance_column_suffix: str):\n",
    "    batch_dir = os.path.join(run_dir, f\"batch_{batch_number}_distance_{distance_column_suffix}\")\n",
    "    os.makedirs(batch_dir, exist_ok=True)\n",
    "    clips = to_full_clips_dataframe(CombinedDataset(full_df).get_as_clips())\n",
    "    images_paths = []\n",
    "    for idx in clips.index:\n",
    "        rendering_result = IMAGE_CONVERTOR.to_image(clips.loc[idx])\n",
    "        image_path = os.path.join(batch_dir, f\"bike_{idx}.svg\")\n",
    "        images_paths.append(image_path)\n",
    "        with open(image_path, \"wb\") as file:\n",
    "            file.write(rendering_result.image)\n",
    "\n",
    "def _selective_sample(\n",
    "        optimizer: CombinedOptimizer,\n",
    "        generator: CounterfactualsGenerator,\n",
    "        distance_column_index: int):\n",
    "    desired_weight = 1\n",
    "    objective_weights = [desired_weight * (1 - distance_column_index), desired_weight * distance_column_index]\n",
    "    as_many = generator.sample_with_weights(num_samples=100, cfc_weight=0,\n",
    "                                            gower_weight=0, avg_gower_weight=0,\n",
    "                                            diversity_weight=0,\n",
    "                                            bonus_objectives_weights=np.array(objective_weights).reshape((1, 2)),\n",
    "                                            include_dataset=False)\n",
    "    column_ = distance_column_name(distance_column_index)\n",
    "    as_many[column_] = optimizer.predict(CombinedDataset(as_many))[column_]\n",
    "    closes_cfs = as_many.sort_values(by=column_, ascending=True)[:4]\n",
    "    print(f\"Found closest cfs {closes_cfs[distance_column_name(distance_column_index)]}\")\n",
    "    return closes_cfs\n",
    "\n",
    "\n",
    "def _balance_sample(generator: CounterfactualsGenerator,\n",
    "                    objective_weights: List[int],\n",
    "                    diversity_weight: float,\n",
    "                    n_samples: int):\n",
    "    return generator.sample_with_weights(num_samples=n_samples, cfc_weight=1,\n",
    "                                         gower_weight=1, avg_gower_weight=1,\n",
    "                                         bonus_objectives_weights=np.array(objective_weights).reshape((1, 2)),\n",
    "                                         diversity_weight=diversity_weight, include_dataset=False)\n"
   ]
  },
  {
   "cell_type": "code",
   "execution_count": 9,
   "id": "26dc499c-a925-48ca-83ef-1be2fdd3f538",
   "metadata": {},
   "outputs": [
    {
     "name": "stdout",
     "output_type": "stream",
     "text": [
      "Found framed material columns ['Material=Steel', 'Material=Aluminum', 'Material=Titanium']\n",
      "Mapping Material=Steel to MATERIAL OHCLASS: STEEL\n",
      "Mapping Material=Aluminum to MATERIAL OHCLASS: ALUMINUM\n",
      "Mapping Material=Titanium to MATERIAL OHCLASS: TITANIUM\n",
      "Found framed material columns ['Material=Steel', 'Material=Aluminum', 'Material=Titanium']\n",
      "Mapping Material=Steel to MATERIAL OHCLASS: STEEL\n",
      "Mapping Material=Aluminum to MATERIAL OHCLASS: ALUMINUM\n",
      "Mapping Material=Titanium to MATERIAL OHCLASS: TITANIUM\n",
      "Dropping clips material columns ['MATERIAL OHCLASS: ALUMINIUM', 'MATERIAL OHCLASS: BAMBOO', 'MATERIAL OHCLASS: CARBON', 'MATERIAL OHCLASS: OTHER', 'MATERIAL OHCLASS: STEEL', 'MATERIAL OHCLASS: TITANIUM']\n",
      "Found framed material columns ['Material=Steel', 'Material=Aluminum', 'Material=Titanium']\n",
      "Mapping Material=Steel to MATERIAL OHCLASS: STEEL\n",
      "Mapping Material=Aluminum to MATERIAL OHCLASS: ALUMINUM\n",
      "Mapping Material=Titanium to MATERIAL OHCLASS: TITANIUM\n",
      "Found framed material columns ['Material=Steel', 'Material=Aluminum', 'Material=Titanium']\n",
      "Mapping Material=Steel to MATERIAL OHCLASS: STEEL\n",
      "Mapping Material=Aluminum to MATERIAL OHCLASS: ALUMINUM\n",
      "Mapping Material=Titanium to MATERIAL OHCLASS: TITANIUM\n",
      "Found framed material columns ['Material=Steel', 'Material=Aluminum', 'Material=Titanium']\n",
      "Mapping Material=Steel to MATERIAL OHCLASS: STEEL\n",
      "Mapping Material=Aluminum to MATERIAL OHCLASS: ALUMINUM\n",
      "Mapping Material=Titanium to MATERIAL OHCLASS: TITANIUM\n",
      "embedding_distance_1 | min 0.7400000095367432, max [0.7400000095367432],  average [0.7400000095367432]\n",
      "embedding_distance_2 | min 0.15000000596046448, max [0.15000000596046448],  average [0.15000000596046448]\n",
      "Starting design has in column embedding_distance_1 value 0.7360880374908447\n",
      "Starting design has in column embedding_distance_2 value 0.1492699384689331\n",
      "Number of validation functions is 6\n",
      "Found framed material columns ['Material=Steel', 'Material=Aluminum', 'Material=Titanium']\n",
      "Mapping Material=Steel to MATERIAL OHCLASS: STEEL\n",
      "Mapping Material=Aluminum to MATERIAL OHCLASS: ALUMINUM\n",
      "Mapping Material=Titanium to MATERIAL OHCLASS: TITANIUM\n"
     ]
    },
    {
     "name": "stderr",
     "output_type": "stream",
     "text": [
      "/home/yazan/Repositories/Personal/mcd-clip/src/mcd_clip/bike_rider_fit/fit_analysis/vectorizedangles.py:158: RuntimeWarning: invalid value encountered in arccos\n",
      "  alpha_1 = np.arccos((x_1 ** 2 - UL_s - x_2 ** 2) / (-2 * UL * x_2))\n",
      "/home/yazan/Repositories/Personal/mcd-clip/src/mcd_clip/bike_rider_fit/fit_analysis/demoanalysis.py:76: RuntimeWarning: invalid value encountered in arccos\n",
      "  Tksp2 = np.arccos(\n",
      "/home/yazan/Repositories/Personal/mcd-clip/src/mcd_clip/bike_rider_fit/fit_analysis/vectorizedangles.py:158: RuntimeWarning: invalid value encountered in arccos\n",
      "  alpha_1 = np.arccos((x_1 ** 2 - UL_s - x_2 ** 2) / (-2 * UL * x_2))\n"
     ]
    },
    {
     "name": "stdout",
     "output_type": "stream",
     "text": [
      "Found framed material columns ['Material=Steel', 'Material=Aluminum', 'Material=Titanium']\n",
      "Mapping Material=Steel to MATERIAL OHCLASS: STEEL\n",
      "Mapping Material=Aluminum to MATERIAL OHCLASS: ALUMINUM\n",
      "Mapping Material=Titanium to MATERIAL OHCLASS: TITANIUM\n"
     ]
    },
    {
     "name": "stderr",
     "output_type": "stream",
     "text": [
      "/home/yazan/Repositories/Personal/mcd-clip/src/mcd_clip/bike_rider_fit/fit_analysis/interfacepoints.py:52: RuntimeWarning: invalid value encountered in sqrt\n",
      "  DTx = np.sqrt(bike[:, 0] ** 2 - DTy ** 2)\n",
      "/home/yazan/Repositories/Personal/mcd-clip/src/mcd_clip/bike_rider_fit/fit_analysis/vectorizedangles.py:158: RuntimeWarning: invalid value encountered in arccos\n",
      "  alpha_1 = np.arccos((x_1 ** 2 - UL_s - x_2 ** 2) / (-2 * UL * x_2))\n",
      "/home/yazan/Repositories/Personal/mcd-clip/src/mcd_clip/bike_rider_fit/fit_analysis/vectorizedangles.py:210: RuntimeWarning: invalid value encountered in arccos\n",
      "  tors_ang = np.arccos((TL ** 2 + sth_dist ** 2 - x_1) / (2 * TL * sth_dist))\n",
      "/home/yazan/Repositories/Personal/mcd-clip/src/mcd_clip/bike_rider_fit/fit_analysis/vectorizedangles.py:216: RuntimeWarning: invalid value encountered in arccos\n",
      "  armpit_to_wrist = np.arccos((TL ** 2 + x_1 - sth_dist ** 2) / (2 * TL * (x_1 ** 0.5)))\n",
      "/home/yazan/Repositories/Personal/mcd-clip/src/mcd_clip/bike_rider_fit/fit_analysis/demoanalysis.py:76: RuntimeWarning: invalid value encountered in arccos\n",
      "  Tksp2 = np.arccos(\n",
      "/home/yazan/Repositories/Personal/mcd-clip/src/mcd_clip/bike_rider_fit/fit_analysis/demoanalysis.py:72: RuntimeWarning: invalid value encountered in arccos\n",
      "  Tssh = np.arccos(\n"
     ]
    },
    {
     "name": "stdout",
     "output_type": "stream",
     "text": [
      "Found framed material columns ['Material=Steel', 'Material=Aluminum', 'Material=Titanium']\n",
      "Mapping Material=Steel to MATERIAL OHCLASS: STEEL\n",
      "Mapping Material=Aluminum to MATERIAL OHCLASS: ALUMINUM\n",
      "Mapping Material=Titanium to MATERIAL OHCLASS: TITANIUM\n",
      "embedding_distance_1 | min 0.6899999976158142, max [1.0499999523162842],  average [0.7300000190734863]\n",
      "embedding_distance_2 | min 0.07999999821186066, max [1.5199999809265137],  average [0.12999999523162842]\n",
      "Mapping SSB_Include to choice with options (0, 1)\n",
      "Mapping CSB_Include to choice with options (0, 1)\n",
      "Mapped CS Length to Real with bounds (0.322943, 0.5569195)\n",
      "Mapped BB Drop to Real with bounds (-0.0374885, 0.10553499999999999)\n",
      "Mapped SS E to Real with bounds (0.015602500000000002, 0.223252)\n",
      "Mapped ST Angle to Real with bounds (65.99998244937126, 78.99999375043305)\n",
      "Mapped BB OD to Real with bounds (0.03484, 0.053875)\n",
      "Mapped TT OD to Real with bounds (0.024204999999999997, 0.04801)\n"
     ]
    },
    {
     "name": "stderr",
     "output_type": "stream",
     "text": [
      "/home/yazan/Repositories/Personal/mcd-clip/src/mcd_clip/bike_rider_fit/fit_analysis/interfacepoints.py:52: RuntimeWarning: invalid value encountered in sqrt\n",
      "  DTx = np.sqrt(bike[:, 0] ** 2 - DTy ** 2)\n",
      "/home/yazan/Repositories/Personal/mcd-clip/src/mcd_clip/bike_rider_fit/fit_analysis/vectorizedangles.py:158: RuntimeWarning: invalid value encountered in arccos\n",
      "  alpha_1 = np.arccos((x_1 ** 2 - UL_s - x_2 ** 2) / (-2 * UL * x_2))\n",
      "/home/yazan/Repositories/Personal/mcd-clip/src/mcd_clip/bike_rider_fit/fit_analysis/vectorizedangles.py:210: RuntimeWarning: invalid value encountered in arccos\n",
      "  tors_ang = np.arccos((TL ** 2 + sth_dist ** 2 - x_1) / (2 * TL * sth_dist))\n",
      "/home/yazan/Repositories/Personal/mcd-clip/src/mcd_clip/bike_rider_fit/fit_analysis/vectorizedangles.py:216: RuntimeWarning: invalid value encountered in arccos\n",
      "  armpit_to_wrist = np.arccos((TL ** 2 + x_1 - sth_dist ** 2) / (2 * TL * (x_1 ** 0.5)))\n"
     ]
    },
    {
     "name": "stdout",
     "output_type": "stream",
     "text": [
      "Mapped HT OD to Real with bounds (0.03099, 0.076855)\n",
      "Mapped DT OD to Real with bounds (0.03, 0.06)\n",
      "Mapped CS OD to Real with bounds (0.016825, 0.040269)\n",
      "Mapped SS OD to Real with bounds (0.0105, 0.026099999999999998)\n",
      "Mapped ST OD to Real with bounds (0.026561, 0.0556865)\n",
      "Mapped CS F to Real with bounds (0.01098, 0.01666)\n",
      "Mapped HT LX to Real with bounds (0.028394000000000003, 0.08026050000000001)\n",
      "Mapped ST UX to Real with bounds (0.011344, 0.1930455)\n",
      "Mapped HT UX to Real with bounds (0.017556000000000002, 0.065)\n",
      "Mapped HT Angle to Real with bounds (64.00297, 78.52493)\n",
      "Mapped HT Length to Real with bounds (0.07785500000000001, 0.246085)\n",
      "Mapped ST Length to Real with bounds (0.1946145, 0.692849)\n",
      "Mapped BB Length to Real with bounds (0.06327, 0.09)\n",
      "Mapped Dropout Offset to Real with bounds (0.11959349999999999, 0.148)\n",
      "Mapped SSB OD to Real with bounds (-0.0004385000000000005, 0.018171)\n",
      "Mapped CSB OD to Real with bounds (-0.00014149999999999927, 0.0184845)\n",
      "Mapped SSB Offset to Real with bounds (0.327219, 0.346359)\n",
      "Mapped CSB Offset to Real with bounds (0.273378, 0.40510100000000004)\n",
      "Mapped SS Z to Real with bounds (0.007, 0.013)\n",
      "Mapped SS Thickness to Real with bounds (0.0003979999999999999, 0.009478)\n",
      "Mapped CS Thickness to Real with bounds (0.00033449999999999973, 0.0095605)\n",
      "Mapped TT Thickness to Real with bounds (0.00045950000000000006, 0.013615)\n",
      "Mapped BB Thickness to Real with bounds (0.0003030699999999999, 0.010295)\n",
      "Mapped HT Thickness to Real with bounds (0.00038662000000000006, 0.010870000000000001)\n",
      "Mapped ST Thickness to Real with bounds (0.0003470000000000001, 0.0127095)\n",
      "Mapped DT Thickness to Real with bounds (0.000239265, 0.01099)\n",
      "Mapped Chain stay position on BB to numeric with range (7.5, 16.5)\n",
      "Mapped SEATSTAYbrdgdia1 to numeric with range (10.0, 16.420000000000073)\n",
      "Mapped CHAINSTAYbrdgdia1 to numeric with range (13.2, 18.0)\n",
      "Mapped ERD rear to numeric with range (366.0, 632.0)\n",
      "Mapped Wheel width rear to numeric with range (20.0, 81.2)\n",
      "Mapped BSD front to numeric with range (406.0, 636.0)\n",
      "Mapped Wheel width front to numeric with range (20.0, 81.2)\n",
      "Mapped ERD front to numeric with range (366.0, 632.0)\n",
      "Mapped BSD rear to numeric with range (406.0, 640.0)\n",
      "Mapped Display AEROBARS to Choice\n",
      "Mapped Wheel cut to numeric with range (682.0, 692.0)\n",
      "Mapped Front Fender include to Choice\n",
      "Mapped Rear Fender include to Choice\n",
      "Mapped Number of cogs to numeric with range (0.0, 10.0)\n",
      "Mapped Number of chainrings to numeric with range (0.0, 2.0)\n",
      "Mapped Display RACK to Choice\n",
      "Mapped FIRST color R_RGB to numeric with range (0.0, 255.0)\n",
      "Mapped FIRST color G_RGB to numeric with range (0.0, 255.0)\n",
      "Mapped FIRST color B_RGB to numeric with range (0.0, 255.0)\n",
      "Mapped SPOKES composite front to numeric with range (1.0, 3.0)\n",
      "Mapped SBLADEW front to numeric with range (40.0, 80.0)\n",
      "Mapped SBLADEW rear to numeric with range (40.0, 80.0)\n",
      "Mapped Saddle length to numeric with range (200.0, 300.0)\n",
      "Mapped Saddle height to numeric with range (280.0, 850.0)\n",
      "Mapped Down tube diameter to numeric with range (28.0, 60.0)\n",
      "Mapped Seatpost LENGTH to numeric with range (60.0, 457.0)\n",
      "Mapped Stack to Real with bounds (0.503125, 0.643)\n",
      "Mapped DT Length to Real with bounds (0.516772, 0.768033)\n",
      "Mapping Material to choice with options (0, 1, 2)\n",
      "Mapping Dropout spacing style to choice with options (0, 1, 2, 3)\n",
      "Mapping Fork type to choice with options (0, 1, 2)\n",
      "Mapping Stem kind to choice with options (0, 1, 2)\n",
      "Mapping Handlebar style to choice with options (0, 1, 2)\n",
      "Mapping Head tube type to choice with options (0, 1, 2, 3)\n",
      "Mapping Top tube type to choice with options (0, 1)\n",
      "Mapping bottle SEATTUBE0 show to choice with options (0, 1)\n",
      "Mapping bottle DOWNTUBE0 show to choice with options (0, 1)\n",
      "Mapping BELTorCHAIN to choice with options (0, 1)\n",
      "Mapping RIM_STYLE front to choice with options (0, 1, 2)\n",
      "Mapping RIM_STYLE rear to choice with options (0, 1, 2)\n",
      "Mapped bike fit column Stem length\n",
      "Mapped bike fit column Stem angle\n",
      "Mapped bike fit column Crank length\n",
      "Mapped bike fit column Headset spacers\n",
      "Found framed material columns ['Material=Steel', 'Material=Aluminum', 'Material=Titanium']\n",
      "Mapping Material=Steel to MATERIAL OHCLASS: STEEL\n",
      "Mapping Material=Aluminum to MATERIAL OHCLASS: ALUMINUM\n",
      "Mapping Material=Titanium to MATERIAL OHCLASS: TITANIUM\n",
      "Found framed material columns ['Material=Steel', 'Material=Aluminum', 'Material=Titanium']\n",
      "Mapping Material=Steel to MATERIAL OHCLASS: STEEL\n",
      "Mapping Material=Aluminum to MATERIAL OHCLASS: ALUMINUM\n",
      "Mapping Material=Titanium to MATERIAL OHCLASS: TITANIUM\n",
      "Found framed material columns ['Material=Steel', 'Material=Aluminum', 'Material=Titanium']\n",
      "Mapping Material=Steel to MATERIAL OHCLASS: STEEL\n",
      "Mapping Material=Aluminum to MATERIAL OHCLASS: ALUMINUM\n",
      "Mapping Material=Titanium to MATERIAL OHCLASS: TITANIUM\n"
     ]
    },
    {
     "name": "stderr",
     "output_type": "stream",
     "text": [
      "/home/yazan/Repositories/Personal/mcd-clip/src/mcd_clip/bike_rider_fit/fit_analysis/vectorizedangles.py:158: RuntimeWarning: invalid value encountered in arccos\n",
      "  alpha_1 = np.arccos((x_1 ** 2 - UL_s - x_2 ** 2) / (-2 * UL * x_2))\n",
      "/home/yazan/Repositories/Personal/mcd-clip/src/mcd_clip/bike_rider_fit/fit_analysis/demoanalysis.py:76: RuntimeWarning: invalid value encountered in arccos\n",
      "  Tksp2 = np.arccos(\n",
      "/home/yazan/Repositories/Personal/mcd-clip/src/mcd_clip/bike_rider_fit/fit_analysis/vectorizedangles.py:158: RuntimeWarning: invalid value encountered in arccos\n",
      "  alpha_1 = np.arccos((x_1 ** 2 - UL_s - x_2 ** 2) / (-2 * UL * x_2))\n"
     ]
    },
    {
     "name": "stdout",
     "output_type": "stream",
     "text": [
      "embedding_distance_1 | min 0.7400000095367432, max [0.7400000095367432],  average [0.7400000095367432]\n",
      "embedding_distance_2 | min 0.15000000596046448, max [0.15000000596046448],  average [0.15000000596046448]\n",
      "Validation result: fraction invalid [0.0]\n",
      "Validation result: fraction invalid [0.0]\n",
      "Validation result: fraction invalid [0.0]\n",
      "Validation result: fraction invalid [0.0]\n",
      "Validation result: fraction invalid [0.0]\n",
      "Validation result: fraction invalid [0.0]\n",
      "Found framed material columns ['Material=Steel', 'Material=Aluminum', 'Material=Titanium']\n",
      "Mapping Material=Steel to MATERIAL OHCLASS: STEEL\n",
      "Mapping Material=Aluminum to MATERIAL OHCLASS: ALUMINUM\n",
      "Mapping Material=Titanium to MATERIAL OHCLASS: TITANIUM\n",
      "Found framed material columns ['Material=Steel', 'Material=Aluminum', 'Material=Titanium']\n",
      "Mapping Material=Steel to MATERIAL OHCLASS: STEEL\n",
      "Mapping Material=Aluminum to MATERIAL OHCLASS: ALUMINUM\n",
      "Mapping Material=Titanium to MATERIAL OHCLASS: TITANIUM\n",
      "Found framed material columns ['Material=Steel', 'Material=Aluminum', 'Material=Titanium']\n",
      "Mapping Material=Steel to MATERIAL OHCLASS: STEEL\n",
      "Mapping Material=Aluminum to MATERIAL OHCLASS: ALUMINUM\n",
      "Mapping Material=Titanium to MATERIAL OHCLASS: TITANIUM\n"
     ]
    },
    {
     "name": "stderr",
     "output_type": "stream",
     "text": [
      "/home/yazan/Repositories/Personal/mcd-clip/src/mcd_clip/bike_rider_fit/fit_analysis/vectorizedangles.py:158: RuntimeWarning: invalid value encountered in arccos\n",
      "  alpha_1 = np.arccos((x_1 ** 2 - UL_s - x_2 ** 2) / (-2 * UL * x_2))\n",
      "/home/yazan/Repositories/Personal/mcd-clip/src/mcd_clip/bike_rider_fit/fit_analysis/demoanalysis.py:76: RuntimeWarning: invalid value encountered in arccos\n",
      "  Tksp2 = np.arccos(\n",
      "/home/yazan/Repositories/Personal/mcd-clip/src/mcd_clip/bike_rider_fit/fit_analysis/vectorizedangles.py:158: RuntimeWarning: invalid value encountered in arccos\n",
      "  alpha_1 = np.arccos((x_1 ** 2 - UL_s - x_2 ** 2) / (-2 * UL * x_2))\n"
     ]
    },
    {
     "name": "stdout",
     "output_type": "stream",
     "text": [
      "embedding_distance_1 | min 0.699999988079071, max [0.7599999904632568],  average [0.7300000190734863]\n",
      "embedding_distance_2 | min 0.07999999821186066, max [0.1899999976158142],  average [0.11999999731779099]\n",
      "Validation result: fraction invalid [0.009402654867256638]\n",
      "Validation result: fraction invalid [0.00995575221238938]\n",
      "Validation result: fraction invalid [0.041482300884955754]\n",
      "Validation result: fraction invalid [0.04480088495575221]\n",
      "Validation result: fraction invalid [0.0]\n",
      "Validation result: fraction invalid [0.007190265486725664]\n",
      "1808 dataset entries found matching problem parameters\n",
      "Initial population initialized from dataset of 1808 samples!\n",
      "Training GA from 0 to 200 generations!\n",
      "==========================================================================================\n",
      "n_gen  |  n_eval  | n_nds  |     cv_min    |     cv_avg    |      eps      |   indicator  \n",
      "==========================================================================================\n",
      "     1 |        0 |    209 |  0.000000E+00 |  0.1128318584 |             - |             -\n"
     ]
    },
    {
     "name": "stderr",
     "output_type": "stream",
     "text": [
      "/home/yazan/Repositories/Personal/mcd-clip/venv/lib/python3.10/site-packages/pymoo/core/individual.py:34: RuntimeWarning: coroutine 'BikeCad._init_instance' was never awaited\n",
      "  for k, v in kwargs.items():\n",
      "RuntimeWarning: Enable tracemalloc to get the object allocation traceback\n"
     ]
    },
    {
     "name": "stdout",
     "output_type": "stream",
     "text": [
      "Found framed material columns ['Material=Steel', 'Material=Aluminum', 'Material=Titanium']\n",
      "Mapping Material=Steel to MATERIAL OHCLASS: STEEL\n",
      "Mapping Material=Aluminum to MATERIAL OHCLASS: ALUMINUM\n",
      "Mapping Material=Titanium to MATERIAL OHCLASS: TITANIUM\n",
      "Found framed material columns ['Material=Steel', 'Material=Aluminum', 'Material=Titanium']\n",
      "Mapping Material=Steel to MATERIAL OHCLASS: STEEL\n",
      "Mapping Material=Aluminum to MATERIAL OHCLASS: ALUMINUM\n",
      "Mapping Material=Titanium to MATERIAL OHCLASS: TITANIUM\n",
      "Found framed material columns ['Material=Steel', 'Material=Aluminum', 'Material=Titanium']\n",
      "Mapping Material=Steel to MATERIAL OHCLASS: STEEL\n",
      "Mapping Material=Aluminum to MATERIAL OHCLASS: ALUMINUM\n",
      "Mapping Material=Titanium to MATERIAL OHCLASS: TITANIUM\n"
     ]
    },
    {
     "name": "stderr",
     "output_type": "stream",
     "text": [
      "/home/yazan/Repositories/Personal/mcd-clip/src/mcd_clip/bike_rider_fit/fit_analysis/vectorizedangles.py:158: RuntimeWarning: invalid value encountered in arccos\n",
      "  alpha_1 = np.arccos((x_1 ** 2 - UL_s - x_2 ** 2) / (-2 * UL * x_2))\n",
      "/home/yazan/Repositories/Personal/mcd-clip/src/mcd_clip/bike_rider_fit/fit_analysis/demoanalysis.py:76: RuntimeWarning: invalid value encountered in arccos\n",
      "  Tksp2 = np.arccos(\n",
      "/home/yazan/Repositories/Personal/mcd-clip/src/mcd_clip/bike_rider_fit/fit_analysis/vectorizedangles.py:158: RuntimeWarning: invalid value encountered in arccos\n",
      "  alpha_1 = np.arccos((x_1 ** 2 - UL_s - x_2 ** 2) / (-2 * UL * x_2))\n"
     ]
    },
    {
     "name": "stdout",
     "output_type": "stream",
     "text": [
      "embedding_distance_1 | min 0.7099999785423279, max [1.1799999475479126],  average [0.7300000190734863]\n",
      "embedding_distance_2 | min 0.10000000149011612, max [1.6799999475479126],  average [0.15000000596046448]\n",
      "Validation result: fraction invalid [0.076]\n",
      "Validation result: fraction invalid [0.07]\n",
      "Validation result: fraction invalid [0.088]\n",
      "Validation result: fraction invalid [0.088]\n",
      "Validation result: fraction invalid [0.0]\n",
      "Validation result: fraction invalid [0.008]\n",
      "     2 |      500 |    246 |  0.000000E+00 |  0.000000E+00 |  0.3525049814 |         nadir\n"
     ]
    },
    {
     "name": "stderr",
     "output_type": "stream",
     "text": [
      "/home/yazan/Repositories/Personal/mcd-clip/venv/lib/python3.10/site-packages/pymoo/operators/crossover/sbx.py:42: RuntimeWarning: divide by zero encountered in power\n",
      "  alpha = 2.0 - np.power(beta, -(eta + 1.0))\n",
      "/home/yazan/Repositories/Personal/mcd-clip/venv/lib/python3.10/site-packages/pymoo/operators/crossover/sbx.py:47: RuntimeWarning: invalid value encountered in power\n",
      "  betaq[mask] = np.power((rand * alpha), (1.0 / (eta + 1.0)))[mask]\n"
     ]
    },
    {
     "name": "stdout",
     "output_type": "stream",
     "text": [
      "Found framed material columns ['Material=Steel', 'Material=Aluminum', 'Material=Titanium']\n",
      "Mapping Material=Steel to MATERIAL OHCLASS: STEEL\n",
      "Mapping Material=Aluminum to MATERIAL OHCLASS: ALUMINUM\n",
      "Mapping Material=Titanium to MATERIAL OHCLASS: TITANIUM\n",
      "Found framed material columns ['Material=Steel', 'Material=Aluminum', 'Material=Titanium']\n",
      "Mapping Material=Steel to MATERIAL OHCLASS: STEEL\n",
      "Mapping Material=Aluminum to MATERIAL OHCLASS: ALUMINUM\n",
      "Mapping Material=Titanium to MATERIAL OHCLASS: TITANIUM\n",
      "Found framed material columns ['Material=Steel', 'Material=Aluminum', 'Material=Titanium']\n",
      "Mapping Material=Steel to MATERIAL OHCLASS: STEEL\n",
      "Mapping Material=Aluminum to MATERIAL OHCLASS: ALUMINUM\n",
      "Mapping Material=Titanium to MATERIAL OHCLASS: TITANIUM\n"
     ]
    },
    {
     "name": "stderr",
     "output_type": "stream",
     "text": [
      "/home/yazan/Repositories/Personal/mcd-clip/src/mcd_clip/bike_rider_fit/fit_analysis/vectorizedangles.py:158: RuntimeWarning: invalid value encountered in arccos\n",
      "  alpha_1 = np.arccos((x_1 ** 2 - UL_s - x_2 ** 2) / (-2 * UL * x_2))\n",
      "/home/yazan/Repositories/Personal/mcd-clip/src/mcd_clip/bike_rider_fit/fit_analysis/demoanalysis.py:76: RuntimeWarning: invalid value encountered in arccos\n",
      "  Tksp2 = np.arccos(\n",
      "/home/yazan/Repositories/Personal/mcd-clip/src/mcd_clip/bike_rider_fit/fit_analysis/vectorizedangles.py:158: RuntimeWarning: invalid value encountered in arccos\n",
      "  alpha_1 = np.arccos((x_1 ** 2 - UL_s - x_2 ** 2) / (-2 * UL * x_2))\n"
     ]
    },
    {
     "name": "stdout",
     "output_type": "stream",
     "text": [
      "embedding_distance_1 | min 0.6899999976158142, max [1.1799999475479126],  average [0.7300000190734863]\n",
      "embedding_distance_2 | min 0.09000000357627869, max [1.6799999475479126],  average [0.14000000059604645]\n",
      "Validation result: fraction invalid [0.056]\n",
      "Validation result: fraction invalid [0.068]\n",
      "Validation result: fraction invalid [0.052]\n",
      "Validation result: fraction invalid [0.056]\n",
      "Validation result: fraction invalid [0.0]\n",
      "Validation result: fraction invalid [0.002]\n",
      "     3 |     1000 |    280 |  0.000000E+00 |  0.000000E+00 |  0.0542759697 |         ideal\n"
     ]
    },
    {
     "name": "stderr",
     "output_type": "stream",
     "text": [
      "/home/yazan/Repositories/Personal/mcd-clip/venv/lib/python3.10/site-packages/pymoo/operators/crossover/sbx.py:42: RuntimeWarning: divide by zero encountered in power\n",
      "  alpha = 2.0 - np.power(beta, -(eta + 1.0))\n",
      "/home/yazan/Repositories/Personal/mcd-clip/venv/lib/python3.10/site-packages/pymoo/operators/crossover/sbx.py:47: RuntimeWarning: invalid value encountered in power\n",
      "  betaq[mask] = np.power((rand * alpha), (1.0 / (eta + 1.0)))[mask]\n"
     ]
    },
    {
     "name": "stdout",
     "output_type": "stream",
     "text": [
      "Found framed material columns ['Material=Steel', 'Material=Aluminum', 'Material=Titanium']\n",
      "Mapping Material=Steel to MATERIAL OHCLASS: STEEL\n",
      "Mapping Material=Aluminum to MATERIAL OHCLASS: ALUMINUM\n",
      "Mapping Material=Titanium to MATERIAL OHCLASS: TITANIUM\n",
      "Found framed material columns ['Material=Steel', 'Material=Aluminum', 'Material=Titanium']\n",
      "Mapping Material=Steel to MATERIAL OHCLASS: STEEL\n",
      "Mapping Material=Aluminum to MATERIAL OHCLASS: ALUMINUM\n",
      "Mapping Material=Titanium to MATERIAL OHCLASS: TITANIUM\n"
     ]
    },
    {
     "name": "stderr",
     "output_type": "stream",
     "text": [
      "/home/yazan/Repositories/Personal/mcd-clip/src/mcd_clip/bike_rider_fit/fit_analysis/vectorizedangles.py:158: RuntimeWarning: invalid value encountered in arccos\n",
      "  alpha_1 = np.arccos((x_1 ** 2 - UL_s - x_2 ** 2) / (-2 * UL * x_2))\n",
      "/home/yazan/Repositories/Personal/mcd-clip/src/mcd_clip/bike_rider_fit/fit_analysis/demoanalysis.py:76: RuntimeWarning: invalid value encountered in arccos\n",
      "  Tksp2 = np.arccos(\n",
      "/home/yazan/Repositories/Personal/mcd-clip/src/mcd_clip/bike_rider_fit/fit_analysis/vectorizedangles.py:158: RuntimeWarning: invalid value encountered in arccos\n",
      "  alpha_1 = np.arccos((x_1 ** 2 - UL_s - x_2 ** 2) / (-2 * UL * x_2))\n"
     ]
    },
    {
     "name": "stdout",
     "output_type": "stream",
     "text": [
      "Found framed material columns ['Material=Steel', 'Material=Aluminum', 'Material=Titanium']\n",
      "Mapping Material=Steel to MATERIAL OHCLASS: STEEL\n",
      "Mapping Material=Aluminum to MATERIAL OHCLASS: ALUMINUM\n",
      "Mapping Material=Titanium to MATERIAL OHCLASS: TITANIUM\n",
      "embedding_distance_1 | min 0.6899999976158142, max [1.1799999475479126],  average [0.7400000095367432]\n",
      "embedding_distance_2 | min 0.09000000357627869, max [1.6699999570846558],  average [0.1599999964237213]\n",
      "Validation result: fraction invalid [0.058]\n",
      "Validation result: fraction invalid [0.06]\n",
      "Validation result: fraction invalid [0.082]\n",
      "Validation result: fraction invalid [0.08]\n",
      "Validation result: fraction invalid [0.0]\n",
      "Validation result: fraction invalid [0.002]\n",
      "     4 |     1500 |    301 |  0.000000E+00 |  0.000000E+00 |  0.0244419098 |         nadir\n"
     ]
    },
    {
     "name": "stderr",
     "output_type": "stream",
     "text": [
      "/home/yazan/Repositories/Personal/mcd-clip/venv/lib/python3.10/site-packages/pymoo/operators/crossover/sbx.py:42: RuntimeWarning: divide by zero encountered in power\n",
      "  alpha = 2.0 - np.power(beta, -(eta + 1.0))\n",
      "/home/yazan/Repositories/Personal/mcd-clip/venv/lib/python3.10/site-packages/pymoo/operators/crossover/sbx.py:47: RuntimeWarning: invalid value encountered in power\n",
      "  betaq[mask] = np.power((rand * alpha), (1.0 / (eta + 1.0)))[mask]\n"
     ]
    },
    {
     "name": "stdout",
     "output_type": "stream",
     "text": [
      "Found framed material columns ['Material=Steel', 'Material=Aluminum', 'Material=Titanium']\n",
      "Mapping Material=Steel to MATERIAL OHCLASS: STEEL\n",
      "Mapping Material=Aluminum to MATERIAL OHCLASS: ALUMINUM\n",
      "Mapping Material=Titanium to MATERIAL OHCLASS: TITANIUM\n",
      "Found framed material columns ['Material=Steel', 'Material=Aluminum', 'Material=Titanium']\n",
      "Mapping Material=Steel to MATERIAL OHCLASS: STEEL\n",
      "Mapping Material=Aluminum to MATERIAL OHCLASS: ALUMINUM\n",
      "Mapping Material=Titanium to MATERIAL OHCLASS: TITANIUM\n"
     ]
    },
    {
     "name": "stderr",
     "output_type": "stream",
     "text": [
      "/home/yazan/Repositories/Personal/mcd-clip/src/mcd_clip/bike_rider_fit/fit_analysis/vectorizedangles.py:158: RuntimeWarning: invalid value encountered in arccos\n",
      "  alpha_1 = np.arccos((x_1 ** 2 - UL_s - x_2 ** 2) / (-2 * UL * x_2))\n",
      "/home/yazan/Repositories/Personal/mcd-clip/src/mcd_clip/bike_rider_fit/fit_analysis/demoanalysis.py:76: RuntimeWarning: invalid value encountered in arccos\n",
      "  Tksp2 = np.arccos(\n",
      "/home/yazan/Repositories/Personal/mcd-clip/src/mcd_clip/bike_rider_fit/fit_analysis/vectorizedangles.py:158: RuntimeWarning: invalid value encountered in arccos\n",
      "  alpha_1 = np.arccos((x_1 ** 2 - UL_s - x_2 ** 2) / (-2 * UL * x_2))\n"
     ]
    },
    {
     "name": "stdout",
     "output_type": "stream",
     "text": [
      "Found framed material columns ['Material=Steel', 'Material=Aluminum', 'Material=Titanium']\n",
      "Mapping Material=Steel to MATERIAL OHCLASS: STEEL\n",
      "Mapping Material=Aluminum to MATERIAL OHCLASS: ALUMINUM\n",
      "Mapping Material=Titanium to MATERIAL OHCLASS: TITANIUM\n",
      "embedding_distance_1 | min 0.6899999976158142, max [1.1699999570846558],  average [0.7300000190734863]\n",
      "embedding_distance_2 | min 0.09000000357627869, max [1.6699999570846558],  average [0.14000000059604645]\n",
      "Validation result: fraction invalid [0.046]\n",
      "Validation result: fraction invalid [0.05]\n",
      "Validation result: fraction invalid [0.072]\n",
      "Validation result: fraction invalid [0.058]\n",
      "Validation result: fraction invalid [0.0]\n",
      "Validation result: fraction invalid [0.002]\n",
      "     5 |     2000 |    340 |  0.000000E+00 |  0.000000E+00 |  0.0953368514 |         ideal\n"
     ]
    },
    {
     "name": "stderr",
     "output_type": "stream",
     "text": [
      "/home/yazan/Repositories/Personal/mcd-clip/venv/lib/python3.10/site-packages/pymoo/operators/crossover/sbx.py:42: RuntimeWarning: divide by zero encountered in power\n",
      "  alpha = 2.0 - np.power(beta, -(eta + 1.0))\n",
      "/home/yazan/Repositories/Personal/mcd-clip/venv/lib/python3.10/site-packages/pymoo/operators/crossover/sbx.py:47: RuntimeWarning: invalid value encountered in power\n",
      "  betaq[mask] = np.power((rand * alpha), (1.0 / (eta + 1.0)))[mask]\n"
     ]
    },
    {
     "name": "stdout",
     "output_type": "stream",
     "text": [
      "Found framed material columns ['Material=Steel', 'Material=Aluminum', 'Material=Titanium']\n",
      "Mapping Material=Steel to MATERIAL OHCLASS: STEEL\n",
      "Mapping Material=Aluminum to MATERIAL OHCLASS: ALUMINUM\n",
      "Mapping Material=Titanium to MATERIAL OHCLASS: TITANIUM\n",
      "Found framed material columns ['Material=Steel', 'Material=Aluminum', 'Material=Titanium']\n",
      "Mapping Material=Steel to MATERIAL OHCLASS: STEEL\n",
      "Mapping Material=Aluminum to MATERIAL OHCLASS: ALUMINUM\n",
      "Mapping Material=Titanium to MATERIAL OHCLASS: TITANIUM\n"
     ]
    },
    {
     "name": "stderr",
     "output_type": "stream",
     "text": [
      "/home/yazan/Repositories/Personal/mcd-clip/src/mcd_clip/bike_rider_fit/fit_analysis/vectorizedangles.py:158: RuntimeWarning: invalid value encountered in arccos\n",
      "  alpha_1 = np.arccos((x_1 ** 2 - UL_s - x_2 ** 2) / (-2 * UL * x_2))\n",
      "/home/yazan/Repositories/Personal/mcd-clip/src/mcd_clip/bike_rider_fit/fit_analysis/demoanalysis.py:76: RuntimeWarning: invalid value encountered in arccos\n",
      "  Tksp2 = np.arccos(\n",
      "/home/yazan/Repositories/Personal/mcd-clip/src/mcd_clip/bike_rider_fit/fit_analysis/vectorizedangles.py:158: RuntimeWarning: invalid value encountered in arccos\n",
      "  alpha_1 = np.arccos((x_1 ** 2 - UL_s - x_2 ** 2) / (-2 * UL * x_2))\n"
     ]
    },
    {
     "name": "stdout",
     "output_type": "stream",
     "text": [
      "Found framed material columns ['Material=Steel', 'Material=Aluminum', 'Material=Titanium']\n",
      "Mapping Material=Steel to MATERIAL OHCLASS: STEEL\n",
      "Mapping Material=Aluminum to MATERIAL OHCLASS: ALUMINUM\n",
      "Mapping Material=Titanium to MATERIAL OHCLASS: TITANIUM\n",
      "embedding_distance_1 | min 0.699999988079071, max [1.1799999475479126],  average [0.7400000095367432]\n",
      "embedding_distance_2 | min 0.10000000149011612, max [1.6799999475479126],  average [0.17000000178813934]\n",
      "Validation result: fraction invalid [0.04]\n",
      "Validation result: fraction invalid [0.07]\n",
      "Validation result: fraction invalid [0.078]\n",
      "Validation result: fraction invalid [0.062]\n",
      "Validation result: fraction invalid [0.0]\n",
      "Validation result: fraction invalid [0.008]\n",
      "     6 |     2500 |    360 |  0.000000E+00 |  0.000000E+00 |  0.0232245002 |             f\n"
     ]
    },
    {
     "name": "stderr",
     "output_type": "stream",
     "text": [
      "/home/yazan/Repositories/Personal/mcd-clip/venv/lib/python3.10/site-packages/pymoo/operators/crossover/sbx.py:42: RuntimeWarning: divide by zero encountered in power\n",
      "  alpha = 2.0 - np.power(beta, -(eta + 1.0))\n",
      "/home/yazan/Repositories/Personal/mcd-clip/venv/lib/python3.10/site-packages/pymoo/operators/crossover/sbx.py:47: RuntimeWarning: invalid value encountered in power\n",
      "  betaq[mask] = np.power((rand * alpha), (1.0 / (eta + 1.0)))[mask]\n"
     ]
    },
    {
     "name": "stdout",
     "output_type": "stream",
     "text": [
      "Found framed material columns ['Material=Steel', 'Material=Aluminum', 'Material=Titanium']\n",
      "Mapping Material=Steel to MATERIAL OHCLASS: STEEL\n",
      "Mapping Material=Aluminum to MATERIAL OHCLASS: ALUMINUM\n",
      "Mapping Material=Titanium to MATERIAL OHCLASS: TITANIUM\n",
      "Found framed material columns ['Material=Steel', 'Material=Aluminum', 'Material=Titanium']\n",
      "Mapping Material=Steel to MATERIAL OHCLASS: STEEL\n",
      "Mapping Material=Aluminum to MATERIAL OHCLASS: ALUMINUM\n",
      "Mapping Material=Titanium to MATERIAL OHCLASS: TITANIUM\n"
     ]
    },
    {
     "name": "stderr",
     "output_type": "stream",
     "text": [
      "/home/yazan/Repositories/Personal/mcd-clip/src/mcd_clip/bike_rider_fit/fit_analysis/vectorizedangles.py:158: RuntimeWarning: invalid value encountered in arccos\n",
      "  alpha_1 = np.arccos((x_1 ** 2 - UL_s - x_2 ** 2) / (-2 * UL * x_2))\n",
      "/home/yazan/Repositories/Personal/mcd-clip/src/mcd_clip/bike_rider_fit/fit_analysis/demoanalysis.py:76: RuntimeWarning: invalid value encountered in arccos\n",
      "  Tksp2 = np.arccos(\n",
      "/home/yazan/Repositories/Personal/mcd-clip/src/mcd_clip/bike_rider_fit/fit_analysis/vectorizedangles.py:158: RuntimeWarning: invalid value encountered in arccos\n",
      "  alpha_1 = np.arccos((x_1 ** 2 - UL_s - x_2 ** 2) / (-2 * UL * x_2))\n"
     ]
    },
    {
     "name": "stdout",
     "output_type": "stream",
     "text": [
      "Found framed material columns ['Material=Steel', 'Material=Aluminum', 'Material=Titanium']\n",
      "Mapping Material=Steel to MATERIAL OHCLASS: STEEL\n",
      "Mapping Material=Aluminum to MATERIAL OHCLASS: ALUMINUM\n",
      "Mapping Material=Titanium to MATERIAL OHCLASS: TITANIUM\n",
      "embedding_distance_1 | min 0.6899999976158142, max [1.1799999475479126],  average [0.7300000190734863]\n",
      "embedding_distance_2 | min 0.07999999821186066, max [1.690000057220459],  average [0.15000000596046448]\n",
      "Validation result: fraction invalid [0.04]\n",
      "Validation result: fraction invalid [0.056]\n",
      "Validation result: fraction invalid [0.066]\n",
      "Validation result: fraction invalid [0.058]\n",
      "Validation result: fraction invalid [0.0]\n",
      "Validation result: fraction invalid [0.006]\n",
      "     7 |     3000 |    389 |  0.000000E+00 |  0.000000E+00 |  0.0233055675 |         ideal\n"
     ]
    },
    {
     "name": "stderr",
     "output_type": "stream",
     "text": [
      "/home/yazan/Repositories/Personal/mcd-clip/venv/lib/python3.10/site-packages/pymoo/operators/crossover/sbx.py:42: RuntimeWarning: divide by zero encountered in power\n",
      "  alpha = 2.0 - np.power(beta, -(eta + 1.0))\n",
      "/home/yazan/Repositories/Personal/mcd-clip/venv/lib/python3.10/site-packages/pymoo/operators/crossover/sbx.py:47: RuntimeWarning: invalid value encountered in power\n",
      "  betaq[mask] = np.power((rand * alpha), (1.0 / (eta + 1.0)))[mask]\n"
     ]
    },
    {
     "name": "stdout",
     "output_type": "stream",
     "text": [
      "Found framed material columns ['Material=Steel', 'Material=Aluminum', 'Material=Titanium']\n",
      "Mapping Material=Steel to MATERIAL OHCLASS: STEEL\n",
      "Mapping Material=Aluminum to MATERIAL OHCLASS: ALUMINUM\n",
      "Mapping Material=Titanium to MATERIAL OHCLASS: TITANIUM\n",
      "Found framed material columns ['Material=Steel', 'Material=Aluminum', 'Material=Titanium']\n",
      "Mapping Material=Steel to MATERIAL OHCLASS: STEEL\n",
      "Mapping Material=Aluminum to MATERIAL OHCLASS: ALUMINUM\n",
      "Mapping Material=Titanium to MATERIAL OHCLASS: TITANIUM\n",
      "Found framed material columns ['Material=Steel', 'Material=Aluminum', 'Material=Titanium']\n",
      "Mapping Material=Steel to MATERIAL OHCLASS: STEEL\n",
      "Mapping Material=Aluminum to MATERIAL OHCLASS: ALUMINUM\n",
      "Mapping Material=Titanium to MATERIAL OHCLASS: TITANIUM\n",
      "embedding_distance_1 | min 0.6899999976158142, max [1.1699999570846558],  average [0.7200000286102295]\n",
      "embedding_distance_2 | min 0.09000000357627869, max [1.659999966621399],  average [0.12999999523162842]\n"
     ]
    },
    {
     "name": "stderr",
     "output_type": "stream",
     "text": [
      "/home/yazan/Repositories/Personal/mcd-clip/src/mcd_clip/bike_rider_fit/fit_analysis/vectorizedangles.py:158: RuntimeWarning: invalid value encountered in arccos\n",
      "  alpha_1 = np.arccos((x_1 ** 2 - UL_s - x_2 ** 2) / (-2 * UL * x_2))\n",
      "/home/yazan/Repositories/Personal/mcd-clip/src/mcd_clip/bike_rider_fit/fit_analysis/demoanalysis.py:76: RuntimeWarning: invalid value encountered in arccos\n",
      "  Tksp2 = np.arccos(\n",
      "/home/yazan/Repositories/Personal/mcd-clip/src/mcd_clip/bike_rider_fit/fit_analysis/vectorizedangles.py:158: RuntimeWarning: invalid value encountered in arccos\n",
      "  alpha_1 = np.arccos((x_1 ** 2 - UL_s - x_2 ** 2) / (-2 * UL * x_2))\n"
     ]
    },
    {
     "name": "stdout",
     "output_type": "stream",
     "text": [
      "Validation result: fraction invalid [0.072]\n",
      "Validation result: fraction invalid [0.074]\n",
      "Validation result: fraction invalid [0.064]\n",
      "Validation result: fraction invalid [0.046]\n",
      "Validation result: fraction invalid [0.0]\n",
      "Validation result: fraction invalid [0.002]\n",
      "     8 |     3500 |    412 |  0.000000E+00 |  0.000000E+00 |  0.0056886702 |         ideal\n"
     ]
    },
    {
     "name": "stderr",
     "output_type": "stream",
     "text": [
      "/home/yazan/Repositories/Personal/mcd-clip/venv/lib/python3.10/site-packages/pymoo/operators/crossover/sbx.py:42: RuntimeWarning: divide by zero encountered in power\n",
      "  alpha = 2.0 - np.power(beta, -(eta + 1.0))\n",
      "/home/yazan/Repositories/Personal/mcd-clip/venv/lib/python3.10/site-packages/pymoo/operators/crossover/sbx.py:47: RuntimeWarning: invalid value encountered in power\n",
      "  betaq[mask] = np.power((rand * alpha), (1.0 / (eta + 1.0)))[mask]\n"
     ]
    },
    {
     "name": "stdout",
     "output_type": "stream",
     "text": [
      "Found framed material columns ['Material=Steel', 'Material=Aluminum', 'Material=Titanium']\n",
      "Mapping Material=Steel to MATERIAL OHCLASS: STEEL\n",
      "Mapping Material=Aluminum to MATERIAL OHCLASS: ALUMINUM\n",
      "Mapping Material=Titanium to MATERIAL OHCLASS: TITANIUM\n",
      "Found framed material columns ['Material=Steel', 'Material=Aluminum', 'Material=Titanium']\n",
      "Mapping Material=Steel to MATERIAL OHCLASS: STEEL\n",
      "Mapping Material=Aluminum to MATERIAL OHCLASS: ALUMINUM\n",
      "Mapping Material=Titanium to MATERIAL OHCLASS: TITANIUM\n",
      "Found framed material columns ['Material=Steel', 'Material=Aluminum', 'Material=Titanium']\n",
      "Mapping Material=Steel to MATERIAL OHCLASS: STEEL\n",
      "Mapping Material=Aluminum to MATERIAL OHCLASS: ALUMINUM\n",
      "Mapping Material=Titanium to MATERIAL OHCLASS: TITANIUM\n"
     ]
    },
    {
     "name": "stderr",
     "output_type": "stream",
     "text": [
      "/home/yazan/Repositories/Personal/mcd-clip/src/mcd_clip/bike_rider_fit/fit_analysis/vectorizedangles.py:158: RuntimeWarning: invalid value encountered in arccos\n",
      "  alpha_1 = np.arccos((x_1 ** 2 - UL_s - x_2 ** 2) / (-2 * UL * x_2))\n",
      "/home/yazan/Repositories/Personal/mcd-clip/src/mcd_clip/bike_rider_fit/fit_analysis/demoanalysis.py:76: RuntimeWarning: invalid value encountered in arccos\n",
      "  Tksp2 = np.arccos(\n",
      "/home/yazan/Repositories/Personal/mcd-clip/src/mcd_clip/bike_rider_fit/fit_analysis/vectorizedangles.py:158: RuntimeWarning: invalid value encountered in arccos\n",
      "  alpha_1 = np.arccos((x_1 ** 2 - UL_s - x_2 ** 2) / (-2 * UL * x_2))\n"
     ]
    },
    {
     "name": "stdout",
     "output_type": "stream",
     "text": [
      "embedding_distance_1 | min 0.699999988079071, max [1.1799999475479126],  average [0.7400000095367432]\n",
      "embedding_distance_2 | min 0.10000000149011612, max [1.6799999475479126],  average [0.18000000715255737]\n",
      "Validation result: fraction invalid [0.068]\n",
      "Validation result: fraction invalid [0.08]\n",
      "Validation result: fraction invalid [0.056]\n",
      "Validation result: fraction invalid [0.088]\n",
      "Validation result: fraction invalid [0.0]\n",
      "Validation result: fraction invalid [0.002]\n",
      "     9 |     4000 |    393 |  0.000000E+00 |  0.000000E+00 |  0.0646065804 |         nadir\n"
     ]
    },
    {
     "name": "stderr",
     "output_type": "stream",
     "text": [
      "/home/yazan/Repositories/Personal/mcd-clip/venv/lib/python3.10/site-packages/pymoo/operators/crossover/sbx.py:42: RuntimeWarning: divide by zero encountered in power\n",
      "  alpha = 2.0 - np.power(beta, -(eta + 1.0))\n",
      "/home/yazan/Repositories/Personal/mcd-clip/venv/lib/python3.10/site-packages/pymoo/operators/crossover/sbx.py:47: RuntimeWarning: invalid value encountered in power\n",
      "  betaq[mask] = np.power((rand * alpha), (1.0 / (eta + 1.0)))[mask]\n"
     ]
    },
    {
     "name": "stdout",
     "output_type": "stream",
     "text": [
      "Found framed material columns ['Material=Steel', 'Material=Aluminum', 'Material=Titanium']\n",
      "Mapping Material=Steel to MATERIAL OHCLASS: STEEL\n",
      "Mapping Material=Aluminum to MATERIAL OHCLASS: ALUMINUM\n",
      "Mapping Material=Titanium to MATERIAL OHCLASS: TITANIUM\n",
      "Found framed material columns ['Material=Steel', 'Material=Aluminum', 'Material=Titanium']\n",
      "Mapping Material=Steel to MATERIAL OHCLASS: STEEL\n",
      "Mapping Material=Aluminum to MATERIAL OHCLASS: ALUMINUM\n",
      "Mapping Material=Titanium to MATERIAL OHCLASS: TITANIUM\n",
      "Found framed material columns ['Material=Steel', 'Material=Aluminum', 'Material=Titanium']\n",
      "Mapping Material=Steel to MATERIAL OHCLASS: STEEL\n",
      "Mapping Material=Aluminum to MATERIAL OHCLASS: ALUMINUM\n",
      "Mapping Material=Titanium to MATERIAL OHCLASS: TITANIUM\n"
     ]
    },
    {
     "name": "stderr",
     "output_type": "stream",
     "text": [
      "/home/yazan/Repositories/Personal/mcd-clip/src/mcd_clip/bike_rider_fit/fit_analysis/vectorizedangles.py:158: RuntimeWarning: invalid value encountered in arccos\n",
      "  alpha_1 = np.arccos((x_1 ** 2 - UL_s - x_2 ** 2) / (-2 * UL * x_2))\n",
      "/home/yazan/Repositories/Personal/mcd-clip/src/mcd_clip/bike_rider_fit/fit_analysis/demoanalysis.py:76: RuntimeWarning: invalid value encountered in arccos\n",
      "  Tksp2 = np.arccos(\n",
      "/home/yazan/Repositories/Personal/mcd-clip/src/mcd_clip/bike_rider_fit/fit_analysis/vectorizedangles.py:158: RuntimeWarning: invalid value encountered in arccos\n",
      "  alpha_1 = np.arccos((x_1 ** 2 - UL_s - x_2 ** 2) / (-2 * UL * x_2))\n"
     ]
    },
    {
     "name": "stdout",
     "output_type": "stream",
     "text": [
      "embedding_distance_1 | min 0.699999988079071, max [1.1799999475479126],  average [0.7300000190734863]\n",
      "embedding_distance_2 | min 0.07999999821186066, max [1.6699999570846558],  average [0.15000000596046448]\n",
      "Validation result: fraction invalid [0.068]\n",
      "Validation result: fraction invalid [0.06]\n",
      "Validation result: fraction invalid [0.088]\n",
      "Validation result: fraction invalid [0.062]\n",
      "Validation result: fraction invalid [0.0]\n",
      "Validation result: fraction invalid [0.004]\n",
      "    10 |     4500 |    398 |  0.000000E+00 |  0.000000E+00 |  0.0140350645 |         nadir\n"
     ]
    },
    {
     "name": "stderr",
     "output_type": "stream",
     "text": [
      "/home/yazan/Repositories/Personal/mcd-clip/venv/lib/python3.10/site-packages/pymoo/operators/crossover/sbx.py:42: RuntimeWarning: divide by zero encountered in power\n",
      "  alpha = 2.0 - np.power(beta, -(eta + 1.0))\n",
      "/home/yazan/Repositories/Personal/mcd-clip/venv/lib/python3.10/site-packages/pymoo/operators/crossover/sbx.py:47: RuntimeWarning: invalid value encountered in power\n",
      "  betaq[mask] = np.power((rand * alpha), (1.0 / (eta + 1.0)))[mask]\n",
      "/home/yazan/Repositories/Personal/mcd-clip/venv/lib/python3.10/site-packages/pymoo/operators/mutation/pm.py:45: RuntimeWarning: invalid value encountered in power\n",
      "  d = np.power(val, mut_pow) - 1.0\n"
     ]
    },
    {
     "name": "stdout",
     "output_type": "stream",
     "text": [
      "Found framed material columns ['Material=Steel', 'Material=Aluminum', 'Material=Titanium']\n",
      "Mapping Material=Steel to MATERIAL OHCLASS: STEEL\n",
      "Mapping Material=Aluminum to MATERIAL OHCLASS: ALUMINUM\n",
      "Mapping Material=Titanium to MATERIAL OHCLASS: TITANIUM\n",
      "Found framed material columns ['Material=Steel', 'Material=Aluminum', 'Material=Titanium']\n",
      "Mapping Material=Steel to MATERIAL OHCLASS: STEEL\n",
      "Mapping Material=Aluminum to MATERIAL OHCLASS: ALUMINUM\n",
      "Mapping Material=Titanium to MATERIAL OHCLASS: TITANIUM\n",
      "Found framed material columns ['Material=Steel', 'Material=Aluminum', 'Material=Titanium']\n",
      "Mapping Material=Steel to MATERIAL OHCLASS: STEEL\n",
      "Mapping Material=Aluminum to MATERIAL OHCLASS: ALUMINUM\n",
      "Mapping Material=Titanium to MATERIAL OHCLASS: TITANIUM\n"
     ]
    },
    {
     "name": "stderr",
     "output_type": "stream",
     "text": [
      "/home/yazan/Repositories/Personal/mcd-clip/src/mcd_clip/bike_rider_fit/fit_analysis/vectorizedangles.py:158: RuntimeWarning: invalid value encountered in arccos\n",
      "  alpha_1 = np.arccos((x_1 ** 2 - UL_s - x_2 ** 2) / (-2 * UL * x_2))\n",
      "/home/yazan/Repositories/Personal/mcd-clip/src/mcd_clip/bike_rider_fit/fit_analysis/demoanalysis.py:76: RuntimeWarning: invalid value encountered in arccos\n",
      "  Tksp2 = np.arccos(\n",
      "/home/yazan/Repositories/Personal/mcd-clip/src/mcd_clip/bike_rider_fit/fit_analysis/vectorizedangles.py:158: RuntimeWarning: invalid value encountered in arccos\n",
      "  alpha_1 = np.arccos((x_1 ** 2 - UL_s - x_2 ** 2) / (-2 * UL * x_2))\n"
     ]
    },
    {
     "name": "stdout",
     "output_type": "stream",
     "text": [
      "embedding_distance_1 | min 0.6899999976158142, max [1.1799999475479126],  average [0.7300000190734863]\n",
      "embedding_distance_2 | min 0.07999999821186066, max [1.6699999570846558],  average [0.15000000596046448]\n",
      "Validation result: fraction invalid [0.066]\n",
      "Validation result: fraction invalid [0.056]\n",
      "Validation result: fraction invalid [0.092]\n",
      "Validation result: fraction invalid [0.064]\n",
      "Validation result: fraction invalid [0.0]\n",
      "Validation result: fraction invalid [0.0]\n",
      "    11 |     5000 |    424 |  0.000000E+00 |  0.000000E+00 |  0.0080191628 |             f\n"
     ]
    },
    {
     "name": "stderr",
     "output_type": "stream",
     "text": [
      "/home/yazan/Repositories/Personal/mcd-clip/venv/lib/python3.10/site-packages/pymoo/operators/crossover/sbx.py:42: RuntimeWarning: divide by zero encountered in power\n",
      "  alpha = 2.0 - np.power(beta, -(eta + 1.0))\n",
      "/home/yazan/Repositories/Personal/mcd-clip/venv/lib/python3.10/site-packages/pymoo/operators/crossover/sbx.py:47: RuntimeWarning: invalid value encountered in power\n",
      "  betaq[mask] = np.power((rand * alpha), (1.0 / (eta + 1.0)))[mask]\n"
     ]
    },
    {
     "name": "stdout",
     "output_type": "stream",
     "text": [
      "Found framed material columns ['Material=Steel', 'Material=Aluminum', 'Material=Titanium']\n",
      "Mapping Material=Steel to MATERIAL OHCLASS: STEEL\n",
      "Mapping Material=Aluminum to MATERIAL OHCLASS: ALUMINUM\n",
      "Mapping Material=Titanium to MATERIAL OHCLASS: TITANIUM\n",
      "Found framed material columns ['Material=Steel', 'Material=Aluminum', 'Material=Titanium']\n",
      "Mapping Material=Steel to MATERIAL OHCLASS: STEEL\n",
      "Mapping Material=Aluminum to MATERIAL OHCLASS: ALUMINUM\n",
      "Mapping Material=Titanium to MATERIAL OHCLASS: TITANIUM\n",
      "Found framed material columns ['Material=Steel', 'Material=Aluminum', 'Material=Titanium']\n",
      "Mapping Material=Steel to MATERIAL OHCLASS: STEEL\n",
      "Mapping Material=Aluminum to MATERIAL OHCLASS: ALUMINUM\n",
      "Mapping Material=Titanium to MATERIAL OHCLASS: TITANIUM\n"
     ]
    },
    {
     "name": "stderr",
     "output_type": "stream",
     "text": [
      "/home/yazan/Repositories/Personal/mcd-clip/src/mcd_clip/bike_rider_fit/fit_analysis/vectorizedangles.py:158: RuntimeWarning: invalid value encountered in arccos\n",
      "  alpha_1 = np.arccos((x_1 ** 2 - UL_s - x_2 ** 2) / (-2 * UL * x_2))\n",
      "/home/yazan/Repositories/Personal/mcd-clip/src/mcd_clip/bike_rider_fit/fit_analysis/demoanalysis.py:76: RuntimeWarning: invalid value encountered in arccos\n",
      "  Tksp2 = np.arccos(\n",
      "/home/yazan/Repositories/Personal/mcd-clip/src/mcd_clip/bike_rider_fit/fit_analysis/vectorizedangles.py:158: RuntimeWarning: invalid value encountered in arccos\n",
      "  alpha_1 = np.arccos((x_1 ** 2 - UL_s - x_2 ** 2) / (-2 * UL * x_2))\n"
     ]
    },
    {
     "name": "stdout",
     "output_type": "stream",
     "text": [
      "embedding_distance_1 | min 0.6899999976158142, max [1.1799999475479126],  average [0.7300000190734863]\n",
      "embedding_distance_2 | min 0.09000000357627869, max [1.690000057220459],  average [0.1599999964237213]\n",
      "Validation result: fraction invalid [0.074]\n",
      "Validation result: fraction invalid [0.076]\n",
      "Validation result: fraction invalid [0.08]\n",
      "Validation result: fraction invalid [0.074]\n",
      "Validation result: fraction invalid [0.0]\n",
      "Validation result: fraction invalid [0.002]\n",
      "    12 |     5500 |    426 |  0.000000E+00 |  0.000000E+00 |  0.0056868494 |             f\n"
     ]
    },
    {
     "name": "stderr",
     "output_type": "stream",
     "text": [
      "/home/yazan/Repositories/Personal/mcd-clip/venv/lib/python3.10/site-packages/pymoo/operators/crossover/sbx.py:42: RuntimeWarning: divide by zero encountered in power\n",
      "  alpha = 2.0 - np.power(beta, -(eta + 1.0))\n",
      "/home/yazan/Repositories/Personal/mcd-clip/venv/lib/python3.10/site-packages/pymoo/operators/crossover/sbx.py:47: RuntimeWarning: invalid value encountered in power\n",
      "  betaq[mask] = np.power((rand * alpha), (1.0 / (eta + 1.0)))[mask]\n"
     ]
    },
    {
     "name": "stdout",
     "output_type": "stream",
     "text": [
      "Found framed material columns ['Material=Steel', 'Material=Aluminum', 'Material=Titanium']\n",
      "Mapping Material=Steel to MATERIAL OHCLASS: STEEL\n",
      "Mapping Material=Aluminum to MATERIAL OHCLASS: ALUMINUM\n",
      "Mapping Material=Titanium to MATERIAL OHCLASS: TITANIUM\n",
      "Found framed material columns ['Material=Steel', 'Material=Aluminum', 'Material=Titanium']\n",
      "Mapping Material=Steel to MATERIAL OHCLASS: STEEL\n",
      "Mapping Material=Aluminum to MATERIAL OHCLASS: ALUMINUM\n",
      "Mapping Material=Titanium to MATERIAL OHCLASS: TITANIUM\n"
     ]
    },
    {
     "name": "stderr",
     "output_type": "stream",
     "text": [
      "/home/yazan/Repositories/Personal/mcd-clip/src/mcd_clip/bike_rider_fit/fit_analysis/vectorizedangles.py:158: RuntimeWarning: invalid value encountered in arccos\n",
      "  alpha_1 = np.arccos((x_1 ** 2 - UL_s - x_2 ** 2) / (-2 * UL * x_2))\n",
      "/home/yazan/Repositories/Personal/mcd-clip/src/mcd_clip/bike_rider_fit/fit_analysis/demoanalysis.py:76: RuntimeWarning: invalid value encountered in arccos\n",
      "  Tksp2 = np.arccos(\n",
      "/home/yazan/Repositories/Personal/mcd-clip/src/mcd_clip/bike_rider_fit/fit_analysis/vectorizedangles.py:158: RuntimeWarning: invalid value encountered in arccos\n",
      "  alpha_1 = np.arccos((x_1 ** 2 - UL_s - x_2 ** 2) / (-2 * UL * x_2))\n"
     ]
    },
    {
     "name": "stdout",
     "output_type": "stream",
     "text": [
      "Found framed material columns ['Material=Steel', 'Material=Aluminum', 'Material=Titanium']\n",
      "Mapping Material=Steel to MATERIAL OHCLASS: STEEL\n",
      "Mapping Material=Aluminum to MATERIAL OHCLASS: ALUMINUM\n",
      "Mapping Material=Titanium to MATERIAL OHCLASS: TITANIUM\n",
      "embedding_distance_1 | min 0.6899999976158142, max [1.1799999475479126],  average [0.7300000190734863]\n",
      "embedding_distance_2 | min 0.07999999821186066, max [1.690000057220459],  average [0.14000000059604645]\n",
      "Validation result: fraction invalid [0.056]\n",
      "Validation result: fraction invalid [0.066]\n",
      "Validation result: fraction invalid [0.072]\n",
      "Validation result: fraction invalid [0.062]\n",
      "Validation result: fraction invalid [0.0]\n",
      "Validation result: fraction invalid [0.002]\n",
      "    13 |     6000 |    468 |  0.000000E+00 |  0.000000E+00 |  0.0090074476 |             f\n"
     ]
    },
    {
     "name": "stderr",
     "output_type": "stream",
     "text": [
      "/home/yazan/Repositories/Personal/mcd-clip/venv/lib/python3.10/site-packages/pymoo/operators/crossover/sbx.py:42: RuntimeWarning: divide by zero encountered in power\n",
      "  alpha = 2.0 - np.power(beta, -(eta + 1.0))\n",
      "/home/yazan/Repositories/Personal/mcd-clip/venv/lib/python3.10/site-packages/pymoo/operators/crossover/sbx.py:47: RuntimeWarning: invalid value encountered in power\n",
      "  betaq[mask] = np.power((rand * alpha), (1.0 / (eta + 1.0)))[mask]\n"
     ]
    },
    {
     "name": "stdout",
     "output_type": "stream",
     "text": [
      "Found framed material columns ['Material=Steel', 'Material=Aluminum', 'Material=Titanium']\n",
      "Mapping Material=Steel to MATERIAL OHCLASS: STEEL\n",
      "Mapping Material=Aluminum to MATERIAL OHCLASS: ALUMINUM\n",
      "Mapping Material=Titanium to MATERIAL OHCLASS: TITANIUM\n",
      "Found framed material columns ['Material=Steel', 'Material=Aluminum', 'Material=Titanium']\n",
      "Mapping Material=Steel to MATERIAL OHCLASS: STEEL\n",
      "Mapping Material=Aluminum to MATERIAL OHCLASS: ALUMINUM\n",
      "Mapping Material=Titanium to MATERIAL OHCLASS: TITANIUM\n",
      "Found framed material columns ['Material=Steel', 'Material=Aluminum', 'Material=Titanium']\n",
      "Mapping Material=Steel to MATERIAL OHCLASS: STEEL\n",
      "Mapping Material=Aluminum to MATERIAL OHCLASS: ALUMINUM\n",
      "Mapping Material=Titanium to MATERIAL OHCLASS: TITANIUM\n"
     ]
    },
    {
     "name": "stderr",
     "output_type": "stream",
     "text": [
      "/home/yazan/Repositories/Personal/mcd-clip/src/mcd_clip/bike_rider_fit/fit_analysis/vectorizedangles.py:158: RuntimeWarning: invalid value encountered in arccos\n",
      "  alpha_1 = np.arccos((x_1 ** 2 - UL_s - x_2 ** 2) / (-2 * UL * x_2))\n",
      "/home/yazan/Repositories/Personal/mcd-clip/src/mcd_clip/bike_rider_fit/fit_analysis/demoanalysis.py:76: RuntimeWarning: invalid value encountered in arccos\n",
      "  Tksp2 = np.arccos(\n",
      "/home/yazan/Repositories/Personal/mcd-clip/src/mcd_clip/bike_rider_fit/fit_analysis/vectorizedangles.py:158: RuntimeWarning: invalid value encountered in arccos\n",
      "  alpha_1 = np.arccos((x_1 ** 2 - UL_s - x_2 ** 2) / (-2 * UL * x_2))\n"
     ]
    },
    {
     "name": "stdout",
     "output_type": "stream",
     "text": [
      "embedding_distance_1 | min 0.6899999976158142, max [1.149999976158142],  average [0.7200000286102295]\n",
      "embedding_distance_2 | min 0.07999999821186066, max [1.5700000524520874],  average [0.12999999523162842]\n",
      "Validation result: fraction invalid [0.07]\n",
      "Validation result: fraction invalid [0.074]\n",
      "Validation result: fraction invalid [0.066]\n",
      "Validation result: fraction invalid [0.056]\n",
      "Validation result: fraction invalid [0.0]\n",
      "Validation result: fraction invalid [0.002]\n",
      "    14 |     6500 |    494 |  0.000000E+00 |  0.000000E+00 |  0.2179615929 |         nadir\n"
     ]
    },
    {
     "name": "stderr",
     "output_type": "stream",
     "text": [
      "/home/yazan/Repositories/Personal/mcd-clip/venv/lib/python3.10/site-packages/pymoo/operators/crossover/sbx.py:42: RuntimeWarning: divide by zero encountered in power\n",
      "  alpha = 2.0 - np.power(beta, -(eta + 1.0))\n",
      "/home/yazan/Repositories/Personal/mcd-clip/venv/lib/python3.10/site-packages/pymoo/operators/crossover/sbx.py:47: RuntimeWarning: invalid value encountered in power\n",
      "  betaq[mask] = np.power((rand * alpha), (1.0 / (eta + 1.0)))[mask]\n"
     ]
    },
    {
     "name": "stdout",
     "output_type": "stream",
     "text": [
      "Found framed material columns ['Material=Steel', 'Material=Aluminum', 'Material=Titanium']\n",
      "Mapping Material=Steel to MATERIAL OHCLASS: STEEL\n",
      "Mapping Material=Aluminum to MATERIAL OHCLASS: ALUMINUM\n",
      "Mapping Material=Titanium to MATERIAL OHCLASS: TITANIUM\n",
      "Found framed material columns ['Material=Steel', 'Material=Aluminum', 'Material=Titanium']\n",
      "Mapping Material=Steel to MATERIAL OHCLASS: STEEL\n",
      "Mapping Material=Aluminum to MATERIAL OHCLASS: ALUMINUM\n",
      "Mapping Material=Titanium to MATERIAL OHCLASS: TITANIUM\n"
     ]
    },
    {
     "name": "stderr",
     "output_type": "stream",
     "text": [
      "/home/yazan/Repositories/Personal/mcd-clip/src/mcd_clip/bike_rider_fit/fit_analysis/vectorizedangles.py:158: RuntimeWarning: invalid value encountered in arccos\n",
      "  alpha_1 = np.arccos((x_1 ** 2 - UL_s - x_2 ** 2) / (-2 * UL * x_2))\n",
      "/home/yazan/Repositories/Personal/mcd-clip/src/mcd_clip/bike_rider_fit/fit_analysis/demoanalysis.py:76: RuntimeWarning: invalid value encountered in arccos\n",
      "  Tksp2 = np.arccos(\n",
      "/home/yazan/Repositories/Personal/mcd-clip/src/mcd_clip/bike_rider_fit/fit_analysis/vectorizedangles.py:158: RuntimeWarning: invalid value encountered in arccos\n",
      "  alpha_1 = np.arccos((x_1 ** 2 - UL_s - x_2 ** 2) / (-2 * UL * x_2))\n"
     ]
    },
    {
     "name": "stdout",
     "output_type": "stream",
     "text": [
      "Found framed material columns ['Material=Steel', 'Material=Aluminum', 'Material=Titanium']\n",
      "Mapping Material=Steel to MATERIAL OHCLASS: STEEL\n",
      "Mapping Material=Aluminum to MATERIAL OHCLASS: ALUMINUM\n",
      "Mapping Material=Titanium to MATERIAL OHCLASS: TITANIUM\n",
      "embedding_distance_1 | min 0.6899999976158142, max [1.1799999475479126],  average [0.7200000286102295]\n",
      "embedding_distance_2 | min 0.07999999821186066, max [1.6699999570846558],  average [0.14000000059604645]\n",
      "Validation result: fraction invalid [0.06]\n",
      "Validation result: fraction invalid [0.054]\n",
      "Validation result: fraction invalid [0.08]\n",
      "Validation result: fraction invalid [0.066]\n",
      "Validation result: fraction invalid [0.0]\n",
      "Validation result: fraction invalid [0.0]\n",
      "    15 |     7000 |    500 |  0.000000E+00 |  0.000000E+00 |  0.0074131516 |             f\n"
     ]
    },
    {
     "name": "stderr",
     "output_type": "stream",
     "text": [
      "/home/yazan/Repositories/Personal/mcd-clip/venv/lib/python3.10/site-packages/pymoo/operators/crossover/sbx.py:42: RuntimeWarning: divide by zero encountered in power\n",
      "  alpha = 2.0 - np.power(beta, -(eta + 1.0))\n",
      "/home/yazan/Repositories/Personal/mcd-clip/venv/lib/python3.10/site-packages/pymoo/operators/crossover/sbx.py:47: RuntimeWarning: invalid value encountered in power\n",
      "  betaq[mask] = np.power((rand * alpha), (1.0 / (eta + 1.0)))[mask]\n"
     ]
    },
    {
     "name": "stdout",
     "output_type": "stream",
     "text": [
      "Found framed material columns ['Material=Steel', 'Material=Aluminum', 'Material=Titanium']\n",
      "Mapping Material=Steel to MATERIAL OHCLASS: STEEL\n",
      "Mapping Material=Aluminum to MATERIAL OHCLASS: ALUMINUM\n",
      "Mapping Material=Titanium to MATERIAL OHCLASS: TITANIUM\n",
      "Found framed material columns ['Material=Steel', 'Material=Aluminum', 'Material=Titanium']\n",
      "Mapping Material=Steel to MATERIAL OHCLASS: STEEL\n",
      "Mapping Material=Aluminum to MATERIAL OHCLASS: ALUMINUM\n",
      "Mapping Material=Titanium to MATERIAL OHCLASS: TITANIUM\n",
      "Found framed material columns ['Material=Steel', 'Material=Aluminum', 'Material=Titanium']\n",
      "Mapping Material=Steel to MATERIAL OHCLASS: STEEL\n",
      "Mapping Material=Aluminum to MATERIAL OHCLASS: ALUMINUM\n",
      "Mapping Material=Titanium to MATERIAL OHCLASS: TITANIUM\n"
     ]
    },
    {
     "name": "stderr",
     "output_type": "stream",
     "text": [
      "/home/yazan/Repositories/Personal/mcd-clip/src/mcd_clip/bike_rider_fit/fit_analysis/vectorizedangles.py:158: RuntimeWarning: invalid value encountered in arccos\n",
      "  alpha_1 = np.arccos((x_1 ** 2 - UL_s - x_2 ** 2) / (-2 * UL * x_2))\n",
      "/home/yazan/Repositories/Personal/mcd-clip/src/mcd_clip/bike_rider_fit/fit_analysis/demoanalysis.py:76: RuntimeWarning: invalid value encountered in arccos\n",
      "  Tksp2 = np.arccos(\n",
      "/home/yazan/Repositories/Personal/mcd-clip/src/mcd_clip/bike_rider_fit/fit_analysis/vectorizedangles.py:158: RuntimeWarning: invalid value encountered in arccos\n",
      "  alpha_1 = np.arccos((x_1 ** 2 - UL_s - x_2 ** 2) / (-2 * UL * x_2))\n"
     ]
    },
    {
     "name": "stdout",
     "output_type": "stream",
     "text": [
      "embedding_distance_1 | min 0.6899999976158142, max [1.1799999475479126],  average [0.7300000190734863]\n",
      "embedding_distance_2 | min 0.09000000357627869, max [1.690000057220459],  average [0.1599999964237213]\n",
      "Validation result: fraction invalid [0.084]\n",
      "Validation result: fraction invalid [0.08]\n",
      "Validation result: fraction invalid [0.108]\n",
      "Validation result: fraction invalid [0.08]\n",
      "Validation result: fraction invalid [0.0]\n",
      "Validation result: fraction invalid [0.004]\n",
      "    16 |     7500 |    500 |  0.000000E+00 |  0.000000E+00 |  0.0056799143 |             f\n"
     ]
    },
    {
     "name": "stderr",
     "output_type": "stream",
     "text": [
      "/home/yazan/Repositories/Personal/mcd-clip/venv/lib/python3.10/site-packages/pymoo/operators/crossover/sbx.py:42: RuntimeWarning: divide by zero encountered in power\n",
      "  alpha = 2.0 - np.power(beta, -(eta + 1.0))\n",
      "/home/yazan/Repositories/Personal/mcd-clip/venv/lib/python3.10/site-packages/pymoo/operators/crossover/sbx.py:47: RuntimeWarning: invalid value encountered in power\n",
      "  betaq[mask] = np.power((rand * alpha), (1.0 / (eta + 1.0)))[mask]\n",
      "/home/yazan/Repositories/Personal/mcd-clip/venv/lib/python3.10/site-packages/pymoo/operators/mutation/pm.py:45: RuntimeWarning: invalid value encountered in power\n",
      "  d = np.power(val, mut_pow) - 1.0\n"
     ]
    },
    {
     "name": "stdout",
     "output_type": "stream",
     "text": [
      "Found framed material columns ['Material=Steel', 'Material=Aluminum', 'Material=Titanium']\n",
      "Mapping Material=Steel to MATERIAL OHCLASS: STEEL\n",
      "Mapping Material=Aluminum to MATERIAL OHCLASS: ALUMINUM\n",
      "Mapping Material=Titanium to MATERIAL OHCLASS: TITANIUM\n",
      "Found framed material columns ['Material=Steel', 'Material=Aluminum', 'Material=Titanium']\n",
      "Mapping Material=Steel to MATERIAL OHCLASS: STEEL\n",
      "Mapping Material=Aluminum to MATERIAL OHCLASS: ALUMINUM\n",
      "Mapping Material=Titanium to MATERIAL OHCLASS: TITANIUM\n"
     ]
    },
    {
     "name": "stderr",
     "output_type": "stream",
     "text": [
      "/home/yazan/Repositories/Personal/mcd-clip/src/mcd_clip/bike_rider_fit/fit_analysis/vectorizedangles.py:158: RuntimeWarning: invalid value encountered in arccos\n",
      "  alpha_1 = np.arccos((x_1 ** 2 - UL_s - x_2 ** 2) / (-2 * UL * x_2))\n",
      "/home/yazan/Repositories/Personal/mcd-clip/src/mcd_clip/bike_rider_fit/fit_analysis/demoanalysis.py:76: RuntimeWarning: invalid value encountered in arccos\n",
      "  Tksp2 = np.arccos(\n"
     ]
    },
    {
     "name": "stdout",
     "output_type": "stream",
     "text": [
      "Found framed material columns ['Material=Steel', 'Material=Aluminum', 'Material=Titanium']\n",
      "Mapping Material=Steel to MATERIAL OHCLASS: STEEL\n",
      "Mapping Material=Aluminum to MATERIAL OHCLASS: ALUMINUM\n",
      "Mapping Material=Titanium to MATERIAL OHCLASS: TITANIUM\n",
      "embedding_distance_1 | min 0.6899999976158142, max [1.1699999570846558],  average [0.7200000286102295]\n",
      "embedding_distance_2 | min 0.07999999821186066, max [1.659999966621399],  average [0.14000000059604645]\n"
     ]
    },
    {
     "name": "stderr",
     "output_type": "stream",
     "text": [
      "/home/yazan/Repositories/Personal/mcd-clip/src/mcd_clip/bike_rider_fit/fit_analysis/vectorizedangles.py:158: RuntimeWarning: invalid value encountered in arccos\n",
      "  alpha_1 = np.arccos((x_1 ** 2 - UL_s - x_2 ** 2) / (-2 * UL * x_2))\n"
     ]
    },
    {
     "name": "stdout",
     "output_type": "stream",
     "text": [
      "Validation result: fraction invalid [0.05]\n",
      "Validation result: fraction invalid [0.05]\n",
      "Validation result: fraction invalid [0.074]\n",
      "Validation result: fraction invalid [0.07]\n",
      "Validation result: fraction invalid [0.0]\n",
      "Validation result: fraction invalid [0.002]\n",
      "    17 |     8000 |    500 |  0.000000E+00 |  0.000000E+00 |  0.0064523236 |             f\n"
     ]
    },
    {
     "name": "stderr",
     "output_type": "stream",
     "text": [
      "/home/yazan/Repositories/Personal/mcd-clip/venv/lib/python3.10/site-packages/pymoo/operators/crossover/sbx.py:42: RuntimeWarning: divide by zero encountered in power\n",
      "  alpha = 2.0 - np.power(beta, -(eta + 1.0))\n",
      "/home/yazan/Repositories/Personal/mcd-clip/venv/lib/python3.10/site-packages/pymoo/operators/crossover/sbx.py:47: RuntimeWarning: invalid value encountered in power\n",
      "  betaq[mask] = np.power((rand * alpha), (1.0 / (eta + 1.0)))[mask]\n",
      "/home/yazan/Repositories/Personal/mcd-clip/venv/lib/python3.10/site-packages/pymoo/operators/crossover/sbx.py:42: RuntimeWarning: divide by zero encountered in power\n",
      "  alpha = 2.0 - np.power(beta, -(eta + 1.0))\n",
      "/home/yazan/Repositories/Personal/mcd-clip/venv/lib/python3.10/site-packages/pymoo/operators/crossover/sbx.py:47: RuntimeWarning: invalid value encountered in power\n",
      "  betaq[mask] = np.power((rand * alpha), (1.0 / (eta + 1.0)))[mask]\n"
     ]
    },
    {
     "name": "stdout",
     "output_type": "stream",
     "text": [
      "Found framed material columns ['Material=Steel', 'Material=Aluminum', 'Material=Titanium']\n",
      "Mapping Material=Steel to MATERIAL OHCLASS: STEEL\n",
      "Mapping Material=Aluminum to MATERIAL OHCLASS: ALUMINUM\n",
      "Mapping Material=Titanium to MATERIAL OHCLASS: TITANIUM\n",
      "Found framed material columns ['Material=Steel', 'Material=Aluminum', 'Material=Titanium']\n",
      "Mapping Material=Steel to MATERIAL OHCLASS: STEEL\n",
      "Mapping Material=Aluminum to MATERIAL OHCLASS: ALUMINUM\n",
      "Mapping Material=Titanium to MATERIAL OHCLASS: TITANIUM\n",
      "Found framed material columns ['Material=Steel', 'Material=Aluminum', 'Material=Titanium']\n",
      "Mapping Material=Steel to MATERIAL OHCLASS: STEEL\n",
      "Mapping Material=Aluminum to MATERIAL OHCLASS: ALUMINUM\n",
      "Mapping Material=Titanium to MATERIAL OHCLASS: TITANIUM\n",
      "embedding_distance_1 | min 0.6899999976158142, max [1.159999966621399],  average [0.7400000095367432]\n",
      "embedding_distance_2 | min 0.09000000357627869, max [1.6100000143051147],  average [0.15000000596046448]\n"
     ]
    },
    {
     "name": "stderr",
     "output_type": "stream",
     "text": [
      "/home/yazan/Repositories/Personal/mcd-clip/src/mcd_clip/bike_rider_fit/fit_analysis/vectorizedangles.py:158: RuntimeWarning: invalid value encountered in arccos\n",
      "  alpha_1 = np.arccos((x_1 ** 2 - UL_s - x_2 ** 2) / (-2 * UL * x_2))\n",
      "/home/yazan/Repositories/Personal/mcd-clip/src/mcd_clip/bike_rider_fit/fit_analysis/demoanalysis.py:76: RuntimeWarning: invalid value encountered in arccos\n",
      "  Tksp2 = np.arccos(\n",
      "/home/yazan/Repositories/Personal/mcd-clip/src/mcd_clip/bike_rider_fit/fit_analysis/vectorizedangles.py:158: RuntimeWarning: invalid value encountered in arccos\n",
      "  alpha_1 = np.arccos((x_1 ** 2 - UL_s - x_2 ** 2) / (-2 * UL * x_2))\n"
     ]
    },
    {
     "name": "stdout",
     "output_type": "stream",
     "text": [
      "Validation result: fraction invalid [0.01]\n",
      "Validation result: fraction invalid [0.024]\n",
      "Validation result: fraction invalid [0.016]\n",
      "Validation result: fraction invalid [0.03]\n",
      "Validation result: fraction invalid [0.0]\n",
      "Validation result: fraction invalid [0.002]\n",
      "    18 |     8500 |    500 |  0.000000E+00 |  0.000000E+00 |  0.0052677911 |             f\n"
     ]
    },
    {
     "name": "stderr",
     "output_type": "stream",
     "text": [
      "/home/yazan/Repositories/Personal/mcd-clip/venv/lib/python3.10/site-packages/pymoo/operators/crossover/sbx.py:42: RuntimeWarning: divide by zero encountered in power\n",
      "  alpha = 2.0 - np.power(beta, -(eta + 1.0))\n",
      "/home/yazan/Repositories/Personal/mcd-clip/venv/lib/python3.10/site-packages/pymoo/operators/crossover/sbx.py:47: RuntimeWarning: invalid value encountered in power\n",
      "  betaq[mask] = np.power((rand * alpha), (1.0 / (eta + 1.0)))[mask]\n"
     ]
    },
    {
     "name": "stdout",
     "output_type": "stream",
     "text": [
      "Found framed material columns ['Material=Steel', 'Material=Aluminum', 'Material=Titanium']\n",
      "Mapping Material=Steel to MATERIAL OHCLASS: STEEL\n",
      "Mapping Material=Aluminum to MATERIAL OHCLASS: ALUMINUM\n",
      "Mapping Material=Titanium to MATERIAL OHCLASS: TITANIUM\n",
      "Found framed material columns ['Material=Steel', 'Material=Aluminum', 'Material=Titanium']\n",
      "Mapping Material=Steel to MATERIAL OHCLASS: STEEL\n",
      "Mapping Material=Aluminum to MATERIAL OHCLASS: ALUMINUM\n",
      "Mapping Material=Titanium to MATERIAL OHCLASS: TITANIUM\n",
      "Found framed material columns ['Material=Steel', 'Material=Aluminum', 'Material=Titanium']\n",
      "Mapping Material=Steel to MATERIAL OHCLASS: STEEL\n",
      "Mapping Material=Aluminum to MATERIAL OHCLASS: ALUMINUM\n",
      "Mapping Material=Titanium to MATERIAL OHCLASS: TITANIUM\n",
      "embedding_distance_1 | min 0.7099999785423279, max [1.1799999475479126],  average [0.7400000095367432]\n",
      "embedding_distance_2 | min 0.10999999940395355, max [1.6699999570846558],  average [0.17000000178813934]\n"
     ]
    },
    {
     "name": "stderr",
     "output_type": "stream",
     "text": [
      "/home/yazan/Repositories/Personal/mcd-clip/src/mcd_clip/bike_rider_fit/fit_analysis/vectorizedangles.py:158: RuntimeWarning: invalid value encountered in arccos\n",
      "  alpha_1 = np.arccos((x_1 ** 2 - UL_s - x_2 ** 2) / (-2 * UL * x_2))\n",
      "/home/yazan/Repositories/Personal/mcd-clip/src/mcd_clip/bike_rider_fit/fit_analysis/demoanalysis.py:76: RuntimeWarning: invalid value encountered in arccos\n",
      "  Tksp2 = np.arccos(\n",
      "/home/yazan/Repositories/Personal/mcd-clip/src/mcd_clip/bike_rider_fit/fit_analysis/vectorizedangles.py:158: RuntimeWarning: invalid value encountered in arccos\n",
      "  alpha_1 = np.arccos((x_1 ** 2 - UL_s - x_2 ** 2) / (-2 * UL * x_2))\n"
     ]
    },
    {
     "name": "stdout",
     "output_type": "stream",
     "text": [
      "Validation result: fraction invalid [0.054]\n",
      "Validation result: fraction invalid [0.056]\n",
      "Validation result: fraction invalid [0.06]\n",
      "Validation result: fraction invalid [0.068]\n",
      "Validation result: fraction invalid [0.0]\n",
      "Validation result: fraction invalid [0.006]\n",
      "    19 |     9000 |    500 |  0.000000E+00 |  0.000000E+00 |  0.0027822044 |             f\n"
     ]
    },
    {
     "name": "stderr",
     "output_type": "stream",
     "text": [
      "/home/yazan/Repositories/Personal/mcd-clip/venv/lib/python3.10/site-packages/pymoo/operators/crossover/sbx.py:42: RuntimeWarning: divide by zero encountered in power\n",
      "  alpha = 2.0 - np.power(beta, -(eta + 1.0))\n",
      "/home/yazan/Repositories/Personal/mcd-clip/venv/lib/python3.10/site-packages/pymoo/operators/crossover/sbx.py:47: RuntimeWarning: invalid value encountered in power\n",
      "  betaq[mask] = np.power((rand * alpha), (1.0 / (eta + 1.0)))[mask]\n",
      "/home/yazan/Repositories/Personal/mcd-clip/venv/lib/python3.10/site-packages/pymoo/operators/crossover/sbx.py:42: RuntimeWarning: divide by zero encountered in power\n",
      "  alpha = 2.0 - np.power(beta, -(eta + 1.0))\n",
      "/home/yazan/Repositories/Personal/mcd-clip/venv/lib/python3.10/site-packages/pymoo/operators/crossover/sbx.py:47: RuntimeWarning: invalid value encountered in power\n",
      "  betaq[mask] = np.power((rand * alpha), (1.0 / (eta + 1.0)))[mask]\n"
     ]
    },
    {
     "name": "stdout",
     "output_type": "stream",
     "text": [
      "Found framed material columns ['Material=Steel', 'Material=Aluminum', 'Material=Titanium']\n",
      "Mapping Material=Steel to MATERIAL OHCLASS: STEEL\n",
      "Mapping Material=Aluminum to MATERIAL OHCLASS: ALUMINUM\n",
      "Mapping Material=Titanium to MATERIAL OHCLASS: TITANIUM\n",
      "Found framed material columns ['Material=Steel', 'Material=Aluminum', 'Material=Titanium']\n",
      "Mapping Material=Steel to MATERIAL OHCLASS: STEEL\n",
      "Mapping Material=Aluminum to MATERIAL OHCLASS: ALUMINUM\n",
      "Mapping Material=Titanium to MATERIAL OHCLASS: TITANIUM\n",
      "Found framed material columns ['Material=Steel', 'Material=Aluminum', 'Material=Titanium']\n",
      "Mapping Material=Steel to MATERIAL OHCLASS: STEEL\n",
      "Mapping Material=Aluminum to MATERIAL OHCLASS: ALUMINUM\n",
      "Mapping Material=Titanium to MATERIAL OHCLASS: TITANIUM\n"
     ]
    },
    {
     "name": "stderr",
     "output_type": "stream",
     "text": [
      "/home/yazan/Repositories/Personal/mcd-clip/src/mcd_clip/bike_rider_fit/fit_analysis/vectorizedangles.py:158: RuntimeWarning: invalid value encountered in arccos\n",
      "  alpha_1 = np.arccos((x_1 ** 2 - UL_s - x_2 ** 2) / (-2 * UL * x_2))\n",
      "/home/yazan/Repositories/Personal/mcd-clip/src/mcd_clip/bike_rider_fit/fit_analysis/demoanalysis.py:76: RuntimeWarning: invalid value encountered in arccos\n",
      "  Tksp2 = np.arccos(\n",
      "/home/yazan/Repositories/Personal/mcd-clip/src/mcd_clip/bike_rider_fit/fit_analysis/vectorizedangles.py:158: RuntimeWarning: invalid value encountered in arccos\n",
      "  alpha_1 = np.arccos((x_1 ** 2 - UL_s - x_2 ** 2) / (-2 * UL * x_2))\n"
     ]
    },
    {
     "name": "stdout",
     "output_type": "stream",
     "text": [
      "embedding_distance_1 | min 0.699999988079071, max [1.1799999475479126],  average [0.7400000095367432]\n",
      "embedding_distance_2 | min 0.10000000149011612, max [1.6799999475479126],  average [0.1599999964237213]\n",
      "Validation result: fraction invalid [0.028]\n",
      "Validation result: fraction invalid [0.03]\n",
      "Validation result: fraction invalid [0.018]\n",
      "Validation result: fraction invalid [0.032]\n",
      "Validation result: fraction invalid [0.0]\n",
      "Validation result: fraction invalid [0.002]\n",
      "    20 |     9500 |    500 |  0.000000E+00 |  0.000000E+00 |  0.0015731834 |             f\n"
     ]
    },
    {
     "name": "stderr",
     "output_type": "stream",
     "text": [
      "/home/yazan/Repositories/Personal/mcd-clip/venv/lib/python3.10/site-packages/pymoo/operators/crossover/sbx.py:42: RuntimeWarning: divide by zero encountered in power\n",
      "  alpha = 2.0 - np.power(beta, -(eta + 1.0))\n",
      "/home/yazan/Repositories/Personal/mcd-clip/venv/lib/python3.10/site-packages/pymoo/operators/crossover/sbx.py:47: RuntimeWarning: invalid value encountered in power\n",
      "  betaq[mask] = np.power((rand * alpha), (1.0 / (eta + 1.0)))[mask]\n"
     ]
    },
    {
     "name": "stdout",
     "output_type": "stream",
     "text": [
      "Found framed material columns ['Material=Steel', 'Material=Aluminum', 'Material=Titanium']\n",
      "Mapping Material=Steel to MATERIAL OHCLASS: STEEL\n",
      "Mapping Material=Aluminum to MATERIAL OHCLASS: ALUMINUM\n",
      "Mapping Material=Titanium to MATERIAL OHCLASS: TITANIUM\n",
      "Found framed material columns ['Material=Steel', 'Material=Aluminum', 'Material=Titanium']\n",
      "Mapping Material=Steel to MATERIAL OHCLASS: STEEL\n",
      "Mapping Material=Aluminum to MATERIAL OHCLASS: ALUMINUM\n",
      "Mapping Material=Titanium to MATERIAL OHCLASS: TITANIUM\n",
      "Found framed material columns ['Material=Steel', 'Material=Aluminum', 'Material=Titanium']\n",
      "Mapping Material=Steel to MATERIAL OHCLASS: STEEL\n",
      "Mapping Material=Aluminum to MATERIAL OHCLASS: ALUMINUM\n",
      "Mapping Material=Titanium to MATERIAL OHCLASS: TITANIUM\n"
     ]
    },
    {
     "name": "stderr",
     "output_type": "stream",
     "text": [
      "/home/yazan/Repositories/Personal/mcd-clip/src/mcd_clip/bike_rider_fit/fit_analysis/vectorizedangles.py:158: RuntimeWarning: invalid value encountered in arccos\n",
      "  alpha_1 = np.arccos((x_1 ** 2 - UL_s - x_2 ** 2) / (-2 * UL * x_2))\n",
      "/home/yazan/Repositories/Personal/mcd-clip/src/mcd_clip/bike_rider_fit/fit_analysis/demoanalysis.py:76: RuntimeWarning: invalid value encountered in arccos\n",
      "  Tksp2 = np.arccos(\n",
      "/home/yazan/Repositories/Personal/mcd-clip/src/mcd_clip/bike_rider_fit/fit_analysis/vectorizedangles.py:158: RuntimeWarning: invalid value encountered in arccos\n",
      "  alpha_1 = np.arccos((x_1 ** 2 - UL_s - x_2 ** 2) / (-2 * UL * x_2))\n"
     ]
    },
    {
     "name": "stdout",
     "output_type": "stream",
     "text": [
      "embedding_distance_1 | min 0.6899999976158142, max [1.1799999475479126],  average [0.7300000190734863]\n",
      "embedding_distance_2 | min 0.09000000357627869, max [1.690000057220459],  average [0.15000000596046448]\n",
      "Validation result: fraction invalid [0.092]\n",
      "Validation result: fraction invalid [0.096]\n",
      "Validation result: fraction invalid [0.118]\n",
      "Validation result: fraction invalid [0.098]\n",
      "Validation result: fraction invalid [0.0]\n",
      "Validation result: fraction invalid [0.002]\n",
      "    21 |    10000 |    500 |  0.000000E+00 |  0.000000E+00 |  0.0069638393 |             f\n"
     ]
    },
    {
     "name": "stderr",
     "output_type": "stream",
     "text": [
      "/home/yazan/Repositories/Personal/mcd-clip/venv/lib/python3.10/site-packages/pymoo/operators/crossover/sbx.py:42: RuntimeWarning: divide by zero encountered in power\n",
      "  alpha = 2.0 - np.power(beta, -(eta + 1.0))\n",
      "/home/yazan/Repositories/Personal/mcd-clip/venv/lib/python3.10/site-packages/pymoo/operators/crossover/sbx.py:47: RuntimeWarning: invalid value encountered in power\n",
      "  betaq[mask] = np.power((rand * alpha), (1.0 / (eta + 1.0)))[mask]\n"
     ]
    },
    {
     "name": "stdout",
     "output_type": "stream",
     "text": [
      "Found framed material columns ['Material=Steel', 'Material=Aluminum', 'Material=Titanium']\n",
      "Mapping Material=Steel to MATERIAL OHCLASS: STEEL\n",
      "Mapping Material=Aluminum to MATERIAL OHCLASS: ALUMINUM\n",
      "Mapping Material=Titanium to MATERIAL OHCLASS: TITANIUM\n",
      "Found framed material columns ['Material=Steel', 'Material=Aluminum', 'Material=Titanium']\n",
      "Mapping Material=Steel to MATERIAL OHCLASS: STEEL\n",
      "Mapping Material=Aluminum to MATERIAL OHCLASS: ALUMINUM\n",
      "Mapping Material=Titanium to MATERIAL OHCLASS: TITANIUM\n",
      "Found framed material columns ['Material=Steel', 'Material=Aluminum', 'Material=Titanium']\n",
      "Mapping Material=Steel to MATERIAL OHCLASS: STEEL\n",
      "Mapping Material=Aluminum to MATERIAL OHCLASS: ALUMINUM\n",
      "Mapping Material=Titanium to MATERIAL OHCLASS: TITANIUM\n"
     ]
    },
    {
     "name": "stderr",
     "output_type": "stream",
     "text": [
      "/home/yazan/Repositories/Personal/mcd-clip/src/mcd_clip/bike_rider_fit/fit_analysis/vectorizedangles.py:158: RuntimeWarning: invalid value encountered in arccos\n",
      "  alpha_1 = np.arccos((x_1 ** 2 - UL_s - x_2 ** 2) / (-2 * UL * x_2))\n",
      "/home/yazan/Repositories/Personal/mcd-clip/src/mcd_clip/bike_rider_fit/fit_analysis/demoanalysis.py:76: RuntimeWarning: invalid value encountered in arccos\n",
      "  Tksp2 = np.arccos(\n",
      "/home/yazan/Repositories/Personal/mcd-clip/src/mcd_clip/bike_rider_fit/fit_analysis/vectorizedangles.py:158: RuntimeWarning: invalid value encountered in arccos\n",
      "  alpha_1 = np.arccos((x_1 ** 2 - UL_s - x_2 ** 2) / (-2 * UL * x_2))\n"
     ]
    },
    {
     "name": "stdout",
     "output_type": "stream",
     "text": [
      "embedding_distance_1 | min 0.6899999976158142, max [1.1799999475479126],  average [0.7300000190734863]\n",
      "embedding_distance_2 | min 0.07999999821186066, max [1.6799999475479126],  average [0.15000000596046448]\n",
      "Validation result: fraction invalid [0.064]\n",
      "Validation result: fraction invalid [0.062]\n",
      "Validation result: fraction invalid [0.08]\n",
      "Validation result: fraction invalid [0.068]\n",
      "Validation result: fraction invalid [0.0]\n",
      "Validation result: fraction invalid [0.0]\n",
      "    22 |    10500 |    500 |  0.000000E+00 |  0.000000E+00 |  0.0061616817 |             f\n"
     ]
    },
    {
     "name": "stderr",
     "output_type": "stream",
     "text": [
      "/home/yazan/Repositories/Personal/mcd-clip/venv/lib/python3.10/site-packages/pymoo/operators/crossover/sbx.py:42: RuntimeWarning: divide by zero encountered in power\n",
      "  alpha = 2.0 - np.power(beta, -(eta + 1.0))\n",
      "/home/yazan/Repositories/Personal/mcd-clip/venv/lib/python3.10/site-packages/pymoo/operators/crossover/sbx.py:47: RuntimeWarning: invalid value encountered in power\n",
      "  betaq[mask] = np.power((rand * alpha), (1.0 / (eta + 1.0)))[mask]\n"
     ]
    },
    {
     "name": "stdout",
     "output_type": "stream",
     "text": [
      "Found framed material columns ['Material=Steel', 'Material=Aluminum', 'Material=Titanium']\n",
      "Mapping Material=Steel to MATERIAL OHCLASS: STEEL\n",
      "Mapping Material=Aluminum to MATERIAL OHCLASS: ALUMINUM\n",
      "Mapping Material=Titanium to MATERIAL OHCLASS: TITANIUM\n",
      "Found framed material columns ['Material=Steel', 'Material=Aluminum', 'Material=Titanium']\n",
      "Mapping Material=Steel to MATERIAL OHCLASS: STEEL\n",
      "Mapping Material=Aluminum to MATERIAL OHCLASS: ALUMINUM\n",
      "Mapping Material=Titanium to MATERIAL OHCLASS: TITANIUM\n",
      "Found framed material columns ['Material=Steel', 'Material=Aluminum', 'Material=Titanium']\n",
      "Mapping Material=Steel to MATERIAL OHCLASS: STEEL\n",
      "Mapping Material=Aluminum to MATERIAL OHCLASS: ALUMINUM\n",
      "Mapping Material=Titanium to MATERIAL OHCLASS: TITANIUM\n"
     ]
    },
    {
     "name": "stderr",
     "output_type": "stream",
     "text": [
      "/home/yazan/Repositories/Personal/mcd-clip/src/mcd_clip/bike_rider_fit/fit_analysis/vectorizedangles.py:158: RuntimeWarning: invalid value encountered in arccos\n",
      "  alpha_1 = np.arccos((x_1 ** 2 - UL_s - x_2 ** 2) / (-2 * UL * x_2))\n",
      "/home/yazan/Repositories/Personal/mcd-clip/src/mcd_clip/bike_rider_fit/fit_analysis/demoanalysis.py:76: RuntimeWarning: invalid value encountered in arccos\n",
      "  Tksp2 = np.arccos(\n",
      "/home/yazan/Repositories/Personal/mcd-clip/src/mcd_clip/bike_rider_fit/fit_analysis/vectorizedangles.py:158: RuntimeWarning: invalid value encountered in arccos\n",
      "  alpha_1 = np.arccos((x_1 ** 2 - UL_s - x_2 ** 2) / (-2 * UL * x_2))\n"
     ]
    },
    {
     "name": "stdout",
     "output_type": "stream",
     "text": [
      "embedding_distance_1 | min 0.699999988079071, max [1.1799999475479126],  average [0.7400000095367432]\n",
      "embedding_distance_2 | min 0.10000000149011612, max [1.6699999570846558],  average [0.18000000715255737]\n",
      "Validation result: fraction invalid [0.058]\n",
      "Validation result: fraction invalid [0.07]\n",
      "Validation result: fraction invalid [0.088]\n",
      "Validation result: fraction invalid [0.09]\n",
      "Validation result: fraction invalid [0.0]\n",
      "Validation result: fraction invalid [0.0]\n",
      "    23 |    11000 |    500 |  0.000000E+00 |  0.000000E+00 |  0.0027572868 |             f\n"
     ]
    },
    {
     "name": "stderr",
     "output_type": "stream",
     "text": [
      "/home/yazan/Repositories/Personal/mcd-clip/venv/lib/python3.10/site-packages/pymoo/operators/crossover/sbx.py:42: RuntimeWarning: divide by zero encountered in power\n",
      "  alpha = 2.0 - np.power(beta, -(eta + 1.0))\n",
      "/home/yazan/Repositories/Personal/mcd-clip/venv/lib/python3.10/site-packages/pymoo/operators/crossover/sbx.py:47: RuntimeWarning: invalid value encountered in power\n",
      "  betaq[mask] = np.power((rand * alpha), (1.0 / (eta + 1.0)))[mask]\n"
     ]
    },
    {
     "name": "stdout",
     "output_type": "stream",
     "text": [
      "Found framed material columns ['Material=Steel', 'Material=Aluminum', 'Material=Titanium']\n",
      "Mapping Material=Steel to MATERIAL OHCLASS: STEEL\n",
      "Mapping Material=Aluminum to MATERIAL OHCLASS: ALUMINUM\n",
      "Mapping Material=Titanium to MATERIAL OHCLASS: TITANIUM\n",
      "Found framed material columns ['Material=Steel', 'Material=Aluminum', 'Material=Titanium']\n",
      "Mapping Material=Steel to MATERIAL OHCLASS: STEEL\n",
      "Mapping Material=Aluminum to MATERIAL OHCLASS: ALUMINUM\n",
      "Mapping Material=Titanium to MATERIAL OHCLASS: TITANIUM\n",
      "Found framed material columns ['Material=Steel', 'Material=Aluminum', 'Material=Titanium']\n",
      "Mapping Material=Steel to MATERIAL OHCLASS: STEEL\n",
      "Mapping Material=Aluminum to MATERIAL OHCLASS: ALUMINUM\n",
      "Mapping Material=Titanium to MATERIAL OHCLASS: TITANIUM\n",
      "embedding_distance_1 | min 0.699999988079071, max [1.1799999475479126],  average [0.7400000095367432]\n",
      "embedding_distance_2 | min 0.10999999940395355, max [1.6699999570846558],  average [0.18000000715255737]\n"
     ]
    },
    {
     "name": "stderr",
     "output_type": "stream",
     "text": [
      "/home/yazan/Repositories/Personal/mcd-clip/src/mcd_clip/bike_rider_fit/fit_analysis/vectorizedangles.py:158: RuntimeWarning: invalid value encountered in arccos\n",
      "  alpha_1 = np.arccos((x_1 ** 2 - UL_s - x_2 ** 2) / (-2 * UL * x_2))\n",
      "/home/yazan/Repositories/Personal/mcd-clip/src/mcd_clip/bike_rider_fit/fit_analysis/demoanalysis.py:76: RuntimeWarning: invalid value encountered in arccos\n",
      "  Tksp2 = np.arccos(\n",
      "/home/yazan/Repositories/Personal/mcd-clip/src/mcd_clip/bike_rider_fit/fit_analysis/vectorizedangles.py:158: RuntimeWarning: invalid value encountered in arccos\n",
      "  alpha_1 = np.arccos((x_1 ** 2 - UL_s - x_2 ** 2) / (-2 * UL * x_2))\n"
     ]
    },
    {
     "name": "stdout",
     "output_type": "stream",
     "text": [
      "Validation result: fraction invalid [0.058]\n",
      "Validation result: fraction invalid [0.064]\n",
      "Validation result: fraction invalid [0.068]\n",
      "Validation result: fraction invalid [0.09]\n",
      "Validation result: fraction invalid [0.0]\n",
      "Validation result: fraction invalid [0.002]\n",
      "    24 |    11500 |    500 |  0.000000E+00 |  0.000000E+00 |  0.0028459833 |             f\n"
     ]
    },
    {
     "name": "stderr",
     "output_type": "stream",
     "text": [
      "/home/yazan/Repositories/Personal/mcd-clip/venv/lib/python3.10/site-packages/pymoo/operators/crossover/sbx.py:42: RuntimeWarning: divide by zero encountered in power\n",
      "  alpha = 2.0 - np.power(beta, -(eta + 1.0))\n",
      "/home/yazan/Repositories/Personal/mcd-clip/venv/lib/python3.10/site-packages/pymoo/operators/crossover/sbx.py:47: RuntimeWarning: invalid value encountered in power\n",
      "  betaq[mask] = np.power((rand * alpha), (1.0 / (eta + 1.0)))[mask]\n"
     ]
    },
    {
     "name": "stdout",
     "output_type": "stream",
     "text": [
      "Found framed material columns ['Material=Steel', 'Material=Aluminum', 'Material=Titanium']\n",
      "Mapping Material=Steel to MATERIAL OHCLASS: STEEL\n",
      "Mapping Material=Aluminum to MATERIAL OHCLASS: ALUMINUM\n",
      "Mapping Material=Titanium to MATERIAL OHCLASS: TITANIUM\n",
      "Found framed material columns ['Material=Steel', 'Material=Aluminum', 'Material=Titanium']\n",
      "Mapping Material=Steel to MATERIAL OHCLASS: STEEL\n",
      "Mapping Material=Aluminum to MATERIAL OHCLASS: ALUMINUM\n",
      "Mapping Material=Titanium to MATERIAL OHCLASS: TITANIUM\n",
      "Found framed material columns ['Material=Steel', 'Material=Aluminum', 'Material=Titanium']\n",
      "Mapping Material=Steel to MATERIAL OHCLASS: STEEL\n",
      "Mapping Material=Aluminum to MATERIAL OHCLASS: ALUMINUM\n",
      "Mapping Material=Titanium to MATERIAL OHCLASS: TITANIUM\n"
     ]
    },
    {
     "name": "stderr",
     "output_type": "stream",
     "text": [
      "/home/yazan/Repositories/Personal/mcd-clip/src/mcd_clip/bike_rider_fit/fit_analysis/vectorizedangles.py:158: RuntimeWarning: invalid value encountered in arccos\n",
      "  alpha_1 = np.arccos((x_1 ** 2 - UL_s - x_2 ** 2) / (-2 * UL * x_2))\n",
      "/home/yazan/Repositories/Personal/mcd-clip/src/mcd_clip/bike_rider_fit/fit_analysis/demoanalysis.py:76: RuntimeWarning: invalid value encountered in arccos\n",
      "  Tksp2 = np.arccos(\n",
      "/home/yazan/Repositories/Personal/mcd-clip/src/mcd_clip/bike_rider_fit/fit_analysis/vectorizedangles.py:158: RuntimeWarning: invalid value encountered in arccos\n",
      "  alpha_1 = np.arccos((x_1 ** 2 - UL_s - x_2 ** 2) / (-2 * UL * x_2))\n"
     ]
    },
    {
     "name": "stdout",
     "output_type": "stream",
     "text": [
      "embedding_distance_1 | min 0.6899999976158142, max [1.1799999475479126],  average [0.7200000286102295]\n",
      "embedding_distance_2 | min 0.07999999821186066, max [1.6699999570846558],  average [0.14000000059604645]\n",
      "Validation result: fraction invalid [0.056]\n",
      "Validation result: fraction invalid [0.054]\n",
      "Validation result: fraction invalid [0.08]\n",
      "Validation result: fraction invalid [0.066]\n",
      "Validation result: fraction invalid [0.0]\n",
      "Validation result: fraction invalid [0.004]\n",
      "    25 |    12000 |    500 |  0.000000E+00 |  0.000000E+00 |  0.0061426340 |             f\n"
     ]
    },
    {
     "name": "stderr",
     "output_type": "stream",
     "text": [
      "/home/yazan/Repositories/Personal/mcd-clip/venv/lib/python3.10/site-packages/pymoo/operators/crossover/sbx.py:42: RuntimeWarning: divide by zero encountered in power\n",
      "  alpha = 2.0 - np.power(beta, -(eta + 1.0))\n",
      "/home/yazan/Repositories/Personal/mcd-clip/venv/lib/python3.10/site-packages/pymoo/operators/crossover/sbx.py:47: RuntimeWarning: invalid value encountered in power\n",
      "  betaq[mask] = np.power((rand * alpha), (1.0 / (eta + 1.0)))[mask]\n"
     ]
    },
    {
     "name": "stdout",
     "output_type": "stream",
     "text": [
      "Found framed material columns ['Material=Steel', 'Material=Aluminum', 'Material=Titanium']\n",
      "Mapping Material=Steel to MATERIAL OHCLASS: STEEL\n",
      "Mapping Material=Aluminum to MATERIAL OHCLASS: ALUMINUM\n",
      "Mapping Material=Titanium to MATERIAL OHCLASS: TITANIUM\n",
      "Found framed material columns ['Material=Steel', 'Material=Aluminum', 'Material=Titanium']\n",
      "Mapping Material=Steel to MATERIAL OHCLASS: STEEL\n",
      "Mapping Material=Aluminum to MATERIAL OHCLASS: ALUMINUM\n",
      "Mapping Material=Titanium to MATERIAL OHCLASS: TITANIUM\n",
      "Found framed material columns ['Material=Steel', 'Material=Aluminum', 'Material=Titanium']\n",
      "Mapping Material=Steel to MATERIAL OHCLASS: STEEL\n",
      "Mapping Material=Aluminum to MATERIAL OHCLASS: ALUMINUM\n",
      "Mapping Material=Titanium to MATERIAL OHCLASS: TITANIUM\n"
     ]
    },
    {
     "name": "stderr",
     "output_type": "stream",
     "text": [
      "/home/yazan/Repositories/Personal/mcd-clip/src/mcd_clip/bike_rider_fit/fit_analysis/vectorizedangles.py:158: RuntimeWarning: invalid value encountered in arccos\n",
      "  alpha_1 = np.arccos((x_1 ** 2 - UL_s - x_2 ** 2) / (-2 * UL * x_2))\n",
      "/home/yazan/Repositories/Personal/mcd-clip/src/mcd_clip/bike_rider_fit/fit_analysis/demoanalysis.py:76: RuntimeWarning: invalid value encountered in arccos\n",
      "  Tksp2 = np.arccos(\n",
      "/home/yazan/Repositories/Personal/mcd-clip/src/mcd_clip/bike_rider_fit/fit_analysis/vectorizedangles.py:158: RuntimeWarning: invalid value encountered in arccos\n",
      "  alpha_1 = np.arccos((x_1 ** 2 - UL_s - x_2 ** 2) / (-2 * UL * x_2))\n"
     ]
    },
    {
     "name": "stdout",
     "output_type": "stream",
     "text": [
      "embedding_distance_1 | min 0.6899999976158142, max [1.1799999475479126],  average [0.7200000286102295]\n",
      "embedding_distance_2 | min 0.09000000357627869, max [1.690000057220459],  average [0.14000000059604645]\n",
      "Validation result: fraction invalid [0.086]\n",
      "Validation result: fraction invalid [0.088]\n",
      "Validation result: fraction invalid [0.08]\n",
      "Validation result: fraction invalid [0.07]\n",
      "Validation result: fraction invalid [0.0]\n",
      "Validation result: fraction invalid [0.004]\n",
      "    26 |    12500 |    500 |  0.000000E+00 |  0.000000E+00 |  0.0742546534 |         nadir\n"
     ]
    },
    {
     "name": "stderr",
     "output_type": "stream",
     "text": [
      "/home/yazan/Repositories/Personal/mcd-clip/venv/lib/python3.10/site-packages/pymoo/operators/crossover/sbx.py:42: RuntimeWarning: divide by zero encountered in power\n",
      "  alpha = 2.0 - np.power(beta, -(eta + 1.0))\n",
      "/home/yazan/Repositories/Personal/mcd-clip/venv/lib/python3.10/site-packages/pymoo/operators/crossover/sbx.py:47: RuntimeWarning: invalid value encountered in power\n",
      "  betaq[mask] = np.power((rand * alpha), (1.0 / (eta + 1.0)))[mask]\n"
     ]
    },
    {
     "name": "stdout",
     "output_type": "stream",
     "text": [
      "Found framed material columns ['Material=Steel', 'Material=Aluminum', 'Material=Titanium']\n",
      "Mapping Material=Steel to MATERIAL OHCLASS: STEEL\n",
      "Mapping Material=Aluminum to MATERIAL OHCLASS: ALUMINUM\n",
      "Mapping Material=Titanium to MATERIAL OHCLASS: TITANIUM\n",
      "Found framed material columns ['Material=Steel', 'Material=Aluminum', 'Material=Titanium']\n",
      "Mapping Material=Steel to MATERIAL OHCLASS: STEEL\n",
      "Mapping Material=Aluminum to MATERIAL OHCLASS: ALUMINUM\n",
      "Mapping Material=Titanium to MATERIAL OHCLASS: TITANIUM\n",
      "Found framed material columns ['Material=Steel', 'Material=Aluminum', 'Material=Titanium']\n",
      "Mapping Material=Steel to MATERIAL OHCLASS: STEEL\n",
      "Mapping Material=Aluminum to MATERIAL OHCLASS: ALUMINUM\n",
      "Mapping Material=Titanium to MATERIAL OHCLASS: TITANIUM\n"
     ]
    },
    {
     "name": "stderr",
     "output_type": "stream",
     "text": [
      "/home/yazan/Repositories/Personal/mcd-clip/src/mcd_clip/bike_rider_fit/fit_analysis/vectorizedangles.py:158: RuntimeWarning: invalid value encountered in arccos\n",
      "  alpha_1 = np.arccos((x_1 ** 2 - UL_s - x_2 ** 2) / (-2 * UL * x_2))\n",
      "/home/yazan/Repositories/Personal/mcd-clip/src/mcd_clip/bike_rider_fit/fit_analysis/demoanalysis.py:76: RuntimeWarning: invalid value encountered in arccos\n",
      "  Tksp2 = np.arccos(\n",
      "/home/yazan/Repositories/Personal/mcd-clip/src/mcd_clip/bike_rider_fit/fit_analysis/vectorizedangles.py:158: RuntimeWarning: invalid value encountered in arccos\n",
      "  alpha_1 = np.arccos((x_1 ** 2 - UL_s - x_2 ** 2) / (-2 * UL * x_2))\n"
     ]
    },
    {
     "name": "stdout",
     "output_type": "stream",
     "text": [
      "embedding_distance_1 | min 0.6899999976158142, max [1.1799999475479126],  average [0.7300000190734863]\n",
      "embedding_distance_2 | min 0.09000000357627869, max [1.690000057220459],  average [0.15000000596046448]\n",
      "Validation result: fraction invalid [0.082]\n",
      "Validation result: fraction invalid [0.066]\n",
      "Validation result: fraction invalid [0.084]\n",
      "Validation result: fraction invalid [0.062]\n",
      "Validation result: fraction invalid [0.0]\n",
      "Validation result: fraction invalid [0.002]\n",
      "    27 |    13000 |    500 |  0.000000E+00 |  0.000000E+00 |  0.0313697641 |         nadir\n"
     ]
    },
    {
     "name": "stderr",
     "output_type": "stream",
     "text": [
      "/home/yazan/Repositories/Personal/mcd-clip/venv/lib/python3.10/site-packages/pymoo/operators/crossover/sbx.py:42: RuntimeWarning: divide by zero encountered in power\n",
      "  alpha = 2.0 - np.power(beta, -(eta + 1.0))\n",
      "/home/yazan/Repositories/Personal/mcd-clip/venv/lib/python3.10/site-packages/pymoo/operators/crossover/sbx.py:47: RuntimeWarning: invalid value encountered in power\n",
      "  betaq[mask] = np.power((rand * alpha), (1.0 / (eta + 1.0)))[mask]\n"
     ]
    },
    {
     "name": "stdout",
     "output_type": "stream",
     "text": [
      "Found framed material columns ['Material=Steel', 'Material=Aluminum', 'Material=Titanium']\n",
      "Mapping Material=Steel to MATERIAL OHCLASS: STEEL\n",
      "Mapping Material=Aluminum to MATERIAL OHCLASS: ALUMINUM\n",
      "Mapping Material=Titanium to MATERIAL OHCLASS: TITANIUM\n",
      "Found framed material columns ['Material=Steel', 'Material=Aluminum', 'Material=Titanium']\n",
      "Mapping Material=Steel to MATERIAL OHCLASS: STEEL\n",
      "Mapping Material=Aluminum to MATERIAL OHCLASS: ALUMINUM\n",
      "Mapping Material=Titanium to MATERIAL OHCLASS: TITANIUM\n",
      "Found framed material columns ['Material=Steel', 'Material=Aluminum', 'Material=Titanium']\n",
      "Mapping Material=Steel to MATERIAL OHCLASS: STEEL\n",
      "Mapping Material=Aluminum to MATERIAL OHCLASS: ALUMINUM\n",
      "Mapping Material=Titanium to MATERIAL OHCLASS: TITANIUM\n"
     ]
    },
    {
     "name": "stderr",
     "output_type": "stream",
     "text": [
      "/home/yazan/Repositories/Personal/mcd-clip/src/mcd_clip/bike_rider_fit/fit_analysis/vectorizedangles.py:158: RuntimeWarning: invalid value encountered in arccos\n",
      "  alpha_1 = np.arccos((x_1 ** 2 - UL_s - x_2 ** 2) / (-2 * UL * x_2))\n",
      "/home/yazan/Repositories/Personal/mcd-clip/src/mcd_clip/bike_rider_fit/fit_analysis/demoanalysis.py:76: RuntimeWarning: invalid value encountered in arccos\n",
      "  Tksp2 = np.arccos(\n",
      "/home/yazan/Repositories/Personal/mcd-clip/src/mcd_clip/bike_rider_fit/fit_analysis/vectorizedangles.py:158: RuntimeWarning: invalid value encountered in arccos\n",
      "  alpha_1 = np.arccos((x_1 ** 2 - UL_s - x_2 ** 2) / (-2 * UL * x_2))\n"
     ]
    },
    {
     "name": "stdout",
     "output_type": "stream",
     "text": [
      "embedding_distance_1 | min 0.6899999976158142, max [1.1799999475479126],  average [0.7200000286102295]\n",
      "embedding_distance_2 | min 0.09000000357627869, max [1.6699999570846558],  average [0.15000000596046448]\n",
      "Validation result: fraction invalid [0.064]\n",
      "Validation result: fraction invalid [0.072]\n",
      "Validation result: fraction invalid [0.07]\n",
      "Validation result: fraction invalid [0.064]\n",
      "Validation result: fraction invalid [0.0]\n",
      "Validation result: fraction invalid [0.004]\n",
      "    28 |    13500 |    500 |  0.000000E+00 |  0.000000E+00 |  0.0518285483 |         nadir\n"
     ]
    },
    {
     "name": "stderr",
     "output_type": "stream",
     "text": [
      "/home/yazan/Repositories/Personal/mcd-clip/venv/lib/python3.10/site-packages/pymoo/operators/crossover/sbx.py:42: RuntimeWarning: divide by zero encountered in power\n",
      "  alpha = 2.0 - np.power(beta, -(eta + 1.0))\n",
      "/home/yazan/Repositories/Personal/mcd-clip/venv/lib/python3.10/site-packages/pymoo/operators/crossover/sbx.py:47: RuntimeWarning: invalid value encountered in power\n",
      "  betaq[mask] = np.power((rand * alpha), (1.0 / (eta + 1.0)))[mask]\n"
     ]
    },
    {
     "name": "stdout",
     "output_type": "stream",
     "text": [
      "Found framed material columns ['Material=Steel', 'Material=Aluminum', 'Material=Titanium']\n",
      "Mapping Material=Steel to MATERIAL OHCLASS: STEEL\n",
      "Mapping Material=Aluminum to MATERIAL OHCLASS: ALUMINUM\n",
      "Mapping Material=Titanium to MATERIAL OHCLASS: TITANIUM\n",
      "Found framed material columns ['Material=Steel', 'Material=Aluminum', 'Material=Titanium']\n",
      "Mapping Material=Steel to MATERIAL OHCLASS: STEEL\n",
      "Mapping Material=Aluminum to MATERIAL OHCLASS: ALUMINUM\n",
      "Mapping Material=Titanium to MATERIAL OHCLASS: TITANIUM\n",
      "Found framed material columns ['Material=Steel', 'Material=Aluminum', 'Material=Titanium']\n",
      "Mapping Material=Steel to MATERIAL OHCLASS: STEEL\n",
      "Mapping Material=Aluminum to MATERIAL OHCLASS: ALUMINUM\n",
      "Mapping Material=Titanium to MATERIAL OHCLASS: TITANIUM\n"
     ]
    },
    {
     "name": "stderr",
     "output_type": "stream",
     "text": [
      "/home/yazan/Repositories/Personal/mcd-clip/src/mcd_clip/bike_rider_fit/fit_analysis/vectorizedangles.py:158: RuntimeWarning: invalid value encountered in arccos\n",
      "  alpha_1 = np.arccos((x_1 ** 2 - UL_s - x_2 ** 2) / (-2 * UL * x_2))\n",
      "/home/yazan/Repositories/Personal/mcd-clip/src/mcd_clip/bike_rider_fit/fit_analysis/demoanalysis.py:76: RuntimeWarning: invalid value encountered in arccos\n",
      "  Tksp2 = np.arccos(\n",
      "/home/yazan/Repositories/Personal/mcd-clip/src/mcd_clip/bike_rider_fit/fit_analysis/vectorizedangles.py:158: RuntimeWarning: invalid value encountered in arccos\n",
      "  alpha_1 = np.arccos((x_1 ** 2 - UL_s - x_2 ** 2) / (-2 * UL * x_2))\n"
     ]
    },
    {
     "name": "stdout",
     "output_type": "stream",
     "text": [
      "embedding_distance_1 | min 0.6899999976158142, max [1.1799999475479126],  average [0.7200000286102295]\n",
      "embedding_distance_2 | min 0.07999999821186066, max [1.690000057220459],  average [0.14000000059604645]\n",
      "Validation result: fraction invalid [0.068]\n",
      "Validation result: fraction invalid [0.058]\n",
      "Validation result: fraction invalid [0.078]\n",
      "Validation result: fraction invalid [0.078]\n",
      "Validation result: fraction invalid [0.0]\n",
      "Validation result: fraction invalid [0.006]\n",
      "    29 |    14000 |    500 |  0.000000E+00 |  0.000000E+00 |  0.0066606173 |             f\n"
     ]
    },
    {
     "name": "stderr",
     "output_type": "stream",
     "text": [
      "/home/yazan/Repositories/Personal/mcd-clip/venv/lib/python3.10/site-packages/pymoo/operators/crossover/sbx.py:42: RuntimeWarning: divide by zero encountered in power\n",
      "  alpha = 2.0 - np.power(beta, -(eta + 1.0))\n",
      "/home/yazan/Repositories/Personal/mcd-clip/venv/lib/python3.10/site-packages/pymoo/operators/crossover/sbx.py:47: RuntimeWarning: invalid value encountered in power\n",
      "  betaq[mask] = np.power((rand * alpha), (1.0 / (eta + 1.0)))[mask]\n"
     ]
    },
    {
     "name": "stdout",
     "output_type": "stream",
     "text": [
      "Found framed material columns ['Material=Steel', 'Material=Aluminum', 'Material=Titanium']\n",
      "Mapping Material=Steel to MATERIAL OHCLASS: STEEL\n",
      "Mapping Material=Aluminum to MATERIAL OHCLASS: ALUMINUM\n",
      "Mapping Material=Titanium to MATERIAL OHCLASS: TITANIUM\n",
      "Found framed material columns ['Material=Steel', 'Material=Aluminum', 'Material=Titanium']\n",
      "Mapping Material=Steel to MATERIAL OHCLASS: STEEL\n",
      "Mapping Material=Aluminum to MATERIAL OHCLASS: ALUMINUM\n",
      "Mapping Material=Titanium to MATERIAL OHCLASS: TITANIUM\n",
      "Found framed material columns ['Material=Steel', 'Material=Aluminum', 'Material=Titanium']\n",
      "Mapping Material=Steel to MATERIAL OHCLASS: STEEL\n",
      "Mapping Material=Aluminum to MATERIAL OHCLASS: ALUMINUM\n",
      "Mapping Material=Titanium to MATERIAL OHCLASS: TITANIUM\n"
     ]
    },
    {
     "name": "stderr",
     "output_type": "stream",
     "text": [
      "/home/yazan/Repositories/Personal/mcd-clip/src/mcd_clip/bike_rider_fit/fit_analysis/vectorizedangles.py:158: RuntimeWarning: invalid value encountered in arccos\n",
      "  alpha_1 = np.arccos((x_1 ** 2 - UL_s - x_2 ** 2) / (-2 * UL * x_2))\n",
      "/home/yazan/Repositories/Personal/mcd-clip/src/mcd_clip/bike_rider_fit/fit_analysis/demoanalysis.py:76: RuntimeWarning: invalid value encountered in arccos\n",
      "  Tksp2 = np.arccos(\n",
      "/home/yazan/Repositories/Personal/mcd-clip/src/mcd_clip/bike_rider_fit/fit_analysis/vectorizedangles.py:158: RuntimeWarning: invalid value encountered in arccos\n",
      "  alpha_1 = np.arccos((x_1 ** 2 - UL_s - x_2 ** 2) / (-2 * UL * x_2))\n"
     ]
    },
    {
     "name": "stdout",
     "output_type": "stream",
     "text": [
      "embedding_distance_1 | min 0.6899999976158142, max [1.1799999475479126],  average [0.7200000286102295]\n",
      "embedding_distance_2 | min 0.09000000357627869, max [1.690000057220459],  average [0.14000000059604645]\n",
      "Validation result: fraction invalid [0.078]\n",
      "Validation result: fraction invalid [0.06]\n",
      "Validation result: fraction invalid [0.078]\n",
      "Validation result: fraction invalid [0.088]\n",
      "Validation result: fraction invalid [0.0]\n",
      "Validation result: fraction invalid [0.004]\n",
      "    30 |    14500 |    500 |  0.000000E+00 |  0.000000E+00 |  0.0061374018 |             f\n"
     ]
    },
    {
     "name": "stderr",
     "output_type": "stream",
     "text": [
      "/home/yazan/Repositories/Personal/mcd-clip/venv/lib/python3.10/site-packages/pymoo/operators/crossover/sbx.py:42: RuntimeWarning: divide by zero encountered in power\n",
      "  alpha = 2.0 - np.power(beta, -(eta + 1.0))\n",
      "/home/yazan/Repositories/Personal/mcd-clip/venv/lib/python3.10/site-packages/pymoo/operators/crossover/sbx.py:47: RuntimeWarning: invalid value encountered in power\n",
      "  betaq[mask] = np.power((rand * alpha), (1.0 / (eta + 1.0)))[mask]\n"
     ]
    },
    {
     "name": "stdout",
     "output_type": "stream",
     "text": [
      "Found framed material columns ['Material=Steel', 'Material=Aluminum', 'Material=Titanium']\n",
      "Mapping Material=Steel to MATERIAL OHCLASS: STEEL\n",
      "Mapping Material=Aluminum to MATERIAL OHCLASS: ALUMINUM\n",
      "Mapping Material=Titanium to MATERIAL OHCLASS: TITANIUM\n",
      "Found framed material columns ['Material=Steel', 'Material=Aluminum', 'Material=Titanium']\n",
      "Mapping Material=Steel to MATERIAL OHCLASS: STEEL\n",
      "Mapping Material=Aluminum to MATERIAL OHCLASS: ALUMINUM\n",
      "Mapping Material=Titanium to MATERIAL OHCLASS: TITANIUM\n"
     ]
    },
    {
     "name": "stderr",
     "output_type": "stream",
     "text": [
      "/home/yazan/Repositories/Personal/mcd-clip/src/mcd_clip/bike_rider_fit/fit_analysis/vectorizedangles.py:158: RuntimeWarning: invalid value encountered in arccos\n",
      "  alpha_1 = np.arccos((x_1 ** 2 - UL_s - x_2 ** 2) / (-2 * UL * x_2))\n",
      "/home/yazan/Repositories/Personal/mcd-clip/src/mcd_clip/bike_rider_fit/fit_analysis/demoanalysis.py:76: RuntimeWarning: invalid value encountered in arccos\n",
      "  Tksp2 = np.arccos(\n",
      "/home/yazan/Repositories/Personal/mcd-clip/src/mcd_clip/bike_rider_fit/fit_analysis/vectorizedangles.py:158: RuntimeWarning: invalid value encountered in arccos\n",
      "  alpha_1 = np.arccos((x_1 ** 2 - UL_s - x_2 ** 2) / (-2 * UL * x_2))\n"
     ]
    },
    {
     "name": "stdout",
     "output_type": "stream",
     "text": [
      "Found framed material columns ['Material=Steel', 'Material=Aluminum', 'Material=Titanium']\n",
      "Mapping Material=Steel to MATERIAL OHCLASS: STEEL\n",
      "Mapping Material=Aluminum to MATERIAL OHCLASS: ALUMINUM\n",
      "Mapping Material=Titanium to MATERIAL OHCLASS: TITANIUM\n",
      "embedding_distance_1 | min 0.6899999976158142, max [1.1799999475479126],  average [0.7300000190734863]\n",
      "embedding_distance_2 | min 0.07999999821186066, max [1.6799999475479126],  average [0.15000000596046448]\n",
      "Validation result: fraction invalid [0.084]\n",
      "Validation result: fraction invalid [0.092]\n",
      "Validation result: fraction invalid [0.108]\n",
      "Validation result: fraction invalid [0.086]\n",
      "Validation result: fraction invalid [0.0]\n",
      "Validation result: fraction invalid [0.002]\n",
      "    31 |    15000 |    500 |  0.000000E+00 |  0.000000E+00 |  0.0424002795 |         nadir\n"
     ]
    },
    {
     "name": "stderr",
     "output_type": "stream",
     "text": [
      "/home/yazan/Repositories/Personal/mcd-clip/venv/lib/python3.10/site-packages/pymoo/operators/crossover/sbx.py:42: RuntimeWarning: divide by zero encountered in power\n",
      "  alpha = 2.0 - np.power(beta, -(eta + 1.0))\n",
      "/home/yazan/Repositories/Personal/mcd-clip/venv/lib/python3.10/site-packages/pymoo/operators/crossover/sbx.py:47: RuntimeWarning: invalid value encountered in power\n",
      "  betaq[mask] = np.power((rand * alpha), (1.0 / (eta + 1.0)))[mask]\n"
     ]
    },
    {
     "name": "stdout",
     "output_type": "stream",
     "text": [
      "Found framed material columns ['Material=Steel', 'Material=Aluminum', 'Material=Titanium']\n",
      "Mapping Material=Steel to MATERIAL OHCLASS: STEEL\n",
      "Mapping Material=Aluminum to MATERIAL OHCLASS: ALUMINUM\n",
      "Mapping Material=Titanium to MATERIAL OHCLASS: TITANIUM\n",
      "Found framed material columns ['Material=Steel', 'Material=Aluminum', 'Material=Titanium']\n",
      "Mapping Material=Steel to MATERIAL OHCLASS: STEEL\n",
      "Mapping Material=Aluminum to MATERIAL OHCLASS: ALUMINUM\n",
      "Mapping Material=Titanium to MATERIAL OHCLASS: TITANIUM\n",
      "Found framed material columns ['Material=Steel', 'Material=Aluminum', 'Material=Titanium']\n",
      "Mapping Material=Steel to MATERIAL OHCLASS: STEEL\n",
      "Mapping Material=Aluminum to MATERIAL OHCLASS: ALUMINUM\n",
      "Mapping Material=Titanium to MATERIAL OHCLASS: TITANIUM\n"
     ]
    },
    {
     "name": "stderr",
     "output_type": "stream",
     "text": [
      "/home/yazan/Repositories/Personal/mcd-clip/src/mcd_clip/bike_rider_fit/fit_analysis/vectorizedangles.py:158: RuntimeWarning: invalid value encountered in arccos\n",
      "  alpha_1 = np.arccos((x_1 ** 2 - UL_s - x_2 ** 2) / (-2 * UL * x_2))\n",
      "/home/yazan/Repositories/Personal/mcd-clip/src/mcd_clip/bike_rider_fit/fit_analysis/demoanalysis.py:76: RuntimeWarning: invalid value encountered in arccos\n",
      "  Tksp2 = np.arccos(\n",
      "/home/yazan/Repositories/Personal/mcd-clip/src/mcd_clip/bike_rider_fit/fit_analysis/vectorizedangles.py:158: RuntimeWarning: invalid value encountered in arccos\n",
      "  alpha_1 = np.arccos((x_1 ** 2 - UL_s - x_2 ** 2) / (-2 * UL * x_2))\n"
     ]
    },
    {
     "name": "stdout",
     "output_type": "stream",
     "text": [
      "embedding_distance_1 | min 0.6899999976158142, max [1.1799999475479126],  average [0.7300000190734863]\n",
      "embedding_distance_2 | min 0.09000000357627869, max [1.6799999475479126],  average [0.17000000178813934]\n",
      "Validation result: fraction invalid [0.116]\n",
      "Validation result: fraction invalid [0.1]\n",
      "Validation result: fraction invalid [0.134]\n",
      "Validation result: fraction invalid [0.096]\n",
      "Validation result: fraction invalid [0.0]\n",
      "Validation result: fraction invalid [0.004]\n",
      "    32 |    15500 |    499 |  0.000000E+00 |  0.000000E+00 |  0.0059546001 |             f\n"
     ]
    },
    {
     "name": "stderr",
     "output_type": "stream",
     "text": [
      "/home/yazan/Repositories/Personal/mcd-clip/venv/lib/python3.10/site-packages/pymoo/operators/crossover/sbx.py:42: RuntimeWarning: divide by zero encountered in power\n",
      "  alpha = 2.0 - np.power(beta, -(eta + 1.0))\n",
      "/home/yazan/Repositories/Personal/mcd-clip/venv/lib/python3.10/site-packages/pymoo/operators/crossover/sbx.py:47: RuntimeWarning: invalid value encountered in power\n",
      "  betaq[mask] = np.power((rand * alpha), (1.0 / (eta + 1.0)))[mask]\n"
     ]
    },
    {
     "name": "stdout",
     "output_type": "stream",
     "text": [
      "Found framed material columns ['Material=Steel', 'Material=Aluminum', 'Material=Titanium']\n",
      "Mapping Material=Steel to MATERIAL OHCLASS: STEEL\n",
      "Mapping Material=Aluminum to MATERIAL OHCLASS: ALUMINUM\n",
      "Mapping Material=Titanium to MATERIAL OHCLASS: TITANIUM\n",
      "Found framed material columns ['Material=Steel', 'Material=Aluminum', 'Material=Titanium']\n",
      "Mapping Material=Steel to MATERIAL OHCLASS: STEEL\n",
      "Mapping Material=Aluminum to MATERIAL OHCLASS: ALUMINUM\n",
      "Mapping Material=Titanium to MATERIAL OHCLASS: TITANIUM\n"
     ]
    },
    {
     "name": "stderr",
     "output_type": "stream",
     "text": [
      "/home/yazan/Repositories/Personal/mcd-clip/src/mcd_clip/bike_rider_fit/fit_analysis/vectorizedangles.py:158: RuntimeWarning: invalid value encountered in arccos\n",
      "  alpha_1 = np.arccos((x_1 ** 2 - UL_s - x_2 ** 2) / (-2 * UL * x_2))\n",
      "/home/yazan/Repositories/Personal/mcd-clip/src/mcd_clip/bike_rider_fit/fit_analysis/demoanalysis.py:76: RuntimeWarning: invalid value encountered in arccos\n",
      "  Tksp2 = np.arccos(\n",
      "/home/yazan/Repositories/Personal/mcd-clip/src/mcd_clip/bike_rider_fit/fit_analysis/vectorizedangles.py:158: RuntimeWarning: invalid value encountered in arccos\n",
      "  alpha_1 = np.arccos((x_1 ** 2 - UL_s - x_2 ** 2) / (-2 * UL * x_2))\n"
     ]
    },
    {
     "name": "stdout",
     "output_type": "stream",
     "text": [
      "Found framed material columns ['Material=Steel', 'Material=Aluminum', 'Material=Titanium']\n",
      "Mapping Material=Steel to MATERIAL OHCLASS: STEEL\n",
      "Mapping Material=Aluminum to MATERIAL OHCLASS: ALUMINUM\n",
      "Mapping Material=Titanium to MATERIAL OHCLASS: TITANIUM\n",
      "embedding_distance_1 | min 0.6899999976158142, max [1.1799999475479126],  average [0.7200000286102295]\n",
      "embedding_distance_2 | min 0.07999999821186066, max [1.6699999570846558],  average [0.14000000059604645]\n",
      "Validation result: fraction invalid [0.068]\n",
      "Validation result: fraction invalid [0.074]\n",
      "Validation result: fraction invalid [0.08]\n",
      "Validation result: fraction invalid [0.072]\n",
      "Validation result: fraction invalid [0.0]\n",
      "Validation result: fraction invalid [0.002]\n",
      "    33 |    16000 |    500 |  0.000000E+00 |  0.000000E+00 |  0.0074156261 |             f\n"
     ]
    },
    {
     "name": "stderr",
     "output_type": "stream",
     "text": [
      "/home/yazan/Repositories/Personal/mcd-clip/venv/lib/python3.10/site-packages/pymoo/operators/crossover/sbx.py:42: RuntimeWarning: divide by zero encountered in power\n",
      "  alpha = 2.0 - np.power(beta, -(eta + 1.0))\n",
      "/home/yazan/Repositories/Personal/mcd-clip/venv/lib/python3.10/site-packages/pymoo/operators/crossover/sbx.py:47: RuntimeWarning: invalid value encountered in power\n",
      "  betaq[mask] = np.power((rand * alpha), (1.0 / (eta + 1.0)))[mask]\n"
     ]
    },
    {
     "name": "stdout",
     "output_type": "stream",
     "text": [
      "Found framed material columns ['Material=Steel', 'Material=Aluminum', 'Material=Titanium']\n",
      "Mapping Material=Steel to MATERIAL OHCLASS: STEEL\n",
      "Mapping Material=Aluminum to MATERIAL OHCLASS: ALUMINUM\n",
      "Mapping Material=Titanium to MATERIAL OHCLASS: TITANIUM\n",
      "Found framed material columns ['Material=Steel', 'Material=Aluminum', 'Material=Titanium']\n",
      "Mapping Material=Steel to MATERIAL OHCLASS: STEEL\n",
      "Mapping Material=Aluminum to MATERIAL OHCLASS: ALUMINUM\n",
      "Mapping Material=Titanium to MATERIAL OHCLASS: TITANIUM\n"
     ]
    },
    {
     "name": "stderr",
     "output_type": "stream",
     "text": [
      "/home/yazan/Repositories/Personal/mcd-clip/src/mcd_clip/bike_rider_fit/fit_analysis/vectorizedangles.py:158: RuntimeWarning: invalid value encountered in arccos\n",
      "  alpha_1 = np.arccos((x_1 ** 2 - UL_s - x_2 ** 2) / (-2 * UL * x_2))\n",
      "/home/yazan/Repositories/Personal/mcd-clip/src/mcd_clip/bike_rider_fit/fit_analysis/demoanalysis.py:76: RuntimeWarning: invalid value encountered in arccos\n",
      "  Tksp2 = np.arccos(\n",
      "/home/yazan/Repositories/Personal/mcd-clip/src/mcd_clip/bike_rider_fit/fit_analysis/vectorizedangles.py:158: RuntimeWarning: invalid value encountered in arccos\n",
      "  alpha_1 = np.arccos((x_1 ** 2 - UL_s - x_2 ** 2) / (-2 * UL * x_2))\n"
     ]
    },
    {
     "name": "stdout",
     "output_type": "stream",
     "text": [
      "Found framed material columns ['Material=Steel', 'Material=Aluminum', 'Material=Titanium']\n",
      "Mapping Material=Steel to MATERIAL OHCLASS: STEEL\n",
      "Mapping Material=Aluminum to MATERIAL OHCLASS: ALUMINUM\n",
      "Mapping Material=Titanium to MATERIAL OHCLASS: TITANIUM\n",
      "embedding_distance_1 | min 0.6899999976158142, max [1.1799999475479126],  average [0.7200000286102295]\n",
      "embedding_distance_2 | min 0.07999999821186066, max [1.6799999475479126],  average [0.14000000059604645]\n",
      "Validation result: fraction invalid [0.084]\n",
      "Validation result: fraction invalid [0.058]\n",
      "Validation result: fraction invalid [0.076]\n",
      "Validation result: fraction invalid [0.082]\n",
      "Validation result: fraction invalid [0.0]\n",
      "Validation result: fraction invalid [0.006]\n",
      "    34 |    16500 |    500 |  0.000000E+00 |  0.000000E+00 |  0.0051451824 |             f\n"
     ]
    },
    {
     "name": "stderr",
     "output_type": "stream",
     "text": [
      "/home/yazan/Repositories/Personal/mcd-clip/venv/lib/python3.10/site-packages/pymoo/operators/crossover/sbx.py:42: RuntimeWarning: divide by zero encountered in power\n",
      "  alpha = 2.0 - np.power(beta, -(eta + 1.0))\n",
      "/home/yazan/Repositories/Personal/mcd-clip/venv/lib/python3.10/site-packages/pymoo/operators/crossover/sbx.py:47: RuntimeWarning: invalid value encountered in power\n",
      "  betaq[mask] = np.power((rand * alpha), (1.0 / (eta + 1.0)))[mask]\n",
      "/home/yazan/Repositories/Personal/mcd-clip/venv/lib/python3.10/site-packages/pymoo/operators/mutation/pm.py:45: RuntimeWarning: invalid value encountered in power\n",
      "  d = np.power(val, mut_pow) - 1.0\n"
     ]
    },
    {
     "name": "stdout",
     "output_type": "stream",
     "text": [
      "Found framed material columns ['Material=Steel', 'Material=Aluminum', 'Material=Titanium']\n",
      "Mapping Material=Steel to MATERIAL OHCLASS: STEEL\n",
      "Mapping Material=Aluminum to MATERIAL OHCLASS: ALUMINUM\n",
      "Mapping Material=Titanium to MATERIAL OHCLASS: TITANIUM\n",
      "Found framed material columns ['Material=Steel', 'Material=Aluminum', 'Material=Titanium']\n",
      "Mapping Material=Steel to MATERIAL OHCLASS: STEEL\n",
      "Mapping Material=Aluminum to MATERIAL OHCLASS: ALUMINUM\n",
      "Mapping Material=Titanium to MATERIAL OHCLASS: TITANIUM\n",
      "Found framed material columns ['Material=Steel', 'Material=Aluminum', 'Material=Titanium']\n",
      "Mapping Material=Steel to MATERIAL OHCLASS: STEEL\n",
      "Mapping Material=Aluminum to MATERIAL OHCLASS: ALUMINUM\n",
      "Mapping Material=Titanium to MATERIAL OHCLASS: TITANIUM\n"
     ]
    },
    {
     "name": "stderr",
     "output_type": "stream",
     "text": [
      "/home/yazan/Repositories/Personal/mcd-clip/src/mcd_clip/bike_rider_fit/fit_analysis/vectorizedangles.py:158: RuntimeWarning: invalid value encountered in arccos\n",
      "  alpha_1 = np.arccos((x_1 ** 2 - UL_s - x_2 ** 2) / (-2 * UL * x_2))\n",
      "/home/yazan/Repositories/Personal/mcd-clip/src/mcd_clip/bike_rider_fit/fit_analysis/demoanalysis.py:76: RuntimeWarning: invalid value encountered in arccos\n",
      "  Tksp2 = np.arccos(\n",
      "/home/yazan/Repositories/Personal/mcd-clip/src/mcd_clip/bike_rider_fit/fit_analysis/vectorizedangles.py:158: RuntimeWarning: invalid value encountered in arccos\n",
      "  alpha_1 = np.arccos((x_1 ** 2 - UL_s - x_2 ** 2) / (-2 * UL * x_2))\n"
     ]
    },
    {
     "name": "stdout",
     "output_type": "stream",
     "text": [
      "embedding_distance_1 | min 0.6899999976158142, max [1.1799999475479126],  average [0.7400000095367432]\n",
      "embedding_distance_2 | min 0.09000000357627869, max [1.690000057220459],  average [0.17000000178813934]\n",
      "Validation result: fraction invalid [0.078]\n",
      "Validation result: fraction invalid [0.096]\n",
      "Validation result: fraction invalid [0.11]\n",
      "Validation result: fraction invalid [0.126]\n",
      "Validation result: fraction invalid [0.0]\n",
      "Validation result: fraction invalid [0.008]\n",
      "    35 |    17000 |    500 |  0.000000E+00 |  0.000000E+00 |  0.0049388444 |             f\n"
     ]
    },
    {
     "name": "stderr",
     "output_type": "stream",
     "text": [
      "/home/yazan/Repositories/Personal/mcd-clip/venv/lib/python3.10/site-packages/pymoo/operators/crossover/sbx.py:42: RuntimeWarning: divide by zero encountered in power\n",
      "  alpha = 2.0 - np.power(beta, -(eta + 1.0))\n",
      "/home/yazan/Repositories/Personal/mcd-clip/venv/lib/python3.10/site-packages/pymoo/operators/crossover/sbx.py:47: RuntimeWarning: invalid value encountered in power\n",
      "  betaq[mask] = np.power((rand * alpha), (1.0 / (eta + 1.0)))[mask]\n"
     ]
    },
    {
     "name": "stdout",
     "output_type": "stream",
     "text": [
      "Found framed material columns ['Material=Steel', 'Material=Aluminum', 'Material=Titanium']\n",
      "Mapping Material=Steel to MATERIAL OHCLASS: STEEL\n",
      "Mapping Material=Aluminum to MATERIAL OHCLASS: ALUMINUM\n",
      "Mapping Material=Titanium to MATERIAL OHCLASS: TITANIUM\n",
      "Found framed material columns ['Material=Steel', 'Material=Aluminum', 'Material=Titanium']\n",
      "Mapping Material=Steel to MATERIAL OHCLASS: STEEL\n",
      "Mapping Material=Aluminum to MATERIAL OHCLASS: ALUMINUM\n",
      "Mapping Material=Titanium to MATERIAL OHCLASS: TITANIUM\n",
      "Found framed material columns ['Material=Steel', 'Material=Aluminum', 'Material=Titanium']\n",
      "Mapping Material=Steel to MATERIAL OHCLASS: STEEL\n",
      "Mapping Material=Aluminum to MATERIAL OHCLASS: ALUMINUM\n",
      "Mapping Material=Titanium to MATERIAL OHCLASS: TITANIUM\n"
     ]
    },
    {
     "name": "stderr",
     "output_type": "stream",
     "text": [
      "/home/yazan/Repositories/Personal/mcd-clip/src/mcd_clip/bike_rider_fit/fit_analysis/vectorizedangles.py:158: RuntimeWarning: invalid value encountered in arccos\n",
      "  alpha_1 = np.arccos((x_1 ** 2 - UL_s - x_2 ** 2) / (-2 * UL * x_2))\n",
      "/home/yazan/Repositories/Personal/mcd-clip/src/mcd_clip/bike_rider_fit/fit_analysis/demoanalysis.py:76: RuntimeWarning: invalid value encountered in arccos\n",
      "  Tksp2 = np.arccos(\n",
      "/home/yazan/Repositories/Personal/mcd-clip/src/mcd_clip/bike_rider_fit/fit_analysis/vectorizedangles.py:158: RuntimeWarning: invalid value encountered in arccos\n",
      "  alpha_1 = np.arccos((x_1 ** 2 - UL_s - x_2 ** 2) / (-2 * UL * x_2))\n"
     ]
    },
    {
     "name": "stdout",
     "output_type": "stream",
     "text": [
      "embedding_distance_1 | min 0.699999988079071, max [1.1799999475479126],  average [0.7400000095367432]\n",
      "embedding_distance_2 | min 0.09000000357627869, max [1.6799999475479126],  average [0.17000000178813934]\n",
      "Validation result: fraction invalid [0.1]\n",
      "Validation result: fraction invalid [0.088]\n",
      "Validation result: fraction invalid [0.122]\n",
      "Validation result: fraction invalid [0.108]\n",
      "Validation result: fraction invalid [0.0]\n",
      "Validation result: fraction invalid [0.002]\n",
      "    36 |    17500 |    500 |  0.000000E+00 |  0.000000E+00 |  0.0046095420 |             f\n"
     ]
    },
    {
     "name": "stderr",
     "output_type": "stream",
     "text": [
      "/home/yazan/Repositories/Personal/mcd-clip/venv/lib/python3.10/site-packages/pymoo/operators/crossover/sbx.py:42: RuntimeWarning: divide by zero encountered in power\n",
      "  alpha = 2.0 - np.power(beta, -(eta + 1.0))\n",
      "/home/yazan/Repositories/Personal/mcd-clip/venv/lib/python3.10/site-packages/pymoo/operators/crossover/sbx.py:47: RuntimeWarning: invalid value encountered in power\n",
      "  betaq[mask] = np.power((rand * alpha), (1.0 / (eta + 1.0)))[mask]\n",
      "/home/yazan/Repositories/Personal/mcd-clip/venv/lib/python3.10/site-packages/pymoo/operators/mutation/pm.py:45: RuntimeWarning: invalid value encountered in power\n",
      "  d = np.power(val, mut_pow) - 1.0\n"
     ]
    },
    {
     "name": "stdout",
     "output_type": "stream",
     "text": [
      "Found framed material columns ['Material=Steel', 'Material=Aluminum', 'Material=Titanium']\n",
      "Mapping Material=Steel to MATERIAL OHCLASS: STEEL\n",
      "Mapping Material=Aluminum to MATERIAL OHCLASS: ALUMINUM\n",
      "Mapping Material=Titanium to MATERIAL OHCLASS: TITANIUM\n",
      "Found framed material columns ['Material=Steel', 'Material=Aluminum', 'Material=Titanium']\n",
      "Mapping Material=Steel to MATERIAL OHCLASS: STEEL\n",
      "Mapping Material=Aluminum to MATERIAL OHCLASS: ALUMINUM\n",
      "Mapping Material=Titanium to MATERIAL OHCLASS: TITANIUM\n"
     ]
    },
    {
     "name": "stderr",
     "output_type": "stream",
     "text": [
      "/home/yazan/Repositories/Personal/mcd-clip/src/mcd_clip/bike_rider_fit/fit_analysis/vectorizedangles.py:158: RuntimeWarning: invalid value encountered in arccos\n",
      "  alpha_1 = np.arccos((x_1 ** 2 - UL_s - x_2 ** 2) / (-2 * UL * x_2))\n",
      "/home/yazan/Repositories/Personal/mcd-clip/src/mcd_clip/bike_rider_fit/fit_analysis/demoanalysis.py:76: RuntimeWarning: invalid value encountered in arccos\n",
      "  Tksp2 = np.arccos(\n",
      "/home/yazan/Repositories/Personal/mcd-clip/src/mcd_clip/bike_rider_fit/fit_analysis/vectorizedangles.py:158: RuntimeWarning: invalid value encountered in arccos\n",
      "  alpha_1 = np.arccos((x_1 ** 2 - UL_s - x_2 ** 2) / (-2 * UL * x_2))\n"
     ]
    },
    {
     "name": "stdout",
     "output_type": "stream",
     "text": [
      "Found framed material columns ['Material=Steel', 'Material=Aluminum', 'Material=Titanium']\n",
      "Mapping Material=Steel to MATERIAL OHCLASS: STEEL\n",
      "Mapping Material=Aluminum to MATERIAL OHCLASS: ALUMINUM\n",
      "Mapping Material=Titanium to MATERIAL OHCLASS: TITANIUM\n",
      "embedding_distance_1 | min 0.6899999976158142, max [1.1799999475479126],  average [0.7200000286102295]\n",
      "embedding_distance_2 | min 0.09000000357627869, max [1.6799999475479126],  average [0.14000000059604645]\n",
      "Validation result: fraction invalid [0.07]\n",
      "Validation result: fraction invalid [0.062]\n",
      "Validation result: fraction invalid [0.078]\n",
      "Validation result: fraction invalid [0.072]\n",
      "Validation result: fraction invalid [0.0]\n",
      "Validation result: fraction invalid [0.002]\n",
      "    37 |    18000 |    500 |  0.000000E+00 |  0.000000E+00 |  0.0071910056 |             f\n"
     ]
    },
    {
     "name": "stderr",
     "output_type": "stream",
     "text": [
      "/home/yazan/Repositories/Personal/mcd-clip/venv/lib/python3.10/site-packages/pymoo/operators/crossover/sbx.py:42: RuntimeWarning: divide by zero encountered in power\n",
      "  alpha = 2.0 - np.power(beta, -(eta + 1.0))\n",
      "/home/yazan/Repositories/Personal/mcd-clip/venv/lib/python3.10/site-packages/pymoo/operators/crossover/sbx.py:47: RuntimeWarning: invalid value encountered in power\n",
      "  betaq[mask] = np.power((rand * alpha), (1.0 / (eta + 1.0)))[mask]\n"
     ]
    },
    {
     "name": "stdout",
     "output_type": "stream",
     "text": [
      "Found framed material columns ['Material=Steel', 'Material=Aluminum', 'Material=Titanium']\n",
      "Mapping Material=Steel to MATERIAL OHCLASS: STEEL\n",
      "Mapping Material=Aluminum to MATERIAL OHCLASS: ALUMINUM\n",
      "Mapping Material=Titanium to MATERIAL OHCLASS: TITANIUM\n",
      "Found framed material columns ['Material=Steel', 'Material=Aluminum', 'Material=Titanium']\n",
      "Mapping Material=Steel to MATERIAL OHCLASS: STEEL\n",
      "Mapping Material=Aluminum to MATERIAL OHCLASS: ALUMINUM\n",
      "Mapping Material=Titanium to MATERIAL OHCLASS: TITANIUM\n",
      "Found framed material columns ['Material=Steel', 'Material=Aluminum', 'Material=Titanium']\n",
      "Mapping Material=Steel to MATERIAL OHCLASS: STEEL\n",
      "Mapping Material=Aluminum to MATERIAL OHCLASS: ALUMINUM\n",
      "Mapping Material=Titanium to MATERIAL OHCLASS: TITANIUM\n"
     ]
    },
    {
     "name": "stderr",
     "output_type": "stream",
     "text": [
      "/home/yazan/Repositories/Personal/mcd-clip/src/mcd_clip/bike_rider_fit/fit_analysis/vectorizedangles.py:158: RuntimeWarning: invalid value encountered in arccos\n",
      "  alpha_1 = np.arccos((x_1 ** 2 - UL_s - x_2 ** 2) / (-2 * UL * x_2))\n",
      "/home/yazan/Repositories/Personal/mcd-clip/src/mcd_clip/bike_rider_fit/fit_analysis/demoanalysis.py:76: RuntimeWarning: invalid value encountered in arccos\n",
      "  Tksp2 = np.arccos(\n",
      "/home/yazan/Repositories/Personal/mcd-clip/src/mcd_clip/bike_rider_fit/fit_analysis/vectorizedangles.py:158: RuntimeWarning: invalid value encountered in arccos\n",
      "  alpha_1 = np.arccos((x_1 ** 2 - UL_s - x_2 ** 2) / (-2 * UL * x_2))\n"
     ]
    },
    {
     "name": "stdout",
     "output_type": "stream",
     "text": [
      "embedding_distance_1 | min 0.6899999976158142, max [1.1699999570846558],  average [0.7200000286102295]\n",
      "embedding_distance_2 | min 0.07000000029802322, max [1.6299999952316284],  average [0.12999999523162842]\n",
      "Validation result: fraction invalid [0.064]\n",
      "Validation result: fraction invalid [0.05]\n",
      "Validation result: fraction invalid [0.104]\n",
      "Validation result: fraction invalid [0.082]\n",
      "Validation result: fraction invalid [0.0]\n",
      "Validation result: fraction invalid [0.002]\n",
      "    38 |    18500 |    500 |  0.000000E+00 |  0.000000E+00 |  0.0054698426 |             f\n"
     ]
    },
    {
     "name": "stderr",
     "output_type": "stream",
     "text": [
      "/home/yazan/Repositories/Personal/mcd-clip/venv/lib/python3.10/site-packages/pymoo/operators/crossover/sbx.py:42: RuntimeWarning: divide by zero encountered in power\n",
      "  alpha = 2.0 - np.power(beta, -(eta + 1.0))\n",
      "/home/yazan/Repositories/Personal/mcd-clip/venv/lib/python3.10/site-packages/pymoo/operators/crossover/sbx.py:47: RuntimeWarning: invalid value encountered in power\n",
      "  betaq[mask] = np.power((rand * alpha), (1.0 / (eta + 1.0)))[mask]\n"
     ]
    },
    {
     "name": "stdout",
     "output_type": "stream",
     "text": [
      "Found framed material columns ['Material=Steel', 'Material=Aluminum', 'Material=Titanium']\n",
      "Mapping Material=Steel to MATERIAL OHCLASS: STEEL\n",
      "Mapping Material=Aluminum to MATERIAL OHCLASS: ALUMINUM\n",
      "Mapping Material=Titanium to MATERIAL OHCLASS: TITANIUM\n",
      "Found framed material columns ['Material=Steel', 'Material=Aluminum', 'Material=Titanium']\n",
      "Mapping Material=Steel to MATERIAL OHCLASS: STEEL\n",
      "Mapping Material=Aluminum to MATERIAL OHCLASS: ALUMINUM\n",
      "Mapping Material=Titanium to MATERIAL OHCLASS: TITANIUM\n"
     ]
    },
    {
     "name": "stderr",
     "output_type": "stream",
     "text": [
      "/home/yazan/Repositories/Personal/mcd-clip/src/mcd_clip/bike_rider_fit/fit_analysis/vectorizedangles.py:158: RuntimeWarning: invalid value encountered in arccos\n",
      "  alpha_1 = np.arccos((x_1 ** 2 - UL_s - x_2 ** 2) / (-2 * UL * x_2))\n",
      "/home/yazan/Repositories/Personal/mcd-clip/src/mcd_clip/bike_rider_fit/fit_analysis/demoanalysis.py:76: RuntimeWarning: invalid value encountered in arccos\n",
      "  Tksp2 = np.arccos(\n"
     ]
    },
    {
     "name": "stdout",
     "output_type": "stream",
     "text": [
      "Found framed material columns ['Material=Steel', 'Material=Aluminum', 'Material=Titanium']\n",
      "Mapping Material=Steel to MATERIAL OHCLASS: STEEL\n",
      "Mapping Material=Aluminum to MATERIAL OHCLASS: ALUMINUM\n",
      "Mapping Material=Titanium to MATERIAL OHCLASS: TITANIUM\n",
      "embedding_distance_1 | min 0.699999988079071, max [1.1799999475479126],  average [0.7400000095367432]\n",
      "embedding_distance_2 | min 0.10999999940395355, max [1.6799999475479126],  average [0.1599999964237213]\n"
     ]
    },
    {
     "name": "stderr",
     "output_type": "stream",
     "text": [
      "/home/yazan/Repositories/Personal/mcd-clip/src/mcd_clip/bike_rider_fit/fit_analysis/vectorizedangles.py:158: RuntimeWarning: invalid value encountered in arccos\n",
      "  alpha_1 = np.arccos((x_1 ** 2 - UL_s - x_2 ** 2) / (-2 * UL * x_2))\n"
     ]
    },
    {
     "name": "stdout",
     "output_type": "stream",
     "text": [
      "Validation result: fraction invalid [0.052]\n",
      "Validation result: fraction invalid [0.056]\n",
      "Validation result: fraction invalid [0.098]\n",
      "Validation result: fraction invalid [0.098]\n",
      "Validation result: fraction invalid [0.0]\n",
      "Validation result: fraction invalid [0.0]\n",
      "    39 |    19000 |    500 |  0.000000E+00 |  0.000000E+00 |  0.0017153113 |             f\n"
     ]
    },
    {
     "name": "stderr",
     "output_type": "stream",
     "text": [
      "/home/yazan/Repositories/Personal/mcd-clip/venv/lib/python3.10/site-packages/pymoo/operators/crossover/sbx.py:42: RuntimeWarning: divide by zero encountered in power\n",
      "  alpha = 2.0 - np.power(beta, -(eta + 1.0))\n",
      "/home/yazan/Repositories/Personal/mcd-clip/venv/lib/python3.10/site-packages/pymoo/operators/crossover/sbx.py:47: RuntimeWarning: invalid value encountered in power\n",
      "  betaq[mask] = np.power((rand * alpha), (1.0 / (eta + 1.0)))[mask]\n",
      "/home/yazan/Repositories/Personal/mcd-clip/venv/lib/python3.10/site-packages/pymoo/operators/mutation/pm.py:45: RuntimeWarning: invalid value encountered in power\n",
      "  d = np.power(val, mut_pow) - 1.0\n"
     ]
    },
    {
     "name": "stdout",
     "output_type": "stream",
     "text": [
      "Found framed material columns ['Material=Steel', 'Material=Aluminum', 'Material=Titanium']\n",
      "Mapping Material=Steel to MATERIAL OHCLASS: STEEL\n",
      "Mapping Material=Aluminum to MATERIAL OHCLASS: ALUMINUM\n",
      "Mapping Material=Titanium to MATERIAL OHCLASS: TITANIUM\n",
      "Found framed material columns ['Material=Steel', 'Material=Aluminum', 'Material=Titanium']\n",
      "Mapping Material=Steel to MATERIAL OHCLASS: STEEL\n",
      "Mapping Material=Aluminum to MATERIAL OHCLASS: ALUMINUM\n",
      "Mapping Material=Titanium to MATERIAL OHCLASS: TITANIUM\n",
      "Found framed material columns ['Material=Steel', 'Material=Aluminum', 'Material=Titanium']\n",
      "Mapping Material=Steel to MATERIAL OHCLASS: STEEL\n",
      "Mapping Material=Aluminum to MATERIAL OHCLASS: ALUMINUM\n",
      "Mapping Material=Titanium to MATERIAL OHCLASS: TITANIUM\n"
     ]
    },
    {
     "name": "stderr",
     "output_type": "stream",
     "text": [
      "/home/yazan/Repositories/Personal/mcd-clip/src/mcd_clip/bike_rider_fit/fit_analysis/vectorizedangles.py:158: RuntimeWarning: invalid value encountered in arccos\n",
      "  alpha_1 = np.arccos((x_1 ** 2 - UL_s - x_2 ** 2) / (-2 * UL * x_2))\n",
      "/home/yazan/Repositories/Personal/mcd-clip/src/mcd_clip/bike_rider_fit/fit_analysis/demoanalysis.py:76: RuntimeWarning: invalid value encountered in arccos\n",
      "  Tksp2 = np.arccos(\n",
      "/home/yazan/Repositories/Personal/mcd-clip/src/mcd_clip/bike_rider_fit/fit_analysis/vectorizedangles.py:158: RuntimeWarning: invalid value encountered in arccos\n",
      "  alpha_1 = np.arccos((x_1 ** 2 - UL_s - x_2 ** 2) / (-2 * UL * x_2))\n"
     ]
    },
    {
     "name": "stdout",
     "output_type": "stream",
     "text": [
      "embedding_distance_1 | min 0.6899999976158142, max [1.1799999475479126],  average [0.7200000286102295]\n",
      "embedding_distance_2 | min 0.07999999821186066, max [1.690000057220459],  average [0.14000000059604645]\n",
      "Validation result: fraction invalid [0.102]\n",
      "Validation result: fraction invalid [0.1]\n",
      "Validation result: fraction invalid [0.078]\n",
      "Validation result: fraction invalid [0.09]\n",
      "Validation result: fraction invalid [0.0]\n",
      "Validation result: fraction invalid [0.004]\n",
      "    40 |    19500 |    500 |  0.000000E+00 |  0.000000E+00 |  0.0074410158 |             f\n"
     ]
    },
    {
     "name": "stderr",
     "output_type": "stream",
     "text": [
      "/home/yazan/Repositories/Personal/mcd-clip/venv/lib/python3.10/site-packages/pymoo/operators/crossover/sbx.py:42: RuntimeWarning: divide by zero encountered in power\n",
      "  alpha = 2.0 - np.power(beta, -(eta + 1.0))\n",
      "/home/yazan/Repositories/Personal/mcd-clip/venv/lib/python3.10/site-packages/pymoo/operators/crossover/sbx.py:47: RuntimeWarning: invalid value encountered in power\n",
      "  betaq[mask] = np.power((rand * alpha), (1.0 / (eta + 1.0)))[mask]\n"
     ]
    },
    {
     "name": "stdout",
     "output_type": "stream",
     "text": [
      "Found framed material columns ['Material=Steel', 'Material=Aluminum', 'Material=Titanium']\n",
      "Mapping Material=Steel to MATERIAL OHCLASS: STEEL\n",
      "Mapping Material=Aluminum to MATERIAL OHCLASS: ALUMINUM\n",
      "Mapping Material=Titanium to MATERIAL OHCLASS: TITANIUM\n",
      "Found framed material columns ['Material=Steel', 'Material=Aluminum', 'Material=Titanium']\n",
      "Mapping Material=Steel to MATERIAL OHCLASS: STEEL\n",
      "Mapping Material=Aluminum to MATERIAL OHCLASS: ALUMINUM\n",
      "Mapping Material=Titanium to MATERIAL OHCLASS: TITANIUM\n",
      "Found framed material columns ['Material=Steel', 'Material=Aluminum', 'Material=Titanium']\n",
      "Mapping Material=Steel to MATERIAL OHCLASS: STEEL\n",
      "Mapping Material=Aluminum to MATERIAL OHCLASS: ALUMINUM\n",
      "Mapping Material=Titanium to MATERIAL OHCLASS: TITANIUM\n"
     ]
    },
    {
     "name": "stderr",
     "output_type": "stream",
     "text": [
      "/home/yazan/Repositories/Personal/mcd-clip/src/mcd_clip/bike_rider_fit/fit_analysis/vectorizedangles.py:158: RuntimeWarning: invalid value encountered in arccos\n",
      "  alpha_1 = np.arccos((x_1 ** 2 - UL_s - x_2 ** 2) / (-2 * UL * x_2))\n",
      "/home/yazan/Repositories/Personal/mcd-clip/src/mcd_clip/bike_rider_fit/fit_analysis/demoanalysis.py:76: RuntimeWarning: invalid value encountered in arccos\n",
      "  Tksp2 = np.arccos(\n",
      "/home/yazan/Repositories/Personal/mcd-clip/src/mcd_clip/bike_rider_fit/fit_analysis/vectorizedangles.py:158: RuntimeWarning: invalid value encountered in arccos\n",
      "  alpha_1 = np.arccos((x_1 ** 2 - UL_s - x_2 ** 2) / (-2 * UL * x_2))\n"
     ]
    },
    {
     "name": "stdout",
     "output_type": "stream",
     "text": [
      "embedding_distance_1 | min 0.6899999976158142, max [1.1699999570846558],  average [0.7200000286102295]\n",
      "embedding_distance_2 | min 0.07999999821186066, max [1.6299999952316284],  average [0.14000000059604645]\n",
      "Validation result: fraction invalid [0.072]\n",
      "Validation result: fraction invalid [0.07]\n",
      "Validation result: fraction invalid [0.096]\n",
      "Validation result: fraction invalid [0.064]\n",
      "Validation result: fraction invalid [0.0]\n",
      "Validation result: fraction invalid [0.008]\n",
      "    41 |    20000 |    500 |  0.000000E+00 |  0.000000E+00 |  0.0350877193 |         nadir\n"
     ]
    },
    {
     "name": "stderr",
     "output_type": "stream",
     "text": [
      "/home/yazan/Repositories/Personal/mcd-clip/venv/lib/python3.10/site-packages/pymoo/operators/crossover/sbx.py:42: RuntimeWarning: divide by zero encountered in power\n",
      "  alpha = 2.0 - np.power(beta, -(eta + 1.0))\n",
      "/home/yazan/Repositories/Personal/mcd-clip/venv/lib/python3.10/site-packages/pymoo/operators/crossover/sbx.py:47: RuntimeWarning: invalid value encountered in power\n",
      "  betaq[mask] = np.power((rand * alpha), (1.0 / (eta + 1.0)))[mask]\n"
     ]
    },
    {
     "name": "stdout",
     "output_type": "stream",
     "text": [
      "Found framed material columns ['Material=Steel', 'Material=Aluminum', 'Material=Titanium']\n",
      "Mapping Material=Steel to MATERIAL OHCLASS: STEEL\n",
      "Mapping Material=Aluminum to MATERIAL OHCLASS: ALUMINUM\n",
      "Mapping Material=Titanium to MATERIAL OHCLASS: TITANIUM\n",
      "Found framed material columns ['Material=Steel', 'Material=Aluminum', 'Material=Titanium']\n",
      "Mapping Material=Steel to MATERIAL OHCLASS: STEEL\n",
      "Mapping Material=Aluminum to MATERIAL OHCLASS: ALUMINUM\n",
      "Mapping Material=Titanium to MATERIAL OHCLASS: TITANIUM\n",
      "Found framed material columns ['Material=Steel', 'Material=Aluminum', 'Material=Titanium']\n",
      "Mapping Material=Steel to MATERIAL OHCLASS: STEEL\n",
      "Mapping Material=Aluminum to MATERIAL OHCLASS: ALUMINUM\n",
      "Mapping Material=Titanium to MATERIAL OHCLASS: TITANIUM\n"
     ]
    },
    {
     "name": "stderr",
     "output_type": "stream",
     "text": [
      "/home/yazan/Repositories/Personal/mcd-clip/src/mcd_clip/bike_rider_fit/fit_analysis/vectorizedangles.py:158: RuntimeWarning: invalid value encountered in arccos\n",
      "  alpha_1 = np.arccos((x_1 ** 2 - UL_s - x_2 ** 2) / (-2 * UL * x_2))\n",
      "/home/yazan/Repositories/Personal/mcd-clip/src/mcd_clip/bike_rider_fit/fit_analysis/demoanalysis.py:76: RuntimeWarning: invalid value encountered in arccos\n",
      "  Tksp2 = np.arccos(\n",
      "/home/yazan/Repositories/Personal/mcd-clip/src/mcd_clip/bike_rider_fit/fit_analysis/vectorizedangles.py:158: RuntimeWarning: invalid value encountered in arccos\n",
      "  alpha_1 = np.arccos((x_1 ** 2 - UL_s - x_2 ** 2) / (-2 * UL * x_2))\n"
     ]
    },
    {
     "name": "stdout",
     "output_type": "stream",
     "text": [
      "embedding_distance_1 | min 0.6899999976158142, max [1.1799999475479126],  average [0.7200000286102295]\n",
      "embedding_distance_2 | min 0.07999999821186066, max [1.6799999475479126],  average [0.12999999523162842]\n",
      "Validation result: fraction invalid [0.088]\n",
      "Validation result: fraction invalid [0.074]\n",
      "Validation result: fraction invalid [0.102]\n",
      "Validation result: fraction invalid [0.07]\n",
      "Validation result: fraction invalid [0.0]\n",
      "Validation result: fraction invalid [0.01]\n",
      "    42 |    20500 |    500 |  0.000000E+00 |  0.000000E+00 |  0.0434403781 |         nadir\n"
     ]
    },
    {
     "name": "stderr",
     "output_type": "stream",
     "text": [
      "/home/yazan/Repositories/Personal/mcd-clip/venv/lib/python3.10/site-packages/pymoo/operators/crossover/sbx.py:42: RuntimeWarning: divide by zero encountered in power\n",
      "  alpha = 2.0 - np.power(beta, -(eta + 1.0))\n",
      "/home/yazan/Repositories/Personal/mcd-clip/venv/lib/python3.10/site-packages/pymoo/operators/crossover/sbx.py:47: RuntimeWarning: invalid value encountered in power\n",
      "  betaq[mask] = np.power((rand * alpha), (1.0 / (eta + 1.0)))[mask]\n"
     ]
    },
    {
     "name": "stdout",
     "output_type": "stream",
     "text": [
      "Found framed material columns ['Material=Steel', 'Material=Aluminum', 'Material=Titanium']\n",
      "Mapping Material=Steel to MATERIAL OHCLASS: STEEL\n",
      "Mapping Material=Aluminum to MATERIAL OHCLASS: ALUMINUM\n",
      "Mapping Material=Titanium to MATERIAL OHCLASS: TITANIUM\n",
      "Found framed material columns ['Material=Steel', 'Material=Aluminum', 'Material=Titanium']\n",
      "Mapping Material=Steel to MATERIAL OHCLASS: STEEL\n",
      "Mapping Material=Aluminum to MATERIAL OHCLASS: ALUMINUM\n",
      "Mapping Material=Titanium to MATERIAL OHCLASS: TITANIUM\n",
      "Found framed material columns ['Material=Steel', 'Material=Aluminum', 'Material=Titanium']\n",
      "Mapping Material=Steel to MATERIAL OHCLASS: STEEL\n",
      "Mapping Material=Aluminum to MATERIAL OHCLASS: ALUMINUM\n",
      "Mapping Material=Titanium to MATERIAL OHCLASS: TITANIUM\n"
     ]
    },
    {
     "name": "stderr",
     "output_type": "stream",
     "text": [
      "/home/yazan/Repositories/Personal/mcd-clip/src/mcd_clip/bike_rider_fit/fit_analysis/vectorizedangles.py:158: RuntimeWarning: invalid value encountered in arccos\n",
      "  alpha_1 = np.arccos((x_1 ** 2 - UL_s - x_2 ** 2) / (-2 * UL * x_2))\n",
      "/home/yazan/Repositories/Personal/mcd-clip/src/mcd_clip/bike_rider_fit/fit_analysis/demoanalysis.py:76: RuntimeWarning: invalid value encountered in arccos\n",
      "  Tksp2 = np.arccos(\n",
      "/home/yazan/Repositories/Personal/mcd-clip/src/mcd_clip/bike_rider_fit/fit_analysis/vectorizedangles.py:158: RuntimeWarning: invalid value encountered in arccos\n",
      "  alpha_1 = np.arccos((x_1 ** 2 - UL_s - x_2 ** 2) / (-2 * UL * x_2))\n"
     ]
    },
    {
     "name": "stdout",
     "output_type": "stream",
     "text": [
      "embedding_distance_1 | min 0.6899999976158142, max [1.1799999475479126],  average [0.7300000190734863]\n",
      "embedding_distance_2 | min 0.07999999821186066, max [1.690000057220459],  average [0.15000000596046448]\n",
      "Validation result: fraction invalid [0.076]\n",
      "Validation result: fraction invalid [0.076]\n",
      "Validation result: fraction invalid [0.12]\n",
      "Validation result: fraction invalid [0.126]\n",
      "Validation result: fraction invalid [0.0]\n",
      "Validation result: fraction invalid [0.002]\n",
      "    43 |    21000 |    500 |  0.000000E+00 |  0.000000E+00 |  0.0050088273 |             f\n"
     ]
    },
    {
     "name": "stderr",
     "output_type": "stream",
     "text": [
      "/home/yazan/Repositories/Personal/mcd-clip/venv/lib/python3.10/site-packages/pymoo/operators/crossover/sbx.py:42: RuntimeWarning: divide by zero encountered in power\n",
      "  alpha = 2.0 - np.power(beta, -(eta + 1.0))\n",
      "/home/yazan/Repositories/Personal/mcd-clip/venv/lib/python3.10/site-packages/pymoo/operators/crossover/sbx.py:47: RuntimeWarning: invalid value encountered in power\n",
      "  betaq[mask] = np.power((rand * alpha), (1.0 / (eta + 1.0)))[mask]\n"
     ]
    },
    {
     "name": "stdout",
     "output_type": "stream",
     "text": [
      "Found framed material columns ['Material=Steel', 'Material=Aluminum', 'Material=Titanium']\n",
      "Mapping Material=Steel to MATERIAL OHCLASS: STEEL\n",
      "Mapping Material=Aluminum to MATERIAL OHCLASS: ALUMINUM\n",
      "Mapping Material=Titanium to MATERIAL OHCLASS: TITANIUM\n",
      "Found framed material columns ['Material=Steel', 'Material=Aluminum', 'Material=Titanium']\n",
      "Mapping Material=Steel to MATERIAL OHCLASS: STEEL\n",
      "Mapping Material=Aluminum to MATERIAL OHCLASS: ALUMINUM\n",
      "Mapping Material=Titanium to MATERIAL OHCLASS: TITANIUM\n",
      "Found framed material columns ['Material=Steel', 'Material=Aluminum', 'Material=Titanium']\n",
      "Mapping Material=Steel to MATERIAL OHCLASS: STEEL\n",
      "Mapping Material=Aluminum to MATERIAL OHCLASS: ALUMINUM\n",
      "Mapping Material=Titanium to MATERIAL OHCLASS: TITANIUM\n"
     ]
    },
    {
     "name": "stderr",
     "output_type": "stream",
     "text": [
      "/home/yazan/Repositories/Personal/mcd-clip/src/mcd_clip/bike_rider_fit/fit_analysis/vectorizedangles.py:158: RuntimeWarning: invalid value encountered in arccos\n",
      "  alpha_1 = np.arccos((x_1 ** 2 - UL_s - x_2 ** 2) / (-2 * UL * x_2))\n",
      "/home/yazan/Repositories/Personal/mcd-clip/src/mcd_clip/bike_rider_fit/fit_analysis/demoanalysis.py:76: RuntimeWarning: invalid value encountered in arccos\n",
      "  Tksp2 = np.arccos(\n",
      "/home/yazan/Repositories/Personal/mcd-clip/src/mcd_clip/bike_rider_fit/fit_analysis/vectorizedangles.py:158: RuntimeWarning: invalid value encountered in arccos\n",
      "  alpha_1 = np.arccos((x_1 ** 2 - UL_s - x_2 ** 2) / (-2 * UL * x_2))\n"
     ]
    },
    {
     "name": "stdout",
     "output_type": "stream",
     "text": [
      "embedding_distance_1 | min 0.6899999976158142, max [1.1799999475479126],  average [0.7200000286102295]\n",
      "embedding_distance_2 | min 0.07999999821186066, max [1.690000057220459],  average [0.14000000059604645]\n",
      "Validation result: fraction invalid [0.096]\n",
      "Validation result: fraction invalid [0.094]\n",
      "Validation result: fraction invalid [0.114]\n",
      "Validation result: fraction invalid [0.11]\n",
      "Validation result: fraction invalid [0.0]\n",
      "Validation result: fraction invalid [0.002]\n",
      "    44 |    21500 |    500 |  0.000000E+00 |  0.000000E+00 |  0.0049474020 |             f\n"
     ]
    },
    {
     "name": "stderr",
     "output_type": "stream",
     "text": [
      "/home/yazan/Repositories/Personal/mcd-clip/venv/lib/python3.10/site-packages/pymoo/operators/crossover/sbx.py:42: RuntimeWarning: divide by zero encountered in power\n",
      "  alpha = 2.0 - np.power(beta, -(eta + 1.0))\n",
      "/home/yazan/Repositories/Personal/mcd-clip/venv/lib/python3.10/site-packages/pymoo/operators/crossover/sbx.py:47: RuntimeWarning: invalid value encountered in power\n",
      "  betaq[mask] = np.power((rand * alpha), (1.0 / (eta + 1.0)))[mask]\n"
     ]
    },
    {
     "name": "stdout",
     "output_type": "stream",
     "text": [
      "Found framed material columns ['Material=Steel', 'Material=Aluminum', 'Material=Titanium']\n",
      "Mapping Material=Steel to MATERIAL OHCLASS: STEEL\n",
      "Mapping Material=Aluminum to MATERIAL OHCLASS: ALUMINUM\n",
      "Mapping Material=Titanium to MATERIAL OHCLASS: TITANIUM\n",
      "Found framed material columns ['Material=Steel', 'Material=Aluminum', 'Material=Titanium']\n",
      "Mapping Material=Steel to MATERIAL OHCLASS: STEEL\n",
      "Mapping Material=Aluminum to MATERIAL OHCLASS: ALUMINUM\n",
      "Mapping Material=Titanium to MATERIAL OHCLASS: TITANIUM\n",
      "Found framed material columns ['Material=Steel', 'Material=Aluminum', 'Material=Titanium']\n",
      "Mapping Material=Steel to MATERIAL OHCLASS: STEEL\n",
      "Mapping Material=Aluminum to MATERIAL OHCLASS: ALUMINUM\n",
      "Mapping Material=Titanium to MATERIAL OHCLASS: TITANIUM\n"
     ]
    },
    {
     "name": "stderr",
     "output_type": "stream",
     "text": [
      "/home/yazan/Repositories/Personal/mcd-clip/src/mcd_clip/bike_rider_fit/fit_analysis/vectorizedangles.py:158: RuntimeWarning: invalid value encountered in arccos\n",
      "  alpha_1 = np.arccos((x_1 ** 2 - UL_s - x_2 ** 2) / (-2 * UL * x_2))\n",
      "/home/yazan/Repositories/Personal/mcd-clip/src/mcd_clip/bike_rider_fit/fit_analysis/demoanalysis.py:76: RuntimeWarning: invalid value encountered in arccos\n",
      "  Tksp2 = np.arccos(\n",
      "/home/yazan/Repositories/Personal/mcd-clip/src/mcd_clip/bike_rider_fit/fit_analysis/vectorizedangles.py:158: RuntimeWarning: invalid value encountered in arccos\n",
      "  alpha_1 = np.arccos((x_1 ** 2 - UL_s - x_2 ** 2) / (-2 * UL * x_2))\n"
     ]
    },
    {
     "name": "stdout",
     "output_type": "stream",
     "text": [
      "embedding_distance_1 | min 0.6899999976158142, max [1.1699999570846558],  average [0.7200000286102295]\n",
      "embedding_distance_2 | min 0.07999999821186066, max [1.659999966621399],  average [0.14000000059604645]\n",
      "Validation result: fraction invalid [0.072]\n",
      "Validation result: fraction invalid [0.062]\n",
      "Validation result: fraction invalid [0.082]\n",
      "Validation result: fraction invalid [0.08]\n",
      "Validation result: fraction invalid [0.0]\n",
      "Validation result: fraction invalid [0.004]\n",
      "    45 |    22000 |    500 |  0.000000E+00 |  0.000000E+00 |  0.0073070810 |             f\n"
     ]
    },
    {
     "name": "stderr",
     "output_type": "stream",
     "text": [
      "/home/yazan/Repositories/Personal/mcd-clip/venv/lib/python3.10/site-packages/pymoo/operators/crossover/sbx.py:42: RuntimeWarning: divide by zero encountered in power\n",
      "  alpha = 2.0 - np.power(beta, -(eta + 1.0))\n",
      "/home/yazan/Repositories/Personal/mcd-clip/venv/lib/python3.10/site-packages/pymoo/operators/crossover/sbx.py:47: RuntimeWarning: invalid value encountered in power\n",
      "  betaq[mask] = np.power((rand * alpha), (1.0 / (eta + 1.0)))[mask]\n"
     ]
    },
    {
     "name": "stdout",
     "output_type": "stream",
     "text": [
      "Found framed material columns ['Material=Steel', 'Material=Aluminum', 'Material=Titanium']\n",
      "Mapping Material=Steel to MATERIAL OHCLASS: STEEL\n",
      "Mapping Material=Aluminum to MATERIAL OHCLASS: ALUMINUM\n",
      "Mapping Material=Titanium to MATERIAL OHCLASS: TITANIUM\n",
      "Found framed material columns ['Material=Steel', 'Material=Aluminum', 'Material=Titanium']\n",
      "Mapping Material=Steel to MATERIAL OHCLASS: STEEL\n",
      "Mapping Material=Aluminum to MATERIAL OHCLASS: ALUMINUM\n",
      "Mapping Material=Titanium to MATERIAL OHCLASS: TITANIUM\n",
      "Found framed material columns ['Material=Steel', 'Material=Aluminum', 'Material=Titanium']\n",
      "Mapping Material=Steel to MATERIAL OHCLASS: STEEL\n",
      "Mapping Material=Aluminum to MATERIAL OHCLASS: ALUMINUM\n",
      "Mapping Material=Titanium to MATERIAL OHCLASS: TITANIUM\n",
      "embedding_distance_1 | min 0.6899999976158142, max [1.1699999570846558],  average [0.7200000286102295]\n",
      "embedding_distance_2 | min 0.07999999821186066, max [1.649999976158142],  average [0.14000000059604645]\n"
     ]
    },
    {
     "name": "stderr",
     "output_type": "stream",
     "text": [
      "/home/yazan/Repositories/Personal/mcd-clip/src/mcd_clip/bike_rider_fit/fit_analysis/vectorizedangles.py:158: RuntimeWarning: invalid value encountered in arccos\n",
      "  alpha_1 = np.arccos((x_1 ** 2 - UL_s - x_2 ** 2) / (-2 * UL * x_2))\n",
      "/home/yazan/Repositories/Personal/mcd-clip/src/mcd_clip/bike_rider_fit/fit_analysis/demoanalysis.py:76: RuntimeWarning: invalid value encountered in arccos\n",
      "  Tksp2 = np.arccos(\n",
      "/home/yazan/Repositories/Personal/mcd-clip/src/mcd_clip/bike_rider_fit/fit_analysis/vectorizedangles.py:158: RuntimeWarning: invalid value encountered in arccos\n",
      "  alpha_1 = np.arccos((x_1 ** 2 - UL_s - x_2 ** 2) / (-2 * UL * x_2))\n"
     ]
    },
    {
     "name": "stdout",
     "output_type": "stream",
     "text": [
      "Validation result: fraction invalid [0.082]\n",
      "Validation result: fraction invalid [0.076]\n",
      "Validation result: fraction invalid [0.106]\n",
      "Validation result: fraction invalid [0.09]\n",
      "Validation result: fraction invalid [0.0]\n",
      "Validation result: fraction invalid [0.002]\n",
      "    46 |    22500 |    500 |  0.000000E+00 |  0.000000E+00 |  0.0094536566 |         nadir\n"
     ]
    },
    {
     "name": "stderr",
     "output_type": "stream",
     "text": [
      "/home/yazan/Repositories/Personal/mcd-clip/venv/lib/python3.10/site-packages/pymoo/operators/crossover/sbx.py:42: RuntimeWarning: divide by zero encountered in power\n",
      "  alpha = 2.0 - np.power(beta, -(eta + 1.0))\n",
      "/home/yazan/Repositories/Personal/mcd-clip/venv/lib/python3.10/site-packages/pymoo/operators/crossover/sbx.py:47: RuntimeWarning: invalid value encountered in power\n",
      "  betaq[mask] = np.power((rand * alpha), (1.0 / (eta + 1.0)))[mask]\n"
     ]
    },
    {
     "name": "stdout",
     "output_type": "stream",
     "text": [
      "Found framed material columns ['Material=Steel', 'Material=Aluminum', 'Material=Titanium']\n",
      "Mapping Material=Steel to MATERIAL OHCLASS: STEEL\n",
      "Mapping Material=Aluminum to MATERIAL OHCLASS: ALUMINUM\n",
      "Mapping Material=Titanium to MATERIAL OHCLASS: TITANIUM\n",
      "Found framed material columns ['Material=Steel', 'Material=Aluminum', 'Material=Titanium']\n",
      "Mapping Material=Steel to MATERIAL OHCLASS: STEEL\n",
      "Mapping Material=Aluminum to MATERIAL OHCLASS: ALUMINUM\n",
      "Mapping Material=Titanium to MATERIAL OHCLASS: TITANIUM\n",
      "Found framed material columns ['Material=Steel', 'Material=Aluminum', 'Material=Titanium']\n",
      "Mapping Material=Steel to MATERIAL OHCLASS: STEEL\n",
      "Mapping Material=Aluminum to MATERIAL OHCLASS: ALUMINUM\n",
      "Mapping Material=Titanium to MATERIAL OHCLASS: TITANIUM\n"
     ]
    },
    {
     "name": "stderr",
     "output_type": "stream",
     "text": [
      "/home/yazan/Repositories/Personal/mcd-clip/src/mcd_clip/bike_rider_fit/fit_analysis/vectorizedangles.py:158: RuntimeWarning: invalid value encountered in arccos\n",
      "  alpha_1 = np.arccos((x_1 ** 2 - UL_s - x_2 ** 2) / (-2 * UL * x_2))\n",
      "/home/yazan/Repositories/Personal/mcd-clip/src/mcd_clip/bike_rider_fit/fit_analysis/demoanalysis.py:76: RuntimeWarning: invalid value encountered in arccos\n",
      "  Tksp2 = np.arccos(\n",
      "/home/yazan/Repositories/Personal/mcd-clip/src/mcd_clip/bike_rider_fit/fit_analysis/vectorizedangles.py:158: RuntimeWarning: invalid value encountered in arccos\n",
      "  alpha_1 = np.arccos((x_1 ** 2 - UL_s - x_2 ** 2) / (-2 * UL * x_2))\n"
     ]
    },
    {
     "name": "stdout",
     "output_type": "stream",
     "text": [
      "embedding_distance_1 | min 0.6899999976158142, max [1.1799999475479126],  average [0.7200000286102295]\n",
      "embedding_distance_2 | min 0.07999999821186066, max [1.6799999475479126],  average [0.14000000059604645]\n",
      "Validation result: fraction invalid [0.068]\n",
      "Validation result: fraction invalid [0.074]\n",
      "Validation result: fraction invalid [0.06]\n",
      "Validation result: fraction invalid [0.082]\n",
      "Validation result: fraction invalid [0.0]\n",
      "Validation result: fraction invalid [0.004]\n",
      "    47 |    23000 |    500 |  0.000000E+00 |  0.000000E+00 |  0.0133844445 |         ideal\n"
     ]
    },
    {
     "name": "stderr",
     "output_type": "stream",
     "text": [
      "/home/yazan/Repositories/Personal/mcd-clip/venv/lib/python3.10/site-packages/pymoo/operators/crossover/sbx.py:42: RuntimeWarning: divide by zero encountered in power\n",
      "  alpha = 2.0 - np.power(beta, -(eta + 1.0))\n",
      "/home/yazan/Repositories/Personal/mcd-clip/venv/lib/python3.10/site-packages/pymoo/operators/crossover/sbx.py:47: RuntimeWarning: invalid value encountered in power\n",
      "  betaq[mask] = np.power((rand * alpha), (1.0 / (eta + 1.0)))[mask]\n",
      "/home/yazan/Repositories/Personal/mcd-clip/venv/lib/python3.10/site-packages/pymoo/operators/crossover/sbx.py:42: RuntimeWarning: divide by zero encountered in power\n",
      "  alpha = 2.0 - np.power(beta, -(eta + 1.0))\n",
      "/home/yazan/Repositories/Personal/mcd-clip/venv/lib/python3.10/site-packages/pymoo/operators/crossover/sbx.py:47: RuntimeWarning: invalid value encountered in power\n",
      "  betaq[mask] = np.power((rand * alpha), (1.0 / (eta + 1.0)))[mask]\n",
      "/home/yazan/Repositories/Personal/mcd-clip/venv/lib/python3.10/site-packages/pymoo/operators/crossover/sbx.py:47: RuntimeWarning: invalid value encountered in power\n",
      "  betaq[mask] = np.power((rand * alpha), (1.0 / (eta + 1.0)))[mask]\n"
     ]
    },
    {
     "name": "stdout",
     "output_type": "stream",
     "text": [
      "Found framed material columns ['Material=Steel', 'Material=Aluminum', 'Material=Titanium']\n",
      "Mapping Material=Steel to MATERIAL OHCLASS: STEEL\n",
      "Mapping Material=Aluminum to MATERIAL OHCLASS: ALUMINUM\n",
      "Mapping Material=Titanium to MATERIAL OHCLASS: TITANIUM\n",
      "Found framed material columns ['Material=Steel', 'Material=Aluminum', 'Material=Titanium']\n",
      "Mapping Material=Steel to MATERIAL OHCLASS: STEEL\n",
      "Mapping Material=Aluminum to MATERIAL OHCLASS: ALUMINUM\n",
      "Mapping Material=Titanium to MATERIAL OHCLASS: TITANIUM\n"
     ]
    },
    {
     "name": "stderr",
     "output_type": "stream",
     "text": [
      "/home/yazan/Repositories/Personal/mcd-clip/src/mcd_clip/bike_rider_fit/fit_analysis/vectorizedangles.py:158: RuntimeWarning: invalid value encountered in arccos\n",
      "  alpha_1 = np.arccos((x_1 ** 2 - UL_s - x_2 ** 2) / (-2 * UL * x_2))\n",
      "/home/yazan/Repositories/Personal/mcd-clip/src/mcd_clip/bike_rider_fit/fit_analysis/demoanalysis.py:76: RuntimeWarning: invalid value encountered in arccos\n",
      "  Tksp2 = np.arccos(\n",
      "/home/yazan/Repositories/Personal/mcd-clip/src/mcd_clip/bike_rider_fit/fit_analysis/vectorizedangles.py:158: RuntimeWarning: invalid value encountered in arccos\n",
      "  alpha_1 = np.arccos((x_1 ** 2 - UL_s - x_2 ** 2) / (-2 * UL * x_2))\n"
     ]
    },
    {
     "name": "stdout",
     "output_type": "stream",
     "text": [
      "Found framed material columns ['Material=Steel', 'Material=Aluminum', 'Material=Titanium']\n",
      "Mapping Material=Steel to MATERIAL OHCLASS: STEEL\n",
      "Mapping Material=Aluminum to MATERIAL OHCLASS: ALUMINUM\n",
      "Mapping Material=Titanium to MATERIAL OHCLASS: TITANIUM\n",
      "embedding_distance_1 | min 0.6899999976158142, max [1.1799999475479126],  average [0.7400000095367432]\n",
      "embedding_distance_2 | min 0.09000000357627869, max [1.6699999570846558],  average [0.15000000596046448]\n",
      "Validation result: fraction invalid [0.024]\n",
      "Validation result: fraction invalid [0.032]\n",
      "Validation result: fraction invalid [0.03]\n",
      "Validation result: fraction invalid [0.018]\n",
      "Validation result: fraction invalid [0.0]\n",
      "Validation result: fraction invalid [0.0]\n",
      "    48 |    23500 |    500 |  0.000000E+00 |  0.000000E+00 |  0.0008414770 |             f\n"
     ]
    },
    {
     "name": "stderr",
     "output_type": "stream",
     "text": [
      "/home/yazan/Repositories/Personal/mcd-clip/venv/lib/python3.10/site-packages/pymoo/operators/crossover/sbx.py:42: RuntimeWarning: divide by zero encountered in power\n",
      "  alpha = 2.0 - np.power(beta, -(eta + 1.0))\n",
      "/home/yazan/Repositories/Personal/mcd-clip/venv/lib/python3.10/site-packages/pymoo/operators/crossover/sbx.py:47: RuntimeWarning: invalid value encountered in power\n",
      "  betaq[mask] = np.power((rand * alpha), (1.0 / (eta + 1.0)))[mask]\n"
     ]
    },
    {
     "name": "stdout",
     "output_type": "stream",
     "text": [
      "Found framed material columns ['Material=Steel', 'Material=Aluminum', 'Material=Titanium']\n",
      "Mapping Material=Steel to MATERIAL OHCLASS: STEEL\n",
      "Mapping Material=Aluminum to MATERIAL OHCLASS: ALUMINUM\n",
      "Mapping Material=Titanium to MATERIAL OHCLASS: TITANIUM\n",
      "Found framed material columns ['Material=Steel', 'Material=Aluminum', 'Material=Titanium']\n",
      "Mapping Material=Steel to MATERIAL OHCLASS: STEEL\n",
      "Mapping Material=Aluminum to MATERIAL OHCLASS: ALUMINUM\n",
      "Mapping Material=Titanium to MATERIAL OHCLASS: TITANIUM\n",
      "Found framed material columns ['Material=Steel', 'Material=Aluminum', 'Material=Titanium']\n",
      "Mapping Material=Steel to MATERIAL OHCLASS: STEEL\n",
      "Mapping Material=Aluminum to MATERIAL OHCLASS: ALUMINUM\n",
      "Mapping Material=Titanium to MATERIAL OHCLASS: TITANIUM\n"
     ]
    },
    {
     "name": "stderr",
     "output_type": "stream",
     "text": [
      "/home/yazan/Repositories/Personal/mcd-clip/src/mcd_clip/bike_rider_fit/fit_analysis/vectorizedangles.py:158: RuntimeWarning: invalid value encountered in arccos\n",
      "  alpha_1 = np.arccos((x_1 ** 2 - UL_s - x_2 ** 2) / (-2 * UL * x_2))\n",
      "/home/yazan/Repositories/Personal/mcd-clip/src/mcd_clip/bike_rider_fit/fit_analysis/demoanalysis.py:76: RuntimeWarning: invalid value encountered in arccos\n",
      "  Tksp2 = np.arccos(\n",
      "/home/yazan/Repositories/Personal/mcd-clip/src/mcd_clip/bike_rider_fit/fit_analysis/vectorizedangles.py:158: RuntimeWarning: invalid value encountered in arccos\n",
      "  alpha_1 = np.arccos((x_1 ** 2 - UL_s - x_2 ** 2) / (-2 * UL * x_2))\n"
     ]
    },
    {
     "name": "stdout",
     "output_type": "stream",
     "text": [
      "embedding_distance_1 | min 0.6899999976158142, max [1.1799999475479126],  average [0.7200000286102295]\n",
      "embedding_distance_2 | min 0.09000000357627869, max [1.6799999475479126],  average [0.14000000059604645]\n",
      "Validation result: fraction invalid [0.06]\n",
      "Validation result: fraction invalid [0.06]\n",
      "Validation result: fraction invalid [0.08]\n",
      "Validation result: fraction invalid [0.108]\n",
      "Validation result: fraction invalid [0.0]\n",
      "Validation result: fraction invalid [0.004]\n",
      "    49 |    24000 |    500 |  0.000000E+00 |  0.000000E+00 |  0.0484564244 |         nadir\n"
     ]
    },
    {
     "name": "stderr",
     "output_type": "stream",
     "text": [
      "/home/yazan/Repositories/Personal/mcd-clip/venv/lib/python3.10/site-packages/pymoo/operators/crossover/sbx.py:42: RuntimeWarning: divide by zero encountered in power\n",
      "  alpha = 2.0 - np.power(beta, -(eta + 1.0))\n",
      "/home/yazan/Repositories/Personal/mcd-clip/venv/lib/python3.10/site-packages/pymoo/operators/crossover/sbx.py:47: RuntimeWarning: invalid value encountered in power\n",
      "  betaq[mask] = np.power((rand * alpha), (1.0 / (eta + 1.0)))[mask]\n"
     ]
    },
    {
     "name": "stdout",
     "output_type": "stream",
     "text": [
      "Found framed material columns ['Material=Steel', 'Material=Aluminum', 'Material=Titanium']\n",
      "Mapping Material=Steel to MATERIAL OHCLASS: STEEL\n",
      "Mapping Material=Aluminum to MATERIAL OHCLASS: ALUMINUM\n",
      "Mapping Material=Titanium to MATERIAL OHCLASS: TITANIUM\n",
      "Found framed material columns ['Material=Steel', 'Material=Aluminum', 'Material=Titanium']\n",
      "Mapping Material=Steel to MATERIAL OHCLASS: STEEL\n",
      "Mapping Material=Aluminum to MATERIAL OHCLASS: ALUMINUM\n",
      "Mapping Material=Titanium to MATERIAL OHCLASS: TITANIUM\n",
      "Found framed material columns ['Material=Steel', 'Material=Aluminum', 'Material=Titanium']\n",
      "Mapping Material=Steel to MATERIAL OHCLASS: STEEL\n",
      "Mapping Material=Aluminum to MATERIAL OHCLASS: ALUMINUM\n",
      "Mapping Material=Titanium to MATERIAL OHCLASS: TITANIUM\n"
     ]
    },
    {
     "name": "stderr",
     "output_type": "stream",
     "text": [
      "/home/yazan/Repositories/Personal/mcd-clip/src/mcd_clip/bike_rider_fit/fit_analysis/interfacepoints.py:52: RuntimeWarning: invalid value encountered in sqrt\n",
      "  DTx = np.sqrt(bike[:, 0] ** 2 - DTy ** 2)\n",
      "/home/yazan/Repositories/Personal/mcd-clip/src/mcd_clip/bike_rider_fit/fit_analysis/vectorizedangles.py:158: RuntimeWarning: invalid value encountered in arccos\n",
      "  alpha_1 = np.arccos((x_1 ** 2 - UL_s - x_2 ** 2) / (-2 * UL * x_2))\n",
      "/home/yazan/Repositories/Personal/mcd-clip/src/mcd_clip/bike_rider_fit/fit_analysis/demoanalysis.py:76: RuntimeWarning: invalid value encountered in arccos\n",
      "  Tksp2 = np.arccos(\n",
      "/home/yazan/Repositories/Personal/mcd-clip/src/mcd_clip/bike_rider_fit/fit_analysis/interfacepoints.py:52: RuntimeWarning: invalid value encountered in sqrt\n",
      "  DTx = np.sqrt(bike[:, 0] ** 2 - DTy ** 2)\n",
      "/home/yazan/Repositories/Personal/mcd-clip/src/mcd_clip/bike_rider_fit/fit_analysis/vectorizedangles.py:158: RuntimeWarning: invalid value encountered in arccos\n",
      "  alpha_1 = np.arccos((x_1 ** 2 - UL_s - x_2 ** 2) / (-2 * UL * x_2))\n"
     ]
    },
    {
     "name": "stdout",
     "output_type": "stream",
     "text": [
      "embedding_distance_1 | min 0.6899999976158142, max [1.1799999475479126],  average [0.7200000286102295]\n",
      "embedding_distance_2 | min 0.07999999821186066, max [1.6799999475479126],  average [0.14000000059604645]\n",
      "Validation result: fraction invalid [0.072]\n",
      "Validation result: fraction invalid [0.06]\n",
      "Validation result: fraction invalid [0.084]\n",
      "Validation result: fraction invalid [0.064]\n",
      "Validation result: fraction invalid [0.0]\n",
      "Validation result: fraction invalid [0.004]\n",
      "    50 |    24500 |    500 |  0.000000E+00 |  0.000000E+00 |  0.0338983051 |         nadir\n"
     ]
    },
    {
     "name": "stderr",
     "output_type": "stream",
     "text": [
      "/home/yazan/Repositories/Personal/mcd-clip/venv/lib/python3.10/site-packages/pymoo/operators/crossover/sbx.py:42: RuntimeWarning: divide by zero encountered in power\n",
      "  alpha = 2.0 - np.power(beta, -(eta + 1.0))\n",
      "/home/yazan/Repositories/Personal/mcd-clip/venv/lib/python3.10/site-packages/pymoo/operators/crossover/sbx.py:47: RuntimeWarning: invalid value encountered in power\n",
      "  betaq[mask] = np.power((rand * alpha), (1.0 / (eta + 1.0)))[mask]\n"
     ]
    },
    {
     "name": "stdout",
     "output_type": "stream",
     "text": [
      "Found framed material columns ['Material=Steel', 'Material=Aluminum', 'Material=Titanium']\n",
      "Mapping Material=Steel to MATERIAL OHCLASS: STEEL\n",
      "Mapping Material=Aluminum to MATERIAL OHCLASS: ALUMINUM\n",
      "Mapping Material=Titanium to MATERIAL OHCLASS: TITANIUM\n",
      "Found framed material columns ['Material=Steel', 'Material=Aluminum', 'Material=Titanium']\n",
      "Mapping Material=Steel to MATERIAL OHCLASS: STEEL\n",
      "Mapping Material=Aluminum to MATERIAL OHCLASS: ALUMINUM\n",
      "Mapping Material=Titanium to MATERIAL OHCLASS: TITANIUM\n",
      "Found framed material columns ['Material=Steel', 'Material=Aluminum', 'Material=Titanium']\n",
      "Mapping Material=Steel to MATERIAL OHCLASS: STEEL\n",
      "Mapping Material=Aluminum to MATERIAL OHCLASS: ALUMINUM\n",
      "Mapping Material=Titanium to MATERIAL OHCLASS: TITANIUM\n",
      "embedding_distance_1 | min 0.699999988079071, max [1.1799999475479126],  average [0.7400000095367432]\n",
      "embedding_distance_2 | min 0.10000000149011612, max [1.6799999475479126],  average [0.18000000715255737]\n"
     ]
    },
    {
     "name": "stderr",
     "output_type": "stream",
     "text": [
      "/home/yazan/Repositories/Personal/mcd-clip/src/mcd_clip/bike_rider_fit/fit_analysis/vectorizedangles.py:158: RuntimeWarning: invalid value encountered in arccos\n",
      "  alpha_1 = np.arccos((x_1 ** 2 - UL_s - x_2 ** 2) / (-2 * UL * x_2))\n",
      "/home/yazan/Repositories/Personal/mcd-clip/src/mcd_clip/bike_rider_fit/fit_analysis/demoanalysis.py:76: RuntimeWarning: invalid value encountered in arccos\n",
      "  Tksp2 = np.arccos(\n",
      "/home/yazan/Repositories/Personal/mcd-clip/src/mcd_clip/bike_rider_fit/fit_analysis/vectorizedangles.py:158: RuntimeWarning: invalid value encountered in arccos\n",
      "  alpha_1 = np.arccos((x_1 ** 2 - UL_s - x_2 ** 2) / (-2 * UL * x_2))\n"
     ]
    },
    {
     "name": "stdout",
     "output_type": "stream",
     "text": [
      "Validation result: fraction invalid [0.072]\n",
      "Validation result: fraction invalid [0.092]\n",
      "Validation result: fraction invalid [0.13]\n",
      "Validation result: fraction invalid [0.098]\n",
      "Validation result: fraction invalid [0.0]\n",
      "Validation result: fraction invalid [0.002]\n",
      "    51 |    25000 |    491 |  0.000000E+00 |  0.000000E+00 |  0.0043221440 |             f\n"
     ]
    },
    {
     "name": "stderr",
     "output_type": "stream",
     "text": [
      "/home/yazan/Repositories/Personal/mcd-clip/venv/lib/python3.10/site-packages/pymoo/operators/crossover/sbx.py:42: RuntimeWarning: divide by zero encountered in power\n",
      "  alpha = 2.0 - np.power(beta, -(eta + 1.0))\n",
      "/home/yazan/Repositories/Personal/mcd-clip/venv/lib/python3.10/site-packages/pymoo/operators/crossover/sbx.py:47: RuntimeWarning: invalid value encountered in power\n",
      "  betaq[mask] = np.power((rand * alpha), (1.0 / (eta + 1.0)))[mask]\n"
     ]
    },
    {
     "name": "stdout",
     "output_type": "stream",
     "text": [
      "Found framed material columns ['Material=Steel', 'Material=Aluminum', 'Material=Titanium']\n",
      "Mapping Material=Steel to MATERIAL OHCLASS: STEEL\n",
      "Mapping Material=Aluminum to MATERIAL OHCLASS: ALUMINUM\n",
      "Mapping Material=Titanium to MATERIAL OHCLASS: TITANIUM\n",
      "Found framed material columns ['Material=Steel', 'Material=Aluminum', 'Material=Titanium']\n",
      "Mapping Material=Steel to MATERIAL OHCLASS: STEEL\n",
      "Mapping Material=Aluminum to MATERIAL OHCLASS: ALUMINUM\n",
      "Mapping Material=Titanium to MATERIAL OHCLASS: TITANIUM\n",
      "Found framed material columns ['Material=Steel', 'Material=Aluminum', 'Material=Titanium']\n",
      "Mapping Material=Steel to MATERIAL OHCLASS: STEEL\n",
      "Mapping Material=Aluminum to MATERIAL OHCLASS: ALUMINUM\n",
      "Mapping Material=Titanium to MATERIAL OHCLASS: TITANIUM\n"
     ]
    },
    {
     "name": "stderr",
     "output_type": "stream",
     "text": [
      "/home/yazan/Repositories/Personal/mcd-clip/src/mcd_clip/bike_rider_fit/fit_analysis/vectorizedangles.py:158: RuntimeWarning: invalid value encountered in arccos\n",
      "  alpha_1 = np.arccos((x_1 ** 2 - UL_s - x_2 ** 2) / (-2 * UL * x_2))\n",
      "/home/yazan/Repositories/Personal/mcd-clip/src/mcd_clip/bike_rider_fit/fit_analysis/demoanalysis.py:76: RuntimeWarning: invalid value encountered in arccos\n",
      "  Tksp2 = np.arccos(\n",
      "/home/yazan/Repositories/Personal/mcd-clip/src/mcd_clip/bike_rider_fit/fit_analysis/vectorizedangles.py:158: RuntimeWarning: invalid value encountered in arccos\n",
      "  alpha_1 = np.arccos((x_1 ** 2 - UL_s - x_2 ** 2) / (-2 * UL * x_2))\n"
     ]
    },
    {
     "name": "stdout",
     "output_type": "stream",
     "text": [
      "embedding_distance_1 | min 0.6899999976158142, max [1.1799999475479126],  average [0.7200000286102295]\n",
      "embedding_distance_2 | min 0.07999999821186066, max [1.6799999475479126],  average [0.14000000059604645]\n",
      "Validation result: fraction invalid [0.072]\n",
      "Validation result: fraction invalid [0.074]\n",
      "Validation result: fraction invalid [0.1]\n",
      "Validation result: fraction invalid [0.086]\n",
      "Validation result: fraction invalid [0.0]\n",
      "Validation result: fraction invalid [0.002]\n",
      "    52 |    25500 |    500 |  0.000000E+00 |  0.000000E+00 |  0.0073697519 |         nadir\n"
     ]
    },
    {
     "name": "stderr",
     "output_type": "stream",
     "text": [
      "/home/yazan/Repositories/Personal/mcd-clip/venv/lib/python3.10/site-packages/pymoo/operators/crossover/sbx.py:42: RuntimeWarning: divide by zero encountered in power\n",
      "  alpha = 2.0 - np.power(beta, -(eta + 1.0))\n",
      "/home/yazan/Repositories/Personal/mcd-clip/venv/lib/python3.10/site-packages/pymoo/operators/crossover/sbx.py:47: RuntimeWarning: invalid value encountered in power\n",
      "  betaq[mask] = np.power((rand * alpha), (1.0 / (eta + 1.0)))[mask]\n"
     ]
    },
    {
     "name": "stdout",
     "output_type": "stream",
     "text": [
      "Found framed material columns ['Material=Steel', 'Material=Aluminum', 'Material=Titanium']\n",
      "Mapping Material=Steel to MATERIAL OHCLASS: STEEL\n",
      "Mapping Material=Aluminum to MATERIAL OHCLASS: ALUMINUM\n",
      "Mapping Material=Titanium to MATERIAL OHCLASS: TITANIUM\n",
      "Found framed material columns ['Material=Steel', 'Material=Aluminum', 'Material=Titanium']\n",
      "Mapping Material=Steel to MATERIAL OHCLASS: STEEL\n",
      "Mapping Material=Aluminum to MATERIAL OHCLASS: ALUMINUM\n",
      "Mapping Material=Titanium to MATERIAL OHCLASS: TITANIUM\n"
     ]
    },
    {
     "name": "stderr",
     "output_type": "stream",
     "text": [
      "/home/yazan/Repositories/Personal/mcd-clip/src/mcd_clip/bike_rider_fit/fit_analysis/vectorizedangles.py:158: RuntimeWarning: invalid value encountered in arccos\n",
      "  alpha_1 = np.arccos((x_1 ** 2 - UL_s - x_2 ** 2) / (-2 * UL * x_2))\n",
      "/home/yazan/Repositories/Personal/mcd-clip/src/mcd_clip/bike_rider_fit/fit_analysis/demoanalysis.py:76: RuntimeWarning: invalid value encountered in arccos\n",
      "  Tksp2 = np.arccos(\n",
      "/home/yazan/Repositories/Personal/mcd-clip/src/mcd_clip/bike_rider_fit/fit_analysis/vectorizedangles.py:158: RuntimeWarning: invalid value encountered in arccos\n",
      "  alpha_1 = np.arccos((x_1 ** 2 - UL_s - x_2 ** 2) / (-2 * UL * x_2))\n"
     ]
    },
    {
     "name": "stdout",
     "output_type": "stream",
     "text": [
      "Found framed material columns ['Material=Steel', 'Material=Aluminum', 'Material=Titanium']\n",
      "Mapping Material=Steel to MATERIAL OHCLASS: STEEL\n",
      "Mapping Material=Aluminum to MATERIAL OHCLASS: ALUMINUM\n",
      "Mapping Material=Titanium to MATERIAL OHCLASS: TITANIUM\n",
      "embedding_distance_1 | min 0.699999988079071, max [1.1799999475479126],  average [0.7400000095367432]\n",
      "embedding_distance_2 | min 0.10999999940395355, max [1.6799999475479126],  average [0.17000000178813934]\n",
      "Validation result: fraction invalid [0.04]\n",
      "Validation result: fraction invalid [0.064]\n",
      "Validation result: fraction invalid [0.092]\n",
      "Validation result: fraction invalid [0.086]\n",
      "Validation result: fraction invalid [0.0]\n",
      "Validation result: fraction invalid [0.004]\n",
      "    53 |    26000 |    500 |  0.000000E+00 |  0.000000E+00 |  0.0633681017 |         nadir\n"
     ]
    },
    {
     "name": "stderr",
     "output_type": "stream",
     "text": [
      "/home/yazan/Repositories/Personal/mcd-clip/venv/lib/python3.10/site-packages/pymoo/operators/crossover/sbx.py:42: RuntimeWarning: divide by zero encountered in power\n",
      "  alpha = 2.0 - np.power(beta, -(eta + 1.0))\n",
      "/home/yazan/Repositories/Personal/mcd-clip/venv/lib/python3.10/site-packages/pymoo/operators/crossover/sbx.py:47: RuntimeWarning: invalid value encountered in power\n",
      "  betaq[mask] = np.power((rand * alpha), (1.0 / (eta + 1.0)))[mask]\n"
     ]
    },
    {
     "name": "stdout",
     "output_type": "stream",
     "text": [
      "Found framed material columns ['Material=Steel', 'Material=Aluminum', 'Material=Titanium']\n",
      "Mapping Material=Steel to MATERIAL OHCLASS: STEEL\n",
      "Mapping Material=Aluminum to MATERIAL OHCLASS: ALUMINUM\n",
      "Mapping Material=Titanium to MATERIAL OHCLASS: TITANIUM\n",
      "Found framed material columns ['Material=Steel', 'Material=Aluminum', 'Material=Titanium']\n",
      "Mapping Material=Steel to MATERIAL OHCLASS: STEEL\n",
      "Mapping Material=Aluminum to MATERIAL OHCLASS: ALUMINUM\n",
      "Mapping Material=Titanium to MATERIAL OHCLASS: TITANIUM\n",
      "Found framed material columns ['Material=Steel', 'Material=Aluminum', 'Material=Titanium']\n",
      "Mapping Material=Steel to MATERIAL OHCLASS: STEEL\n",
      "Mapping Material=Aluminum to MATERIAL OHCLASS: ALUMINUM\n",
      "Mapping Material=Titanium to MATERIAL OHCLASS: TITANIUM\n"
     ]
    },
    {
     "name": "stderr",
     "output_type": "stream",
     "text": [
      "/home/yazan/Repositories/Personal/mcd-clip/src/mcd_clip/bike_rider_fit/fit_analysis/vectorizedangles.py:158: RuntimeWarning: invalid value encountered in arccos\n",
      "  alpha_1 = np.arccos((x_1 ** 2 - UL_s - x_2 ** 2) / (-2 * UL * x_2))\n",
      "/home/yazan/Repositories/Personal/mcd-clip/src/mcd_clip/bike_rider_fit/fit_analysis/demoanalysis.py:76: RuntimeWarning: invalid value encountered in arccos\n",
      "  Tksp2 = np.arccos(\n",
      "/home/yazan/Repositories/Personal/mcd-clip/src/mcd_clip/bike_rider_fit/fit_analysis/vectorizedangles.py:158: RuntimeWarning: invalid value encountered in arccos\n",
      "  alpha_1 = np.arccos((x_1 ** 2 - UL_s - x_2 ** 2) / (-2 * UL * x_2))\n"
     ]
    },
    {
     "name": "stdout",
     "output_type": "stream",
     "text": [
      "embedding_distance_1 | min 0.6899999976158142, max [1.1799999475479126],  average [0.7200000286102295]\n",
      "embedding_distance_2 | min 0.07999999821186066, max [1.6799999475479126],  average [0.14000000059604645]\n",
      "Validation result: fraction invalid [0.076]\n",
      "Validation result: fraction invalid [0.072]\n",
      "Validation result: fraction invalid [0.09]\n",
      "Validation result: fraction invalid [0.08]\n",
      "Validation result: fraction invalid [0.0]\n",
      "Validation result: fraction invalid [0.002]\n",
      "    54 |    26500 |    500 |  0.000000E+00 |  0.000000E+00 |  0.0052689013 |             f\n"
     ]
    },
    {
     "name": "stderr",
     "output_type": "stream",
     "text": [
      "/home/yazan/Repositories/Personal/mcd-clip/venv/lib/python3.10/site-packages/pymoo/operators/crossover/sbx.py:42: RuntimeWarning: divide by zero encountered in power\n",
      "  alpha = 2.0 - np.power(beta, -(eta + 1.0))\n",
      "/home/yazan/Repositories/Personal/mcd-clip/venv/lib/python3.10/site-packages/pymoo/operators/crossover/sbx.py:47: RuntimeWarning: invalid value encountered in power\n",
      "  betaq[mask] = np.power((rand * alpha), (1.0 / (eta + 1.0)))[mask]\n"
     ]
    },
    {
     "name": "stdout",
     "output_type": "stream",
     "text": [
      "Found framed material columns ['Material=Steel', 'Material=Aluminum', 'Material=Titanium']\n",
      "Mapping Material=Steel to MATERIAL OHCLASS: STEEL\n",
      "Mapping Material=Aluminum to MATERIAL OHCLASS: ALUMINUM\n",
      "Mapping Material=Titanium to MATERIAL OHCLASS: TITANIUM\n",
      "Found framed material columns ['Material=Steel', 'Material=Aluminum', 'Material=Titanium']\n",
      "Mapping Material=Steel to MATERIAL OHCLASS: STEEL\n",
      "Mapping Material=Aluminum to MATERIAL OHCLASS: ALUMINUM\n",
      "Mapping Material=Titanium to MATERIAL OHCLASS: TITANIUM\n",
      "Found framed material columns ['Material=Steel', 'Material=Aluminum', 'Material=Titanium']\n",
      "Mapping Material=Steel to MATERIAL OHCLASS: STEEL\n",
      "Mapping Material=Aluminum to MATERIAL OHCLASS: ALUMINUM\n",
      "Mapping Material=Titanium to MATERIAL OHCLASS: TITANIUM\n"
     ]
    },
    {
     "name": "stderr",
     "output_type": "stream",
     "text": [
      "/home/yazan/Repositories/Personal/mcd-clip/src/mcd_clip/bike_rider_fit/fit_analysis/vectorizedangles.py:158: RuntimeWarning: invalid value encountered in arccos\n",
      "  alpha_1 = np.arccos((x_1 ** 2 - UL_s - x_2 ** 2) / (-2 * UL * x_2))\n",
      "/home/yazan/Repositories/Personal/mcd-clip/src/mcd_clip/bike_rider_fit/fit_analysis/demoanalysis.py:76: RuntimeWarning: invalid value encountered in arccos\n",
      "  Tksp2 = np.arccos(\n",
      "/home/yazan/Repositories/Personal/mcd-clip/src/mcd_clip/bike_rider_fit/fit_analysis/vectorizedangles.py:158: RuntimeWarning: invalid value encountered in arccos\n",
      "  alpha_1 = np.arccos((x_1 ** 2 - UL_s - x_2 ** 2) / (-2 * UL * x_2))\n"
     ]
    },
    {
     "name": "stdout",
     "output_type": "stream",
     "text": [
      "embedding_distance_1 | min 0.699999988079071, max [1.1799999475479126],  average [0.7400000095367432]\n",
      "embedding_distance_2 | min 0.09000000357627869, max [1.690000057220459],  average [0.20000000298023224]\n",
      "Validation result: fraction invalid [0.082]\n",
      "Validation result: fraction invalid [0.114]\n",
      "Validation result: fraction invalid [0.144]\n",
      "Validation result: fraction invalid [0.122]\n",
      "Validation result: fraction invalid [0.0]\n",
      "Validation result: fraction invalid [0.01]\n",
      "    55 |    27000 |    500 |  0.000000E+00 |  0.000000E+00 |  0.0029818130 |             f\n"
     ]
    },
    {
     "name": "stderr",
     "output_type": "stream",
     "text": [
      "/home/yazan/Repositories/Personal/mcd-clip/venv/lib/python3.10/site-packages/pymoo/operators/crossover/sbx.py:42: RuntimeWarning: divide by zero encountered in power\n",
      "  alpha = 2.0 - np.power(beta, -(eta + 1.0))\n",
      "/home/yazan/Repositories/Personal/mcd-clip/venv/lib/python3.10/site-packages/pymoo/operators/crossover/sbx.py:47: RuntimeWarning: invalid value encountered in power\n",
      "  betaq[mask] = np.power((rand * alpha), (1.0 / (eta + 1.0)))[mask]\n",
      "/home/yazan/Repositories/Personal/mcd-clip/venv/lib/python3.10/site-packages/pymoo/operators/crossover/sbx.py:47: RuntimeWarning: invalid value encountered in power\n",
      "  betaq[mask] = np.power((rand * alpha), (1.0 / (eta + 1.0)))[mask]\n"
     ]
    },
    {
     "name": "stdout",
     "output_type": "stream",
     "text": [
      "Found framed material columns ['Material=Steel', 'Material=Aluminum', 'Material=Titanium']\n",
      "Mapping Material=Steel to MATERIAL OHCLASS: STEEL\n",
      "Mapping Material=Aluminum to MATERIAL OHCLASS: ALUMINUM\n",
      "Mapping Material=Titanium to MATERIAL OHCLASS: TITANIUM\n",
      "Found framed material columns ['Material=Steel', 'Material=Aluminum', 'Material=Titanium']\n",
      "Mapping Material=Steel to MATERIAL OHCLASS: STEEL\n",
      "Mapping Material=Aluminum to MATERIAL OHCLASS: ALUMINUM\n",
      "Mapping Material=Titanium to MATERIAL OHCLASS: TITANIUM\n",
      "Found framed material columns ['Material=Steel', 'Material=Aluminum', 'Material=Titanium']\n",
      "Mapping Material=Steel to MATERIAL OHCLASS: STEEL\n",
      "Mapping Material=Aluminum to MATERIAL OHCLASS: ALUMINUM\n",
      "Mapping Material=Titanium to MATERIAL OHCLASS: TITANIUM\n",
      "embedding_distance_1 | min 0.699999988079071, max [1.1699999570846558],  average [0.7400000095367432]\n",
      "embedding_distance_2 | min 0.11999999731779099, max [1.659999966621399],  average [0.1599999964237213]\n"
     ]
    },
    {
     "name": "stderr",
     "output_type": "stream",
     "text": [
      "/home/yazan/Repositories/Personal/mcd-clip/src/mcd_clip/bike_rider_fit/fit_analysis/vectorizedangles.py:158: RuntimeWarning: invalid value encountered in arccos\n",
      "  alpha_1 = np.arccos((x_1 ** 2 - UL_s - x_2 ** 2) / (-2 * UL * x_2))\n",
      "/home/yazan/Repositories/Personal/mcd-clip/src/mcd_clip/bike_rider_fit/fit_analysis/demoanalysis.py:76: RuntimeWarning: invalid value encountered in arccos\n",
      "  Tksp2 = np.arccos(\n",
      "/home/yazan/Repositories/Personal/mcd-clip/src/mcd_clip/bike_rider_fit/fit_analysis/vectorizedangles.py:158: RuntimeWarning: invalid value encountered in arccos\n",
      "  alpha_1 = np.arccos((x_1 ** 2 - UL_s - x_2 ** 2) / (-2 * UL * x_2))\n"
     ]
    },
    {
     "name": "stdout",
     "output_type": "stream",
     "text": [
      "Validation result: fraction invalid [0.034]\n",
      "Validation result: fraction invalid [0.036]\n",
      "Validation result: fraction invalid [0.044]\n",
      "Validation result: fraction invalid [0.05]\n",
      "Validation result: fraction invalid [0.0]\n",
      "Validation result: fraction invalid [0.0]\n",
      "    56 |    27500 |    500 |  0.000000E+00 |  0.000000E+00 |  0.0009689456 |             f\n"
     ]
    },
    {
     "name": "stderr",
     "output_type": "stream",
     "text": [
      "/home/yazan/Repositories/Personal/mcd-clip/venv/lib/python3.10/site-packages/pymoo/operators/crossover/sbx.py:42: RuntimeWarning: divide by zero encountered in power\n",
      "  alpha = 2.0 - np.power(beta, -(eta + 1.0))\n",
      "/home/yazan/Repositories/Personal/mcd-clip/venv/lib/python3.10/site-packages/pymoo/operators/crossover/sbx.py:47: RuntimeWarning: invalid value encountered in power\n",
      "  betaq[mask] = np.power((rand * alpha), (1.0 / (eta + 1.0)))[mask]\n",
      "/home/yazan/Repositories/Personal/mcd-clip/venv/lib/python3.10/site-packages/pymoo/operators/mutation/pm.py:45: RuntimeWarning: invalid value encountered in power\n",
      "  d = np.power(val, mut_pow) - 1.0\n"
     ]
    },
    {
     "name": "stdout",
     "output_type": "stream",
     "text": [
      "Found framed material columns ['Material=Steel', 'Material=Aluminum', 'Material=Titanium']\n",
      "Mapping Material=Steel to MATERIAL OHCLASS: STEEL\n",
      "Mapping Material=Aluminum to MATERIAL OHCLASS: ALUMINUM\n",
      "Mapping Material=Titanium to MATERIAL OHCLASS: TITANIUM\n",
      "Found framed material columns ['Material=Steel', 'Material=Aluminum', 'Material=Titanium']\n",
      "Mapping Material=Steel to MATERIAL OHCLASS: STEEL\n",
      "Mapping Material=Aluminum to MATERIAL OHCLASS: ALUMINUM\n",
      "Mapping Material=Titanium to MATERIAL OHCLASS: TITANIUM\n"
     ]
    },
    {
     "name": "stderr",
     "output_type": "stream",
     "text": [
      "/home/yazan/Repositories/Personal/mcd-clip/src/mcd_clip/bike_rider_fit/fit_analysis/vectorizedangles.py:158: RuntimeWarning: invalid value encountered in arccos\n",
      "  alpha_1 = np.arccos((x_1 ** 2 - UL_s - x_2 ** 2) / (-2 * UL * x_2))\n",
      "/home/yazan/Repositories/Personal/mcd-clip/src/mcd_clip/bike_rider_fit/fit_analysis/demoanalysis.py:76: RuntimeWarning: invalid value encountered in arccos\n",
      "  Tksp2 = np.arccos(\n",
      "/home/yazan/Repositories/Personal/mcd-clip/src/mcd_clip/bike_rider_fit/fit_analysis/vectorizedangles.py:158: RuntimeWarning: invalid value encountered in arccos\n",
      "  alpha_1 = np.arccos((x_1 ** 2 - UL_s - x_2 ** 2) / (-2 * UL * x_2))\n"
     ]
    },
    {
     "name": "stdout",
     "output_type": "stream",
     "text": [
      "Found framed material columns ['Material=Steel', 'Material=Aluminum', 'Material=Titanium']\n",
      "Mapping Material=Steel to MATERIAL OHCLASS: STEEL\n",
      "Mapping Material=Aluminum to MATERIAL OHCLASS: ALUMINUM\n",
      "Mapping Material=Titanium to MATERIAL OHCLASS: TITANIUM\n",
      "embedding_distance_1 | min 0.6899999976158142, max [1.1799999475479126],  average [0.7200000286102295]\n",
      "embedding_distance_2 | min 0.07999999821186066, max [1.6799999475479126],  average [0.14000000059604645]\n",
      "Validation result: fraction invalid [0.052]\n",
      "Validation result: fraction invalid [0.072]\n",
      "Validation result: fraction invalid [0.068]\n",
      "Validation result: fraction invalid [0.074]\n",
      "Validation result: fraction invalid [0.0]\n",
      "Validation result: fraction invalid [0.004]\n",
      "    57 |    28000 |    500 |  0.000000E+00 |  0.000000E+00 |  0.0080847856 |             f\n"
     ]
    },
    {
     "name": "stderr",
     "output_type": "stream",
     "text": [
      "/home/yazan/Repositories/Personal/mcd-clip/venv/lib/python3.10/site-packages/pymoo/operators/crossover/sbx.py:42: RuntimeWarning: divide by zero encountered in power\n",
      "  alpha = 2.0 - np.power(beta, -(eta + 1.0))\n",
      "/home/yazan/Repositories/Personal/mcd-clip/venv/lib/python3.10/site-packages/pymoo/operators/crossover/sbx.py:47: RuntimeWarning: invalid value encountered in power\n",
      "  betaq[mask] = np.power((rand * alpha), (1.0 / (eta + 1.0)))[mask]\n"
     ]
    },
    {
     "name": "stdout",
     "output_type": "stream",
     "text": [
      "Found framed material columns ['Material=Steel', 'Material=Aluminum', 'Material=Titanium']\n",
      "Mapping Material=Steel to MATERIAL OHCLASS: STEEL\n",
      "Mapping Material=Aluminum to MATERIAL OHCLASS: ALUMINUM\n",
      "Mapping Material=Titanium to MATERIAL OHCLASS: TITANIUM\n",
      "Found framed material columns ['Material=Steel', 'Material=Aluminum', 'Material=Titanium']\n",
      "Mapping Material=Steel to MATERIAL OHCLASS: STEEL\n",
      "Mapping Material=Aluminum to MATERIAL OHCLASS: ALUMINUM\n",
      "Mapping Material=Titanium to MATERIAL OHCLASS: TITANIUM\n",
      "Found framed material columns ['Material=Steel', 'Material=Aluminum', 'Material=Titanium']\n",
      "Mapping Material=Steel to MATERIAL OHCLASS: STEEL\n",
      "Mapping Material=Aluminum to MATERIAL OHCLASS: ALUMINUM\n",
      "Mapping Material=Titanium to MATERIAL OHCLASS: TITANIUM\n"
     ]
    },
    {
     "name": "stderr",
     "output_type": "stream",
     "text": [
      "/home/yazan/Repositories/Personal/mcd-clip/src/mcd_clip/bike_rider_fit/fit_analysis/vectorizedangles.py:158: RuntimeWarning: invalid value encountered in arccos\n",
      "  alpha_1 = np.arccos((x_1 ** 2 - UL_s - x_2 ** 2) / (-2 * UL * x_2))\n",
      "/home/yazan/Repositories/Personal/mcd-clip/src/mcd_clip/bike_rider_fit/fit_analysis/demoanalysis.py:76: RuntimeWarning: invalid value encountered in arccos\n",
      "  Tksp2 = np.arccos(\n",
      "/home/yazan/Repositories/Personal/mcd-clip/src/mcd_clip/bike_rider_fit/fit_analysis/vectorizedangles.py:158: RuntimeWarning: invalid value encountered in arccos\n",
      "  alpha_1 = np.arccos((x_1 ** 2 - UL_s - x_2 ** 2) / (-2 * UL * x_2))\n"
     ]
    },
    {
     "name": "stdout",
     "output_type": "stream",
     "text": [
      "embedding_distance_1 | min 0.6899999976158142, max [1.1799999475479126],  average [0.7200000286102295]\n",
      "embedding_distance_2 | min 0.09000000357627869, max [1.6799999475479126],  average [0.14000000059604645]\n",
      "Validation result: fraction invalid [0.068]\n",
      "Validation result: fraction invalid [0.07]\n",
      "Validation result: fraction invalid [0.084]\n",
      "Validation result: fraction invalid [0.064]\n",
      "Validation result: fraction invalid [0.0]\n",
      "Validation result: fraction invalid [0.004]\n",
      "    58 |    28500 |    500 |  0.000000E+00 |  0.000000E+00 |  0.0483870968 |         nadir\n"
     ]
    },
    {
     "name": "stderr",
     "output_type": "stream",
     "text": [
      "/home/yazan/Repositories/Personal/mcd-clip/venv/lib/python3.10/site-packages/pymoo/operators/crossover/sbx.py:42: RuntimeWarning: divide by zero encountered in power\n",
      "  alpha = 2.0 - np.power(beta, -(eta + 1.0))\n",
      "/home/yazan/Repositories/Personal/mcd-clip/venv/lib/python3.10/site-packages/pymoo/operators/crossover/sbx.py:47: RuntimeWarning: invalid value encountered in power\n",
      "  betaq[mask] = np.power((rand * alpha), (1.0 / (eta + 1.0)))[mask]\n"
     ]
    },
    {
     "name": "stdout",
     "output_type": "stream",
     "text": [
      "Found framed material columns ['Material=Steel', 'Material=Aluminum', 'Material=Titanium']\n",
      "Mapping Material=Steel to MATERIAL OHCLASS: STEEL\n",
      "Mapping Material=Aluminum to MATERIAL OHCLASS: ALUMINUM\n",
      "Mapping Material=Titanium to MATERIAL OHCLASS: TITANIUM\n",
      "Found framed material columns ['Material=Steel', 'Material=Aluminum', 'Material=Titanium']\n",
      "Mapping Material=Steel to MATERIAL OHCLASS: STEEL\n",
      "Mapping Material=Aluminum to MATERIAL OHCLASS: ALUMINUM\n",
      "Mapping Material=Titanium to MATERIAL OHCLASS: TITANIUM\n",
      "Found framed material columns ['Material=Steel', 'Material=Aluminum', 'Material=Titanium']\n",
      "Mapping Material=Steel to MATERIAL OHCLASS: STEEL\n",
      "Mapping Material=Aluminum to MATERIAL OHCLASS: ALUMINUM\n",
      "Mapping Material=Titanium to MATERIAL OHCLASS: TITANIUM\n"
     ]
    },
    {
     "name": "stderr",
     "output_type": "stream",
     "text": [
      "/home/yazan/Repositories/Personal/mcd-clip/src/mcd_clip/bike_rider_fit/fit_analysis/vectorizedangles.py:158: RuntimeWarning: invalid value encountered in arccos\n",
      "  alpha_1 = np.arccos((x_1 ** 2 - UL_s - x_2 ** 2) / (-2 * UL * x_2))\n",
      "/home/yazan/Repositories/Personal/mcd-clip/src/mcd_clip/bike_rider_fit/fit_analysis/demoanalysis.py:76: RuntimeWarning: invalid value encountered in arccos\n",
      "  Tksp2 = np.arccos(\n",
      "/home/yazan/Repositories/Personal/mcd-clip/src/mcd_clip/bike_rider_fit/fit_analysis/vectorizedangles.py:158: RuntimeWarning: invalid value encountered in arccos\n",
      "  alpha_1 = np.arccos((x_1 ** 2 - UL_s - x_2 ** 2) / (-2 * UL * x_2))\n"
     ]
    },
    {
     "name": "stdout",
     "output_type": "stream",
     "text": [
      "embedding_distance_1 | min 0.6899999976158142, max [1.1799999475479126],  average [0.7300000190734863]\n",
      "embedding_distance_2 | min 0.07999999821186066, max [1.6799999475479126],  average [0.17000000178813934]\n",
      "Validation result: fraction invalid [0.092]\n",
      "Validation result: fraction invalid [0.102]\n",
      "Validation result: fraction invalid [0.148]\n",
      "Validation result: fraction invalid [0.14]\n",
      "Validation result: fraction invalid [0.0]\n",
      "Validation result: fraction invalid [0.004]\n",
      "    59 |    29000 |    500 |  0.000000E+00 |  0.000000E+00 |  0.0025370501 |         ideal\n"
     ]
    },
    {
     "name": "stderr",
     "output_type": "stream",
     "text": [
      "/home/yazan/Repositories/Personal/mcd-clip/venv/lib/python3.10/site-packages/pymoo/operators/crossover/sbx.py:42: RuntimeWarning: divide by zero encountered in power\n",
      "  alpha = 2.0 - np.power(beta, -(eta + 1.0))\n",
      "/home/yazan/Repositories/Personal/mcd-clip/venv/lib/python3.10/site-packages/pymoo/operators/crossover/sbx.py:47: RuntimeWarning: invalid value encountered in power\n",
      "  betaq[mask] = np.power((rand * alpha), (1.0 / (eta + 1.0)))[mask]\n"
     ]
    },
    {
     "name": "stdout",
     "output_type": "stream",
     "text": [
      "Found framed material columns ['Material=Steel', 'Material=Aluminum', 'Material=Titanium']\n",
      "Mapping Material=Steel to MATERIAL OHCLASS: STEEL\n",
      "Mapping Material=Aluminum to MATERIAL OHCLASS: ALUMINUM\n",
      "Mapping Material=Titanium to MATERIAL OHCLASS: TITANIUM\n",
      "Found framed material columns ['Material=Steel', 'Material=Aluminum', 'Material=Titanium']\n",
      "Mapping Material=Steel to MATERIAL OHCLASS: STEEL\n",
      "Mapping Material=Aluminum to MATERIAL OHCLASS: ALUMINUM\n",
      "Mapping Material=Titanium to MATERIAL OHCLASS: TITANIUM\n",
      "Found framed material columns ['Material=Steel', 'Material=Aluminum', 'Material=Titanium']\n",
      "Mapping Material=Steel to MATERIAL OHCLASS: STEEL\n",
      "Mapping Material=Aluminum to MATERIAL OHCLASS: ALUMINUM\n",
      "Mapping Material=Titanium to MATERIAL OHCLASS: TITANIUM\n"
     ]
    },
    {
     "name": "stderr",
     "output_type": "stream",
     "text": [
      "/home/yazan/Repositories/Personal/mcd-clip/src/mcd_clip/bike_rider_fit/fit_analysis/vectorizedangles.py:158: RuntimeWarning: invalid value encountered in arccos\n",
      "  alpha_1 = np.arccos((x_1 ** 2 - UL_s - x_2 ** 2) / (-2 * UL * x_2))\n",
      "/home/yazan/Repositories/Personal/mcd-clip/src/mcd_clip/bike_rider_fit/fit_analysis/demoanalysis.py:76: RuntimeWarning: invalid value encountered in arccos\n",
      "  Tksp2 = np.arccos(\n",
      "/home/yazan/Repositories/Personal/mcd-clip/src/mcd_clip/bike_rider_fit/fit_analysis/vectorizedangles.py:158: RuntimeWarning: invalid value encountered in arccos\n",
      "  alpha_1 = np.arccos((x_1 ** 2 - UL_s - x_2 ** 2) / (-2 * UL * x_2))\n"
     ]
    },
    {
     "name": "stdout",
     "output_type": "stream",
     "text": [
      "embedding_distance_1 | min 0.6899999976158142, max [1.1799999475479126],  average [0.7200000286102295]\n",
      "embedding_distance_2 | min 0.07999999821186066, max [1.6699999570846558],  average [0.14000000059604645]\n",
      "Validation result: fraction invalid [0.078]\n",
      "Validation result: fraction invalid [0.102]\n",
      "Validation result: fraction invalid [0.094]\n",
      "Validation result: fraction invalid [0.078]\n",
      "Validation result: fraction invalid [0.0]\n",
      "Validation result: fraction invalid [0.006]\n",
      "    60 |    29500 |    500 |  0.000000E+00 |  0.000000E+00 |  0.0146464540 |         nadir\n"
     ]
    },
    {
     "name": "stderr",
     "output_type": "stream",
     "text": [
      "/home/yazan/Repositories/Personal/mcd-clip/venv/lib/python3.10/site-packages/pymoo/operators/crossover/sbx.py:42: RuntimeWarning: divide by zero encountered in power\n",
      "  alpha = 2.0 - np.power(beta, -(eta + 1.0))\n",
      "/home/yazan/Repositories/Personal/mcd-clip/venv/lib/python3.10/site-packages/pymoo/operators/crossover/sbx.py:47: RuntimeWarning: invalid value encountered in power\n",
      "  betaq[mask] = np.power((rand * alpha), (1.0 / (eta + 1.0)))[mask]\n"
     ]
    },
    {
     "name": "stdout",
     "output_type": "stream",
     "text": [
      "Found framed material columns ['Material=Steel', 'Material=Aluminum', 'Material=Titanium']\n",
      "Mapping Material=Steel to MATERIAL OHCLASS: STEEL\n",
      "Mapping Material=Aluminum to MATERIAL OHCLASS: ALUMINUM\n",
      "Mapping Material=Titanium to MATERIAL OHCLASS: TITANIUM\n",
      "Found framed material columns ['Material=Steel', 'Material=Aluminum', 'Material=Titanium']\n",
      "Mapping Material=Steel to MATERIAL OHCLASS: STEEL\n",
      "Mapping Material=Aluminum to MATERIAL OHCLASS: ALUMINUM\n",
      "Mapping Material=Titanium to MATERIAL OHCLASS: TITANIUM\n",
      "Found framed material columns ['Material=Steel', 'Material=Aluminum', 'Material=Titanium']\n",
      "Mapping Material=Steel to MATERIAL OHCLASS: STEEL\n",
      "Mapping Material=Aluminum to MATERIAL OHCLASS: ALUMINUM\n",
      "Mapping Material=Titanium to MATERIAL OHCLASS: TITANIUM\n"
     ]
    },
    {
     "name": "stderr",
     "output_type": "stream",
     "text": [
      "/home/yazan/Repositories/Personal/mcd-clip/src/mcd_clip/bike_rider_fit/fit_analysis/vectorizedangles.py:158: RuntimeWarning: invalid value encountered in arccos\n",
      "  alpha_1 = np.arccos((x_1 ** 2 - UL_s - x_2 ** 2) / (-2 * UL * x_2))\n",
      "/home/yazan/Repositories/Personal/mcd-clip/src/mcd_clip/bike_rider_fit/fit_analysis/demoanalysis.py:76: RuntimeWarning: invalid value encountered in arccos\n",
      "  Tksp2 = np.arccos(\n",
      "/home/yazan/Repositories/Personal/mcd-clip/src/mcd_clip/bike_rider_fit/fit_analysis/vectorizedangles.py:158: RuntimeWarning: invalid value encountered in arccos\n",
      "  alpha_1 = np.arccos((x_1 ** 2 - UL_s - x_2 ** 2) / (-2 * UL * x_2))\n"
     ]
    },
    {
     "name": "stdout",
     "output_type": "stream",
     "text": [
      "embedding_distance_1 | min 0.699999988079071, max [1.1799999475479126],  average [0.7400000095367432]\n",
      "embedding_distance_2 | min 0.10000000149011612, max [1.6699999570846558],  average [0.17000000178813934]\n",
      "Validation result: fraction invalid [0.06]\n",
      "Validation result: fraction invalid [0.062]\n",
      "Validation result: fraction invalid [0.122]\n",
      "Validation result: fraction invalid [0.116]\n",
      "Validation result: fraction invalid [0.0]\n",
      "Validation result: fraction invalid [0.008]\n",
      "    61 |    30000 |    500 |  0.000000E+00 |  0.000000E+00 |  0.0012245888 |             f\n"
     ]
    },
    {
     "name": "stderr",
     "output_type": "stream",
     "text": [
      "/home/yazan/Repositories/Personal/mcd-clip/venv/lib/python3.10/site-packages/pymoo/operators/crossover/sbx.py:42: RuntimeWarning: divide by zero encountered in power\n",
      "  alpha = 2.0 - np.power(beta, -(eta + 1.0))\n",
      "/home/yazan/Repositories/Personal/mcd-clip/venv/lib/python3.10/site-packages/pymoo/operators/crossover/sbx.py:47: RuntimeWarning: invalid value encountered in power\n",
      "  betaq[mask] = np.power((rand * alpha), (1.0 / (eta + 1.0)))[mask]\n"
     ]
    },
    {
     "name": "stdout",
     "output_type": "stream",
     "text": [
      "Found framed material columns ['Material=Steel', 'Material=Aluminum', 'Material=Titanium']\n",
      "Mapping Material=Steel to MATERIAL OHCLASS: STEEL\n",
      "Mapping Material=Aluminum to MATERIAL OHCLASS: ALUMINUM\n",
      "Mapping Material=Titanium to MATERIAL OHCLASS: TITANIUM\n",
      "Found framed material columns ['Material=Steel', 'Material=Aluminum', 'Material=Titanium']\n",
      "Mapping Material=Steel to MATERIAL OHCLASS: STEEL\n",
      "Mapping Material=Aluminum to MATERIAL OHCLASS: ALUMINUM\n",
      "Mapping Material=Titanium to MATERIAL OHCLASS: TITANIUM\n",
      "Found framed material columns ['Material=Steel', 'Material=Aluminum', 'Material=Titanium']\n",
      "Mapping Material=Steel to MATERIAL OHCLASS: STEEL\n",
      "Mapping Material=Aluminum to MATERIAL OHCLASS: ALUMINUM\n",
      "Mapping Material=Titanium to MATERIAL OHCLASS: TITANIUM\n"
     ]
    },
    {
     "name": "stderr",
     "output_type": "stream",
     "text": [
      "/home/yazan/Repositories/Personal/mcd-clip/src/mcd_clip/bike_rider_fit/fit_analysis/vectorizedangles.py:158: RuntimeWarning: invalid value encountered in arccos\n",
      "  alpha_1 = np.arccos((x_1 ** 2 - UL_s - x_2 ** 2) / (-2 * UL * x_2))\n",
      "/home/yazan/Repositories/Personal/mcd-clip/src/mcd_clip/bike_rider_fit/fit_analysis/demoanalysis.py:76: RuntimeWarning: invalid value encountered in arccos\n",
      "  Tksp2 = np.arccos(\n",
      "/home/yazan/Repositories/Personal/mcd-clip/src/mcd_clip/bike_rider_fit/fit_analysis/vectorizedangles.py:158: RuntimeWarning: invalid value encountered in arccos\n",
      "  alpha_1 = np.arccos((x_1 ** 2 - UL_s - x_2 ** 2) / (-2 * UL * x_2))\n"
     ]
    },
    {
     "name": "stdout",
     "output_type": "stream",
     "text": [
      "embedding_distance_1 | min 0.6899999976158142, max [1.1799999475479126],  average [0.7400000095367432]\n",
      "embedding_distance_2 | min 0.10000000149011612, max [1.6799999475479126],  average [0.1899999976158142]\n",
      "Validation result: fraction invalid [0.084]\n",
      "Validation result: fraction invalid [0.108]\n",
      "Validation result: fraction invalid [0.114]\n",
      "Validation result: fraction invalid [0.108]\n",
      "Validation result: fraction invalid [0.0]\n",
      "Validation result: fraction invalid [0.004]\n",
      "    62 |    30500 |    500 |  0.000000E+00 |  0.000000E+00 |  0.0041289554 |             f\n"
     ]
    },
    {
     "name": "stderr",
     "output_type": "stream",
     "text": [
      "/home/yazan/Repositories/Personal/mcd-clip/venv/lib/python3.10/site-packages/pymoo/operators/crossover/sbx.py:42: RuntimeWarning: divide by zero encountered in power\n",
      "  alpha = 2.0 - np.power(beta, -(eta + 1.0))\n",
      "/home/yazan/Repositories/Personal/mcd-clip/venv/lib/python3.10/site-packages/pymoo/operators/crossover/sbx.py:47: RuntimeWarning: invalid value encountered in power\n",
      "  betaq[mask] = np.power((rand * alpha), (1.0 / (eta + 1.0)))[mask]\n",
      "/home/yazan/Repositories/Personal/mcd-clip/venv/lib/python3.10/site-packages/pymoo/operators/crossover/sbx.py:42: RuntimeWarning: divide by zero encountered in power\n",
      "  alpha = 2.0 - np.power(beta, -(eta + 1.0))\n",
      "/home/yazan/Repositories/Personal/mcd-clip/venv/lib/python3.10/site-packages/pymoo/operators/crossover/sbx.py:47: RuntimeWarning: invalid value encountered in power\n",
      "  betaq[mask] = np.power((rand * alpha), (1.0 / (eta + 1.0)))[mask]\n",
      "/home/yazan/Repositories/Personal/mcd-clip/venv/lib/python3.10/site-packages/pymoo/operators/crossover/sbx.py:42: RuntimeWarning: divide by zero encountered in power\n",
      "  alpha = 2.0 - np.power(beta, -(eta + 1.0))\n",
      "/home/yazan/Repositories/Personal/mcd-clip/venv/lib/python3.10/site-packages/pymoo/operators/crossover/sbx.py:47: RuntimeWarning: invalid value encountered in power\n",
      "  betaq[mask] = np.power((rand * alpha), (1.0 / (eta + 1.0)))[mask]\n"
     ]
    },
    {
     "name": "stdout",
     "output_type": "stream",
     "text": [
      "Found framed material columns ['Material=Steel', 'Material=Aluminum', 'Material=Titanium']\n",
      "Mapping Material=Steel to MATERIAL OHCLASS: STEEL\n",
      "Mapping Material=Aluminum to MATERIAL OHCLASS: ALUMINUM\n",
      "Mapping Material=Titanium to MATERIAL OHCLASS: TITANIUM\n",
      "Found framed material columns ['Material=Steel', 'Material=Aluminum', 'Material=Titanium']\n",
      "Mapping Material=Steel to MATERIAL OHCLASS: STEEL\n",
      "Mapping Material=Aluminum to MATERIAL OHCLASS: ALUMINUM\n",
      "Mapping Material=Titanium to MATERIAL OHCLASS: TITANIUM\n",
      "Found framed material columns ['Material=Steel', 'Material=Aluminum', 'Material=Titanium']\n",
      "Mapping Material=Steel to MATERIAL OHCLASS: STEEL\n",
      "Mapping Material=Aluminum to MATERIAL OHCLASS: ALUMINUM\n",
      "Mapping Material=Titanium to MATERIAL OHCLASS: TITANIUM\n"
     ]
    },
    {
     "name": "stderr",
     "output_type": "stream",
     "text": [
      "/home/yazan/Repositories/Personal/mcd-clip/src/mcd_clip/bike_rider_fit/fit_analysis/vectorizedangles.py:158: RuntimeWarning: invalid value encountered in arccos\n",
      "  alpha_1 = np.arccos((x_1 ** 2 - UL_s - x_2 ** 2) / (-2 * UL * x_2))\n",
      "/home/yazan/Repositories/Personal/mcd-clip/src/mcd_clip/bike_rider_fit/fit_analysis/demoanalysis.py:76: RuntimeWarning: invalid value encountered in arccos\n",
      "  Tksp2 = np.arccos(\n",
      "/home/yazan/Repositories/Personal/mcd-clip/src/mcd_clip/bike_rider_fit/fit_analysis/vectorizedangles.py:158: RuntimeWarning: invalid value encountered in arccos\n",
      "  alpha_1 = np.arccos((x_1 ** 2 - UL_s - x_2 ** 2) / (-2 * UL * x_2))\n"
     ]
    },
    {
     "name": "stdout",
     "output_type": "stream",
     "text": [
      "embedding_distance_1 | min 0.699999988079071, max [1.1799999475479126],  average [0.7400000095367432]\n",
      "embedding_distance_2 | min 0.09000000357627869, max [1.6699999570846558],  average [0.1599999964237213]\n",
      "Validation result: fraction invalid [0.064]\n",
      "Validation result: fraction invalid [0.074]\n",
      "Validation result: fraction invalid [0.08]\n",
      "Validation result: fraction invalid [0.078]\n",
      "Validation result: fraction invalid [0.0]\n",
      "Validation result: fraction invalid [0.002]\n",
      "    63 |    31000 |    500 |  0.000000E+00 |  0.000000E+00 |  0.0015428431 |             f\n"
     ]
    },
    {
     "name": "stderr",
     "output_type": "stream",
     "text": [
      "/home/yazan/Repositories/Personal/mcd-clip/venv/lib/python3.10/site-packages/pymoo/operators/crossover/sbx.py:42: RuntimeWarning: divide by zero encountered in power\n",
      "  alpha = 2.0 - np.power(beta, -(eta + 1.0))\n",
      "/home/yazan/Repositories/Personal/mcd-clip/venv/lib/python3.10/site-packages/pymoo/operators/crossover/sbx.py:47: RuntimeWarning: invalid value encountered in power\n",
      "  betaq[mask] = np.power((rand * alpha), (1.0 / (eta + 1.0)))[mask]\n"
     ]
    },
    {
     "name": "stdout",
     "output_type": "stream",
     "text": [
      "Found framed material columns ['Material=Steel', 'Material=Aluminum', 'Material=Titanium']\n",
      "Mapping Material=Steel to MATERIAL OHCLASS: STEEL\n",
      "Mapping Material=Aluminum to MATERIAL OHCLASS: ALUMINUM\n",
      "Mapping Material=Titanium to MATERIAL OHCLASS: TITANIUM\n",
      "Found framed material columns ['Material=Steel', 'Material=Aluminum', 'Material=Titanium']\n",
      "Mapping Material=Steel to MATERIAL OHCLASS: STEEL\n",
      "Mapping Material=Aluminum to MATERIAL OHCLASS: ALUMINUM\n",
      "Mapping Material=Titanium to MATERIAL OHCLASS: TITANIUM\n",
      "Found framed material columns ['Material=Steel', 'Material=Aluminum', 'Material=Titanium']\n",
      "Mapping Material=Steel to MATERIAL OHCLASS: STEEL\n",
      "Mapping Material=Aluminum to MATERIAL OHCLASS: ALUMINUM\n",
      "Mapping Material=Titanium to MATERIAL OHCLASS: TITANIUM\n",
      "embedding_distance_1 | min 0.699999988079071, max [1.1799999475479126],  average [0.7400000095367432]\n",
      "embedding_distance_2 | min 0.10000000149011612, max [1.6799999475479126],  average [0.17000000178813934]\n"
     ]
    },
    {
     "name": "stderr",
     "output_type": "stream",
     "text": [
      "/home/yazan/Repositories/Personal/mcd-clip/src/mcd_clip/bike_rider_fit/fit_analysis/vectorizedangles.py:158: RuntimeWarning: invalid value encountered in arccos\n",
      "  alpha_1 = np.arccos((x_1 ** 2 - UL_s - x_2 ** 2) / (-2 * UL * x_2))\n",
      "/home/yazan/Repositories/Personal/mcd-clip/src/mcd_clip/bike_rider_fit/fit_analysis/demoanalysis.py:76: RuntimeWarning: invalid value encountered in arccos\n",
      "  Tksp2 = np.arccos(\n",
      "/home/yazan/Repositories/Personal/mcd-clip/src/mcd_clip/bike_rider_fit/fit_analysis/vectorizedangles.py:158: RuntimeWarning: invalid value encountered in arccos\n",
      "  alpha_1 = np.arccos((x_1 ** 2 - UL_s - x_2 ** 2) / (-2 * UL * x_2))\n"
     ]
    },
    {
     "name": "stdout",
     "output_type": "stream",
     "text": [
      "Validation result: fraction invalid [0.082]\n",
      "Validation result: fraction invalid [0.122]\n",
      "Validation result: fraction invalid [0.116]\n",
      "Validation result: fraction invalid [0.118]\n",
      "Validation result: fraction invalid [0.0]\n",
      "Validation result: fraction invalid [0.004]\n",
      "    64 |    31500 |    500 |  0.000000E+00 |  0.000000E+00 |  0.0024715154 |             f\n"
     ]
    },
    {
     "name": "stderr",
     "output_type": "stream",
     "text": [
      "/home/yazan/Repositories/Personal/mcd-clip/venv/lib/python3.10/site-packages/pymoo/operators/crossover/sbx.py:42: RuntimeWarning: divide by zero encountered in power\n",
      "  alpha = 2.0 - np.power(beta, -(eta + 1.0))\n",
      "/home/yazan/Repositories/Personal/mcd-clip/venv/lib/python3.10/site-packages/pymoo/operators/crossover/sbx.py:47: RuntimeWarning: invalid value encountered in power\n",
      "  betaq[mask] = np.power((rand * alpha), (1.0 / (eta + 1.0)))[mask]\n",
      "/home/yazan/Repositories/Personal/mcd-clip/venv/lib/python3.10/site-packages/pymoo/operators/mutation/pm.py:45: RuntimeWarning: invalid value encountered in power\n",
      "  d = np.power(val, mut_pow) - 1.0\n"
     ]
    },
    {
     "name": "stdout",
     "output_type": "stream",
     "text": [
      "Found framed material columns ['Material=Steel', 'Material=Aluminum', 'Material=Titanium']\n",
      "Mapping Material=Steel to MATERIAL OHCLASS: STEEL\n",
      "Mapping Material=Aluminum to MATERIAL OHCLASS: ALUMINUM\n",
      "Mapping Material=Titanium to MATERIAL OHCLASS: TITANIUM\n",
      "Found framed material columns ['Material=Steel', 'Material=Aluminum', 'Material=Titanium']\n",
      "Mapping Material=Steel to MATERIAL OHCLASS: STEEL\n",
      "Mapping Material=Aluminum to MATERIAL OHCLASS: ALUMINUM\n",
      "Mapping Material=Titanium to MATERIAL OHCLASS: TITANIUM\n",
      "Found framed material columns ['Material=Steel', 'Material=Aluminum', 'Material=Titanium']\n",
      "Mapping Material=Steel to MATERIAL OHCLASS: STEEL\n",
      "Mapping Material=Aluminum to MATERIAL OHCLASS: ALUMINUM\n",
      "Mapping Material=Titanium to MATERIAL OHCLASS: TITANIUM\n",
      "embedding_distance_1 | min 0.6899999976158142, max [1.1799999475479126],  average [0.7200000286102295]\n",
      "embedding_distance_2 | min 0.07999999821186066, max [1.6799999475479126],  average [0.14000000059604645]\n"
     ]
    },
    {
     "name": "stderr",
     "output_type": "stream",
     "text": [
      "/home/yazan/Repositories/Personal/mcd-clip/src/mcd_clip/bike_rider_fit/fit_analysis/vectorizedangles.py:158: RuntimeWarning: invalid value encountered in arccos\n",
      "  alpha_1 = np.arccos((x_1 ** 2 - UL_s - x_2 ** 2) / (-2 * UL * x_2))\n",
      "/home/yazan/Repositories/Personal/mcd-clip/src/mcd_clip/bike_rider_fit/fit_analysis/demoanalysis.py:76: RuntimeWarning: invalid value encountered in arccos\n",
      "  Tksp2 = np.arccos(\n",
      "/home/yazan/Repositories/Personal/mcd-clip/src/mcd_clip/bike_rider_fit/fit_analysis/vectorizedangles.py:158: RuntimeWarning: invalid value encountered in arccos\n",
      "  alpha_1 = np.arccos((x_1 ** 2 - UL_s - x_2 ** 2) / (-2 * UL * x_2))\n"
     ]
    },
    {
     "name": "stdout",
     "output_type": "stream",
     "text": [
      "Validation result: fraction invalid [0.068]\n",
      "Validation result: fraction invalid [0.07]\n",
      "Validation result: fraction invalid [0.068]\n",
      "Validation result: fraction invalid [0.09]\n",
      "Validation result: fraction invalid [0.0]\n",
      "Validation result: fraction invalid [0.004]\n",
      "    65 |    32000 |    500 |  0.000000E+00 |  0.000000E+00 |  0.0084742283 |             f\n"
     ]
    },
    {
     "name": "stderr",
     "output_type": "stream",
     "text": [
      "/home/yazan/Repositories/Personal/mcd-clip/venv/lib/python3.10/site-packages/pymoo/operators/crossover/sbx.py:42: RuntimeWarning: divide by zero encountered in power\n",
      "  alpha = 2.0 - np.power(beta, -(eta + 1.0))\n",
      "/home/yazan/Repositories/Personal/mcd-clip/venv/lib/python3.10/site-packages/pymoo/operators/crossover/sbx.py:47: RuntimeWarning: invalid value encountered in power\n",
      "  betaq[mask] = np.power((rand * alpha), (1.0 / (eta + 1.0)))[mask]\n"
     ]
    },
    {
     "name": "stdout",
     "output_type": "stream",
     "text": [
      "Found framed material columns ['Material=Steel', 'Material=Aluminum', 'Material=Titanium']\n",
      "Mapping Material=Steel to MATERIAL OHCLASS: STEEL\n",
      "Mapping Material=Aluminum to MATERIAL OHCLASS: ALUMINUM\n",
      "Mapping Material=Titanium to MATERIAL OHCLASS: TITANIUM\n",
      "Found framed material columns ['Material=Steel', 'Material=Aluminum', 'Material=Titanium']\n",
      "Mapping Material=Steel to MATERIAL OHCLASS: STEEL\n",
      "Mapping Material=Aluminum to MATERIAL OHCLASS: ALUMINUM\n",
      "Mapping Material=Titanium to MATERIAL OHCLASS: TITANIUM\n",
      "Found framed material columns ['Material=Steel', 'Material=Aluminum', 'Material=Titanium']\n",
      "Mapping Material=Steel to MATERIAL OHCLASS: STEEL\n",
      "Mapping Material=Aluminum to MATERIAL OHCLASS: ALUMINUM\n",
      "Mapping Material=Titanium to MATERIAL OHCLASS: TITANIUM\n"
     ]
    },
    {
     "name": "stderr",
     "output_type": "stream",
     "text": [
      "/home/yazan/Repositories/Personal/mcd-clip/src/mcd_clip/bike_rider_fit/fit_analysis/vectorizedangles.py:158: RuntimeWarning: invalid value encountered in arccos\n",
      "  alpha_1 = np.arccos((x_1 ** 2 - UL_s - x_2 ** 2) / (-2 * UL * x_2))\n",
      "/home/yazan/Repositories/Personal/mcd-clip/src/mcd_clip/bike_rider_fit/fit_analysis/demoanalysis.py:76: RuntimeWarning: invalid value encountered in arccos\n",
      "  Tksp2 = np.arccos(\n",
      "/home/yazan/Repositories/Personal/mcd-clip/src/mcd_clip/bike_rider_fit/fit_analysis/vectorizedangles.py:158: RuntimeWarning: invalid value encountered in arccos\n",
      "  alpha_1 = np.arccos((x_1 ** 2 - UL_s - x_2 ** 2) / (-2 * UL * x_2))\n"
     ]
    },
    {
     "name": "stdout",
     "output_type": "stream",
     "text": [
      "embedding_distance_1 | min 0.6899999976158142, max [1.1799999475479126],  average [0.7400000095367432]\n",
      "embedding_distance_2 | min 0.10000000149011612, max [1.6799999475479126],  average [0.17000000178813934]\n",
      "Validation result: fraction invalid [0.086]\n",
      "Validation result: fraction invalid [0.096]\n",
      "Validation result: fraction invalid [0.12]\n",
      "Validation result: fraction invalid [0.136]\n",
      "Validation result: fraction invalid [0.0]\n",
      "Validation result: fraction invalid [0.006]\n",
      "    66 |    32500 |    500 |  0.000000E+00 |  0.000000E+00 |  0.0026607955 |             f\n"
     ]
    },
    {
     "name": "stderr",
     "output_type": "stream",
     "text": [
      "/home/yazan/Repositories/Personal/mcd-clip/venv/lib/python3.10/site-packages/pymoo/operators/crossover/sbx.py:42: RuntimeWarning: divide by zero encountered in power\n",
      "  alpha = 2.0 - np.power(beta, -(eta + 1.0))\n",
      "/home/yazan/Repositories/Personal/mcd-clip/venv/lib/python3.10/site-packages/pymoo/operators/crossover/sbx.py:47: RuntimeWarning: invalid value encountered in power\n",
      "  betaq[mask] = np.power((rand * alpha), (1.0 / (eta + 1.0)))[mask]\n"
     ]
    },
    {
     "name": "stdout",
     "output_type": "stream",
     "text": [
      "Found framed material columns ['Material=Steel', 'Material=Aluminum', 'Material=Titanium']\n",
      "Mapping Material=Steel to MATERIAL OHCLASS: STEEL\n",
      "Mapping Material=Aluminum to MATERIAL OHCLASS: ALUMINUM\n",
      "Mapping Material=Titanium to MATERIAL OHCLASS: TITANIUM\n",
      "Found framed material columns ['Material=Steel', 'Material=Aluminum', 'Material=Titanium']\n",
      "Mapping Material=Steel to MATERIAL OHCLASS: STEEL\n",
      "Mapping Material=Aluminum to MATERIAL OHCLASS: ALUMINUM\n",
      "Mapping Material=Titanium to MATERIAL OHCLASS: TITANIUM\n",
      "Found framed material columns ['Material=Steel', 'Material=Aluminum', 'Material=Titanium']\n",
      "Mapping Material=Steel to MATERIAL OHCLASS: STEEL\n",
      "Mapping Material=Aluminum to MATERIAL OHCLASS: ALUMINUM\n",
      "Mapping Material=Titanium to MATERIAL OHCLASS: TITANIUM\n"
     ]
    },
    {
     "name": "stderr",
     "output_type": "stream",
     "text": [
      "/home/yazan/Repositories/Personal/mcd-clip/src/mcd_clip/bike_rider_fit/fit_analysis/vectorizedangles.py:158: RuntimeWarning: invalid value encountered in arccos\n",
      "  alpha_1 = np.arccos((x_1 ** 2 - UL_s - x_2 ** 2) / (-2 * UL * x_2))\n",
      "/home/yazan/Repositories/Personal/mcd-clip/src/mcd_clip/bike_rider_fit/fit_analysis/demoanalysis.py:76: RuntimeWarning: invalid value encountered in arccos\n",
      "  Tksp2 = np.arccos(\n",
      "/home/yazan/Repositories/Personal/mcd-clip/src/mcd_clip/bike_rider_fit/fit_analysis/vectorizedangles.py:158: RuntimeWarning: invalid value encountered in arccos\n",
      "  alpha_1 = np.arccos((x_1 ** 2 - UL_s - x_2 ** 2) / (-2 * UL * x_2))\n"
     ]
    },
    {
     "name": "stdout",
     "output_type": "stream",
     "text": [
      "embedding_distance_1 | min 0.6899999976158142, max [1.1799999475479126],  average [0.7200000286102295]\n",
      "embedding_distance_2 | min 0.07999999821186066, max [1.6699999570846558],  average [0.14000000059604645]\n",
      "Validation result: fraction invalid [0.072]\n",
      "Validation result: fraction invalid [0.076]\n",
      "Validation result: fraction invalid [0.098]\n",
      "Validation result: fraction invalid [0.062]\n",
      "Validation result: fraction invalid [0.0]\n",
      "Validation result: fraction invalid [0.01]\n",
      "    67 |    33000 |    500 |  0.000000E+00 |  0.000000E+00 |  0.0509240204 |         nadir\n"
     ]
    },
    {
     "name": "stderr",
     "output_type": "stream",
     "text": [
      "/home/yazan/Repositories/Personal/mcd-clip/venv/lib/python3.10/site-packages/pymoo/operators/crossover/sbx.py:42: RuntimeWarning: divide by zero encountered in power\n",
      "  alpha = 2.0 - np.power(beta, -(eta + 1.0))\n",
      "/home/yazan/Repositories/Personal/mcd-clip/venv/lib/python3.10/site-packages/pymoo/operators/crossover/sbx.py:47: RuntimeWarning: invalid value encountered in power\n",
      "  betaq[mask] = np.power((rand * alpha), (1.0 / (eta + 1.0)))[mask]\n"
     ]
    },
    {
     "name": "stdout",
     "output_type": "stream",
     "text": [
      "Found framed material columns ['Material=Steel', 'Material=Aluminum', 'Material=Titanium']\n",
      "Mapping Material=Steel to MATERIAL OHCLASS: STEEL\n",
      "Mapping Material=Aluminum to MATERIAL OHCLASS: ALUMINUM\n",
      "Mapping Material=Titanium to MATERIAL OHCLASS: TITANIUM\n",
      "Found framed material columns ['Material=Steel', 'Material=Aluminum', 'Material=Titanium']\n",
      "Mapping Material=Steel to MATERIAL OHCLASS: STEEL\n",
      "Mapping Material=Aluminum to MATERIAL OHCLASS: ALUMINUM\n",
      "Mapping Material=Titanium to MATERIAL OHCLASS: TITANIUM\n",
      "Found framed material columns ['Material=Steel', 'Material=Aluminum', 'Material=Titanium']\n",
      "Mapping Material=Steel to MATERIAL OHCLASS: STEEL\n",
      "Mapping Material=Aluminum to MATERIAL OHCLASS: ALUMINUM\n",
      "Mapping Material=Titanium to MATERIAL OHCLASS: TITANIUM\n",
      "embedding_distance_1 | min 0.6899999976158142, max [1.1799999475479126],  average [0.7200000286102295]\n",
      "embedding_distance_2 | min 0.07999999821186066, max [1.690000057220459],  average [0.14000000059604645]\n"
     ]
    },
    {
     "name": "stderr",
     "output_type": "stream",
     "text": [
      "/home/yazan/Repositories/Personal/mcd-clip/src/mcd_clip/bike_rider_fit/fit_analysis/vectorizedangles.py:158: RuntimeWarning: invalid value encountered in arccos\n",
      "  alpha_1 = np.arccos((x_1 ** 2 - UL_s - x_2 ** 2) / (-2 * UL * x_2))\n",
      "/home/yazan/Repositories/Personal/mcd-clip/src/mcd_clip/bike_rider_fit/fit_analysis/demoanalysis.py:76: RuntimeWarning: invalid value encountered in arccos\n",
      "  Tksp2 = np.arccos(\n",
      "/home/yazan/Repositories/Personal/mcd-clip/src/mcd_clip/bike_rider_fit/fit_analysis/vectorizedangles.py:158: RuntimeWarning: invalid value encountered in arccos\n",
      "  alpha_1 = np.arccos((x_1 ** 2 - UL_s - x_2 ** 2) / (-2 * UL * x_2))\n"
     ]
    },
    {
     "name": "stdout",
     "output_type": "stream",
     "text": [
      "Validation result: fraction invalid [0.06]\n",
      "Validation result: fraction invalid [0.086]\n",
      "Validation result: fraction invalid [0.102]\n",
      "Validation result: fraction invalid [0.074]\n",
      "Validation result: fraction invalid [0.0]\n",
      "Validation result: fraction invalid [0.004]\n",
      "    68 |    33500 |    500 |  0.000000E+00 |  0.000000E+00 |  0.0055469227 |             f\n"
     ]
    },
    {
     "name": "stderr",
     "output_type": "stream",
     "text": [
      "/home/yazan/Repositories/Personal/mcd-clip/venv/lib/python3.10/site-packages/pymoo/operators/crossover/sbx.py:42: RuntimeWarning: divide by zero encountered in power\n",
      "  alpha = 2.0 - np.power(beta, -(eta + 1.0))\n",
      "/home/yazan/Repositories/Personal/mcd-clip/venv/lib/python3.10/site-packages/pymoo/operators/crossover/sbx.py:47: RuntimeWarning: invalid value encountered in power\n",
      "  betaq[mask] = np.power((rand * alpha), (1.0 / (eta + 1.0)))[mask]\n"
     ]
    },
    {
     "name": "stdout",
     "output_type": "stream",
     "text": [
      "Found framed material columns ['Material=Steel', 'Material=Aluminum', 'Material=Titanium']\n",
      "Mapping Material=Steel to MATERIAL OHCLASS: STEEL\n",
      "Mapping Material=Aluminum to MATERIAL OHCLASS: ALUMINUM\n",
      "Mapping Material=Titanium to MATERIAL OHCLASS: TITANIUM\n",
      "Found framed material columns ['Material=Steel', 'Material=Aluminum', 'Material=Titanium']\n",
      "Mapping Material=Steel to MATERIAL OHCLASS: STEEL\n",
      "Mapping Material=Aluminum to MATERIAL OHCLASS: ALUMINUM\n",
      "Mapping Material=Titanium to MATERIAL OHCLASS: TITANIUM\n",
      "Found framed material columns ['Material=Steel', 'Material=Aluminum', 'Material=Titanium']\n",
      "Mapping Material=Steel to MATERIAL OHCLASS: STEEL\n",
      "Mapping Material=Aluminum to MATERIAL OHCLASS: ALUMINUM\n",
      "Mapping Material=Titanium to MATERIAL OHCLASS: TITANIUM\n"
     ]
    },
    {
     "name": "stderr",
     "output_type": "stream",
     "text": [
      "/home/yazan/Repositories/Personal/mcd-clip/src/mcd_clip/bike_rider_fit/fit_analysis/vectorizedangles.py:158: RuntimeWarning: invalid value encountered in arccos\n",
      "  alpha_1 = np.arccos((x_1 ** 2 - UL_s - x_2 ** 2) / (-2 * UL * x_2))\n",
      "/home/yazan/Repositories/Personal/mcd-clip/src/mcd_clip/bike_rider_fit/fit_analysis/demoanalysis.py:76: RuntimeWarning: invalid value encountered in arccos\n",
      "  Tksp2 = np.arccos(\n",
      "/home/yazan/Repositories/Personal/mcd-clip/src/mcd_clip/bike_rider_fit/fit_analysis/vectorizedangles.py:158: RuntimeWarning: invalid value encountered in arccos\n",
      "  alpha_1 = np.arccos((x_1 ** 2 - UL_s - x_2 ** 2) / (-2 * UL * x_2))\n"
     ]
    },
    {
     "name": "stdout",
     "output_type": "stream",
     "text": [
      "embedding_distance_1 | min 0.6899999976158142, max [1.1799999475479126],  average [0.7200000286102295]\n",
      "embedding_distance_2 | min 0.07999999821186066, max [1.690000057220459],  average [0.14000000059604645]\n",
      "Validation result: fraction invalid [0.076]\n",
      "Validation result: fraction invalid [0.078]\n",
      "Validation result: fraction invalid [0.08]\n",
      "Validation result: fraction invalid [0.086]\n",
      "Validation result: fraction invalid [0.0]\n",
      "Validation result: fraction invalid [0.008]\n",
      "    69 |    34000 |    500 |  0.000000E+00 |  0.000000E+00 |  0.0172584714 |         ideal\n"
     ]
    },
    {
     "name": "stderr",
     "output_type": "stream",
     "text": [
      "/home/yazan/Repositories/Personal/mcd-clip/venv/lib/python3.10/site-packages/pymoo/operators/crossover/sbx.py:42: RuntimeWarning: divide by zero encountered in power\n",
      "  alpha = 2.0 - np.power(beta, -(eta + 1.0))\n",
      "/home/yazan/Repositories/Personal/mcd-clip/venv/lib/python3.10/site-packages/pymoo/operators/crossover/sbx.py:47: RuntimeWarning: invalid value encountered in power\n",
      "  betaq[mask] = np.power((rand * alpha), (1.0 / (eta + 1.0)))[mask]\n"
     ]
    },
    {
     "name": "stdout",
     "output_type": "stream",
     "text": [
      "Found framed material columns ['Material=Steel', 'Material=Aluminum', 'Material=Titanium']\n",
      "Mapping Material=Steel to MATERIAL OHCLASS: STEEL\n",
      "Mapping Material=Aluminum to MATERIAL OHCLASS: ALUMINUM\n",
      "Mapping Material=Titanium to MATERIAL OHCLASS: TITANIUM\n",
      "Found framed material columns ['Material=Steel', 'Material=Aluminum', 'Material=Titanium']\n",
      "Mapping Material=Steel to MATERIAL OHCLASS: STEEL\n",
      "Mapping Material=Aluminum to MATERIAL OHCLASS: ALUMINUM\n",
      "Mapping Material=Titanium to MATERIAL OHCLASS: TITANIUM\n",
      "Found framed material columns ['Material=Steel', 'Material=Aluminum', 'Material=Titanium']\n",
      "Mapping Material=Steel to MATERIAL OHCLASS: STEEL\n",
      "Mapping Material=Aluminum to MATERIAL OHCLASS: ALUMINUM\n",
      "Mapping Material=Titanium to MATERIAL OHCLASS: TITANIUM\n"
     ]
    },
    {
     "name": "stderr",
     "output_type": "stream",
     "text": [
      "/home/yazan/Repositories/Personal/mcd-clip/src/mcd_clip/bike_rider_fit/fit_analysis/vectorizedangles.py:158: RuntimeWarning: invalid value encountered in arccos\n",
      "  alpha_1 = np.arccos((x_1 ** 2 - UL_s - x_2 ** 2) / (-2 * UL * x_2))\n",
      "/home/yazan/Repositories/Personal/mcd-clip/src/mcd_clip/bike_rider_fit/fit_analysis/demoanalysis.py:76: RuntimeWarning: invalid value encountered in arccos\n",
      "  Tksp2 = np.arccos(\n",
      "/home/yazan/Repositories/Personal/mcd-clip/src/mcd_clip/bike_rider_fit/fit_analysis/vectorizedangles.py:158: RuntimeWarning: invalid value encountered in arccos\n",
      "  alpha_1 = np.arccos((x_1 ** 2 - UL_s - x_2 ** 2) / (-2 * UL * x_2))\n"
     ]
    },
    {
     "name": "stdout",
     "output_type": "stream",
     "text": [
      "embedding_distance_1 | min 0.6899999976158142, max [1.1799999475479126],  average [0.7300000190734863]\n",
      "embedding_distance_2 | min 0.07999999821186066, max [1.6799999475479126],  average [0.1599999964237213]\n",
      "Validation result: fraction invalid [0.086]\n",
      "Validation result: fraction invalid [0.112]\n",
      "Validation result: fraction invalid [0.14]\n",
      "Validation result: fraction invalid [0.132]\n",
      "Validation result: fraction invalid [0.0]\n",
      "Validation result: fraction invalid [0.006]\n",
      "    70 |    34500 |    500 |  0.000000E+00 |  0.000000E+00 |  0.0073489719 |             f\n"
     ]
    },
    {
     "name": "stderr",
     "output_type": "stream",
     "text": [
      "/home/yazan/Repositories/Personal/mcd-clip/venv/lib/python3.10/site-packages/pymoo/operators/crossover/sbx.py:42: RuntimeWarning: divide by zero encountered in power\n",
      "  alpha = 2.0 - np.power(beta, -(eta + 1.0))\n",
      "/home/yazan/Repositories/Personal/mcd-clip/venv/lib/python3.10/site-packages/pymoo/operators/crossover/sbx.py:47: RuntimeWarning: invalid value encountered in power\n",
      "  betaq[mask] = np.power((rand * alpha), (1.0 / (eta + 1.0)))[mask]\n"
     ]
    },
    {
     "name": "stdout",
     "output_type": "stream",
     "text": [
      "Found framed material columns ['Material=Steel', 'Material=Aluminum', 'Material=Titanium']\n",
      "Mapping Material=Steel to MATERIAL OHCLASS: STEEL\n",
      "Mapping Material=Aluminum to MATERIAL OHCLASS: ALUMINUM\n",
      "Mapping Material=Titanium to MATERIAL OHCLASS: TITANIUM\n",
      "Found framed material columns ['Material=Steel', 'Material=Aluminum', 'Material=Titanium']\n",
      "Mapping Material=Steel to MATERIAL OHCLASS: STEEL\n",
      "Mapping Material=Aluminum to MATERIAL OHCLASS: ALUMINUM\n",
      "Mapping Material=Titanium to MATERIAL OHCLASS: TITANIUM\n",
      "Found framed material columns ['Material=Steel', 'Material=Aluminum', 'Material=Titanium']\n",
      "Mapping Material=Steel to MATERIAL OHCLASS: STEEL\n",
      "Mapping Material=Aluminum to MATERIAL OHCLASS: ALUMINUM\n",
      "Mapping Material=Titanium to MATERIAL OHCLASS: TITANIUM\n"
     ]
    },
    {
     "name": "stderr",
     "output_type": "stream",
     "text": [
      "/home/yazan/Repositories/Personal/mcd-clip/src/mcd_clip/bike_rider_fit/fit_analysis/vectorizedangles.py:158: RuntimeWarning: invalid value encountered in arccos\n",
      "  alpha_1 = np.arccos((x_1 ** 2 - UL_s - x_2 ** 2) / (-2 * UL * x_2))\n",
      "/home/yazan/Repositories/Personal/mcd-clip/src/mcd_clip/bike_rider_fit/fit_analysis/demoanalysis.py:76: RuntimeWarning: invalid value encountered in arccos\n",
      "  Tksp2 = np.arccos(\n",
      "/home/yazan/Repositories/Personal/mcd-clip/src/mcd_clip/bike_rider_fit/fit_analysis/vectorizedangles.py:158: RuntimeWarning: invalid value encountered in arccos\n",
      "  alpha_1 = np.arccos((x_1 ** 2 - UL_s - x_2 ** 2) / (-2 * UL * x_2))\n"
     ]
    },
    {
     "name": "stdout",
     "output_type": "stream",
     "text": [
      "embedding_distance_1 | min 0.6899999976158142, max [1.1799999475479126],  average [0.7200000286102295]\n",
      "embedding_distance_2 | min 0.07999999821186066, max [1.690000057220459],  average [0.15000000596046448]\n",
      "Validation result: fraction invalid [0.07]\n",
      "Validation result: fraction invalid [0.076]\n",
      "Validation result: fraction invalid [0.096]\n",
      "Validation result: fraction invalid [0.086]\n",
      "Validation result: fraction invalid [0.0]\n",
      "Validation result: fraction invalid [0.006]\n",
      "    71 |    35000 |    500 |  0.000000E+00 |  0.000000E+00 |  0.0061792537 |             f\n"
     ]
    },
    {
     "name": "stderr",
     "output_type": "stream",
     "text": [
      "/home/yazan/Repositories/Personal/mcd-clip/venv/lib/python3.10/site-packages/pymoo/operators/crossover/sbx.py:42: RuntimeWarning: divide by zero encountered in power\n",
      "  alpha = 2.0 - np.power(beta, -(eta + 1.0))\n",
      "/home/yazan/Repositories/Personal/mcd-clip/venv/lib/python3.10/site-packages/pymoo/operators/crossover/sbx.py:47: RuntimeWarning: invalid value encountered in power\n",
      "  betaq[mask] = np.power((rand * alpha), (1.0 / (eta + 1.0)))[mask]\n",
      "/home/yazan/Repositories/Personal/mcd-clip/venv/lib/python3.10/site-packages/pymoo/operators/mutation/pm.py:45: RuntimeWarning: invalid value encountered in power\n",
      "  d = np.power(val, mut_pow) - 1.0\n"
     ]
    },
    {
     "name": "stdout",
     "output_type": "stream",
     "text": [
      "Found framed material columns ['Material=Steel', 'Material=Aluminum', 'Material=Titanium']\n",
      "Mapping Material=Steel to MATERIAL OHCLASS: STEEL\n",
      "Mapping Material=Aluminum to MATERIAL OHCLASS: ALUMINUM\n",
      "Mapping Material=Titanium to MATERIAL OHCLASS: TITANIUM\n",
      "Found framed material columns ['Material=Steel', 'Material=Aluminum', 'Material=Titanium']\n",
      "Mapping Material=Steel to MATERIAL OHCLASS: STEEL\n",
      "Mapping Material=Aluminum to MATERIAL OHCLASS: ALUMINUM\n",
      "Mapping Material=Titanium to MATERIAL OHCLASS: TITANIUM\n"
     ]
    },
    {
     "name": "stderr",
     "output_type": "stream",
     "text": [
      "/home/yazan/Repositories/Personal/mcd-clip/src/mcd_clip/bike_rider_fit/fit_analysis/vectorizedangles.py:158: RuntimeWarning: invalid value encountered in arccos\n",
      "  alpha_1 = np.arccos((x_1 ** 2 - UL_s - x_2 ** 2) / (-2 * UL * x_2))\n",
      "/home/yazan/Repositories/Personal/mcd-clip/src/mcd_clip/bike_rider_fit/fit_analysis/demoanalysis.py:76: RuntimeWarning: invalid value encountered in arccos\n",
      "  Tksp2 = np.arccos(\n",
      "/home/yazan/Repositories/Personal/mcd-clip/src/mcd_clip/bike_rider_fit/fit_analysis/vectorizedangles.py:158: RuntimeWarning: invalid value encountered in arccos\n",
      "  alpha_1 = np.arccos((x_1 ** 2 - UL_s - x_2 ** 2) / (-2 * UL * x_2))\n"
     ]
    },
    {
     "name": "stdout",
     "output_type": "stream",
     "text": [
      "Found framed material columns ['Material=Steel', 'Material=Aluminum', 'Material=Titanium']\n",
      "Mapping Material=Steel to MATERIAL OHCLASS: STEEL\n",
      "Mapping Material=Aluminum to MATERIAL OHCLASS: ALUMINUM\n",
      "Mapping Material=Titanium to MATERIAL OHCLASS: TITANIUM\n",
      "embedding_distance_1 | min 0.6899999976158142, max [1.1799999475479126],  average [0.7300000190734863]\n",
      "embedding_distance_2 | min 0.09000000357627869, max [1.6799999475479126],  average [0.15000000596046448]\n",
      "Validation result: fraction invalid [0.11]\n",
      "Validation result: fraction invalid [0.102]\n",
      "Validation result: fraction invalid [0.114]\n",
      "Validation result: fraction invalid [0.108]\n",
      "Validation result: fraction invalid [0.0]\n",
      "Validation result: fraction invalid [0.006]\n",
      "    72 |    35500 |    500 |  0.000000E+00 |  0.000000E+00 |  0.0059468488 |             f\n"
     ]
    },
    {
     "name": "stderr",
     "output_type": "stream",
     "text": [
      "/home/yazan/Repositories/Personal/mcd-clip/venv/lib/python3.10/site-packages/pymoo/operators/crossover/sbx.py:42: RuntimeWarning: divide by zero encountered in power\n",
      "  alpha = 2.0 - np.power(beta, -(eta + 1.0))\n",
      "/home/yazan/Repositories/Personal/mcd-clip/venv/lib/python3.10/site-packages/pymoo/operators/crossover/sbx.py:47: RuntimeWarning: invalid value encountered in power\n",
      "  betaq[mask] = np.power((rand * alpha), (1.0 / (eta + 1.0)))[mask]\n",
      "/home/yazan/Repositories/Personal/mcd-clip/venv/lib/python3.10/site-packages/pymoo/operators/mutation/pm.py:45: RuntimeWarning: invalid value encountered in power\n",
      "  d = np.power(val, mut_pow) - 1.0\n"
     ]
    },
    {
     "name": "stdout",
     "output_type": "stream",
     "text": [
      "Found framed material columns ['Material=Steel', 'Material=Aluminum', 'Material=Titanium']\n",
      "Mapping Material=Steel to MATERIAL OHCLASS: STEEL\n",
      "Mapping Material=Aluminum to MATERIAL OHCLASS: ALUMINUM\n",
      "Mapping Material=Titanium to MATERIAL OHCLASS: TITANIUM\n",
      "Found framed material columns ['Material=Steel', 'Material=Aluminum', 'Material=Titanium']\n",
      "Mapping Material=Steel to MATERIAL OHCLASS: STEEL\n",
      "Mapping Material=Aluminum to MATERIAL OHCLASS: ALUMINUM\n",
      "Mapping Material=Titanium to MATERIAL OHCLASS: TITANIUM\n"
     ]
    },
    {
     "name": "stderr",
     "output_type": "stream",
     "text": [
      "/home/yazan/Repositories/Personal/mcd-clip/src/mcd_clip/bike_rider_fit/fit_analysis/vectorizedangles.py:158: RuntimeWarning: invalid value encountered in arccos\n",
      "  alpha_1 = np.arccos((x_1 ** 2 - UL_s - x_2 ** 2) / (-2 * UL * x_2))\n",
      "/home/yazan/Repositories/Personal/mcd-clip/src/mcd_clip/bike_rider_fit/fit_analysis/demoanalysis.py:76: RuntimeWarning: invalid value encountered in arccos\n",
      "  Tksp2 = np.arccos(\n",
      "/home/yazan/Repositories/Personal/mcd-clip/src/mcd_clip/bike_rider_fit/fit_analysis/vectorizedangles.py:158: RuntimeWarning: invalid value encountered in arccos\n",
      "  alpha_1 = np.arccos((x_1 ** 2 - UL_s - x_2 ** 2) / (-2 * UL * x_2))\n"
     ]
    },
    {
     "name": "stdout",
     "output_type": "stream",
     "text": [
      "Found framed material columns ['Material=Steel', 'Material=Aluminum', 'Material=Titanium']\n",
      "Mapping Material=Steel to MATERIAL OHCLASS: STEEL\n",
      "Mapping Material=Aluminum to MATERIAL OHCLASS: ALUMINUM\n",
      "Mapping Material=Titanium to MATERIAL OHCLASS: TITANIUM\n",
      "embedding_distance_1 | min 0.6899999976158142, max [1.1799999475479126],  average [0.7200000286102295]\n",
      "embedding_distance_2 | min 0.07999999821186066, max [1.6799999475479126],  average [0.12999999523162842]\n",
      "Validation result: fraction invalid [0.056]\n",
      "Validation result: fraction invalid [0.058]\n",
      "Validation result: fraction invalid [0.074]\n",
      "Validation result: fraction invalid [0.088]\n",
      "Validation result: fraction invalid [0.0]\n",
      "Validation result: fraction invalid [0.006]\n",
      "    73 |    36000 |    500 |  0.000000E+00 |  0.000000E+00 |  0.0063750064 |             f\n"
     ]
    },
    {
     "name": "stderr",
     "output_type": "stream",
     "text": [
      "/home/yazan/Repositories/Personal/mcd-clip/venv/lib/python3.10/site-packages/pymoo/operators/crossover/sbx.py:42: RuntimeWarning: divide by zero encountered in power\n",
      "  alpha = 2.0 - np.power(beta, -(eta + 1.0))\n",
      "/home/yazan/Repositories/Personal/mcd-clip/venv/lib/python3.10/site-packages/pymoo/operators/crossover/sbx.py:47: RuntimeWarning: invalid value encountered in power\n",
      "  betaq[mask] = np.power((rand * alpha), (1.0 / (eta + 1.0)))[mask]\n"
     ]
    },
    {
     "name": "stdout",
     "output_type": "stream",
     "text": [
      "Found framed material columns ['Material=Steel', 'Material=Aluminum', 'Material=Titanium']\n",
      "Mapping Material=Steel to MATERIAL OHCLASS: STEEL\n",
      "Mapping Material=Aluminum to MATERIAL OHCLASS: ALUMINUM\n",
      "Mapping Material=Titanium to MATERIAL OHCLASS: TITANIUM\n",
      "Found framed material columns ['Material=Steel', 'Material=Aluminum', 'Material=Titanium']\n",
      "Mapping Material=Steel to MATERIAL OHCLASS: STEEL\n",
      "Mapping Material=Aluminum to MATERIAL OHCLASS: ALUMINUM\n",
      "Mapping Material=Titanium to MATERIAL OHCLASS: TITANIUM\n",
      "Found framed material columns ['Material=Steel', 'Material=Aluminum', 'Material=Titanium']\n",
      "Mapping Material=Steel to MATERIAL OHCLASS: STEEL\n",
      "Mapping Material=Aluminum to MATERIAL OHCLASS: ALUMINUM\n",
      "Mapping Material=Titanium to MATERIAL OHCLASS: TITANIUM\n"
     ]
    },
    {
     "name": "stderr",
     "output_type": "stream",
     "text": [
      "/home/yazan/Repositories/Personal/mcd-clip/src/mcd_clip/bike_rider_fit/fit_analysis/vectorizedangles.py:158: RuntimeWarning: invalid value encountered in arccos\n",
      "  alpha_1 = np.arccos((x_1 ** 2 - UL_s - x_2 ** 2) / (-2 * UL * x_2))\n",
      "/home/yazan/Repositories/Personal/mcd-clip/src/mcd_clip/bike_rider_fit/fit_analysis/demoanalysis.py:76: RuntimeWarning: invalid value encountered in arccos\n",
      "  Tksp2 = np.arccos(\n",
      "/home/yazan/Repositories/Personal/mcd-clip/src/mcd_clip/bike_rider_fit/fit_analysis/vectorizedangles.py:158: RuntimeWarning: invalid value encountered in arccos\n",
      "  alpha_1 = np.arccos((x_1 ** 2 - UL_s - x_2 ** 2) / (-2 * UL * x_2))\n"
     ]
    },
    {
     "name": "stdout",
     "output_type": "stream",
     "text": [
      "embedding_distance_1 | min 0.6899999976158142, max [1.1699999570846558],  average [0.7200000286102295]\n",
      "embedding_distance_2 | min 0.09000000357627869, max [1.6699999570846558],  average [0.15000000596046448]\n",
      "Validation result: fraction invalid [0.056]\n",
      "Validation result: fraction invalid [0.062]\n",
      "Validation result: fraction invalid [0.088]\n",
      "Validation result: fraction invalid [0.092]\n",
      "Validation result: fraction invalid [0.0]\n",
      "Validation result: fraction invalid [0.004]\n",
      "    74 |    36500 |    500 |  0.000000E+00 |  0.000000E+00 |  0.0052616041 |             f\n"
     ]
    },
    {
     "name": "stderr",
     "output_type": "stream",
     "text": [
      "/home/yazan/Repositories/Personal/mcd-clip/venv/lib/python3.10/site-packages/pymoo/operators/crossover/sbx.py:42: RuntimeWarning: divide by zero encountered in power\n",
      "  alpha = 2.0 - np.power(beta, -(eta + 1.0))\n",
      "/home/yazan/Repositories/Personal/mcd-clip/venv/lib/python3.10/site-packages/pymoo/operators/crossover/sbx.py:47: RuntimeWarning: invalid value encountered in power\n",
      "  betaq[mask] = np.power((rand * alpha), (1.0 / (eta + 1.0)))[mask]\n",
      "/home/yazan/Repositories/Personal/mcd-clip/venv/lib/python3.10/site-packages/pymoo/operators/mutation/pm.py:45: RuntimeWarning: invalid value encountered in power\n",
      "  d = np.power(val, mut_pow) - 1.0\n",
      "/home/yazan/Repositories/Personal/mcd-clip/venv/lib/python3.10/site-packages/pymoo/operators/crossover/sbx.py:42: RuntimeWarning: divide by zero encountered in power\n",
      "  alpha = 2.0 - np.power(beta, -(eta + 1.0))\n",
      "/home/yazan/Repositories/Personal/mcd-clip/venv/lib/python3.10/site-packages/pymoo/operators/crossover/sbx.py:47: RuntimeWarning: invalid value encountered in power\n",
      "  betaq[mask] = np.power((rand * alpha), (1.0 / (eta + 1.0)))[mask]\n"
     ]
    },
    {
     "name": "stdout",
     "output_type": "stream",
     "text": [
      "Found framed material columns ['Material=Steel', 'Material=Aluminum', 'Material=Titanium']\n",
      "Mapping Material=Steel to MATERIAL OHCLASS: STEEL\n",
      "Mapping Material=Aluminum to MATERIAL OHCLASS: ALUMINUM\n",
      "Mapping Material=Titanium to MATERIAL OHCLASS: TITANIUM\n",
      "Found framed material columns ['Material=Steel', 'Material=Aluminum', 'Material=Titanium']\n",
      "Mapping Material=Steel to MATERIAL OHCLASS: STEEL\n",
      "Mapping Material=Aluminum to MATERIAL OHCLASS: ALUMINUM\n",
      "Mapping Material=Titanium to MATERIAL OHCLASS: TITANIUM\n",
      "Found framed material columns ['Material=Steel', 'Material=Aluminum', 'Material=Titanium']\n",
      "Mapping Material=Steel to MATERIAL OHCLASS: STEEL\n",
      "Mapping Material=Aluminum to MATERIAL OHCLASS: ALUMINUM\n",
      "Mapping Material=Titanium to MATERIAL OHCLASS: TITANIUM\n",
      "embedding_distance_1 | min 0.7099999785423279, max [0.8199999928474426],  average [0.7400000095367432]\n",
      "embedding_distance_2 | min 0.10999999940395355, max [0.3799999952316284],  average [0.15000000596046448]\n"
     ]
    },
    {
     "name": "stderr",
     "output_type": "stream",
     "text": [
      "/home/yazan/Repositories/Personal/mcd-clip/src/mcd_clip/bike_rider_fit/fit_analysis/vectorizedangles.py:158: RuntimeWarning: invalid value encountered in arccos\n",
      "  alpha_1 = np.arccos((x_1 ** 2 - UL_s - x_2 ** 2) / (-2 * UL * x_2))\n",
      "/home/yazan/Repositories/Personal/mcd-clip/src/mcd_clip/bike_rider_fit/fit_analysis/demoanalysis.py:76: RuntimeWarning: invalid value encountered in arccos\n",
      "  Tksp2 = np.arccos(\n",
      "/home/yazan/Repositories/Personal/mcd-clip/src/mcd_clip/bike_rider_fit/fit_analysis/vectorizedangles.py:158: RuntimeWarning: invalid value encountered in arccos\n",
      "  alpha_1 = np.arccos((x_1 ** 2 - UL_s - x_2 ** 2) / (-2 * UL * x_2))\n"
     ]
    },
    {
     "name": "stdout",
     "output_type": "stream",
     "text": [
      "Validation result: fraction invalid [0.026]\n",
      "Validation result: fraction invalid [0.038]\n",
      "Validation result: fraction invalid [0.036]\n",
      "Validation result: fraction invalid [0.042]\n",
      "Validation result: fraction invalid [0.0]\n",
      "Validation result: fraction invalid [0.0]\n",
      "    75 |    37000 |    500 |  0.000000E+00 |  0.000000E+00 |  0.0006598816 |             f\n"
     ]
    },
    {
     "name": "stderr",
     "output_type": "stream",
     "text": [
      "/home/yazan/Repositories/Personal/mcd-clip/venv/lib/python3.10/site-packages/pymoo/operators/crossover/sbx.py:42: RuntimeWarning: divide by zero encountered in power\n",
      "  alpha = 2.0 - np.power(beta, -(eta + 1.0))\n",
      "/home/yazan/Repositories/Personal/mcd-clip/venv/lib/python3.10/site-packages/pymoo/operators/crossover/sbx.py:47: RuntimeWarning: invalid value encountered in power\n",
      "  betaq[mask] = np.power((rand * alpha), (1.0 / (eta + 1.0)))[mask]\n"
     ]
    },
    {
     "name": "stdout",
     "output_type": "stream",
     "text": [
      "Found framed material columns ['Material=Steel', 'Material=Aluminum', 'Material=Titanium']\n",
      "Mapping Material=Steel to MATERIAL OHCLASS: STEEL\n",
      "Mapping Material=Aluminum to MATERIAL OHCLASS: ALUMINUM\n",
      "Mapping Material=Titanium to MATERIAL OHCLASS: TITANIUM\n",
      "Found framed material columns ['Material=Steel', 'Material=Aluminum', 'Material=Titanium']\n",
      "Mapping Material=Steel to MATERIAL OHCLASS: STEEL\n",
      "Mapping Material=Aluminum to MATERIAL OHCLASS: ALUMINUM\n",
      "Mapping Material=Titanium to MATERIAL OHCLASS: TITANIUM\n",
      "Found framed material columns ['Material=Steel', 'Material=Aluminum', 'Material=Titanium']\n",
      "Mapping Material=Steel to MATERIAL OHCLASS: STEEL\n",
      "Mapping Material=Aluminum to MATERIAL OHCLASS: ALUMINUM\n",
      "Mapping Material=Titanium to MATERIAL OHCLASS: TITANIUM\n"
     ]
    },
    {
     "name": "stderr",
     "output_type": "stream",
     "text": [
      "/home/yazan/Repositories/Personal/mcd-clip/src/mcd_clip/bike_rider_fit/fit_analysis/vectorizedangles.py:158: RuntimeWarning: invalid value encountered in arccos\n",
      "  alpha_1 = np.arccos((x_1 ** 2 - UL_s - x_2 ** 2) / (-2 * UL * x_2))\n",
      "/home/yazan/Repositories/Personal/mcd-clip/src/mcd_clip/bike_rider_fit/fit_analysis/demoanalysis.py:76: RuntimeWarning: invalid value encountered in arccos\n",
      "  Tksp2 = np.arccos(\n",
      "/home/yazan/Repositories/Personal/mcd-clip/src/mcd_clip/bike_rider_fit/fit_analysis/vectorizedangles.py:158: RuntimeWarning: invalid value encountered in arccos\n",
      "  alpha_1 = np.arccos((x_1 ** 2 - UL_s - x_2 ** 2) / (-2 * UL * x_2))\n"
     ]
    },
    {
     "name": "stdout",
     "output_type": "stream",
     "text": [
      "embedding_distance_1 | min 0.6899999976158142, max [1.1799999475479126],  average [0.7200000286102295]\n",
      "embedding_distance_2 | min 0.09000000357627869, max [1.6699999570846558],  average [0.14000000059604645]\n",
      "Validation result: fraction invalid [0.084]\n",
      "Validation result: fraction invalid [0.09]\n",
      "Validation result: fraction invalid [0.084]\n",
      "Validation result: fraction invalid [0.094]\n",
      "Validation result: fraction invalid [0.0]\n",
      "Validation result: fraction invalid [0.002]\n",
      "    76 |    37500 |    500 |  0.000000E+00 |  0.000000E+00 |  0.0076635490 |             f\n"
     ]
    },
    {
     "name": "stderr",
     "output_type": "stream",
     "text": [
      "/home/yazan/Repositories/Personal/mcd-clip/venv/lib/python3.10/site-packages/pymoo/operators/crossover/sbx.py:42: RuntimeWarning: divide by zero encountered in power\n",
      "  alpha = 2.0 - np.power(beta, -(eta + 1.0))\n",
      "/home/yazan/Repositories/Personal/mcd-clip/venv/lib/python3.10/site-packages/pymoo/operators/crossover/sbx.py:47: RuntimeWarning: invalid value encountered in power\n",
      "  betaq[mask] = np.power((rand * alpha), (1.0 / (eta + 1.0)))[mask]\n"
     ]
    },
    {
     "name": "stdout",
     "output_type": "stream",
     "text": [
      "Found framed material columns ['Material=Steel', 'Material=Aluminum', 'Material=Titanium']\n",
      "Mapping Material=Steel to MATERIAL OHCLASS: STEEL\n",
      "Mapping Material=Aluminum to MATERIAL OHCLASS: ALUMINUM\n",
      "Mapping Material=Titanium to MATERIAL OHCLASS: TITANIUM\n",
      "Found framed material columns ['Material=Steel', 'Material=Aluminum', 'Material=Titanium']\n",
      "Mapping Material=Steel to MATERIAL OHCLASS: STEEL\n",
      "Mapping Material=Aluminum to MATERIAL OHCLASS: ALUMINUM\n",
      "Mapping Material=Titanium to MATERIAL OHCLASS: TITANIUM\n",
      "Found framed material columns ['Material=Steel', 'Material=Aluminum', 'Material=Titanium']\n",
      "Mapping Material=Steel to MATERIAL OHCLASS: STEEL\n",
      "Mapping Material=Aluminum to MATERIAL OHCLASS: ALUMINUM\n",
      "Mapping Material=Titanium to MATERIAL OHCLASS: TITANIUM\n"
     ]
    },
    {
     "name": "stderr",
     "output_type": "stream",
     "text": [
      "/home/yazan/Repositories/Personal/mcd-clip/src/mcd_clip/bike_rider_fit/fit_analysis/vectorizedangles.py:158: RuntimeWarning: invalid value encountered in arccos\n",
      "  alpha_1 = np.arccos((x_1 ** 2 - UL_s - x_2 ** 2) / (-2 * UL * x_2))\n",
      "/home/yazan/Repositories/Personal/mcd-clip/src/mcd_clip/bike_rider_fit/fit_analysis/demoanalysis.py:76: RuntimeWarning: invalid value encountered in arccos\n",
      "  Tksp2 = np.arccos(\n",
      "/home/yazan/Repositories/Personal/mcd-clip/src/mcd_clip/bike_rider_fit/fit_analysis/vectorizedangles.py:158: RuntimeWarning: invalid value encountered in arccos\n",
      "  alpha_1 = np.arccos((x_1 ** 2 - UL_s - x_2 ** 2) / (-2 * UL * x_2))\n"
     ]
    },
    {
     "name": "stdout",
     "output_type": "stream",
     "text": [
      "embedding_distance_1 | min 0.6899999976158142, max [1.1799999475479126],  average [0.7200000286102295]\n",
      "embedding_distance_2 | min 0.07999999821186066, max [1.6699999570846558],  average [0.14000000059604645]\n",
      "Validation result: fraction invalid [0.064]\n",
      "Validation result: fraction invalid [0.07]\n",
      "Validation result: fraction invalid [0.092]\n",
      "Validation result: fraction invalid [0.096]\n",
      "Validation result: fraction invalid [0.0]\n",
      "Validation result: fraction invalid [0.004]\n",
      "    77 |    38000 |    500 |  0.000000E+00 |  0.000000E+00 |  0.0225906748 |         ideal\n"
     ]
    },
    {
     "name": "stderr",
     "output_type": "stream",
     "text": [
      "/home/yazan/Repositories/Personal/mcd-clip/venv/lib/python3.10/site-packages/pymoo/operators/crossover/sbx.py:42: RuntimeWarning: divide by zero encountered in power\n",
      "  alpha = 2.0 - np.power(beta, -(eta + 1.0))\n",
      "/home/yazan/Repositories/Personal/mcd-clip/venv/lib/python3.10/site-packages/pymoo/operators/crossover/sbx.py:47: RuntimeWarning: invalid value encountered in power\n",
      "  betaq[mask] = np.power((rand * alpha), (1.0 / (eta + 1.0)))[mask]\n"
     ]
    },
    {
     "name": "stdout",
     "output_type": "stream",
     "text": [
      "Found framed material columns ['Material=Steel', 'Material=Aluminum', 'Material=Titanium']\n",
      "Mapping Material=Steel to MATERIAL OHCLASS: STEEL\n",
      "Mapping Material=Aluminum to MATERIAL OHCLASS: ALUMINUM\n",
      "Mapping Material=Titanium to MATERIAL OHCLASS: TITANIUM\n",
      "Found framed material columns ['Material=Steel', 'Material=Aluminum', 'Material=Titanium']\n",
      "Mapping Material=Steel to MATERIAL OHCLASS: STEEL\n",
      "Mapping Material=Aluminum to MATERIAL OHCLASS: ALUMINUM\n",
      "Mapping Material=Titanium to MATERIAL OHCLASS: TITANIUM\n",
      "Found framed material columns ['Material=Steel', 'Material=Aluminum', 'Material=Titanium']\n",
      "Mapping Material=Steel to MATERIAL OHCLASS: STEEL\n",
      "Mapping Material=Aluminum to MATERIAL OHCLASS: ALUMINUM\n",
      "Mapping Material=Titanium to MATERIAL OHCLASS: TITANIUM\n"
     ]
    },
    {
     "name": "stderr",
     "output_type": "stream",
     "text": [
      "/home/yazan/Repositories/Personal/mcd-clip/src/mcd_clip/bike_rider_fit/fit_analysis/vectorizedangles.py:158: RuntimeWarning: invalid value encountered in arccos\n",
      "  alpha_1 = np.arccos((x_1 ** 2 - UL_s - x_2 ** 2) / (-2 * UL * x_2))\n",
      "/home/yazan/Repositories/Personal/mcd-clip/src/mcd_clip/bike_rider_fit/fit_analysis/demoanalysis.py:76: RuntimeWarning: invalid value encountered in arccos\n",
      "  Tksp2 = np.arccos(\n",
      "/home/yazan/Repositories/Personal/mcd-clip/src/mcd_clip/bike_rider_fit/fit_analysis/vectorizedangles.py:158: RuntimeWarning: invalid value encountered in arccos\n",
      "  alpha_1 = np.arccos((x_1 ** 2 - UL_s - x_2 ** 2) / (-2 * UL * x_2))\n"
     ]
    },
    {
     "name": "stdout",
     "output_type": "stream",
     "text": [
      "embedding_distance_1 | min 0.7099999785423279, max [1.1799999475479126],  average [0.7400000095367432]\n",
      "embedding_distance_2 | min 0.10999999940395355, max [1.6799999475479126],  average [0.1599999964237213]\n",
      "Validation result: fraction invalid [0.048]\n",
      "Validation result: fraction invalid [0.066]\n",
      "Validation result: fraction invalid [0.074]\n",
      "Validation result: fraction invalid [0.06]\n",
      "Validation result: fraction invalid [0.0]\n",
      "Validation result: fraction invalid [0.004]\n",
      "    78 |    38500 |    500 |  0.000000E+00 |  0.000000E+00 |  0.0011319507 |             f\n"
     ]
    },
    {
     "name": "stderr",
     "output_type": "stream",
     "text": [
      "/home/yazan/Repositories/Personal/mcd-clip/venv/lib/python3.10/site-packages/pymoo/operators/crossover/sbx.py:42: RuntimeWarning: divide by zero encountered in power\n",
      "  alpha = 2.0 - np.power(beta, -(eta + 1.0))\n",
      "/home/yazan/Repositories/Personal/mcd-clip/venv/lib/python3.10/site-packages/pymoo/operators/crossover/sbx.py:47: RuntimeWarning: invalid value encountered in power\n",
      "  betaq[mask] = np.power((rand * alpha), (1.0 / (eta + 1.0)))[mask]\n",
      "/home/yazan/Repositories/Personal/mcd-clip/venv/lib/python3.10/site-packages/pymoo/operators/mutation/pm.py:45: RuntimeWarning: invalid value encountered in power\n",
      "  d = np.power(val, mut_pow) - 1.0\n"
     ]
    },
    {
     "name": "stdout",
     "output_type": "stream",
     "text": [
      "Found framed material columns ['Material=Steel', 'Material=Aluminum', 'Material=Titanium']\n",
      "Mapping Material=Steel to MATERIAL OHCLASS: STEEL\n",
      "Mapping Material=Aluminum to MATERIAL OHCLASS: ALUMINUM\n",
      "Mapping Material=Titanium to MATERIAL OHCLASS: TITANIUM\n",
      "Found framed material columns ['Material=Steel', 'Material=Aluminum', 'Material=Titanium']\n",
      "Mapping Material=Steel to MATERIAL OHCLASS: STEEL\n",
      "Mapping Material=Aluminum to MATERIAL OHCLASS: ALUMINUM\n",
      "Mapping Material=Titanium to MATERIAL OHCLASS: TITANIUM\n",
      "Found framed material columns ['Material=Steel', 'Material=Aluminum', 'Material=Titanium']\n",
      "Mapping Material=Steel to MATERIAL OHCLASS: STEEL\n",
      "Mapping Material=Aluminum to MATERIAL OHCLASS: ALUMINUM\n",
      "Mapping Material=Titanium to MATERIAL OHCLASS: TITANIUM\n"
     ]
    },
    {
     "name": "stderr",
     "output_type": "stream",
     "text": [
      "/home/yazan/Repositories/Personal/mcd-clip/src/mcd_clip/bike_rider_fit/fit_analysis/vectorizedangles.py:158: RuntimeWarning: invalid value encountered in arccos\n",
      "  alpha_1 = np.arccos((x_1 ** 2 - UL_s - x_2 ** 2) / (-2 * UL * x_2))\n",
      "/home/yazan/Repositories/Personal/mcd-clip/src/mcd_clip/bike_rider_fit/fit_analysis/demoanalysis.py:76: RuntimeWarning: invalid value encountered in arccos\n",
      "  Tksp2 = np.arccos(\n",
      "/home/yazan/Repositories/Personal/mcd-clip/src/mcd_clip/bike_rider_fit/fit_analysis/vectorizedangles.py:158: RuntimeWarning: invalid value encountered in arccos\n",
      "  alpha_1 = np.arccos((x_1 ** 2 - UL_s - x_2 ** 2) / (-2 * UL * x_2))\n"
     ]
    },
    {
     "name": "stdout",
     "output_type": "stream",
     "text": [
      "embedding_distance_1 | min 0.6899999976158142, max [1.1799999475479126],  average [0.7200000286102295]\n",
      "embedding_distance_2 | min 0.07999999821186066, max [1.690000057220459],  average [0.14000000059604645]\n",
      "Validation result: fraction invalid [0.072]\n",
      "Validation result: fraction invalid [0.066]\n",
      "Validation result: fraction invalid [0.068]\n",
      "Validation result: fraction invalid [0.092]\n",
      "Validation result: fraction invalid [0.0]\n",
      "Validation result: fraction invalid [0.002]\n",
      "    79 |    39000 |    500 |  0.000000E+00 |  0.000000E+00 |  0.0087673003 |             f\n"
     ]
    },
    {
     "name": "stderr",
     "output_type": "stream",
     "text": [
      "/home/yazan/Repositories/Personal/mcd-clip/venv/lib/python3.10/site-packages/pymoo/operators/crossover/sbx.py:42: RuntimeWarning: divide by zero encountered in power\n",
      "  alpha = 2.0 - np.power(beta, -(eta + 1.0))\n",
      "/home/yazan/Repositories/Personal/mcd-clip/venv/lib/python3.10/site-packages/pymoo/operators/crossover/sbx.py:47: RuntimeWarning: invalid value encountered in power\n",
      "  betaq[mask] = np.power((rand * alpha), (1.0 / (eta + 1.0)))[mask]\n"
     ]
    },
    {
     "name": "stdout",
     "output_type": "stream",
     "text": [
      "Found framed material columns ['Material=Steel', 'Material=Aluminum', 'Material=Titanium']\n",
      "Mapping Material=Steel to MATERIAL OHCLASS: STEEL\n",
      "Mapping Material=Aluminum to MATERIAL OHCLASS: ALUMINUM\n",
      "Mapping Material=Titanium to MATERIAL OHCLASS: TITANIUM\n",
      "Found framed material columns ['Material=Steel', 'Material=Aluminum', 'Material=Titanium']\n",
      "Mapping Material=Steel to MATERIAL OHCLASS: STEEL\n",
      "Mapping Material=Aluminum to MATERIAL OHCLASS: ALUMINUM\n",
      "Mapping Material=Titanium to MATERIAL OHCLASS: TITANIUM\n"
     ]
    },
    {
     "name": "stderr",
     "output_type": "stream",
     "text": [
      "/home/yazan/Repositories/Personal/mcd-clip/src/mcd_clip/bike_rider_fit/fit_analysis/vectorizedangles.py:158: RuntimeWarning: invalid value encountered in arccos\n",
      "  alpha_1 = np.arccos((x_1 ** 2 - UL_s - x_2 ** 2) / (-2 * UL * x_2))\n",
      "/home/yazan/Repositories/Personal/mcd-clip/src/mcd_clip/bike_rider_fit/fit_analysis/demoanalysis.py:76: RuntimeWarning: invalid value encountered in arccos\n",
      "  Tksp2 = np.arccos(\n",
      "/home/yazan/Repositories/Personal/mcd-clip/src/mcd_clip/bike_rider_fit/fit_analysis/vectorizedangles.py:158: RuntimeWarning: invalid value encountered in arccos\n",
      "  alpha_1 = np.arccos((x_1 ** 2 - UL_s - x_2 ** 2) / (-2 * UL * x_2))\n"
     ]
    },
    {
     "name": "stdout",
     "output_type": "stream",
     "text": [
      "Found framed material columns ['Material=Steel', 'Material=Aluminum', 'Material=Titanium']\n",
      "Mapping Material=Steel to MATERIAL OHCLASS: STEEL\n",
      "Mapping Material=Aluminum to MATERIAL OHCLASS: ALUMINUM\n",
      "Mapping Material=Titanium to MATERIAL OHCLASS: TITANIUM\n",
      "embedding_distance_1 | min 0.6899999976158142, max [1.1799999475479126],  average [0.7200000286102295]\n",
      "embedding_distance_2 | min 0.07999999821186066, max [1.6799999475479126],  average [0.14000000059604645]\n",
      "Validation result: fraction invalid [0.078]\n",
      "Validation result: fraction invalid [0.062]\n",
      "Validation result: fraction invalid [0.074]\n",
      "Validation result: fraction invalid [0.07]\n",
      "Validation result: fraction invalid [0.0]\n",
      "Validation result: fraction invalid [0.0]\n",
      "    80 |    39500 |    500 |  0.000000E+00 |  0.000000E+00 |  0.0071158153 |             f\n"
     ]
    },
    {
     "name": "stderr",
     "output_type": "stream",
     "text": [
      "/home/yazan/Repositories/Personal/mcd-clip/venv/lib/python3.10/site-packages/pymoo/operators/crossover/sbx.py:42: RuntimeWarning: divide by zero encountered in power\n",
      "  alpha = 2.0 - np.power(beta, -(eta + 1.0))\n",
      "/home/yazan/Repositories/Personal/mcd-clip/venv/lib/python3.10/site-packages/pymoo/operators/crossover/sbx.py:47: RuntimeWarning: invalid value encountered in power\n",
      "  betaq[mask] = np.power((rand * alpha), (1.0 / (eta + 1.0)))[mask]\n"
     ]
    },
    {
     "name": "stdout",
     "output_type": "stream",
     "text": [
      "Found framed material columns ['Material=Steel', 'Material=Aluminum', 'Material=Titanium']\n",
      "Mapping Material=Steel to MATERIAL OHCLASS: STEEL\n",
      "Mapping Material=Aluminum to MATERIAL OHCLASS: ALUMINUM\n",
      "Mapping Material=Titanium to MATERIAL OHCLASS: TITANIUM\n",
      "Found framed material columns ['Material=Steel', 'Material=Aluminum', 'Material=Titanium']\n",
      "Mapping Material=Steel to MATERIAL OHCLASS: STEEL\n",
      "Mapping Material=Aluminum to MATERIAL OHCLASS: ALUMINUM\n",
      "Mapping Material=Titanium to MATERIAL OHCLASS: TITANIUM\n",
      "Found framed material columns ['Material=Steel', 'Material=Aluminum', 'Material=Titanium']\n",
      "Mapping Material=Steel to MATERIAL OHCLASS: STEEL\n",
      "Mapping Material=Aluminum to MATERIAL OHCLASS: ALUMINUM\n",
      "Mapping Material=Titanium to MATERIAL OHCLASS: TITANIUM\n"
     ]
    },
    {
     "name": "stderr",
     "output_type": "stream",
     "text": [
      "/home/yazan/Repositories/Personal/mcd-clip/src/mcd_clip/bike_rider_fit/fit_analysis/vectorizedangles.py:158: RuntimeWarning: invalid value encountered in arccos\n",
      "  alpha_1 = np.arccos((x_1 ** 2 - UL_s - x_2 ** 2) / (-2 * UL * x_2))\n",
      "/home/yazan/Repositories/Personal/mcd-clip/src/mcd_clip/bike_rider_fit/fit_analysis/demoanalysis.py:76: RuntimeWarning: invalid value encountered in arccos\n",
      "  Tksp2 = np.arccos(\n",
      "/home/yazan/Repositories/Personal/mcd-clip/src/mcd_clip/bike_rider_fit/fit_analysis/vectorizedangles.py:158: RuntimeWarning: invalid value encountered in arccos\n",
      "  alpha_1 = np.arccos((x_1 ** 2 - UL_s - x_2 ** 2) / (-2 * UL * x_2))\n"
     ]
    },
    {
     "name": "stdout",
     "output_type": "stream",
     "text": [
      "embedding_distance_1 | min 0.6899999976158142, max [1.1799999475479126],  average [0.7200000286102295]\n",
      "embedding_distance_2 | min 0.07999999821186066, max [1.6799999475479126],  average [0.15000000596046448]\n",
      "Validation result: fraction invalid [0.09]\n",
      "Validation result: fraction invalid [0.096]\n",
      "Validation result: fraction invalid [0.098]\n",
      "Validation result: fraction invalid [0.08]\n",
      "Validation result: fraction invalid [0.0]\n",
      "Validation result: fraction invalid [0.008]\n",
      "    81 |    40000 |    500 |  0.000000E+00 |  0.000000E+00 |  0.0483870968 |         nadir\n"
     ]
    },
    {
     "name": "stderr",
     "output_type": "stream",
     "text": [
      "/home/yazan/Repositories/Personal/mcd-clip/venv/lib/python3.10/site-packages/pymoo/operators/crossover/sbx.py:42: RuntimeWarning: divide by zero encountered in power\n",
      "  alpha = 2.0 - np.power(beta, -(eta + 1.0))\n",
      "/home/yazan/Repositories/Personal/mcd-clip/venv/lib/python3.10/site-packages/pymoo/operators/crossover/sbx.py:47: RuntimeWarning: invalid value encountered in power\n",
      "  betaq[mask] = np.power((rand * alpha), (1.0 / (eta + 1.0)))[mask]\n"
     ]
    },
    {
     "name": "stdout",
     "output_type": "stream",
     "text": [
      "Found framed material columns ['Material=Steel', 'Material=Aluminum', 'Material=Titanium']\n",
      "Mapping Material=Steel to MATERIAL OHCLASS: STEEL\n",
      "Mapping Material=Aluminum to MATERIAL OHCLASS: ALUMINUM\n",
      "Mapping Material=Titanium to MATERIAL OHCLASS: TITANIUM\n",
      "Found framed material columns ['Material=Steel', 'Material=Aluminum', 'Material=Titanium']\n",
      "Mapping Material=Steel to MATERIAL OHCLASS: STEEL\n",
      "Mapping Material=Aluminum to MATERIAL OHCLASS: ALUMINUM\n",
      "Mapping Material=Titanium to MATERIAL OHCLASS: TITANIUM\n",
      "Found framed material columns ['Material=Steel', 'Material=Aluminum', 'Material=Titanium']\n",
      "Mapping Material=Steel to MATERIAL OHCLASS: STEEL\n",
      "Mapping Material=Aluminum to MATERIAL OHCLASS: ALUMINUM\n",
      "Mapping Material=Titanium to MATERIAL OHCLASS: TITANIUM\n"
     ]
    },
    {
     "name": "stderr",
     "output_type": "stream",
     "text": [
      "/home/yazan/Repositories/Personal/mcd-clip/src/mcd_clip/bike_rider_fit/fit_analysis/vectorizedangles.py:158: RuntimeWarning: invalid value encountered in arccos\n",
      "  alpha_1 = np.arccos((x_1 ** 2 - UL_s - x_2 ** 2) / (-2 * UL * x_2))\n",
      "/home/yazan/Repositories/Personal/mcd-clip/src/mcd_clip/bike_rider_fit/fit_analysis/demoanalysis.py:76: RuntimeWarning: invalid value encountered in arccos\n",
      "  Tksp2 = np.arccos(\n",
      "/home/yazan/Repositories/Personal/mcd-clip/src/mcd_clip/bike_rider_fit/fit_analysis/vectorizedangles.py:158: RuntimeWarning: invalid value encountered in arccos\n",
      "  alpha_1 = np.arccos((x_1 ** 2 - UL_s - x_2 ** 2) / (-2 * UL * x_2))\n"
     ]
    },
    {
     "name": "stdout",
     "output_type": "stream",
     "text": [
      "embedding_distance_1 | min 0.6899999976158142, max [1.1799999475479126],  average [0.7200000286102295]\n",
      "embedding_distance_2 | min 0.07999999821186066, max [1.6799999475479126],  average [0.12999999523162842]\n",
      "Validation result: fraction invalid [0.068]\n",
      "Validation result: fraction invalid [0.068]\n",
      "Validation result: fraction invalid [0.086]\n",
      "Validation result: fraction invalid [0.078]\n",
      "Validation result: fraction invalid [0.0]\n",
      "Validation result: fraction invalid [0.002]\n",
      "    82 |    40500 |    500 |  0.000000E+00 |  0.000000E+00 |  0.0200779034 |         nadir\n"
     ]
    },
    {
     "name": "stderr",
     "output_type": "stream",
     "text": [
      "/home/yazan/Repositories/Personal/mcd-clip/venv/lib/python3.10/site-packages/pymoo/operators/crossover/sbx.py:42: RuntimeWarning: divide by zero encountered in power\n",
      "  alpha = 2.0 - np.power(beta, -(eta + 1.0))\n",
      "/home/yazan/Repositories/Personal/mcd-clip/venv/lib/python3.10/site-packages/pymoo/operators/crossover/sbx.py:47: RuntimeWarning: invalid value encountered in power\n",
      "  betaq[mask] = np.power((rand * alpha), (1.0 / (eta + 1.0)))[mask]\n"
     ]
    },
    {
     "name": "stdout",
     "output_type": "stream",
     "text": [
      "Found framed material columns ['Material=Steel', 'Material=Aluminum', 'Material=Titanium']\n",
      "Mapping Material=Steel to MATERIAL OHCLASS: STEEL\n",
      "Mapping Material=Aluminum to MATERIAL OHCLASS: ALUMINUM\n",
      "Mapping Material=Titanium to MATERIAL OHCLASS: TITANIUM\n",
      "Found framed material columns ['Material=Steel', 'Material=Aluminum', 'Material=Titanium']\n",
      "Mapping Material=Steel to MATERIAL OHCLASS: STEEL\n",
      "Mapping Material=Aluminum to MATERIAL OHCLASS: ALUMINUM\n",
      "Mapping Material=Titanium to MATERIAL OHCLASS: TITANIUM\n",
      "Found framed material columns ['Material=Steel', 'Material=Aluminum', 'Material=Titanium']\n",
      "Mapping Material=Steel to MATERIAL OHCLASS: STEEL\n",
      "Mapping Material=Aluminum to MATERIAL OHCLASS: ALUMINUM\n",
      "Mapping Material=Titanium to MATERIAL OHCLASS: TITANIUM\n"
     ]
    },
    {
     "name": "stderr",
     "output_type": "stream",
     "text": [
      "/home/yazan/Repositories/Personal/mcd-clip/src/mcd_clip/bike_rider_fit/fit_analysis/vectorizedangles.py:158: RuntimeWarning: invalid value encountered in arccos\n",
      "  alpha_1 = np.arccos((x_1 ** 2 - UL_s - x_2 ** 2) / (-2 * UL * x_2))\n",
      "/home/yazan/Repositories/Personal/mcd-clip/src/mcd_clip/bike_rider_fit/fit_analysis/demoanalysis.py:76: RuntimeWarning: invalid value encountered in arccos\n",
      "  Tksp2 = np.arccos(\n",
      "/home/yazan/Repositories/Personal/mcd-clip/src/mcd_clip/bike_rider_fit/fit_analysis/vectorizedangles.py:158: RuntimeWarning: invalid value encountered in arccos\n",
      "  alpha_1 = np.arccos((x_1 ** 2 - UL_s - x_2 ** 2) / (-2 * UL * x_2))\n"
     ]
    },
    {
     "name": "stdout",
     "output_type": "stream",
     "text": [
      "embedding_distance_1 | min 0.699999988079071, max [1.1799999475479126],  average [0.7400000095367432]\n",
      "embedding_distance_2 | min 0.10000000149011612, max [1.6799999475479126],  average [0.18000000715255737]\n",
      "Validation result: fraction invalid [0.084]\n",
      "Validation result: fraction invalid [0.064]\n",
      "Validation result: fraction invalid [0.12]\n",
      "Validation result: fraction invalid [0.096]\n",
      "Validation result: fraction invalid [0.0]\n",
      "Validation result: fraction invalid [0.0]\n",
      "    83 |    41000 |    500 |  0.000000E+00 |  0.000000E+00 |  0.0014448440 |             f\n"
     ]
    },
    {
     "name": "stderr",
     "output_type": "stream",
     "text": [
      "/home/yazan/Repositories/Personal/mcd-clip/venv/lib/python3.10/site-packages/pymoo/operators/crossover/sbx.py:42: RuntimeWarning: divide by zero encountered in power\n",
      "  alpha = 2.0 - np.power(beta, -(eta + 1.0))\n",
      "/home/yazan/Repositories/Personal/mcd-clip/venv/lib/python3.10/site-packages/pymoo/operators/crossover/sbx.py:47: RuntimeWarning: invalid value encountered in power\n",
      "  betaq[mask] = np.power((rand * alpha), (1.0 / (eta + 1.0)))[mask]\n"
     ]
    },
    {
     "name": "stdout",
     "output_type": "stream",
     "text": [
      "Found framed material columns ['Material=Steel', 'Material=Aluminum', 'Material=Titanium']\n",
      "Mapping Material=Steel to MATERIAL OHCLASS: STEEL\n",
      "Mapping Material=Aluminum to MATERIAL OHCLASS: ALUMINUM\n",
      "Mapping Material=Titanium to MATERIAL OHCLASS: TITANIUM\n",
      "Found framed material columns ['Material=Steel', 'Material=Aluminum', 'Material=Titanium']\n",
      "Mapping Material=Steel to MATERIAL OHCLASS: STEEL\n",
      "Mapping Material=Aluminum to MATERIAL OHCLASS: ALUMINUM\n",
      "Mapping Material=Titanium to MATERIAL OHCLASS: TITANIUM\n",
      "Found framed material columns ['Material=Steel', 'Material=Aluminum', 'Material=Titanium']\n",
      "Mapping Material=Steel to MATERIAL OHCLASS: STEEL\n",
      "Mapping Material=Aluminum to MATERIAL OHCLASS: ALUMINUM\n",
      "Mapping Material=Titanium to MATERIAL OHCLASS: TITANIUM\n"
     ]
    },
    {
     "name": "stderr",
     "output_type": "stream",
     "text": [
      "/home/yazan/Repositories/Personal/mcd-clip/src/mcd_clip/bike_rider_fit/fit_analysis/vectorizedangles.py:158: RuntimeWarning: invalid value encountered in arccos\n",
      "  alpha_1 = np.arccos((x_1 ** 2 - UL_s - x_2 ** 2) / (-2 * UL * x_2))\n",
      "/home/yazan/Repositories/Personal/mcd-clip/src/mcd_clip/bike_rider_fit/fit_analysis/demoanalysis.py:76: RuntimeWarning: invalid value encountered in arccos\n",
      "  Tksp2 = np.arccos(\n",
      "/home/yazan/Repositories/Personal/mcd-clip/src/mcd_clip/bike_rider_fit/fit_analysis/vectorizedangles.py:158: RuntimeWarning: invalid value encountered in arccos\n",
      "  alpha_1 = np.arccos((x_1 ** 2 - UL_s - x_2 ** 2) / (-2 * UL * x_2))\n"
     ]
    },
    {
     "name": "stdout",
     "output_type": "stream",
     "text": [
      "embedding_distance_1 | min 0.6899999976158142, max [1.1799999475479126],  average [0.7200000286102295]\n",
      "embedding_distance_2 | min 0.07999999821186066, max [1.6699999570846558],  average [0.14000000059604645]\n",
      "Validation result: fraction invalid [0.09]\n",
      "Validation result: fraction invalid [0.096]\n",
      "Validation result: fraction invalid [0.09]\n",
      "Validation result: fraction invalid [0.068]\n",
      "Validation result: fraction invalid [0.0]\n",
      "Validation result: fraction invalid [0.0]\n",
      "    84 |    41500 |    500 |  0.000000E+00 |  0.000000E+00 |  0.0439918019 |         nadir\n"
     ]
    },
    {
     "name": "stderr",
     "output_type": "stream",
     "text": [
      "/home/yazan/Repositories/Personal/mcd-clip/venv/lib/python3.10/site-packages/pymoo/operators/crossover/sbx.py:42: RuntimeWarning: divide by zero encountered in power\n",
      "  alpha = 2.0 - np.power(beta, -(eta + 1.0))\n",
      "/home/yazan/Repositories/Personal/mcd-clip/venv/lib/python3.10/site-packages/pymoo/operators/crossover/sbx.py:47: RuntimeWarning: invalid value encountered in power\n",
      "  betaq[mask] = np.power((rand * alpha), (1.0 / (eta + 1.0)))[mask]\n"
     ]
    },
    {
     "name": "stdout",
     "output_type": "stream",
     "text": [
      "Found framed material columns ['Material=Steel', 'Material=Aluminum', 'Material=Titanium']\n",
      "Mapping Material=Steel to MATERIAL OHCLASS: STEEL\n",
      "Mapping Material=Aluminum to MATERIAL OHCLASS: ALUMINUM\n",
      "Mapping Material=Titanium to MATERIAL OHCLASS: TITANIUM\n",
      "Found framed material columns ['Material=Steel', 'Material=Aluminum', 'Material=Titanium']\n",
      "Mapping Material=Steel to MATERIAL OHCLASS: STEEL\n",
      "Mapping Material=Aluminum to MATERIAL OHCLASS: ALUMINUM\n",
      "Mapping Material=Titanium to MATERIAL OHCLASS: TITANIUM\n",
      "Found framed material columns ['Material=Steel', 'Material=Aluminum', 'Material=Titanium']\n",
      "Mapping Material=Steel to MATERIAL OHCLASS: STEEL\n",
      "Mapping Material=Aluminum to MATERIAL OHCLASS: ALUMINUM\n",
      "Mapping Material=Titanium to MATERIAL OHCLASS: TITANIUM\n",
      "embedding_distance_1 | min 0.6899999976158142, max [1.1699999570846558],  average [0.7200000286102295]\n",
      "embedding_distance_2 | min 0.07999999821186066, max [1.6299999952316284],  average [0.12999999523162842]\n"
     ]
    },
    {
     "name": "stderr",
     "output_type": "stream",
     "text": [
      "/home/yazan/Repositories/Personal/mcd-clip/src/mcd_clip/bike_rider_fit/fit_analysis/vectorizedangles.py:158: RuntimeWarning: invalid value encountered in arccos\n",
      "  alpha_1 = np.arccos((x_1 ** 2 - UL_s - x_2 ** 2) / (-2 * UL * x_2))\n",
      "/home/yazan/Repositories/Personal/mcd-clip/src/mcd_clip/bike_rider_fit/fit_analysis/demoanalysis.py:76: RuntimeWarning: invalid value encountered in arccos\n",
      "  Tksp2 = np.arccos(\n",
      "/home/yazan/Repositories/Personal/mcd-clip/src/mcd_clip/bike_rider_fit/fit_analysis/vectorizedangles.py:158: RuntimeWarning: invalid value encountered in arccos\n",
      "  alpha_1 = np.arccos((x_1 ** 2 - UL_s - x_2 ** 2) / (-2 * UL * x_2))\n"
     ]
    },
    {
     "name": "stdout",
     "output_type": "stream",
     "text": [
      "Validation result: fraction invalid [0.068]\n",
      "Validation result: fraction invalid [0.062]\n",
      "Validation result: fraction invalid [0.082]\n",
      "Validation result: fraction invalid [0.082]\n",
      "Validation result: fraction invalid [0.0]\n",
      "Validation result: fraction invalid [0.002]\n",
      "    85 |    42000 |    500 |  0.000000E+00 |  0.000000E+00 |  0.0074001765 |             f\n"
     ]
    },
    {
     "name": "stderr",
     "output_type": "stream",
     "text": [
      "/home/yazan/Repositories/Personal/mcd-clip/venv/lib/python3.10/site-packages/pymoo/operators/crossover/sbx.py:42: RuntimeWarning: divide by zero encountered in power\n",
      "  alpha = 2.0 - np.power(beta, -(eta + 1.0))\n",
      "/home/yazan/Repositories/Personal/mcd-clip/venv/lib/python3.10/site-packages/pymoo/operators/crossover/sbx.py:47: RuntimeWarning: invalid value encountered in power\n",
      "  betaq[mask] = np.power((rand * alpha), (1.0 / (eta + 1.0)))[mask]\n"
     ]
    },
    {
     "name": "stdout",
     "output_type": "stream",
     "text": [
      "Found framed material columns ['Material=Steel', 'Material=Aluminum', 'Material=Titanium']\n",
      "Mapping Material=Steel to MATERIAL OHCLASS: STEEL\n",
      "Mapping Material=Aluminum to MATERIAL OHCLASS: ALUMINUM\n",
      "Mapping Material=Titanium to MATERIAL OHCLASS: TITANIUM\n",
      "Found framed material columns ['Material=Steel', 'Material=Aluminum', 'Material=Titanium']\n",
      "Mapping Material=Steel to MATERIAL OHCLASS: STEEL\n",
      "Mapping Material=Aluminum to MATERIAL OHCLASS: ALUMINUM\n",
      "Mapping Material=Titanium to MATERIAL OHCLASS: TITANIUM\n",
      "Found framed material columns ['Material=Steel', 'Material=Aluminum', 'Material=Titanium']\n",
      "Mapping Material=Steel to MATERIAL OHCLASS: STEEL\n",
      "Mapping Material=Aluminum to MATERIAL OHCLASS: ALUMINUM\n",
      "Mapping Material=Titanium to MATERIAL OHCLASS: TITANIUM\n"
     ]
    },
    {
     "name": "stderr",
     "output_type": "stream",
     "text": [
      "/home/yazan/Repositories/Personal/mcd-clip/src/mcd_clip/bike_rider_fit/fit_analysis/vectorizedangles.py:158: RuntimeWarning: invalid value encountered in arccos\n",
      "  alpha_1 = np.arccos((x_1 ** 2 - UL_s - x_2 ** 2) / (-2 * UL * x_2))\n",
      "/home/yazan/Repositories/Personal/mcd-clip/src/mcd_clip/bike_rider_fit/fit_analysis/demoanalysis.py:76: RuntimeWarning: invalid value encountered in arccos\n",
      "  Tksp2 = np.arccos(\n",
      "/home/yazan/Repositories/Personal/mcd-clip/src/mcd_clip/bike_rider_fit/fit_analysis/vectorizedangles.py:158: RuntimeWarning: invalid value encountered in arccos\n",
      "  alpha_1 = np.arccos((x_1 ** 2 - UL_s - x_2 ** 2) / (-2 * UL * x_2))\n"
     ]
    },
    {
     "name": "stdout",
     "output_type": "stream",
     "text": [
      "embedding_distance_1 | min 0.6899999976158142, max [1.1799999475479126],  average [0.7200000286102295]\n",
      "embedding_distance_2 | min 0.07999999821186066, max [1.659999966621399],  average [0.12999999523162842]\n",
      "Validation result: fraction invalid [0.09]\n",
      "Validation result: fraction invalid [0.102]\n",
      "Validation result: fraction invalid [0.09]\n",
      "Validation result: fraction invalid [0.08]\n",
      "Validation result: fraction invalid [0.0]\n",
      "Validation result: fraction invalid [0.002]\n",
      "    86 |    42500 |    500 |  0.000000E+00 |  0.000000E+00 |  0.0054756417 |             f\n"
     ]
    },
    {
     "name": "stderr",
     "output_type": "stream",
     "text": [
      "/home/yazan/Repositories/Personal/mcd-clip/venv/lib/python3.10/site-packages/pymoo/operators/crossover/sbx.py:42: RuntimeWarning: divide by zero encountered in power\n",
      "  alpha = 2.0 - np.power(beta, -(eta + 1.0))\n",
      "/home/yazan/Repositories/Personal/mcd-clip/venv/lib/python3.10/site-packages/pymoo/operators/crossover/sbx.py:47: RuntimeWarning: invalid value encountered in power\n",
      "  betaq[mask] = np.power((rand * alpha), (1.0 / (eta + 1.0)))[mask]\n"
     ]
    },
    {
     "name": "stdout",
     "output_type": "stream",
     "text": [
      "Found framed material columns ['Material=Steel', 'Material=Aluminum', 'Material=Titanium']\n",
      "Mapping Material=Steel to MATERIAL OHCLASS: STEEL\n",
      "Mapping Material=Aluminum to MATERIAL OHCLASS: ALUMINUM\n",
      "Mapping Material=Titanium to MATERIAL OHCLASS: TITANIUM\n",
      "Found framed material columns ['Material=Steel', 'Material=Aluminum', 'Material=Titanium']\n",
      "Mapping Material=Steel to MATERIAL OHCLASS: STEEL\n",
      "Mapping Material=Aluminum to MATERIAL OHCLASS: ALUMINUM\n",
      "Mapping Material=Titanium to MATERIAL OHCLASS: TITANIUM\n",
      "Found framed material columns ['Material=Steel', 'Material=Aluminum', 'Material=Titanium']\n",
      "Mapping Material=Steel to MATERIAL OHCLASS: STEEL\n",
      "Mapping Material=Aluminum to MATERIAL OHCLASS: ALUMINUM\n",
      "Mapping Material=Titanium to MATERIAL OHCLASS: TITANIUM\n"
     ]
    },
    {
     "name": "stderr",
     "output_type": "stream",
     "text": [
      "/home/yazan/Repositories/Personal/mcd-clip/src/mcd_clip/bike_rider_fit/fit_analysis/vectorizedangles.py:158: RuntimeWarning: invalid value encountered in arccos\n",
      "  alpha_1 = np.arccos((x_1 ** 2 - UL_s - x_2 ** 2) / (-2 * UL * x_2))\n",
      "/home/yazan/Repositories/Personal/mcd-clip/src/mcd_clip/bike_rider_fit/fit_analysis/demoanalysis.py:76: RuntimeWarning: invalid value encountered in arccos\n",
      "  Tksp2 = np.arccos(\n",
      "/home/yazan/Repositories/Personal/mcd-clip/src/mcd_clip/bike_rider_fit/fit_analysis/vectorizedangles.py:158: RuntimeWarning: invalid value encountered in arccos\n",
      "  alpha_1 = np.arccos((x_1 ** 2 - UL_s - x_2 ** 2) / (-2 * UL * x_2))\n"
     ]
    },
    {
     "name": "stdout",
     "output_type": "stream",
     "text": [
      "embedding_distance_1 | min 0.6899999976158142, max [1.1799999475479126],  average [0.7200000286102295]\n",
      "embedding_distance_2 | min 0.07999999821186066, max [1.6699999570846558],  average [0.15000000596046448]\n",
      "Validation result: fraction invalid [0.076]\n",
      "Validation result: fraction invalid [0.09]\n",
      "Validation result: fraction invalid [0.104]\n",
      "Validation result: fraction invalid [0.1]\n",
      "Validation result: fraction invalid [0.0]\n",
      "Validation result: fraction invalid [0.002]\n",
      "    87 |    43000 |    500 |  0.000000E+00 |  0.000000E+00 |  0.0047548223 |             f\n"
     ]
    },
    {
     "name": "stderr",
     "output_type": "stream",
     "text": [
      "/home/yazan/Repositories/Personal/mcd-clip/venv/lib/python3.10/site-packages/pymoo/operators/crossover/sbx.py:47: RuntimeWarning: invalid value encountered in power\n",
      "  betaq[mask] = np.power((rand * alpha), (1.0 / (eta + 1.0)))[mask]\n",
      "/home/yazan/Repositories/Personal/mcd-clip/venv/lib/python3.10/site-packages/pymoo/operators/mutation/pm.py:45: RuntimeWarning: invalid value encountered in power\n",
      "  d = np.power(val, mut_pow) - 1.0\n"
     ]
    },
    {
     "name": "stdout",
     "output_type": "stream",
     "text": [
      "Found framed material columns ['Material=Steel', 'Material=Aluminum', 'Material=Titanium']\n",
      "Mapping Material=Steel to MATERIAL OHCLASS: STEEL\n",
      "Mapping Material=Aluminum to MATERIAL OHCLASS: ALUMINUM\n",
      "Mapping Material=Titanium to MATERIAL OHCLASS: TITANIUM\n",
      "Found framed material columns ['Material=Steel', 'Material=Aluminum', 'Material=Titanium']\n",
      "Mapping Material=Steel to MATERIAL OHCLASS: STEEL\n",
      "Mapping Material=Aluminum to MATERIAL OHCLASS: ALUMINUM\n",
      "Mapping Material=Titanium to MATERIAL OHCLASS: TITANIUM\n",
      "Found framed material columns ['Material=Steel', 'Material=Aluminum', 'Material=Titanium']\n",
      "Mapping Material=Steel to MATERIAL OHCLASS: STEEL\n",
      "Mapping Material=Aluminum to MATERIAL OHCLASS: ALUMINUM\n",
      "Mapping Material=Titanium to MATERIAL OHCLASS: TITANIUM\n"
     ]
    },
    {
     "name": "stderr",
     "output_type": "stream",
     "text": [
      "/home/yazan/Repositories/Personal/mcd-clip/src/mcd_clip/bike_rider_fit/fit_analysis/vectorizedangles.py:158: RuntimeWarning: invalid value encountered in arccos\n",
      "  alpha_1 = np.arccos((x_1 ** 2 - UL_s - x_2 ** 2) / (-2 * UL * x_2))\n",
      "/home/yazan/Repositories/Personal/mcd-clip/src/mcd_clip/bike_rider_fit/fit_analysis/demoanalysis.py:76: RuntimeWarning: invalid value encountered in arccos\n",
      "  Tksp2 = np.arccos(\n",
      "/home/yazan/Repositories/Personal/mcd-clip/src/mcd_clip/bike_rider_fit/fit_analysis/vectorizedangles.py:158: RuntimeWarning: invalid value encountered in arccos\n",
      "  alpha_1 = np.arccos((x_1 ** 2 - UL_s - x_2 ** 2) / (-2 * UL * x_2))\n"
     ]
    },
    {
     "name": "stdout",
     "output_type": "stream",
     "text": [
      "embedding_distance_1 | min 0.6899999976158142, max [1.1799999475479126],  average [0.7400000095367432]\n",
      "embedding_distance_2 | min 0.09000000357627869, max [1.6799999475479126],  average [0.17000000178813934]\n",
      "Validation result: fraction invalid [0.11]\n",
      "Validation result: fraction invalid [0.138]\n",
      "Validation result: fraction invalid [0.152]\n",
      "Validation result: fraction invalid [0.148]\n",
      "Validation result: fraction invalid [0.0]\n",
      "Validation result: fraction invalid [0.004]\n",
      "    88 |    43500 |    500 |  0.000000E+00 |  0.000000E+00 |  0.0031658318 |             f\n"
     ]
    },
    {
     "name": "stderr",
     "output_type": "stream",
     "text": [
      "/home/yazan/Repositories/Personal/mcd-clip/venv/lib/python3.10/site-packages/pymoo/operators/crossover/sbx.py:42: RuntimeWarning: divide by zero encountered in power\n",
      "  alpha = 2.0 - np.power(beta, -(eta + 1.0))\n",
      "/home/yazan/Repositories/Personal/mcd-clip/venv/lib/python3.10/site-packages/pymoo/operators/crossover/sbx.py:47: RuntimeWarning: invalid value encountered in power\n",
      "  betaq[mask] = np.power((rand * alpha), (1.0 / (eta + 1.0)))[mask]\n"
     ]
    },
    {
     "name": "stdout",
     "output_type": "stream",
     "text": [
      "Found framed material columns ['Material=Steel', 'Material=Aluminum', 'Material=Titanium']\n",
      "Mapping Material=Steel to MATERIAL OHCLASS: STEEL\n",
      "Mapping Material=Aluminum to MATERIAL OHCLASS: ALUMINUM\n",
      "Mapping Material=Titanium to MATERIAL OHCLASS: TITANIUM\n",
      "Found framed material columns ['Material=Steel', 'Material=Aluminum', 'Material=Titanium']\n",
      "Mapping Material=Steel to MATERIAL OHCLASS: STEEL\n",
      "Mapping Material=Aluminum to MATERIAL OHCLASS: ALUMINUM\n",
      "Mapping Material=Titanium to MATERIAL OHCLASS: TITANIUM\n"
     ]
    },
    {
     "name": "stderr",
     "output_type": "stream",
     "text": [
      "/home/yazan/Repositories/Personal/mcd-clip/src/mcd_clip/bike_rider_fit/fit_analysis/vectorizedangles.py:158: RuntimeWarning: invalid value encountered in arccos\n",
      "  alpha_1 = np.arccos((x_1 ** 2 - UL_s - x_2 ** 2) / (-2 * UL * x_2))\n",
      "/home/yazan/Repositories/Personal/mcd-clip/src/mcd_clip/bike_rider_fit/fit_analysis/demoanalysis.py:76: RuntimeWarning: invalid value encountered in arccos\n",
      "  Tksp2 = np.arccos(\n",
      "/home/yazan/Repositories/Personal/mcd-clip/src/mcd_clip/bike_rider_fit/fit_analysis/vectorizedangles.py:158: RuntimeWarning: invalid value encountered in arccos\n",
      "  alpha_1 = np.arccos((x_1 ** 2 - UL_s - x_2 ** 2) / (-2 * UL * x_2))\n"
     ]
    },
    {
     "name": "stdout",
     "output_type": "stream",
     "text": [
      "Found framed material columns ['Material=Steel', 'Material=Aluminum', 'Material=Titanium']\n",
      "Mapping Material=Steel to MATERIAL OHCLASS: STEEL\n",
      "Mapping Material=Aluminum to MATERIAL OHCLASS: ALUMINUM\n",
      "Mapping Material=Titanium to MATERIAL OHCLASS: TITANIUM\n",
      "embedding_distance_1 | min 0.6899999976158142, max [1.1799999475479126],  average [0.7200000286102295]\n",
      "embedding_distance_2 | min 0.09000000357627869, max [1.6799999475479126],  average [0.12999999523162842]\n",
      "Validation result: fraction invalid [0.068]\n",
      "Validation result: fraction invalid [0.074]\n",
      "Validation result: fraction invalid [0.078]\n",
      "Validation result: fraction invalid [0.088]\n",
      "Validation result: fraction invalid [0.0]\n",
      "Validation result: fraction invalid [0.004]\n",
      "    89 |    44000 |    500 |  0.000000E+00 |  0.000000E+00 |  0.0058926330 |             f\n"
     ]
    },
    {
     "name": "stderr",
     "output_type": "stream",
     "text": [
      "/home/yazan/Repositories/Personal/mcd-clip/venv/lib/python3.10/site-packages/pymoo/operators/crossover/sbx.py:42: RuntimeWarning: divide by zero encountered in power\n",
      "  alpha = 2.0 - np.power(beta, -(eta + 1.0))\n",
      "/home/yazan/Repositories/Personal/mcd-clip/venv/lib/python3.10/site-packages/pymoo/operators/crossover/sbx.py:47: RuntimeWarning: invalid value encountered in power\n",
      "  betaq[mask] = np.power((rand * alpha), (1.0 / (eta + 1.0)))[mask]\n"
     ]
    },
    {
     "name": "stdout",
     "output_type": "stream",
     "text": [
      "Found framed material columns ['Material=Steel', 'Material=Aluminum', 'Material=Titanium']\n",
      "Mapping Material=Steel to MATERIAL OHCLASS: STEEL\n",
      "Mapping Material=Aluminum to MATERIAL OHCLASS: ALUMINUM\n",
      "Mapping Material=Titanium to MATERIAL OHCLASS: TITANIUM\n",
      "Found framed material columns ['Material=Steel', 'Material=Aluminum', 'Material=Titanium']\n",
      "Mapping Material=Steel to MATERIAL OHCLASS: STEEL\n",
      "Mapping Material=Aluminum to MATERIAL OHCLASS: ALUMINUM\n",
      "Mapping Material=Titanium to MATERIAL OHCLASS: TITANIUM\n",
      "Found framed material columns ['Material=Steel', 'Material=Aluminum', 'Material=Titanium']\n",
      "Mapping Material=Steel to MATERIAL OHCLASS: STEEL\n",
      "Mapping Material=Aluminum to MATERIAL OHCLASS: ALUMINUM\n",
      "Mapping Material=Titanium to MATERIAL OHCLASS: TITANIUM\n"
     ]
    },
    {
     "name": "stderr",
     "output_type": "stream",
     "text": [
      "/home/yazan/Repositories/Personal/mcd-clip/src/mcd_clip/bike_rider_fit/fit_analysis/vectorizedangles.py:158: RuntimeWarning: invalid value encountered in arccos\n",
      "  alpha_1 = np.arccos((x_1 ** 2 - UL_s - x_2 ** 2) / (-2 * UL * x_2))\n",
      "/home/yazan/Repositories/Personal/mcd-clip/src/mcd_clip/bike_rider_fit/fit_analysis/demoanalysis.py:76: RuntimeWarning: invalid value encountered in arccos\n",
      "  Tksp2 = np.arccos(\n",
      "/home/yazan/Repositories/Personal/mcd-clip/src/mcd_clip/bike_rider_fit/fit_analysis/vectorizedangles.py:158: RuntimeWarning: invalid value encountered in arccos\n",
      "  alpha_1 = np.arccos((x_1 ** 2 - UL_s - x_2 ** 2) / (-2 * UL * x_2))\n"
     ]
    },
    {
     "name": "stdout",
     "output_type": "stream",
     "text": [
      "embedding_distance_1 | min 0.6899999976158142, max [1.1799999475479126],  average [0.7300000190734863]\n",
      "embedding_distance_2 | min 0.09000000357627869, max [1.6699999570846558],  average [0.1599999964237213]\n",
      "Validation result: fraction invalid [0.122]\n",
      "Validation result: fraction invalid [0.112]\n",
      "Validation result: fraction invalid [0.128]\n",
      "Validation result: fraction invalid [0.14]\n",
      "Validation result: fraction invalid [0.0]\n",
      "Validation result: fraction invalid [0.0]\n",
      "    90 |    44500 |    500 |  0.000000E+00 |  0.000000E+00 |  0.0047174352 |             f\n"
     ]
    },
    {
     "name": "stderr",
     "output_type": "stream",
     "text": [
      "/home/yazan/Repositories/Personal/mcd-clip/venv/lib/python3.10/site-packages/pymoo/operators/crossover/sbx.py:42: RuntimeWarning: divide by zero encountered in power\n",
      "  alpha = 2.0 - np.power(beta, -(eta + 1.0))\n",
      "/home/yazan/Repositories/Personal/mcd-clip/venv/lib/python3.10/site-packages/pymoo/operators/crossover/sbx.py:47: RuntimeWarning: invalid value encountered in power\n",
      "  betaq[mask] = np.power((rand * alpha), (1.0 / (eta + 1.0)))[mask]\n"
     ]
    },
    {
     "name": "stdout",
     "output_type": "stream",
     "text": [
      "Found framed material columns ['Material=Steel', 'Material=Aluminum', 'Material=Titanium']\n",
      "Mapping Material=Steel to MATERIAL OHCLASS: STEEL\n",
      "Mapping Material=Aluminum to MATERIAL OHCLASS: ALUMINUM\n",
      "Mapping Material=Titanium to MATERIAL OHCLASS: TITANIUM\n",
      "Found framed material columns ['Material=Steel', 'Material=Aluminum', 'Material=Titanium']\n",
      "Mapping Material=Steel to MATERIAL OHCLASS: STEEL\n",
      "Mapping Material=Aluminum to MATERIAL OHCLASS: ALUMINUM\n",
      "Mapping Material=Titanium to MATERIAL OHCLASS: TITANIUM\n",
      "Found framed material columns ['Material=Steel', 'Material=Aluminum', 'Material=Titanium']\n",
      "Mapping Material=Steel to MATERIAL OHCLASS: STEEL\n",
      "Mapping Material=Aluminum to MATERIAL OHCLASS: ALUMINUM\n",
      "Mapping Material=Titanium to MATERIAL OHCLASS: TITANIUM\n"
     ]
    },
    {
     "name": "stderr",
     "output_type": "stream",
     "text": [
      "/home/yazan/Repositories/Personal/mcd-clip/src/mcd_clip/bike_rider_fit/fit_analysis/vectorizedangles.py:158: RuntimeWarning: invalid value encountered in arccos\n",
      "  alpha_1 = np.arccos((x_1 ** 2 - UL_s - x_2 ** 2) / (-2 * UL * x_2))\n",
      "/home/yazan/Repositories/Personal/mcd-clip/src/mcd_clip/bike_rider_fit/fit_analysis/demoanalysis.py:76: RuntimeWarning: invalid value encountered in arccos\n",
      "  Tksp2 = np.arccos(\n",
      "/home/yazan/Repositories/Personal/mcd-clip/src/mcd_clip/bike_rider_fit/fit_analysis/vectorizedangles.py:158: RuntimeWarning: invalid value encountered in arccos\n",
      "  alpha_1 = np.arccos((x_1 ** 2 - UL_s - x_2 ** 2) / (-2 * UL * x_2))\n"
     ]
    },
    {
     "name": "stdout",
     "output_type": "stream",
     "text": [
      "embedding_distance_1 | min 0.6899999976158142, max [1.1699999570846558],  average [0.7200000286102295]\n",
      "embedding_distance_2 | min 0.07999999821186066, max [1.659999966621399],  average [0.12999999523162842]\n",
      "Validation result: fraction invalid [0.082]\n",
      "Validation result: fraction invalid [0.09]\n",
      "Validation result: fraction invalid [0.094]\n",
      "Validation result: fraction invalid [0.116]\n",
      "Validation result: fraction invalid [0.0]\n",
      "Validation result: fraction invalid [0.0]\n",
      "    91 |    45000 |    500 |  0.000000E+00 |  0.000000E+00 |  0.0098712718 |         nadir\n"
     ]
    },
    {
     "name": "stderr",
     "output_type": "stream",
     "text": [
      "/home/yazan/Repositories/Personal/mcd-clip/venv/lib/python3.10/site-packages/pymoo/operators/crossover/sbx.py:42: RuntimeWarning: divide by zero encountered in power\n",
      "  alpha = 2.0 - np.power(beta, -(eta + 1.0))\n",
      "/home/yazan/Repositories/Personal/mcd-clip/venv/lib/python3.10/site-packages/pymoo/operators/crossover/sbx.py:47: RuntimeWarning: invalid value encountered in power\n",
      "  betaq[mask] = np.power((rand * alpha), (1.0 / (eta + 1.0)))[mask]\n"
     ]
    },
    {
     "name": "stdout",
     "output_type": "stream",
     "text": [
      "Found framed material columns ['Material=Steel', 'Material=Aluminum', 'Material=Titanium']\n",
      "Mapping Material=Steel to MATERIAL OHCLASS: STEEL\n",
      "Mapping Material=Aluminum to MATERIAL OHCLASS: ALUMINUM\n",
      "Mapping Material=Titanium to MATERIAL OHCLASS: TITANIUM\n",
      "Found framed material columns ['Material=Steel', 'Material=Aluminum', 'Material=Titanium']\n",
      "Mapping Material=Steel to MATERIAL OHCLASS: STEEL\n",
      "Mapping Material=Aluminum to MATERIAL OHCLASS: ALUMINUM\n",
      "Mapping Material=Titanium to MATERIAL OHCLASS: TITANIUM\n",
      "Found framed material columns ['Material=Steel', 'Material=Aluminum', 'Material=Titanium']\n",
      "Mapping Material=Steel to MATERIAL OHCLASS: STEEL\n",
      "Mapping Material=Aluminum to MATERIAL OHCLASS: ALUMINUM\n",
      "Mapping Material=Titanium to MATERIAL OHCLASS: TITANIUM\n"
     ]
    },
    {
     "name": "stderr",
     "output_type": "stream",
     "text": [
      "/home/yazan/Repositories/Personal/mcd-clip/src/mcd_clip/bike_rider_fit/fit_analysis/vectorizedangles.py:158: RuntimeWarning: invalid value encountered in arccos\n",
      "  alpha_1 = np.arccos((x_1 ** 2 - UL_s - x_2 ** 2) / (-2 * UL * x_2))\n",
      "/home/yazan/Repositories/Personal/mcd-clip/src/mcd_clip/bike_rider_fit/fit_analysis/demoanalysis.py:76: RuntimeWarning: invalid value encountered in arccos\n",
      "  Tksp2 = np.arccos(\n",
      "/home/yazan/Repositories/Personal/mcd-clip/src/mcd_clip/bike_rider_fit/fit_analysis/vectorizedangles.py:158: RuntimeWarning: invalid value encountered in arccos\n",
      "  alpha_1 = np.arccos((x_1 ** 2 - UL_s - x_2 ** 2) / (-2 * UL * x_2))\n"
     ]
    },
    {
     "name": "stdout",
     "output_type": "stream",
     "text": [
      "embedding_distance_1 | min 0.6899999976158142, max [1.1699999570846558],  average [0.7200000286102295]\n",
      "embedding_distance_2 | min 0.07999999821186066, max [1.659999966621399],  average [0.14000000059604645]\n",
      "Validation result: fraction invalid [0.07]\n",
      "Validation result: fraction invalid [0.074]\n",
      "Validation result: fraction invalid [0.108]\n",
      "Validation result: fraction invalid [0.084]\n",
      "Validation result: fraction invalid [0.0]\n",
      "Validation result: fraction invalid [0.002]\n",
      "    92 |    45500 |    500 |  0.000000E+00 |  0.000000E+00 |  0.0123172748 |         ideal\n"
     ]
    },
    {
     "name": "stderr",
     "output_type": "stream",
     "text": [
      "/home/yazan/Repositories/Personal/mcd-clip/venv/lib/python3.10/site-packages/pymoo/operators/crossover/sbx.py:42: RuntimeWarning: divide by zero encountered in power\n",
      "  alpha = 2.0 - np.power(beta, -(eta + 1.0))\n",
      "/home/yazan/Repositories/Personal/mcd-clip/venv/lib/python3.10/site-packages/pymoo/operators/crossover/sbx.py:47: RuntimeWarning: invalid value encountered in power\n",
      "  betaq[mask] = np.power((rand * alpha), (1.0 / (eta + 1.0)))[mask]\n",
      "/home/yazan/Repositories/Personal/mcd-clip/venv/lib/python3.10/site-packages/pymoo/operators/mutation/pm.py:45: RuntimeWarning: invalid value encountered in power\n",
      "  d = np.power(val, mut_pow) - 1.0\n"
     ]
    },
    {
     "name": "stdout",
     "output_type": "stream",
     "text": [
      "Found framed material columns ['Material=Steel', 'Material=Aluminum', 'Material=Titanium']\n",
      "Mapping Material=Steel to MATERIAL OHCLASS: STEEL\n",
      "Mapping Material=Aluminum to MATERIAL OHCLASS: ALUMINUM\n",
      "Mapping Material=Titanium to MATERIAL OHCLASS: TITANIUM\n",
      "Found framed material columns ['Material=Steel', 'Material=Aluminum', 'Material=Titanium']\n",
      "Mapping Material=Steel to MATERIAL OHCLASS: STEEL\n",
      "Mapping Material=Aluminum to MATERIAL OHCLASS: ALUMINUM\n",
      "Mapping Material=Titanium to MATERIAL OHCLASS: TITANIUM\n",
      "Found framed material columns ['Material=Steel', 'Material=Aluminum', 'Material=Titanium']\n",
      "Mapping Material=Steel to MATERIAL OHCLASS: STEEL\n",
      "Mapping Material=Aluminum to MATERIAL OHCLASS: ALUMINUM\n",
      "Mapping Material=Titanium to MATERIAL OHCLASS: TITANIUM\n"
     ]
    },
    {
     "name": "stderr",
     "output_type": "stream",
     "text": [
      "/home/yazan/Repositories/Personal/mcd-clip/src/mcd_clip/bike_rider_fit/fit_analysis/vectorizedangles.py:158: RuntimeWarning: invalid value encountered in arccos\n",
      "  alpha_1 = np.arccos((x_1 ** 2 - UL_s - x_2 ** 2) / (-2 * UL * x_2))\n",
      "/home/yazan/Repositories/Personal/mcd-clip/src/mcd_clip/bike_rider_fit/fit_analysis/demoanalysis.py:76: RuntimeWarning: invalid value encountered in arccos\n",
      "  Tksp2 = np.arccos(\n",
      "/home/yazan/Repositories/Personal/mcd-clip/src/mcd_clip/bike_rider_fit/fit_analysis/vectorizedangles.py:158: RuntimeWarning: invalid value encountered in arccos\n",
      "  alpha_1 = np.arccos((x_1 ** 2 - UL_s - x_2 ** 2) / (-2 * UL * x_2))\n"
     ]
    },
    {
     "name": "stdout",
     "output_type": "stream",
     "text": [
      "embedding_distance_1 | min 0.6800000071525574, max [1.1799999475479126],  average [0.7200000286102295]\n",
      "embedding_distance_2 | min 0.07999999821186066, max [1.6799999475479126],  average [0.14000000059604645]\n",
      "Validation result: fraction invalid [0.1]\n",
      "Validation result: fraction invalid [0.108]\n",
      "Validation result: fraction invalid [0.072]\n",
      "Validation result: fraction invalid [0.074]\n",
      "Validation result: fraction invalid [0.0]\n",
      "Validation result: fraction invalid [0.002]\n",
      "    93 |    46000 |    500 |  0.000000E+00 |  0.000000E+00 |  0.0053170026 |             f\n"
     ]
    },
    {
     "name": "stderr",
     "output_type": "stream",
     "text": [
      "/home/yazan/Repositories/Personal/mcd-clip/venv/lib/python3.10/site-packages/pymoo/operators/crossover/sbx.py:42: RuntimeWarning: divide by zero encountered in power\n",
      "  alpha = 2.0 - np.power(beta, -(eta + 1.0))\n",
      "/home/yazan/Repositories/Personal/mcd-clip/venv/lib/python3.10/site-packages/pymoo/operators/crossover/sbx.py:47: RuntimeWarning: invalid value encountered in power\n",
      "  betaq[mask] = np.power((rand * alpha), (1.0 / (eta + 1.0)))[mask]\n"
     ]
    },
    {
     "name": "stdout",
     "output_type": "stream",
     "text": [
      "Found framed material columns ['Material=Steel', 'Material=Aluminum', 'Material=Titanium']\n",
      "Mapping Material=Steel to MATERIAL OHCLASS: STEEL\n",
      "Mapping Material=Aluminum to MATERIAL OHCLASS: ALUMINUM\n",
      "Mapping Material=Titanium to MATERIAL OHCLASS: TITANIUM\n",
      "Found framed material columns ['Material=Steel', 'Material=Aluminum', 'Material=Titanium']\n",
      "Mapping Material=Steel to MATERIAL OHCLASS: STEEL\n",
      "Mapping Material=Aluminum to MATERIAL OHCLASS: ALUMINUM\n",
      "Mapping Material=Titanium to MATERIAL OHCLASS: TITANIUM\n",
      "Found framed material columns ['Material=Steel', 'Material=Aluminum', 'Material=Titanium']\n",
      "Mapping Material=Steel to MATERIAL OHCLASS: STEEL\n",
      "Mapping Material=Aluminum to MATERIAL OHCLASS: ALUMINUM\n",
      "Mapping Material=Titanium to MATERIAL OHCLASS: TITANIUM\n"
     ]
    },
    {
     "name": "stderr",
     "output_type": "stream",
     "text": [
      "/home/yazan/Repositories/Personal/mcd-clip/src/mcd_clip/bike_rider_fit/fit_analysis/vectorizedangles.py:158: RuntimeWarning: invalid value encountered in arccos\n",
      "  alpha_1 = np.arccos((x_1 ** 2 - UL_s - x_2 ** 2) / (-2 * UL * x_2))\n",
      "/home/yazan/Repositories/Personal/mcd-clip/src/mcd_clip/bike_rider_fit/fit_analysis/demoanalysis.py:76: RuntimeWarning: invalid value encountered in arccos\n",
      "  Tksp2 = np.arccos(\n",
      "/home/yazan/Repositories/Personal/mcd-clip/src/mcd_clip/bike_rider_fit/fit_analysis/vectorizedangles.py:158: RuntimeWarning: invalid value encountered in arccos\n",
      "  alpha_1 = np.arccos((x_1 ** 2 - UL_s - x_2 ** 2) / (-2 * UL * x_2))\n"
     ]
    },
    {
     "name": "stdout",
     "output_type": "stream",
     "text": [
      "embedding_distance_1 | min 0.699999988079071, max [1.1799999475479126],  average [0.7400000095367432]\n",
      "embedding_distance_2 | min 0.10000000149011612, max [1.6799999475479126],  average [0.17000000178813934]\n",
      "Validation result: fraction invalid [0.064]\n",
      "Validation result: fraction invalid [0.104]\n",
      "Validation result: fraction invalid [0.118]\n",
      "Validation result: fraction invalid [0.126]\n",
      "Validation result: fraction invalid [0.0]\n",
      "Validation result: fraction invalid [0.0]\n",
      "    94 |    46500 |    500 |  0.000000E+00 |  0.000000E+00 |  0.0016728448 |             f\n"
     ]
    },
    {
     "name": "stderr",
     "output_type": "stream",
     "text": [
      "/home/yazan/Repositories/Personal/mcd-clip/venv/lib/python3.10/site-packages/pymoo/operators/crossover/sbx.py:42: RuntimeWarning: divide by zero encountered in power\n",
      "  alpha = 2.0 - np.power(beta, -(eta + 1.0))\n",
      "/home/yazan/Repositories/Personal/mcd-clip/venv/lib/python3.10/site-packages/pymoo/operators/crossover/sbx.py:47: RuntimeWarning: invalid value encountered in power\n",
      "  betaq[mask] = np.power((rand * alpha), (1.0 / (eta + 1.0)))[mask]\n",
      "/home/yazan/Repositories/Personal/mcd-clip/venv/lib/python3.10/site-packages/pymoo/operators/mutation/pm.py:45: RuntimeWarning: invalid value encountered in power\n",
      "  d = np.power(val, mut_pow) - 1.0\n"
     ]
    },
    {
     "name": "stdout",
     "output_type": "stream",
     "text": [
      "Found framed material columns ['Material=Steel', 'Material=Aluminum', 'Material=Titanium']\n",
      "Mapping Material=Steel to MATERIAL OHCLASS: STEEL\n",
      "Mapping Material=Aluminum to MATERIAL OHCLASS: ALUMINUM\n",
      "Mapping Material=Titanium to MATERIAL OHCLASS: TITANIUM\n",
      "Found framed material columns ['Material=Steel', 'Material=Aluminum', 'Material=Titanium']\n",
      "Mapping Material=Steel to MATERIAL OHCLASS: STEEL\n",
      "Mapping Material=Aluminum to MATERIAL OHCLASS: ALUMINUM\n",
      "Mapping Material=Titanium to MATERIAL OHCLASS: TITANIUM\n",
      "Found framed material columns ['Material=Steel', 'Material=Aluminum', 'Material=Titanium']\n",
      "Mapping Material=Steel to MATERIAL OHCLASS: STEEL\n",
      "Mapping Material=Aluminum to MATERIAL OHCLASS: ALUMINUM\n",
      "Mapping Material=Titanium to MATERIAL OHCLASS: TITANIUM\n"
     ]
    },
    {
     "name": "stderr",
     "output_type": "stream",
     "text": [
      "/home/yazan/Repositories/Personal/mcd-clip/src/mcd_clip/bike_rider_fit/fit_analysis/vectorizedangles.py:158: RuntimeWarning: invalid value encountered in arccos\n",
      "  alpha_1 = np.arccos((x_1 ** 2 - UL_s - x_2 ** 2) / (-2 * UL * x_2))\n",
      "/home/yazan/Repositories/Personal/mcd-clip/src/mcd_clip/bike_rider_fit/fit_analysis/demoanalysis.py:76: RuntimeWarning: invalid value encountered in arccos\n",
      "  Tksp2 = np.arccos(\n",
      "/home/yazan/Repositories/Personal/mcd-clip/src/mcd_clip/bike_rider_fit/fit_analysis/vectorizedangles.py:158: RuntimeWarning: invalid value encountered in arccos\n",
      "  alpha_1 = np.arccos((x_1 ** 2 - UL_s - x_2 ** 2) / (-2 * UL * x_2))\n"
     ]
    },
    {
     "name": "stdout",
     "output_type": "stream",
     "text": [
      "embedding_distance_1 | min 0.6899999976158142, max [1.1799999475479126],  average [0.7200000286102295]\n",
      "embedding_distance_2 | min 0.07999999821186066, max [1.6799999475479126],  average [0.15000000596046448]\n",
      "Validation result: fraction invalid [0.094]\n",
      "Validation result: fraction invalid [0.09]\n",
      "Validation result: fraction invalid [0.072]\n",
      "Validation result: fraction invalid [0.07]\n",
      "Validation result: fraction invalid [0.0]\n",
      "Validation result: fraction invalid [0.002]\n",
      "    95 |    47000 |    500 |  0.000000E+00 |  0.000000E+00 |  0.0045208307 |         ideal\n"
     ]
    },
    {
     "name": "stderr",
     "output_type": "stream",
     "text": [
      "/home/yazan/Repositories/Personal/mcd-clip/venv/lib/python3.10/site-packages/pymoo/operators/crossover/sbx.py:42: RuntimeWarning: divide by zero encountered in power\n",
      "  alpha = 2.0 - np.power(beta, -(eta + 1.0))\n",
      "/home/yazan/Repositories/Personal/mcd-clip/venv/lib/python3.10/site-packages/pymoo/operators/crossover/sbx.py:47: RuntimeWarning: invalid value encountered in power\n",
      "  betaq[mask] = np.power((rand * alpha), (1.0 / (eta + 1.0)))[mask]\n"
     ]
    },
    {
     "name": "stdout",
     "output_type": "stream",
     "text": [
      "Found framed material columns ['Material=Steel', 'Material=Aluminum', 'Material=Titanium']\n",
      "Mapping Material=Steel to MATERIAL OHCLASS: STEEL\n",
      "Mapping Material=Aluminum to MATERIAL OHCLASS: ALUMINUM\n",
      "Mapping Material=Titanium to MATERIAL OHCLASS: TITANIUM\n",
      "Found framed material columns ['Material=Steel', 'Material=Aluminum', 'Material=Titanium']\n",
      "Mapping Material=Steel to MATERIAL OHCLASS: STEEL\n",
      "Mapping Material=Aluminum to MATERIAL OHCLASS: ALUMINUM\n",
      "Mapping Material=Titanium to MATERIAL OHCLASS: TITANIUM\n",
      "Found framed material columns ['Material=Steel', 'Material=Aluminum', 'Material=Titanium']\n",
      "Mapping Material=Steel to MATERIAL OHCLASS: STEEL\n",
      "Mapping Material=Aluminum to MATERIAL OHCLASS: ALUMINUM\n",
      "Mapping Material=Titanium to MATERIAL OHCLASS: TITANIUM\n"
     ]
    },
    {
     "name": "stderr",
     "output_type": "stream",
     "text": [
      "/home/yazan/Repositories/Personal/mcd-clip/src/mcd_clip/bike_rider_fit/fit_analysis/vectorizedangles.py:158: RuntimeWarning: invalid value encountered in arccos\n",
      "  alpha_1 = np.arccos((x_1 ** 2 - UL_s - x_2 ** 2) / (-2 * UL * x_2))\n",
      "/home/yazan/Repositories/Personal/mcd-clip/src/mcd_clip/bike_rider_fit/fit_analysis/demoanalysis.py:76: RuntimeWarning: invalid value encountered in arccos\n",
      "  Tksp2 = np.arccos(\n",
      "/home/yazan/Repositories/Personal/mcd-clip/src/mcd_clip/bike_rider_fit/fit_analysis/vectorizedangles.py:158: RuntimeWarning: invalid value encountered in arccos\n",
      "  alpha_1 = np.arccos((x_1 ** 2 - UL_s - x_2 ** 2) / (-2 * UL * x_2))\n"
     ]
    },
    {
     "name": "stdout",
     "output_type": "stream",
     "text": [
      "embedding_distance_1 | min 0.6899999976158142, max [1.1799999475479126],  average [0.7200000286102295]\n",
      "embedding_distance_2 | min 0.07999999821186066, max [1.6799999475479126],  average [0.14000000059604645]\n",
      "Validation result: fraction invalid [0.108]\n",
      "Validation result: fraction invalid [0.102]\n",
      "Validation result: fraction invalid [0.06]\n",
      "Validation result: fraction invalid [0.092]\n",
      "Validation result: fraction invalid [0.0]\n",
      "Validation result: fraction invalid [0.004]\n",
      "    96 |    47500 |    500 |  0.000000E+00 |  0.000000E+00 |  0.0460161346 |         nadir\n"
     ]
    },
    {
     "name": "stderr",
     "output_type": "stream",
     "text": [
      "/home/yazan/Repositories/Personal/mcd-clip/venv/lib/python3.10/site-packages/pymoo/operators/crossover/sbx.py:42: RuntimeWarning: divide by zero encountered in power\n",
      "  alpha = 2.0 - np.power(beta, -(eta + 1.0))\n",
      "/home/yazan/Repositories/Personal/mcd-clip/venv/lib/python3.10/site-packages/pymoo/operators/crossover/sbx.py:47: RuntimeWarning: invalid value encountered in power\n",
      "  betaq[mask] = np.power((rand * alpha), (1.0 / (eta + 1.0)))[mask]\n"
     ]
    },
    {
     "name": "stdout",
     "output_type": "stream",
     "text": [
      "Found framed material columns ['Material=Steel', 'Material=Aluminum', 'Material=Titanium']\n",
      "Mapping Material=Steel to MATERIAL OHCLASS: STEEL\n",
      "Mapping Material=Aluminum to MATERIAL OHCLASS: ALUMINUM\n",
      "Mapping Material=Titanium to MATERIAL OHCLASS: TITANIUM\n",
      "Found framed material columns ['Material=Steel', 'Material=Aluminum', 'Material=Titanium']\n",
      "Mapping Material=Steel to MATERIAL OHCLASS: STEEL\n",
      "Mapping Material=Aluminum to MATERIAL OHCLASS: ALUMINUM\n",
      "Mapping Material=Titanium to MATERIAL OHCLASS: TITANIUM\n",
      "Found framed material columns ['Material=Steel', 'Material=Aluminum', 'Material=Titanium']\n",
      "Mapping Material=Steel to MATERIAL OHCLASS: STEEL\n",
      "Mapping Material=Aluminum to MATERIAL OHCLASS: ALUMINUM\n",
      "Mapping Material=Titanium to MATERIAL OHCLASS: TITANIUM\n"
     ]
    },
    {
     "name": "stderr",
     "output_type": "stream",
     "text": [
      "/home/yazan/Repositories/Personal/mcd-clip/src/mcd_clip/bike_rider_fit/fit_analysis/vectorizedangles.py:158: RuntimeWarning: invalid value encountered in arccos\n",
      "  alpha_1 = np.arccos((x_1 ** 2 - UL_s - x_2 ** 2) / (-2 * UL * x_2))\n",
      "/home/yazan/Repositories/Personal/mcd-clip/src/mcd_clip/bike_rider_fit/fit_analysis/demoanalysis.py:76: RuntimeWarning: invalid value encountered in arccos\n",
      "  Tksp2 = np.arccos(\n",
      "/home/yazan/Repositories/Personal/mcd-clip/src/mcd_clip/bike_rider_fit/fit_analysis/vectorizedangles.py:158: RuntimeWarning: invalid value encountered in arccos\n",
      "  alpha_1 = np.arccos((x_1 ** 2 - UL_s - x_2 ** 2) / (-2 * UL * x_2))\n"
     ]
    },
    {
     "name": "stdout",
     "output_type": "stream",
     "text": [
      "embedding_distance_1 | min 0.6899999976158142, max [1.1799999475479126],  average [0.7200000286102295]\n",
      "embedding_distance_2 | min 0.07999999821186066, max [1.6699999570846558],  average [0.14000000059604645]\n",
      "Validation result: fraction invalid [0.08]\n",
      "Validation result: fraction invalid [0.076]\n",
      "Validation result: fraction invalid [0.102]\n",
      "Validation result: fraction invalid [0.082]\n",
      "Validation result: fraction invalid [0.0]\n",
      "Validation result: fraction invalid [0.004]\n",
      "    97 |    48000 |    500 |  0.000000E+00 |  0.000000E+00 |  0.0075457118 |             f\n"
     ]
    },
    {
     "name": "stderr",
     "output_type": "stream",
     "text": [
      "/home/yazan/Repositories/Personal/mcd-clip/venv/lib/python3.10/site-packages/pymoo/operators/crossover/sbx.py:42: RuntimeWarning: divide by zero encountered in power\n",
      "  alpha = 2.0 - np.power(beta, -(eta + 1.0))\n",
      "/home/yazan/Repositories/Personal/mcd-clip/venv/lib/python3.10/site-packages/pymoo/operators/crossover/sbx.py:47: RuntimeWarning: invalid value encountered in power\n",
      "  betaq[mask] = np.power((rand * alpha), (1.0 / (eta + 1.0)))[mask]\n"
     ]
    },
    {
     "name": "stdout",
     "output_type": "stream",
     "text": [
      "Found framed material columns ['Material=Steel', 'Material=Aluminum', 'Material=Titanium']\n",
      "Mapping Material=Steel to MATERIAL OHCLASS: STEEL\n",
      "Mapping Material=Aluminum to MATERIAL OHCLASS: ALUMINUM\n",
      "Mapping Material=Titanium to MATERIAL OHCLASS: TITANIUM\n",
      "Found framed material columns ['Material=Steel', 'Material=Aluminum', 'Material=Titanium']\n",
      "Mapping Material=Steel to MATERIAL OHCLASS: STEEL\n",
      "Mapping Material=Aluminum to MATERIAL OHCLASS: ALUMINUM\n",
      "Mapping Material=Titanium to MATERIAL OHCLASS: TITANIUM\n",
      "Found framed material columns ['Material=Steel', 'Material=Aluminum', 'Material=Titanium']\n",
      "Mapping Material=Steel to MATERIAL OHCLASS: STEEL\n",
      "Mapping Material=Aluminum to MATERIAL OHCLASS: ALUMINUM\n",
      "Mapping Material=Titanium to MATERIAL OHCLASS: TITANIUM\n",
      "embedding_distance_1 | min 0.6899999976158142, max [1.1799999475479126],  average [0.7200000286102295]\n",
      "embedding_distance_2 | min 0.07999999821186066, max [1.6699999570846558],  average [0.14000000059604645]\n"
     ]
    },
    {
     "name": "stderr",
     "output_type": "stream",
     "text": [
      "/home/yazan/Repositories/Personal/mcd-clip/src/mcd_clip/bike_rider_fit/fit_analysis/vectorizedangles.py:158: RuntimeWarning: invalid value encountered in arccos\n",
      "  alpha_1 = np.arccos((x_1 ** 2 - UL_s - x_2 ** 2) / (-2 * UL * x_2))\n",
      "/home/yazan/Repositories/Personal/mcd-clip/src/mcd_clip/bike_rider_fit/fit_analysis/demoanalysis.py:76: RuntimeWarning: invalid value encountered in arccos\n",
      "  Tksp2 = np.arccos(\n",
      "/home/yazan/Repositories/Personal/mcd-clip/src/mcd_clip/bike_rider_fit/fit_analysis/vectorizedangles.py:158: RuntimeWarning: invalid value encountered in arccos\n",
      "  alpha_1 = np.arccos((x_1 ** 2 - UL_s - x_2 ** 2) / (-2 * UL * x_2))\n"
     ]
    },
    {
     "name": "stdout",
     "output_type": "stream",
     "text": [
      "Validation result: fraction invalid [0.09]\n",
      "Validation result: fraction invalid [0.096]\n",
      "Validation result: fraction invalid [0.108]\n",
      "Validation result: fraction invalid [0.09]\n",
      "Validation result: fraction invalid [0.0]\n",
      "Validation result: fraction invalid [0.002]\n",
      "    98 |    48500 |    500 |  0.000000E+00 |  0.000000E+00 |  0.0048080528 |             f\n"
     ]
    },
    {
     "name": "stderr",
     "output_type": "stream",
     "text": [
      "/home/yazan/Repositories/Personal/mcd-clip/venv/lib/python3.10/site-packages/pymoo/operators/crossover/sbx.py:42: RuntimeWarning: divide by zero encountered in power\n",
      "  alpha = 2.0 - np.power(beta, -(eta + 1.0))\n",
      "/home/yazan/Repositories/Personal/mcd-clip/venv/lib/python3.10/site-packages/pymoo/operators/crossover/sbx.py:47: RuntimeWarning: invalid value encountered in power\n",
      "  betaq[mask] = np.power((rand * alpha), (1.0 / (eta + 1.0)))[mask]\n"
     ]
    },
    {
     "name": "stdout",
     "output_type": "stream",
     "text": [
      "Found framed material columns ['Material=Steel', 'Material=Aluminum', 'Material=Titanium']\n",
      "Mapping Material=Steel to MATERIAL OHCLASS: STEEL\n",
      "Mapping Material=Aluminum to MATERIAL OHCLASS: ALUMINUM\n",
      "Mapping Material=Titanium to MATERIAL OHCLASS: TITANIUM\n",
      "Found framed material columns ['Material=Steel', 'Material=Aluminum', 'Material=Titanium']\n",
      "Mapping Material=Steel to MATERIAL OHCLASS: STEEL\n",
      "Mapping Material=Aluminum to MATERIAL OHCLASS: ALUMINUM\n",
      "Mapping Material=Titanium to MATERIAL OHCLASS: TITANIUM\n"
     ]
    },
    {
     "name": "stderr",
     "output_type": "stream",
     "text": [
      "/home/yazan/Repositories/Personal/mcd-clip/src/mcd_clip/bike_rider_fit/fit_analysis/vectorizedangles.py:158: RuntimeWarning: invalid value encountered in arccos\n",
      "  alpha_1 = np.arccos((x_1 ** 2 - UL_s - x_2 ** 2) / (-2 * UL * x_2))\n",
      "/home/yazan/Repositories/Personal/mcd-clip/src/mcd_clip/bike_rider_fit/fit_analysis/demoanalysis.py:76: RuntimeWarning: invalid value encountered in arccos\n",
      "  Tksp2 = np.arccos(\n",
      "/home/yazan/Repositories/Personal/mcd-clip/src/mcd_clip/bike_rider_fit/fit_analysis/vectorizedangles.py:158: RuntimeWarning: invalid value encountered in arccos\n",
      "  alpha_1 = np.arccos((x_1 ** 2 - UL_s - x_2 ** 2) / (-2 * UL * x_2))\n"
     ]
    },
    {
     "name": "stdout",
     "output_type": "stream",
     "text": [
      "Found framed material columns ['Material=Steel', 'Material=Aluminum', 'Material=Titanium']\n",
      "Mapping Material=Steel to MATERIAL OHCLASS: STEEL\n",
      "Mapping Material=Aluminum to MATERIAL OHCLASS: ALUMINUM\n",
      "Mapping Material=Titanium to MATERIAL OHCLASS: TITANIUM\n",
      "embedding_distance_1 | min 0.6899999976158142, max [1.1799999475479126],  average [0.7300000190734863]\n",
      "embedding_distance_2 | min 0.09000000357627869, max [1.6699999570846558],  average [0.17000000178813934]\n",
      "Validation result: fraction invalid [0.12]\n",
      "Validation result: fraction invalid [0.084]\n",
      "Validation result: fraction invalid [0.15]\n",
      "Validation result: fraction invalid [0.138]\n",
      "Validation result: fraction invalid [0.0]\n",
      "Validation result: fraction invalid [0.0]\n",
      "    99 |    49000 |    500 |  0.000000E+00 |  0.000000E+00 |  0.0556259945 |         nadir\n"
     ]
    },
    {
     "name": "stderr",
     "output_type": "stream",
     "text": [
      "/home/yazan/Repositories/Personal/mcd-clip/venv/lib/python3.10/site-packages/pymoo/operators/crossover/sbx.py:42: RuntimeWarning: divide by zero encountered in power\n",
      "  alpha = 2.0 - np.power(beta, -(eta + 1.0))\n",
      "/home/yazan/Repositories/Personal/mcd-clip/venv/lib/python3.10/site-packages/pymoo/operators/crossover/sbx.py:47: RuntimeWarning: invalid value encountered in power\n",
      "  betaq[mask] = np.power((rand * alpha), (1.0 / (eta + 1.0)))[mask]\n",
      "/home/yazan/Repositories/Personal/mcd-clip/venv/lib/python3.10/site-packages/pymoo/operators/mutation/pm.py:45: RuntimeWarning: invalid value encountered in power\n",
      "  d = np.power(val, mut_pow) - 1.0\n"
     ]
    },
    {
     "name": "stdout",
     "output_type": "stream",
     "text": [
      "Found framed material columns ['Material=Steel', 'Material=Aluminum', 'Material=Titanium']\n",
      "Mapping Material=Steel to MATERIAL OHCLASS: STEEL\n",
      "Mapping Material=Aluminum to MATERIAL OHCLASS: ALUMINUM\n",
      "Mapping Material=Titanium to MATERIAL OHCLASS: TITANIUM\n",
      "Found framed material columns ['Material=Steel', 'Material=Aluminum', 'Material=Titanium']\n",
      "Mapping Material=Steel to MATERIAL OHCLASS: STEEL\n",
      "Mapping Material=Aluminum to MATERIAL OHCLASS: ALUMINUM\n",
      "Mapping Material=Titanium to MATERIAL OHCLASS: TITANIUM\n",
      "Found framed material columns ['Material=Steel', 'Material=Aluminum', 'Material=Titanium']\n",
      "Mapping Material=Steel to MATERIAL OHCLASS: STEEL\n",
      "Mapping Material=Aluminum to MATERIAL OHCLASS: ALUMINUM\n",
      "Mapping Material=Titanium to MATERIAL OHCLASS: TITANIUM\n"
     ]
    },
    {
     "name": "stderr",
     "output_type": "stream",
     "text": [
      "/home/yazan/Repositories/Personal/mcd-clip/src/mcd_clip/bike_rider_fit/fit_analysis/vectorizedangles.py:158: RuntimeWarning: invalid value encountered in arccos\n",
      "  alpha_1 = np.arccos((x_1 ** 2 - UL_s - x_2 ** 2) / (-2 * UL * x_2))\n",
      "/home/yazan/Repositories/Personal/mcd-clip/src/mcd_clip/bike_rider_fit/fit_analysis/demoanalysis.py:76: RuntimeWarning: invalid value encountered in arccos\n",
      "  Tksp2 = np.arccos(\n",
      "/home/yazan/Repositories/Personal/mcd-clip/src/mcd_clip/bike_rider_fit/fit_analysis/vectorizedangles.py:158: RuntimeWarning: invalid value encountered in arccos\n",
      "  alpha_1 = np.arccos((x_1 ** 2 - UL_s - x_2 ** 2) / (-2 * UL * x_2))\n"
     ]
    },
    {
     "name": "stdout",
     "output_type": "stream",
     "text": [
      "embedding_distance_1 | min 0.6899999976158142, max [1.1799999475479126],  average [0.7300000190734863]\n",
      "embedding_distance_2 | min 0.07999999821186066, max [1.690000057220459],  average [0.1599999964237213]\n",
      "Validation result: fraction invalid [0.106]\n",
      "Validation result: fraction invalid [0.086]\n",
      "Validation result: fraction invalid [0.13]\n",
      "Validation result: fraction invalid [0.144]\n",
      "Validation result: fraction invalid [0.0]\n",
      "Validation result: fraction invalid [0.0]\n",
      "   100 |    49500 |    500 |  0.000000E+00 |  0.000000E+00 |  0.0040884489 |             f\n"
     ]
    },
    {
     "name": "stderr",
     "output_type": "stream",
     "text": [
      "/home/yazan/Repositories/Personal/mcd-clip/venv/lib/python3.10/site-packages/pymoo/operators/crossover/sbx.py:42: RuntimeWarning: divide by zero encountered in power\n",
      "  alpha = 2.0 - np.power(beta, -(eta + 1.0))\n",
      "/home/yazan/Repositories/Personal/mcd-clip/venv/lib/python3.10/site-packages/pymoo/operators/crossover/sbx.py:47: RuntimeWarning: invalid value encountered in power\n",
      "  betaq[mask] = np.power((rand * alpha), (1.0 / (eta + 1.0)))[mask]\n"
     ]
    },
    {
     "name": "stdout",
     "output_type": "stream",
     "text": [
      "Found framed material columns ['Material=Steel', 'Material=Aluminum', 'Material=Titanium']\n",
      "Mapping Material=Steel to MATERIAL OHCLASS: STEEL\n",
      "Mapping Material=Aluminum to MATERIAL OHCLASS: ALUMINUM\n",
      "Mapping Material=Titanium to MATERIAL OHCLASS: TITANIUM\n",
      "Found framed material columns ['Material=Steel', 'Material=Aluminum', 'Material=Titanium']\n",
      "Mapping Material=Steel to MATERIAL OHCLASS: STEEL\n",
      "Mapping Material=Aluminum to MATERIAL OHCLASS: ALUMINUM\n",
      "Mapping Material=Titanium to MATERIAL OHCLASS: TITANIUM\n",
      "Found framed material columns ['Material=Steel', 'Material=Aluminum', 'Material=Titanium']\n",
      "Mapping Material=Steel to MATERIAL OHCLASS: STEEL\n",
      "Mapping Material=Aluminum to MATERIAL OHCLASS: ALUMINUM\n",
      "Mapping Material=Titanium to MATERIAL OHCLASS: TITANIUM\n",
      "embedding_distance_1 | min 0.699999988079071, max [1.1799999475479126],  average [0.7400000095367432]\n",
      "embedding_distance_2 | min 0.10000000149011612, max [1.6699999570846558],  average [0.1599999964237213]\n"
     ]
    },
    {
     "name": "stderr",
     "output_type": "stream",
     "text": [
      "/home/yazan/Repositories/Personal/mcd-clip/src/mcd_clip/bike_rider_fit/fit_analysis/vectorizedangles.py:158: RuntimeWarning: invalid value encountered in arccos\n",
      "  alpha_1 = np.arccos((x_1 ** 2 - UL_s - x_2 ** 2) / (-2 * UL * x_2))\n",
      "/home/yazan/Repositories/Personal/mcd-clip/src/mcd_clip/bike_rider_fit/fit_analysis/demoanalysis.py:76: RuntimeWarning: invalid value encountered in arccos\n",
      "  Tksp2 = np.arccos(\n",
      "/home/yazan/Repositories/Personal/mcd-clip/src/mcd_clip/bike_rider_fit/fit_analysis/vectorizedangles.py:158: RuntimeWarning: invalid value encountered in arccos\n",
      "  alpha_1 = np.arccos((x_1 ** 2 - UL_s - x_2 ** 2) / (-2 * UL * x_2))\n"
     ]
    },
    {
     "name": "stdout",
     "output_type": "stream",
     "text": [
      "Validation result: fraction invalid [0.066]\n",
      "Validation result: fraction invalid [0.09]\n",
      "Validation result: fraction invalid [0.098]\n",
      "Validation result: fraction invalid [0.15]\n",
      "Validation result: fraction invalid [0.0]\n",
      "Validation result: fraction invalid [0.002]\n",
      "   101 |    50000 |    500 |  0.000000E+00 |  0.000000E+00 |  0.0013929849 |             f\n"
     ]
    },
    {
     "name": "stderr",
     "output_type": "stream",
     "text": [
      "/home/yazan/Repositories/Personal/mcd-clip/venv/lib/python3.10/site-packages/pymoo/operators/crossover/sbx.py:42: RuntimeWarning: divide by zero encountered in power\n",
      "  alpha = 2.0 - np.power(beta, -(eta + 1.0))\n",
      "/home/yazan/Repositories/Personal/mcd-clip/venv/lib/python3.10/site-packages/pymoo/operators/crossover/sbx.py:47: RuntimeWarning: invalid value encountered in power\n",
      "  betaq[mask] = np.power((rand * alpha), (1.0 / (eta + 1.0)))[mask]\n",
      "/home/yazan/Repositories/Personal/mcd-clip/venv/lib/python3.10/site-packages/pymoo/operators/mutation/pm.py:45: RuntimeWarning: invalid value encountered in power\n",
      "  d = np.power(val, mut_pow) - 1.0\n"
     ]
    },
    {
     "name": "stdout",
     "output_type": "stream",
     "text": [
      "Found framed material columns ['Material=Steel', 'Material=Aluminum', 'Material=Titanium']\n",
      "Mapping Material=Steel to MATERIAL OHCLASS: STEEL\n",
      "Mapping Material=Aluminum to MATERIAL OHCLASS: ALUMINUM\n",
      "Mapping Material=Titanium to MATERIAL OHCLASS: TITANIUM\n",
      "Found framed material columns ['Material=Steel', 'Material=Aluminum', 'Material=Titanium']\n",
      "Mapping Material=Steel to MATERIAL OHCLASS: STEEL\n",
      "Mapping Material=Aluminum to MATERIAL OHCLASS: ALUMINUM\n",
      "Mapping Material=Titanium to MATERIAL OHCLASS: TITANIUM\n",
      "Found framed material columns ['Material=Steel', 'Material=Aluminum', 'Material=Titanium']\n",
      "Mapping Material=Steel to MATERIAL OHCLASS: STEEL\n",
      "Mapping Material=Aluminum to MATERIAL OHCLASS: ALUMINUM\n",
      "Mapping Material=Titanium to MATERIAL OHCLASS: TITANIUM\n",
      "embedding_distance_1 | min 0.7099999785423279, max [1.1799999475479126],  average [0.7400000095367432]\n",
      "embedding_distance_2 | min 0.10999999940395355, max [1.6699999570846558],  average [0.1599999964237213]\n"
     ]
    },
    {
     "name": "stderr",
     "output_type": "stream",
     "text": [
      "/home/yazan/Repositories/Personal/mcd-clip/src/mcd_clip/bike_rider_fit/fit_analysis/vectorizedangles.py:158: RuntimeWarning: invalid value encountered in arccos\n",
      "  alpha_1 = np.arccos((x_1 ** 2 - UL_s - x_2 ** 2) / (-2 * UL * x_2))\n",
      "/home/yazan/Repositories/Personal/mcd-clip/src/mcd_clip/bike_rider_fit/fit_analysis/demoanalysis.py:76: RuntimeWarning: invalid value encountered in arccos\n",
      "  Tksp2 = np.arccos(\n",
      "/home/yazan/Repositories/Personal/mcd-clip/src/mcd_clip/bike_rider_fit/fit_analysis/vectorizedangles.py:158: RuntimeWarning: invalid value encountered in arccos\n",
      "  alpha_1 = np.arccos((x_1 ** 2 - UL_s - x_2 ** 2) / (-2 * UL * x_2))\n"
     ]
    },
    {
     "name": "stdout",
     "output_type": "stream",
     "text": [
      "Validation result: fraction invalid [0.086]\n",
      "Validation result: fraction invalid [0.064]\n",
      "Validation result: fraction invalid [0.084]\n",
      "Validation result: fraction invalid [0.094]\n",
      "Validation result: fraction invalid [0.0]\n",
      "Validation result: fraction invalid [0.002]\n",
      "   102 |    50500 |    500 |  0.000000E+00 |  0.000000E+00 |  0.0589025049 |         nadir\n"
     ]
    },
    {
     "name": "stderr",
     "output_type": "stream",
     "text": [
      "/home/yazan/Repositories/Personal/mcd-clip/venv/lib/python3.10/site-packages/pymoo/operators/crossover/sbx.py:42: RuntimeWarning: divide by zero encountered in power\n",
      "  alpha = 2.0 - np.power(beta, -(eta + 1.0))\n",
      "/home/yazan/Repositories/Personal/mcd-clip/venv/lib/python3.10/site-packages/pymoo/operators/crossover/sbx.py:47: RuntimeWarning: invalid value encountered in power\n",
      "  betaq[mask] = np.power((rand * alpha), (1.0 / (eta + 1.0)))[mask]\n"
     ]
    },
    {
     "name": "stdout",
     "output_type": "stream",
     "text": [
      "Found framed material columns ['Material=Steel', 'Material=Aluminum', 'Material=Titanium']\n",
      "Mapping Material=Steel to MATERIAL OHCLASS: STEEL\n",
      "Mapping Material=Aluminum to MATERIAL OHCLASS: ALUMINUM\n",
      "Mapping Material=Titanium to MATERIAL OHCLASS: TITANIUM\n",
      "Found framed material columns ['Material=Steel', 'Material=Aluminum', 'Material=Titanium']\n",
      "Mapping Material=Steel to MATERIAL OHCLASS: STEEL\n",
      "Mapping Material=Aluminum to MATERIAL OHCLASS: ALUMINUM\n",
      "Mapping Material=Titanium to MATERIAL OHCLASS: TITANIUM\n",
      "Found framed material columns ['Material=Steel', 'Material=Aluminum', 'Material=Titanium']\n",
      "Mapping Material=Steel to MATERIAL OHCLASS: STEEL\n",
      "Mapping Material=Aluminum to MATERIAL OHCLASS: ALUMINUM\n",
      "Mapping Material=Titanium to MATERIAL OHCLASS: TITANIUM\n"
     ]
    },
    {
     "name": "stderr",
     "output_type": "stream",
     "text": [
      "/home/yazan/Repositories/Personal/mcd-clip/src/mcd_clip/bike_rider_fit/fit_analysis/vectorizedangles.py:158: RuntimeWarning: invalid value encountered in arccos\n",
      "  alpha_1 = np.arccos((x_1 ** 2 - UL_s - x_2 ** 2) / (-2 * UL * x_2))\n",
      "/home/yazan/Repositories/Personal/mcd-clip/src/mcd_clip/bike_rider_fit/fit_analysis/demoanalysis.py:76: RuntimeWarning: invalid value encountered in arccos\n",
      "  Tksp2 = np.arccos(\n",
      "/home/yazan/Repositories/Personal/mcd-clip/src/mcd_clip/bike_rider_fit/fit_analysis/vectorizedangles.py:158: RuntimeWarning: invalid value encountered in arccos\n",
      "  alpha_1 = np.arccos((x_1 ** 2 - UL_s - x_2 ** 2) / (-2 * UL * x_2))\n"
     ]
    },
    {
     "name": "stdout",
     "output_type": "stream",
     "text": [
      "embedding_distance_1 | min 0.6899999976158142, max [1.1799999475479126],  average [0.7200000286102295]\n",
      "embedding_distance_2 | min 0.07999999821186066, max [1.6699999570846558],  average [0.14000000059604645]\n",
      "Validation result: fraction invalid [0.064]\n",
      "Validation result: fraction invalid [0.078]\n",
      "Validation result: fraction invalid [0.102]\n",
      "Validation result: fraction invalid [0.082]\n",
      "Validation result: fraction invalid [0.0]\n",
      "Validation result: fraction invalid [0.004]\n",
      "   103 |    51000 |    500 |  0.000000E+00 |  0.000000E+00 |  0.0058646300 |             f\n"
     ]
    },
    {
     "name": "stderr",
     "output_type": "stream",
     "text": [
      "/home/yazan/Repositories/Personal/mcd-clip/venv/lib/python3.10/site-packages/pymoo/operators/crossover/sbx.py:42: RuntimeWarning: divide by zero encountered in power\n",
      "  alpha = 2.0 - np.power(beta, -(eta + 1.0))\n",
      "/home/yazan/Repositories/Personal/mcd-clip/venv/lib/python3.10/site-packages/pymoo/operators/crossover/sbx.py:47: RuntimeWarning: invalid value encountered in power\n",
      "  betaq[mask] = np.power((rand * alpha), (1.0 / (eta + 1.0)))[mask]\n"
     ]
    },
    {
     "name": "stdout",
     "output_type": "stream",
     "text": [
      "Found framed material columns ['Material=Steel', 'Material=Aluminum', 'Material=Titanium']\n",
      "Mapping Material=Steel to MATERIAL OHCLASS: STEEL\n",
      "Mapping Material=Aluminum to MATERIAL OHCLASS: ALUMINUM\n",
      "Mapping Material=Titanium to MATERIAL OHCLASS: TITANIUM\n",
      "Found framed material columns ['Material=Steel', 'Material=Aluminum', 'Material=Titanium']\n",
      "Mapping Material=Steel to MATERIAL OHCLASS: STEEL\n",
      "Mapping Material=Aluminum to MATERIAL OHCLASS: ALUMINUM\n",
      "Mapping Material=Titanium to MATERIAL OHCLASS: TITANIUM\n",
      "Found framed material columns ['Material=Steel', 'Material=Aluminum', 'Material=Titanium']\n",
      "Mapping Material=Steel to MATERIAL OHCLASS: STEEL\n",
      "Mapping Material=Aluminum to MATERIAL OHCLASS: ALUMINUM\n",
      "Mapping Material=Titanium to MATERIAL OHCLASS: TITANIUM\n",
      "embedding_distance_1 | min 0.6899999976158142, max [0.7599999904632568],  average [0.7200000286102295]\n",
      "embedding_distance_2 | min 0.07999999821186066, max [0.18000000715255737],  average [0.11999999731779099]\n"
     ]
    },
    {
     "name": "stderr",
     "output_type": "stream",
     "text": [
      "/home/yazan/Repositories/Personal/mcd-clip/src/mcd_clip/bike_rider_fit/fit_analysis/vectorizedangles.py:158: RuntimeWarning: invalid value encountered in arccos\n",
      "  alpha_1 = np.arccos((x_1 ** 2 - UL_s - x_2 ** 2) / (-2 * UL * x_2))\n",
      "/home/yazan/Repositories/Personal/mcd-clip/src/mcd_clip/bike_rider_fit/fit_analysis/demoanalysis.py:76: RuntimeWarning: invalid value encountered in arccos\n",
      "  Tksp2 = np.arccos(\n",
      "/home/yazan/Repositories/Personal/mcd-clip/src/mcd_clip/bike_rider_fit/fit_analysis/vectorizedangles.py:158: RuntimeWarning: invalid value encountered in arccos\n",
      "  alpha_1 = np.arccos((x_1 ** 2 - UL_s - x_2 ** 2) / (-2 * UL * x_2))\n"
     ]
    },
    {
     "name": "stdout",
     "output_type": "stream",
     "text": [
      "Validation result: fraction invalid [0.09]\n",
      "Validation result: fraction invalid [0.086]\n",
      "Validation result: fraction invalid [0.076]\n",
      "Validation result: fraction invalid [0.11]\n",
      "Validation result: fraction invalid [0.0]\n",
      "Validation result: fraction invalid [0.0]\n",
      "   104 |    51500 |    500 |  0.000000E+00 |  0.000000E+00 |  0.0048640488 |             f\n"
     ]
    },
    {
     "name": "stderr",
     "output_type": "stream",
     "text": [
      "/home/yazan/Repositories/Personal/mcd-clip/venv/lib/python3.10/site-packages/pymoo/operators/crossover/sbx.py:42: RuntimeWarning: divide by zero encountered in power\n",
      "  alpha = 2.0 - np.power(beta, -(eta + 1.0))\n",
      "/home/yazan/Repositories/Personal/mcd-clip/venv/lib/python3.10/site-packages/pymoo/operators/crossover/sbx.py:47: RuntimeWarning: invalid value encountered in power\n",
      "  betaq[mask] = np.power((rand * alpha), (1.0 / (eta + 1.0)))[mask]\n"
     ]
    },
    {
     "name": "stdout",
     "output_type": "stream",
     "text": [
      "Found framed material columns ['Material=Steel', 'Material=Aluminum', 'Material=Titanium']\n",
      "Mapping Material=Steel to MATERIAL OHCLASS: STEEL\n",
      "Mapping Material=Aluminum to MATERIAL OHCLASS: ALUMINUM\n",
      "Mapping Material=Titanium to MATERIAL OHCLASS: TITANIUM\n",
      "Found framed material columns ['Material=Steel', 'Material=Aluminum', 'Material=Titanium']\n",
      "Mapping Material=Steel to MATERIAL OHCLASS: STEEL\n",
      "Mapping Material=Aluminum to MATERIAL OHCLASS: ALUMINUM\n",
      "Mapping Material=Titanium to MATERIAL OHCLASS: TITANIUM\n",
      "Found framed material columns ['Material=Steel', 'Material=Aluminum', 'Material=Titanium']\n",
      "Mapping Material=Steel to MATERIAL OHCLASS: STEEL\n",
      "Mapping Material=Aluminum to MATERIAL OHCLASS: ALUMINUM\n",
      "Mapping Material=Titanium to MATERIAL OHCLASS: TITANIUM\n",
      "embedding_distance_1 | min 0.6899999976158142, max [1.1799999475479126],  average [0.7400000095367432]\n",
      "embedding_distance_2 | min 0.09000000357627869, max [1.6799999475479126],  average [0.1899999976158142]\n"
     ]
    },
    {
     "name": "stderr",
     "output_type": "stream",
     "text": [
      "/home/yazan/Repositories/Personal/mcd-clip/src/mcd_clip/bike_rider_fit/fit_analysis/vectorizedangles.py:158: RuntimeWarning: invalid value encountered in arccos\n",
      "  alpha_1 = np.arccos((x_1 ** 2 - UL_s - x_2 ** 2) / (-2 * UL * x_2))\n",
      "/home/yazan/Repositories/Personal/mcd-clip/src/mcd_clip/bike_rider_fit/fit_analysis/demoanalysis.py:76: RuntimeWarning: invalid value encountered in arccos\n",
      "  Tksp2 = np.arccos(\n",
      "/home/yazan/Repositories/Personal/mcd-clip/src/mcd_clip/bike_rider_fit/fit_analysis/vectorizedangles.py:158: RuntimeWarning: invalid value encountered in arccos\n",
      "  alpha_1 = np.arccos((x_1 ** 2 - UL_s - x_2 ** 2) / (-2 * UL * x_2))\n"
     ]
    },
    {
     "name": "stdout",
     "output_type": "stream",
     "text": [
      "Validation result: fraction invalid [0.092]\n",
      "Validation result: fraction invalid [0.1]\n",
      "Validation result: fraction invalid [0.142]\n",
      "Validation result: fraction invalid [0.14]\n",
      "Validation result: fraction invalid [0.0]\n",
      "Validation result: fraction invalid [0.0]\n",
      "   105 |    52000 |    496 |  0.000000E+00 |  0.000000E+00 |  0.0036003206 |             f\n"
     ]
    },
    {
     "name": "stderr",
     "output_type": "stream",
     "text": [
      "/home/yazan/Repositories/Personal/mcd-clip/venv/lib/python3.10/site-packages/pymoo/operators/crossover/sbx.py:42: RuntimeWarning: divide by zero encountered in power\n",
      "  alpha = 2.0 - np.power(beta, -(eta + 1.0))\n",
      "/home/yazan/Repositories/Personal/mcd-clip/venv/lib/python3.10/site-packages/pymoo/operators/crossover/sbx.py:47: RuntimeWarning: invalid value encountered in power\n",
      "  betaq[mask] = np.power((rand * alpha), (1.0 / (eta + 1.0)))[mask]\n",
      "/home/yazan/Repositories/Personal/mcd-clip/venv/lib/python3.10/site-packages/pymoo/operators/crossover/sbx.py:42: RuntimeWarning: divide by zero encountered in power\n",
      "  alpha = 2.0 - np.power(beta, -(eta + 1.0))\n",
      "/home/yazan/Repositories/Personal/mcd-clip/venv/lib/python3.10/site-packages/pymoo/operators/crossover/sbx.py:47: RuntimeWarning: invalid value encountered in power\n",
      "  betaq[mask] = np.power((rand * alpha), (1.0 / (eta + 1.0)))[mask]\n"
     ]
    },
    {
     "name": "stdout",
     "output_type": "stream",
     "text": [
      "Found framed material columns ['Material=Steel', 'Material=Aluminum', 'Material=Titanium']\n",
      "Mapping Material=Steel to MATERIAL OHCLASS: STEEL\n",
      "Mapping Material=Aluminum to MATERIAL OHCLASS: ALUMINUM\n",
      "Mapping Material=Titanium to MATERIAL OHCLASS: TITANIUM\n",
      "Found framed material columns ['Material=Steel', 'Material=Aluminum', 'Material=Titanium']\n",
      "Mapping Material=Steel to MATERIAL OHCLASS: STEEL\n",
      "Mapping Material=Aluminum to MATERIAL OHCLASS: ALUMINUM\n",
      "Mapping Material=Titanium to MATERIAL OHCLASS: TITANIUM\n",
      "Found framed material columns ['Material=Steel', 'Material=Aluminum', 'Material=Titanium']\n",
      "Mapping Material=Steel to MATERIAL OHCLASS: STEEL\n",
      "Mapping Material=Aluminum to MATERIAL OHCLASS: ALUMINUM\n",
      "Mapping Material=Titanium to MATERIAL OHCLASS: TITANIUM\n"
     ]
    },
    {
     "name": "stderr",
     "output_type": "stream",
     "text": [
      "/home/yazan/Repositories/Personal/mcd-clip/src/mcd_clip/bike_rider_fit/fit_analysis/vectorizedangles.py:158: RuntimeWarning: invalid value encountered in arccos\n",
      "  alpha_1 = np.arccos((x_1 ** 2 - UL_s - x_2 ** 2) / (-2 * UL * x_2))\n",
      "/home/yazan/Repositories/Personal/mcd-clip/src/mcd_clip/bike_rider_fit/fit_analysis/demoanalysis.py:76: RuntimeWarning: invalid value encountered in arccos\n",
      "  Tksp2 = np.arccos(\n",
      "/home/yazan/Repositories/Personal/mcd-clip/src/mcd_clip/bike_rider_fit/fit_analysis/vectorizedangles.py:158: RuntimeWarning: invalid value encountered in arccos\n",
      "  alpha_1 = np.arccos((x_1 ** 2 - UL_s - x_2 ** 2) / (-2 * UL * x_2))\n"
     ]
    },
    {
     "name": "stdout",
     "output_type": "stream",
     "text": [
      "embedding_distance_1 | min 0.6899999976158142, max [1.1799999475479126],  average [0.7300000190734863]\n",
      "embedding_distance_2 | min 0.09000000357627869, max [1.6799999475479126],  average [0.15000000596046448]\n",
      "Validation result: fraction invalid [0.086]\n",
      "Validation result: fraction invalid [0.084]\n",
      "Validation result: fraction invalid [0.11]\n",
      "Validation result: fraction invalid [0.1]\n",
      "Validation result: fraction invalid [0.0]\n",
      "Validation result: fraction invalid [0.002]\n",
      "   106 |    52500 |    500 |  0.000000E+00 |  0.000000E+00 |  0.0041483202 |             f\n"
     ]
    },
    {
     "name": "stderr",
     "output_type": "stream",
     "text": [
      "/home/yazan/Repositories/Personal/mcd-clip/venv/lib/python3.10/site-packages/pymoo/operators/crossover/sbx.py:42: RuntimeWarning: divide by zero encountered in power\n",
      "  alpha = 2.0 - np.power(beta, -(eta + 1.0))\n",
      "/home/yazan/Repositories/Personal/mcd-clip/venv/lib/python3.10/site-packages/pymoo/operators/crossover/sbx.py:47: RuntimeWarning: invalid value encountered in power\n",
      "  betaq[mask] = np.power((rand * alpha), (1.0 / (eta + 1.0)))[mask]\n"
     ]
    },
    {
     "name": "stdout",
     "output_type": "stream",
     "text": [
      "Found framed material columns ['Material=Steel', 'Material=Aluminum', 'Material=Titanium']\n",
      "Mapping Material=Steel to MATERIAL OHCLASS: STEEL\n",
      "Mapping Material=Aluminum to MATERIAL OHCLASS: ALUMINUM\n",
      "Mapping Material=Titanium to MATERIAL OHCLASS: TITANIUM\n",
      "Found framed material columns ['Material=Steel', 'Material=Aluminum', 'Material=Titanium']\n",
      "Mapping Material=Steel to MATERIAL OHCLASS: STEEL\n",
      "Mapping Material=Aluminum to MATERIAL OHCLASS: ALUMINUM\n",
      "Mapping Material=Titanium to MATERIAL OHCLASS: TITANIUM\n"
     ]
    },
    {
     "name": "stderr",
     "output_type": "stream",
     "text": [
      "/home/yazan/Repositories/Personal/mcd-clip/src/mcd_clip/bike_rider_fit/fit_analysis/vectorizedangles.py:158: RuntimeWarning: invalid value encountered in arccos\n",
      "  alpha_1 = np.arccos((x_1 ** 2 - UL_s - x_2 ** 2) / (-2 * UL * x_2))\n",
      "/home/yazan/Repositories/Personal/mcd-clip/src/mcd_clip/bike_rider_fit/fit_analysis/demoanalysis.py:76: RuntimeWarning: invalid value encountered in arccos\n",
      "  Tksp2 = np.arccos(\n",
      "/home/yazan/Repositories/Personal/mcd-clip/src/mcd_clip/bike_rider_fit/fit_analysis/vectorizedangles.py:158: RuntimeWarning: invalid value encountered in arccos\n",
      "  alpha_1 = np.arccos((x_1 ** 2 - UL_s - x_2 ** 2) / (-2 * UL * x_2))\n"
     ]
    },
    {
     "name": "stdout",
     "output_type": "stream",
     "text": [
      "Found framed material columns ['Material=Steel', 'Material=Aluminum', 'Material=Titanium']\n",
      "Mapping Material=Steel to MATERIAL OHCLASS: STEEL\n",
      "Mapping Material=Aluminum to MATERIAL OHCLASS: ALUMINUM\n",
      "Mapping Material=Titanium to MATERIAL OHCLASS: TITANIUM\n",
      "embedding_distance_1 | min 0.6899999976158142, max [1.1799999475479126],  average [0.7300000190734863]\n",
      "embedding_distance_2 | min 0.07999999821186066, max [1.6799999475479126],  average [0.17000000178813934]\n",
      "Validation result: fraction invalid [0.104]\n",
      "Validation result: fraction invalid [0.09]\n",
      "Validation result: fraction invalid [0.136]\n",
      "Validation result: fraction invalid [0.082]\n",
      "Validation result: fraction invalid [0.0]\n",
      "Validation result: fraction invalid [0.0]\n",
      "   107 |    53000 |    500 |  0.000000E+00 |  0.000000E+00 |  0.0420152092 |         nadir\n"
     ]
    },
    {
     "name": "stderr",
     "output_type": "stream",
     "text": [
      "/home/yazan/Repositories/Personal/mcd-clip/venv/lib/python3.10/site-packages/pymoo/operators/crossover/sbx.py:42: RuntimeWarning: divide by zero encountered in power\n",
      "  alpha = 2.0 - np.power(beta, -(eta + 1.0))\n",
      "/home/yazan/Repositories/Personal/mcd-clip/venv/lib/python3.10/site-packages/pymoo/operators/crossover/sbx.py:47: RuntimeWarning: invalid value encountered in power\n",
      "  betaq[mask] = np.power((rand * alpha), (1.0 / (eta + 1.0)))[mask]\n"
     ]
    },
    {
     "name": "stdout",
     "output_type": "stream",
     "text": [
      "Found framed material columns ['Material=Steel', 'Material=Aluminum', 'Material=Titanium']\n",
      "Mapping Material=Steel to MATERIAL OHCLASS: STEEL\n",
      "Mapping Material=Aluminum to MATERIAL OHCLASS: ALUMINUM\n",
      "Mapping Material=Titanium to MATERIAL OHCLASS: TITANIUM\n",
      "Found framed material columns ['Material=Steel', 'Material=Aluminum', 'Material=Titanium']\n",
      "Mapping Material=Steel to MATERIAL OHCLASS: STEEL\n",
      "Mapping Material=Aluminum to MATERIAL OHCLASS: ALUMINUM\n",
      "Mapping Material=Titanium to MATERIAL OHCLASS: TITANIUM\n",
      "Found framed material columns ['Material=Steel', 'Material=Aluminum', 'Material=Titanium']\n",
      "Mapping Material=Steel to MATERIAL OHCLASS: STEEL\n",
      "Mapping Material=Aluminum to MATERIAL OHCLASS: ALUMINUM\n",
      "Mapping Material=Titanium to MATERIAL OHCLASS: TITANIUM\n",
      "embedding_distance_1 | min 0.6899999976158142, max [1.1799999475479126],  average [0.7300000190734863]\n",
      "embedding_distance_2 | min 0.07999999821186066, max [1.6799999475479126],  average [0.1599999964237213]\n"
     ]
    },
    {
     "name": "stderr",
     "output_type": "stream",
     "text": [
      "/home/yazan/Repositories/Personal/mcd-clip/src/mcd_clip/bike_rider_fit/fit_analysis/vectorizedangles.py:158: RuntimeWarning: invalid value encountered in arccos\n",
      "  alpha_1 = np.arccos((x_1 ** 2 - UL_s - x_2 ** 2) / (-2 * UL * x_2))\n",
      "/home/yazan/Repositories/Personal/mcd-clip/src/mcd_clip/bike_rider_fit/fit_analysis/demoanalysis.py:76: RuntimeWarning: invalid value encountered in arccos\n",
      "  Tksp2 = np.arccos(\n",
      "/home/yazan/Repositories/Personal/mcd-clip/src/mcd_clip/bike_rider_fit/fit_analysis/vectorizedangles.py:158: RuntimeWarning: invalid value encountered in arccos\n",
      "  alpha_1 = np.arccos((x_1 ** 2 - UL_s - x_2 ** 2) / (-2 * UL * x_2))\n"
     ]
    },
    {
     "name": "stdout",
     "output_type": "stream",
     "text": [
      "Validation result: fraction invalid [0.068]\n",
      "Validation result: fraction invalid [0.072]\n",
      "Validation result: fraction invalid [0.082]\n",
      "Validation result: fraction invalid [0.104]\n",
      "Validation result: fraction invalid [0.0]\n",
      "Validation result: fraction invalid [0.008]\n",
      "   108 |    53500 |    500 |  0.000000E+00 |  0.000000E+00 |  0.0068172067 |             f\n"
     ]
    },
    {
     "name": "stderr",
     "output_type": "stream",
     "text": [
      "/home/yazan/Repositories/Personal/mcd-clip/venv/lib/python3.10/site-packages/pymoo/operators/crossover/sbx.py:47: RuntimeWarning: invalid value encountered in power\n",
      "  betaq[mask] = np.power((rand * alpha), (1.0 / (eta + 1.0)))[mask]\n",
      "/home/yazan/Repositories/Personal/mcd-clip/venv/lib/python3.10/site-packages/pymoo/operators/mutation/pm.py:45: RuntimeWarning: invalid value encountered in power\n",
      "  d = np.power(val, mut_pow) - 1.0\n"
     ]
    },
    {
     "name": "stdout",
     "output_type": "stream",
     "text": [
      "Found framed material columns ['Material=Steel', 'Material=Aluminum', 'Material=Titanium']\n",
      "Mapping Material=Steel to MATERIAL OHCLASS: STEEL\n",
      "Mapping Material=Aluminum to MATERIAL OHCLASS: ALUMINUM\n",
      "Mapping Material=Titanium to MATERIAL OHCLASS: TITANIUM\n",
      "Found framed material columns ['Material=Steel', 'Material=Aluminum', 'Material=Titanium']\n",
      "Mapping Material=Steel to MATERIAL OHCLASS: STEEL\n",
      "Mapping Material=Aluminum to MATERIAL OHCLASS: ALUMINUM\n",
      "Mapping Material=Titanium to MATERIAL OHCLASS: TITANIUM\n"
     ]
    },
    {
     "name": "stderr",
     "output_type": "stream",
     "text": [
      "/home/yazan/Repositories/Personal/mcd-clip/src/mcd_clip/bike_rider_fit/fit_analysis/vectorizedangles.py:158: RuntimeWarning: invalid value encountered in arccos\n",
      "  alpha_1 = np.arccos((x_1 ** 2 - UL_s - x_2 ** 2) / (-2 * UL * x_2))\n",
      "/home/yazan/Repositories/Personal/mcd-clip/src/mcd_clip/bike_rider_fit/fit_analysis/demoanalysis.py:76: RuntimeWarning: invalid value encountered in arccos\n",
      "  Tksp2 = np.arccos(\n",
      "/home/yazan/Repositories/Personal/mcd-clip/src/mcd_clip/bike_rider_fit/fit_analysis/vectorizedangles.py:158: RuntimeWarning: invalid value encountered in arccos\n",
      "  alpha_1 = np.arccos((x_1 ** 2 - UL_s - x_2 ** 2) / (-2 * UL * x_2))\n"
     ]
    },
    {
     "name": "stdout",
     "output_type": "stream",
     "text": [
      "Found framed material columns ['Material=Steel', 'Material=Aluminum', 'Material=Titanium']\n",
      "Mapping Material=Steel to MATERIAL OHCLASS: STEEL\n",
      "Mapping Material=Aluminum to MATERIAL OHCLASS: ALUMINUM\n",
      "Mapping Material=Titanium to MATERIAL OHCLASS: TITANIUM\n",
      "embedding_distance_1 | min 0.699999988079071, max [1.1799999475479126],  average [0.7400000095367432]\n",
      "embedding_distance_2 | min 0.10999999940395355, max [1.6699999570846558],  average [0.15000000596046448]\n",
      "Validation result: fraction invalid [0.072]\n",
      "Validation result: fraction invalid [0.074]\n",
      "Validation result: fraction invalid [0.1]\n",
      "Validation result: fraction invalid [0.118]\n",
      "Validation result: fraction invalid [0.0]\n",
      "Validation result: fraction invalid [0.0]\n",
      "   109 |    54000 |    500 |  0.000000E+00 |  0.000000E+00 |  0.0010775592 |             f\n"
     ]
    },
    {
     "name": "stderr",
     "output_type": "stream",
     "text": [
      "/home/yazan/Repositories/Personal/mcd-clip/venv/lib/python3.10/site-packages/pymoo/operators/crossover/sbx.py:42: RuntimeWarning: divide by zero encountered in power\n",
      "  alpha = 2.0 - np.power(beta, -(eta + 1.0))\n",
      "/home/yazan/Repositories/Personal/mcd-clip/venv/lib/python3.10/site-packages/pymoo/operators/crossover/sbx.py:47: RuntimeWarning: invalid value encountered in power\n",
      "  betaq[mask] = np.power((rand * alpha), (1.0 / (eta + 1.0)))[mask]\n"
     ]
    },
    {
     "name": "stdout",
     "output_type": "stream",
     "text": [
      "Found framed material columns ['Material=Steel', 'Material=Aluminum', 'Material=Titanium']\n",
      "Mapping Material=Steel to MATERIAL OHCLASS: STEEL\n",
      "Mapping Material=Aluminum to MATERIAL OHCLASS: ALUMINUM\n",
      "Mapping Material=Titanium to MATERIAL OHCLASS: TITANIUM\n",
      "Found framed material columns ['Material=Steel', 'Material=Aluminum', 'Material=Titanium']\n",
      "Mapping Material=Steel to MATERIAL OHCLASS: STEEL\n",
      "Mapping Material=Aluminum to MATERIAL OHCLASS: ALUMINUM\n",
      "Mapping Material=Titanium to MATERIAL OHCLASS: TITANIUM\n",
      "Found framed material columns ['Material=Steel', 'Material=Aluminum', 'Material=Titanium']\n",
      "Mapping Material=Steel to MATERIAL OHCLASS: STEEL\n",
      "Mapping Material=Aluminum to MATERIAL OHCLASS: ALUMINUM\n",
      "Mapping Material=Titanium to MATERIAL OHCLASS: TITANIUM\n",
      "embedding_distance_1 | min 0.6899999976158142, max [1.1799999475479126],  average [0.7400000095367432]\n",
      "embedding_distance_2 | min 0.09000000357627869, max [1.690000057220459],  average [0.17000000178813934]\n"
     ]
    },
    {
     "name": "stderr",
     "output_type": "stream",
     "text": [
      "/home/yazan/Repositories/Personal/mcd-clip/src/mcd_clip/bike_rider_fit/fit_analysis/vectorizedangles.py:158: RuntimeWarning: invalid value encountered in arccos\n",
      "  alpha_1 = np.arccos((x_1 ** 2 - UL_s - x_2 ** 2) / (-2 * UL * x_2))\n",
      "/home/yazan/Repositories/Personal/mcd-clip/src/mcd_clip/bike_rider_fit/fit_analysis/demoanalysis.py:76: RuntimeWarning: invalid value encountered in arccos\n",
      "  Tksp2 = np.arccos(\n",
      "/home/yazan/Repositories/Personal/mcd-clip/src/mcd_clip/bike_rider_fit/fit_analysis/vectorizedangles.py:158: RuntimeWarning: invalid value encountered in arccos\n",
      "  alpha_1 = np.arccos((x_1 ** 2 - UL_s - x_2 ** 2) / (-2 * UL * x_2))\n"
     ]
    },
    {
     "name": "stdout",
     "output_type": "stream",
     "text": [
      "Validation result: fraction invalid [0.122]\n",
      "Validation result: fraction invalid [0.074]\n",
      "Validation result: fraction invalid [0.144]\n",
      "Validation result: fraction invalid [0.15]\n",
      "Validation result: fraction invalid [0.0]\n",
      "Validation result: fraction invalid [0.0]\n",
      "   110 |    54500 |    500 |  0.000000E+00 |  0.000000E+00 |  0.0032136027 |             f\n"
     ]
    },
    {
     "name": "stderr",
     "output_type": "stream",
     "text": [
      "/home/yazan/Repositories/Personal/mcd-clip/venv/lib/python3.10/site-packages/pymoo/operators/crossover/sbx.py:42: RuntimeWarning: divide by zero encountered in power\n",
      "  alpha = 2.0 - np.power(beta, -(eta + 1.0))\n",
      "/home/yazan/Repositories/Personal/mcd-clip/venv/lib/python3.10/site-packages/pymoo/operators/crossover/sbx.py:47: RuntimeWarning: invalid value encountered in power\n",
      "  betaq[mask] = np.power((rand * alpha), (1.0 / (eta + 1.0)))[mask]\n"
     ]
    },
    {
     "name": "stdout",
     "output_type": "stream",
     "text": [
      "Found framed material columns ['Material=Steel', 'Material=Aluminum', 'Material=Titanium']\n",
      "Mapping Material=Steel to MATERIAL OHCLASS: STEEL\n",
      "Mapping Material=Aluminum to MATERIAL OHCLASS: ALUMINUM\n",
      "Mapping Material=Titanium to MATERIAL OHCLASS: TITANIUM\n",
      "Found framed material columns ['Material=Steel', 'Material=Aluminum', 'Material=Titanium']\n",
      "Mapping Material=Steel to MATERIAL OHCLASS: STEEL\n",
      "Mapping Material=Aluminum to MATERIAL OHCLASS: ALUMINUM\n",
      "Mapping Material=Titanium to MATERIAL OHCLASS: TITANIUM\n",
      "Found framed material columns ['Material=Steel', 'Material=Aluminum', 'Material=Titanium']\n",
      "Mapping Material=Steel to MATERIAL OHCLASS: STEEL\n",
      "Mapping Material=Aluminum to MATERIAL OHCLASS: ALUMINUM\n",
      "Mapping Material=Titanium to MATERIAL OHCLASS: TITANIUM\n",
      "embedding_distance_1 | min 0.699999988079071, max [1.1799999475479126],  average [0.7400000095367432]\n",
      "embedding_distance_2 | min 0.10999999940395355, max [1.6799999475479126],  average [0.1599999964237213]\n"
     ]
    },
    {
     "name": "stderr",
     "output_type": "stream",
     "text": [
      "/home/yazan/Repositories/Personal/mcd-clip/src/mcd_clip/bike_rider_fit/fit_analysis/vectorizedangles.py:158: RuntimeWarning: invalid value encountered in arccos\n",
      "  alpha_1 = np.arccos((x_1 ** 2 - UL_s - x_2 ** 2) / (-2 * UL * x_2))\n",
      "/home/yazan/Repositories/Personal/mcd-clip/src/mcd_clip/bike_rider_fit/fit_analysis/demoanalysis.py:76: RuntimeWarning: invalid value encountered in arccos\n",
      "  Tksp2 = np.arccos(\n",
      "/home/yazan/Repositories/Personal/mcd-clip/src/mcd_clip/bike_rider_fit/fit_analysis/vectorizedangles.py:158: RuntimeWarning: invalid value encountered in arccos\n",
      "  alpha_1 = np.arccos((x_1 ** 2 - UL_s - x_2 ** 2) / (-2 * UL * x_2))\n"
     ]
    },
    {
     "name": "stdout",
     "output_type": "stream",
     "text": [
      "Validation result: fraction invalid [0.046]\n",
      "Validation result: fraction invalid [0.074]\n",
      "Validation result: fraction invalid [0.08]\n",
      "Validation result: fraction invalid [0.102]\n",
      "Validation result: fraction invalid [0.0]\n",
      "Validation result: fraction invalid [0.0]\n",
      "   111 |    55000 |    500 |  0.000000E+00 |  0.000000E+00 |  0.0013180122 |             f\n"
     ]
    },
    {
     "name": "stderr",
     "output_type": "stream",
     "text": [
      "/home/yazan/Repositories/Personal/mcd-clip/venv/lib/python3.10/site-packages/pymoo/operators/crossover/sbx.py:42: RuntimeWarning: divide by zero encountered in power\n",
      "  alpha = 2.0 - np.power(beta, -(eta + 1.0))\n",
      "/home/yazan/Repositories/Personal/mcd-clip/venv/lib/python3.10/site-packages/pymoo/operators/crossover/sbx.py:47: RuntimeWarning: invalid value encountered in power\n",
      "  betaq[mask] = np.power((rand * alpha), (1.0 / (eta + 1.0)))[mask]\n"
     ]
    },
    {
     "name": "stdout",
     "output_type": "stream",
     "text": [
      "Found framed material columns ['Material=Steel', 'Material=Aluminum', 'Material=Titanium']\n",
      "Mapping Material=Steel to MATERIAL OHCLASS: STEEL\n",
      "Mapping Material=Aluminum to MATERIAL OHCLASS: ALUMINUM\n",
      "Mapping Material=Titanium to MATERIAL OHCLASS: TITANIUM\n",
      "Found framed material columns ['Material=Steel', 'Material=Aluminum', 'Material=Titanium']\n",
      "Mapping Material=Steel to MATERIAL OHCLASS: STEEL\n",
      "Mapping Material=Aluminum to MATERIAL OHCLASS: ALUMINUM\n",
      "Mapping Material=Titanium to MATERIAL OHCLASS: TITANIUM\n"
     ]
    },
    {
     "name": "stderr",
     "output_type": "stream",
     "text": [
      "/home/yazan/Repositories/Personal/mcd-clip/src/mcd_clip/bike_rider_fit/fit_analysis/vectorizedangles.py:158: RuntimeWarning: invalid value encountered in arccos\n",
      "  alpha_1 = np.arccos((x_1 ** 2 - UL_s - x_2 ** 2) / (-2 * UL * x_2))\n",
      "/home/yazan/Repositories/Personal/mcd-clip/src/mcd_clip/bike_rider_fit/fit_analysis/demoanalysis.py:76: RuntimeWarning: invalid value encountered in arccos\n",
      "  Tksp2 = np.arccos(\n",
      "/home/yazan/Repositories/Personal/mcd-clip/src/mcd_clip/bike_rider_fit/fit_analysis/vectorizedangles.py:158: RuntimeWarning: invalid value encountered in arccos\n",
      "  alpha_1 = np.arccos((x_1 ** 2 - UL_s - x_2 ** 2) / (-2 * UL * x_2))\n"
     ]
    },
    {
     "name": "stdout",
     "output_type": "stream",
     "text": [
      "Found framed material columns ['Material=Steel', 'Material=Aluminum', 'Material=Titanium']\n",
      "Mapping Material=Steel to MATERIAL OHCLASS: STEEL\n",
      "Mapping Material=Aluminum to MATERIAL OHCLASS: ALUMINUM\n",
      "Mapping Material=Titanium to MATERIAL OHCLASS: TITANIUM\n",
      "embedding_distance_1 | min 0.6899999976158142, max [1.1799999475479126],  average [0.7200000286102295]\n",
      "embedding_distance_2 | min 0.07999999821186066, max [1.6799999475479126],  average [0.14000000059604645]\n",
      "Validation result: fraction invalid [0.086]\n",
      "Validation result: fraction invalid [0.086]\n",
      "Validation result: fraction invalid [0.102]\n",
      "Validation result: fraction invalid [0.084]\n",
      "Validation result: fraction invalid [0.0]\n",
      "Validation result: fraction invalid [0.002]\n",
      "   112 |    55500 |    500 |  0.000000E+00 |  0.000000E+00 |  0.0055776146 |             f\n"
     ]
    },
    {
     "name": "stderr",
     "output_type": "stream",
     "text": [
      "/home/yazan/Repositories/Personal/mcd-clip/venv/lib/python3.10/site-packages/pymoo/operators/crossover/sbx.py:42: RuntimeWarning: divide by zero encountered in power\n",
      "  alpha = 2.0 - np.power(beta, -(eta + 1.0))\n",
      "/home/yazan/Repositories/Personal/mcd-clip/venv/lib/python3.10/site-packages/pymoo/operators/crossover/sbx.py:47: RuntimeWarning: invalid value encountered in power\n",
      "  betaq[mask] = np.power((rand * alpha), (1.0 / (eta + 1.0)))[mask]\n"
     ]
    },
    {
     "name": "stdout",
     "output_type": "stream",
     "text": [
      "Found framed material columns ['Material=Steel', 'Material=Aluminum', 'Material=Titanium']\n",
      "Mapping Material=Steel to MATERIAL OHCLASS: STEEL\n",
      "Mapping Material=Aluminum to MATERIAL OHCLASS: ALUMINUM\n",
      "Mapping Material=Titanium to MATERIAL OHCLASS: TITANIUM\n",
      "Found framed material columns ['Material=Steel', 'Material=Aluminum', 'Material=Titanium']\n",
      "Mapping Material=Steel to MATERIAL OHCLASS: STEEL\n",
      "Mapping Material=Aluminum to MATERIAL OHCLASS: ALUMINUM\n",
      "Mapping Material=Titanium to MATERIAL OHCLASS: TITANIUM\n"
     ]
    },
    {
     "name": "stderr",
     "output_type": "stream",
     "text": [
      "/home/yazan/Repositories/Personal/mcd-clip/src/mcd_clip/bike_rider_fit/fit_analysis/vectorizedangles.py:158: RuntimeWarning: invalid value encountered in arccos\n",
      "  alpha_1 = np.arccos((x_1 ** 2 - UL_s - x_2 ** 2) / (-2 * UL * x_2))\n",
      "/home/yazan/Repositories/Personal/mcd-clip/src/mcd_clip/bike_rider_fit/fit_analysis/demoanalysis.py:76: RuntimeWarning: invalid value encountered in arccos\n",
      "  Tksp2 = np.arccos(\n",
      "/home/yazan/Repositories/Personal/mcd-clip/src/mcd_clip/bike_rider_fit/fit_analysis/vectorizedangles.py:158: RuntimeWarning: invalid value encountered in arccos\n",
      "  alpha_1 = np.arccos((x_1 ** 2 - UL_s - x_2 ** 2) / (-2 * UL * x_2))\n"
     ]
    },
    {
     "name": "stdout",
     "output_type": "stream",
     "text": [
      "Found framed material columns ['Material=Steel', 'Material=Aluminum', 'Material=Titanium']\n",
      "Mapping Material=Steel to MATERIAL OHCLASS: STEEL\n",
      "Mapping Material=Aluminum to MATERIAL OHCLASS: ALUMINUM\n",
      "Mapping Material=Titanium to MATERIAL OHCLASS: TITANIUM\n",
      "embedding_distance_1 | min 0.6899999976158142, max [1.1699999570846558],  average [0.7200000286102295]\n",
      "embedding_distance_2 | min 0.07999999821186066, max [1.6299999952316284],  average [0.12999999523162842]\n",
      "Validation result: fraction invalid [0.082]\n",
      "Validation result: fraction invalid [0.074]\n",
      "Validation result: fraction invalid [0.07]\n",
      "Validation result: fraction invalid [0.086]\n",
      "Validation result: fraction invalid [0.0]\n",
      "Validation result: fraction invalid [0.006]\n",
      "   113 |    56000 |    500 |  0.000000E+00 |  0.000000E+00 |  0.0093840150 |         ideal\n"
     ]
    },
    {
     "name": "stderr",
     "output_type": "stream",
     "text": [
      "/home/yazan/Repositories/Personal/mcd-clip/venv/lib/python3.10/site-packages/pymoo/operators/crossover/sbx.py:42: RuntimeWarning: divide by zero encountered in power\n",
      "  alpha = 2.0 - np.power(beta, -(eta + 1.0))\n",
      "/home/yazan/Repositories/Personal/mcd-clip/venv/lib/python3.10/site-packages/pymoo/operators/crossover/sbx.py:47: RuntimeWarning: invalid value encountered in power\n",
      "  betaq[mask] = np.power((rand * alpha), (1.0 / (eta + 1.0)))[mask]\n",
      "/home/yazan/Repositories/Personal/mcd-clip/venv/lib/python3.10/site-packages/pymoo/operators/mutation/pm.py:45: RuntimeWarning: invalid value encountered in power\n",
      "  d = np.power(val, mut_pow) - 1.0\n"
     ]
    },
    {
     "name": "stdout",
     "output_type": "stream",
     "text": [
      "Found framed material columns ['Material=Steel', 'Material=Aluminum', 'Material=Titanium']\n",
      "Mapping Material=Steel to MATERIAL OHCLASS: STEEL\n",
      "Mapping Material=Aluminum to MATERIAL OHCLASS: ALUMINUM\n",
      "Mapping Material=Titanium to MATERIAL OHCLASS: TITANIUM\n",
      "Found framed material columns ['Material=Steel', 'Material=Aluminum', 'Material=Titanium']\n",
      "Mapping Material=Steel to MATERIAL OHCLASS: STEEL\n",
      "Mapping Material=Aluminum to MATERIAL OHCLASS: ALUMINUM\n",
      "Mapping Material=Titanium to MATERIAL OHCLASS: TITANIUM\n",
      "Found framed material columns ['Material=Steel', 'Material=Aluminum', 'Material=Titanium']\n",
      "Mapping Material=Steel to MATERIAL OHCLASS: STEEL\n",
      "Mapping Material=Aluminum to MATERIAL OHCLASS: ALUMINUM\n",
      "Mapping Material=Titanium to MATERIAL OHCLASS: TITANIUM\n"
     ]
    },
    {
     "name": "stderr",
     "output_type": "stream",
     "text": [
      "/home/yazan/Repositories/Personal/mcd-clip/src/mcd_clip/bike_rider_fit/fit_analysis/vectorizedangles.py:158: RuntimeWarning: invalid value encountered in arccos\n",
      "  alpha_1 = np.arccos((x_1 ** 2 - UL_s - x_2 ** 2) / (-2 * UL * x_2))\n",
      "/home/yazan/Repositories/Personal/mcd-clip/src/mcd_clip/bike_rider_fit/fit_analysis/demoanalysis.py:76: RuntimeWarning: invalid value encountered in arccos\n",
      "  Tksp2 = np.arccos(\n",
      "/home/yazan/Repositories/Personal/mcd-clip/src/mcd_clip/bike_rider_fit/fit_analysis/vectorizedangles.py:158: RuntimeWarning: invalid value encountered in arccos\n",
      "  alpha_1 = np.arccos((x_1 ** 2 - UL_s - x_2 ** 2) / (-2 * UL * x_2))\n"
     ]
    },
    {
     "name": "stdout",
     "output_type": "stream",
     "text": [
      "embedding_distance_1 | min 0.6899999976158142, max [1.1799999475479126],  average [0.7300000190734863]\n",
      "embedding_distance_2 | min 0.07999999821186066, max [1.6799999475479126],  average [0.1599999964237213]\n",
      "Validation result: fraction invalid [0.124]\n",
      "Validation result: fraction invalid [0.136]\n",
      "Validation result: fraction invalid [0.122]\n",
      "Validation result: fraction invalid [0.106]\n",
      "Validation result: fraction invalid [0.0]\n",
      "Validation result: fraction invalid [0.004]\n",
      "   114 |    56500 |    500 |  0.000000E+00 |  0.000000E+00 |  0.0047135624 |             f\n"
     ]
    },
    {
     "name": "stderr",
     "output_type": "stream",
     "text": [
      "/home/yazan/Repositories/Personal/mcd-clip/venv/lib/python3.10/site-packages/pymoo/operators/crossover/sbx.py:42: RuntimeWarning: divide by zero encountered in power\n",
      "  alpha = 2.0 - np.power(beta, -(eta + 1.0))\n",
      "/home/yazan/Repositories/Personal/mcd-clip/venv/lib/python3.10/site-packages/pymoo/operators/crossover/sbx.py:47: RuntimeWarning: invalid value encountered in power\n",
      "  betaq[mask] = np.power((rand * alpha), (1.0 / (eta + 1.0)))[mask]\n"
     ]
    },
    {
     "name": "stdout",
     "output_type": "stream",
     "text": [
      "Found framed material columns ['Material=Steel', 'Material=Aluminum', 'Material=Titanium']\n",
      "Mapping Material=Steel to MATERIAL OHCLASS: STEEL\n",
      "Mapping Material=Aluminum to MATERIAL OHCLASS: ALUMINUM\n",
      "Mapping Material=Titanium to MATERIAL OHCLASS: TITANIUM\n",
      "Found framed material columns ['Material=Steel', 'Material=Aluminum', 'Material=Titanium']\n",
      "Mapping Material=Steel to MATERIAL OHCLASS: STEEL\n",
      "Mapping Material=Aluminum to MATERIAL OHCLASS: ALUMINUM\n",
      "Mapping Material=Titanium to MATERIAL OHCLASS: TITANIUM\n",
      "Found framed material columns ['Material=Steel', 'Material=Aluminum', 'Material=Titanium']\n",
      "Mapping Material=Steel to MATERIAL OHCLASS: STEEL\n",
      "Mapping Material=Aluminum to MATERIAL OHCLASS: ALUMINUM\n",
      "Mapping Material=Titanium to MATERIAL OHCLASS: TITANIUM\n",
      "embedding_distance_1 | min 0.6899999976158142, max [1.1799999475479126],  average [0.7300000190734863]\n",
      "embedding_distance_2 | min 0.07999999821186066, max [1.6799999475479126],  average [0.1599999964237213]\n"
     ]
    },
    {
     "name": "stderr",
     "output_type": "stream",
     "text": [
      "/home/yazan/Repositories/Personal/mcd-clip/src/mcd_clip/bike_rider_fit/fit_analysis/vectorizedangles.py:158: RuntimeWarning: invalid value encountered in arccos\n",
      "  alpha_1 = np.arccos((x_1 ** 2 - UL_s - x_2 ** 2) / (-2 * UL * x_2))\n",
      "/home/yazan/Repositories/Personal/mcd-clip/src/mcd_clip/bike_rider_fit/fit_analysis/demoanalysis.py:76: RuntimeWarning: invalid value encountered in arccos\n",
      "  Tksp2 = np.arccos(\n",
      "/home/yazan/Repositories/Personal/mcd-clip/src/mcd_clip/bike_rider_fit/fit_analysis/vectorizedangles.py:158: RuntimeWarning: invalid value encountered in arccos\n",
      "  alpha_1 = np.arccos((x_1 ** 2 - UL_s - x_2 ** 2) / (-2 * UL * x_2))\n"
     ]
    },
    {
     "name": "stdout",
     "output_type": "stream",
     "text": [
      "Validation result: fraction invalid [0.1]\n",
      "Validation result: fraction invalid [0.12]\n",
      "Validation result: fraction invalid [0.128]\n",
      "Validation result: fraction invalid [0.15]\n",
      "Validation result: fraction invalid [0.0]\n",
      "Validation result: fraction invalid [0.002]\n",
      "   115 |    57000 |    500 |  0.000000E+00 |  0.000000E+00 |  0.0027969617 |             f\n"
     ]
    },
    {
     "name": "stderr",
     "output_type": "stream",
     "text": [
      "/home/yazan/Repositories/Personal/mcd-clip/venv/lib/python3.10/site-packages/pymoo/operators/crossover/sbx.py:42: RuntimeWarning: divide by zero encountered in power\n",
      "  alpha = 2.0 - np.power(beta, -(eta + 1.0))\n",
      "/home/yazan/Repositories/Personal/mcd-clip/venv/lib/python3.10/site-packages/pymoo/operators/crossover/sbx.py:47: RuntimeWarning: invalid value encountered in power\n",
      "  betaq[mask] = np.power((rand * alpha), (1.0 / (eta + 1.0)))[mask]\n",
      "/home/yazan/Repositories/Personal/mcd-clip/venv/lib/python3.10/site-packages/pymoo/operators/mutation/pm.py:45: RuntimeWarning: invalid value encountered in power\n",
      "  d = np.power(val, mut_pow) - 1.0\n"
     ]
    },
    {
     "name": "stdout",
     "output_type": "stream",
     "text": [
      "Found framed material columns ['Material=Steel', 'Material=Aluminum', 'Material=Titanium']\n",
      "Mapping Material=Steel to MATERIAL OHCLASS: STEEL\n",
      "Mapping Material=Aluminum to MATERIAL OHCLASS: ALUMINUM\n",
      "Mapping Material=Titanium to MATERIAL OHCLASS: TITANIUM\n",
      "Found framed material columns ['Material=Steel', 'Material=Aluminum', 'Material=Titanium']\n",
      "Mapping Material=Steel to MATERIAL OHCLASS: STEEL\n",
      "Mapping Material=Aluminum to MATERIAL OHCLASS: ALUMINUM\n",
      "Mapping Material=Titanium to MATERIAL OHCLASS: TITANIUM\n",
      "Found framed material columns ['Material=Steel', 'Material=Aluminum', 'Material=Titanium']\n",
      "Mapping Material=Steel to MATERIAL OHCLASS: STEEL\n",
      "Mapping Material=Aluminum to MATERIAL OHCLASS: ALUMINUM\n",
      "Mapping Material=Titanium to MATERIAL OHCLASS: TITANIUM\n"
     ]
    },
    {
     "name": "stderr",
     "output_type": "stream",
     "text": [
      "/home/yazan/Repositories/Personal/mcd-clip/src/mcd_clip/bike_rider_fit/fit_analysis/vectorizedangles.py:158: RuntimeWarning: invalid value encountered in arccos\n",
      "  alpha_1 = np.arccos((x_1 ** 2 - UL_s - x_2 ** 2) / (-2 * UL * x_2))\n",
      "/home/yazan/Repositories/Personal/mcd-clip/src/mcd_clip/bike_rider_fit/fit_analysis/demoanalysis.py:76: RuntimeWarning: invalid value encountered in arccos\n",
      "  Tksp2 = np.arccos(\n",
      "/home/yazan/Repositories/Personal/mcd-clip/src/mcd_clip/bike_rider_fit/fit_analysis/vectorizedangles.py:158: RuntimeWarning: invalid value encountered in arccos\n",
      "  alpha_1 = np.arccos((x_1 ** 2 - UL_s - x_2 ** 2) / (-2 * UL * x_2))\n"
     ]
    },
    {
     "name": "stdout",
     "output_type": "stream",
     "text": [
      "embedding_distance_1 | min 0.6899999976158142, max [1.1799999475479126],  average [0.7300000190734863]\n",
      "embedding_distance_2 | min 0.09000000357627869, max [1.6799999475479126],  average [0.1599999964237213]\n",
      "Validation result: fraction invalid [0.124]\n",
      "Validation result: fraction invalid [0.116]\n",
      "Validation result: fraction invalid [0.142]\n",
      "Validation result: fraction invalid [0.114]\n",
      "Validation result: fraction invalid [0.0]\n",
      "Validation result: fraction invalid [0.002]\n",
      "   116 |    57500 |    500 |  0.000000E+00 |  0.000000E+00 |  0.0050612140 |             f\n"
     ]
    },
    {
     "name": "stderr",
     "output_type": "stream",
     "text": [
      "/home/yazan/Repositories/Personal/mcd-clip/venv/lib/python3.10/site-packages/pymoo/operators/crossover/sbx.py:42: RuntimeWarning: divide by zero encountered in power\n",
      "  alpha = 2.0 - np.power(beta, -(eta + 1.0))\n",
      "/home/yazan/Repositories/Personal/mcd-clip/venv/lib/python3.10/site-packages/pymoo/operators/crossover/sbx.py:47: RuntimeWarning: invalid value encountered in power\n",
      "  betaq[mask] = np.power((rand * alpha), (1.0 / (eta + 1.0)))[mask]\n"
     ]
    },
    {
     "name": "stdout",
     "output_type": "stream",
     "text": [
      "Found framed material columns ['Material=Steel', 'Material=Aluminum', 'Material=Titanium']\n",
      "Mapping Material=Steel to MATERIAL OHCLASS: STEEL\n",
      "Mapping Material=Aluminum to MATERIAL OHCLASS: ALUMINUM\n",
      "Mapping Material=Titanium to MATERIAL OHCLASS: TITANIUM\n",
      "Found framed material columns ['Material=Steel', 'Material=Aluminum', 'Material=Titanium']\n",
      "Mapping Material=Steel to MATERIAL OHCLASS: STEEL\n",
      "Mapping Material=Aluminum to MATERIAL OHCLASS: ALUMINUM\n",
      "Mapping Material=Titanium to MATERIAL OHCLASS: TITANIUM\n"
     ]
    },
    {
     "name": "stderr",
     "output_type": "stream",
     "text": [
      "/home/yazan/Repositories/Personal/mcd-clip/src/mcd_clip/bike_rider_fit/fit_analysis/vectorizedangles.py:158: RuntimeWarning: invalid value encountered in arccos\n",
      "  alpha_1 = np.arccos((x_1 ** 2 - UL_s - x_2 ** 2) / (-2 * UL * x_2))\n",
      "/home/yazan/Repositories/Personal/mcd-clip/src/mcd_clip/bike_rider_fit/fit_analysis/demoanalysis.py:76: RuntimeWarning: invalid value encountered in arccos\n",
      "  Tksp2 = np.arccos(\n",
      "/home/yazan/Repositories/Personal/mcd-clip/src/mcd_clip/bike_rider_fit/fit_analysis/vectorizedangles.py:158: RuntimeWarning: invalid value encountered in arccos\n",
      "  alpha_1 = np.arccos((x_1 ** 2 - UL_s - x_2 ** 2) / (-2 * UL * x_2))\n"
     ]
    },
    {
     "name": "stdout",
     "output_type": "stream",
     "text": [
      "Found framed material columns ['Material=Steel', 'Material=Aluminum', 'Material=Titanium']\n",
      "Mapping Material=Steel to MATERIAL OHCLASS: STEEL\n",
      "Mapping Material=Aluminum to MATERIAL OHCLASS: ALUMINUM\n",
      "Mapping Material=Titanium to MATERIAL OHCLASS: TITANIUM\n",
      "embedding_distance_1 | min 0.6899999976158142, max [1.1799999475479126],  average [0.7200000286102295]\n",
      "embedding_distance_2 | min 0.07999999821186066, max [1.6799999475479126],  average [0.14000000059604645]\n",
      "Validation result: fraction invalid [0.094]\n",
      "Validation result: fraction invalid [0.088]\n",
      "Validation result: fraction invalid [0.086]\n",
      "Validation result: fraction invalid [0.094]\n",
      "Validation result: fraction invalid [0.0]\n",
      "Validation result: fraction invalid [0.004]\n",
      "   117 |    58000 |    500 |  0.000000E+00 |  0.000000E+00 |  0.0162745003 |         nadir\n"
     ]
    },
    {
     "name": "stderr",
     "output_type": "stream",
     "text": [
      "/home/yazan/Repositories/Personal/mcd-clip/venv/lib/python3.10/site-packages/pymoo/operators/crossover/sbx.py:42: RuntimeWarning: divide by zero encountered in power\n",
      "  alpha = 2.0 - np.power(beta, -(eta + 1.0))\n",
      "/home/yazan/Repositories/Personal/mcd-clip/venv/lib/python3.10/site-packages/pymoo/operators/crossover/sbx.py:47: RuntimeWarning: invalid value encountered in power\n",
      "  betaq[mask] = np.power((rand * alpha), (1.0 / (eta + 1.0)))[mask]\n"
     ]
    },
    {
     "name": "stdout",
     "output_type": "stream",
     "text": [
      "Found framed material columns ['Material=Steel', 'Material=Aluminum', 'Material=Titanium']\n",
      "Mapping Material=Steel to MATERIAL OHCLASS: STEEL\n",
      "Mapping Material=Aluminum to MATERIAL OHCLASS: ALUMINUM\n",
      "Mapping Material=Titanium to MATERIAL OHCLASS: TITANIUM\n",
      "Found framed material columns ['Material=Steel', 'Material=Aluminum', 'Material=Titanium']\n",
      "Mapping Material=Steel to MATERIAL OHCLASS: STEEL\n",
      "Mapping Material=Aluminum to MATERIAL OHCLASS: ALUMINUM\n",
      "Mapping Material=Titanium to MATERIAL OHCLASS: TITANIUM\n",
      "Found framed material columns ['Material=Steel', 'Material=Aluminum', 'Material=Titanium']\n",
      "Mapping Material=Steel to MATERIAL OHCLASS: STEEL\n",
      "Mapping Material=Aluminum to MATERIAL OHCLASS: ALUMINUM\n",
      "Mapping Material=Titanium to MATERIAL OHCLASS: TITANIUM\n"
     ]
    },
    {
     "name": "stderr",
     "output_type": "stream",
     "text": [
      "/home/yazan/Repositories/Personal/mcd-clip/src/mcd_clip/bike_rider_fit/fit_analysis/vectorizedangles.py:158: RuntimeWarning: invalid value encountered in arccos\n",
      "  alpha_1 = np.arccos((x_1 ** 2 - UL_s - x_2 ** 2) / (-2 * UL * x_2))\n",
      "/home/yazan/Repositories/Personal/mcd-clip/src/mcd_clip/bike_rider_fit/fit_analysis/demoanalysis.py:76: RuntimeWarning: invalid value encountered in arccos\n",
      "  Tksp2 = np.arccos(\n",
      "/home/yazan/Repositories/Personal/mcd-clip/src/mcd_clip/bike_rider_fit/fit_analysis/vectorizedangles.py:158: RuntimeWarning: invalid value encountered in arccos\n",
      "  alpha_1 = np.arccos((x_1 ** 2 - UL_s - x_2 ** 2) / (-2 * UL * x_2))\n"
     ]
    },
    {
     "name": "stdout",
     "output_type": "stream",
     "text": [
      "embedding_distance_1 | min 0.6899999976158142, max [1.1699999570846558],  average [0.7200000286102295]\n",
      "embedding_distance_2 | min 0.07999999821186066, max [1.659999966621399],  average [0.12999999523162842]\n",
      "Validation result: fraction invalid [0.088]\n",
      "Validation result: fraction invalid [0.088]\n",
      "Validation result: fraction invalid [0.072]\n",
      "Validation result: fraction invalid [0.084]\n",
      "Validation result: fraction invalid [0.0]\n",
      "Validation result: fraction invalid [0.004]\n",
      "   118 |    58500 |    500 |  0.000000E+00 |  0.000000E+00 |  0.0049443681 |             f\n"
     ]
    },
    {
     "name": "stderr",
     "output_type": "stream",
     "text": [
      "/home/yazan/Repositories/Personal/mcd-clip/venv/lib/python3.10/site-packages/pymoo/operators/crossover/sbx.py:42: RuntimeWarning: divide by zero encountered in power\n",
      "  alpha = 2.0 - np.power(beta, -(eta + 1.0))\n",
      "/home/yazan/Repositories/Personal/mcd-clip/venv/lib/python3.10/site-packages/pymoo/operators/crossover/sbx.py:47: RuntimeWarning: invalid value encountered in power\n",
      "  betaq[mask] = np.power((rand * alpha), (1.0 / (eta + 1.0)))[mask]\n"
     ]
    },
    {
     "name": "stdout",
     "output_type": "stream",
     "text": [
      "Found framed material columns ['Material=Steel', 'Material=Aluminum', 'Material=Titanium']\n",
      "Mapping Material=Steel to MATERIAL OHCLASS: STEEL\n",
      "Mapping Material=Aluminum to MATERIAL OHCLASS: ALUMINUM\n",
      "Mapping Material=Titanium to MATERIAL OHCLASS: TITANIUM\n",
      "Found framed material columns ['Material=Steel', 'Material=Aluminum', 'Material=Titanium']\n",
      "Mapping Material=Steel to MATERIAL OHCLASS: STEEL\n",
      "Mapping Material=Aluminum to MATERIAL OHCLASS: ALUMINUM\n",
      "Mapping Material=Titanium to MATERIAL OHCLASS: TITANIUM\n"
     ]
    },
    {
     "name": "stderr",
     "output_type": "stream",
     "text": [
      "/home/yazan/Repositories/Personal/mcd-clip/src/mcd_clip/bike_rider_fit/fit_analysis/vectorizedangles.py:158: RuntimeWarning: invalid value encountered in arccos\n",
      "  alpha_1 = np.arccos((x_1 ** 2 - UL_s - x_2 ** 2) / (-2 * UL * x_2))\n",
      "/home/yazan/Repositories/Personal/mcd-clip/src/mcd_clip/bike_rider_fit/fit_analysis/demoanalysis.py:76: RuntimeWarning: invalid value encountered in arccos\n",
      "  Tksp2 = np.arccos(\n",
      "/home/yazan/Repositories/Personal/mcd-clip/src/mcd_clip/bike_rider_fit/fit_analysis/vectorizedangles.py:158: RuntimeWarning: invalid value encountered in arccos\n",
      "  alpha_1 = np.arccos((x_1 ** 2 - UL_s - x_2 ** 2) / (-2 * UL * x_2))\n"
     ]
    },
    {
     "name": "stdout",
     "output_type": "stream",
     "text": [
      "Found framed material columns ['Material=Steel', 'Material=Aluminum', 'Material=Titanium']\n",
      "Mapping Material=Steel to MATERIAL OHCLASS: STEEL\n",
      "Mapping Material=Aluminum to MATERIAL OHCLASS: ALUMINUM\n",
      "Mapping Material=Titanium to MATERIAL OHCLASS: TITANIUM\n",
      "embedding_distance_1 | min 0.6899999976158142, max [1.1799999475479126],  average [0.7200000286102295]\n",
      "embedding_distance_2 | min 0.07999999821186066, max [1.6699999570846558],  average [0.14000000059604645]\n",
      "Validation result: fraction invalid [0.092]\n",
      "Validation result: fraction invalid [0.076]\n",
      "Validation result: fraction invalid [0.07]\n",
      "Validation result: fraction invalid [0.078]\n",
      "Validation result: fraction invalid [0.0]\n",
      "Validation result: fraction invalid [0.004]\n",
      "   119 |    59000 |    500 |  0.000000E+00 |  0.000000E+00 |  0.0163934426 |         nadir\n"
     ]
    },
    {
     "name": "stderr",
     "output_type": "stream",
     "text": [
      "/home/yazan/Repositories/Personal/mcd-clip/venv/lib/python3.10/site-packages/pymoo/operators/crossover/sbx.py:42: RuntimeWarning: divide by zero encountered in power\n",
      "  alpha = 2.0 - np.power(beta, -(eta + 1.0))\n",
      "/home/yazan/Repositories/Personal/mcd-clip/venv/lib/python3.10/site-packages/pymoo/operators/crossover/sbx.py:47: RuntimeWarning: invalid value encountered in power\n",
      "  betaq[mask] = np.power((rand * alpha), (1.0 / (eta + 1.0)))[mask]\n"
     ]
    },
    {
     "name": "stdout",
     "output_type": "stream",
     "text": [
      "Found framed material columns ['Material=Steel', 'Material=Aluminum', 'Material=Titanium']\n",
      "Mapping Material=Steel to MATERIAL OHCLASS: STEEL\n",
      "Mapping Material=Aluminum to MATERIAL OHCLASS: ALUMINUM\n",
      "Mapping Material=Titanium to MATERIAL OHCLASS: TITANIUM\n",
      "Found framed material columns ['Material=Steel', 'Material=Aluminum', 'Material=Titanium']\n",
      "Mapping Material=Steel to MATERIAL OHCLASS: STEEL\n",
      "Mapping Material=Aluminum to MATERIAL OHCLASS: ALUMINUM\n",
      "Mapping Material=Titanium to MATERIAL OHCLASS: TITANIUM\n"
     ]
    },
    {
     "name": "stderr",
     "output_type": "stream",
     "text": [
      "/home/yazan/Repositories/Personal/mcd-clip/src/mcd_clip/bike_rider_fit/fit_analysis/vectorizedangles.py:158: RuntimeWarning: invalid value encountered in arccos\n",
      "  alpha_1 = np.arccos((x_1 ** 2 - UL_s - x_2 ** 2) / (-2 * UL * x_2))\n",
      "/home/yazan/Repositories/Personal/mcd-clip/src/mcd_clip/bike_rider_fit/fit_analysis/demoanalysis.py:76: RuntimeWarning: invalid value encountered in arccos\n",
      "  Tksp2 = np.arccos(\n",
      "/home/yazan/Repositories/Personal/mcd-clip/src/mcd_clip/bike_rider_fit/fit_analysis/vectorizedangles.py:158: RuntimeWarning: invalid value encountered in arccos\n",
      "  alpha_1 = np.arccos((x_1 ** 2 - UL_s - x_2 ** 2) / (-2 * UL * x_2))\n"
     ]
    },
    {
     "name": "stdout",
     "output_type": "stream",
     "text": [
      "Found framed material columns ['Material=Steel', 'Material=Aluminum', 'Material=Titanium']\n",
      "Mapping Material=Steel to MATERIAL OHCLASS: STEEL\n",
      "Mapping Material=Aluminum to MATERIAL OHCLASS: ALUMINUM\n",
      "Mapping Material=Titanium to MATERIAL OHCLASS: TITANIUM\n",
      "embedding_distance_1 | min 0.6899999976158142, max [1.1799999475479126],  average [0.7300000190734863]\n",
      "embedding_distance_2 | min 0.09000000357627869, max [1.690000057220459],  average [0.1599999964237213]\n",
      "Validation result: fraction invalid [0.106]\n",
      "Validation result: fraction invalid [0.126]\n",
      "Validation result: fraction invalid [0.138]\n",
      "Validation result: fraction invalid [0.13]\n",
      "Validation result: fraction invalid [0.0]\n",
      "Validation result: fraction invalid [0.002]\n",
      "   120 |    59500 |    495 |  0.000000E+00 |  0.000000E+00 |  0.0022482646 |             f\n"
     ]
    },
    {
     "name": "stderr",
     "output_type": "stream",
     "text": [
      "/home/yazan/Repositories/Personal/mcd-clip/venv/lib/python3.10/site-packages/pymoo/operators/crossover/sbx.py:42: RuntimeWarning: divide by zero encountered in power\n",
      "  alpha = 2.0 - np.power(beta, -(eta + 1.0))\n",
      "/home/yazan/Repositories/Personal/mcd-clip/venv/lib/python3.10/site-packages/pymoo/operators/crossover/sbx.py:47: RuntimeWarning: invalid value encountered in power\n",
      "  betaq[mask] = np.power((rand * alpha), (1.0 / (eta + 1.0)))[mask]\n"
     ]
    },
    {
     "name": "stdout",
     "output_type": "stream",
     "text": [
      "Found framed material columns ['Material=Steel', 'Material=Aluminum', 'Material=Titanium']\n",
      "Mapping Material=Steel to MATERIAL OHCLASS: STEEL\n",
      "Mapping Material=Aluminum to MATERIAL OHCLASS: ALUMINUM\n",
      "Mapping Material=Titanium to MATERIAL OHCLASS: TITANIUM\n",
      "Found framed material columns ['Material=Steel', 'Material=Aluminum', 'Material=Titanium']\n",
      "Mapping Material=Steel to MATERIAL OHCLASS: STEEL\n",
      "Mapping Material=Aluminum to MATERIAL OHCLASS: ALUMINUM\n",
      "Mapping Material=Titanium to MATERIAL OHCLASS: TITANIUM\n",
      "Found framed material columns ['Material=Steel', 'Material=Aluminum', 'Material=Titanium']\n",
      "Mapping Material=Steel to MATERIAL OHCLASS: STEEL\n",
      "Mapping Material=Aluminum to MATERIAL OHCLASS: ALUMINUM\n",
      "Mapping Material=Titanium to MATERIAL OHCLASS: TITANIUM\n"
     ]
    },
    {
     "name": "stderr",
     "output_type": "stream",
     "text": [
      "/home/yazan/Repositories/Personal/mcd-clip/src/mcd_clip/bike_rider_fit/fit_analysis/vectorizedangles.py:158: RuntimeWarning: invalid value encountered in arccos\n",
      "  alpha_1 = np.arccos((x_1 ** 2 - UL_s - x_2 ** 2) / (-2 * UL * x_2))\n",
      "/home/yazan/Repositories/Personal/mcd-clip/src/mcd_clip/bike_rider_fit/fit_analysis/demoanalysis.py:76: RuntimeWarning: invalid value encountered in arccos\n",
      "  Tksp2 = np.arccos(\n",
      "/home/yazan/Repositories/Personal/mcd-clip/src/mcd_clip/bike_rider_fit/fit_analysis/vectorizedangles.py:158: RuntimeWarning: invalid value encountered in arccos\n",
      "  alpha_1 = np.arccos((x_1 ** 2 - UL_s - x_2 ** 2) / (-2 * UL * x_2))\n"
     ]
    },
    {
     "name": "stdout",
     "output_type": "stream",
     "text": [
      "embedding_distance_1 | min 0.6899999976158142, max [1.1799999475479126],  average [0.7300000190734863]\n",
      "embedding_distance_2 | min 0.09000000357627869, max [1.6699999570846558],  average [0.1599999964237213]\n",
      "Validation result: fraction invalid [0.134]\n",
      "Validation result: fraction invalid [0.122]\n",
      "Validation result: fraction invalid [0.128]\n",
      "Validation result: fraction invalid [0.138]\n",
      "Validation result: fraction invalid [0.0]\n",
      "Validation result: fraction invalid [0.004]\n",
      "   121 |    60000 |    500 |  0.000000E+00 |  0.000000E+00 |  0.0053241582 |             f\n"
     ]
    },
    {
     "name": "stderr",
     "output_type": "stream",
     "text": [
      "/home/yazan/Repositories/Personal/mcd-clip/venv/lib/python3.10/site-packages/pymoo/operators/crossover/sbx.py:42: RuntimeWarning: divide by zero encountered in power\n",
      "  alpha = 2.0 - np.power(beta, -(eta + 1.0))\n",
      "/home/yazan/Repositories/Personal/mcd-clip/venv/lib/python3.10/site-packages/pymoo/operators/crossover/sbx.py:47: RuntimeWarning: invalid value encountered in power\n",
      "  betaq[mask] = np.power((rand * alpha), (1.0 / (eta + 1.0)))[mask]\n"
     ]
    },
    {
     "name": "stdout",
     "output_type": "stream",
     "text": [
      "Found framed material columns ['Material=Steel', 'Material=Aluminum', 'Material=Titanium']\n",
      "Mapping Material=Steel to MATERIAL OHCLASS: STEEL\n",
      "Mapping Material=Aluminum to MATERIAL OHCLASS: ALUMINUM\n",
      "Mapping Material=Titanium to MATERIAL OHCLASS: TITANIUM\n",
      "Found framed material columns ['Material=Steel', 'Material=Aluminum', 'Material=Titanium']\n",
      "Mapping Material=Steel to MATERIAL OHCLASS: STEEL\n",
      "Mapping Material=Aluminum to MATERIAL OHCLASS: ALUMINUM\n",
      "Mapping Material=Titanium to MATERIAL OHCLASS: TITANIUM\n",
      "Found framed material columns ['Material=Steel', 'Material=Aluminum', 'Material=Titanium']\n",
      "Mapping Material=Steel to MATERIAL OHCLASS: STEEL\n",
      "Mapping Material=Aluminum to MATERIAL OHCLASS: ALUMINUM\n",
      "Mapping Material=Titanium to MATERIAL OHCLASS: TITANIUM\n"
     ]
    },
    {
     "name": "stderr",
     "output_type": "stream",
     "text": [
      "/home/yazan/Repositories/Personal/mcd-clip/src/mcd_clip/bike_rider_fit/fit_analysis/vectorizedangles.py:158: RuntimeWarning: invalid value encountered in arccos\n",
      "  alpha_1 = np.arccos((x_1 ** 2 - UL_s - x_2 ** 2) / (-2 * UL * x_2))\n",
      "/home/yazan/Repositories/Personal/mcd-clip/src/mcd_clip/bike_rider_fit/fit_analysis/demoanalysis.py:76: RuntimeWarning: invalid value encountered in arccos\n",
      "  Tksp2 = np.arccos(\n",
      "/home/yazan/Repositories/Personal/mcd-clip/src/mcd_clip/bike_rider_fit/fit_analysis/vectorizedangles.py:158: RuntimeWarning: invalid value encountered in arccos\n",
      "  alpha_1 = np.arccos((x_1 ** 2 - UL_s - x_2 ** 2) / (-2 * UL * x_2))\n"
     ]
    },
    {
     "name": "stdout",
     "output_type": "stream",
     "text": [
      "embedding_distance_1 | min 0.6899999976158142, max [1.1799999475479126],  average [0.7200000286102295]\n",
      "embedding_distance_2 | min 0.07999999821186066, max [1.690000057220459],  average [0.14000000059604645]\n",
      "Validation result: fraction invalid [0.078]\n",
      "Validation result: fraction invalid [0.078]\n",
      "Validation result: fraction invalid [0.064]\n",
      "Validation result: fraction invalid [0.082]\n",
      "Validation result: fraction invalid [0.0]\n",
      "Validation result: fraction invalid [0.0]\n",
      "   122 |    60500 |    500 |  0.000000E+00 |  0.000000E+00 |  0.0107870486 |         ideal\n"
     ]
    },
    {
     "name": "stderr",
     "output_type": "stream",
     "text": [
      "/home/yazan/Repositories/Personal/mcd-clip/venv/lib/python3.10/site-packages/pymoo/operators/crossover/sbx.py:42: RuntimeWarning: divide by zero encountered in power\n",
      "  alpha = 2.0 - np.power(beta, -(eta + 1.0))\n",
      "/home/yazan/Repositories/Personal/mcd-clip/venv/lib/python3.10/site-packages/pymoo/operators/crossover/sbx.py:47: RuntimeWarning: invalid value encountered in power\n",
      "  betaq[mask] = np.power((rand * alpha), (1.0 / (eta + 1.0)))[mask]\n",
      "/home/yazan/Repositories/Personal/mcd-clip/venv/lib/python3.10/site-packages/pymoo/operators/mutation/pm.py:45: RuntimeWarning: invalid value encountered in power\n",
      "  d = np.power(val, mut_pow) - 1.0\n"
     ]
    },
    {
     "name": "stdout",
     "output_type": "stream",
     "text": [
      "Found framed material columns ['Material=Steel', 'Material=Aluminum', 'Material=Titanium']\n",
      "Mapping Material=Steel to MATERIAL OHCLASS: STEEL\n",
      "Mapping Material=Aluminum to MATERIAL OHCLASS: ALUMINUM\n",
      "Mapping Material=Titanium to MATERIAL OHCLASS: TITANIUM\n",
      "Found framed material columns ['Material=Steel', 'Material=Aluminum', 'Material=Titanium']\n",
      "Mapping Material=Steel to MATERIAL OHCLASS: STEEL\n",
      "Mapping Material=Aluminum to MATERIAL OHCLASS: ALUMINUM\n",
      "Mapping Material=Titanium to MATERIAL OHCLASS: TITANIUM\n"
     ]
    },
    {
     "name": "stderr",
     "output_type": "stream",
     "text": [
      "/home/yazan/Repositories/Personal/mcd-clip/src/mcd_clip/bike_rider_fit/fit_analysis/vectorizedangles.py:158: RuntimeWarning: invalid value encountered in arccos\n",
      "  alpha_1 = np.arccos((x_1 ** 2 - UL_s - x_2 ** 2) / (-2 * UL * x_2))\n",
      "/home/yazan/Repositories/Personal/mcd-clip/src/mcd_clip/bike_rider_fit/fit_analysis/demoanalysis.py:76: RuntimeWarning: invalid value encountered in arccos\n",
      "  Tksp2 = np.arccos(\n",
      "/home/yazan/Repositories/Personal/mcd-clip/src/mcd_clip/bike_rider_fit/fit_analysis/vectorizedangles.py:158: RuntimeWarning: invalid value encountered in arccos\n",
      "  alpha_1 = np.arccos((x_1 ** 2 - UL_s - x_2 ** 2) / (-2 * UL * x_2))\n"
     ]
    },
    {
     "name": "stdout",
     "output_type": "stream",
     "text": [
      "Found framed material columns ['Material=Steel', 'Material=Aluminum', 'Material=Titanium']\n",
      "Mapping Material=Steel to MATERIAL OHCLASS: STEEL\n",
      "Mapping Material=Aluminum to MATERIAL OHCLASS: ALUMINUM\n",
      "Mapping Material=Titanium to MATERIAL OHCLASS: TITANIUM\n",
      "embedding_distance_1 | min 0.6899999976158142, max [1.1799999475479126],  average [0.7200000286102295]\n",
      "embedding_distance_2 | min 0.07999999821186066, max [1.6699999570846558],  average [0.12999999523162842]\n",
      "Validation result: fraction invalid [0.072]\n",
      "Validation result: fraction invalid [0.084]\n",
      "Validation result: fraction invalid [0.068]\n",
      "Validation result: fraction invalid [0.092]\n",
      "Validation result: fraction invalid [0.0]\n",
      "Validation result: fraction invalid [0.002]\n",
      "   123 |    61000 |    500 |  0.000000E+00 |  0.000000E+00 |  0.0050280025 |             f\n"
     ]
    },
    {
     "name": "stderr",
     "output_type": "stream",
     "text": [
      "/home/yazan/Repositories/Personal/mcd-clip/venv/lib/python3.10/site-packages/pymoo/operators/crossover/sbx.py:42: RuntimeWarning: divide by zero encountered in power\n",
      "  alpha = 2.0 - np.power(beta, -(eta + 1.0))\n",
      "/home/yazan/Repositories/Personal/mcd-clip/venv/lib/python3.10/site-packages/pymoo/operators/crossover/sbx.py:47: RuntimeWarning: invalid value encountered in power\n",
      "  betaq[mask] = np.power((rand * alpha), (1.0 / (eta + 1.0)))[mask]\n",
      "/home/yazan/Repositories/Personal/mcd-clip/venv/lib/python3.10/site-packages/pymoo/operators/crossover/sbx.py:47: RuntimeWarning: invalid value encountered in power\n",
      "  betaq[mask] = np.power((rand * alpha), (1.0 / (eta + 1.0)))[mask]\n"
     ]
    },
    {
     "name": "stdout",
     "output_type": "stream",
     "text": [
      "Found framed material columns ['Material=Steel', 'Material=Aluminum', 'Material=Titanium']\n",
      "Mapping Material=Steel to MATERIAL OHCLASS: STEEL\n",
      "Mapping Material=Aluminum to MATERIAL OHCLASS: ALUMINUM\n",
      "Mapping Material=Titanium to MATERIAL OHCLASS: TITANIUM\n",
      "Found framed material columns ['Material=Steel', 'Material=Aluminum', 'Material=Titanium']\n",
      "Mapping Material=Steel to MATERIAL OHCLASS: STEEL\n",
      "Mapping Material=Aluminum to MATERIAL OHCLASS: ALUMINUM\n",
      "Mapping Material=Titanium to MATERIAL OHCLASS: TITANIUM\n",
      "Found framed material columns ['Material=Steel', 'Material=Aluminum', 'Material=Titanium']\n",
      "Mapping Material=Steel to MATERIAL OHCLASS: STEEL\n",
      "Mapping Material=Aluminum to MATERIAL OHCLASS: ALUMINUM\n",
      "Mapping Material=Titanium to MATERIAL OHCLASS: TITANIUM\n",
      "embedding_distance_1 | min 0.699999988079071, max [1.1699999570846558],  average [0.7400000095367432]\n",
      "embedding_distance_2 | min 0.09000000357627869, max [1.659999966621399],  average [0.15000000596046448]\n"
     ]
    },
    {
     "name": "stderr",
     "output_type": "stream",
     "text": [
      "/home/yazan/Repositories/Personal/mcd-clip/src/mcd_clip/bike_rider_fit/fit_analysis/vectorizedangles.py:158: RuntimeWarning: invalid value encountered in arccos\n",
      "  alpha_1 = np.arccos((x_1 ** 2 - UL_s - x_2 ** 2) / (-2 * UL * x_2))\n",
      "/home/yazan/Repositories/Personal/mcd-clip/src/mcd_clip/bike_rider_fit/fit_analysis/demoanalysis.py:76: RuntimeWarning: invalid value encountered in arccos\n",
      "  Tksp2 = np.arccos(\n",
      "/home/yazan/Repositories/Personal/mcd-clip/src/mcd_clip/bike_rider_fit/fit_analysis/vectorizedangles.py:158: RuntimeWarning: invalid value encountered in arccos\n",
      "  alpha_1 = np.arccos((x_1 ** 2 - UL_s - x_2 ** 2) / (-2 * UL * x_2))\n"
     ]
    },
    {
     "name": "stdout",
     "output_type": "stream",
     "text": [
      "Validation result: fraction invalid [0.036]\n",
      "Validation result: fraction invalid [0.038]\n",
      "Validation result: fraction invalid [0.048]\n",
      "Validation result: fraction invalid [0.028]\n",
      "Validation result: fraction invalid [0.0]\n",
      "Validation result: fraction invalid [0.002]\n",
      "   124 |    61500 |    500 |  0.000000E+00 |  0.000000E+00 |  0.0010885281 |             f\n"
     ]
    },
    {
     "name": "stderr",
     "output_type": "stream",
     "text": [
      "/home/yazan/Repositories/Personal/mcd-clip/venv/lib/python3.10/site-packages/pymoo/operators/crossover/sbx.py:42: RuntimeWarning: divide by zero encountered in power\n",
      "  alpha = 2.0 - np.power(beta, -(eta + 1.0))\n",
      "/home/yazan/Repositories/Personal/mcd-clip/venv/lib/python3.10/site-packages/pymoo/operators/crossover/sbx.py:47: RuntimeWarning: invalid value encountered in power\n",
      "  betaq[mask] = np.power((rand * alpha), (1.0 / (eta + 1.0)))[mask]\n"
     ]
    },
    {
     "name": "stdout",
     "output_type": "stream",
     "text": [
      "Found framed material columns ['Material=Steel', 'Material=Aluminum', 'Material=Titanium']\n",
      "Mapping Material=Steel to MATERIAL OHCLASS: STEEL\n",
      "Mapping Material=Aluminum to MATERIAL OHCLASS: ALUMINUM\n",
      "Mapping Material=Titanium to MATERIAL OHCLASS: TITANIUM\n",
      "Found framed material columns ['Material=Steel', 'Material=Aluminum', 'Material=Titanium']\n",
      "Mapping Material=Steel to MATERIAL OHCLASS: STEEL\n",
      "Mapping Material=Aluminum to MATERIAL OHCLASS: ALUMINUM\n",
      "Mapping Material=Titanium to MATERIAL OHCLASS: TITANIUM\n",
      "Found framed material columns ['Material=Steel', 'Material=Aluminum', 'Material=Titanium']\n",
      "Mapping Material=Steel to MATERIAL OHCLASS: STEEL\n",
      "Mapping Material=Aluminum to MATERIAL OHCLASS: ALUMINUM\n",
      "Mapping Material=Titanium to MATERIAL OHCLASS: TITANIUM\n",
      "embedding_distance_1 | min 0.6899999976158142, max [1.1799999475479126],  average [0.7300000190734863]\n",
      "embedding_distance_2 | min 0.09000000357627869, max [1.690000057220459],  average [0.1599999964237213]\n"
     ]
    },
    {
     "name": "stderr",
     "output_type": "stream",
     "text": [
      "/home/yazan/Repositories/Personal/mcd-clip/src/mcd_clip/bike_rider_fit/fit_analysis/vectorizedangles.py:158: RuntimeWarning: invalid value encountered in arccos\n",
      "  alpha_1 = np.arccos((x_1 ** 2 - UL_s - x_2 ** 2) / (-2 * UL * x_2))\n",
      "/home/yazan/Repositories/Personal/mcd-clip/src/mcd_clip/bike_rider_fit/fit_analysis/demoanalysis.py:76: RuntimeWarning: invalid value encountered in arccos\n",
      "  Tksp2 = np.arccos(\n",
      "/home/yazan/Repositories/Personal/mcd-clip/src/mcd_clip/bike_rider_fit/fit_analysis/vectorizedangles.py:158: RuntimeWarning: invalid value encountered in arccos\n",
      "  alpha_1 = np.arccos((x_1 ** 2 - UL_s - x_2 ** 2) / (-2 * UL * x_2))\n"
     ]
    },
    {
     "name": "stdout",
     "output_type": "stream",
     "text": [
      "Validation result: fraction invalid [0.102]\n",
      "Validation result: fraction invalid [0.128]\n",
      "Validation result: fraction invalid [0.112]\n",
      "Validation result: fraction invalid [0.166]\n",
      "Validation result: fraction invalid [0.0]\n",
      "Validation result: fraction invalid [0.002]\n",
      "   125 |    62000 |    500 |  0.000000E+00 |  0.000000E+00 |  0.0038668040 |             f\n"
     ]
    },
    {
     "name": "stderr",
     "output_type": "stream",
     "text": [
      "/home/yazan/Repositories/Personal/mcd-clip/venv/lib/python3.10/site-packages/pymoo/operators/crossover/sbx.py:42: RuntimeWarning: divide by zero encountered in power\n",
      "  alpha = 2.0 - np.power(beta, -(eta + 1.0))\n",
      "/home/yazan/Repositories/Personal/mcd-clip/venv/lib/python3.10/site-packages/pymoo/operators/crossover/sbx.py:47: RuntimeWarning: invalid value encountered in power\n",
      "  betaq[mask] = np.power((rand * alpha), (1.0 / (eta + 1.0)))[mask]\n"
     ]
    },
    {
     "name": "stdout",
     "output_type": "stream",
     "text": [
      "Found framed material columns ['Material=Steel', 'Material=Aluminum', 'Material=Titanium']\n",
      "Mapping Material=Steel to MATERIAL OHCLASS: STEEL\n",
      "Mapping Material=Aluminum to MATERIAL OHCLASS: ALUMINUM\n",
      "Mapping Material=Titanium to MATERIAL OHCLASS: TITANIUM\n",
      "Found framed material columns ['Material=Steel', 'Material=Aluminum', 'Material=Titanium']\n",
      "Mapping Material=Steel to MATERIAL OHCLASS: STEEL\n",
      "Mapping Material=Aluminum to MATERIAL OHCLASS: ALUMINUM\n",
      "Mapping Material=Titanium to MATERIAL OHCLASS: TITANIUM\n",
      "Found framed material columns ['Material=Steel', 'Material=Aluminum', 'Material=Titanium']\n",
      "Mapping Material=Steel to MATERIAL OHCLASS: STEEL\n",
      "Mapping Material=Aluminum to MATERIAL OHCLASS: ALUMINUM\n",
      "Mapping Material=Titanium to MATERIAL OHCLASS: TITANIUM\n"
     ]
    },
    {
     "name": "stderr",
     "output_type": "stream",
     "text": [
      "/home/yazan/Repositories/Personal/mcd-clip/src/mcd_clip/bike_rider_fit/fit_analysis/vectorizedangles.py:158: RuntimeWarning: invalid value encountered in arccos\n",
      "  alpha_1 = np.arccos((x_1 ** 2 - UL_s - x_2 ** 2) / (-2 * UL * x_2))\n",
      "/home/yazan/Repositories/Personal/mcd-clip/src/mcd_clip/bike_rider_fit/fit_analysis/demoanalysis.py:76: RuntimeWarning: invalid value encountered in arccos\n",
      "  Tksp2 = np.arccos(\n",
      "/home/yazan/Repositories/Personal/mcd-clip/src/mcd_clip/bike_rider_fit/fit_analysis/vectorizedangles.py:158: RuntimeWarning: invalid value encountered in arccos\n",
      "  alpha_1 = np.arccos((x_1 ** 2 - UL_s - x_2 ** 2) / (-2 * UL * x_2))\n"
     ]
    },
    {
     "name": "stdout",
     "output_type": "stream",
     "text": [
      "embedding_distance_1 | min 0.6899999976158142, max [1.1799999475479126],  average [0.7200000286102295]\n",
      "embedding_distance_2 | min 0.07999999821186066, max [1.6699999570846558],  average [0.15000000596046448]\n",
      "Validation result: fraction invalid [0.11]\n",
      "Validation result: fraction invalid [0.106]\n",
      "Validation result: fraction invalid [0.098]\n",
      "Validation result: fraction invalid [0.104]\n",
      "Validation result: fraction invalid [0.0]\n",
      "Validation result: fraction invalid [0.002]\n",
      "   126 |    62500 |    500 |  0.000000E+00 |  0.000000E+00 |  0.0091868344 |         ideal\n"
     ]
    },
    {
     "name": "stderr",
     "output_type": "stream",
     "text": [
      "/home/yazan/Repositories/Personal/mcd-clip/venv/lib/python3.10/site-packages/pymoo/operators/crossover/sbx.py:42: RuntimeWarning: divide by zero encountered in power\n",
      "  alpha = 2.0 - np.power(beta, -(eta + 1.0))\n",
      "/home/yazan/Repositories/Personal/mcd-clip/venv/lib/python3.10/site-packages/pymoo/operators/crossover/sbx.py:47: RuntimeWarning: invalid value encountered in power\n",
      "  betaq[mask] = np.power((rand * alpha), (1.0 / (eta + 1.0)))[mask]\n",
      "/home/yazan/Repositories/Personal/mcd-clip/venv/lib/python3.10/site-packages/pymoo/operators/mutation/pm.py:45: RuntimeWarning: invalid value encountered in power\n",
      "  d = np.power(val, mut_pow) - 1.0\n"
     ]
    },
    {
     "name": "stdout",
     "output_type": "stream",
     "text": [
      "Found framed material columns ['Material=Steel', 'Material=Aluminum', 'Material=Titanium']\n",
      "Mapping Material=Steel to MATERIAL OHCLASS: STEEL\n",
      "Mapping Material=Aluminum to MATERIAL OHCLASS: ALUMINUM\n",
      "Mapping Material=Titanium to MATERIAL OHCLASS: TITANIUM\n",
      "Found framed material columns ['Material=Steel', 'Material=Aluminum', 'Material=Titanium']\n",
      "Mapping Material=Steel to MATERIAL OHCLASS: STEEL\n",
      "Mapping Material=Aluminum to MATERIAL OHCLASS: ALUMINUM\n",
      "Mapping Material=Titanium to MATERIAL OHCLASS: TITANIUM\n",
      "Found framed material columns ['Material=Steel', 'Material=Aluminum', 'Material=Titanium']\n",
      "Mapping Material=Steel to MATERIAL OHCLASS: STEEL\n",
      "Mapping Material=Aluminum to MATERIAL OHCLASS: ALUMINUM\n",
      "Mapping Material=Titanium to MATERIAL OHCLASS: TITANIUM\n"
     ]
    },
    {
     "name": "stderr",
     "output_type": "stream",
     "text": [
      "/home/yazan/Repositories/Personal/mcd-clip/src/mcd_clip/bike_rider_fit/fit_analysis/vectorizedangles.py:158: RuntimeWarning: invalid value encountered in arccos\n",
      "  alpha_1 = np.arccos((x_1 ** 2 - UL_s - x_2 ** 2) / (-2 * UL * x_2))\n",
      "/home/yazan/Repositories/Personal/mcd-clip/src/mcd_clip/bike_rider_fit/fit_analysis/demoanalysis.py:76: RuntimeWarning: invalid value encountered in arccos\n",
      "  Tksp2 = np.arccos(\n",
      "/home/yazan/Repositories/Personal/mcd-clip/src/mcd_clip/bike_rider_fit/fit_analysis/vectorizedangles.py:158: RuntimeWarning: invalid value encountered in arccos\n",
      "  alpha_1 = np.arccos((x_1 ** 2 - UL_s - x_2 ** 2) / (-2 * UL * x_2))\n"
     ]
    },
    {
     "name": "stdout",
     "output_type": "stream",
     "text": [
      "embedding_distance_1 | min 0.6899999976158142, max [1.1799999475479126],  average [0.7200000286102295]\n",
      "embedding_distance_2 | min 0.07999999821186066, max [1.6699999570846558],  average [0.14000000059604645]\n",
      "Validation result: fraction invalid [0.078]\n",
      "Validation result: fraction invalid [0.074]\n",
      "Validation result: fraction invalid [0.07]\n",
      "Validation result: fraction invalid [0.086]\n",
      "Validation result: fraction invalid [0.0]\n",
      "Validation result: fraction invalid [0.002]\n",
      "   127 |    63000 |    500 |  0.000000E+00 |  0.000000E+00 |  0.0070611202 |             f\n"
     ]
    },
    {
     "name": "stderr",
     "output_type": "stream",
     "text": [
      "/home/yazan/Repositories/Personal/mcd-clip/venv/lib/python3.10/site-packages/pymoo/operators/crossover/sbx.py:42: RuntimeWarning: divide by zero encountered in power\n",
      "  alpha = 2.0 - np.power(beta, -(eta + 1.0))\n",
      "/home/yazan/Repositories/Personal/mcd-clip/venv/lib/python3.10/site-packages/pymoo/operators/crossover/sbx.py:47: RuntimeWarning: invalid value encountered in power\n",
      "  betaq[mask] = np.power((rand * alpha), (1.0 / (eta + 1.0)))[mask]\n"
     ]
    },
    {
     "name": "stdout",
     "output_type": "stream",
     "text": [
      "Found framed material columns ['Material=Steel', 'Material=Aluminum', 'Material=Titanium']\n",
      "Mapping Material=Steel to MATERIAL OHCLASS: STEEL\n",
      "Mapping Material=Aluminum to MATERIAL OHCLASS: ALUMINUM\n",
      "Mapping Material=Titanium to MATERIAL OHCLASS: TITANIUM\n",
      "Found framed material columns ['Material=Steel', 'Material=Aluminum', 'Material=Titanium']\n",
      "Mapping Material=Steel to MATERIAL OHCLASS: STEEL\n",
      "Mapping Material=Aluminum to MATERIAL OHCLASS: ALUMINUM\n",
      "Mapping Material=Titanium to MATERIAL OHCLASS: TITANIUM\n",
      "Found framed material columns ['Material=Steel', 'Material=Aluminum', 'Material=Titanium']\n",
      "Mapping Material=Steel to MATERIAL OHCLASS: STEEL\n",
      "Mapping Material=Aluminum to MATERIAL OHCLASS: ALUMINUM\n",
      "Mapping Material=Titanium to MATERIAL OHCLASS: TITANIUM\n"
     ]
    },
    {
     "name": "stderr",
     "output_type": "stream",
     "text": [
      "/home/yazan/Repositories/Personal/mcd-clip/src/mcd_clip/bike_rider_fit/fit_analysis/vectorizedangles.py:158: RuntimeWarning: invalid value encountered in arccos\n",
      "  alpha_1 = np.arccos((x_1 ** 2 - UL_s - x_2 ** 2) / (-2 * UL * x_2))\n",
      "/home/yazan/Repositories/Personal/mcd-clip/src/mcd_clip/bike_rider_fit/fit_analysis/demoanalysis.py:76: RuntimeWarning: invalid value encountered in arccos\n",
      "  Tksp2 = np.arccos(\n",
      "/home/yazan/Repositories/Personal/mcd-clip/src/mcd_clip/bike_rider_fit/fit_analysis/vectorizedangles.py:158: RuntimeWarning: invalid value encountered in arccos\n",
      "  alpha_1 = np.arccos((x_1 ** 2 - UL_s - x_2 ** 2) / (-2 * UL * x_2))\n"
     ]
    },
    {
     "name": "stdout",
     "output_type": "stream",
     "text": [
      "embedding_distance_1 | min 0.6899999976158142, max [1.1799999475479126],  average [0.7200000286102295]\n",
      "embedding_distance_2 | min 0.07999999821186066, max [1.6699999570846558],  average [0.14000000059604645]\n",
      "Validation result: fraction invalid [0.092]\n",
      "Validation result: fraction invalid [0.096]\n",
      "Validation result: fraction invalid [0.112]\n",
      "Validation result: fraction invalid [0.108]\n",
      "Validation result: fraction invalid [0.0]\n",
      "Validation result: fraction invalid [0.008]\n",
      "   128 |    63500 |    500 |  0.000000E+00 |  0.000000E+00 |  0.0040405034 |             f\n"
     ]
    },
    {
     "name": "stderr",
     "output_type": "stream",
     "text": [
      "/home/yazan/Repositories/Personal/mcd-clip/venv/lib/python3.10/site-packages/pymoo/operators/crossover/sbx.py:42: RuntimeWarning: divide by zero encountered in power\n",
      "  alpha = 2.0 - np.power(beta, -(eta + 1.0))\n",
      "/home/yazan/Repositories/Personal/mcd-clip/venv/lib/python3.10/site-packages/pymoo/operators/crossover/sbx.py:47: RuntimeWarning: invalid value encountered in power\n",
      "  betaq[mask] = np.power((rand * alpha), (1.0 / (eta + 1.0)))[mask]\n"
     ]
    },
    {
     "name": "stdout",
     "output_type": "stream",
     "text": [
      "Found framed material columns ['Material=Steel', 'Material=Aluminum', 'Material=Titanium']\n",
      "Mapping Material=Steel to MATERIAL OHCLASS: STEEL\n",
      "Mapping Material=Aluminum to MATERIAL OHCLASS: ALUMINUM\n",
      "Mapping Material=Titanium to MATERIAL OHCLASS: TITANIUM\n",
      "Found framed material columns ['Material=Steel', 'Material=Aluminum', 'Material=Titanium']\n",
      "Mapping Material=Steel to MATERIAL OHCLASS: STEEL\n",
      "Mapping Material=Aluminum to MATERIAL OHCLASS: ALUMINUM\n",
      "Mapping Material=Titanium to MATERIAL OHCLASS: TITANIUM\n",
      "Found framed material columns ['Material=Steel', 'Material=Aluminum', 'Material=Titanium']\n",
      "Mapping Material=Steel to MATERIAL OHCLASS: STEEL\n",
      "Mapping Material=Aluminum to MATERIAL OHCLASS: ALUMINUM\n",
      "Mapping Material=Titanium to MATERIAL OHCLASS: TITANIUM\n"
     ]
    },
    {
     "name": "stderr",
     "output_type": "stream",
     "text": [
      "/home/yazan/Repositories/Personal/mcd-clip/src/mcd_clip/bike_rider_fit/fit_analysis/vectorizedangles.py:158: RuntimeWarning: invalid value encountered in arccos\n",
      "  alpha_1 = np.arccos((x_1 ** 2 - UL_s - x_2 ** 2) / (-2 * UL * x_2))\n",
      "/home/yazan/Repositories/Personal/mcd-clip/src/mcd_clip/bike_rider_fit/fit_analysis/demoanalysis.py:76: RuntimeWarning: invalid value encountered in arccos\n",
      "  Tksp2 = np.arccos(\n",
      "/home/yazan/Repositories/Personal/mcd-clip/src/mcd_clip/bike_rider_fit/fit_analysis/vectorizedangles.py:158: RuntimeWarning: invalid value encountered in arccos\n",
      "  alpha_1 = np.arccos((x_1 ** 2 - UL_s - x_2 ** 2) / (-2 * UL * x_2))\n"
     ]
    },
    {
     "name": "stdout",
     "output_type": "stream",
     "text": [
      "embedding_distance_1 | min 0.6899999976158142, max [1.1799999475479126],  average [0.7300000190734863]\n",
      "embedding_distance_2 | min 0.07999999821186066, max [1.6799999475479126],  average [0.15000000596046448]\n",
      "Validation result: fraction invalid [0.108]\n",
      "Validation result: fraction invalid [0.118]\n",
      "Validation result: fraction invalid [0.132]\n",
      "Validation result: fraction invalid [0.114]\n",
      "Validation result: fraction invalid [0.0]\n",
      "Validation result: fraction invalid [0.0]\n",
      "   129 |    64000 |    500 |  0.000000E+00 |  0.000000E+00 |  0.0387022251 |         nadir\n"
     ]
    },
    {
     "name": "stderr",
     "output_type": "stream",
     "text": [
      "/home/yazan/Repositories/Personal/mcd-clip/venv/lib/python3.10/site-packages/pymoo/operators/crossover/sbx.py:42: RuntimeWarning: divide by zero encountered in power\n",
      "  alpha = 2.0 - np.power(beta, -(eta + 1.0))\n",
      "/home/yazan/Repositories/Personal/mcd-clip/venv/lib/python3.10/site-packages/pymoo/operators/crossover/sbx.py:47: RuntimeWarning: invalid value encountered in power\n",
      "  betaq[mask] = np.power((rand * alpha), (1.0 / (eta + 1.0)))[mask]\n"
     ]
    },
    {
     "name": "stdout",
     "output_type": "stream",
     "text": [
      "Found framed material columns ['Material=Steel', 'Material=Aluminum', 'Material=Titanium']\n",
      "Mapping Material=Steel to MATERIAL OHCLASS: STEEL\n",
      "Mapping Material=Aluminum to MATERIAL OHCLASS: ALUMINUM\n",
      "Mapping Material=Titanium to MATERIAL OHCLASS: TITANIUM\n",
      "Found framed material columns ['Material=Steel', 'Material=Aluminum', 'Material=Titanium']\n",
      "Mapping Material=Steel to MATERIAL OHCLASS: STEEL\n",
      "Mapping Material=Aluminum to MATERIAL OHCLASS: ALUMINUM\n",
      "Mapping Material=Titanium to MATERIAL OHCLASS: TITANIUM\n"
     ]
    },
    {
     "name": "stderr",
     "output_type": "stream",
     "text": [
      "/home/yazan/Repositories/Personal/mcd-clip/src/mcd_clip/bike_rider_fit/fit_analysis/vectorizedangles.py:158: RuntimeWarning: invalid value encountered in arccos\n",
      "  alpha_1 = np.arccos((x_1 ** 2 - UL_s - x_2 ** 2) / (-2 * UL * x_2))\n",
      "/home/yazan/Repositories/Personal/mcd-clip/src/mcd_clip/bike_rider_fit/fit_analysis/demoanalysis.py:76: RuntimeWarning: invalid value encountered in arccos\n",
      "  Tksp2 = np.arccos(\n",
      "/home/yazan/Repositories/Personal/mcd-clip/src/mcd_clip/bike_rider_fit/fit_analysis/vectorizedangles.py:158: RuntimeWarning: invalid value encountered in arccos\n",
      "  alpha_1 = np.arccos((x_1 ** 2 - UL_s - x_2 ** 2) / (-2 * UL * x_2))\n"
     ]
    },
    {
     "name": "stdout",
     "output_type": "stream",
     "text": [
      "Found framed material columns ['Material=Steel', 'Material=Aluminum', 'Material=Titanium']\n",
      "Mapping Material=Steel to MATERIAL OHCLASS: STEEL\n",
      "Mapping Material=Aluminum to MATERIAL OHCLASS: ALUMINUM\n",
      "Mapping Material=Titanium to MATERIAL OHCLASS: TITANIUM\n",
      "embedding_distance_1 | min 0.6899999976158142, max [1.1699999570846558],  average [0.7200000286102295]\n",
      "embedding_distance_2 | min 0.07999999821186066, max [1.659999966621399],  average [0.14000000059604645]\n",
      "Validation result: fraction invalid [0.082]\n",
      "Validation result: fraction invalid [0.094]\n",
      "Validation result: fraction invalid [0.104]\n",
      "Validation result: fraction invalid [0.07]\n",
      "Validation result: fraction invalid [0.0]\n",
      "Validation result: fraction invalid [0.004]\n",
      "   130 |    64500 |    500 |  0.000000E+00 |  0.000000E+00 |  0.0057737665 |             f\n"
     ]
    },
    {
     "name": "stderr",
     "output_type": "stream",
     "text": [
      "/home/yazan/Repositories/Personal/mcd-clip/venv/lib/python3.10/site-packages/pymoo/operators/crossover/sbx.py:42: RuntimeWarning: divide by zero encountered in power\n",
      "  alpha = 2.0 - np.power(beta, -(eta + 1.0))\n",
      "/home/yazan/Repositories/Personal/mcd-clip/venv/lib/python3.10/site-packages/pymoo/operators/crossover/sbx.py:47: RuntimeWarning: invalid value encountered in power\n",
      "  betaq[mask] = np.power((rand * alpha), (1.0 / (eta + 1.0)))[mask]\n"
     ]
    },
    {
     "name": "stdout",
     "output_type": "stream",
     "text": [
      "Found framed material columns ['Material=Steel', 'Material=Aluminum', 'Material=Titanium']\n",
      "Mapping Material=Steel to MATERIAL OHCLASS: STEEL\n",
      "Mapping Material=Aluminum to MATERIAL OHCLASS: ALUMINUM\n",
      "Mapping Material=Titanium to MATERIAL OHCLASS: TITANIUM\n",
      "Found framed material columns ['Material=Steel', 'Material=Aluminum', 'Material=Titanium']\n",
      "Mapping Material=Steel to MATERIAL OHCLASS: STEEL\n",
      "Mapping Material=Aluminum to MATERIAL OHCLASS: ALUMINUM\n",
      "Mapping Material=Titanium to MATERIAL OHCLASS: TITANIUM\n",
      "Found framed material columns ['Material=Steel', 'Material=Aluminum', 'Material=Titanium']\n",
      "Mapping Material=Steel to MATERIAL OHCLASS: STEEL\n",
      "Mapping Material=Aluminum to MATERIAL OHCLASS: ALUMINUM\n",
      "Mapping Material=Titanium to MATERIAL OHCLASS: TITANIUM\n",
      "embedding_distance_1 | min 0.6899999976158142, max [1.1799999475479126],  average [0.7200000286102295]\n",
      "embedding_distance_2 | min 0.07999999821186066, max [1.6799999475479126],  average [0.15000000596046448]\n"
     ]
    },
    {
     "name": "stderr",
     "output_type": "stream",
     "text": [
      "/home/yazan/Repositories/Personal/mcd-clip/src/mcd_clip/bike_rider_fit/fit_analysis/vectorizedangles.py:158: RuntimeWarning: invalid value encountered in arccos\n",
      "  alpha_1 = np.arccos((x_1 ** 2 - UL_s - x_2 ** 2) / (-2 * UL * x_2))\n",
      "/home/yazan/Repositories/Personal/mcd-clip/src/mcd_clip/bike_rider_fit/fit_analysis/demoanalysis.py:76: RuntimeWarning: invalid value encountered in arccos\n",
      "  Tksp2 = np.arccos(\n",
      "/home/yazan/Repositories/Personal/mcd-clip/src/mcd_clip/bike_rider_fit/fit_analysis/vectorizedangles.py:158: RuntimeWarning: invalid value encountered in arccos\n",
      "  alpha_1 = np.arccos((x_1 ** 2 - UL_s - x_2 ** 2) / (-2 * UL * x_2))\n"
     ]
    },
    {
     "name": "stdout",
     "output_type": "stream",
     "text": [
      "Validation result: fraction invalid [0.086]\n",
      "Validation result: fraction invalid [0.088]\n",
      "Validation result: fraction invalid [0.084]\n",
      "Validation result: fraction invalid [0.07]\n",
      "Validation result: fraction invalid [0.0]\n",
      "Validation result: fraction invalid [0.004]\n",
      "   131 |    65000 |    500 |  0.000000E+00 |  0.000000E+00 |  0.0068286544 |             f\n"
     ]
    },
    {
     "name": "stderr",
     "output_type": "stream",
     "text": [
      "/home/yazan/Repositories/Personal/mcd-clip/venv/lib/python3.10/site-packages/pymoo/operators/crossover/sbx.py:42: RuntimeWarning: divide by zero encountered in power\n",
      "  alpha = 2.0 - np.power(beta, -(eta + 1.0))\n",
      "/home/yazan/Repositories/Personal/mcd-clip/venv/lib/python3.10/site-packages/pymoo/operators/crossover/sbx.py:47: RuntimeWarning: invalid value encountered in power\n",
      "  betaq[mask] = np.power((rand * alpha), (1.0 / (eta + 1.0)))[mask]\n",
      "/home/yazan/Repositories/Personal/mcd-clip/venv/lib/python3.10/site-packages/pymoo/operators/mutation/pm.py:45: RuntimeWarning: invalid value encountered in power\n",
      "  d = np.power(val, mut_pow) - 1.0\n"
     ]
    },
    {
     "name": "stdout",
     "output_type": "stream",
     "text": [
      "Found framed material columns ['Material=Steel', 'Material=Aluminum', 'Material=Titanium']\n",
      "Mapping Material=Steel to MATERIAL OHCLASS: STEEL\n",
      "Mapping Material=Aluminum to MATERIAL OHCLASS: ALUMINUM\n",
      "Mapping Material=Titanium to MATERIAL OHCLASS: TITANIUM\n",
      "Found framed material columns ['Material=Steel', 'Material=Aluminum', 'Material=Titanium']\n",
      "Mapping Material=Steel to MATERIAL OHCLASS: STEEL\n",
      "Mapping Material=Aluminum to MATERIAL OHCLASS: ALUMINUM\n",
      "Mapping Material=Titanium to MATERIAL OHCLASS: TITANIUM\n"
     ]
    },
    {
     "name": "stderr",
     "output_type": "stream",
     "text": [
      "/home/yazan/Repositories/Personal/mcd-clip/src/mcd_clip/bike_rider_fit/fit_analysis/vectorizedangles.py:158: RuntimeWarning: invalid value encountered in arccos\n",
      "  alpha_1 = np.arccos((x_1 ** 2 - UL_s - x_2 ** 2) / (-2 * UL * x_2))\n",
      "/home/yazan/Repositories/Personal/mcd-clip/src/mcd_clip/bike_rider_fit/fit_analysis/demoanalysis.py:76: RuntimeWarning: invalid value encountered in arccos\n",
      "  Tksp2 = np.arccos(\n",
      "/home/yazan/Repositories/Personal/mcd-clip/src/mcd_clip/bike_rider_fit/fit_analysis/vectorizedangles.py:158: RuntimeWarning: invalid value encountered in arccos\n",
      "  alpha_1 = np.arccos((x_1 ** 2 - UL_s - x_2 ** 2) / (-2 * UL * x_2))\n"
     ]
    },
    {
     "name": "stdout",
     "output_type": "stream",
     "text": [
      "Found framed material columns ['Material=Steel', 'Material=Aluminum', 'Material=Titanium']\n",
      "Mapping Material=Steel to MATERIAL OHCLASS: STEEL\n",
      "Mapping Material=Aluminum to MATERIAL OHCLASS: ALUMINUM\n",
      "Mapping Material=Titanium to MATERIAL OHCLASS: TITANIUM\n",
      "embedding_distance_1 | min 0.6899999976158142, max [1.1799999475479126],  average [0.7200000286102295]\n",
      "embedding_distance_2 | min 0.07999999821186066, max [1.6799999475479126],  average [0.12999999523162842]\n",
      "Validation result: fraction invalid [0.082]\n",
      "Validation result: fraction invalid [0.076]\n",
      "Validation result: fraction invalid [0.072]\n",
      "Validation result: fraction invalid [0.07]\n",
      "Validation result: fraction invalid [0.0]\n",
      "Validation result: fraction invalid [0.002]\n",
      "   132 |    65500 |    500 |  0.000000E+00 |  0.000000E+00 |  0.0067943078 |             f\n"
     ]
    },
    {
     "name": "stderr",
     "output_type": "stream",
     "text": [
      "/home/yazan/Repositories/Personal/mcd-clip/venv/lib/python3.10/site-packages/pymoo/operators/crossover/sbx.py:42: RuntimeWarning: divide by zero encountered in power\n",
      "  alpha = 2.0 - np.power(beta, -(eta + 1.0))\n",
      "/home/yazan/Repositories/Personal/mcd-clip/venv/lib/python3.10/site-packages/pymoo/operators/crossover/sbx.py:47: RuntimeWarning: invalid value encountered in power\n",
      "  betaq[mask] = np.power((rand * alpha), (1.0 / (eta + 1.0)))[mask]\n"
     ]
    },
    {
     "name": "stdout",
     "output_type": "stream",
     "text": [
      "Found framed material columns ['Material=Steel', 'Material=Aluminum', 'Material=Titanium']\n",
      "Mapping Material=Steel to MATERIAL OHCLASS: STEEL\n",
      "Mapping Material=Aluminum to MATERIAL OHCLASS: ALUMINUM\n",
      "Mapping Material=Titanium to MATERIAL OHCLASS: TITANIUM\n",
      "Found framed material columns ['Material=Steel', 'Material=Aluminum', 'Material=Titanium']\n",
      "Mapping Material=Steel to MATERIAL OHCLASS: STEEL\n",
      "Mapping Material=Aluminum to MATERIAL OHCLASS: ALUMINUM\n",
      "Mapping Material=Titanium to MATERIAL OHCLASS: TITANIUM\n"
     ]
    },
    {
     "name": "stderr",
     "output_type": "stream",
     "text": [
      "/home/yazan/Repositories/Personal/mcd-clip/src/mcd_clip/bike_rider_fit/fit_analysis/vectorizedangles.py:158: RuntimeWarning: invalid value encountered in arccos\n",
      "  alpha_1 = np.arccos((x_1 ** 2 - UL_s - x_2 ** 2) / (-2 * UL * x_2))\n",
      "/home/yazan/Repositories/Personal/mcd-clip/src/mcd_clip/bike_rider_fit/fit_analysis/demoanalysis.py:76: RuntimeWarning: invalid value encountered in arccos\n",
      "  Tksp2 = np.arccos(\n",
      "/home/yazan/Repositories/Personal/mcd-clip/src/mcd_clip/bike_rider_fit/fit_analysis/vectorizedangles.py:158: RuntimeWarning: invalid value encountered in arccos\n",
      "  alpha_1 = np.arccos((x_1 ** 2 - UL_s - x_2 ** 2) / (-2 * UL * x_2))\n"
     ]
    },
    {
     "name": "stdout",
     "output_type": "stream",
     "text": [
      "Found framed material columns ['Material=Steel', 'Material=Aluminum', 'Material=Titanium']\n",
      "Mapping Material=Steel to MATERIAL OHCLASS: STEEL\n",
      "Mapping Material=Aluminum to MATERIAL OHCLASS: ALUMINUM\n",
      "Mapping Material=Titanium to MATERIAL OHCLASS: TITANIUM\n",
      "embedding_distance_1 | min 0.6899999976158142, max [1.159999966621399],  average [0.7200000286102295]\n",
      "embedding_distance_2 | min 0.07000000029802322, max [1.600000023841858],  average [0.12999999523162842]\n",
      "Validation result: fraction invalid [0.102]\n",
      "Validation result: fraction invalid [0.096]\n",
      "Validation result: fraction invalid [0.1]\n",
      "Validation result: fraction invalid [0.078]\n",
      "Validation result: fraction invalid [0.0]\n",
      "Validation result: fraction invalid [0.002]\n",
      "   133 |    66000 |    500 |  0.000000E+00 |  0.000000E+00 |  0.0524117232 |         nadir\n"
     ]
    },
    {
     "name": "stderr",
     "output_type": "stream",
     "text": [
      "/home/yazan/Repositories/Personal/mcd-clip/venv/lib/python3.10/site-packages/pymoo/operators/crossover/sbx.py:42: RuntimeWarning: divide by zero encountered in power\n",
      "  alpha = 2.0 - np.power(beta, -(eta + 1.0))\n",
      "/home/yazan/Repositories/Personal/mcd-clip/venv/lib/python3.10/site-packages/pymoo/operators/crossover/sbx.py:47: RuntimeWarning: invalid value encountered in power\n",
      "  betaq[mask] = np.power((rand * alpha), (1.0 / (eta + 1.0)))[mask]\n",
      "/home/yazan/Repositories/Personal/mcd-clip/venv/lib/python3.10/site-packages/pymoo/operators/crossover/sbx.py:42: RuntimeWarning: divide by zero encountered in power\n",
      "  alpha = 2.0 - np.power(beta, -(eta + 1.0))\n",
      "/home/yazan/Repositories/Personal/mcd-clip/venv/lib/python3.10/site-packages/pymoo/operators/crossover/sbx.py:47: RuntimeWarning: invalid value encountered in power\n",
      "  betaq[mask] = np.power((rand * alpha), (1.0 / (eta + 1.0)))[mask]\n"
     ]
    },
    {
     "name": "stdout",
     "output_type": "stream",
     "text": [
      "Found framed material columns ['Material=Steel', 'Material=Aluminum', 'Material=Titanium']\n",
      "Mapping Material=Steel to MATERIAL OHCLASS: STEEL\n",
      "Mapping Material=Aluminum to MATERIAL OHCLASS: ALUMINUM\n",
      "Mapping Material=Titanium to MATERIAL OHCLASS: TITANIUM\n",
      "Found framed material columns ['Material=Steel', 'Material=Aluminum', 'Material=Titanium']\n",
      "Mapping Material=Steel to MATERIAL OHCLASS: STEEL\n",
      "Mapping Material=Aluminum to MATERIAL OHCLASS: ALUMINUM\n",
      "Mapping Material=Titanium to MATERIAL OHCLASS: TITANIUM\n"
     ]
    },
    {
     "name": "stderr",
     "output_type": "stream",
     "text": [
      "/home/yazan/Repositories/Personal/mcd-clip/src/mcd_clip/bike_rider_fit/fit_analysis/vectorizedangles.py:158: RuntimeWarning: invalid value encountered in arccos\n",
      "  alpha_1 = np.arccos((x_1 ** 2 - UL_s - x_2 ** 2) / (-2 * UL * x_2))\n",
      "/home/yazan/Repositories/Personal/mcd-clip/src/mcd_clip/bike_rider_fit/fit_analysis/demoanalysis.py:76: RuntimeWarning: invalid value encountered in arccos\n",
      "  Tksp2 = np.arccos(\n",
      "/home/yazan/Repositories/Personal/mcd-clip/src/mcd_clip/bike_rider_fit/fit_analysis/vectorizedangles.py:158: RuntimeWarning: invalid value encountered in arccos\n",
      "  alpha_1 = np.arccos((x_1 ** 2 - UL_s - x_2 ** 2) / (-2 * UL * x_2))\n"
     ]
    },
    {
     "name": "stdout",
     "output_type": "stream",
     "text": [
      "Found framed material columns ['Material=Steel', 'Material=Aluminum', 'Material=Titanium']\n",
      "Mapping Material=Steel to MATERIAL OHCLASS: STEEL\n",
      "Mapping Material=Aluminum to MATERIAL OHCLASS: ALUMINUM\n",
      "Mapping Material=Titanium to MATERIAL OHCLASS: TITANIUM\n",
      "embedding_distance_1 | min 0.699999988079071, max [1.1799999475479126],  average [0.7400000095367432]\n",
      "embedding_distance_2 | min 0.11999999731779099, max [1.6699999570846558],  average [0.1599999964237213]\n",
      "Validation result: fraction invalid [0.044]\n",
      "Validation result: fraction invalid [0.044]\n",
      "Validation result: fraction invalid [0.064]\n",
      "Validation result: fraction invalid [0.062]\n",
      "Validation result: fraction invalid [0.0]\n",
      "Validation result: fraction invalid [0.0]\n",
      "   134 |    66500 |    500 |  0.000000E+00 |  0.000000E+00 |  0.0002731853 |             f\n"
     ]
    },
    {
     "name": "stderr",
     "output_type": "stream",
     "text": [
      "/home/yazan/Repositories/Personal/mcd-clip/venv/lib/python3.10/site-packages/pymoo/operators/crossover/sbx.py:42: RuntimeWarning: divide by zero encountered in power\n",
      "  alpha = 2.0 - np.power(beta, -(eta + 1.0))\n",
      "/home/yazan/Repositories/Personal/mcd-clip/venv/lib/python3.10/site-packages/pymoo/operators/crossover/sbx.py:47: RuntimeWarning: invalid value encountered in power\n",
      "  betaq[mask] = np.power((rand * alpha), (1.0 / (eta + 1.0)))[mask]\n"
     ]
    },
    {
     "name": "stdout",
     "output_type": "stream",
     "text": [
      "Found framed material columns ['Material=Steel', 'Material=Aluminum', 'Material=Titanium']\n",
      "Mapping Material=Steel to MATERIAL OHCLASS: STEEL\n",
      "Mapping Material=Aluminum to MATERIAL OHCLASS: ALUMINUM\n",
      "Mapping Material=Titanium to MATERIAL OHCLASS: TITANIUM\n",
      "Found framed material columns ['Material=Steel', 'Material=Aluminum', 'Material=Titanium']\n",
      "Mapping Material=Steel to MATERIAL OHCLASS: STEEL\n",
      "Mapping Material=Aluminum to MATERIAL OHCLASS: ALUMINUM\n",
      "Mapping Material=Titanium to MATERIAL OHCLASS: TITANIUM\n",
      "Found framed material columns ['Material=Steel', 'Material=Aluminum', 'Material=Titanium']\n",
      "Mapping Material=Steel to MATERIAL OHCLASS: STEEL\n",
      "Mapping Material=Aluminum to MATERIAL OHCLASS: ALUMINUM\n",
      "Mapping Material=Titanium to MATERIAL OHCLASS: TITANIUM\n"
     ]
    },
    {
     "name": "stderr",
     "output_type": "stream",
     "text": [
      "/home/yazan/Repositories/Personal/mcd-clip/src/mcd_clip/bike_rider_fit/fit_analysis/vectorizedangles.py:158: RuntimeWarning: invalid value encountered in arccos\n",
      "  alpha_1 = np.arccos((x_1 ** 2 - UL_s - x_2 ** 2) / (-2 * UL * x_2))\n",
      "/home/yazan/Repositories/Personal/mcd-clip/src/mcd_clip/bike_rider_fit/fit_analysis/demoanalysis.py:76: RuntimeWarning: invalid value encountered in arccos\n",
      "  Tksp2 = np.arccos(\n",
      "/home/yazan/Repositories/Personal/mcd-clip/src/mcd_clip/bike_rider_fit/fit_analysis/vectorizedangles.py:158: RuntimeWarning: invalid value encountered in arccos\n",
      "  alpha_1 = np.arccos((x_1 ** 2 - UL_s - x_2 ** 2) / (-2 * UL * x_2))\n"
     ]
    },
    {
     "name": "stdout",
     "output_type": "stream",
     "text": [
      "embedding_distance_1 | min 0.6899999976158142, max [1.1799999475479126],  average [0.7200000286102295]\n",
      "embedding_distance_2 | min 0.07999999821186066, max [1.6699999570846558],  average [0.14000000059604645]\n",
      "Validation result: fraction invalid [0.084]\n",
      "Validation result: fraction invalid [0.08]\n",
      "Validation result: fraction invalid [0.094]\n",
      "Validation result: fraction invalid [0.08]\n",
      "Validation result: fraction invalid [0.0]\n",
      "Validation result: fraction invalid [0.002]\n",
      "   135 |    67000 |    500 |  0.000000E+00 |  0.000000E+00 |  0.0069378038 |             f\n"
     ]
    },
    {
     "name": "stderr",
     "output_type": "stream",
     "text": [
      "/home/yazan/Repositories/Personal/mcd-clip/venv/lib/python3.10/site-packages/pymoo/operators/crossover/sbx.py:42: RuntimeWarning: divide by zero encountered in power\n",
      "  alpha = 2.0 - np.power(beta, -(eta + 1.0))\n",
      "/home/yazan/Repositories/Personal/mcd-clip/venv/lib/python3.10/site-packages/pymoo/operators/crossover/sbx.py:47: RuntimeWarning: invalid value encountered in power\n",
      "  betaq[mask] = np.power((rand * alpha), (1.0 / (eta + 1.0)))[mask]\n",
      "/home/yazan/Repositories/Personal/mcd-clip/venv/lib/python3.10/site-packages/pymoo/operators/crossover/sbx.py:47: RuntimeWarning: invalid value encountered in power\n",
      "  betaq[mask] = np.power((rand * alpha), (1.0 / (eta + 1.0)))[mask]\n"
     ]
    },
    {
     "name": "stdout",
     "output_type": "stream",
     "text": [
      "Found framed material columns ['Material=Steel', 'Material=Aluminum', 'Material=Titanium']\n",
      "Mapping Material=Steel to MATERIAL OHCLASS: STEEL\n",
      "Mapping Material=Aluminum to MATERIAL OHCLASS: ALUMINUM\n",
      "Mapping Material=Titanium to MATERIAL OHCLASS: TITANIUM\n",
      "Found framed material columns ['Material=Steel', 'Material=Aluminum', 'Material=Titanium']\n",
      "Mapping Material=Steel to MATERIAL OHCLASS: STEEL\n",
      "Mapping Material=Aluminum to MATERIAL OHCLASS: ALUMINUM\n",
      "Mapping Material=Titanium to MATERIAL OHCLASS: TITANIUM\n"
     ]
    },
    {
     "name": "stderr",
     "output_type": "stream",
     "text": [
      "/home/yazan/Repositories/Personal/mcd-clip/src/mcd_clip/bike_rider_fit/fit_analysis/vectorizedangles.py:158: RuntimeWarning: invalid value encountered in arccos\n",
      "  alpha_1 = np.arccos((x_1 ** 2 - UL_s - x_2 ** 2) / (-2 * UL * x_2))\n",
      "/home/yazan/Repositories/Personal/mcd-clip/src/mcd_clip/bike_rider_fit/fit_analysis/demoanalysis.py:76: RuntimeWarning: invalid value encountered in arccos\n",
      "  Tksp2 = np.arccos(\n",
      "/home/yazan/Repositories/Personal/mcd-clip/src/mcd_clip/bike_rider_fit/fit_analysis/vectorizedangles.py:158: RuntimeWarning: invalid value encountered in arccos\n",
      "  alpha_1 = np.arccos((x_1 ** 2 - UL_s - x_2 ** 2) / (-2 * UL * x_2))\n"
     ]
    },
    {
     "name": "stdout",
     "output_type": "stream",
     "text": [
      "Found framed material columns ['Material=Steel', 'Material=Aluminum', 'Material=Titanium']\n",
      "Mapping Material=Steel to MATERIAL OHCLASS: STEEL\n",
      "Mapping Material=Aluminum to MATERIAL OHCLASS: ALUMINUM\n",
      "Mapping Material=Titanium to MATERIAL OHCLASS: TITANIUM\n",
      "embedding_distance_1 | min 0.6899999976158142, max [0.7400000095367432],  average [0.7400000095367432]\n",
      "embedding_distance_2 | min 0.10000000149011612, max [0.20000000298023224],  average [0.15000000596046448]\n",
      "Validation result: fraction invalid [0.016]\n",
      "Validation result: fraction invalid [0.028]\n",
      "Validation result: fraction invalid [0.04]\n",
      "Validation result: fraction invalid [0.028]\n",
      "Validation result: fraction invalid [0.0]\n",
      "Validation result: fraction invalid [0.0]\n",
      "   136 |    67500 |    500 |  0.000000E+00 |  0.000000E+00 |  0.0005507246 |             f\n"
     ]
    },
    {
     "name": "stderr",
     "output_type": "stream",
     "text": [
      "/home/yazan/Repositories/Personal/mcd-clip/venv/lib/python3.10/site-packages/pymoo/operators/crossover/sbx.py:42: RuntimeWarning: divide by zero encountered in power\n",
      "  alpha = 2.0 - np.power(beta, -(eta + 1.0))\n",
      "/home/yazan/Repositories/Personal/mcd-clip/venv/lib/python3.10/site-packages/pymoo/operators/crossover/sbx.py:47: RuntimeWarning: invalid value encountered in power\n",
      "  betaq[mask] = np.power((rand * alpha), (1.0 / (eta + 1.0)))[mask]\n"
     ]
    },
    {
     "name": "stdout",
     "output_type": "stream",
     "text": [
      "Found framed material columns ['Material=Steel', 'Material=Aluminum', 'Material=Titanium']\n",
      "Mapping Material=Steel to MATERIAL OHCLASS: STEEL\n",
      "Mapping Material=Aluminum to MATERIAL OHCLASS: ALUMINUM\n",
      "Mapping Material=Titanium to MATERIAL OHCLASS: TITANIUM\n",
      "Found framed material columns ['Material=Steel', 'Material=Aluminum', 'Material=Titanium']\n",
      "Mapping Material=Steel to MATERIAL OHCLASS: STEEL\n",
      "Mapping Material=Aluminum to MATERIAL OHCLASS: ALUMINUM\n",
      "Mapping Material=Titanium to MATERIAL OHCLASS: TITANIUM\n",
      "Found framed material columns ['Material=Steel', 'Material=Aluminum', 'Material=Titanium']\n",
      "Mapping Material=Steel to MATERIAL OHCLASS: STEEL\n",
      "Mapping Material=Aluminum to MATERIAL OHCLASS: ALUMINUM\n",
      "Mapping Material=Titanium to MATERIAL OHCLASS: TITANIUM\n"
     ]
    },
    {
     "name": "stderr",
     "output_type": "stream",
     "text": [
      "/home/yazan/Repositories/Personal/mcd-clip/src/mcd_clip/bike_rider_fit/fit_analysis/vectorizedangles.py:158: RuntimeWarning: invalid value encountered in arccos\n",
      "  alpha_1 = np.arccos((x_1 ** 2 - UL_s - x_2 ** 2) / (-2 * UL * x_2))\n",
      "/home/yazan/Repositories/Personal/mcd-clip/src/mcd_clip/bike_rider_fit/fit_analysis/demoanalysis.py:76: RuntimeWarning: invalid value encountered in arccos\n",
      "  Tksp2 = np.arccos(\n",
      "/home/yazan/Repositories/Personal/mcd-clip/src/mcd_clip/bike_rider_fit/fit_analysis/vectorizedangles.py:158: RuntimeWarning: invalid value encountered in arccos\n",
      "  alpha_1 = np.arccos((x_1 ** 2 - UL_s - x_2 ** 2) / (-2 * UL * x_2))\n"
     ]
    },
    {
     "name": "stdout",
     "output_type": "stream",
     "text": [
      "embedding_distance_1 | min 0.6899999976158142, max [1.1799999475479126],  average [0.7200000286102295]\n",
      "embedding_distance_2 | min 0.07999999821186066, max [1.690000057220459],  average [0.14000000059604645]\n",
      "Validation result: fraction invalid [0.064]\n",
      "Validation result: fraction invalid [0.06]\n",
      "Validation result: fraction invalid [0.082]\n",
      "Validation result: fraction invalid [0.082]\n",
      "Validation result: fraction invalid [0.0]\n",
      "Validation result: fraction invalid [0.002]\n",
      "   137 |    68000 |    500 |  0.000000E+00 |  0.000000E+00 |  0.0034700363 |         ideal\n"
     ]
    },
    {
     "name": "stderr",
     "output_type": "stream",
     "text": [
      "/home/yazan/Repositories/Personal/mcd-clip/venv/lib/python3.10/site-packages/pymoo/operators/crossover/sbx.py:47: RuntimeWarning: invalid value encountered in power\n",
      "  betaq[mask] = np.power((rand * alpha), (1.0 / (eta + 1.0)))[mask]\n"
     ]
    },
    {
     "name": "stdout",
     "output_type": "stream",
     "text": [
      "Found framed material columns ['Material=Steel', 'Material=Aluminum', 'Material=Titanium']\n",
      "Mapping Material=Steel to MATERIAL OHCLASS: STEEL\n",
      "Mapping Material=Aluminum to MATERIAL OHCLASS: ALUMINUM\n",
      "Mapping Material=Titanium to MATERIAL OHCLASS: TITANIUM\n",
      "Found framed material columns ['Material=Steel', 'Material=Aluminum', 'Material=Titanium']\n",
      "Mapping Material=Steel to MATERIAL OHCLASS: STEEL\n",
      "Mapping Material=Aluminum to MATERIAL OHCLASS: ALUMINUM\n",
      "Mapping Material=Titanium to MATERIAL OHCLASS: TITANIUM\n"
     ]
    },
    {
     "name": "stderr",
     "output_type": "stream",
     "text": [
      "/home/yazan/Repositories/Personal/mcd-clip/src/mcd_clip/bike_rider_fit/fit_analysis/vectorizedangles.py:158: RuntimeWarning: invalid value encountered in arccos\n",
      "  alpha_1 = np.arccos((x_1 ** 2 - UL_s - x_2 ** 2) / (-2 * UL * x_2))\n",
      "/home/yazan/Repositories/Personal/mcd-clip/src/mcd_clip/bike_rider_fit/fit_analysis/demoanalysis.py:76: RuntimeWarning: invalid value encountered in arccos\n",
      "  Tksp2 = np.arccos(\n",
      "/home/yazan/Repositories/Personal/mcd-clip/src/mcd_clip/bike_rider_fit/fit_analysis/vectorizedangles.py:158: RuntimeWarning: invalid value encountered in arccos\n",
      "  alpha_1 = np.arccos((x_1 ** 2 - UL_s - x_2 ** 2) / (-2 * UL * x_2))\n"
     ]
    },
    {
     "name": "stdout",
     "output_type": "stream",
     "text": [
      "Found framed material columns ['Material=Steel', 'Material=Aluminum', 'Material=Titanium']\n",
      "Mapping Material=Steel to MATERIAL OHCLASS: STEEL\n",
      "Mapping Material=Aluminum to MATERIAL OHCLASS: ALUMINUM\n",
      "Mapping Material=Titanium to MATERIAL OHCLASS: TITANIUM\n",
      "embedding_distance_1 | min 0.6899999976158142, max [1.1799999475479126],  average [0.7200000286102295]\n",
      "embedding_distance_2 | min 0.07999999821186066, max [1.6799999475479126],  average [0.14000000059604645]\n",
      "Validation result: fraction invalid [0.08]\n",
      "Validation result: fraction invalid [0.084]\n",
      "Validation result: fraction invalid [0.072]\n",
      "Validation result: fraction invalid [0.072]\n",
      "Validation result: fraction invalid [0.0]\n",
      "Validation result: fraction invalid [0.002]\n",
      "   138 |    68500 |    500 |  0.000000E+00 |  0.000000E+00 |  0.0058981030 |             f\n"
     ]
    },
    {
     "name": "stderr",
     "output_type": "stream",
     "text": [
      "/home/yazan/Repositories/Personal/mcd-clip/venv/lib/python3.10/site-packages/pymoo/operators/crossover/sbx.py:42: RuntimeWarning: divide by zero encountered in power\n",
      "  alpha = 2.0 - np.power(beta, -(eta + 1.0))\n",
      "/home/yazan/Repositories/Personal/mcd-clip/venv/lib/python3.10/site-packages/pymoo/operators/crossover/sbx.py:47: RuntimeWarning: invalid value encountered in power\n",
      "  betaq[mask] = np.power((rand * alpha), (1.0 / (eta + 1.0)))[mask]\n",
      "/home/yazan/Repositories/Personal/mcd-clip/venv/lib/python3.10/site-packages/pymoo/operators/mutation/pm.py:45: RuntimeWarning: invalid value encountered in power\n",
      "  d = np.power(val, mut_pow) - 1.0\n"
     ]
    },
    {
     "name": "stdout",
     "output_type": "stream",
     "text": [
      "Found framed material columns ['Material=Steel', 'Material=Aluminum', 'Material=Titanium']\n",
      "Mapping Material=Steel to MATERIAL OHCLASS: STEEL\n",
      "Mapping Material=Aluminum to MATERIAL OHCLASS: ALUMINUM\n",
      "Mapping Material=Titanium to MATERIAL OHCLASS: TITANIUM\n",
      "Found framed material columns ['Material=Steel', 'Material=Aluminum', 'Material=Titanium']\n",
      "Mapping Material=Steel to MATERIAL OHCLASS: STEEL\n",
      "Mapping Material=Aluminum to MATERIAL OHCLASS: ALUMINUM\n",
      "Mapping Material=Titanium to MATERIAL OHCLASS: TITANIUM\n"
     ]
    },
    {
     "name": "stderr",
     "output_type": "stream",
     "text": [
      "/home/yazan/Repositories/Personal/mcd-clip/src/mcd_clip/bike_rider_fit/fit_analysis/vectorizedangles.py:158: RuntimeWarning: invalid value encountered in arccos\n",
      "  alpha_1 = np.arccos((x_1 ** 2 - UL_s - x_2 ** 2) / (-2 * UL * x_2))\n",
      "/home/yazan/Repositories/Personal/mcd-clip/src/mcd_clip/bike_rider_fit/fit_analysis/demoanalysis.py:76: RuntimeWarning: invalid value encountered in arccos\n",
      "  Tksp2 = np.arccos(\n",
      "/home/yazan/Repositories/Personal/mcd-clip/src/mcd_clip/bike_rider_fit/fit_analysis/vectorizedangles.py:158: RuntimeWarning: invalid value encountered in arccos\n",
      "  alpha_1 = np.arccos((x_1 ** 2 - UL_s - x_2 ** 2) / (-2 * UL * x_2))\n"
     ]
    },
    {
     "name": "stdout",
     "output_type": "stream",
     "text": [
      "Found framed material columns ['Material=Steel', 'Material=Aluminum', 'Material=Titanium']\n",
      "Mapping Material=Steel to MATERIAL OHCLASS: STEEL\n",
      "Mapping Material=Aluminum to MATERIAL OHCLASS: ALUMINUM\n",
      "Mapping Material=Titanium to MATERIAL OHCLASS: TITANIUM\n",
      "embedding_distance_1 | min 0.6899999976158142, max [1.1799999475479126],  average [0.7300000190734863]\n",
      "embedding_distance_2 | min 0.09000000357627869, max [1.6799999475479126],  average [0.1599999964237213]\n",
      "Validation result: fraction invalid [0.124]\n",
      "Validation result: fraction invalid [0.154]\n",
      "Validation result: fraction invalid [0.162]\n",
      "Validation result: fraction invalid [0.178]\n",
      "Validation result: fraction invalid [0.0]\n",
      "Validation result: fraction invalid [0.002]\n",
      "   139 |    69000 |    500 |  0.000000E+00 |  0.000000E+00 |  0.0027019488 |             f\n"
     ]
    },
    {
     "name": "stderr",
     "output_type": "stream",
     "text": [
      "/home/yazan/Repositories/Personal/mcd-clip/venv/lib/python3.10/site-packages/pymoo/operators/crossover/sbx.py:42: RuntimeWarning: divide by zero encountered in power\n",
      "  alpha = 2.0 - np.power(beta, -(eta + 1.0))\n",
      "/home/yazan/Repositories/Personal/mcd-clip/venv/lib/python3.10/site-packages/pymoo/operators/crossover/sbx.py:47: RuntimeWarning: invalid value encountered in power\n",
      "  betaq[mask] = np.power((rand * alpha), (1.0 / (eta + 1.0)))[mask]\n",
      "/home/yazan/Repositories/Personal/mcd-clip/venv/lib/python3.10/site-packages/pymoo/operators/mutation/pm.py:45: RuntimeWarning: invalid value encountered in power\n",
      "  d = np.power(val, mut_pow) - 1.0\n"
     ]
    },
    {
     "name": "stdout",
     "output_type": "stream",
     "text": [
      "Found framed material columns ['Material=Steel', 'Material=Aluminum', 'Material=Titanium']\n",
      "Mapping Material=Steel to MATERIAL OHCLASS: STEEL\n",
      "Mapping Material=Aluminum to MATERIAL OHCLASS: ALUMINUM\n",
      "Mapping Material=Titanium to MATERIAL OHCLASS: TITANIUM\n",
      "Found framed material columns ['Material=Steel', 'Material=Aluminum', 'Material=Titanium']\n",
      "Mapping Material=Steel to MATERIAL OHCLASS: STEEL\n",
      "Mapping Material=Aluminum to MATERIAL OHCLASS: ALUMINUM\n",
      "Mapping Material=Titanium to MATERIAL OHCLASS: TITANIUM\n"
     ]
    },
    {
     "name": "stderr",
     "output_type": "stream",
     "text": [
      "/home/yazan/Repositories/Personal/mcd-clip/src/mcd_clip/bike_rider_fit/fit_analysis/vectorizedangles.py:158: RuntimeWarning: invalid value encountered in arccos\n",
      "  alpha_1 = np.arccos((x_1 ** 2 - UL_s - x_2 ** 2) / (-2 * UL * x_2))\n",
      "/home/yazan/Repositories/Personal/mcd-clip/src/mcd_clip/bike_rider_fit/fit_analysis/demoanalysis.py:76: RuntimeWarning: invalid value encountered in arccos\n",
      "  Tksp2 = np.arccos(\n",
      "/home/yazan/Repositories/Personal/mcd-clip/src/mcd_clip/bike_rider_fit/fit_analysis/vectorizedangles.py:158: RuntimeWarning: invalid value encountered in arccos\n",
      "  alpha_1 = np.arccos((x_1 ** 2 - UL_s - x_2 ** 2) / (-2 * UL * x_2))\n"
     ]
    },
    {
     "name": "stdout",
     "output_type": "stream",
     "text": [
      "Found framed material columns ['Material=Steel', 'Material=Aluminum', 'Material=Titanium']\n",
      "Mapping Material=Steel to MATERIAL OHCLASS: STEEL\n",
      "Mapping Material=Aluminum to MATERIAL OHCLASS: ALUMINUM\n",
      "Mapping Material=Titanium to MATERIAL OHCLASS: TITANIUM\n",
      "embedding_distance_1 | min 0.6899999976158142, max [1.1799999475479126],  average [0.7200000286102295]\n",
      "embedding_distance_2 | min 0.07999999821186066, max [1.6699999570846558],  average [0.14000000059604645]\n",
      "Validation result: fraction invalid [0.082]\n",
      "Validation result: fraction invalid [0.084]\n",
      "Validation result: fraction invalid [0.086]\n",
      "Validation result: fraction invalid [0.084]\n",
      "Validation result: fraction invalid [0.0]\n",
      "Validation result: fraction invalid [0.0]\n",
      "   140 |    69500 |    500 |  0.000000E+00 |  0.000000E+00 |  0.0055599623 |             f\n"
     ]
    },
    {
     "name": "stderr",
     "output_type": "stream",
     "text": [
      "/home/yazan/Repositories/Personal/mcd-clip/venv/lib/python3.10/site-packages/pymoo/operators/crossover/sbx.py:42: RuntimeWarning: divide by zero encountered in power\n",
      "  alpha = 2.0 - np.power(beta, -(eta + 1.0))\n",
      "/home/yazan/Repositories/Personal/mcd-clip/venv/lib/python3.10/site-packages/pymoo/operators/crossover/sbx.py:47: RuntimeWarning: invalid value encountered in power\n",
      "  betaq[mask] = np.power((rand * alpha), (1.0 / (eta + 1.0)))[mask]\n",
      "/home/yazan/Repositories/Personal/mcd-clip/venv/lib/python3.10/site-packages/pymoo/operators/crossover/sbx.py:42: RuntimeWarning: divide by zero encountered in power\n",
      "  alpha = 2.0 - np.power(beta, -(eta + 1.0))\n",
      "/home/yazan/Repositories/Personal/mcd-clip/venv/lib/python3.10/site-packages/pymoo/operators/crossover/sbx.py:47: RuntimeWarning: invalid value encountered in power\n",
      "  betaq[mask] = np.power((rand * alpha), (1.0 / (eta + 1.0)))[mask]\n"
     ]
    },
    {
     "name": "stdout",
     "output_type": "stream",
     "text": [
      "Found framed material columns ['Material=Steel', 'Material=Aluminum', 'Material=Titanium']\n",
      "Mapping Material=Steel to MATERIAL OHCLASS: STEEL\n",
      "Mapping Material=Aluminum to MATERIAL OHCLASS: ALUMINUM\n",
      "Mapping Material=Titanium to MATERIAL OHCLASS: TITANIUM\n",
      "Found framed material columns ['Material=Steel', 'Material=Aluminum', 'Material=Titanium']\n",
      "Mapping Material=Steel to MATERIAL OHCLASS: STEEL\n",
      "Mapping Material=Aluminum to MATERIAL OHCLASS: ALUMINUM\n",
      "Mapping Material=Titanium to MATERIAL OHCLASS: TITANIUM\n"
     ]
    },
    {
     "name": "stderr",
     "output_type": "stream",
     "text": [
      "/home/yazan/Repositories/Personal/mcd-clip/src/mcd_clip/bike_rider_fit/fit_analysis/vectorizedangles.py:158: RuntimeWarning: invalid value encountered in arccos\n",
      "  alpha_1 = np.arccos((x_1 ** 2 - UL_s - x_2 ** 2) / (-2 * UL * x_2))\n",
      "/home/yazan/Repositories/Personal/mcd-clip/src/mcd_clip/bike_rider_fit/fit_analysis/demoanalysis.py:76: RuntimeWarning: invalid value encountered in arccos\n",
      "  Tksp2 = np.arccos(\n",
      "/home/yazan/Repositories/Personal/mcd-clip/src/mcd_clip/bike_rider_fit/fit_analysis/vectorizedangles.py:158: RuntimeWarning: invalid value encountered in arccos\n",
      "  alpha_1 = np.arccos((x_1 ** 2 - UL_s - x_2 ** 2) / (-2 * UL * x_2))\n"
     ]
    },
    {
     "name": "stdout",
     "output_type": "stream",
     "text": [
      "Found framed material columns ['Material=Steel', 'Material=Aluminum', 'Material=Titanium']\n",
      "Mapping Material=Steel to MATERIAL OHCLASS: STEEL\n",
      "Mapping Material=Aluminum to MATERIAL OHCLASS: ALUMINUM\n",
      "Mapping Material=Titanium to MATERIAL OHCLASS: TITANIUM\n",
      "embedding_distance_1 | min 0.699999988079071, max [1.1799999475479126],  average [0.7300000190734863]\n",
      "embedding_distance_2 | min 0.09000000357627869, max [1.6699999570846558],  average [0.15000000596046448]\n",
      "Validation result: fraction invalid [0.082]\n",
      "Validation result: fraction invalid [0.096]\n",
      "Validation result: fraction invalid [0.118]\n",
      "Validation result: fraction invalid [0.102]\n",
      "Validation result: fraction invalid [0.0]\n",
      "Validation result: fraction invalid [0.0]\n",
      "   141 |    70000 |    500 |  0.000000E+00 |  0.000000E+00 |  0.0009310908 |             f\n"
     ]
    },
    {
     "name": "stderr",
     "output_type": "stream",
     "text": [
      "/home/yazan/Repositories/Personal/mcd-clip/venv/lib/python3.10/site-packages/pymoo/operators/crossover/sbx.py:42: RuntimeWarning: divide by zero encountered in power\n",
      "  alpha = 2.0 - np.power(beta, -(eta + 1.0))\n",
      "/home/yazan/Repositories/Personal/mcd-clip/venv/lib/python3.10/site-packages/pymoo/operators/crossover/sbx.py:47: RuntimeWarning: invalid value encountered in power\n",
      "  betaq[mask] = np.power((rand * alpha), (1.0 / (eta + 1.0)))[mask]\n",
      "/home/yazan/Repositories/Personal/mcd-clip/venv/lib/python3.10/site-packages/pymoo/operators/crossover/sbx.py:42: RuntimeWarning: divide by zero encountered in power\n",
      "  alpha = 2.0 - np.power(beta, -(eta + 1.0))\n",
      "/home/yazan/Repositories/Personal/mcd-clip/venv/lib/python3.10/site-packages/pymoo/operators/crossover/sbx.py:47: RuntimeWarning: invalid value encountered in power\n",
      "  betaq[mask] = np.power((rand * alpha), (1.0 / (eta + 1.0)))[mask]\n"
     ]
    },
    {
     "name": "stdout",
     "output_type": "stream",
     "text": [
      "Found framed material columns ['Material=Steel', 'Material=Aluminum', 'Material=Titanium']\n",
      "Mapping Material=Steel to MATERIAL OHCLASS: STEEL\n",
      "Mapping Material=Aluminum to MATERIAL OHCLASS: ALUMINUM\n",
      "Mapping Material=Titanium to MATERIAL OHCLASS: TITANIUM\n",
      "Found framed material columns ['Material=Steel', 'Material=Aluminum', 'Material=Titanium']\n",
      "Mapping Material=Steel to MATERIAL OHCLASS: STEEL\n",
      "Mapping Material=Aluminum to MATERIAL OHCLASS: ALUMINUM\n",
      "Mapping Material=Titanium to MATERIAL OHCLASS: TITANIUM\n",
      "Found framed material columns ['Material=Steel', 'Material=Aluminum', 'Material=Titanium']\n",
      "Mapping Material=Steel to MATERIAL OHCLASS: STEEL\n",
      "Mapping Material=Aluminum to MATERIAL OHCLASS: ALUMINUM\n",
      "Mapping Material=Titanium to MATERIAL OHCLASS: TITANIUM\n",
      "embedding_distance_1 | min 0.6899999976158142, max [1.1799999475479126],  average [0.7300000190734863]\n",
      "embedding_distance_2 | min 0.07999999821186066, max [1.6699999570846558],  average [0.15000000596046448]\n"
     ]
    },
    {
     "name": "stderr",
     "output_type": "stream",
     "text": [
      "/home/yazan/Repositories/Personal/mcd-clip/src/mcd_clip/bike_rider_fit/fit_analysis/vectorizedangles.py:158: RuntimeWarning: invalid value encountered in arccos\n",
      "  alpha_1 = np.arccos((x_1 ** 2 - UL_s - x_2 ** 2) / (-2 * UL * x_2))\n",
      "/home/yazan/Repositories/Personal/mcd-clip/src/mcd_clip/bike_rider_fit/fit_analysis/demoanalysis.py:76: RuntimeWarning: invalid value encountered in arccos\n",
      "  Tksp2 = np.arccos(\n",
      "/home/yazan/Repositories/Personal/mcd-clip/src/mcd_clip/bike_rider_fit/fit_analysis/vectorizedangles.py:158: RuntimeWarning: invalid value encountered in arccos\n",
      "  alpha_1 = np.arccos((x_1 ** 2 - UL_s - x_2 ** 2) / (-2 * UL * x_2))\n"
     ]
    },
    {
     "name": "stdout",
     "output_type": "stream",
     "text": [
      "Validation result: fraction invalid [0.026]\n",
      "Validation result: fraction invalid [0.026]\n",
      "Validation result: fraction invalid [0.032]\n",
      "Validation result: fraction invalid [0.024]\n",
      "Validation result: fraction invalid [0.0]\n",
      "Validation result: fraction invalid [0.0]\n",
      "   142 |    70500 |    500 |  0.000000E+00 |  0.000000E+00 |  0.0027359164 |             f\n"
     ]
    },
    {
     "name": "stderr",
     "output_type": "stream",
     "text": [
      "/home/yazan/Repositories/Personal/mcd-clip/venv/lib/python3.10/site-packages/pymoo/operators/crossover/sbx.py:42: RuntimeWarning: divide by zero encountered in power\n",
      "  alpha = 2.0 - np.power(beta, -(eta + 1.0))\n",
      "/home/yazan/Repositories/Personal/mcd-clip/venv/lib/python3.10/site-packages/pymoo/operators/crossover/sbx.py:47: RuntimeWarning: invalid value encountered in power\n",
      "  betaq[mask] = np.power((rand * alpha), (1.0 / (eta + 1.0)))[mask]\n"
     ]
    },
    {
     "name": "stdout",
     "output_type": "stream",
     "text": [
      "Found framed material columns ['Material=Steel', 'Material=Aluminum', 'Material=Titanium']\n",
      "Mapping Material=Steel to MATERIAL OHCLASS: STEEL\n",
      "Mapping Material=Aluminum to MATERIAL OHCLASS: ALUMINUM\n",
      "Mapping Material=Titanium to MATERIAL OHCLASS: TITANIUM\n",
      "Found framed material columns ['Material=Steel', 'Material=Aluminum', 'Material=Titanium']\n",
      "Mapping Material=Steel to MATERIAL OHCLASS: STEEL\n",
      "Mapping Material=Aluminum to MATERIAL OHCLASS: ALUMINUM\n",
      "Mapping Material=Titanium to MATERIAL OHCLASS: TITANIUM\n"
     ]
    },
    {
     "name": "stderr",
     "output_type": "stream",
     "text": [
      "/home/yazan/Repositories/Personal/mcd-clip/src/mcd_clip/bike_rider_fit/fit_analysis/vectorizedangles.py:158: RuntimeWarning: invalid value encountered in arccos\n",
      "  alpha_1 = np.arccos((x_1 ** 2 - UL_s - x_2 ** 2) / (-2 * UL * x_2))\n",
      "/home/yazan/Repositories/Personal/mcd-clip/src/mcd_clip/bike_rider_fit/fit_analysis/demoanalysis.py:76: RuntimeWarning: invalid value encountered in arccos\n",
      "  Tksp2 = np.arccos(\n",
      "/home/yazan/Repositories/Personal/mcd-clip/src/mcd_clip/bike_rider_fit/fit_analysis/vectorizedangles.py:158: RuntimeWarning: invalid value encountered in arccos\n",
      "  alpha_1 = np.arccos((x_1 ** 2 - UL_s - x_2 ** 2) / (-2 * UL * x_2))\n"
     ]
    },
    {
     "name": "stdout",
     "output_type": "stream",
     "text": [
      "Found framed material columns ['Material=Steel', 'Material=Aluminum', 'Material=Titanium']\n",
      "Mapping Material=Steel to MATERIAL OHCLASS: STEEL\n",
      "Mapping Material=Aluminum to MATERIAL OHCLASS: ALUMINUM\n",
      "Mapping Material=Titanium to MATERIAL OHCLASS: TITANIUM\n",
      "embedding_distance_1 | min 0.6800000071525574, max [1.149999976158142],  average [0.7200000286102295]\n",
      "embedding_distance_2 | min 0.07999999821186066, max [1.559999942779541],  average [0.12999999523162842]\n",
      "Validation result: fraction invalid [0.102]\n",
      "Validation result: fraction invalid [0.094]\n",
      "Validation result: fraction invalid [0.092]\n",
      "Validation result: fraction invalid [0.082]\n",
      "Validation result: fraction invalid [0.0]\n",
      "Validation result: fraction invalid [0.004]\n",
      "   143 |    71000 |    500 |  0.000000E+00 |  0.000000E+00 |  0.0089904545 |         ideal\n"
     ]
    },
    {
     "name": "stderr",
     "output_type": "stream",
     "text": [
      "/home/yazan/Repositories/Personal/mcd-clip/venv/lib/python3.10/site-packages/pymoo/operators/crossover/sbx.py:42: RuntimeWarning: divide by zero encountered in power\n",
      "  alpha = 2.0 - np.power(beta, -(eta + 1.0))\n",
      "/home/yazan/Repositories/Personal/mcd-clip/venv/lib/python3.10/site-packages/pymoo/operators/crossover/sbx.py:47: RuntimeWarning: invalid value encountered in power\n",
      "  betaq[mask] = np.power((rand * alpha), (1.0 / (eta + 1.0)))[mask]\n"
     ]
    },
    {
     "name": "stdout",
     "output_type": "stream",
     "text": [
      "Found framed material columns ['Material=Steel', 'Material=Aluminum', 'Material=Titanium']\n",
      "Mapping Material=Steel to MATERIAL OHCLASS: STEEL\n",
      "Mapping Material=Aluminum to MATERIAL OHCLASS: ALUMINUM\n",
      "Mapping Material=Titanium to MATERIAL OHCLASS: TITANIUM\n",
      "Found framed material columns ['Material=Steel', 'Material=Aluminum', 'Material=Titanium']\n",
      "Mapping Material=Steel to MATERIAL OHCLASS: STEEL\n",
      "Mapping Material=Aluminum to MATERIAL OHCLASS: ALUMINUM\n",
      "Mapping Material=Titanium to MATERIAL OHCLASS: TITANIUM\n"
     ]
    },
    {
     "name": "stderr",
     "output_type": "stream",
     "text": [
      "/home/yazan/Repositories/Personal/mcd-clip/src/mcd_clip/bike_rider_fit/fit_analysis/vectorizedangles.py:158: RuntimeWarning: invalid value encountered in arccos\n",
      "  alpha_1 = np.arccos((x_1 ** 2 - UL_s - x_2 ** 2) / (-2 * UL * x_2))\n",
      "/home/yazan/Repositories/Personal/mcd-clip/src/mcd_clip/bike_rider_fit/fit_analysis/demoanalysis.py:76: RuntimeWarning: invalid value encountered in arccos\n",
      "  Tksp2 = np.arccos(\n",
      "/home/yazan/Repositories/Personal/mcd-clip/src/mcd_clip/bike_rider_fit/fit_analysis/vectorizedangles.py:158: RuntimeWarning: invalid value encountered in arccos\n",
      "  alpha_1 = np.arccos((x_1 ** 2 - UL_s - x_2 ** 2) / (-2 * UL * x_2))\n"
     ]
    },
    {
     "name": "stdout",
     "output_type": "stream",
     "text": [
      "Found framed material columns ['Material=Steel', 'Material=Aluminum', 'Material=Titanium']\n",
      "Mapping Material=Steel to MATERIAL OHCLASS: STEEL\n",
      "Mapping Material=Aluminum to MATERIAL OHCLASS: ALUMINUM\n",
      "Mapping Material=Titanium to MATERIAL OHCLASS: TITANIUM\n",
      "embedding_distance_1 | min 0.6899999976158142, max [1.1799999475479126],  average [0.7200000286102295]\n",
      "embedding_distance_2 | min 0.07999999821186066, max [1.6699999570846558],  average [0.14000000059604645]\n",
      "Validation result: fraction invalid [0.11]\n",
      "Validation result: fraction invalid [0.092]\n",
      "Validation result: fraction invalid [0.1]\n",
      "Validation result: fraction invalid [0.08]\n",
      "Validation result: fraction invalid [0.0]\n",
      "Validation result: fraction invalid [0.01]\n",
      "   144 |    71500 |    500 |  0.000000E+00 |  0.000000E+00 |  0.0050167450 |             f\n"
     ]
    },
    {
     "name": "stderr",
     "output_type": "stream",
     "text": [
      "/home/yazan/Repositories/Personal/mcd-clip/venv/lib/python3.10/site-packages/pymoo/operators/crossover/sbx.py:42: RuntimeWarning: divide by zero encountered in power\n",
      "  alpha = 2.0 - np.power(beta, -(eta + 1.0))\n",
      "/home/yazan/Repositories/Personal/mcd-clip/venv/lib/python3.10/site-packages/pymoo/operators/crossover/sbx.py:47: RuntimeWarning: invalid value encountered in power\n",
      "  betaq[mask] = np.power((rand * alpha), (1.0 / (eta + 1.0)))[mask]\n"
     ]
    },
    {
     "name": "stdout",
     "output_type": "stream",
     "text": [
      "Found framed material columns ['Material=Steel', 'Material=Aluminum', 'Material=Titanium']\n",
      "Mapping Material=Steel to MATERIAL OHCLASS: STEEL\n",
      "Mapping Material=Aluminum to MATERIAL OHCLASS: ALUMINUM\n",
      "Mapping Material=Titanium to MATERIAL OHCLASS: TITANIUM\n",
      "Found framed material columns ['Material=Steel', 'Material=Aluminum', 'Material=Titanium']\n",
      "Mapping Material=Steel to MATERIAL OHCLASS: STEEL\n",
      "Mapping Material=Aluminum to MATERIAL OHCLASS: ALUMINUM\n",
      "Mapping Material=Titanium to MATERIAL OHCLASS: TITANIUM\n",
      "Found framed material columns ['Material=Steel', 'Material=Aluminum', 'Material=Titanium']\n",
      "Mapping Material=Steel to MATERIAL OHCLASS: STEEL\n",
      "Mapping Material=Aluminum to MATERIAL OHCLASS: ALUMINUM\n",
      "Mapping Material=Titanium to MATERIAL OHCLASS: TITANIUM\n",
      "embedding_distance_1 | min 0.7099999785423279, max [1.1699999570846558],  average [0.7400000095367432]\n",
      "embedding_distance_2 | min 0.10999999940395355, max [1.659999966621399],  average [0.1599999964237213]\n"
     ]
    },
    {
     "name": "stderr",
     "output_type": "stream",
     "text": [
      "/home/yazan/Repositories/Personal/mcd-clip/src/mcd_clip/bike_rider_fit/fit_analysis/vectorizedangles.py:158: RuntimeWarning: invalid value encountered in arccos\n",
      "  alpha_1 = np.arccos((x_1 ** 2 - UL_s - x_2 ** 2) / (-2 * UL * x_2))\n",
      "/home/yazan/Repositories/Personal/mcd-clip/src/mcd_clip/bike_rider_fit/fit_analysis/demoanalysis.py:76: RuntimeWarning: invalid value encountered in arccos\n",
      "  Tksp2 = np.arccos(\n",
      "/home/yazan/Repositories/Personal/mcd-clip/src/mcd_clip/bike_rider_fit/fit_analysis/vectorizedangles.py:158: RuntimeWarning: invalid value encountered in arccos\n",
      "  alpha_1 = np.arccos((x_1 ** 2 - UL_s - x_2 ** 2) / (-2 * UL * x_2))\n"
     ]
    },
    {
     "name": "stdout",
     "output_type": "stream",
     "text": [
      "Validation result: fraction invalid [0.05]\n",
      "Validation result: fraction invalid [0.082]\n",
      "Validation result: fraction invalid [0.1]\n",
      "Validation result: fraction invalid [0.072]\n",
      "Validation result: fraction invalid [0.0]\n",
      "Validation result: fraction invalid [0.004]\n",
      "   145 |    72000 |    500 |  0.000000E+00 |  0.000000E+00 |  0.0007485498 |             f\n"
     ]
    },
    {
     "name": "stderr",
     "output_type": "stream",
     "text": [
      "/home/yazan/Repositories/Personal/mcd-clip/venv/lib/python3.10/site-packages/pymoo/operators/crossover/sbx.py:42: RuntimeWarning: divide by zero encountered in power\n",
      "  alpha = 2.0 - np.power(beta, -(eta + 1.0))\n",
      "/home/yazan/Repositories/Personal/mcd-clip/venv/lib/python3.10/site-packages/pymoo/operators/crossover/sbx.py:47: RuntimeWarning: invalid value encountered in power\n",
      "  betaq[mask] = np.power((rand * alpha), (1.0 / (eta + 1.0)))[mask]\n"
     ]
    },
    {
     "name": "stdout",
     "output_type": "stream",
     "text": [
      "Found framed material columns ['Material=Steel', 'Material=Aluminum', 'Material=Titanium']\n",
      "Mapping Material=Steel to MATERIAL OHCLASS: STEEL\n",
      "Mapping Material=Aluminum to MATERIAL OHCLASS: ALUMINUM\n",
      "Mapping Material=Titanium to MATERIAL OHCLASS: TITANIUM\n",
      "Found framed material columns ['Material=Steel', 'Material=Aluminum', 'Material=Titanium']\n",
      "Mapping Material=Steel to MATERIAL OHCLASS: STEEL\n",
      "Mapping Material=Aluminum to MATERIAL OHCLASS: ALUMINUM\n",
      "Mapping Material=Titanium to MATERIAL OHCLASS: TITANIUM\n"
     ]
    },
    {
     "name": "stderr",
     "output_type": "stream",
     "text": [
      "/home/yazan/Repositories/Personal/mcd-clip/src/mcd_clip/bike_rider_fit/fit_analysis/vectorizedangles.py:158: RuntimeWarning: invalid value encountered in arccos\n",
      "  alpha_1 = np.arccos((x_1 ** 2 - UL_s - x_2 ** 2) / (-2 * UL * x_2))\n",
      "/home/yazan/Repositories/Personal/mcd-clip/src/mcd_clip/bike_rider_fit/fit_analysis/demoanalysis.py:76: RuntimeWarning: invalid value encountered in arccos\n",
      "  Tksp2 = np.arccos(\n",
      "/home/yazan/Repositories/Personal/mcd-clip/src/mcd_clip/bike_rider_fit/fit_analysis/vectorizedangles.py:158: RuntimeWarning: invalid value encountered in arccos\n",
      "  alpha_1 = np.arccos((x_1 ** 2 - UL_s - x_2 ** 2) / (-2 * UL * x_2))\n"
     ]
    },
    {
     "name": "stdout",
     "output_type": "stream",
     "text": [
      "Found framed material columns ['Material=Steel', 'Material=Aluminum', 'Material=Titanium']\n",
      "Mapping Material=Steel to MATERIAL OHCLASS: STEEL\n",
      "Mapping Material=Aluminum to MATERIAL OHCLASS: ALUMINUM\n",
      "Mapping Material=Titanium to MATERIAL OHCLASS: TITANIUM\n",
      "embedding_distance_1 | min 0.7099999785423279, max [1.1100000143051147],  average [0.7400000095367432]\n",
      "embedding_distance_2 | min 0.10999999940395355, max [1.4199999570846558],  average [0.15000000596046448]\n",
      "Validation result: fraction invalid [0.05]\n",
      "Validation result: fraction invalid [0.06]\n",
      "Validation result: fraction invalid [0.056]\n",
      "Validation result: fraction invalid [0.066]\n",
      "Validation result: fraction invalid [0.0]\n",
      "Validation result: fraction invalid [0.004]\n",
      "   146 |    72500 |    500 |  0.000000E+00 |  0.000000E+00 |  0.0013039251 |             f\n"
     ]
    },
    {
     "name": "stderr",
     "output_type": "stream",
     "text": [
      "/home/yazan/Repositories/Personal/mcd-clip/venv/lib/python3.10/site-packages/pymoo/operators/crossover/sbx.py:42: RuntimeWarning: divide by zero encountered in power\n",
      "  alpha = 2.0 - np.power(beta, -(eta + 1.0))\n",
      "/home/yazan/Repositories/Personal/mcd-clip/venv/lib/python3.10/site-packages/pymoo/operators/crossover/sbx.py:47: RuntimeWarning: invalid value encountered in power\n",
      "  betaq[mask] = np.power((rand * alpha), (1.0 / (eta + 1.0)))[mask]\n"
     ]
    },
    {
     "name": "stdout",
     "output_type": "stream",
     "text": [
      "Found framed material columns ['Material=Steel', 'Material=Aluminum', 'Material=Titanium']\n",
      "Mapping Material=Steel to MATERIAL OHCLASS: STEEL\n",
      "Mapping Material=Aluminum to MATERIAL OHCLASS: ALUMINUM\n",
      "Mapping Material=Titanium to MATERIAL OHCLASS: TITANIUM\n",
      "Found framed material columns ['Material=Steel', 'Material=Aluminum', 'Material=Titanium']\n",
      "Mapping Material=Steel to MATERIAL OHCLASS: STEEL\n",
      "Mapping Material=Aluminum to MATERIAL OHCLASS: ALUMINUM\n",
      "Mapping Material=Titanium to MATERIAL OHCLASS: TITANIUM\n"
     ]
    },
    {
     "name": "stderr",
     "output_type": "stream",
     "text": [
      "/home/yazan/Repositories/Personal/mcd-clip/src/mcd_clip/bike_rider_fit/fit_analysis/vectorizedangles.py:158: RuntimeWarning: invalid value encountered in arccos\n",
      "  alpha_1 = np.arccos((x_1 ** 2 - UL_s - x_2 ** 2) / (-2 * UL * x_2))\n",
      "/home/yazan/Repositories/Personal/mcd-clip/src/mcd_clip/bike_rider_fit/fit_analysis/demoanalysis.py:76: RuntimeWarning: invalid value encountered in arccos\n",
      "  Tksp2 = np.arccos(\n",
      "/home/yazan/Repositories/Personal/mcd-clip/src/mcd_clip/bike_rider_fit/fit_analysis/vectorizedangles.py:158: RuntimeWarning: invalid value encountered in arccos\n",
      "  alpha_1 = np.arccos((x_1 ** 2 - UL_s - x_2 ** 2) / (-2 * UL * x_2))\n"
     ]
    },
    {
     "name": "stdout",
     "output_type": "stream",
     "text": [
      "Found framed material columns ['Material=Steel', 'Material=Aluminum', 'Material=Titanium']\n",
      "Mapping Material=Steel to MATERIAL OHCLASS: STEEL\n",
      "Mapping Material=Aluminum to MATERIAL OHCLASS: ALUMINUM\n",
      "Mapping Material=Titanium to MATERIAL OHCLASS: TITANIUM\n",
      "embedding_distance_1 | min 0.6899999976158142, max [1.1799999475479126],  average [0.7200000286102295]\n",
      "embedding_distance_2 | min 0.07000000029802322, max [1.690000057220459],  average [0.14000000059604645]\n",
      "Validation result: fraction invalid [0.084]\n",
      "Validation result: fraction invalid [0.076]\n",
      "Validation result: fraction invalid [0.058]\n",
      "Validation result: fraction invalid [0.084]\n",
      "Validation result: fraction invalid [0.0]\n",
      "Validation result: fraction invalid [0.0]\n",
      "   147 |    73000 |    500 |  0.000000E+00 |  0.000000E+00 |  0.0153842341 |         ideal\n"
     ]
    },
    {
     "name": "stderr",
     "output_type": "stream",
     "text": [
      "/home/yazan/Repositories/Personal/mcd-clip/venv/lib/python3.10/site-packages/pymoo/operators/crossover/sbx.py:42: RuntimeWarning: divide by zero encountered in power\n",
      "  alpha = 2.0 - np.power(beta, -(eta + 1.0))\n",
      "/home/yazan/Repositories/Personal/mcd-clip/venv/lib/python3.10/site-packages/pymoo/operators/crossover/sbx.py:47: RuntimeWarning: invalid value encountered in power\n",
      "  betaq[mask] = np.power((rand * alpha), (1.0 / (eta + 1.0)))[mask]\n"
     ]
    },
    {
     "name": "stdout",
     "output_type": "stream",
     "text": [
      "Found framed material columns ['Material=Steel', 'Material=Aluminum', 'Material=Titanium']\n",
      "Mapping Material=Steel to MATERIAL OHCLASS: STEEL\n",
      "Mapping Material=Aluminum to MATERIAL OHCLASS: ALUMINUM\n",
      "Mapping Material=Titanium to MATERIAL OHCLASS: TITANIUM\n",
      "Found framed material columns ['Material=Steel', 'Material=Aluminum', 'Material=Titanium']\n",
      "Mapping Material=Steel to MATERIAL OHCLASS: STEEL\n",
      "Mapping Material=Aluminum to MATERIAL OHCLASS: ALUMINUM\n",
      "Mapping Material=Titanium to MATERIAL OHCLASS: TITANIUM\n"
     ]
    },
    {
     "name": "stderr",
     "output_type": "stream",
     "text": [
      "/home/yazan/Repositories/Personal/mcd-clip/src/mcd_clip/bike_rider_fit/fit_analysis/vectorizedangles.py:158: RuntimeWarning: invalid value encountered in arccos\n",
      "  alpha_1 = np.arccos((x_1 ** 2 - UL_s - x_2 ** 2) / (-2 * UL * x_2))\n",
      "/home/yazan/Repositories/Personal/mcd-clip/src/mcd_clip/bike_rider_fit/fit_analysis/demoanalysis.py:76: RuntimeWarning: invalid value encountered in arccos\n",
      "  Tksp2 = np.arccos(\n",
      "/home/yazan/Repositories/Personal/mcd-clip/src/mcd_clip/bike_rider_fit/fit_analysis/vectorizedangles.py:158: RuntimeWarning: invalid value encountered in arccos\n",
      "  alpha_1 = np.arccos((x_1 ** 2 - UL_s - x_2 ** 2) / (-2 * UL * x_2))\n"
     ]
    },
    {
     "name": "stdout",
     "output_type": "stream",
     "text": [
      "Found framed material columns ['Material=Steel', 'Material=Aluminum', 'Material=Titanium']\n",
      "Mapping Material=Steel to MATERIAL OHCLASS: STEEL\n",
      "Mapping Material=Aluminum to MATERIAL OHCLASS: ALUMINUM\n",
      "Mapping Material=Titanium to MATERIAL OHCLASS: TITANIUM\n",
      "embedding_distance_1 | min 0.6899999976158142, max [1.1799999475479126],  average [0.7200000286102295]\n",
      "embedding_distance_2 | min 0.07999999821186066, max [1.6699999570846558],  average [0.14000000059604645]\n",
      "Validation result: fraction invalid [0.086]\n",
      "Validation result: fraction invalid [0.088]\n",
      "Validation result: fraction invalid [0.098]\n",
      "Validation result: fraction invalid [0.102]\n",
      "Validation result: fraction invalid [0.0]\n",
      "Validation result: fraction invalid [0.004]\n",
      "   148 |    73500 |    500 |  0.000000E+00 |  0.000000E+00 |  0.0553106497 |         nadir\n"
     ]
    },
    {
     "name": "stderr",
     "output_type": "stream",
     "text": [
      "/home/yazan/Repositories/Personal/mcd-clip/venv/lib/python3.10/site-packages/pymoo/operators/crossover/sbx.py:42: RuntimeWarning: divide by zero encountered in power\n",
      "  alpha = 2.0 - np.power(beta, -(eta + 1.0))\n",
      "/home/yazan/Repositories/Personal/mcd-clip/venv/lib/python3.10/site-packages/pymoo/operators/crossover/sbx.py:47: RuntimeWarning: invalid value encountered in power\n",
      "  betaq[mask] = np.power((rand * alpha), (1.0 / (eta + 1.0)))[mask]\n"
     ]
    },
    {
     "name": "stdout",
     "output_type": "stream",
     "text": [
      "Found framed material columns ['Material=Steel', 'Material=Aluminum', 'Material=Titanium']\n",
      "Mapping Material=Steel to MATERIAL OHCLASS: STEEL\n",
      "Mapping Material=Aluminum to MATERIAL OHCLASS: ALUMINUM\n",
      "Mapping Material=Titanium to MATERIAL OHCLASS: TITANIUM\n",
      "Found framed material columns ['Material=Steel', 'Material=Aluminum', 'Material=Titanium']\n",
      "Mapping Material=Steel to MATERIAL OHCLASS: STEEL\n",
      "Mapping Material=Aluminum to MATERIAL OHCLASS: ALUMINUM\n",
      "Mapping Material=Titanium to MATERIAL OHCLASS: TITANIUM\n"
     ]
    },
    {
     "name": "stderr",
     "output_type": "stream",
     "text": [
      "/home/yazan/Repositories/Personal/mcd-clip/src/mcd_clip/bike_rider_fit/fit_analysis/vectorizedangles.py:158: RuntimeWarning: invalid value encountered in arccos\n",
      "  alpha_1 = np.arccos((x_1 ** 2 - UL_s - x_2 ** 2) / (-2 * UL * x_2))\n",
      "/home/yazan/Repositories/Personal/mcd-clip/src/mcd_clip/bike_rider_fit/fit_analysis/demoanalysis.py:76: RuntimeWarning: invalid value encountered in arccos\n",
      "  Tksp2 = np.arccos(\n",
      "/home/yazan/Repositories/Personal/mcd-clip/src/mcd_clip/bike_rider_fit/fit_analysis/vectorizedangles.py:158: RuntimeWarning: invalid value encountered in arccos\n",
      "  alpha_1 = np.arccos((x_1 ** 2 - UL_s - x_2 ** 2) / (-2 * UL * x_2))\n"
     ]
    },
    {
     "name": "stdout",
     "output_type": "stream",
     "text": [
      "Found framed material columns ['Material=Steel', 'Material=Aluminum', 'Material=Titanium']\n",
      "Mapping Material=Steel to MATERIAL OHCLASS: STEEL\n",
      "Mapping Material=Aluminum to MATERIAL OHCLASS: ALUMINUM\n",
      "Mapping Material=Titanium to MATERIAL OHCLASS: TITANIUM\n",
      "embedding_distance_1 | min 0.6899999976158142, max [1.1699999570846558],  average [0.7200000286102295]\n",
      "embedding_distance_2 | min 0.07999999821186066, max [1.6399999856948853],  average [0.12999999523162842]\n",
      "Validation result: fraction invalid [0.094]\n",
      "Validation result: fraction invalid [0.1]\n",
      "Validation result: fraction invalid [0.114]\n",
      "Validation result: fraction invalid [0.132]\n",
      "Validation result: fraction invalid [0.0]\n",
      "Validation result: fraction invalid [0.0]\n",
      "   149 |    74000 |    500 |  0.000000E+00 |  0.000000E+00 |  0.0040592106 |             f\n"
     ]
    },
    {
     "name": "stderr",
     "output_type": "stream",
     "text": [
      "/home/yazan/Repositories/Personal/mcd-clip/venv/lib/python3.10/site-packages/pymoo/operators/crossover/sbx.py:42: RuntimeWarning: divide by zero encountered in power\n",
      "  alpha = 2.0 - np.power(beta, -(eta + 1.0))\n",
      "/home/yazan/Repositories/Personal/mcd-clip/venv/lib/python3.10/site-packages/pymoo/operators/crossover/sbx.py:47: RuntimeWarning: invalid value encountered in power\n",
      "  betaq[mask] = np.power((rand * alpha), (1.0 / (eta + 1.0)))[mask]\n"
     ]
    },
    {
     "name": "stdout",
     "output_type": "stream",
     "text": [
      "Found framed material columns ['Material=Steel', 'Material=Aluminum', 'Material=Titanium']\n",
      "Mapping Material=Steel to MATERIAL OHCLASS: STEEL\n",
      "Mapping Material=Aluminum to MATERIAL OHCLASS: ALUMINUM\n",
      "Mapping Material=Titanium to MATERIAL OHCLASS: TITANIUM\n",
      "Found framed material columns ['Material=Steel', 'Material=Aluminum', 'Material=Titanium']\n",
      "Mapping Material=Steel to MATERIAL OHCLASS: STEEL\n",
      "Mapping Material=Aluminum to MATERIAL OHCLASS: ALUMINUM\n",
      "Mapping Material=Titanium to MATERIAL OHCLASS: TITANIUM\n"
     ]
    },
    {
     "name": "stderr",
     "output_type": "stream",
     "text": [
      "/home/yazan/Repositories/Personal/mcd-clip/src/mcd_clip/bike_rider_fit/fit_analysis/vectorizedangles.py:158: RuntimeWarning: invalid value encountered in arccos\n",
      "  alpha_1 = np.arccos((x_1 ** 2 - UL_s - x_2 ** 2) / (-2 * UL * x_2))\n",
      "/home/yazan/Repositories/Personal/mcd-clip/src/mcd_clip/bike_rider_fit/fit_analysis/demoanalysis.py:76: RuntimeWarning: invalid value encountered in arccos\n",
      "  Tksp2 = np.arccos(\n",
      "/home/yazan/Repositories/Personal/mcd-clip/src/mcd_clip/bike_rider_fit/fit_analysis/vectorizedangles.py:158: RuntimeWarning: invalid value encountered in arccos\n",
      "  alpha_1 = np.arccos((x_1 ** 2 - UL_s - x_2 ** 2) / (-2 * UL * x_2))\n"
     ]
    },
    {
     "name": "stdout",
     "output_type": "stream",
     "text": [
      "Found framed material columns ['Material=Steel', 'Material=Aluminum', 'Material=Titanium']\n",
      "Mapping Material=Steel to MATERIAL OHCLASS: STEEL\n",
      "Mapping Material=Aluminum to MATERIAL OHCLASS: ALUMINUM\n",
      "Mapping Material=Titanium to MATERIAL OHCLASS: TITANIUM\n",
      "embedding_distance_1 | min 0.699999988079071, max [1.1799999475479126],  average [0.7400000095367432]\n",
      "embedding_distance_2 | min 0.09000000357627869, max [1.6799999475479126],  average [0.17000000178813934]\n",
      "Validation result: fraction invalid [0.13]\n",
      "Validation result: fraction invalid [0.088]\n",
      "Validation result: fraction invalid [0.12]\n",
      "Validation result: fraction invalid [0.134]\n",
      "Validation result: fraction invalid [0.0]\n",
      "Validation result: fraction invalid [0.004]\n",
      "   150 |    74500 |    500 |  0.000000E+00 |  0.000000E+00 |  0.0019472303 |             f\n"
     ]
    },
    {
     "name": "stderr",
     "output_type": "stream",
     "text": [
      "/home/yazan/Repositories/Personal/mcd-clip/venv/lib/python3.10/site-packages/pymoo/operators/crossover/sbx.py:42: RuntimeWarning: divide by zero encountered in power\n",
      "  alpha = 2.0 - np.power(beta, -(eta + 1.0))\n",
      "/home/yazan/Repositories/Personal/mcd-clip/venv/lib/python3.10/site-packages/pymoo/operators/crossover/sbx.py:47: RuntimeWarning: invalid value encountered in power\n",
      "  betaq[mask] = np.power((rand * alpha), (1.0 / (eta + 1.0)))[mask]\n"
     ]
    },
    {
     "name": "stdout",
     "output_type": "stream",
     "text": [
      "Found framed material columns ['Material=Steel', 'Material=Aluminum', 'Material=Titanium']\n",
      "Mapping Material=Steel to MATERIAL OHCLASS: STEEL\n",
      "Mapping Material=Aluminum to MATERIAL OHCLASS: ALUMINUM\n",
      "Mapping Material=Titanium to MATERIAL OHCLASS: TITANIUM\n",
      "Found framed material columns ['Material=Steel', 'Material=Aluminum', 'Material=Titanium']\n",
      "Mapping Material=Steel to MATERIAL OHCLASS: STEEL\n",
      "Mapping Material=Aluminum to MATERIAL OHCLASS: ALUMINUM\n",
      "Mapping Material=Titanium to MATERIAL OHCLASS: TITANIUM\n"
     ]
    },
    {
     "name": "stderr",
     "output_type": "stream",
     "text": [
      "/home/yazan/Repositories/Personal/mcd-clip/src/mcd_clip/bike_rider_fit/fit_analysis/vectorizedangles.py:158: RuntimeWarning: invalid value encountered in arccos\n",
      "  alpha_1 = np.arccos((x_1 ** 2 - UL_s - x_2 ** 2) / (-2 * UL * x_2))\n",
      "/home/yazan/Repositories/Personal/mcd-clip/src/mcd_clip/bike_rider_fit/fit_analysis/demoanalysis.py:76: RuntimeWarning: invalid value encountered in arccos\n",
      "  Tksp2 = np.arccos(\n",
      "/home/yazan/Repositories/Personal/mcd-clip/src/mcd_clip/bike_rider_fit/fit_analysis/vectorizedangles.py:158: RuntimeWarning: invalid value encountered in arccos\n",
      "  alpha_1 = np.arccos((x_1 ** 2 - UL_s - x_2 ** 2) / (-2 * UL * x_2))\n"
     ]
    },
    {
     "name": "stdout",
     "output_type": "stream",
     "text": [
      "Found framed material columns ['Material=Steel', 'Material=Aluminum', 'Material=Titanium']\n",
      "Mapping Material=Steel to MATERIAL OHCLASS: STEEL\n",
      "Mapping Material=Aluminum to MATERIAL OHCLASS: ALUMINUM\n",
      "Mapping Material=Titanium to MATERIAL OHCLASS: TITANIUM\n",
      "embedding_distance_1 | min 0.6899999976158142, max [1.1799999475479126],  average [0.7200000286102295]\n",
      "embedding_distance_2 | min 0.07999999821186066, max [1.6799999475479126],  average [0.14000000059604645]\n",
      "Validation result: fraction invalid [0.098]\n",
      "Validation result: fraction invalid [0.092]\n",
      "Validation result: fraction invalid [0.08]\n",
      "Validation result: fraction invalid [0.082]\n",
      "Validation result: fraction invalid [0.0]\n",
      "Validation result: fraction invalid [0.002]\n",
      "   151 |    75000 |    500 |  0.000000E+00 |  0.000000E+00 |  0.0064393693 |             f\n"
     ]
    },
    {
     "name": "stderr",
     "output_type": "stream",
     "text": [
      "/home/yazan/Repositories/Personal/mcd-clip/venv/lib/python3.10/site-packages/pymoo/operators/crossover/sbx.py:42: RuntimeWarning: divide by zero encountered in power\n",
      "  alpha = 2.0 - np.power(beta, -(eta + 1.0))\n",
      "/home/yazan/Repositories/Personal/mcd-clip/venv/lib/python3.10/site-packages/pymoo/operators/crossover/sbx.py:47: RuntimeWarning: invalid value encountered in power\n",
      "  betaq[mask] = np.power((rand * alpha), (1.0 / (eta + 1.0)))[mask]\n"
     ]
    },
    {
     "name": "stdout",
     "output_type": "stream",
     "text": [
      "Found framed material columns ['Material=Steel', 'Material=Aluminum', 'Material=Titanium']\n",
      "Mapping Material=Steel to MATERIAL OHCLASS: STEEL\n",
      "Mapping Material=Aluminum to MATERIAL OHCLASS: ALUMINUM\n",
      "Mapping Material=Titanium to MATERIAL OHCLASS: TITANIUM\n",
      "Found framed material columns ['Material=Steel', 'Material=Aluminum', 'Material=Titanium']\n",
      "Mapping Material=Steel to MATERIAL OHCLASS: STEEL\n",
      "Mapping Material=Aluminum to MATERIAL OHCLASS: ALUMINUM\n",
      "Mapping Material=Titanium to MATERIAL OHCLASS: TITANIUM\n"
     ]
    },
    {
     "name": "stderr",
     "output_type": "stream",
     "text": [
      "/home/yazan/Repositories/Personal/mcd-clip/src/mcd_clip/bike_rider_fit/fit_analysis/vectorizedangles.py:158: RuntimeWarning: invalid value encountered in arccos\n",
      "  alpha_1 = np.arccos((x_1 ** 2 - UL_s - x_2 ** 2) / (-2 * UL * x_2))\n",
      "/home/yazan/Repositories/Personal/mcd-clip/src/mcd_clip/bike_rider_fit/fit_analysis/demoanalysis.py:76: RuntimeWarning: invalid value encountered in arccos\n",
      "  Tksp2 = np.arccos(\n",
      "/home/yazan/Repositories/Personal/mcd-clip/src/mcd_clip/bike_rider_fit/fit_analysis/vectorizedangles.py:158: RuntimeWarning: invalid value encountered in arccos\n",
      "  alpha_1 = np.arccos((x_1 ** 2 - UL_s - x_2 ** 2) / (-2 * UL * x_2))\n"
     ]
    },
    {
     "name": "stdout",
     "output_type": "stream",
     "text": [
      "Found framed material columns ['Material=Steel', 'Material=Aluminum', 'Material=Titanium']\n",
      "Mapping Material=Steel to MATERIAL OHCLASS: STEEL\n",
      "Mapping Material=Aluminum to MATERIAL OHCLASS: ALUMINUM\n",
      "Mapping Material=Titanium to MATERIAL OHCLASS: TITANIUM\n",
      "embedding_distance_1 | min 0.6899999976158142, max [1.1799999475479126],  average [0.7400000095367432]\n",
      "embedding_distance_2 | min 0.09000000357627869, max [1.6699999570846558],  average [0.17000000178813934]\n",
      "Validation result: fraction invalid [0.106]\n",
      "Validation result: fraction invalid [0.112]\n",
      "Validation result: fraction invalid [0.126]\n",
      "Validation result: fraction invalid [0.108]\n",
      "Validation result: fraction invalid [0.0]\n",
      "Validation result: fraction invalid [0.002]\n",
      "   152 |    75500 |    500 |  0.000000E+00 |  0.000000E+00 |  0.0013974357 |             f\n"
     ]
    },
    {
     "name": "stderr",
     "output_type": "stream",
     "text": [
      "/home/yazan/Repositories/Personal/mcd-clip/venv/lib/python3.10/site-packages/pymoo/operators/crossover/sbx.py:42: RuntimeWarning: divide by zero encountered in power\n",
      "  alpha = 2.0 - np.power(beta, -(eta + 1.0))\n",
      "/home/yazan/Repositories/Personal/mcd-clip/venv/lib/python3.10/site-packages/pymoo/operators/crossover/sbx.py:47: RuntimeWarning: invalid value encountered in power\n",
      "  betaq[mask] = np.power((rand * alpha), (1.0 / (eta + 1.0)))[mask]\n"
     ]
    },
    {
     "name": "stdout",
     "output_type": "stream",
     "text": [
      "Found framed material columns ['Material=Steel', 'Material=Aluminum', 'Material=Titanium']\n",
      "Mapping Material=Steel to MATERIAL OHCLASS: STEEL\n",
      "Mapping Material=Aluminum to MATERIAL OHCLASS: ALUMINUM\n",
      "Mapping Material=Titanium to MATERIAL OHCLASS: TITANIUM\n",
      "Found framed material columns ['Material=Steel', 'Material=Aluminum', 'Material=Titanium']\n",
      "Mapping Material=Steel to MATERIAL OHCLASS: STEEL\n",
      "Mapping Material=Aluminum to MATERIAL OHCLASS: ALUMINUM\n",
      "Mapping Material=Titanium to MATERIAL OHCLASS: TITANIUM\n"
     ]
    },
    {
     "name": "stderr",
     "output_type": "stream",
     "text": [
      "/home/yazan/Repositories/Personal/mcd-clip/src/mcd_clip/bike_rider_fit/fit_analysis/vectorizedangles.py:158: RuntimeWarning: invalid value encountered in arccos\n",
      "  alpha_1 = np.arccos((x_1 ** 2 - UL_s - x_2 ** 2) / (-2 * UL * x_2))\n",
      "/home/yazan/Repositories/Personal/mcd-clip/src/mcd_clip/bike_rider_fit/fit_analysis/demoanalysis.py:76: RuntimeWarning: invalid value encountered in arccos\n",
      "  Tksp2 = np.arccos(\n",
      "/home/yazan/Repositories/Personal/mcd-clip/src/mcd_clip/bike_rider_fit/fit_analysis/vectorizedangles.py:158: RuntimeWarning: invalid value encountered in arccos\n",
      "  alpha_1 = np.arccos((x_1 ** 2 - UL_s - x_2 ** 2) / (-2 * UL * x_2))\n"
     ]
    },
    {
     "name": "stdout",
     "output_type": "stream",
     "text": [
      "Found framed material columns ['Material=Steel', 'Material=Aluminum', 'Material=Titanium']\n",
      "Mapping Material=Steel to MATERIAL OHCLASS: STEEL\n",
      "Mapping Material=Aluminum to MATERIAL OHCLASS: ALUMINUM\n",
      "Mapping Material=Titanium to MATERIAL OHCLASS: TITANIUM\n",
      "embedding_distance_1 | min 0.6899999976158142, max [1.1699999570846558],  average [0.7200000286102295]\n",
      "embedding_distance_2 | min 0.07999999821186066, max [1.6299999952316284],  average [0.12999999523162842]\n",
      "Validation result: fraction invalid [0.09]\n",
      "Validation result: fraction invalid [0.09]\n",
      "Validation result: fraction invalid [0.094]\n",
      "Validation result: fraction invalid [0.074]\n",
      "Validation result: fraction invalid [0.0]\n",
      "Validation result: fraction invalid [0.002]\n",
      "   153 |    76000 |    500 |  0.000000E+00 |  0.000000E+00 |  0.0065833468 |             f\n"
     ]
    },
    {
     "name": "stderr",
     "output_type": "stream",
     "text": [
      "/home/yazan/Repositories/Personal/mcd-clip/venv/lib/python3.10/site-packages/pymoo/operators/crossover/sbx.py:42: RuntimeWarning: divide by zero encountered in power\n",
      "  alpha = 2.0 - np.power(beta, -(eta + 1.0))\n",
      "/home/yazan/Repositories/Personal/mcd-clip/venv/lib/python3.10/site-packages/pymoo/operators/crossover/sbx.py:47: RuntimeWarning: invalid value encountered in power\n",
      "  betaq[mask] = np.power((rand * alpha), (1.0 / (eta + 1.0)))[mask]\n"
     ]
    },
    {
     "name": "stdout",
     "output_type": "stream",
     "text": [
      "Found framed material columns ['Material=Steel', 'Material=Aluminum', 'Material=Titanium']\n",
      "Mapping Material=Steel to MATERIAL OHCLASS: STEEL\n",
      "Mapping Material=Aluminum to MATERIAL OHCLASS: ALUMINUM\n",
      "Mapping Material=Titanium to MATERIAL OHCLASS: TITANIUM\n",
      "Found framed material columns ['Material=Steel', 'Material=Aluminum', 'Material=Titanium']\n",
      "Mapping Material=Steel to MATERIAL OHCLASS: STEEL\n",
      "Mapping Material=Aluminum to MATERIAL OHCLASS: ALUMINUM\n",
      "Mapping Material=Titanium to MATERIAL OHCLASS: TITANIUM\n"
     ]
    },
    {
     "name": "stderr",
     "output_type": "stream",
     "text": [
      "/home/yazan/Repositories/Personal/mcd-clip/src/mcd_clip/bike_rider_fit/fit_analysis/vectorizedangles.py:158: RuntimeWarning: invalid value encountered in arccos\n",
      "  alpha_1 = np.arccos((x_1 ** 2 - UL_s - x_2 ** 2) / (-2 * UL * x_2))\n",
      "/home/yazan/Repositories/Personal/mcd-clip/src/mcd_clip/bike_rider_fit/fit_analysis/demoanalysis.py:76: RuntimeWarning: invalid value encountered in arccos\n",
      "  Tksp2 = np.arccos(\n",
      "/home/yazan/Repositories/Personal/mcd-clip/src/mcd_clip/bike_rider_fit/fit_analysis/vectorizedangles.py:158: RuntimeWarning: invalid value encountered in arccos\n",
      "  alpha_1 = np.arccos((x_1 ** 2 - UL_s - x_2 ** 2) / (-2 * UL * x_2))\n"
     ]
    },
    {
     "name": "stdout",
     "output_type": "stream",
     "text": [
      "Found framed material columns ['Material=Steel', 'Material=Aluminum', 'Material=Titanium']\n",
      "Mapping Material=Steel to MATERIAL OHCLASS: STEEL\n",
      "Mapping Material=Aluminum to MATERIAL OHCLASS: ALUMINUM\n",
      "Mapping Material=Titanium to MATERIAL OHCLASS: TITANIUM\n",
      "embedding_distance_1 | min 0.6899999976158142, max [1.1799999475479126],  average [0.7200000286102295]\n",
      "embedding_distance_2 | min 0.07999999821186066, max [1.6799999475479126],  average [0.14000000059604645]\n",
      "Validation result: fraction invalid [0.092]\n",
      "Validation result: fraction invalid [0.092]\n",
      "Validation result: fraction invalid [0.068]\n",
      "Validation result: fraction invalid [0.09]\n",
      "Validation result: fraction invalid [0.0]\n",
      "Validation result: fraction invalid [0.002]\n",
      "   154 |    76500 |    500 |  0.000000E+00 |  0.000000E+00 |  0.0063488517 |             f\n"
     ]
    },
    {
     "name": "stderr",
     "output_type": "stream",
     "text": [
      "/home/yazan/Repositories/Personal/mcd-clip/venv/lib/python3.10/site-packages/pymoo/operators/crossover/sbx.py:42: RuntimeWarning: divide by zero encountered in power\n",
      "  alpha = 2.0 - np.power(beta, -(eta + 1.0))\n",
      "/home/yazan/Repositories/Personal/mcd-clip/venv/lib/python3.10/site-packages/pymoo/operators/crossover/sbx.py:47: RuntimeWarning: invalid value encountered in power\n",
      "  betaq[mask] = np.power((rand * alpha), (1.0 / (eta + 1.0)))[mask]\n",
      "/home/yazan/Repositories/Personal/mcd-clip/venv/lib/python3.10/site-packages/pymoo/operators/mutation/pm.py:45: RuntimeWarning: invalid value encountered in power\n",
      "  d = np.power(val, mut_pow) - 1.0\n"
     ]
    },
    {
     "name": "stdout",
     "output_type": "stream",
     "text": [
      "Found framed material columns ['Material=Steel', 'Material=Aluminum', 'Material=Titanium']\n",
      "Mapping Material=Steel to MATERIAL OHCLASS: STEEL\n",
      "Mapping Material=Aluminum to MATERIAL OHCLASS: ALUMINUM\n",
      "Mapping Material=Titanium to MATERIAL OHCLASS: TITANIUM\n",
      "Found framed material columns ['Material=Steel', 'Material=Aluminum', 'Material=Titanium']\n",
      "Mapping Material=Steel to MATERIAL OHCLASS: STEEL\n",
      "Mapping Material=Aluminum to MATERIAL OHCLASS: ALUMINUM\n",
      "Mapping Material=Titanium to MATERIAL OHCLASS: TITANIUM\n",
      "Found framed material columns ['Material=Steel', 'Material=Aluminum', 'Material=Titanium']\n",
      "Mapping Material=Steel to MATERIAL OHCLASS: STEEL\n",
      "Mapping Material=Aluminum to MATERIAL OHCLASS: ALUMINUM\n",
      "Mapping Material=Titanium to MATERIAL OHCLASS: TITANIUM\n",
      "embedding_distance_1 | min 0.6899999976158142, max [1.1799999475479126],  average [0.7200000286102295]\n",
      "embedding_distance_2 | min 0.07999999821186066, max [1.6799999475479126],  average [0.14000000059604645]\n"
     ]
    },
    {
     "name": "stderr",
     "output_type": "stream",
     "text": [
      "/home/yazan/Repositories/Personal/mcd-clip/src/mcd_clip/bike_rider_fit/fit_analysis/vectorizedangles.py:158: RuntimeWarning: invalid value encountered in arccos\n",
      "  alpha_1 = np.arccos((x_1 ** 2 - UL_s - x_2 ** 2) / (-2 * UL * x_2))\n",
      "/home/yazan/Repositories/Personal/mcd-clip/src/mcd_clip/bike_rider_fit/fit_analysis/demoanalysis.py:76: RuntimeWarning: invalid value encountered in arccos\n",
      "  Tksp2 = np.arccos(\n",
      "/home/yazan/Repositories/Personal/mcd-clip/src/mcd_clip/bike_rider_fit/fit_analysis/vectorizedangles.py:158: RuntimeWarning: invalid value encountered in arccos\n",
      "  alpha_1 = np.arccos((x_1 ** 2 - UL_s - x_2 ** 2) / (-2 * UL * x_2))\n"
     ]
    },
    {
     "name": "stdout",
     "output_type": "stream",
     "text": [
      "Validation result: fraction invalid [0.096]\n",
      "Validation result: fraction invalid [0.076]\n",
      "Validation result: fraction invalid [0.082]\n",
      "Validation result: fraction invalid [0.068]\n",
      "Validation result: fraction invalid [0.0]\n",
      "Validation result: fraction invalid [0.002]\n",
      "   155 |    77000 |    500 |  0.000000E+00 |  0.000000E+00 |  0.0074619100 |             f\n"
     ]
    },
    {
     "name": "stderr",
     "output_type": "stream",
     "text": [
      "/home/yazan/Repositories/Personal/mcd-clip/venv/lib/python3.10/site-packages/pymoo/operators/crossover/sbx.py:42: RuntimeWarning: divide by zero encountered in power\n",
      "  alpha = 2.0 - np.power(beta, -(eta + 1.0))\n",
      "/home/yazan/Repositories/Personal/mcd-clip/venv/lib/python3.10/site-packages/pymoo/operators/crossover/sbx.py:47: RuntimeWarning: invalid value encountered in power\n",
      "  betaq[mask] = np.power((rand * alpha), (1.0 / (eta + 1.0)))[mask]\n"
     ]
    },
    {
     "name": "stdout",
     "output_type": "stream",
     "text": [
      "Found framed material columns ['Material=Steel', 'Material=Aluminum', 'Material=Titanium']\n",
      "Mapping Material=Steel to MATERIAL OHCLASS: STEEL\n",
      "Mapping Material=Aluminum to MATERIAL OHCLASS: ALUMINUM\n",
      "Mapping Material=Titanium to MATERIAL OHCLASS: TITANIUM\n",
      "Found framed material columns ['Material=Steel', 'Material=Aluminum', 'Material=Titanium']\n",
      "Mapping Material=Steel to MATERIAL OHCLASS: STEEL\n",
      "Mapping Material=Aluminum to MATERIAL OHCLASS: ALUMINUM\n",
      "Mapping Material=Titanium to MATERIAL OHCLASS: TITANIUM\n"
     ]
    },
    {
     "name": "stderr",
     "output_type": "stream",
     "text": [
      "/home/yazan/Repositories/Personal/mcd-clip/src/mcd_clip/bike_rider_fit/fit_analysis/vectorizedangles.py:158: RuntimeWarning: invalid value encountered in arccos\n",
      "  alpha_1 = np.arccos((x_1 ** 2 - UL_s - x_2 ** 2) / (-2 * UL * x_2))\n",
      "/home/yazan/Repositories/Personal/mcd-clip/src/mcd_clip/bike_rider_fit/fit_analysis/demoanalysis.py:76: RuntimeWarning: invalid value encountered in arccos\n",
      "  Tksp2 = np.arccos(\n",
      "/home/yazan/Repositories/Personal/mcd-clip/src/mcd_clip/bike_rider_fit/fit_analysis/vectorizedangles.py:158: RuntimeWarning: invalid value encountered in arccos\n",
      "  alpha_1 = np.arccos((x_1 ** 2 - UL_s - x_2 ** 2) / (-2 * UL * x_2))\n"
     ]
    },
    {
     "name": "stdout",
     "output_type": "stream",
     "text": [
      "Found framed material columns ['Material=Steel', 'Material=Aluminum', 'Material=Titanium']\n",
      "Mapping Material=Steel to MATERIAL OHCLASS: STEEL\n",
      "Mapping Material=Aluminum to MATERIAL OHCLASS: ALUMINUM\n",
      "Mapping Material=Titanium to MATERIAL OHCLASS: TITANIUM\n",
      "embedding_distance_1 | min 0.6899999976158142, max [1.149999976158142],  average [0.7200000286102295]\n",
      "embedding_distance_2 | min 0.07999999821186066, max [1.5700000524520874],  average [0.12999999523162842]\n",
      "Validation result: fraction invalid [0.078]\n",
      "Validation result: fraction invalid [0.09]\n",
      "Validation result: fraction invalid [0.088]\n",
      "Validation result: fraction invalid [0.09]\n",
      "Validation result: fraction invalid [0.0]\n",
      "Validation result: fraction invalid [0.006]\n",
      "   156 |    77500 |    500 |  0.000000E+00 |  0.000000E+00 |  0.0075169077 |             f\n"
     ]
    },
    {
     "name": "stderr",
     "output_type": "stream",
     "text": [
      "/home/yazan/Repositories/Personal/mcd-clip/venv/lib/python3.10/site-packages/pymoo/operators/crossover/sbx.py:42: RuntimeWarning: divide by zero encountered in power\n",
      "  alpha = 2.0 - np.power(beta, -(eta + 1.0))\n",
      "/home/yazan/Repositories/Personal/mcd-clip/venv/lib/python3.10/site-packages/pymoo/operators/crossover/sbx.py:47: RuntimeWarning: invalid value encountered in power\n",
      "  betaq[mask] = np.power((rand * alpha), (1.0 / (eta + 1.0)))[mask]\n",
      "/home/yazan/Repositories/Personal/mcd-clip/venv/lib/python3.10/site-packages/pymoo/operators/crossover/sbx.py:47: RuntimeWarning: invalid value encountered in power\n",
      "  betaq[mask] = np.power((rand * alpha), (1.0 / (eta + 1.0)))[mask]\n",
      "/home/yazan/Repositories/Personal/mcd-clip/venv/lib/python3.10/site-packages/pymoo/operators/mutation/pm.py:45: RuntimeWarning: invalid value encountered in power\n",
      "  d = np.power(val, mut_pow) - 1.0\n"
     ]
    },
    {
     "name": "stdout",
     "output_type": "stream",
     "text": [
      "Found framed material columns ['Material=Steel', 'Material=Aluminum', 'Material=Titanium']\n",
      "Mapping Material=Steel to MATERIAL OHCLASS: STEEL\n",
      "Mapping Material=Aluminum to MATERIAL OHCLASS: ALUMINUM\n",
      "Mapping Material=Titanium to MATERIAL OHCLASS: TITANIUM\n",
      "Found framed material columns ['Material=Steel', 'Material=Aluminum', 'Material=Titanium']\n",
      "Mapping Material=Steel to MATERIAL OHCLASS: STEEL\n",
      "Mapping Material=Aluminum to MATERIAL OHCLASS: ALUMINUM\n",
      "Mapping Material=Titanium to MATERIAL OHCLASS: TITANIUM\n"
     ]
    },
    {
     "name": "stderr",
     "output_type": "stream",
     "text": [
      "/home/yazan/Repositories/Personal/mcd-clip/src/mcd_clip/bike_rider_fit/fit_analysis/vectorizedangles.py:158: RuntimeWarning: invalid value encountered in arccos\n",
      "  alpha_1 = np.arccos((x_1 ** 2 - UL_s - x_2 ** 2) / (-2 * UL * x_2))\n",
      "/home/yazan/Repositories/Personal/mcd-clip/src/mcd_clip/bike_rider_fit/fit_analysis/demoanalysis.py:76: RuntimeWarning: invalid value encountered in arccos\n",
      "  Tksp2 = np.arccos(\n",
      "/home/yazan/Repositories/Personal/mcd-clip/src/mcd_clip/bike_rider_fit/fit_analysis/vectorizedangles.py:158: RuntimeWarning: invalid value encountered in arccos\n",
      "  alpha_1 = np.arccos((x_1 ** 2 - UL_s - x_2 ** 2) / (-2 * UL * x_2))\n"
     ]
    },
    {
     "name": "stdout",
     "output_type": "stream",
     "text": [
      "Found framed material columns ['Material=Steel', 'Material=Aluminum', 'Material=Titanium']\n",
      "Mapping Material=Steel to MATERIAL OHCLASS: STEEL\n",
      "Mapping Material=Aluminum to MATERIAL OHCLASS: ALUMINUM\n",
      "Mapping Material=Titanium to MATERIAL OHCLASS: TITANIUM\n",
      "embedding_distance_1 | min 0.6899999976158142, max [1.0399999618530273],  average [0.7300000190734863]\n",
      "embedding_distance_2 | min 0.07999999821186066, max [1.1799999475479126],  average [0.14000000059604645]\n",
      "Validation result: fraction invalid [0.052]\n",
      "Validation result: fraction invalid [0.05]\n",
      "Validation result: fraction invalid [0.044]\n",
      "Validation result: fraction invalid [0.036]\n",
      "Validation result: fraction invalid [0.0]\n",
      "Validation result: fraction invalid [0.004]\n",
      "   157 |    78000 |    500 |  0.000000E+00 |  0.000000E+00 |  0.0022007712 |             f\n"
     ]
    },
    {
     "name": "stderr",
     "output_type": "stream",
     "text": [
      "/home/yazan/Repositories/Personal/mcd-clip/venv/lib/python3.10/site-packages/pymoo/operators/crossover/sbx.py:42: RuntimeWarning: divide by zero encountered in power\n",
      "  alpha = 2.0 - np.power(beta, -(eta + 1.0))\n",
      "/home/yazan/Repositories/Personal/mcd-clip/venv/lib/python3.10/site-packages/pymoo/operators/crossover/sbx.py:47: RuntimeWarning: invalid value encountered in power\n",
      "  betaq[mask] = np.power((rand * alpha), (1.0 / (eta + 1.0)))[mask]\n"
     ]
    },
    {
     "name": "stdout",
     "output_type": "stream",
     "text": [
      "Found framed material columns ['Material=Steel', 'Material=Aluminum', 'Material=Titanium']\n",
      "Mapping Material=Steel to MATERIAL OHCLASS: STEEL\n",
      "Mapping Material=Aluminum to MATERIAL OHCLASS: ALUMINUM\n",
      "Mapping Material=Titanium to MATERIAL OHCLASS: TITANIUM\n",
      "Found framed material columns ['Material=Steel', 'Material=Aluminum', 'Material=Titanium']\n",
      "Mapping Material=Steel to MATERIAL OHCLASS: STEEL\n",
      "Mapping Material=Aluminum to MATERIAL OHCLASS: ALUMINUM\n",
      "Mapping Material=Titanium to MATERIAL OHCLASS: TITANIUM\n"
     ]
    },
    {
     "name": "stderr",
     "output_type": "stream",
     "text": [
      "/home/yazan/Repositories/Personal/mcd-clip/src/mcd_clip/bike_rider_fit/fit_analysis/vectorizedangles.py:158: RuntimeWarning: invalid value encountered in arccos\n",
      "  alpha_1 = np.arccos((x_1 ** 2 - UL_s - x_2 ** 2) / (-2 * UL * x_2))\n",
      "/home/yazan/Repositories/Personal/mcd-clip/src/mcd_clip/bike_rider_fit/fit_analysis/demoanalysis.py:76: RuntimeWarning: invalid value encountered in arccos\n",
      "  Tksp2 = np.arccos(\n",
      "/home/yazan/Repositories/Personal/mcd-clip/src/mcd_clip/bike_rider_fit/fit_analysis/vectorizedangles.py:158: RuntimeWarning: invalid value encountered in arccos\n",
      "  alpha_1 = np.arccos((x_1 ** 2 - UL_s - x_2 ** 2) / (-2 * UL * x_2))\n"
     ]
    },
    {
     "name": "stdout",
     "output_type": "stream",
     "text": [
      "Found framed material columns ['Material=Steel', 'Material=Aluminum', 'Material=Titanium']\n",
      "Mapping Material=Steel to MATERIAL OHCLASS: STEEL\n",
      "Mapping Material=Aluminum to MATERIAL OHCLASS: ALUMINUM\n",
      "Mapping Material=Titanium to MATERIAL OHCLASS: TITANIUM\n",
      "embedding_distance_1 | min 0.699999988079071, max [1.1799999475479126],  average [0.7400000095367432]\n",
      "embedding_distance_2 | min 0.10999999940395355, max [1.6699999570846558],  average [0.17000000178813934]\n",
      "Validation result: fraction invalid [0.052]\n",
      "Validation result: fraction invalid [0.056]\n",
      "Validation result: fraction invalid [0.078]\n",
      "Validation result: fraction invalid [0.114]\n",
      "Validation result: fraction invalid [0.0]\n",
      "Validation result: fraction invalid [0.002]\n",
      "   158 |    78500 |    495 |  0.000000E+00 |  0.000000E+00 |  0.0033539042 |             f\n"
     ]
    },
    {
     "name": "stderr",
     "output_type": "stream",
     "text": [
      "/home/yazan/Repositories/Personal/mcd-clip/venv/lib/python3.10/site-packages/pymoo/operators/crossover/sbx.py:42: RuntimeWarning: divide by zero encountered in power\n",
      "  alpha = 2.0 - np.power(beta, -(eta + 1.0))\n",
      "/home/yazan/Repositories/Personal/mcd-clip/venv/lib/python3.10/site-packages/pymoo/operators/crossover/sbx.py:47: RuntimeWarning: invalid value encountered in power\n",
      "  betaq[mask] = np.power((rand * alpha), (1.0 / (eta + 1.0)))[mask]\n"
     ]
    },
    {
     "name": "stdout",
     "output_type": "stream",
     "text": [
      "Found framed material columns ['Material=Steel', 'Material=Aluminum', 'Material=Titanium']\n",
      "Mapping Material=Steel to MATERIAL OHCLASS: STEEL\n",
      "Mapping Material=Aluminum to MATERIAL OHCLASS: ALUMINUM\n",
      "Mapping Material=Titanium to MATERIAL OHCLASS: TITANIUM\n",
      "Found framed material columns ['Material=Steel', 'Material=Aluminum', 'Material=Titanium']\n",
      "Mapping Material=Steel to MATERIAL OHCLASS: STEEL\n",
      "Mapping Material=Aluminum to MATERIAL OHCLASS: ALUMINUM\n",
      "Mapping Material=Titanium to MATERIAL OHCLASS: TITANIUM\n"
     ]
    },
    {
     "name": "stderr",
     "output_type": "stream",
     "text": [
      "/home/yazan/Repositories/Personal/mcd-clip/src/mcd_clip/bike_rider_fit/fit_analysis/vectorizedangles.py:158: RuntimeWarning: invalid value encountered in arccos\n",
      "  alpha_1 = np.arccos((x_1 ** 2 - UL_s - x_2 ** 2) / (-2 * UL * x_2))\n",
      "/home/yazan/Repositories/Personal/mcd-clip/src/mcd_clip/bike_rider_fit/fit_analysis/demoanalysis.py:76: RuntimeWarning: invalid value encountered in arccos\n",
      "  Tksp2 = np.arccos(\n",
      "/home/yazan/Repositories/Personal/mcd-clip/src/mcd_clip/bike_rider_fit/fit_analysis/vectorizedangles.py:158: RuntimeWarning: invalid value encountered in arccos\n",
      "  alpha_1 = np.arccos((x_1 ** 2 - UL_s - x_2 ** 2) / (-2 * UL * x_2))\n"
     ]
    },
    {
     "name": "stdout",
     "output_type": "stream",
     "text": [
      "Found framed material columns ['Material=Steel', 'Material=Aluminum', 'Material=Titanium']\n",
      "Mapping Material=Steel to MATERIAL OHCLASS: STEEL\n",
      "Mapping Material=Aluminum to MATERIAL OHCLASS: ALUMINUM\n",
      "Mapping Material=Titanium to MATERIAL OHCLASS: TITANIUM\n",
      "embedding_distance_1 | min 0.6899999976158142, max [1.1699999570846558],  average [0.7200000286102295]\n",
      "embedding_distance_2 | min 0.07999999821186066, max [1.649999976158142],  average [0.12999999523162842]\n",
      "Validation result: fraction invalid [0.094]\n",
      "Validation result: fraction invalid [0.1]\n",
      "Validation result: fraction invalid [0.084]\n",
      "Validation result: fraction invalid [0.09]\n",
      "Validation result: fraction invalid [0.0]\n",
      "Validation result: fraction invalid [0.002]\n",
      "   159 |    79000 |    500 |  0.000000E+00 |  0.000000E+00 |  0.0052828786 |             f\n"
     ]
    },
    {
     "name": "stderr",
     "output_type": "stream",
     "text": [
      "/home/yazan/Repositories/Personal/mcd-clip/venv/lib/python3.10/site-packages/pymoo/operators/crossover/sbx.py:42: RuntimeWarning: divide by zero encountered in power\n",
      "  alpha = 2.0 - np.power(beta, -(eta + 1.0))\n",
      "/home/yazan/Repositories/Personal/mcd-clip/venv/lib/python3.10/site-packages/pymoo/operators/crossover/sbx.py:47: RuntimeWarning: invalid value encountered in power\n",
      "  betaq[mask] = np.power((rand * alpha), (1.0 / (eta + 1.0)))[mask]\n"
     ]
    },
    {
     "name": "stdout",
     "output_type": "stream",
     "text": [
      "Found framed material columns ['Material=Steel', 'Material=Aluminum', 'Material=Titanium']\n",
      "Mapping Material=Steel to MATERIAL OHCLASS: STEEL\n",
      "Mapping Material=Aluminum to MATERIAL OHCLASS: ALUMINUM\n",
      "Mapping Material=Titanium to MATERIAL OHCLASS: TITANIUM\n",
      "Found framed material columns ['Material=Steel', 'Material=Aluminum', 'Material=Titanium']\n",
      "Mapping Material=Steel to MATERIAL OHCLASS: STEEL\n",
      "Mapping Material=Aluminum to MATERIAL OHCLASS: ALUMINUM\n",
      "Mapping Material=Titanium to MATERIAL OHCLASS: TITANIUM\n",
      "Found framed material columns ['Material=Steel', 'Material=Aluminum', 'Material=Titanium']\n",
      "Mapping Material=Steel to MATERIAL OHCLASS: STEEL\n",
      "Mapping Material=Aluminum to MATERIAL OHCLASS: ALUMINUM\n",
      "Mapping Material=Titanium to MATERIAL OHCLASS: TITANIUM\n",
      "embedding_distance_1 | min 0.6899999976158142, max [1.1799999475479126],  average [0.7200000286102295]\n",
      "embedding_distance_2 | min 0.07999999821186066, max [1.659999966621399],  average [0.12999999523162842]\n"
     ]
    },
    {
     "name": "stderr",
     "output_type": "stream",
     "text": [
      "/home/yazan/Repositories/Personal/mcd-clip/src/mcd_clip/bike_rider_fit/fit_analysis/vectorizedangles.py:158: RuntimeWarning: invalid value encountered in arccos\n",
      "  alpha_1 = np.arccos((x_1 ** 2 - UL_s - x_2 ** 2) / (-2 * UL * x_2))\n",
      "/home/yazan/Repositories/Personal/mcd-clip/src/mcd_clip/bike_rider_fit/fit_analysis/demoanalysis.py:76: RuntimeWarning: invalid value encountered in arccos\n",
      "  Tksp2 = np.arccos(\n",
      "/home/yazan/Repositories/Personal/mcd-clip/src/mcd_clip/bike_rider_fit/fit_analysis/vectorizedangles.py:158: RuntimeWarning: invalid value encountered in arccos\n",
      "  alpha_1 = np.arccos((x_1 ** 2 - UL_s - x_2 ** 2) / (-2 * UL * x_2))\n"
     ]
    },
    {
     "name": "stdout",
     "output_type": "stream",
     "text": [
      "Validation result: fraction invalid [0.082]\n",
      "Validation result: fraction invalid [0.074]\n",
      "Validation result: fraction invalid [0.062]\n",
      "Validation result: fraction invalid [0.06]\n",
      "Validation result: fraction invalid [0.0]\n",
      "Validation result: fraction invalid [0.004]\n",
      "   160 |    79500 |    500 |  0.000000E+00 |  0.000000E+00 |  0.0065463636 |             f\n"
     ]
    },
    {
     "name": "stderr",
     "output_type": "stream",
     "text": [
      "/home/yazan/Repositories/Personal/mcd-clip/venv/lib/python3.10/site-packages/pymoo/operators/crossover/sbx.py:42: RuntimeWarning: divide by zero encountered in power\n",
      "  alpha = 2.0 - np.power(beta, -(eta + 1.0))\n",
      "/home/yazan/Repositories/Personal/mcd-clip/venv/lib/python3.10/site-packages/pymoo/operators/crossover/sbx.py:47: RuntimeWarning: invalid value encountered in power\n",
      "  betaq[mask] = np.power((rand * alpha), (1.0 / (eta + 1.0)))[mask]\n"
     ]
    },
    {
     "name": "stdout",
     "output_type": "stream",
     "text": [
      "Found framed material columns ['Material=Steel', 'Material=Aluminum', 'Material=Titanium']\n",
      "Mapping Material=Steel to MATERIAL OHCLASS: STEEL\n",
      "Mapping Material=Aluminum to MATERIAL OHCLASS: ALUMINUM\n",
      "Mapping Material=Titanium to MATERIAL OHCLASS: TITANIUM\n",
      "Found framed material columns ['Material=Steel', 'Material=Aluminum', 'Material=Titanium']\n",
      "Mapping Material=Steel to MATERIAL OHCLASS: STEEL\n",
      "Mapping Material=Aluminum to MATERIAL OHCLASS: ALUMINUM\n",
      "Mapping Material=Titanium to MATERIAL OHCLASS: TITANIUM\n",
      "Found framed material columns ['Material=Steel', 'Material=Aluminum', 'Material=Titanium']\n",
      "Mapping Material=Steel to MATERIAL OHCLASS: STEEL\n",
      "Mapping Material=Aluminum to MATERIAL OHCLASS: ALUMINUM\n",
      "Mapping Material=Titanium to MATERIAL OHCLASS: TITANIUM\n",
      "embedding_distance_1 | min 0.6899999976158142, max [1.1799999475479126],  average [0.7400000095367432]\n",
      "embedding_distance_2 | min 0.09000000357627869, max [1.690000057220459],  average [0.18000000715255737]\n"
     ]
    },
    {
     "name": "stderr",
     "output_type": "stream",
     "text": [
      "/home/yazan/Repositories/Personal/mcd-clip/src/mcd_clip/bike_rider_fit/fit_analysis/vectorizedangles.py:158: RuntimeWarning: invalid value encountered in arccos\n",
      "  alpha_1 = np.arccos((x_1 ** 2 - UL_s - x_2 ** 2) / (-2 * UL * x_2))\n",
      "/home/yazan/Repositories/Personal/mcd-clip/src/mcd_clip/bike_rider_fit/fit_analysis/demoanalysis.py:76: RuntimeWarning: invalid value encountered in arccos\n",
      "  Tksp2 = np.arccos(\n",
      "/home/yazan/Repositories/Personal/mcd-clip/src/mcd_clip/bike_rider_fit/fit_analysis/vectorizedangles.py:158: RuntimeWarning: invalid value encountered in arccos\n",
      "  alpha_1 = np.arccos((x_1 ** 2 - UL_s - x_2 ** 2) / (-2 * UL * x_2))\n"
     ]
    },
    {
     "name": "stdout",
     "output_type": "stream",
     "text": [
      "Validation result: fraction invalid [0.124]\n",
      "Validation result: fraction invalid [0.104]\n",
      "Validation result: fraction invalid [0.156]\n",
      "Validation result: fraction invalid [0.156]\n",
      "Validation result: fraction invalid [0.0]\n",
      "Validation result: fraction invalid [0.002]\n",
      "   161 |    80000 |    500 |  0.000000E+00 |  0.000000E+00 |  0.0022120312 |             f\n"
     ]
    },
    {
     "name": "stderr",
     "output_type": "stream",
     "text": [
      "/home/yazan/Repositories/Personal/mcd-clip/venv/lib/python3.10/site-packages/pymoo/operators/crossover/sbx.py:42: RuntimeWarning: divide by zero encountered in power\n",
      "  alpha = 2.0 - np.power(beta, -(eta + 1.0))\n",
      "/home/yazan/Repositories/Personal/mcd-clip/venv/lib/python3.10/site-packages/pymoo/operators/crossover/sbx.py:47: RuntimeWarning: invalid value encountered in power\n",
      "  betaq[mask] = np.power((rand * alpha), (1.0 / (eta + 1.0)))[mask]\n",
      "/home/yazan/Repositories/Personal/mcd-clip/venv/lib/python3.10/site-packages/pymoo/operators/crossover/sbx.py:42: RuntimeWarning: divide by zero encountered in power\n",
      "  alpha = 2.0 - np.power(beta, -(eta + 1.0))\n",
      "/home/yazan/Repositories/Personal/mcd-clip/venv/lib/python3.10/site-packages/pymoo/operators/crossover/sbx.py:47: RuntimeWarning: invalid value encountered in power\n",
      "  betaq[mask] = np.power((rand * alpha), (1.0 / (eta + 1.0)))[mask]\n"
     ]
    },
    {
     "name": "stdout",
     "output_type": "stream",
     "text": [
      "Found framed material columns ['Material=Steel', 'Material=Aluminum', 'Material=Titanium']\n",
      "Mapping Material=Steel to MATERIAL OHCLASS: STEEL\n",
      "Mapping Material=Aluminum to MATERIAL OHCLASS: ALUMINUM\n",
      "Mapping Material=Titanium to MATERIAL OHCLASS: TITANIUM\n",
      "Found framed material columns ['Material=Steel', 'Material=Aluminum', 'Material=Titanium']\n",
      "Mapping Material=Steel to MATERIAL OHCLASS: STEEL\n",
      "Mapping Material=Aluminum to MATERIAL OHCLASS: ALUMINUM\n",
      "Mapping Material=Titanium to MATERIAL OHCLASS: TITANIUM\n"
     ]
    },
    {
     "name": "stderr",
     "output_type": "stream",
     "text": [
      "/home/yazan/Repositories/Personal/mcd-clip/src/mcd_clip/bike_rider_fit/fit_analysis/vectorizedangles.py:158: RuntimeWarning: invalid value encountered in arccos\n",
      "  alpha_1 = np.arccos((x_1 ** 2 - UL_s - x_2 ** 2) / (-2 * UL * x_2))\n",
      "/home/yazan/Repositories/Personal/mcd-clip/src/mcd_clip/bike_rider_fit/fit_analysis/demoanalysis.py:76: RuntimeWarning: invalid value encountered in arccos\n",
      "  Tksp2 = np.arccos(\n",
      "/home/yazan/Repositories/Personal/mcd-clip/src/mcd_clip/bike_rider_fit/fit_analysis/vectorizedangles.py:158: RuntimeWarning: invalid value encountered in arccos\n",
      "  alpha_1 = np.arccos((x_1 ** 2 - UL_s - x_2 ** 2) / (-2 * UL * x_2))\n"
     ]
    },
    {
     "name": "stdout",
     "output_type": "stream",
     "text": [
      "Found framed material columns ['Material=Steel', 'Material=Aluminum', 'Material=Titanium']\n",
      "Mapping Material=Steel to MATERIAL OHCLASS: STEEL\n",
      "Mapping Material=Aluminum to MATERIAL OHCLASS: ALUMINUM\n",
      "Mapping Material=Titanium to MATERIAL OHCLASS: TITANIUM\n",
      "embedding_distance_1 | min 0.6899999976158142, max [0.7599999904632568],  average [0.7300000190734863]\n",
      "embedding_distance_2 | min 0.07999999821186066, max [0.1899999976158142],  average [0.14000000059604645]\n",
      "Validation result: fraction invalid [0.03]\n",
      "Validation result: fraction invalid [0.028]\n",
      "Validation result: fraction invalid [0.032]\n",
      "Validation result: fraction invalid [0.032]\n",
      "Validation result: fraction invalid [0.0]\n",
      "Validation result: fraction invalid [0.002]\n",
      "   162 |    80500 |    500 |  0.000000E+00 |  0.000000E+00 |  0.0161290323 |         nadir\n"
     ]
    },
    {
     "name": "stderr",
     "output_type": "stream",
     "text": [
      "/home/yazan/Repositories/Personal/mcd-clip/venv/lib/python3.10/site-packages/pymoo/operators/crossover/sbx.py:42: RuntimeWarning: divide by zero encountered in power\n",
      "  alpha = 2.0 - np.power(beta, -(eta + 1.0))\n",
      "/home/yazan/Repositories/Personal/mcd-clip/venv/lib/python3.10/site-packages/pymoo/operators/crossover/sbx.py:47: RuntimeWarning: invalid value encountered in power\n",
      "  betaq[mask] = np.power((rand * alpha), (1.0 / (eta + 1.0)))[mask]\n"
     ]
    },
    {
     "name": "stdout",
     "output_type": "stream",
     "text": [
      "Found framed material columns ['Material=Steel', 'Material=Aluminum', 'Material=Titanium']\n",
      "Mapping Material=Steel to MATERIAL OHCLASS: STEEL\n",
      "Mapping Material=Aluminum to MATERIAL OHCLASS: ALUMINUM\n",
      "Mapping Material=Titanium to MATERIAL OHCLASS: TITANIUM\n",
      "Found framed material columns ['Material=Steel', 'Material=Aluminum', 'Material=Titanium']\n",
      "Mapping Material=Steel to MATERIAL OHCLASS: STEEL\n",
      "Mapping Material=Aluminum to MATERIAL OHCLASS: ALUMINUM\n",
      "Mapping Material=Titanium to MATERIAL OHCLASS: TITANIUM\n"
     ]
    },
    {
     "name": "stderr",
     "output_type": "stream",
     "text": [
      "/home/yazan/Repositories/Personal/mcd-clip/src/mcd_clip/bike_rider_fit/fit_analysis/vectorizedangles.py:158: RuntimeWarning: invalid value encountered in arccos\n",
      "  alpha_1 = np.arccos((x_1 ** 2 - UL_s - x_2 ** 2) / (-2 * UL * x_2))\n",
      "/home/yazan/Repositories/Personal/mcd-clip/src/mcd_clip/bike_rider_fit/fit_analysis/demoanalysis.py:76: RuntimeWarning: invalid value encountered in arccos\n",
      "  Tksp2 = np.arccos(\n",
      "/home/yazan/Repositories/Personal/mcd-clip/src/mcd_clip/bike_rider_fit/fit_analysis/vectorizedangles.py:158: RuntimeWarning: invalid value encountered in arccos\n",
      "  alpha_1 = np.arccos((x_1 ** 2 - UL_s - x_2 ** 2) / (-2 * UL * x_2))\n"
     ]
    },
    {
     "name": "stdout",
     "output_type": "stream",
     "text": [
      "Found framed material columns ['Material=Steel', 'Material=Aluminum', 'Material=Titanium']\n",
      "Mapping Material=Steel to MATERIAL OHCLASS: STEEL\n",
      "Mapping Material=Aluminum to MATERIAL OHCLASS: ALUMINUM\n",
      "Mapping Material=Titanium to MATERIAL OHCLASS: TITANIUM\n",
      "embedding_distance_1 | min 0.7099999785423279, max [1.1799999475479126],  average [0.7400000095367432]\n",
      "embedding_distance_2 | min 0.10999999940395355, max [1.6799999475479126],  average [0.17000000178813934]\n",
      "Validation result: fraction invalid [0.066]\n",
      "Validation result: fraction invalid [0.08]\n",
      "Validation result: fraction invalid [0.08]\n",
      "Validation result: fraction invalid [0.096]\n",
      "Validation result: fraction invalid [0.0]\n",
      "Validation result: fraction invalid [0.0]\n",
      "   163 |    81000 |    500 |  0.000000E+00 |  0.000000E+00 |  0.0004192734 |             f\n"
     ]
    },
    {
     "name": "stderr",
     "output_type": "stream",
     "text": [
      "/home/yazan/Repositories/Personal/mcd-clip/venv/lib/python3.10/site-packages/pymoo/operators/crossover/sbx.py:42: RuntimeWarning: divide by zero encountered in power\n",
      "  alpha = 2.0 - np.power(beta, -(eta + 1.0))\n",
      "/home/yazan/Repositories/Personal/mcd-clip/venv/lib/python3.10/site-packages/pymoo/operators/crossover/sbx.py:47: RuntimeWarning: invalid value encountered in power\n",
      "  betaq[mask] = np.power((rand * alpha), (1.0 / (eta + 1.0)))[mask]\n"
     ]
    },
    {
     "name": "stdout",
     "output_type": "stream",
     "text": [
      "Found framed material columns ['Material=Steel', 'Material=Aluminum', 'Material=Titanium']\n",
      "Mapping Material=Steel to MATERIAL OHCLASS: STEEL\n",
      "Mapping Material=Aluminum to MATERIAL OHCLASS: ALUMINUM\n",
      "Mapping Material=Titanium to MATERIAL OHCLASS: TITANIUM\n",
      "Found framed material columns ['Material=Steel', 'Material=Aluminum', 'Material=Titanium']\n",
      "Mapping Material=Steel to MATERIAL OHCLASS: STEEL\n",
      "Mapping Material=Aluminum to MATERIAL OHCLASS: ALUMINUM\n",
      "Mapping Material=Titanium to MATERIAL OHCLASS: TITANIUM\n"
     ]
    },
    {
     "name": "stderr",
     "output_type": "stream",
     "text": [
      "/home/yazan/Repositories/Personal/mcd-clip/src/mcd_clip/bike_rider_fit/fit_analysis/vectorizedangles.py:158: RuntimeWarning: invalid value encountered in arccos\n",
      "  alpha_1 = np.arccos((x_1 ** 2 - UL_s - x_2 ** 2) / (-2 * UL * x_2))\n",
      "/home/yazan/Repositories/Personal/mcd-clip/src/mcd_clip/bike_rider_fit/fit_analysis/demoanalysis.py:76: RuntimeWarning: invalid value encountered in arccos\n",
      "  Tksp2 = np.arccos(\n",
      "/home/yazan/Repositories/Personal/mcd-clip/src/mcd_clip/bike_rider_fit/fit_analysis/vectorizedangles.py:158: RuntimeWarning: invalid value encountered in arccos\n",
      "  alpha_1 = np.arccos((x_1 ** 2 - UL_s - x_2 ** 2) / (-2 * UL * x_2))\n"
     ]
    },
    {
     "name": "stdout",
     "output_type": "stream",
     "text": [
      "Found framed material columns ['Material=Steel', 'Material=Aluminum', 'Material=Titanium']\n",
      "Mapping Material=Steel to MATERIAL OHCLASS: STEEL\n",
      "Mapping Material=Aluminum to MATERIAL OHCLASS: ALUMINUM\n",
      "Mapping Material=Titanium to MATERIAL OHCLASS: TITANIUM\n",
      "embedding_distance_1 | min 0.6899999976158142, max [1.1799999475479126],  average [0.7200000286102295]\n",
      "embedding_distance_2 | min 0.07999999821186066, max [1.6699999570846558],  average [0.12999999523162842]\n",
      "Validation result: fraction invalid [0.088]\n",
      "Validation result: fraction invalid [0.088]\n",
      "Validation result: fraction invalid [0.066]\n",
      "Validation result: fraction invalid [0.096]\n",
      "Validation result: fraction invalid [0.0]\n",
      "Validation result: fraction invalid [0.002]\n",
      "   164 |    81500 |    500 |  0.000000E+00 |  0.000000E+00 |  0.0187369623 |         nadir\n"
     ]
    },
    {
     "name": "stderr",
     "output_type": "stream",
     "text": [
      "/home/yazan/Repositories/Personal/mcd-clip/venv/lib/python3.10/site-packages/pymoo/operators/crossover/sbx.py:42: RuntimeWarning: divide by zero encountered in power\n",
      "  alpha = 2.0 - np.power(beta, -(eta + 1.0))\n",
      "/home/yazan/Repositories/Personal/mcd-clip/venv/lib/python3.10/site-packages/pymoo/operators/crossover/sbx.py:47: RuntimeWarning: invalid value encountered in power\n",
      "  betaq[mask] = np.power((rand * alpha), (1.0 / (eta + 1.0)))[mask]\n"
     ]
    },
    {
     "name": "stdout",
     "output_type": "stream",
     "text": [
      "Found framed material columns ['Material=Steel', 'Material=Aluminum', 'Material=Titanium']\n",
      "Mapping Material=Steel to MATERIAL OHCLASS: STEEL\n",
      "Mapping Material=Aluminum to MATERIAL OHCLASS: ALUMINUM\n",
      "Mapping Material=Titanium to MATERIAL OHCLASS: TITANIUM\n",
      "Found framed material columns ['Material=Steel', 'Material=Aluminum', 'Material=Titanium']\n",
      "Mapping Material=Steel to MATERIAL OHCLASS: STEEL\n",
      "Mapping Material=Aluminum to MATERIAL OHCLASS: ALUMINUM\n",
      "Mapping Material=Titanium to MATERIAL OHCLASS: TITANIUM\n"
     ]
    },
    {
     "name": "stderr",
     "output_type": "stream",
     "text": [
      "/home/yazan/Repositories/Personal/mcd-clip/src/mcd_clip/bike_rider_fit/fit_analysis/vectorizedangles.py:158: RuntimeWarning: invalid value encountered in arccos\n",
      "  alpha_1 = np.arccos((x_1 ** 2 - UL_s - x_2 ** 2) / (-2 * UL * x_2))\n",
      "/home/yazan/Repositories/Personal/mcd-clip/src/mcd_clip/bike_rider_fit/fit_analysis/demoanalysis.py:76: RuntimeWarning: invalid value encountered in arccos\n",
      "  Tksp2 = np.arccos(\n",
      "/home/yazan/Repositories/Personal/mcd-clip/src/mcd_clip/bike_rider_fit/fit_analysis/vectorizedangles.py:158: RuntimeWarning: invalid value encountered in arccos\n",
      "  alpha_1 = np.arccos((x_1 ** 2 - UL_s - x_2 ** 2) / (-2 * UL * x_2))\n"
     ]
    },
    {
     "name": "stdout",
     "output_type": "stream",
     "text": [
      "Found framed material columns ['Material=Steel', 'Material=Aluminum', 'Material=Titanium']\n",
      "Mapping Material=Steel to MATERIAL OHCLASS: STEEL\n",
      "Mapping Material=Aluminum to MATERIAL OHCLASS: ALUMINUM\n",
      "Mapping Material=Titanium to MATERIAL OHCLASS: TITANIUM\n",
      "embedding_distance_1 | min 0.6899999976158142, max [1.1799999475479126],  average [0.7200000286102295]\n",
      "embedding_distance_2 | min 0.07999999821186066, max [1.6799999475479126],  average [0.14000000059604645]\n",
      "Validation result: fraction invalid [0.086]\n",
      "Validation result: fraction invalid [0.084]\n",
      "Validation result: fraction invalid [0.074]\n",
      "Validation result: fraction invalid [0.078]\n",
      "Validation result: fraction invalid [0.0]\n",
      "Validation result: fraction invalid [0.004]\n",
      "   165 |    82000 |    500 |  0.000000E+00 |  0.000000E+00 |  0.0048170578 |             f\n"
     ]
    },
    {
     "name": "stderr",
     "output_type": "stream",
     "text": [
      "/home/yazan/Repositories/Personal/mcd-clip/venv/lib/python3.10/site-packages/pymoo/operators/crossover/sbx.py:42: RuntimeWarning: divide by zero encountered in power\n",
      "  alpha = 2.0 - np.power(beta, -(eta + 1.0))\n",
      "/home/yazan/Repositories/Personal/mcd-clip/venv/lib/python3.10/site-packages/pymoo/operators/crossover/sbx.py:47: RuntimeWarning: invalid value encountered in power\n",
      "  betaq[mask] = np.power((rand * alpha), (1.0 / (eta + 1.0)))[mask]\n"
     ]
    },
    {
     "name": "stdout",
     "output_type": "stream",
     "text": [
      "Found framed material columns ['Material=Steel', 'Material=Aluminum', 'Material=Titanium']\n",
      "Mapping Material=Steel to MATERIAL OHCLASS: STEEL\n",
      "Mapping Material=Aluminum to MATERIAL OHCLASS: ALUMINUM\n",
      "Mapping Material=Titanium to MATERIAL OHCLASS: TITANIUM\n",
      "Found framed material columns ['Material=Steel', 'Material=Aluminum', 'Material=Titanium']\n",
      "Mapping Material=Steel to MATERIAL OHCLASS: STEEL\n",
      "Mapping Material=Aluminum to MATERIAL OHCLASS: ALUMINUM\n",
      "Mapping Material=Titanium to MATERIAL OHCLASS: TITANIUM\n"
     ]
    },
    {
     "name": "stderr",
     "output_type": "stream",
     "text": [
      "/home/yazan/Repositories/Personal/mcd-clip/src/mcd_clip/bike_rider_fit/fit_analysis/vectorizedangles.py:158: RuntimeWarning: invalid value encountered in arccos\n",
      "  alpha_1 = np.arccos((x_1 ** 2 - UL_s - x_2 ** 2) / (-2 * UL * x_2))\n",
      "/home/yazan/Repositories/Personal/mcd-clip/src/mcd_clip/bike_rider_fit/fit_analysis/demoanalysis.py:76: RuntimeWarning: invalid value encountered in arccos\n",
      "  Tksp2 = np.arccos(\n",
      "/home/yazan/Repositories/Personal/mcd-clip/src/mcd_clip/bike_rider_fit/fit_analysis/vectorizedangles.py:158: RuntimeWarning: invalid value encountered in arccos\n",
      "  alpha_1 = np.arccos((x_1 ** 2 - UL_s - x_2 ** 2) / (-2 * UL * x_2))\n"
     ]
    },
    {
     "name": "stdout",
     "output_type": "stream",
     "text": [
      "Found framed material columns ['Material=Steel', 'Material=Aluminum', 'Material=Titanium']\n",
      "Mapping Material=Steel to MATERIAL OHCLASS: STEEL\n",
      "Mapping Material=Aluminum to MATERIAL OHCLASS: ALUMINUM\n",
      "Mapping Material=Titanium to MATERIAL OHCLASS: TITANIUM\n",
      "embedding_distance_1 | min 0.699999988079071, max [1.1799999475479126],  average [0.7400000095367432]\n",
      "embedding_distance_2 | min 0.10000000149011612, max [1.6799999475479126],  average [0.1599999964237213]\n",
      "Validation result: fraction invalid [0.068]\n",
      "Validation result: fraction invalid [0.08]\n",
      "Validation result: fraction invalid [0.1]\n",
      "Validation result: fraction invalid [0.09]\n",
      "Validation result: fraction invalid [0.0]\n",
      "Validation result: fraction invalid [0.002]\n",
      "   166 |    82500 |    500 |  0.000000E+00 |  0.000000E+00 |  0.0003839384 |             f\n"
     ]
    },
    {
     "name": "stderr",
     "output_type": "stream",
     "text": [
      "/home/yazan/Repositories/Personal/mcd-clip/venv/lib/python3.10/site-packages/pymoo/operators/crossover/sbx.py:42: RuntimeWarning: divide by zero encountered in power\n",
      "  alpha = 2.0 - np.power(beta, -(eta + 1.0))\n",
      "/home/yazan/Repositories/Personal/mcd-clip/venv/lib/python3.10/site-packages/pymoo/operators/crossover/sbx.py:47: RuntimeWarning: invalid value encountered in power\n",
      "  betaq[mask] = np.power((rand * alpha), (1.0 / (eta + 1.0)))[mask]\n"
     ]
    },
    {
     "name": "stdout",
     "output_type": "stream",
     "text": [
      "Found framed material columns ['Material=Steel', 'Material=Aluminum', 'Material=Titanium']\n",
      "Mapping Material=Steel to MATERIAL OHCLASS: STEEL\n",
      "Mapping Material=Aluminum to MATERIAL OHCLASS: ALUMINUM\n",
      "Mapping Material=Titanium to MATERIAL OHCLASS: TITANIUM\n",
      "Found framed material columns ['Material=Steel', 'Material=Aluminum', 'Material=Titanium']\n",
      "Mapping Material=Steel to MATERIAL OHCLASS: STEEL\n",
      "Mapping Material=Aluminum to MATERIAL OHCLASS: ALUMINUM\n",
      "Mapping Material=Titanium to MATERIAL OHCLASS: TITANIUM\n"
     ]
    },
    {
     "name": "stderr",
     "output_type": "stream",
     "text": [
      "/home/yazan/Repositories/Personal/mcd-clip/src/mcd_clip/bike_rider_fit/fit_analysis/vectorizedangles.py:158: RuntimeWarning: invalid value encountered in arccos\n",
      "  alpha_1 = np.arccos((x_1 ** 2 - UL_s - x_2 ** 2) / (-2 * UL * x_2))\n",
      "/home/yazan/Repositories/Personal/mcd-clip/src/mcd_clip/bike_rider_fit/fit_analysis/demoanalysis.py:76: RuntimeWarning: invalid value encountered in arccos\n",
      "  Tksp2 = np.arccos(\n",
      "/home/yazan/Repositories/Personal/mcd-clip/src/mcd_clip/bike_rider_fit/fit_analysis/vectorizedangles.py:158: RuntimeWarning: invalid value encountered in arccos\n",
      "  alpha_1 = np.arccos((x_1 ** 2 - UL_s - x_2 ** 2) / (-2 * UL * x_2))\n"
     ]
    },
    {
     "name": "stdout",
     "output_type": "stream",
     "text": [
      "Found framed material columns ['Material=Steel', 'Material=Aluminum', 'Material=Titanium']\n",
      "Mapping Material=Steel to MATERIAL OHCLASS: STEEL\n",
      "Mapping Material=Aluminum to MATERIAL OHCLASS: ALUMINUM\n",
      "Mapping Material=Titanium to MATERIAL OHCLASS: TITANIUM\n",
      "embedding_distance_1 | min 0.6899999976158142, max [1.1799999475479126],  average [0.7400000095367432]\n",
      "embedding_distance_2 | min 0.09000000357627869, max [1.6699999570846558],  average [0.17000000178813934]\n",
      "Validation result: fraction invalid [0.118]\n",
      "Validation result: fraction invalid [0.124]\n",
      "Validation result: fraction invalid [0.146]\n",
      "Validation result: fraction invalid [0.15]\n",
      "Validation result: fraction invalid [0.0]\n",
      "Validation result: fraction invalid [0.0]\n",
      "   167 |    83000 |    500 |  0.000000E+00 |  0.000000E+00 |  0.0027935138 |             f\n"
     ]
    },
    {
     "name": "stderr",
     "output_type": "stream",
     "text": [
      "/home/yazan/Repositories/Personal/mcd-clip/venv/lib/python3.10/site-packages/pymoo/operators/crossover/sbx.py:42: RuntimeWarning: divide by zero encountered in power\n",
      "  alpha = 2.0 - np.power(beta, -(eta + 1.0))\n",
      "/home/yazan/Repositories/Personal/mcd-clip/venv/lib/python3.10/site-packages/pymoo/operators/crossover/sbx.py:47: RuntimeWarning: invalid value encountered in power\n",
      "  betaq[mask] = np.power((rand * alpha), (1.0 / (eta + 1.0)))[mask]\n"
     ]
    },
    {
     "name": "stdout",
     "output_type": "stream",
     "text": [
      "Found framed material columns ['Material=Steel', 'Material=Aluminum', 'Material=Titanium']\n",
      "Mapping Material=Steel to MATERIAL OHCLASS: STEEL\n",
      "Mapping Material=Aluminum to MATERIAL OHCLASS: ALUMINUM\n",
      "Mapping Material=Titanium to MATERIAL OHCLASS: TITANIUM\n",
      "Found framed material columns ['Material=Steel', 'Material=Aluminum', 'Material=Titanium']\n",
      "Mapping Material=Steel to MATERIAL OHCLASS: STEEL\n",
      "Mapping Material=Aluminum to MATERIAL OHCLASS: ALUMINUM\n",
      "Mapping Material=Titanium to MATERIAL OHCLASS: TITANIUM\n"
     ]
    },
    {
     "name": "stderr",
     "output_type": "stream",
     "text": [
      "/home/yazan/Repositories/Personal/mcd-clip/src/mcd_clip/bike_rider_fit/fit_analysis/vectorizedangles.py:158: RuntimeWarning: invalid value encountered in arccos\n",
      "  alpha_1 = np.arccos((x_1 ** 2 - UL_s - x_2 ** 2) / (-2 * UL * x_2))\n",
      "/home/yazan/Repositories/Personal/mcd-clip/src/mcd_clip/bike_rider_fit/fit_analysis/demoanalysis.py:76: RuntimeWarning: invalid value encountered in arccos\n",
      "  Tksp2 = np.arccos(\n",
      "/home/yazan/Repositories/Personal/mcd-clip/src/mcd_clip/bike_rider_fit/fit_analysis/vectorizedangles.py:158: RuntimeWarning: invalid value encountered in arccos\n",
      "  alpha_1 = np.arccos((x_1 ** 2 - UL_s - x_2 ** 2) / (-2 * UL * x_2))\n"
     ]
    },
    {
     "name": "stdout",
     "output_type": "stream",
     "text": [
      "Found framed material columns ['Material=Steel', 'Material=Aluminum', 'Material=Titanium']\n",
      "Mapping Material=Steel to MATERIAL OHCLASS: STEEL\n",
      "Mapping Material=Aluminum to MATERIAL OHCLASS: ALUMINUM\n",
      "Mapping Material=Titanium to MATERIAL OHCLASS: TITANIUM\n",
      "embedding_distance_1 | min 0.6899999976158142, max [1.1799999475479126],  average [0.7300000190734863]\n",
      "embedding_distance_2 | min 0.07999999821186066, max [1.6799999475479126],  average [0.15000000596046448]\n",
      "Validation result: fraction invalid [0.088]\n",
      "Validation result: fraction invalid [0.132]\n",
      "Validation result: fraction invalid [0.136]\n",
      "Validation result: fraction invalid [0.126]\n",
      "Validation result: fraction invalid [0.0]\n",
      "Validation result: fraction invalid [0.002]\n",
      "   168 |    83500 |    500 |  0.000000E+00 |  0.000000E+00 |  0.0028679744 |             f\n"
     ]
    },
    {
     "name": "stderr",
     "output_type": "stream",
     "text": [
      "/home/yazan/Repositories/Personal/mcd-clip/venv/lib/python3.10/site-packages/pymoo/operators/crossover/sbx.py:42: RuntimeWarning: divide by zero encountered in power\n",
      "  alpha = 2.0 - np.power(beta, -(eta + 1.0))\n",
      "/home/yazan/Repositories/Personal/mcd-clip/venv/lib/python3.10/site-packages/pymoo/operators/crossover/sbx.py:47: RuntimeWarning: invalid value encountered in power\n",
      "  betaq[mask] = np.power((rand * alpha), (1.0 / (eta + 1.0)))[mask]\n"
     ]
    },
    {
     "name": "stdout",
     "output_type": "stream",
     "text": [
      "Found framed material columns ['Material=Steel', 'Material=Aluminum', 'Material=Titanium']\n",
      "Mapping Material=Steel to MATERIAL OHCLASS: STEEL\n",
      "Mapping Material=Aluminum to MATERIAL OHCLASS: ALUMINUM\n",
      "Mapping Material=Titanium to MATERIAL OHCLASS: TITANIUM\n",
      "Found framed material columns ['Material=Steel', 'Material=Aluminum', 'Material=Titanium']\n",
      "Mapping Material=Steel to MATERIAL OHCLASS: STEEL\n",
      "Mapping Material=Aluminum to MATERIAL OHCLASS: ALUMINUM\n",
      "Mapping Material=Titanium to MATERIAL OHCLASS: TITANIUM\n"
     ]
    },
    {
     "name": "stderr",
     "output_type": "stream",
     "text": [
      "/home/yazan/Repositories/Personal/mcd-clip/src/mcd_clip/bike_rider_fit/fit_analysis/vectorizedangles.py:158: RuntimeWarning: invalid value encountered in arccos\n",
      "  alpha_1 = np.arccos((x_1 ** 2 - UL_s - x_2 ** 2) / (-2 * UL * x_2))\n",
      "/home/yazan/Repositories/Personal/mcd-clip/src/mcd_clip/bike_rider_fit/fit_analysis/demoanalysis.py:76: RuntimeWarning: invalid value encountered in arccos\n",
      "  Tksp2 = np.arccos(\n",
      "/home/yazan/Repositories/Personal/mcd-clip/src/mcd_clip/bike_rider_fit/fit_analysis/vectorizedangles.py:158: RuntimeWarning: invalid value encountered in arccos\n",
      "  alpha_1 = np.arccos((x_1 ** 2 - UL_s - x_2 ** 2) / (-2 * UL * x_2))\n"
     ]
    },
    {
     "name": "stdout",
     "output_type": "stream",
     "text": [
      "Found framed material columns ['Material=Steel', 'Material=Aluminum', 'Material=Titanium']\n",
      "Mapping Material=Steel to MATERIAL OHCLASS: STEEL\n",
      "Mapping Material=Aluminum to MATERIAL OHCLASS: ALUMINUM\n",
      "Mapping Material=Titanium to MATERIAL OHCLASS: TITANIUM\n",
      "embedding_distance_1 | min 0.6899999976158142, max [1.1799999475479126],  average [0.7300000190734863]\n",
      "embedding_distance_2 | min 0.07999999821186066, max [1.690000057220459],  average [0.15000000596046448]\n",
      "Validation result: fraction invalid [0.12]\n",
      "Validation result: fraction invalid [0.116]\n",
      "Validation result: fraction invalid [0.146]\n",
      "Validation result: fraction invalid [0.136]\n",
      "Validation result: fraction invalid [0.0]\n",
      "Validation result: fraction invalid [0.006]\n",
      "   169 |    84000 |    500 |  0.000000E+00 |  0.000000E+00 |  0.0048145646 |             f\n"
     ]
    },
    {
     "name": "stderr",
     "output_type": "stream",
     "text": [
      "/home/yazan/Repositories/Personal/mcd-clip/venv/lib/python3.10/site-packages/pymoo/operators/crossover/sbx.py:42: RuntimeWarning: divide by zero encountered in power\n",
      "  alpha = 2.0 - np.power(beta, -(eta + 1.0))\n",
      "/home/yazan/Repositories/Personal/mcd-clip/venv/lib/python3.10/site-packages/pymoo/operators/crossover/sbx.py:47: RuntimeWarning: invalid value encountered in power\n",
      "  betaq[mask] = np.power((rand * alpha), (1.0 / (eta + 1.0)))[mask]\n"
     ]
    },
    {
     "name": "stdout",
     "output_type": "stream",
     "text": [
      "Found framed material columns ['Material=Steel', 'Material=Aluminum', 'Material=Titanium']\n",
      "Mapping Material=Steel to MATERIAL OHCLASS: STEEL\n",
      "Mapping Material=Aluminum to MATERIAL OHCLASS: ALUMINUM\n",
      "Mapping Material=Titanium to MATERIAL OHCLASS: TITANIUM\n",
      "Found framed material columns ['Material=Steel', 'Material=Aluminum', 'Material=Titanium']\n",
      "Mapping Material=Steel to MATERIAL OHCLASS: STEEL\n",
      "Mapping Material=Aluminum to MATERIAL OHCLASS: ALUMINUM\n",
      "Mapping Material=Titanium to MATERIAL OHCLASS: TITANIUM\n"
     ]
    },
    {
     "name": "stderr",
     "output_type": "stream",
     "text": [
      "/home/yazan/Repositories/Personal/mcd-clip/src/mcd_clip/bike_rider_fit/fit_analysis/vectorizedangles.py:158: RuntimeWarning: invalid value encountered in arccos\n",
      "  alpha_1 = np.arccos((x_1 ** 2 - UL_s - x_2 ** 2) / (-2 * UL * x_2))\n",
      "/home/yazan/Repositories/Personal/mcd-clip/src/mcd_clip/bike_rider_fit/fit_analysis/demoanalysis.py:76: RuntimeWarning: invalid value encountered in arccos\n",
      "  Tksp2 = np.arccos(\n",
      "/home/yazan/Repositories/Personal/mcd-clip/src/mcd_clip/bike_rider_fit/fit_analysis/vectorizedangles.py:158: RuntimeWarning: invalid value encountered in arccos\n",
      "  alpha_1 = np.arccos((x_1 ** 2 - UL_s - x_2 ** 2) / (-2 * UL * x_2))\n"
     ]
    },
    {
     "name": "stdout",
     "output_type": "stream",
     "text": [
      "Found framed material columns ['Material=Steel', 'Material=Aluminum', 'Material=Titanium']\n",
      "Mapping Material=Steel to MATERIAL OHCLASS: STEEL\n",
      "Mapping Material=Aluminum to MATERIAL OHCLASS: ALUMINUM\n",
      "Mapping Material=Titanium to MATERIAL OHCLASS: TITANIUM\n",
      "embedding_distance_1 | min 0.6899999976158142, max [1.1799999475479126],  average [0.7200000286102295]\n",
      "embedding_distance_2 | min 0.07999999821186066, max [1.6699999570846558],  average [0.12999999523162842]\n",
      "Validation result: fraction invalid [0.112]\n",
      "Validation result: fraction invalid [0.108]\n",
      "Validation result: fraction invalid [0.088]\n",
      "Validation result: fraction invalid [0.072]\n",
      "Validation result: fraction invalid [0.0]\n",
      "Validation result: fraction invalid [0.0]\n",
      "   170 |    84500 |    500 |  0.000000E+00 |  0.000000E+00 |  0.0066249121 |             f\n"
     ]
    },
    {
     "name": "stderr",
     "output_type": "stream",
     "text": [
      "/home/yazan/Repositories/Personal/mcd-clip/venv/lib/python3.10/site-packages/pymoo/operators/crossover/sbx.py:42: RuntimeWarning: divide by zero encountered in power\n",
      "  alpha = 2.0 - np.power(beta, -(eta + 1.0))\n",
      "/home/yazan/Repositories/Personal/mcd-clip/venv/lib/python3.10/site-packages/pymoo/operators/crossover/sbx.py:47: RuntimeWarning: invalid value encountered in power\n",
      "  betaq[mask] = np.power((rand * alpha), (1.0 / (eta + 1.0)))[mask]\n"
     ]
    },
    {
     "name": "stdout",
     "output_type": "stream",
     "text": [
      "Found framed material columns ['Material=Steel', 'Material=Aluminum', 'Material=Titanium']\n",
      "Mapping Material=Steel to MATERIAL OHCLASS: STEEL\n",
      "Mapping Material=Aluminum to MATERIAL OHCLASS: ALUMINUM\n",
      "Mapping Material=Titanium to MATERIAL OHCLASS: TITANIUM\n",
      "Found framed material columns ['Material=Steel', 'Material=Aluminum', 'Material=Titanium']\n",
      "Mapping Material=Steel to MATERIAL OHCLASS: STEEL\n",
      "Mapping Material=Aluminum to MATERIAL OHCLASS: ALUMINUM\n",
      "Mapping Material=Titanium to MATERIAL OHCLASS: TITANIUM\n",
      "Found framed material columns ['Material=Steel', 'Material=Aluminum', 'Material=Titanium']\n",
      "Mapping Material=Steel to MATERIAL OHCLASS: STEEL\n",
      "Mapping Material=Aluminum to MATERIAL OHCLASS: ALUMINUM\n",
      "Mapping Material=Titanium to MATERIAL OHCLASS: TITANIUM\n",
      "embedding_distance_1 | min 0.6899999976158142, max [1.1799999475479126],  average [0.7400000095367432]\n",
      "embedding_distance_2 | min 0.07999999821186066, max [1.6799999475479126],  average [0.17000000178813934]\n"
     ]
    },
    {
     "name": "stderr",
     "output_type": "stream",
     "text": [
      "/home/yazan/Repositories/Personal/mcd-clip/src/mcd_clip/bike_rider_fit/fit_analysis/vectorizedangles.py:158: RuntimeWarning: invalid value encountered in arccos\n",
      "  alpha_1 = np.arccos((x_1 ** 2 - UL_s - x_2 ** 2) / (-2 * UL * x_2))\n",
      "/home/yazan/Repositories/Personal/mcd-clip/src/mcd_clip/bike_rider_fit/fit_analysis/demoanalysis.py:76: RuntimeWarning: invalid value encountered in arccos\n",
      "  Tksp2 = np.arccos(\n",
      "/home/yazan/Repositories/Personal/mcd-clip/src/mcd_clip/bike_rider_fit/fit_analysis/vectorizedangles.py:158: RuntimeWarning: invalid value encountered in arccos\n",
      "  alpha_1 = np.arccos((x_1 ** 2 - UL_s - x_2 ** 2) / (-2 * UL * x_2))\n"
     ]
    },
    {
     "name": "stdout",
     "output_type": "stream",
     "text": [
      "Validation result: fraction invalid [0.124]\n",
      "Validation result: fraction invalid [0.134]\n",
      "Validation result: fraction invalid [0.156]\n",
      "Validation result: fraction invalid [0.168]\n",
      "Validation result: fraction invalid [0.0]\n",
      "Validation result: fraction invalid [0.0]\n",
      "   171 |    85000 |    500 |  0.000000E+00 |  0.000000E+00 |  0.0030410103 |             f\n"
     ]
    },
    {
     "name": "stderr",
     "output_type": "stream",
     "text": [
      "/home/yazan/Repositories/Personal/mcd-clip/venv/lib/python3.10/site-packages/pymoo/operators/crossover/sbx.py:42: RuntimeWarning: divide by zero encountered in power\n",
      "  alpha = 2.0 - np.power(beta, -(eta + 1.0))\n",
      "/home/yazan/Repositories/Personal/mcd-clip/venv/lib/python3.10/site-packages/pymoo/operators/crossover/sbx.py:47: RuntimeWarning: invalid value encountered in power\n",
      "  betaq[mask] = np.power((rand * alpha), (1.0 / (eta + 1.0)))[mask]\n"
     ]
    },
    {
     "name": "stdout",
     "output_type": "stream",
     "text": [
      "Found framed material columns ['Material=Steel', 'Material=Aluminum', 'Material=Titanium']\n",
      "Mapping Material=Steel to MATERIAL OHCLASS: STEEL\n",
      "Mapping Material=Aluminum to MATERIAL OHCLASS: ALUMINUM\n",
      "Mapping Material=Titanium to MATERIAL OHCLASS: TITANIUM\n",
      "Found framed material columns ['Material=Steel', 'Material=Aluminum', 'Material=Titanium']\n",
      "Mapping Material=Steel to MATERIAL OHCLASS: STEEL\n",
      "Mapping Material=Aluminum to MATERIAL OHCLASS: ALUMINUM\n",
      "Mapping Material=Titanium to MATERIAL OHCLASS: TITANIUM\n"
     ]
    },
    {
     "name": "stderr",
     "output_type": "stream",
     "text": [
      "/home/yazan/Repositories/Personal/mcd-clip/src/mcd_clip/bike_rider_fit/fit_analysis/vectorizedangles.py:158: RuntimeWarning: invalid value encountered in arccos\n",
      "  alpha_1 = np.arccos((x_1 ** 2 - UL_s - x_2 ** 2) / (-2 * UL * x_2))\n",
      "/home/yazan/Repositories/Personal/mcd-clip/src/mcd_clip/bike_rider_fit/fit_analysis/demoanalysis.py:76: RuntimeWarning: invalid value encountered in arccos\n",
      "  Tksp2 = np.arccos(\n",
      "/home/yazan/Repositories/Personal/mcd-clip/src/mcd_clip/bike_rider_fit/fit_analysis/vectorizedangles.py:158: RuntimeWarning: invalid value encountered in arccos\n",
      "  alpha_1 = np.arccos((x_1 ** 2 - UL_s - x_2 ** 2) / (-2 * UL * x_2))\n"
     ]
    },
    {
     "name": "stdout",
     "output_type": "stream",
     "text": [
      "Found framed material columns ['Material=Steel', 'Material=Aluminum', 'Material=Titanium']\n",
      "Mapping Material=Steel to MATERIAL OHCLASS: STEEL\n",
      "Mapping Material=Aluminum to MATERIAL OHCLASS: ALUMINUM\n",
      "Mapping Material=Titanium to MATERIAL OHCLASS: TITANIUM\n",
      "embedding_distance_1 | min 0.6800000071525574, max [1.1799999475479126],  average [0.7200000286102295]\n",
      "embedding_distance_2 | min 0.07999999821186066, max [1.6799999475479126],  average [0.14000000059604645]\n",
      "Validation result: fraction invalid [0.104]\n",
      "Validation result: fraction invalid [0.098]\n",
      "Validation result: fraction invalid [0.072]\n",
      "Validation result: fraction invalid [0.102]\n",
      "Validation result: fraction invalid [0.0]\n",
      "Validation result: fraction invalid [0.004]\n",
      "   172 |    85500 |    500 |  0.000000E+00 |  0.000000E+00 |  0.0175638115 |         nadir\n"
     ]
    },
    {
     "name": "stderr",
     "output_type": "stream",
     "text": [
      "/home/yazan/Repositories/Personal/mcd-clip/venv/lib/python3.10/site-packages/pymoo/operators/crossover/sbx.py:42: RuntimeWarning: divide by zero encountered in power\n",
      "  alpha = 2.0 - np.power(beta, -(eta + 1.0))\n",
      "/home/yazan/Repositories/Personal/mcd-clip/venv/lib/python3.10/site-packages/pymoo/operators/crossover/sbx.py:47: RuntimeWarning: invalid value encountered in power\n",
      "  betaq[mask] = np.power((rand * alpha), (1.0 / (eta + 1.0)))[mask]\n"
     ]
    },
    {
     "name": "stdout",
     "output_type": "stream",
     "text": [
      "Found framed material columns ['Material=Steel', 'Material=Aluminum', 'Material=Titanium']\n",
      "Mapping Material=Steel to MATERIAL OHCLASS: STEEL\n",
      "Mapping Material=Aluminum to MATERIAL OHCLASS: ALUMINUM\n",
      "Mapping Material=Titanium to MATERIAL OHCLASS: TITANIUM\n",
      "Found framed material columns ['Material=Steel', 'Material=Aluminum', 'Material=Titanium']\n",
      "Mapping Material=Steel to MATERIAL OHCLASS: STEEL\n",
      "Mapping Material=Aluminum to MATERIAL OHCLASS: ALUMINUM\n",
      "Mapping Material=Titanium to MATERIAL OHCLASS: TITANIUM\n",
      "Found framed material columns ['Material=Steel', 'Material=Aluminum', 'Material=Titanium']\n",
      "Mapping Material=Steel to MATERIAL OHCLASS: STEEL\n",
      "Mapping Material=Aluminum to MATERIAL OHCLASS: ALUMINUM\n",
      "Mapping Material=Titanium to MATERIAL OHCLASS: TITANIUM\n"
     ]
    },
    {
     "name": "stderr",
     "output_type": "stream",
     "text": [
      "/home/yazan/Repositories/Personal/mcd-clip/src/mcd_clip/bike_rider_fit/fit_analysis/vectorizedangles.py:158: RuntimeWarning: invalid value encountered in arccos\n",
      "  alpha_1 = np.arccos((x_1 ** 2 - UL_s - x_2 ** 2) / (-2 * UL * x_2))\n",
      "/home/yazan/Repositories/Personal/mcd-clip/src/mcd_clip/bike_rider_fit/fit_analysis/demoanalysis.py:76: RuntimeWarning: invalid value encountered in arccos\n",
      "  Tksp2 = np.arccos(\n",
      "/home/yazan/Repositories/Personal/mcd-clip/src/mcd_clip/bike_rider_fit/fit_analysis/vectorizedangles.py:158: RuntimeWarning: invalid value encountered in arccos\n",
      "  alpha_1 = np.arccos((x_1 ** 2 - UL_s - x_2 ** 2) / (-2 * UL * x_2))\n"
     ]
    },
    {
     "name": "stdout",
     "output_type": "stream",
     "text": [
      "embedding_distance_1 | min 0.6899999976158142, max [1.149999976158142],  average [0.7200000286102295]\n",
      "embedding_distance_2 | min 0.07999999821186066, max [1.590000033378601],  average [0.12999999523162842]\n",
      "Validation result: fraction invalid [0.078]\n",
      "Validation result: fraction invalid [0.074]\n",
      "Validation result: fraction invalid [0.088]\n",
      "Validation result: fraction invalid [0.09]\n",
      "Validation result: fraction invalid [0.0]\n",
      "Validation result: fraction invalid [0.0]\n",
      "   173 |    86000 |    500 |  0.000000E+00 |  0.000000E+00 |  0.0357475340 |         nadir\n"
     ]
    },
    {
     "name": "stderr",
     "output_type": "stream",
     "text": [
      "/home/yazan/Repositories/Personal/mcd-clip/venv/lib/python3.10/site-packages/pymoo/operators/crossover/sbx.py:42: RuntimeWarning: divide by zero encountered in power\n",
      "  alpha = 2.0 - np.power(beta, -(eta + 1.0))\n",
      "/home/yazan/Repositories/Personal/mcd-clip/venv/lib/python3.10/site-packages/pymoo/operators/crossover/sbx.py:47: RuntimeWarning: invalid value encountered in power\n",
      "  betaq[mask] = np.power((rand * alpha), (1.0 / (eta + 1.0)))[mask]\n",
      "/home/yazan/Repositories/Personal/mcd-clip/venv/lib/python3.10/site-packages/pymoo/operators/crossover/sbx.py:47: RuntimeWarning: invalid value encountered in power\n",
      "  betaq[mask] = np.power((rand * alpha), (1.0 / (eta + 1.0)))[mask]\n"
     ]
    },
    {
     "name": "stdout",
     "output_type": "stream",
     "text": [
      "Found framed material columns ['Material=Steel', 'Material=Aluminum', 'Material=Titanium']\n",
      "Mapping Material=Steel to MATERIAL OHCLASS: STEEL\n",
      "Mapping Material=Aluminum to MATERIAL OHCLASS: ALUMINUM\n",
      "Mapping Material=Titanium to MATERIAL OHCLASS: TITANIUM\n",
      "Found framed material columns ['Material=Steel', 'Material=Aluminum', 'Material=Titanium']\n",
      "Mapping Material=Steel to MATERIAL OHCLASS: STEEL\n",
      "Mapping Material=Aluminum to MATERIAL OHCLASS: ALUMINUM\n",
      "Mapping Material=Titanium to MATERIAL OHCLASS: TITANIUM\n"
     ]
    },
    {
     "name": "stderr",
     "output_type": "stream",
     "text": [
      "/home/yazan/Repositories/Personal/mcd-clip/src/mcd_clip/bike_rider_fit/fit_analysis/vectorizedangles.py:158: RuntimeWarning: invalid value encountered in arccos\n",
      "  alpha_1 = np.arccos((x_1 ** 2 - UL_s - x_2 ** 2) / (-2 * UL * x_2))\n",
      "/home/yazan/Repositories/Personal/mcd-clip/src/mcd_clip/bike_rider_fit/fit_analysis/demoanalysis.py:76: RuntimeWarning: invalid value encountered in arccos\n",
      "  Tksp2 = np.arccos(\n",
      "/home/yazan/Repositories/Personal/mcd-clip/src/mcd_clip/bike_rider_fit/fit_analysis/vectorizedangles.py:158: RuntimeWarning: invalid value encountered in arccos\n",
      "  alpha_1 = np.arccos((x_1 ** 2 - UL_s - x_2 ** 2) / (-2 * UL * x_2))\n"
     ]
    },
    {
     "name": "stdout",
     "output_type": "stream",
     "text": [
      "Found framed material columns ['Material=Steel', 'Material=Aluminum', 'Material=Titanium']\n",
      "Mapping Material=Steel to MATERIAL OHCLASS: STEEL\n",
      "Mapping Material=Aluminum to MATERIAL OHCLASS: ALUMINUM\n",
      "Mapping Material=Titanium to MATERIAL OHCLASS: TITANIUM\n",
      "embedding_distance_1 | min 0.6899999976158142, max [0.75],  average [0.7300000190734863]\n",
      "embedding_distance_2 | min 0.07999999821186066, max [0.20000000298023224],  average [0.14000000059604645]\n",
      "Validation result: fraction invalid [0.032]\n",
      "Validation result: fraction invalid [0.05]\n",
      "Validation result: fraction invalid [0.036]\n",
      "Validation result: fraction invalid [0.04]\n",
      "Validation result: fraction invalid [0.0]\n",
      "Validation result: fraction invalid [0.002]\n",
      "   174 |    86500 |    500 |  0.000000E+00 |  0.000000E+00 |  0.0011961443 |             f\n"
     ]
    },
    {
     "name": "stderr",
     "output_type": "stream",
     "text": [
      "/home/yazan/Repositories/Personal/mcd-clip/venv/lib/python3.10/site-packages/pymoo/operators/crossover/sbx.py:42: RuntimeWarning: divide by zero encountered in power\n",
      "  alpha = 2.0 - np.power(beta, -(eta + 1.0))\n",
      "/home/yazan/Repositories/Personal/mcd-clip/venv/lib/python3.10/site-packages/pymoo/operators/crossover/sbx.py:47: RuntimeWarning: invalid value encountered in power\n",
      "  betaq[mask] = np.power((rand * alpha), (1.0 / (eta + 1.0)))[mask]\n"
     ]
    },
    {
     "name": "stdout",
     "output_type": "stream",
     "text": [
      "Found framed material columns ['Material=Steel', 'Material=Aluminum', 'Material=Titanium']\n",
      "Mapping Material=Steel to MATERIAL OHCLASS: STEEL\n",
      "Mapping Material=Aluminum to MATERIAL OHCLASS: ALUMINUM\n",
      "Mapping Material=Titanium to MATERIAL OHCLASS: TITANIUM\n",
      "Found framed material columns ['Material=Steel', 'Material=Aluminum', 'Material=Titanium']\n",
      "Mapping Material=Steel to MATERIAL OHCLASS: STEEL\n",
      "Mapping Material=Aluminum to MATERIAL OHCLASS: ALUMINUM\n",
      "Mapping Material=Titanium to MATERIAL OHCLASS: TITANIUM\n",
      "Found framed material columns ['Material=Steel', 'Material=Aluminum', 'Material=Titanium']\n",
      "Mapping Material=Steel to MATERIAL OHCLASS: STEEL\n",
      "Mapping Material=Aluminum to MATERIAL OHCLASS: ALUMINUM\n",
      "Mapping Material=Titanium to MATERIAL OHCLASS: TITANIUM\n"
     ]
    },
    {
     "name": "stderr",
     "output_type": "stream",
     "text": [
      "/home/yazan/Repositories/Personal/mcd-clip/src/mcd_clip/bike_rider_fit/fit_analysis/vectorizedangles.py:158: RuntimeWarning: invalid value encountered in arccos\n",
      "  alpha_1 = np.arccos((x_1 ** 2 - UL_s - x_2 ** 2) / (-2 * UL * x_2))\n",
      "/home/yazan/Repositories/Personal/mcd-clip/src/mcd_clip/bike_rider_fit/fit_analysis/demoanalysis.py:76: RuntimeWarning: invalid value encountered in arccos\n",
      "  Tksp2 = np.arccos(\n",
      "/home/yazan/Repositories/Personal/mcd-clip/src/mcd_clip/bike_rider_fit/fit_analysis/vectorizedangles.py:158: RuntimeWarning: invalid value encountered in arccos\n",
      "  alpha_1 = np.arccos((x_1 ** 2 - UL_s - x_2 ** 2) / (-2 * UL * x_2))\n"
     ]
    },
    {
     "name": "stdout",
     "output_type": "stream",
     "text": [
      "embedding_distance_1 | min 0.6899999976158142, max [1.1799999475479126],  average [0.7300000190734863]\n",
      "embedding_distance_2 | min 0.07999999821186066, max [1.690000057220459],  average [0.15000000596046448]\n",
      "Validation result: fraction invalid [0.112]\n",
      "Validation result: fraction invalid [0.11]\n",
      "Validation result: fraction invalid [0.136]\n",
      "Validation result: fraction invalid [0.122]\n",
      "Validation result: fraction invalid [0.0]\n",
      "Validation result: fraction invalid [0.006]\n",
      "   175 |    87000 |    500 |  0.000000E+00 |  0.000000E+00 |  0.0190947397 |         nadir\n"
     ]
    },
    {
     "name": "stderr",
     "output_type": "stream",
     "text": [
      "/home/yazan/Repositories/Personal/mcd-clip/venv/lib/python3.10/site-packages/pymoo/operators/crossover/sbx.py:42: RuntimeWarning: divide by zero encountered in power\n",
      "  alpha = 2.0 - np.power(beta, -(eta + 1.0))\n",
      "/home/yazan/Repositories/Personal/mcd-clip/venv/lib/python3.10/site-packages/pymoo/operators/crossover/sbx.py:47: RuntimeWarning: invalid value encountered in power\n",
      "  betaq[mask] = np.power((rand * alpha), (1.0 / (eta + 1.0)))[mask]\n",
      "/home/yazan/Repositories/Personal/mcd-clip/venv/lib/python3.10/site-packages/pymoo/operators/mutation/pm.py:45: RuntimeWarning: invalid value encountered in power\n",
      "  d = np.power(val, mut_pow) - 1.0\n"
     ]
    },
    {
     "name": "stdout",
     "output_type": "stream",
     "text": [
      "Found framed material columns ['Material=Steel', 'Material=Aluminum', 'Material=Titanium']\n",
      "Mapping Material=Steel to MATERIAL OHCLASS: STEEL\n",
      "Mapping Material=Aluminum to MATERIAL OHCLASS: ALUMINUM\n",
      "Mapping Material=Titanium to MATERIAL OHCLASS: TITANIUM\n",
      "Found framed material columns ['Material=Steel', 'Material=Aluminum', 'Material=Titanium']\n",
      "Mapping Material=Steel to MATERIAL OHCLASS: STEEL\n",
      "Mapping Material=Aluminum to MATERIAL OHCLASS: ALUMINUM\n",
      "Mapping Material=Titanium to MATERIAL OHCLASS: TITANIUM\n",
      "Found framed material columns ['Material=Steel', 'Material=Aluminum', 'Material=Titanium']\n",
      "Mapping Material=Steel to MATERIAL OHCLASS: STEEL\n",
      "Mapping Material=Aluminum to MATERIAL OHCLASS: ALUMINUM\n",
      "Mapping Material=Titanium to MATERIAL OHCLASS: TITANIUM\n",
      "embedding_distance_1 | min 0.6899999976158142, max [1.1799999475479126],  average [0.7200000286102295]\n",
      "embedding_distance_2 | min 0.07999999821186066, max [1.6699999570846558],  average [0.12999999523162842]\n"
     ]
    },
    {
     "name": "stderr",
     "output_type": "stream",
     "text": [
      "/home/yazan/Repositories/Personal/mcd-clip/src/mcd_clip/bike_rider_fit/fit_analysis/vectorizedangles.py:158: RuntimeWarning: invalid value encountered in arccos\n",
      "  alpha_1 = np.arccos((x_1 ** 2 - UL_s - x_2 ** 2) / (-2 * UL * x_2))\n",
      "/home/yazan/Repositories/Personal/mcd-clip/src/mcd_clip/bike_rider_fit/fit_analysis/demoanalysis.py:76: RuntimeWarning: invalid value encountered in arccos\n",
      "  Tksp2 = np.arccos(\n",
      "/home/yazan/Repositories/Personal/mcd-clip/src/mcd_clip/bike_rider_fit/fit_analysis/vectorizedangles.py:158: RuntimeWarning: invalid value encountered in arccos\n",
      "  alpha_1 = np.arccos((x_1 ** 2 - UL_s - x_2 ** 2) / (-2 * UL * x_2))\n"
     ]
    },
    {
     "name": "stdout",
     "output_type": "stream",
     "text": [
      "Validation result: fraction invalid [0.08]\n",
      "Validation result: fraction invalid [0.086]\n",
      "Validation result: fraction invalid [0.078]\n",
      "Validation result: fraction invalid [0.08]\n",
      "Validation result: fraction invalid [0.0]\n",
      "Validation result: fraction invalid [0.0]\n",
      "   176 |    87500 |    500 |  0.000000E+00 |  0.000000E+00 |  0.0053716840 |         nadir\n"
     ]
    },
    {
     "name": "stderr",
     "output_type": "stream",
     "text": [
      "/home/yazan/Repositories/Personal/mcd-clip/venv/lib/python3.10/site-packages/pymoo/operators/crossover/sbx.py:42: RuntimeWarning: divide by zero encountered in power\n",
      "  alpha = 2.0 - np.power(beta, -(eta + 1.0))\n",
      "/home/yazan/Repositories/Personal/mcd-clip/venv/lib/python3.10/site-packages/pymoo/operators/crossover/sbx.py:47: RuntimeWarning: invalid value encountered in power\n",
      "  betaq[mask] = np.power((rand * alpha), (1.0 / (eta + 1.0)))[mask]\n"
     ]
    },
    {
     "name": "stdout",
     "output_type": "stream",
     "text": [
      "Found framed material columns ['Material=Steel', 'Material=Aluminum', 'Material=Titanium']\n",
      "Mapping Material=Steel to MATERIAL OHCLASS: STEEL\n",
      "Mapping Material=Aluminum to MATERIAL OHCLASS: ALUMINUM\n",
      "Mapping Material=Titanium to MATERIAL OHCLASS: TITANIUM\n",
      "Found framed material columns ['Material=Steel', 'Material=Aluminum', 'Material=Titanium']\n",
      "Mapping Material=Steel to MATERIAL OHCLASS: STEEL\n",
      "Mapping Material=Aluminum to MATERIAL OHCLASS: ALUMINUM\n",
      "Mapping Material=Titanium to MATERIAL OHCLASS: TITANIUM\n"
     ]
    },
    {
     "name": "stderr",
     "output_type": "stream",
     "text": [
      "/home/yazan/Repositories/Personal/mcd-clip/src/mcd_clip/bike_rider_fit/fit_analysis/vectorizedangles.py:158: RuntimeWarning: invalid value encountered in arccos\n",
      "  alpha_1 = np.arccos((x_1 ** 2 - UL_s - x_2 ** 2) / (-2 * UL * x_2))\n",
      "/home/yazan/Repositories/Personal/mcd-clip/src/mcd_clip/bike_rider_fit/fit_analysis/demoanalysis.py:76: RuntimeWarning: invalid value encountered in arccos\n",
      "  Tksp2 = np.arccos(\n",
      "/home/yazan/Repositories/Personal/mcd-clip/src/mcd_clip/bike_rider_fit/fit_analysis/vectorizedangles.py:158: RuntimeWarning: invalid value encountered in arccos\n",
      "  alpha_1 = np.arccos((x_1 ** 2 - UL_s - x_2 ** 2) / (-2 * UL * x_2))\n"
     ]
    },
    {
     "name": "stdout",
     "output_type": "stream",
     "text": [
      "Found framed material columns ['Material=Steel', 'Material=Aluminum', 'Material=Titanium']\n",
      "Mapping Material=Steel to MATERIAL OHCLASS: STEEL\n",
      "Mapping Material=Aluminum to MATERIAL OHCLASS: ALUMINUM\n",
      "Mapping Material=Titanium to MATERIAL OHCLASS: TITANIUM\n",
      "embedding_distance_1 | min 0.6899999976158142, max [1.1799999475479126],  average [0.7200000286102295]\n",
      "embedding_distance_2 | min 0.07999999821186066, max [1.6799999475479126],  average [0.12999999523162842]\n",
      "Validation result: fraction invalid [0.106]\n",
      "Validation result: fraction invalid [0.092]\n",
      "Validation result: fraction invalid [0.1]\n",
      "Validation result: fraction invalid [0.1]\n",
      "Validation result: fraction invalid [0.0]\n",
      "Validation result: fraction invalid [0.002]\n",
      "   177 |    88000 |    500 |  0.000000E+00 |  0.000000E+00 |  0.0163934426 |         nadir\n"
     ]
    },
    {
     "name": "stderr",
     "output_type": "stream",
     "text": [
      "/home/yazan/Repositories/Personal/mcd-clip/venv/lib/python3.10/site-packages/pymoo/operators/crossover/sbx.py:42: RuntimeWarning: divide by zero encountered in power\n",
      "  alpha = 2.0 - np.power(beta, -(eta + 1.0))\n",
      "/home/yazan/Repositories/Personal/mcd-clip/venv/lib/python3.10/site-packages/pymoo/operators/crossover/sbx.py:47: RuntimeWarning: invalid value encountered in power\n",
      "  betaq[mask] = np.power((rand * alpha), (1.0 / (eta + 1.0)))[mask]\n"
     ]
    },
    {
     "name": "stdout",
     "output_type": "stream",
     "text": [
      "Found framed material columns ['Material=Steel', 'Material=Aluminum', 'Material=Titanium']\n",
      "Mapping Material=Steel to MATERIAL OHCLASS: STEEL\n",
      "Mapping Material=Aluminum to MATERIAL OHCLASS: ALUMINUM\n",
      "Mapping Material=Titanium to MATERIAL OHCLASS: TITANIUM\n",
      "Found framed material columns ['Material=Steel', 'Material=Aluminum', 'Material=Titanium']\n",
      "Mapping Material=Steel to MATERIAL OHCLASS: STEEL\n",
      "Mapping Material=Aluminum to MATERIAL OHCLASS: ALUMINUM\n",
      "Mapping Material=Titanium to MATERIAL OHCLASS: TITANIUM\n"
     ]
    },
    {
     "name": "stderr",
     "output_type": "stream",
     "text": [
      "/home/yazan/Repositories/Personal/mcd-clip/src/mcd_clip/bike_rider_fit/fit_analysis/vectorizedangles.py:158: RuntimeWarning: invalid value encountered in arccos\n",
      "  alpha_1 = np.arccos((x_1 ** 2 - UL_s - x_2 ** 2) / (-2 * UL * x_2))\n",
      "/home/yazan/Repositories/Personal/mcd-clip/src/mcd_clip/bike_rider_fit/fit_analysis/demoanalysis.py:76: RuntimeWarning: invalid value encountered in arccos\n",
      "  Tksp2 = np.arccos(\n",
      "/home/yazan/Repositories/Personal/mcd-clip/src/mcd_clip/bike_rider_fit/fit_analysis/vectorizedangles.py:158: RuntimeWarning: invalid value encountered in arccos\n",
      "  alpha_1 = np.arccos((x_1 ** 2 - UL_s - x_2 ** 2) / (-2 * UL * x_2))\n"
     ]
    },
    {
     "name": "stdout",
     "output_type": "stream",
     "text": [
      "Found framed material columns ['Material=Steel', 'Material=Aluminum', 'Material=Titanium']\n",
      "Mapping Material=Steel to MATERIAL OHCLASS: STEEL\n",
      "Mapping Material=Aluminum to MATERIAL OHCLASS: ALUMINUM\n",
      "Mapping Material=Titanium to MATERIAL OHCLASS: TITANIUM\n",
      "embedding_distance_1 | min 0.699999988079071, max [1.1799999475479126],  average [0.7400000095367432]\n",
      "embedding_distance_2 | min 0.09000000357627869, max [1.6799999475479126],  average [0.1599999964237213]\n",
      "Validation result: fraction invalid [0.076]\n",
      "Validation result: fraction invalid [0.082]\n",
      "Validation result: fraction invalid [0.128]\n",
      "Validation result: fraction invalid [0.108]\n",
      "Validation result: fraction invalid [0.0]\n",
      "Validation result: fraction invalid [0.002]\n",
      "   178 |    88500 |    500 |  0.000000E+00 |  0.000000E+00 |  0.0012384481 |             f\n"
     ]
    },
    {
     "name": "stderr",
     "output_type": "stream",
     "text": [
      "/home/yazan/Repositories/Personal/mcd-clip/venv/lib/python3.10/site-packages/pymoo/operators/crossover/sbx.py:42: RuntimeWarning: divide by zero encountered in power\n",
      "  alpha = 2.0 - np.power(beta, -(eta + 1.0))\n",
      "/home/yazan/Repositories/Personal/mcd-clip/venv/lib/python3.10/site-packages/pymoo/operators/crossover/sbx.py:47: RuntimeWarning: invalid value encountered in power\n",
      "  betaq[mask] = np.power((rand * alpha), (1.0 / (eta + 1.0)))[mask]\n"
     ]
    },
    {
     "name": "stdout",
     "output_type": "stream",
     "text": [
      "Found framed material columns ['Material=Steel', 'Material=Aluminum', 'Material=Titanium']\n",
      "Mapping Material=Steel to MATERIAL OHCLASS: STEEL\n",
      "Mapping Material=Aluminum to MATERIAL OHCLASS: ALUMINUM\n",
      "Mapping Material=Titanium to MATERIAL OHCLASS: TITANIUM\n",
      "Found framed material columns ['Material=Steel', 'Material=Aluminum', 'Material=Titanium']\n",
      "Mapping Material=Steel to MATERIAL OHCLASS: STEEL\n",
      "Mapping Material=Aluminum to MATERIAL OHCLASS: ALUMINUM\n",
      "Mapping Material=Titanium to MATERIAL OHCLASS: TITANIUM\n",
      "Found framed material columns ['Material=Steel', 'Material=Aluminum', 'Material=Titanium']\n",
      "Mapping Material=Steel to MATERIAL OHCLASS: STEEL\n",
      "Mapping Material=Aluminum to MATERIAL OHCLASS: ALUMINUM\n",
      "Mapping Material=Titanium to MATERIAL OHCLASS: TITANIUM\n",
      "embedding_distance_1 | min 0.699999988079071, max [1.1799999475479126],  average [0.7400000095367432]\n",
      "embedding_distance_2 | min 0.10999999940395355, max [1.6799999475479126],  average [0.1599999964237213]\n"
     ]
    },
    {
     "name": "stderr",
     "output_type": "stream",
     "text": [
      "/home/yazan/Repositories/Personal/mcd-clip/src/mcd_clip/bike_rider_fit/fit_analysis/vectorizedangles.py:158: RuntimeWarning: invalid value encountered in arccos\n",
      "  alpha_1 = np.arccos((x_1 ** 2 - UL_s - x_2 ** 2) / (-2 * UL * x_2))\n",
      "/home/yazan/Repositories/Personal/mcd-clip/src/mcd_clip/bike_rider_fit/fit_analysis/demoanalysis.py:76: RuntimeWarning: invalid value encountered in arccos\n",
      "  Tksp2 = np.arccos(\n",
      "/home/yazan/Repositories/Personal/mcd-clip/src/mcd_clip/bike_rider_fit/fit_analysis/vectorizedangles.py:158: RuntimeWarning: invalid value encountered in arccos\n",
      "  alpha_1 = np.arccos((x_1 ** 2 - UL_s - x_2 ** 2) / (-2 * UL * x_2))\n"
     ]
    },
    {
     "name": "stdout",
     "output_type": "stream",
     "text": [
      "Validation result: fraction invalid [0.092]\n",
      "Validation result: fraction invalid [0.116]\n",
      "Validation result: fraction invalid [0.142]\n",
      "Validation result: fraction invalid [0.122]\n",
      "Validation result: fraction invalid [0.0]\n",
      "Validation result: fraction invalid [0.0]\n",
      "   179 |    89000 |    500 |  0.000000E+00 |  0.000000E+00 |  0.0018599625 |             f\n"
     ]
    },
    {
     "name": "stderr",
     "output_type": "stream",
     "text": [
      "/home/yazan/Repositories/Personal/mcd-clip/venv/lib/python3.10/site-packages/pymoo/operators/crossover/sbx.py:42: RuntimeWarning: divide by zero encountered in power\n",
      "  alpha = 2.0 - np.power(beta, -(eta + 1.0))\n",
      "/home/yazan/Repositories/Personal/mcd-clip/venv/lib/python3.10/site-packages/pymoo/operators/crossover/sbx.py:47: RuntimeWarning: invalid value encountered in power\n",
      "  betaq[mask] = np.power((rand * alpha), (1.0 / (eta + 1.0)))[mask]\n"
     ]
    },
    {
     "name": "stdout",
     "output_type": "stream",
     "text": [
      "Found framed material columns ['Material=Steel', 'Material=Aluminum', 'Material=Titanium']\n",
      "Mapping Material=Steel to MATERIAL OHCLASS: STEEL\n",
      "Mapping Material=Aluminum to MATERIAL OHCLASS: ALUMINUM\n",
      "Mapping Material=Titanium to MATERIAL OHCLASS: TITANIUM\n",
      "Found framed material columns ['Material=Steel', 'Material=Aluminum', 'Material=Titanium']\n",
      "Mapping Material=Steel to MATERIAL OHCLASS: STEEL\n",
      "Mapping Material=Aluminum to MATERIAL OHCLASS: ALUMINUM\n",
      "Mapping Material=Titanium to MATERIAL OHCLASS: TITANIUM\n"
     ]
    },
    {
     "name": "stderr",
     "output_type": "stream",
     "text": [
      "/home/yazan/Repositories/Personal/mcd-clip/src/mcd_clip/bike_rider_fit/fit_analysis/vectorizedangles.py:158: RuntimeWarning: invalid value encountered in arccos\n",
      "  alpha_1 = np.arccos((x_1 ** 2 - UL_s - x_2 ** 2) / (-2 * UL * x_2))\n",
      "/home/yazan/Repositories/Personal/mcd-clip/src/mcd_clip/bike_rider_fit/fit_analysis/demoanalysis.py:76: RuntimeWarning: invalid value encountered in arccos\n",
      "  Tksp2 = np.arccos(\n",
      "/home/yazan/Repositories/Personal/mcd-clip/src/mcd_clip/bike_rider_fit/fit_analysis/vectorizedangles.py:158: RuntimeWarning: invalid value encountered in arccos\n",
      "  alpha_1 = np.arccos((x_1 ** 2 - UL_s - x_2 ** 2) / (-2 * UL * x_2))\n"
     ]
    },
    {
     "name": "stdout",
     "output_type": "stream",
     "text": [
      "Found framed material columns ['Material=Steel', 'Material=Aluminum', 'Material=Titanium']\n",
      "Mapping Material=Steel to MATERIAL OHCLASS: STEEL\n",
      "Mapping Material=Aluminum to MATERIAL OHCLASS: ALUMINUM\n",
      "Mapping Material=Titanium to MATERIAL OHCLASS: TITANIUM\n",
      "embedding_distance_1 | min 0.6899999976158142, max [1.1799999475479126],  average [0.7200000286102295]\n",
      "embedding_distance_2 | min 0.07999999821186066, max [1.6699999570846558],  average [0.15000000596046448]\n",
      "Validation result: fraction invalid [0.084]\n",
      "Validation result: fraction invalid [0.082]\n",
      "Validation result: fraction invalid [0.09]\n",
      "Validation result: fraction invalid [0.09]\n",
      "Validation result: fraction invalid [0.0]\n",
      "Validation result: fraction invalid [0.002]\n",
      "   180 |    89500 |    500 |  0.000000E+00 |  0.000000E+00 |  0.0056180692 |             f\n"
     ]
    },
    {
     "name": "stderr",
     "output_type": "stream",
     "text": [
      "/home/yazan/Repositories/Personal/mcd-clip/venv/lib/python3.10/site-packages/pymoo/operators/crossover/sbx.py:42: RuntimeWarning: divide by zero encountered in power\n",
      "  alpha = 2.0 - np.power(beta, -(eta + 1.0))\n",
      "/home/yazan/Repositories/Personal/mcd-clip/venv/lib/python3.10/site-packages/pymoo/operators/crossover/sbx.py:47: RuntimeWarning: invalid value encountered in power\n",
      "  betaq[mask] = np.power((rand * alpha), (1.0 / (eta + 1.0)))[mask]\n"
     ]
    },
    {
     "name": "stdout",
     "output_type": "stream",
     "text": [
      "Found framed material columns ['Material=Steel', 'Material=Aluminum', 'Material=Titanium']\n",
      "Mapping Material=Steel to MATERIAL OHCLASS: STEEL\n",
      "Mapping Material=Aluminum to MATERIAL OHCLASS: ALUMINUM\n",
      "Mapping Material=Titanium to MATERIAL OHCLASS: TITANIUM\n",
      "Found framed material columns ['Material=Steel', 'Material=Aluminum', 'Material=Titanium']\n",
      "Mapping Material=Steel to MATERIAL OHCLASS: STEEL\n",
      "Mapping Material=Aluminum to MATERIAL OHCLASS: ALUMINUM\n",
      "Mapping Material=Titanium to MATERIAL OHCLASS: TITANIUM\n"
     ]
    },
    {
     "name": "stderr",
     "output_type": "stream",
     "text": [
      "/home/yazan/Repositories/Personal/mcd-clip/src/mcd_clip/bike_rider_fit/fit_analysis/vectorizedangles.py:158: RuntimeWarning: invalid value encountered in arccos\n",
      "  alpha_1 = np.arccos((x_1 ** 2 - UL_s - x_2 ** 2) / (-2 * UL * x_2))\n",
      "/home/yazan/Repositories/Personal/mcd-clip/src/mcd_clip/bike_rider_fit/fit_analysis/demoanalysis.py:76: RuntimeWarning: invalid value encountered in arccos\n",
      "  Tksp2 = np.arccos(\n",
      "/home/yazan/Repositories/Personal/mcd-clip/src/mcd_clip/bike_rider_fit/fit_analysis/vectorizedangles.py:158: RuntimeWarning: invalid value encountered in arccos\n",
      "  alpha_1 = np.arccos((x_1 ** 2 - UL_s - x_2 ** 2) / (-2 * UL * x_2))\n"
     ]
    },
    {
     "name": "stdout",
     "output_type": "stream",
     "text": [
      "Found framed material columns ['Material=Steel', 'Material=Aluminum', 'Material=Titanium']\n",
      "Mapping Material=Steel to MATERIAL OHCLASS: STEEL\n",
      "Mapping Material=Aluminum to MATERIAL OHCLASS: ALUMINUM\n",
      "Mapping Material=Titanium to MATERIAL OHCLASS: TITANIUM\n",
      "embedding_distance_1 | min 0.6899999976158142, max [1.1799999475479126],  average [0.7300000190734863]\n",
      "embedding_distance_2 | min 0.07999999821186066, max [1.690000057220459],  average [0.15000000596046448]\n",
      "Validation result: fraction invalid [0.14]\n",
      "Validation result: fraction invalid [0.112]\n",
      "Validation result: fraction invalid [0.114]\n",
      "Validation result: fraction invalid [0.14]\n",
      "Validation result: fraction invalid [0.0]\n",
      "Validation result: fraction invalid [0.002]\n",
      "   181 |    90000 |    500 |  0.000000E+00 |  0.000000E+00 |  0.0023447329 |             f\n"
     ]
    },
    {
     "name": "stderr",
     "output_type": "stream",
     "text": [
      "/home/yazan/Repositories/Personal/mcd-clip/venv/lib/python3.10/site-packages/pymoo/operators/crossover/sbx.py:42: RuntimeWarning: divide by zero encountered in power\n",
      "  alpha = 2.0 - np.power(beta, -(eta + 1.0))\n",
      "/home/yazan/Repositories/Personal/mcd-clip/venv/lib/python3.10/site-packages/pymoo/operators/crossover/sbx.py:47: RuntimeWarning: invalid value encountered in power\n",
      "  betaq[mask] = np.power((rand * alpha), (1.0 / (eta + 1.0)))[mask]\n",
      "/home/yazan/Repositories/Personal/mcd-clip/venv/lib/python3.10/site-packages/pymoo/operators/crossover/sbx.py:47: RuntimeWarning: invalid value encountered in power\n",
      "  betaq[mask] = np.power((rand * alpha), (1.0 / (eta + 1.0)))[mask]\n"
     ]
    },
    {
     "name": "stdout",
     "output_type": "stream",
     "text": [
      "Found framed material columns ['Material=Steel', 'Material=Aluminum', 'Material=Titanium']\n",
      "Mapping Material=Steel to MATERIAL OHCLASS: STEEL\n",
      "Mapping Material=Aluminum to MATERIAL OHCLASS: ALUMINUM\n",
      "Mapping Material=Titanium to MATERIAL OHCLASS: TITANIUM\n",
      "Found framed material columns ['Material=Steel', 'Material=Aluminum', 'Material=Titanium']\n",
      "Mapping Material=Steel to MATERIAL OHCLASS: STEEL\n",
      "Mapping Material=Aluminum to MATERIAL OHCLASS: ALUMINUM\n",
      "Mapping Material=Titanium to MATERIAL OHCLASS: TITANIUM\n"
     ]
    },
    {
     "name": "stderr",
     "output_type": "stream",
     "text": [
      "/home/yazan/Repositories/Personal/mcd-clip/src/mcd_clip/bike_rider_fit/fit_analysis/vectorizedangles.py:158: RuntimeWarning: invalid value encountered in arccos\n",
      "  alpha_1 = np.arccos((x_1 ** 2 - UL_s - x_2 ** 2) / (-2 * UL * x_2))\n",
      "/home/yazan/Repositories/Personal/mcd-clip/src/mcd_clip/bike_rider_fit/fit_analysis/demoanalysis.py:76: RuntimeWarning: invalid value encountered in arccos\n",
      "  Tksp2 = np.arccos(\n",
      "/home/yazan/Repositories/Personal/mcd-clip/src/mcd_clip/bike_rider_fit/fit_analysis/vectorizedangles.py:158: RuntimeWarning: invalid value encountered in arccos\n",
      "  alpha_1 = np.arccos((x_1 ** 2 - UL_s - x_2 ** 2) / (-2 * UL * x_2))\n"
     ]
    },
    {
     "name": "stdout",
     "output_type": "stream",
     "text": [
      "Found framed material columns ['Material=Steel', 'Material=Aluminum', 'Material=Titanium']\n",
      "Mapping Material=Steel to MATERIAL OHCLASS: STEEL\n",
      "Mapping Material=Aluminum to MATERIAL OHCLASS: ALUMINUM\n",
      "Mapping Material=Titanium to MATERIAL OHCLASS: TITANIUM\n",
      "embedding_distance_1 | min 0.7099999785423279, max [1.1799999475479126],  average [0.7400000095367432]\n",
      "embedding_distance_2 | min 0.11999999731779099, max [1.6699999570846558],  average [0.1599999964237213]\n",
      "Validation result: fraction invalid [0.036]\n",
      "Validation result: fraction invalid [0.022]\n",
      "Validation result: fraction invalid [0.048]\n",
      "Validation result: fraction invalid [0.032]\n",
      "Validation result: fraction invalid [0.0]\n",
      "Validation result: fraction invalid [0.0]\n",
      "   182 |    90500 |    500 |  0.000000E+00 |  0.000000E+00 |  0.0024710448 |             f\n"
     ]
    },
    {
     "name": "stderr",
     "output_type": "stream",
     "text": [
      "/home/yazan/Repositories/Personal/mcd-clip/venv/lib/python3.10/site-packages/pymoo/operators/crossover/sbx.py:47: RuntimeWarning: invalid value encountered in power\n",
      "  betaq[mask] = np.power((rand * alpha), (1.0 / (eta + 1.0)))[mask]\n"
     ]
    },
    {
     "name": "stdout",
     "output_type": "stream",
     "text": [
      "Found framed material columns ['Material=Steel', 'Material=Aluminum', 'Material=Titanium']\n",
      "Mapping Material=Steel to MATERIAL OHCLASS: STEEL\n",
      "Mapping Material=Aluminum to MATERIAL OHCLASS: ALUMINUM\n",
      "Mapping Material=Titanium to MATERIAL OHCLASS: TITANIUM\n",
      "Found framed material columns ['Material=Steel', 'Material=Aluminum', 'Material=Titanium']\n",
      "Mapping Material=Steel to MATERIAL OHCLASS: STEEL\n",
      "Mapping Material=Aluminum to MATERIAL OHCLASS: ALUMINUM\n",
      "Mapping Material=Titanium to MATERIAL OHCLASS: TITANIUM\n"
     ]
    },
    {
     "name": "stderr",
     "output_type": "stream",
     "text": [
      "/home/yazan/Repositories/Personal/mcd-clip/src/mcd_clip/bike_rider_fit/fit_analysis/vectorizedangles.py:158: RuntimeWarning: invalid value encountered in arccos\n",
      "  alpha_1 = np.arccos((x_1 ** 2 - UL_s - x_2 ** 2) / (-2 * UL * x_2))\n",
      "/home/yazan/Repositories/Personal/mcd-clip/src/mcd_clip/bike_rider_fit/fit_analysis/demoanalysis.py:76: RuntimeWarning: invalid value encountered in arccos\n",
      "  Tksp2 = np.arccos(\n",
      "/home/yazan/Repositories/Personal/mcd-clip/src/mcd_clip/bike_rider_fit/fit_analysis/vectorizedangles.py:158: RuntimeWarning: invalid value encountered in arccos\n",
      "  alpha_1 = np.arccos((x_1 ** 2 - UL_s - x_2 ** 2) / (-2 * UL * x_2))\n"
     ]
    },
    {
     "name": "stdout",
     "output_type": "stream",
     "text": [
      "Found framed material columns ['Material=Steel', 'Material=Aluminum', 'Material=Titanium']\n",
      "Mapping Material=Steel to MATERIAL OHCLASS: STEEL\n",
      "Mapping Material=Aluminum to MATERIAL OHCLASS: ALUMINUM\n",
      "Mapping Material=Titanium to MATERIAL OHCLASS: TITANIUM\n",
      "embedding_distance_1 | min 0.6899999976158142, max [1.1799999475479126],  average [0.7300000190734863]\n",
      "embedding_distance_2 | min 0.07999999821186066, max [1.6699999570846558],  average [0.15000000596046448]\n",
      "Validation result: fraction invalid [0.116]\n",
      "Validation result: fraction invalid [0.106]\n",
      "Validation result: fraction invalid [0.102]\n",
      "Validation result: fraction invalid [0.13]\n",
      "Validation result: fraction invalid [0.0]\n",
      "Validation result: fraction invalid [0.002]\n",
      "   183 |    91000 |    500 |  0.000000E+00 |  0.000000E+00 |  0.0069543420 |             f\n"
     ]
    },
    {
     "name": "stderr",
     "output_type": "stream",
     "text": [
      "/home/yazan/Repositories/Personal/mcd-clip/venv/lib/python3.10/site-packages/pymoo/operators/crossover/sbx.py:42: RuntimeWarning: divide by zero encountered in power\n",
      "  alpha = 2.0 - np.power(beta, -(eta + 1.0))\n",
      "/home/yazan/Repositories/Personal/mcd-clip/venv/lib/python3.10/site-packages/pymoo/operators/crossover/sbx.py:47: RuntimeWarning: invalid value encountered in power\n",
      "  betaq[mask] = np.power((rand * alpha), (1.0 / (eta + 1.0)))[mask]\n"
     ]
    },
    {
     "name": "stdout",
     "output_type": "stream",
     "text": [
      "Found framed material columns ['Material=Steel', 'Material=Aluminum', 'Material=Titanium']\n",
      "Mapping Material=Steel to MATERIAL OHCLASS: STEEL\n",
      "Mapping Material=Aluminum to MATERIAL OHCLASS: ALUMINUM\n",
      "Mapping Material=Titanium to MATERIAL OHCLASS: TITANIUM\n",
      "Found framed material columns ['Material=Steel', 'Material=Aluminum', 'Material=Titanium']\n",
      "Mapping Material=Steel to MATERIAL OHCLASS: STEEL\n",
      "Mapping Material=Aluminum to MATERIAL OHCLASS: ALUMINUM\n",
      "Mapping Material=Titanium to MATERIAL OHCLASS: TITANIUM\n",
      "Found framed material columns ['Material=Steel', 'Material=Aluminum', 'Material=Titanium']\n",
      "Mapping Material=Steel to MATERIAL OHCLASS: STEEL\n",
      "Mapping Material=Aluminum to MATERIAL OHCLASS: ALUMINUM\n",
      "Mapping Material=Titanium to MATERIAL OHCLASS: TITANIUM\n",
      "embedding_distance_1 | min 0.699999988079071, max [1.1799999475479126],  average [0.7400000095367432]\n",
      "embedding_distance_2 | min 0.10000000149011612, max [1.6699999570846558],  average [0.17000000178813934]\n"
     ]
    },
    {
     "name": "stderr",
     "output_type": "stream",
     "text": [
      "/home/yazan/Repositories/Personal/mcd-clip/src/mcd_clip/bike_rider_fit/fit_analysis/vectorizedangles.py:158: RuntimeWarning: invalid value encountered in arccos\n",
      "  alpha_1 = np.arccos((x_1 ** 2 - UL_s - x_2 ** 2) / (-2 * UL * x_2))\n",
      "/home/yazan/Repositories/Personal/mcd-clip/src/mcd_clip/bike_rider_fit/fit_analysis/demoanalysis.py:76: RuntimeWarning: invalid value encountered in arccos\n",
      "  Tksp2 = np.arccos(\n",
      "/home/yazan/Repositories/Personal/mcd-clip/src/mcd_clip/bike_rider_fit/fit_analysis/vectorizedangles.py:158: RuntimeWarning: invalid value encountered in arccos\n",
      "  alpha_1 = np.arccos((x_1 ** 2 - UL_s - x_2 ** 2) / (-2 * UL * x_2))\n"
     ]
    },
    {
     "name": "stdout",
     "output_type": "stream",
     "text": [
      "Validation result: fraction invalid [0.046]\n",
      "Validation result: fraction invalid [0.09]\n",
      "Validation result: fraction invalid [0.082]\n",
      "Validation result: fraction invalid [0.094]\n",
      "Validation result: fraction invalid [0.0]\n",
      "Validation result: fraction invalid [0.004]\n",
      "   184 |    91500 |    500 |  0.000000E+00 |  0.000000E+00 |  0.0007231412 |             f\n"
     ]
    },
    {
     "name": "stderr",
     "output_type": "stream",
     "text": [
      "/home/yazan/Repositories/Personal/mcd-clip/venv/lib/python3.10/site-packages/pymoo/operators/crossover/sbx.py:42: RuntimeWarning: divide by zero encountered in power\n",
      "  alpha = 2.0 - np.power(beta, -(eta + 1.0))\n",
      "/home/yazan/Repositories/Personal/mcd-clip/venv/lib/python3.10/site-packages/pymoo/operators/crossover/sbx.py:47: RuntimeWarning: invalid value encountered in power\n",
      "  betaq[mask] = np.power((rand * alpha), (1.0 / (eta + 1.0)))[mask]\n"
     ]
    },
    {
     "name": "stdout",
     "output_type": "stream",
     "text": [
      "Found framed material columns ['Material=Steel', 'Material=Aluminum', 'Material=Titanium']\n",
      "Mapping Material=Steel to MATERIAL OHCLASS: STEEL\n",
      "Mapping Material=Aluminum to MATERIAL OHCLASS: ALUMINUM\n",
      "Mapping Material=Titanium to MATERIAL OHCLASS: TITANIUM\n",
      "Found framed material columns ['Material=Steel', 'Material=Aluminum', 'Material=Titanium']\n",
      "Mapping Material=Steel to MATERIAL OHCLASS: STEEL\n",
      "Mapping Material=Aluminum to MATERIAL OHCLASS: ALUMINUM\n",
      "Mapping Material=Titanium to MATERIAL OHCLASS: TITANIUM\n",
      "Found framed material columns ['Material=Steel', 'Material=Aluminum', 'Material=Titanium']\n",
      "Mapping Material=Steel to MATERIAL OHCLASS: STEEL\n",
      "Mapping Material=Aluminum to MATERIAL OHCLASS: ALUMINUM\n",
      "Mapping Material=Titanium to MATERIAL OHCLASS: TITANIUM\n"
     ]
    },
    {
     "name": "stderr",
     "output_type": "stream",
     "text": [
      "/home/yazan/Repositories/Personal/mcd-clip/src/mcd_clip/bike_rider_fit/fit_analysis/vectorizedangles.py:158: RuntimeWarning: invalid value encountered in arccos\n",
      "  alpha_1 = np.arccos((x_1 ** 2 - UL_s - x_2 ** 2) / (-2 * UL * x_2))\n",
      "/home/yazan/Repositories/Personal/mcd-clip/src/mcd_clip/bike_rider_fit/fit_analysis/demoanalysis.py:76: RuntimeWarning: invalid value encountered in arccos\n",
      "  Tksp2 = np.arccos(\n",
      "/home/yazan/Repositories/Personal/mcd-clip/src/mcd_clip/bike_rider_fit/fit_analysis/vectorizedangles.py:158: RuntimeWarning: invalid value encountered in arccos\n",
      "  alpha_1 = np.arccos((x_1 ** 2 - UL_s - x_2 ** 2) / (-2 * UL * x_2))\n"
     ]
    },
    {
     "name": "stdout",
     "output_type": "stream",
     "text": [
      "embedding_distance_1 | min 0.6800000071525574, max [1.1799999475479126],  average [0.7200000286102295]\n",
      "embedding_distance_2 | min 0.07999999821186066, max [1.6699999570846558],  average [0.12999999523162842]\n",
      "Validation result: fraction invalid [0.088]\n",
      "Validation result: fraction invalid [0.09]\n",
      "Validation result: fraction invalid [0.11]\n",
      "Validation result: fraction invalid [0.1]\n",
      "Validation result: fraction invalid [0.0]\n",
      "Validation result: fraction invalid [0.002]\n",
      "   185 |    92000 |    500 |  0.000000E+00 |  0.000000E+00 |  0.0054692404 |             f\n"
     ]
    },
    {
     "name": "stderr",
     "output_type": "stream",
     "text": [
      "/home/yazan/Repositories/Personal/mcd-clip/venv/lib/python3.10/site-packages/pymoo/operators/crossover/sbx.py:42: RuntimeWarning: divide by zero encountered in power\n",
      "  alpha = 2.0 - np.power(beta, -(eta + 1.0))\n",
      "/home/yazan/Repositories/Personal/mcd-clip/venv/lib/python3.10/site-packages/pymoo/operators/crossover/sbx.py:47: RuntimeWarning: invalid value encountered in power\n",
      "  betaq[mask] = np.power((rand * alpha), (1.0 / (eta + 1.0)))[mask]\n"
     ]
    },
    {
     "name": "stdout",
     "output_type": "stream",
     "text": [
      "Found framed material columns ['Material=Steel', 'Material=Aluminum', 'Material=Titanium']\n",
      "Mapping Material=Steel to MATERIAL OHCLASS: STEEL\n",
      "Mapping Material=Aluminum to MATERIAL OHCLASS: ALUMINUM\n",
      "Mapping Material=Titanium to MATERIAL OHCLASS: TITANIUM\n",
      "Found framed material columns ['Material=Steel', 'Material=Aluminum', 'Material=Titanium']\n",
      "Mapping Material=Steel to MATERIAL OHCLASS: STEEL\n",
      "Mapping Material=Aluminum to MATERIAL OHCLASS: ALUMINUM\n",
      "Mapping Material=Titanium to MATERIAL OHCLASS: TITANIUM\n"
     ]
    },
    {
     "name": "stderr",
     "output_type": "stream",
     "text": [
      "/home/yazan/Repositories/Personal/mcd-clip/src/mcd_clip/bike_rider_fit/fit_analysis/vectorizedangles.py:158: RuntimeWarning: invalid value encountered in arccos\n",
      "  alpha_1 = np.arccos((x_1 ** 2 - UL_s - x_2 ** 2) / (-2 * UL * x_2))\n",
      "/home/yazan/Repositories/Personal/mcd-clip/src/mcd_clip/bike_rider_fit/fit_analysis/demoanalysis.py:76: RuntimeWarning: invalid value encountered in arccos\n",
      "  Tksp2 = np.arccos(\n",
      "/home/yazan/Repositories/Personal/mcd-clip/src/mcd_clip/bike_rider_fit/fit_analysis/vectorizedangles.py:158: RuntimeWarning: invalid value encountered in arccos\n",
      "  alpha_1 = np.arccos((x_1 ** 2 - UL_s - x_2 ** 2) / (-2 * UL * x_2))\n"
     ]
    },
    {
     "name": "stdout",
     "output_type": "stream",
     "text": [
      "Found framed material columns ['Material=Steel', 'Material=Aluminum', 'Material=Titanium']\n",
      "Mapping Material=Steel to MATERIAL OHCLASS: STEEL\n",
      "Mapping Material=Aluminum to MATERIAL OHCLASS: ALUMINUM\n",
      "Mapping Material=Titanium to MATERIAL OHCLASS: TITANIUM\n",
      "embedding_distance_1 | min 0.6899999976158142, max [1.1799999475479126],  average [0.7300000190734863]\n",
      "embedding_distance_2 | min 0.07999999821186066, max [1.6799999475479126],  average [0.1599999964237213]\n",
      "Validation result: fraction invalid [0.114]\n",
      "Validation result: fraction invalid [0.098]\n",
      "Validation result: fraction invalid [0.116]\n",
      "Validation result: fraction invalid [0.114]\n",
      "Validation result: fraction invalid [0.0]\n",
      "Validation result: fraction invalid [0.004]\n",
      "   186 |    92500 |    500 |  0.000000E+00 |  0.000000E+00 |  0.0044026664 |             f\n"
     ]
    },
    {
     "name": "stderr",
     "output_type": "stream",
     "text": [
      "/home/yazan/Repositories/Personal/mcd-clip/venv/lib/python3.10/site-packages/pymoo/operators/crossover/sbx.py:42: RuntimeWarning: divide by zero encountered in power\n",
      "  alpha = 2.0 - np.power(beta, -(eta + 1.0))\n",
      "/home/yazan/Repositories/Personal/mcd-clip/venv/lib/python3.10/site-packages/pymoo/operators/crossover/sbx.py:47: RuntimeWarning: invalid value encountered in power\n",
      "  betaq[mask] = np.power((rand * alpha), (1.0 / (eta + 1.0)))[mask]\n"
     ]
    },
    {
     "name": "stdout",
     "output_type": "stream",
     "text": [
      "Found framed material columns ['Material=Steel', 'Material=Aluminum', 'Material=Titanium']\n",
      "Mapping Material=Steel to MATERIAL OHCLASS: STEEL\n",
      "Mapping Material=Aluminum to MATERIAL OHCLASS: ALUMINUM\n",
      "Mapping Material=Titanium to MATERIAL OHCLASS: TITANIUM\n",
      "Found framed material columns ['Material=Steel', 'Material=Aluminum', 'Material=Titanium']\n",
      "Mapping Material=Steel to MATERIAL OHCLASS: STEEL\n",
      "Mapping Material=Aluminum to MATERIAL OHCLASS: ALUMINUM\n",
      "Mapping Material=Titanium to MATERIAL OHCLASS: TITANIUM\n"
     ]
    },
    {
     "name": "stderr",
     "output_type": "stream",
     "text": [
      "/home/yazan/Repositories/Personal/mcd-clip/src/mcd_clip/bike_rider_fit/fit_analysis/vectorizedangles.py:158: RuntimeWarning: invalid value encountered in arccos\n",
      "  alpha_1 = np.arccos((x_1 ** 2 - UL_s - x_2 ** 2) / (-2 * UL * x_2))\n",
      "/home/yazan/Repositories/Personal/mcd-clip/src/mcd_clip/bike_rider_fit/fit_analysis/demoanalysis.py:76: RuntimeWarning: invalid value encountered in arccos\n",
      "  Tksp2 = np.arccos(\n",
      "/home/yazan/Repositories/Personal/mcd-clip/src/mcd_clip/bike_rider_fit/fit_analysis/vectorizedangles.py:158: RuntimeWarning: invalid value encountered in arccos\n",
      "  alpha_1 = np.arccos((x_1 ** 2 - UL_s - x_2 ** 2) / (-2 * UL * x_2))\n"
     ]
    },
    {
     "name": "stdout",
     "output_type": "stream",
     "text": [
      "Found framed material columns ['Material=Steel', 'Material=Aluminum', 'Material=Titanium']\n",
      "Mapping Material=Steel to MATERIAL OHCLASS: STEEL\n",
      "Mapping Material=Aluminum to MATERIAL OHCLASS: ALUMINUM\n",
      "Mapping Material=Titanium to MATERIAL OHCLASS: TITANIUM\n",
      "embedding_distance_1 | min 0.6899999976158142, max [1.1799999475479126],  average [0.7200000286102295]\n",
      "embedding_distance_2 | min 0.07999999821186066, max [1.6799999475479126],  average [0.12999999523162842]\n",
      "Validation result: fraction invalid [0.086]\n",
      "Validation result: fraction invalid [0.082]\n",
      "Validation result: fraction invalid [0.094]\n",
      "Validation result: fraction invalid [0.098]\n",
      "Validation result: fraction invalid [0.0]\n",
      "Validation result: fraction invalid [0.002]\n",
      "   187 |    93000 |    500 |  0.000000E+00 |  0.000000E+00 |  0.0071242769 |             f\n"
     ]
    },
    {
     "name": "stderr",
     "output_type": "stream",
     "text": [
      "/home/yazan/Repositories/Personal/mcd-clip/venv/lib/python3.10/site-packages/pymoo/operators/crossover/sbx.py:42: RuntimeWarning: divide by zero encountered in power\n",
      "  alpha = 2.0 - np.power(beta, -(eta + 1.0))\n",
      "/home/yazan/Repositories/Personal/mcd-clip/venv/lib/python3.10/site-packages/pymoo/operators/crossover/sbx.py:47: RuntimeWarning: invalid value encountered in power\n",
      "  betaq[mask] = np.power((rand * alpha), (1.0 / (eta + 1.0)))[mask]\n",
      "/home/yazan/Repositories/Personal/mcd-clip/venv/lib/python3.10/site-packages/pymoo/operators/crossover/sbx.py:42: RuntimeWarning: divide by zero encountered in power\n",
      "  alpha = 2.0 - np.power(beta, -(eta + 1.0))\n",
      "/home/yazan/Repositories/Personal/mcd-clip/venv/lib/python3.10/site-packages/pymoo/operators/crossover/sbx.py:47: RuntimeWarning: invalid value encountered in power\n",
      "  betaq[mask] = np.power((rand * alpha), (1.0 / (eta + 1.0)))[mask]\n"
     ]
    },
    {
     "name": "stdout",
     "output_type": "stream",
     "text": [
      "Found framed material columns ['Material=Steel', 'Material=Aluminum', 'Material=Titanium']\n",
      "Mapping Material=Steel to MATERIAL OHCLASS: STEEL\n",
      "Mapping Material=Aluminum to MATERIAL OHCLASS: ALUMINUM\n",
      "Mapping Material=Titanium to MATERIAL OHCLASS: TITANIUM\n",
      "Found framed material columns ['Material=Steel', 'Material=Aluminum', 'Material=Titanium']\n",
      "Mapping Material=Steel to MATERIAL OHCLASS: STEEL\n",
      "Mapping Material=Aluminum to MATERIAL OHCLASS: ALUMINUM\n",
      "Mapping Material=Titanium to MATERIAL OHCLASS: TITANIUM\n",
      "Found framed material columns ['Material=Steel', 'Material=Aluminum', 'Material=Titanium']\n",
      "Mapping Material=Steel to MATERIAL OHCLASS: STEEL\n",
      "Mapping Material=Aluminum to MATERIAL OHCLASS: ALUMINUM\n",
      "Mapping Material=Titanium to MATERIAL OHCLASS: TITANIUM\n",
      "embedding_distance_1 | min 0.699999988079071, max [1.1699999570846558],  average [0.7400000095367432]\n",
      "embedding_distance_2 | min 0.10000000149011612, max [1.659999966621399],  average [0.15000000596046448]\n"
     ]
    },
    {
     "name": "stderr",
     "output_type": "stream",
     "text": [
      "/home/yazan/Repositories/Personal/mcd-clip/src/mcd_clip/bike_rider_fit/fit_analysis/vectorizedangles.py:158: RuntimeWarning: invalid value encountered in arccos\n",
      "  alpha_1 = np.arccos((x_1 ** 2 - UL_s - x_2 ** 2) / (-2 * UL * x_2))\n",
      "/home/yazan/Repositories/Personal/mcd-clip/src/mcd_clip/bike_rider_fit/fit_analysis/demoanalysis.py:76: RuntimeWarning: invalid value encountered in arccos\n",
      "  Tksp2 = np.arccos(\n",
      "/home/yazan/Repositories/Personal/mcd-clip/src/mcd_clip/bike_rider_fit/fit_analysis/vectorizedangles.py:158: RuntimeWarning: invalid value encountered in arccos\n",
      "  alpha_1 = np.arccos((x_1 ** 2 - UL_s - x_2 ** 2) / (-2 * UL * x_2))\n"
     ]
    },
    {
     "name": "stdout",
     "output_type": "stream",
     "text": [
      "Validation result: fraction invalid [0.022]\n",
      "Validation result: fraction invalid [0.048]\n",
      "Validation result: fraction invalid [0.054]\n",
      "Validation result: fraction invalid [0.068]\n",
      "Validation result: fraction invalid [0.0]\n",
      "Validation result: fraction invalid [0.0]\n",
      "   188 |    93500 |    500 |  0.000000E+00 |  0.000000E+00 |  0.0012776192 |             f\n"
     ]
    },
    {
     "name": "stderr",
     "output_type": "stream",
     "text": [
      "/home/yazan/Repositories/Personal/mcd-clip/venv/lib/python3.10/site-packages/pymoo/operators/crossover/sbx.py:42: RuntimeWarning: divide by zero encountered in power\n",
      "  alpha = 2.0 - np.power(beta, -(eta + 1.0))\n",
      "/home/yazan/Repositories/Personal/mcd-clip/venv/lib/python3.10/site-packages/pymoo/operators/crossover/sbx.py:47: RuntimeWarning: invalid value encountered in power\n",
      "  betaq[mask] = np.power((rand * alpha), (1.0 / (eta + 1.0)))[mask]\n"
     ]
    },
    {
     "name": "stdout",
     "output_type": "stream",
     "text": [
      "Found framed material columns ['Material=Steel', 'Material=Aluminum', 'Material=Titanium']\n",
      "Mapping Material=Steel to MATERIAL OHCLASS: STEEL\n",
      "Mapping Material=Aluminum to MATERIAL OHCLASS: ALUMINUM\n",
      "Mapping Material=Titanium to MATERIAL OHCLASS: TITANIUM\n",
      "Found framed material columns ['Material=Steel', 'Material=Aluminum', 'Material=Titanium']\n",
      "Mapping Material=Steel to MATERIAL OHCLASS: STEEL\n",
      "Mapping Material=Aluminum to MATERIAL OHCLASS: ALUMINUM\n",
      "Mapping Material=Titanium to MATERIAL OHCLASS: TITANIUM\n"
     ]
    },
    {
     "name": "stderr",
     "output_type": "stream",
     "text": [
      "/home/yazan/Repositories/Personal/mcd-clip/src/mcd_clip/bike_rider_fit/fit_analysis/vectorizedangles.py:158: RuntimeWarning: invalid value encountered in arccos\n",
      "  alpha_1 = np.arccos((x_1 ** 2 - UL_s - x_2 ** 2) / (-2 * UL * x_2))\n",
      "/home/yazan/Repositories/Personal/mcd-clip/src/mcd_clip/bike_rider_fit/fit_analysis/demoanalysis.py:76: RuntimeWarning: invalid value encountered in arccos\n",
      "  Tksp2 = np.arccos(\n",
      "/home/yazan/Repositories/Personal/mcd-clip/src/mcd_clip/bike_rider_fit/fit_analysis/vectorizedangles.py:158: RuntimeWarning: invalid value encountered in arccos\n",
      "  alpha_1 = np.arccos((x_1 ** 2 - UL_s - x_2 ** 2) / (-2 * UL * x_2))\n"
     ]
    },
    {
     "name": "stdout",
     "output_type": "stream",
     "text": [
      "Found framed material columns ['Material=Steel', 'Material=Aluminum', 'Material=Titanium']\n",
      "Mapping Material=Steel to MATERIAL OHCLASS: STEEL\n",
      "Mapping Material=Aluminum to MATERIAL OHCLASS: ALUMINUM\n",
      "Mapping Material=Titanium to MATERIAL OHCLASS: TITANIUM\n",
      "embedding_distance_1 | min 0.699999988079071, max [1.1799999475479126],  average [0.7400000095367432]\n",
      "embedding_distance_2 | min 0.10000000149011612, max [1.6699999570846558],  average [0.1599999964237213]\n",
      "Validation result: fraction invalid [0.048]\n",
      "Validation result: fraction invalid [0.056]\n",
      "Validation result: fraction invalid [0.06]\n",
      "Validation result: fraction invalid [0.066]\n",
      "Validation result: fraction invalid [0.0]\n",
      "Validation result: fraction invalid [0.0]\n",
      "   189 |    94000 |    500 |  0.000000E+00 |  0.000000E+00 |  0.0015536237 |             f\n"
     ]
    },
    {
     "name": "stderr",
     "output_type": "stream",
     "text": [
      "/home/yazan/Repositories/Personal/mcd-clip/venv/lib/python3.10/site-packages/pymoo/operators/crossover/sbx.py:42: RuntimeWarning: divide by zero encountered in power\n",
      "  alpha = 2.0 - np.power(beta, -(eta + 1.0))\n",
      "/home/yazan/Repositories/Personal/mcd-clip/venv/lib/python3.10/site-packages/pymoo/operators/crossover/sbx.py:47: RuntimeWarning: invalid value encountered in power\n",
      "  betaq[mask] = np.power((rand * alpha), (1.0 / (eta + 1.0)))[mask]\n"
     ]
    },
    {
     "name": "stdout",
     "output_type": "stream",
     "text": [
      "Found framed material columns ['Material=Steel', 'Material=Aluminum', 'Material=Titanium']\n",
      "Mapping Material=Steel to MATERIAL OHCLASS: STEEL\n",
      "Mapping Material=Aluminum to MATERIAL OHCLASS: ALUMINUM\n",
      "Mapping Material=Titanium to MATERIAL OHCLASS: TITANIUM\n",
      "Found framed material columns ['Material=Steel', 'Material=Aluminum', 'Material=Titanium']\n",
      "Mapping Material=Steel to MATERIAL OHCLASS: STEEL\n",
      "Mapping Material=Aluminum to MATERIAL OHCLASS: ALUMINUM\n",
      "Mapping Material=Titanium to MATERIAL OHCLASS: TITANIUM\n"
     ]
    },
    {
     "name": "stderr",
     "output_type": "stream",
     "text": [
      "/home/yazan/Repositories/Personal/mcd-clip/src/mcd_clip/bike_rider_fit/fit_analysis/vectorizedangles.py:158: RuntimeWarning: invalid value encountered in arccos\n",
      "  alpha_1 = np.arccos((x_1 ** 2 - UL_s - x_2 ** 2) / (-2 * UL * x_2))\n",
      "/home/yazan/Repositories/Personal/mcd-clip/src/mcd_clip/bike_rider_fit/fit_analysis/demoanalysis.py:76: RuntimeWarning: invalid value encountered in arccos\n",
      "  Tksp2 = np.arccos(\n",
      "/home/yazan/Repositories/Personal/mcd-clip/src/mcd_clip/bike_rider_fit/fit_analysis/vectorizedangles.py:158: RuntimeWarning: invalid value encountered in arccos\n",
      "  alpha_1 = np.arccos((x_1 ** 2 - UL_s - x_2 ** 2) / (-2 * UL * x_2))\n"
     ]
    },
    {
     "name": "stdout",
     "output_type": "stream",
     "text": [
      "Found framed material columns ['Material=Steel', 'Material=Aluminum', 'Material=Titanium']\n",
      "Mapping Material=Steel to MATERIAL OHCLASS: STEEL\n",
      "Mapping Material=Aluminum to MATERIAL OHCLASS: ALUMINUM\n",
      "Mapping Material=Titanium to MATERIAL OHCLASS: TITANIUM\n",
      "embedding_distance_1 | min 0.6899999976158142, max [1.1799999475479126],  average [0.7200000286102295]\n",
      "embedding_distance_2 | min 0.07999999821186066, max [1.659999966621399],  average [0.14000000059604645]\n",
      "Validation result: fraction invalid [0.102]\n",
      "Validation result: fraction invalid [0.098]\n",
      "Validation result: fraction invalid [0.086]\n",
      "Validation result: fraction invalid [0.092]\n",
      "Validation result: fraction invalid [0.0]\n",
      "Validation result: fraction invalid [0.004]\n",
      "   190 |    94500 |    500 |  0.000000E+00 |  0.000000E+00 |  0.0064095550 |             f\n"
     ]
    },
    {
     "name": "stderr",
     "output_type": "stream",
     "text": [
      "/home/yazan/Repositories/Personal/mcd-clip/venv/lib/python3.10/site-packages/pymoo/operators/crossover/sbx.py:42: RuntimeWarning: divide by zero encountered in power\n",
      "  alpha = 2.0 - np.power(beta, -(eta + 1.0))\n",
      "/home/yazan/Repositories/Personal/mcd-clip/venv/lib/python3.10/site-packages/pymoo/operators/crossover/sbx.py:47: RuntimeWarning: invalid value encountered in power\n",
      "  betaq[mask] = np.power((rand * alpha), (1.0 / (eta + 1.0)))[mask]\n",
      "/home/yazan/Repositories/Personal/mcd-clip/venv/lib/python3.10/site-packages/pymoo/operators/mutation/pm.py:45: RuntimeWarning: invalid value encountered in power\n",
      "  d = np.power(val, mut_pow) - 1.0\n",
      "/home/yazan/Repositories/Personal/mcd-clip/venv/lib/python3.10/site-packages/pymoo/operators/crossover/sbx.py:47: RuntimeWarning: invalid value encountered in power\n",
      "  betaq[mask] = np.power((rand * alpha), (1.0 / (eta + 1.0)))[mask]\n"
     ]
    },
    {
     "name": "stdout",
     "output_type": "stream",
     "text": [
      "Found framed material columns ['Material=Steel', 'Material=Aluminum', 'Material=Titanium']\n",
      "Mapping Material=Steel to MATERIAL OHCLASS: STEEL\n",
      "Mapping Material=Aluminum to MATERIAL OHCLASS: ALUMINUM\n",
      "Mapping Material=Titanium to MATERIAL OHCLASS: TITANIUM\n",
      "Found framed material columns ['Material=Steel', 'Material=Aluminum', 'Material=Titanium']\n",
      "Mapping Material=Steel to MATERIAL OHCLASS: STEEL\n",
      "Mapping Material=Aluminum to MATERIAL OHCLASS: ALUMINUM\n",
      "Mapping Material=Titanium to MATERIAL OHCLASS: TITANIUM\n",
      "Found framed material columns ['Material=Steel', 'Material=Aluminum', 'Material=Titanium']\n",
      "Mapping Material=Steel to MATERIAL OHCLASS: STEEL\n",
      "Mapping Material=Aluminum to MATERIAL OHCLASS: ALUMINUM\n",
      "Mapping Material=Titanium to MATERIAL OHCLASS: TITANIUM\n",
      "embedding_distance_1 | min 0.6899999976158142, max [0.75],  average [0.7400000095367432]\n",
      "embedding_distance_2 | min 0.07999999821186066, max [0.1899999976158142],  average [0.15000000596046448]\n"
     ]
    },
    {
     "name": "stderr",
     "output_type": "stream",
     "text": [
      "/home/yazan/Repositories/Personal/mcd-clip/src/mcd_clip/bike_rider_fit/fit_analysis/vectorizedangles.py:158: RuntimeWarning: invalid value encountered in arccos\n",
      "  alpha_1 = np.arccos((x_1 ** 2 - UL_s - x_2 ** 2) / (-2 * UL * x_2))\n",
      "/home/yazan/Repositories/Personal/mcd-clip/src/mcd_clip/bike_rider_fit/fit_analysis/demoanalysis.py:76: RuntimeWarning: invalid value encountered in arccos\n",
      "  Tksp2 = np.arccos(\n",
      "/home/yazan/Repositories/Personal/mcd-clip/src/mcd_clip/bike_rider_fit/fit_analysis/vectorizedangles.py:158: RuntimeWarning: invalid value encountered in arccos\n",
      "  alpha_1 = np.arccos((x_1 ** 2 - UL_s - x_2 ** 2) / (-2 * UL * x_2))\n"
     ]
    },
    {
     "name": "stdout",
     "output_type": "stream",
     "text": [
      "Validation result: fraction invalid [0.034]\n",
      "Validation result: fraction invalid [0.028]\n",
      "Validation result: fraction invalid [0.052]\n",
      "Validation result: fraction invalid [0.042]\n",
      "Validation result: fraction invalid [0.0]\n",
      "Validation result: fraction invalid [0.002]\n",
      "   191 |    95000 |    496 |  0.000000E+00 |  0.000000E+00 |  0.0005473474 |             f\n"
     ]
    },
    {
     "name": "stderr",
     "output_type": "stream",
     "text": [
      "/home/yazan/Repositories/Personal/mcd-clip/venv/lib/python3.10/site-packages/pymoo/operators/crossover/sbx.py:42: RuntimeWarning: divide by zero encountered in power\n",
      "  alpha = 2.0 - np.power(beta, -(eta + 1.0))\n",
      "/home/yazan/Repositories/Personal/mcd-clip/venv/lib/python3.10/site-packages/pymoo/operators/crossover/sbx.py:47: RuntimeWarning: invalid value encountered in power\n",
      "  betaq[mask] = np.power((rand * alpha), (1.0 / (eta + 1.0)))[mask]\n"
     ]
    },
    {
     "name": "stdout",
     "output_type": "stream",
     "text": [
      "Found framed material columns ['Material=Steel', 'Material=Aluminum', 'Material=Titanium']\n",
      "Mapping Material=Steel to MATERIAL OHCLASS: STEEL\n",
      "Mapping Material=Aluminum to MATERIAL OHCLASS: ALUMINUM\n",
      "Mapping Material=Titanium to MATERIAL OHCLASS: TITANIUM\n",
      "Found framed material columns ['Material=Steel', 'Material=Aluminum', 'Material=Titanium']\n",
      "Mapping Material=Steel to MATERIAL OHCLASS: STEEL\n",
      "Mapping Material=Aluminum to MATERIAL OHCLASS: ALUMINUM\n",
      "Mapping Material=Titanium to MATERIAL OHCLASS: TITANIUM\n",
      "Found framed material columns ['Material=Steel', 'Material=Aluminum', 'Material=Titanium']\n",
      "Mapping Material=Steel to MATERIAL OHCLASS: STEEL\n",
      "Mapping Material=Aluminum to MATERIAL OHCLASS: ALUMINUM\n",
      "Mapping Material=Titanium to MATERIAL OHCLASS: TITANIUM\n"
     ]
    },
    {
     "name": "stderr",
     "output_type": "stream",
     "text": [
      "/home/yazan/Repositories/Personal/mcd-clip/src/mcd_clip/bike_rider_fit/fit_analysis/vectorizedangles.py:158: RuntimeWarning: invalid value encountered in arccos\n",
      "  alpha_1 = np.arccos((x_1 ** 2 - UL_s - x_2 ** 2) / (-2 * UL * x_2))\n",
      "/home/yazan/Repositories/Personal/mcd-clip/src/mcd_clip/bike_rider_fit/fit_analysis/demoanalysis.py:76: RuntimeWarning: invalid value encountered in arccos\n",
      "  Tksp2 = np.arccos(\n",
      "/home/yazan/Repositories/Personal/mcd-clip/src/mcd_clip/bike_rider_fit/fit_analysis/vectorizedangles.py:158: RuntimeWarning: invalid value encountered in arccos\n",
      "  alpha_1 = np.arccos((x_1 ** 2 - UL_s - x_2 ** 2) / (-2 * UL * x_2))\n"
     ]
    },
    {
     "name": "stdout",
     "output_type": "stream",
     "text": [
      "embedding_distance_1 | min 0.6899999976158142, max [1.1699999570846558],  average [0.7200000286102295]\n",
      "embedding_distance_2 | min 0.07999999821186066, max [1.6399999856948853],  average [0.14000000059604645]\n",
      "Validation result: fraction invalid [0.082]\n",
      "Validation result: fraction invalid [0.078]\n",
      "Validation result: fraction invalid [0.062]\n",
      "Validation result: fraction invalid [0.076]\n",
      "Validation result: fraction invalid [0.0]\n",
      "Validation result: fraction invalid [0.0]\n",
      "   192 |    95500 |    500 |  0.000000E+00 |  0.000000E+00 |  0.0535889247 |         nadir\n"
     ]
    },
    {
     "name": "stderr",
     "output_type": "stream",
     "text": [
      "/home/yazan/Repositories/Personal/mcd-clip/venv/lib/python3.10/site-packages/pymoo/operators/crossover/sbx.py:42: RuntimeWarning: divide by zero encountered in power\n",
      "  alpha = 2.0 - np.power(beta, -(eta + 1.0))\n",
      "/home/yazan/Repositories/Personal/mcd-clip/venv/lib/python3.10/site-packages/pymoo/operators/crossover/sbx.py:47: RuntimeWarning: invalid value encountered in power\n",
      "  betaq[mask] = np.power((rand * alpha), (1.0 / (eta + 1.0)))[mask]\n"
     ]
    },
    {
     "name": "stdout",
     "output_type": "stream",
     "text": [
      "Found framed material columns ['Material=Steel', 'Material=Aluminum', 'Material=Titanium']\n",
      "Mapping Material=Steel to MATERIAL OHCLASS: STEEL\n",
      "Mapping Material=Aluminum to MATERIAL OHCLASS: ALUMINUM\n",
      "Mapping Material=Titanium to MATERIAL OHCLASS: TITANIUM\n",
      "Found framed material columns ['Material=Steel', 'Material=Aluminum', 'Material=Titanium']\n",
      "Mapping Material=Steel to MATERIAL OHCLASS: STEEL\n",
      "Mapping Material=Aluminum to MATERIAL OHCLASS: ALUMINUM\n",
      "Mapping Material=Titanium to MATERIAL OHCLASS: TITANIUM\n",
      "Found framed material columns ['Material=Steel', 'Material=Aluminum', 'Material=Titanium']\n",
      "Mapping Material=Steel to MATERIAL OHCLASS: STEEL\n",
      "Mapping Material=Aluminum to MATERIAL OHCLASS: ALUMINUM\n",
      "Mapping Material=Titanium to MATERIAL OHCLASS: TITANIUM\n",
      "embedding_distance_1 | min 0.6899999976158142, max [1.0199999809265137],  average [0.7200000286102295]\n",
      "embedding_distance_2 | min 0.07999999821186066, max [1.090000033378601],  average [0.12999999523162842]\n"
     ]
    },
    {
     "name": "stderr",
     "output_type": "stream",
     "text": [
      "/home/yazan/Repositories/Personal/mcd-clip/src/mcd_clip/bike_rider_fit/fit_analysis/vectorizedangles.py:158: RuntimeWarning: invalid value encountered in arccos\n",
      "  alpha_1 = np.arccos((x_1 ** 2 - UL_s - x_2 ** 2) / (-2 * UL * x_2))\n",
      "/home/yazan/Repositories/Personal/mcd-clip/src/mcd_clip/bike_rider_fit/fit_analysis/demoanalysis.py:76: RuntimeWarning: invalid value encountered in arccos\n",
      "  Tksp2 = np.arccos(\n",
      "/home/yazan/Repositories/Personal/mcd-clip/src/mcd_clip/bike_rider_fit/fit_analysis/vectorizedangles.py:158: RuntimeWarning: invalid value encountered in arccos\n",
      "  alpha_1 = np.arccos((x_1 ** 2 - UL_s - x_2 ** 2) / (-2 * UL * x_2))\n"
     ]
    },
    {
     "name": "stdout",
     "output_type": "stream",
     "text": [
      "Validation result: fraction invalid [0.104]\n",
      "Validation result: fraction invalid [0.094]\n",
      "Validation result: fraction invalid [0.1]\n",
      "Validation result: fraction invalid [0.068]\n",
      "Validation result: fraction invalid [0.0]\n",
      "Validation result: fraction invalid [0.002]\n",
      "   193 |    96000 |    500 |  0.000000E+00 |  0.000000E+00 |  0.0166666667 |         nadir\n"
     ]
    },
    {
     "name": "stderr",
     "output_type": "stream",
     "text": [
      "/home/yazan/Repositories/Personal/mcd-clip/venv/lib/python3.10/site-packages/pymoo/operators/crossover/sbx.py:47: RuntimeWarning: invalid value encountered in power\n",
      "  betaq[mask] = np.power((rand * alpha), (1.0 / (eta + 1.0)))[mask]\n"
     ]
    },
    {
     "name": "stdout",
     "output_type": "stream",
     "text": [
      "Found framed material columns ['Material=Steel', 'Material=Aluminum', 'Material=Titanium']\n",
      "Mapping Material=Steel to MATERIAL OHCLASS: STEEL\n",
      "Mapping Material=Aluminum to MATERIAL OHCLASS: ALUMINUM\n",
      "Mapping Material=Titanium to MATERIAL OHCLASS: TITANIUM\n",
      "Found framed material columns ['Material=Steel', 'Material=Aluminum', 'Material=Titanium']\n",
      "Mapping Material=Steel to MATERIAL OHCLASS: STEEL\n",
      "Mapping Material=Aluminum to MATERIAL OHCLASS: ALUMINUM\n",
      "Mapping Material=Titanium to MATERIAL OHCLASS: TITANIUM\n"
     ]
    },
    {
     "name": "stderr",
     "output_type": "stream",
     "text": [
      "/home/yazan/Repositories/Personal/mcd-clip/src/mcd_clip/bike_rider_fit/fit_analysis/vectorizedangles.py:158: RuntimeWarning: invalid value encountered in arccos\n",
      "  alpha_1 = np.arccos((x_1 ** 2 - UL_s - x_2 ** 2) / (-2 * UL * x_2))\n",
      "/home/yazan/Repositories/Personal/mcd-clip/src/mcd_clip/bike_rider_fit/fit_analysis/demoanalysis.py:76: RuntimeWarning: invalid value encountered in arccos\n",
      "  Tksp2 = np.arccos(\n",
      "/home/yazan/Repositories/Personal/mcd-clip/src/mcd_clip/bike_rider_fit/fit_analysis/vectorizedangles.py:158: RuntimeWarning: invalid value encountered in arccos\n",
      "  alpha_1 = np.arccos((x_1 ** 2 - UL_s - x_2 ** 2) / (-2 * UL * x_2))\n"
     ]
    },
    {
     "name": "stdout",
     "output_type": "stream",
     "text": [
      "Found framed material columns ['Material=Steel', 'Material=Aluminum', 'Material=Titanium']\n",
      "Mapping Material=Steel to MATERIAL OHCLASS: STEEL\n",
      "Mapping Material=Aluminum to MATERIAL OHCLASS: ALUMINUM\n",
      "Mapping Material=Titanium to MATERIAL OHCLASS: TITANIUM\n",
      "embedding_distance_1 | min 0.6899999976158142, max [1.1799999475479126],  average [0.7200000286102295]\n",
      "embedding_distance_2 | min 0.07999999821186066, max [1.690000057220459],  average [0.14000000059604645]\n",
      "Validation result: fraction invalid [0.098]\n",
      "Validation result: fraction invalid [0.11]\n",
      "Validation result: fraction invalid [0.092]\n",
      "Validation result: fraction invalid [0.144]\n",
      "Validation result: fraction invalid [0.0]\n",
      "Validation result: fraction invalid [0.0]\n",
      "   194 |    96500 |    500 |  0.000000E+00 |  0.000000E+00 |  0.0047011158 |             f\n"
     ]
    },
    {
     "name": "stderr",
     "output_type": "stream",
     "text": [
      "/home/yazan/Repositories/Personal/mcd-clip/venv/lib/python3.10/site-packages/pymoo/operators/crossover/sbx.py:42: RuntimeWarning: divide by zero encountered in power\n",
      "  alpha = 2.0 - np.power(beta, -(eta + 1.0))\n",
      "/home/yazan/Repositories/Personal/mcd-clip/venv/lib/python3.10/site-packages/pymoo/operators/crossover/sbx.py:47: RuntimeWarning: invalid value encountered in power\n",
      "  betaq[mask] = np.power((rand * alpha), (1.0 / (eta + 1.0)))[mask]\n"
     ]
    },
    {
     "name": "stdout",
     "output_type": "stream",
     "text": [
      "Found framed material columns ['Material=Steel', 'Material=Aluminum', 'Material=Titanium']\n",
      "Mapping Material=Steel to MATERIAL OHCLASS: STEEL\n",
      "Mapping Material=Aluminum to MATERIAL OHCLASS: ALUMINUM\n",
      "Mapping Material=Titanium to MATERIAL OHCLASS: TITANIUM\n",
      "Found framed material columns ['Material=Steel', 'Material=Aluminum', 'Material=Titanium']\n",
      "Mapping Material=Steel to MATERIAL OHCLASS: STEEL\n",
      "Mapping Material=Aluminum to MATERIAL OHCLASS: ALUMINUM\n",
      "Mapping Material=Titanium to MATERIAL OHCLASS: TITANIUM\n"
     ]
    },
    {
     "name": "stderr",
     "output_type": "stream",
     "text": [
      "/home/yazan/Repositories/Personal/mcd-clip/src/mcd_clip/bike_rider_fit/fit_analysis/vectorizedangles.py:158: RuntimeWarning: invalid value encountered in arccos\n",
      "  alpha_1 = np.arccos((x_1 ** 2 - UL_s - x_2 ** 2) / (-2 * UL * x_2))\n",
      "/home/yazan/Repositories/Personal/mcd-clip/src/mcd_clip/bike_rider_fit/fit_analysis/demoanalysis.py:76: RuntimeWarning: invalid value encountered in arccos\n",
      "  Tksp2 = np.arccos(\n",
      "/home/yazan/Repositories/Personal/mcd-clip/src/mcd_clip/bike_rider_fit/fit_analysis/vectorizedangles.py:158: RuntimeWarning: invalid value encountered in arccos\n",
      "  alpha_1 = np.arccos((x_1 ** 2 - UL_s - x_2 ** 2) / (-2 * UL * x_2))\n"
     ]
    },
    {
     "name": "stdout",
     "output_type": "stream",
     "text": [
      "Found framed material columns ['Material=Steel', 'Material=Aluminum', 'Material=Titanium']\n",
      "Mapping Material=Steel to MATERIAL OHCLASS: STEEL\n",
      "Mapping Material=Aluminum to MATERIAL OHCLASS: ALUMINUM\n",
      "Mapping Material=Titanium to MATERIAL OHCLASS: TITANIUM\n",
      "embedding_distance_1 | min 0.6899999976158142, max [1.1799999475479126],  average [0.7400000095367432]\n",
      "embedding_distance_2 | min 0.09000000357627869, max [1.6799999475479126],  average [0.18000000715255737]\n",
      "Validation result: fraction invalid [0.116]\n",
      "Validation result: fraction invalid [0.124]\n",
      "Validation result: fraction invalid [0.144]\n",
      "Validation result: fraction invalid [0.176]\n",
      "Validation result: fraction invalid [0.0]\n",
      "Validation result: fraction invalid [0.0]\n",
      "   195 |    97000 |    500 |  0.000000E+00 |  0.000000E+00 |  0.0015721889 |             f\n"
     ]
    },
    {
     "name": "stderr",
     "output_type": "stream",
     "text": [
      "/home/yazan/Repositories/Personal/mcd-clip/venv/lib/python3.10/site-packages/pymoo/operators/crossover/sbx.py:42: RuntimeWarning: divide by zero encountered in power\n",
      "  alpha = 2.0 - np.power(beta, -(eta + 1.0))\n",
      "/home/yazan/Repositories/Personal/mcd-clip/venv/lib/python3.10/site-packages/pymoo/operators/crossover/sbx.py:47: RuntimeWarning: invalid value encountered in power\n",
      "  betaq[mask] = np.power((rand * alpha), (1.0 / (eta + 1.0)))[mask]\n"
     ]
    },
    {
     "name": "stdout",
     "output_type": "stream",
     "text": [
      "Found framed material columns ['Material=Steel', 'Material=Aluminum', 'Material=Titanium']\n",
      "Mapping Material=Steel to MATERIAL OHCLASS: STEEL\n",
      "Mapping Material=Aluminum to MATERIAL OHCLASS: ALUMINUM\n",
      "Mapping Material=Titanium to MATERIAL OHCLASS: TITANIUM\n",
      "Found framed material columns ['Material=Steel', 'Material=Aluminum', 'Material=Titanium']\n",
      "Mapping Material=Steel to MATERIAL OHCLASS: STEEL\n",
      "Mapping Material=Aluminum to MATERIAL OHCLASS: ALUMINUM\n",
      "Mapping Material=Titanium to MATERIAL OHCLASS: TITANIUM\n"
     ]
    },
    {
     "name": "stderr",
     "output_type": "stream",
     "text": [
      "/home/yazan/Repositories/Personal/mcd-clip/src/mcd_clip/bike_rider_fit/fit_analysis/vectorizedangles.py:158: RuntimeWarning: invalid value encountered in arccos\n",
      "  alpha_1 = np.arccos((x_1 ** 2 - UL_s - x_2 ** 2) / (-2 * UL * x_2))\n",
      "/home/yazan/Repositories/Personal/mcd-clip/src/mcd_clip/bike_rider_fit/fit_analysis/demoanalysis.py:76: RuntimeWarning: invalid value encountered in arccos\n",
      "  Tksp2 = np.arccos(\n",
      "/home/yazan/Repositories/Personal/mcd-clip/src/mcd_clip/bike_rider_fit/fit_analysis/vectorizedangles.py:158: RuntimeWarning: invalid value encountered in arccos\n",
      "  alpha_1 = np.arccos((x_1 ** 2 - UL_s - x_2 ** 2) / (-2 * UL * x_2))\n"
     ]
    },
    {
     "name": "stdout",
     "output_type": "stream",
     "text": [
      "Found framed material columns ['Material=Steel', 'Material=Aluminum', 'Material=Titanium']\n",
      "Mapping Material=Steel to MATERIAL OHCLASS: STEEL\n",
      "Mapping Material=Aluminum to MATERIAL OHCLASS: ALUMINUM\n",
      "Mapping Material=Titanium to MATERIAL OHCLASS: TITANIUM\n",
      "embedding_distance_1 | min 0.699999988079071, max [1.1799999475479126],  average [0.7400000095367432]\n",
      "embedding_distance_2 | min 0.10000000149011612, max [1.6799999475479126],  average [0.18000000715255737]\n",
      "Validation result: fraction invalid [0.094]\n",
      "Validation result: fraction invalid [0.09]\n",
      "Validation result: fraction invalid [0.124]\n",
      "Validation result: fraction invalid [0.13]\n",
      "Validation result: fraction invalid [0.0]\n",
      "Validation result: fraction invalid [0.004]\n",
      "   196 |    97500 |    500 |  0.000000E+00 |  0.000000E+00 |  0.0025656912 |             f\n"
     ]
    },
    {
     "name": "stderr",
     "output_type": "stream",
     "text": [
      "/home/yazan/Repositories/Personal/mcd-clip/venv/lib/python3.10/site-packages/pymoo/operators/crossover/sbx.py:42: RuntimeWarning: divide by zero encountered in power\n",
      "  alpha = 2.0 - np.power(beta, -(eta + 1.0))\n",
      "/home/yazan/Repositories/Personal/mcd-clip/venv/lib/python3.10/site-packages/pymoo/operators/crossover/sbx.py:47: RuntimeWarning: invalid value encountered in power\n",
      "  betaq[mask] = np.power((rand * alpha), (1.0 / (eta + 1.0)))[mask]\n"
     ]
    },
    {
     "name": "stdout",
     "output_type": "stream",
     "text": [
      "Found framed material columns ['Material=Steel', 'Material=Aluminum', 'Material=Titanium']\n",
      "Mapping Material=Steel to MATERIAL OHCLASS: STEEL\n",
      "Mapping Material=Aluminum to MATERIAL OHCLASS: ALUMINUM\n",
      "Mapping Material=Titanium to MATERIAL OHCLASS: TITANIUM\n",
      "Found framed material columns ['Material=Steel', 'Material=Aluminum', 'Material=Titanium']\n",
      "Mapping Material=Steel to MATERIAL OHCLASS: STEEL\n",
      "Mapping Material=Aluminum to MATERIAL OHCLASS: ALUMINUM\n",
      "Mapping Material=Titanium to MATERIAL OHCLASS: TITANIUM\n",
      "Found framed material columns ['Material=Steel', 'Material=Aluminum', 'Material=Titanium']\n",
      "Mapping Material=Steel to MATERIAL OHCLASS: STEEL\n",
      "Mapping Material=Aluminum to MATERIAL OHCLASS: ALUMINUM\n",
      "Mapping Material=Titanium to MATERIAL OHCLASS: TITANIUM\n"
     ]
    },
    {
     "name": "stderr",
     "output_type": "stream",
     "text": [
      "/home/yazan/Repositories/Personal/mcd-clip/src/mcd_clip/bike_rider_fit/fit_analysis/vectorizedangles.py:158: RuntimeWarning: invalid value encountered in arccos\n",
      "  alpha_1 = np.arccos((x_1 ** 2 - UL_s - x_2 ** 2) / (-2 * UL * x_2))\n",
      "/home/yazan/Repositories/Personal/mcd-clip/src/mcd_clip/bike_rider_fit/fit_analysis/demoanalysis.py:76: RuntimeWarning: invalid value encountered in arccos\n",
      "  Tksp2 = np.arccos(\n",
      "/home/yazan/Repositories/Personal/mcd-clip/src/mcd_clip/bike_rider_fit/fit_analysis/vectorizedangles.py:158: RuntimeWarning: invalid value encountered in arccos\n",
      "  alpha_1 = np.arccos((x_1 ** 2 - UL_s - x_2 ** 2) / (-2 * UL * x_2))\n"
     ]
    },
    {
     "name": "stdout",
     "output_type": "stream",
     "text": [
      "embedding_distance_1 | min 0.6899999976158142, max [1.1799999475479126],  average [0.7200000286102295]\n",
      "embedding_distance_2 | min 0.07999999821186066, max [1.6699999570846558],  average [0.12999999523162842]\n",
      "Validation result: fraction invalid [0.086]\n",
      "Validation result: fraction invalid [0.064]\n",
      "Validation result: fraction invalid [0.062]\n",
      "Validation result: fraction invalid [0.078]\n",
      "Validation result: fraction invalid [0.0]\n",
      "Validation result: fraction invalid [0.002]\n",
      "   197 |    98000 |    500 |  0.000000E+00 |  0.000000E+00 |  0.0063752753 |             f\n"
     ]
    },
    {
     "name": "stderr",
     "output_type": "stream",
     "text": [
      "/home/yazan/Repositories/Personal/mcd-clip/venv/lib/python3.10/site-packages/pymoo/operators/crossover/sbx.py:42: RuntimeWarning: divide by zero encountered in power\n",
      "  alpha = 2.0 - np.power(beta, -(eta + 1.0))\n",
      "/home/yazan/Repositories/Personal/mcd-clip/venv/lib/python3.10/site-packages/pymoo/operators/crossover/sbx.py:47: RuntimeWarning: invalid value encountered in power\n",
      "  betaq[mask] = np.power((rand * alpha), (1.0 / (eta + 1.0)))[mask]\n"
     ]
    },
    {
     "name": "stdout",
     "output_type": "stream",
     "text": [
      "Found framed material columns ['Material=Steel', 'Material=Aluminum', 'Material=Titanium']\n",
      "Mapping Material=Steel to MATERIAL OHCLASS: STEEL\n",
      "Mapping Material=Aluminum to MATERIAL OHCLASS: ALUMINUM\n",
      "Mapping Material=Titanium to MATERIAL OHCLASS: TITANIUM\n",
      "Found framed material columns ['Material=Steel', 'Material=Aluminum', 'Material=Titanium']\n",
      "Mapping Material=Steel to MATERIAL OHCLASS: STEEL\n",
      "Mapping Material=Aluminum to MATERIAL OHCLASS: ALUMINUM\n",
      "Mapping Material=Titanium to MATERIAL OHCLASS: TITANIUM\n"
     ]
    },
    {
     "name": "stderr",
     "output_type": "stream",
     "text": [
      "/home/yazan/Repositories/Personal/mcd-clip/src/mcd_clip/bike_rider_fit/fit_analysis/vectorizedangles.py:158: RuntimeWarning: invalid value encountered in arccos\n",
      "  alpha_1 = np.arccos((x_1 ** 2 - UL_s - x_2 ** 2) / (-2 * UL * x_2))\n",
      "/home/yazan/Repositories/Personal/mcd-clip/src/mcd_clip/bike_rider_fit/fit_analysis/demoanalysis.py:76: RuntimeWarning: invalid value encountered in arccos\n",
      "  Tksp2 = np.arccos(\n",
      "/home/yazan/Repositories/Personal/mcd-clip/src/mcd_clip/bike_rider_fit/fit_analysis/vectorizedangles.py:158: RuntimeWarning: invalid value encountered in arccos\n",
      "  alpha_1 = np.arccos((x_1 ** 2 - UL_s - x_2 ** 2) / (-2 * UL * x_2))\n"
     ]
    },
    {
     "name": "stdout",
     "output_type": "stream",
     "text": [
      "Found framed material columns ['Material=Steel', 'Material=Aluminum', 'Material=Titanium']\n",
      "Mapping Material=Steel to MATERIAL OHCLASS: STEEL\n",
      "Mapping Material=Aluminum to MATERIAL OHCLASS: ALUMINUM\n",
      "Mapping Material=Titanium to MATERIAL OHCLASS: TITANIUM\n",
      "embedding_distance_1 | min 0.6899999976158142, max [1.1799999475479126],  average [0.7200000286102295]\n",
      "embedding_distance_2 | min 0.07999999821186066, max [1.6799999475479126],  average [0.14000000059604645]\n",
      "Validation result: fraction invalid [0.08]\n",
      "Validation result: fraction invalid [0.066]\n",
      "Validation result: fraction invalid [0.066]\n",
      "Validation result: fraction invalid [0.06]\n",
      "Validation result: fraction invalid [0.0]\n",
      "Validation result: fraction invalid [0.004]\n",
      "   198 |    98500 |    500 |  0.000000E+00 |  0.000000E+00 |  0.0073719653 |             f\n"
     ]
    },
    {
     "name": "stderr",
     "output_type": "stream",
     "text": [
      "/home/yazan/Repositories/Personal/mcd-clip/venv/lib/python3.10/site-packages/pymoo/operators/crossover/sbx.py:42: RuntimeWarning: divide by zero encountered in power\n",
      "  alpha = 2.0 - np.power(beta, -(eta + 1.0))\n",
      "/home/yazan/Repositories/Personal/mcd-clip/venv/lib/python3.10/site-packages/pymoo/operators/crossover/sbx.py:47: RuntimeWarning: invalid value encountered in power\n",
      "  betaq[mask] = np.power((rand * alpha), (1.0 / (eta + 1.0)))[mask]\n"
     ]
    },
    {
     "name": "stdout",
     "output_type": "stream",
     "text": [
      "Found framed material columns ['Material=Steel', 'Material=Aluminum', 'Material=Titanium']\n",
      "Mapping Material=Steel to MATERIAL OHCLASS: STEEL\n",
      "Mapping Material=Aluminum to MATERIAL OHCLASS: ALUMINUM\n",
      "Mapping Material=Titanium to MATERIAL OHCLASS: TITANIUM\n",
      "Found framed material columns ['Material=Steel', 'Material=Aluminum', 'Material=Titanium']\n",
      "Mapping Material=Steel to MATERIAL OHCLASS: STEEL\n",
      "Mapping Material=Aluminum to MATERIAL OHCLASS: ALUMINUM\n",
      "Mapping Material=Titanium to MATERIAL OHCLASS: TITANIUM\n"
     ]
    },
    {
     "name": "stderr",
     "output_type": "stream",
     "text": [
      "/home/yazan/Repositories/Personal/mcd-clip/src/mcd_clip/bike_rider_fit/fit_analysis/vectorizedangles.py:158: RuntimeWarning: invalid value encountered in arccos\n",
      "  alpha_1 = np.arccos((x_1 ** 2 - UL_s - x_2 ** 2) / (-2 * UL * x_2))\n",
      "/home/yazan/Repositories/Personal/mcd-clip/src/mcd_clip/bike_rider_fit/fit_analysis/demoanalysis.py:76: RuntimeWarning: invalid value encountered in arccos\n",
      "  Tksp2 = np.arccos(\n",
      "/home/yazan/Repositories/Personal/mcd-clip/src/mcd_clip/bike_rider_fit/fit_analysis/vectorizedangles.py:158: RuntimeWarning: invalid value encountered in arccos\n",
      "  alpha_1 = np.arccos((x_1 ** 2 - UL_s - x_2 ** 2) / (-2 * UL * x_2))\n"
     ]
    },
    {
     "name": "stdout",
     "output_type": "stream",
     "text": [
      "Found framed material columns ['Material=Steel', 'Material=Aluminum', 'Material=Titanium']\n",
      "Mapping Material=Steel to MATERIAL OHCLASS: STEEL\n",
      "Mapping Material=Aluminum to MATERIAL OHCLASS: ALUMINUM\n",
      "Mapping Material=Titanium to MATERIAL OHCLASS: TITANIUM\n",
      "embedding_distance_1 | min 0.6800000071525574, max [1.1799999475479126],  average [0.7200000286102295]\n",
      "embedding_distance_2 | min 0.07999999821186066, max [1.6799999475479126],  average [0.14000000059604645]\n",
      "Validation result: fraction invalid [0.092]\n",
      "Validation result: fraction invalid [0.096]\n",
      "Validation result: fraction invalid [0.074]\n",
      "Validation result: fraction invalid [0.102]\n",
      "Validation result: fraction invalid [0.0]\n",
      "Validation result: fraction invalid [0.004]\n",
      "   199 |    99000 |    500 |  0.000000E+00 |  0.000000E+00 |  0.0061532005 |             f\n"
     ]
    },
    {
     "name": "stderr",
     "output_type": "stream",
     "text": [
      "/home/yazan/Repositories/Personal/mcd-clip/venv/lib/python3.10/site-packages/pymoo/operators/crossover/sbx.py:42: RuntimeWarning: divide by zero encountered in power\n",
      "  alpha = 2.0 - np.power(beta, -(eta + 1.0))\n",
      "/home/yazan/Repositories/Personal/mcd-clip/venv/lib/python3.10/site-packages/pymoo/operators/crossover/sbx.py:47: RuntimeWarning: invalid value encountered in power\n",
      "  betaq[mask] = np.power((rand * alpha), (1.0 / (eta + 1.0)))[mask]\n",
      "/home/yazan/Repositories/Personal/mcd-clip/venv/lib/python3.10/site-packages/pymoo/operators/mutation/pm.py:45: RuntimeWarning: invalid value encountered in power\n",
      "  d = np.power(val, mut_pow) - 1.0\n"
     ]
    },
    {
     "name": "stdout",
     "output_type": "stream",
     "text": [
      "Found framed material columns ['Material=Steel', 'Material=Aluminum', 'Material=Titanium']\n",
      "Mapping Material=Steel to MATERIAL OHCLASS: STEEL\n",
      "Mapping Material=Aluminum to MATERIAL OHCLASS: ALUMINUM\n",
      "Mapping Material=Titanium to MATERIAL OHCLASS: TITANIUM\n",
      "Found framed material columns ['Material=Steel', 'Material=Aluminum', 'Material=Titanium']\n",
      "Mapping Material=Steel to MATERIAL OHCLASS: STEEL\n",
      "Mapping Material=Aluminum to MATERIAL OHCLASS: ALUMINUM\n",
      "Mapping Material=Titanium to MATERIAL OHCLASS: TITANIUM\n"
     ]
    },
    {
     "name": "stderr",
     "output_type": "stream",
     "text": [
      "/home/yazan/Repositories/Personal/mcd-clip/src/mcd_clip/bike_rider_fit/fit_analysis/vectorizedangles.py:158: RuntimeWarning: invalid value encountered in arccos\n",
      "  alpha_1 = np.arccos((x_1 ** 2 - UL_s - x_2 ** 2) / (-2 * UL * x_2))\n",
      "/home/yazan/Repositories/Personal/mcd-clip/src/mcd_clip/bike_rider_fit/fit_analysis/demoanalysis.py:76: RuntimeWarning: invalid value encountered in arccos\n",
      "  Tksp2 = np.arccos(\n",
      "/home/yazan/Repositories/Personal/mcd-clip/src/mcd_clip/bike_rider_fit/fit_analysis/vectorizedangles.py:158: RuntimeWarning: invalid value encountered in arccos\n",
      "  alpha_1 = np.arccos((x_1 ** 2 - UL_s - x_2 ** 2) / (-2 * UL * x_2))\n"
     ]
    },
    {
     "name": "stdout",
     "output_type": "stream",
     "text": [
      "Found framed material columns ['Material=Steel', 'Material=Aluminum', 'Material=Titanium']\n",
      "Mapping Material=Steel to MATERIAL OHCLASS: STEEL\n",
      "Mapping Material=Aluminum to MATERIAL OHCLASS: ALUMINUM\n",
      "Mapping Material=Titanium to MATERIAL OHCLASS: TITANIUM\n",
      "embedding_distance_1 | min 0.6899999976158142, max [1.1799999475479126],  average [0.7200000286102295]\n",
      "embedding_distance_2 | min 0.07999999821186066, max [1.6699999570846558],  average [0.15000000596046448]\n",
      "Validation result: fraction invalid [0.088]\n",
      "Validation result: fraction invalid [0.076]\n",
      "Validation result: fraction invalid [0.084]\n",
      "Validation result: fraction invalid [0.086]\n",
      "Validation result: fraction invalid [0.0]\n",
      "Validation result: fraction invalid [0.0]\n",
      "   200 |    99500 |    500 |  0.000000E+00 |  0.000000E+00 |  0.0064774167 |             f\n"
     ]
    }
   ],
   "source": [
    "TEXT_TARGET = \"A futuristic black cyberpunk-style road racing bicycle\"\n",
    "\n",
    "run_id = str(datetime.now().strftime('%m-%d--%H.%M.%S')) + \"-template-\" + TEXT_TARGET\n",
    "\n",
    "optimizer = CombinedOptimizer(\n",
    "    design_targets=DesignTargets(\n",
    "        continuous_targets=[\n",
    "            ContinuousTarget(distance_column_name(0), 0, 1),\n",
    "            ContinuousTarget(distance_column_name(1), 0, 1),\n",
    "        ]\n",
    "    ),\n",
    "    target_embeddings=[TextEmbeddingTarget(text_target=TEXT_TARGET),\n",
    "                       ImageEmbeddingTarget(image_path=resource_path('mtb.png'))\n",
    "                       ],\n",
    "    extra_bonus_objectives=[]\n",
    ")\n",
    "optimizer.set_starting_design_by_index('1')\n",
    "generator = optimizer.build_generator(validation_functions=COMBINED_VALIDATION_FUNCTIONS,\n",
    "                                      pop_size=500,\n",
    "                                      features_to_vary=[f for f\n",
    "                                                        in optimizer.starting_dataset.get_combined().columns\n",
    "                                                        if ('bottle' not in f)\n",
    "                                                        ]\n",
    "                                      )\n",
    "generator.use_empty_repair(False)\n",
    "\n",
    "run_dir = run_result_path(run_id)\n",
    "os.makedirs(run_dir, exist_ok=False)\n",
    "\n",
    "generator.generate(200, seed=45)\n"
   ]
  },
  {
   "cell_type": "code",
   "execution_count": 37,
   "id": "1121e5be-04f8-4910-92cb-92cc6bcb99bc",
   "metadata": {},
   "outputs": [
    {
     "name": "stdout",
     "output_type": "stream",
     "text": [
      "Collecting all counterfactual candidates!\n",
      "Only found 71316 valid counterfactuals! Returning all 71316.\n",
      "Done! Returning CFs\n",
      "Found framed material columns ['Material=Steel', 'Material=Aluminum', 'Material=Titanium']\n",
      "Mapping Material=Steel to MATERIAL OHCLASS: STEEL\n",
      "Mapping Material=Aluminum to MATERIAL OHCLASS: ALUMINUM\n",
      "Mapping Material=Titanium to MATERIAL OHCLASS: TITANIUM\n",
      "Found framed material columns ['Material=Steel', 'Material=Aluminum', 'Material=Titanium']\n",
      "Mapping Material=Steel to MATERIAL OHCLASS: STEEL\n",
      "Mapping Material=Aluminum to MATERIAL OHCLASS: ALUMINUM\n",
      "Mapping Material=Titanium to MATERIAL OHCLASS: TITANIUM\n"
     ]
    },
    {
     "name": "stderr",
     "output_type": "stream",
     "text": [
      "/home/yazan/Repositories/Personal/mcd-clip/src/mcd_clip/bike_rider_fit/fit_analysis/interfacepoints.py:52: RuntimeWarning: invalid value encountered in sqrt\n",
      "  DTx = np.sqrt(bike[:, 0] ** 2 - DTy ** 2)\n",
      "/home/yazan/Repositories/Personal/mcd-clip/src/mcd_clip/bike_rider_fit/fit_analysis/vectorizedangles.py:158: RuntimeWarning: invalid value encountered in arccos\n",
      "  alpha_1 = np.arccos((x_1 ** 2 - UL_s - x_2 ** 2) / (-2 * UL * x_2))\n",
      "/home/yazan/Repositories/Personal/mcd-clip/src/mcd_clip/bike_rider_fit/fit_analysis/demoanalysis.py:76: RuntimeWarning: invalid value encountered in arccos\n",
      "  Tksp2 = np.arccos(\n"
     ]
    },
    {
     "name": "stdout",
     "output_type": "stream",
     "text": [
      "Found framed material columns ['Material=Steel', 'Material=Aluminum', 'Material=Titanium']\n",
      "Mapping Material=Steel to MATERIAL OHCLASS: STEEL\n",
      "Mapping Material=Aluminum to MATERIAL OHCLASS: ALUMINUM\n",
      "Mapping Material=Titanium to MATERIAL OHCLASS: TITANIUM\n"
     ]
    },
    {
     "name": "stderr",
     "output_type": "stream",
     "text": [
      "/home/yazan/Repositories/Personal/mcd-clip/src/mcd_clip/bike_rider_fit/fit_analysis/interfacepoints.py:52: RuntimeWarning: invalid value encountered in sqrt\n",
      "  DTx = np.sqrt(bike[:, 0] ** 2 - DTy ** 2)\n",
      "/home/yazan/Repositories/Personal/mcd-clip/src/mcd_clip/bike_rider_fit/fit_analysis/vectorizedangles.py:158: RuntimeWarning: invalid value encountered in arccos\n",
      "  alpha_1 = np.arccos((x_1 ** 2 - UL_s - x_2 ** 2) / (-2 * UL * x_2))\n"
     ]
    },
    {
     "name": "stdout",
     "output_type": "stream",
     "text": [
      "embedding_distance_1 | min 0.6800000071525574, max [0.9900000095367432],  average [0.7200000286102295]\n",
      "embedding_distance_2 | min 0.07000000029802322, max [0.9900000095367432],  average [0.12999999523162842]\n",
      "Found closest cfs 52901    0.073831\n",
      "44014    0.075459\n",
      "60738    0.075982\n",
      "53597    0.076036\n",
      "Name: embedding_distance_2, dtype: float32\n"
     ]
    }
   ],
   "source": [
    "desired_weight = 1\n",
    "distance_column_index = 1\n",
    "objective_weights = [desired_weight * (1 - distance_column_index), desired_weight * distance_column_index]\n",
    "as_many = generator.sample_with_weights(num_samples=100_000, cfc_weight=0,\n",
    "                                        gower_weight=0, avg_gower_weight=0,\n",
    "                                        diversity_weight=0,\n",
    "                                        bonus_objectives_weights=np.array(objective_weights).reshape((1, 2)),\n",
    "                                        include_dataset=False)\n",
    "column_ = distance_column_name(distance_column_index)\n",
    "as_many[column_] = optimizer.predict(CombinedDataset(as_many))[column_]\n",
    "closes_cfs = as_many.sort_values(by=column_, ascending=True)[:4]\n",
    "print(f\"Found closest cfs {closes_cfs[distance_column_name(distance_column_index)]}\")\n"
   ]
  },
  {
   "cell_type": "code",
   "execution_count": 38,
   "id": "65ae2972-54d1-4900-ae4b-6b66982af9e5",
   "metadata": {},
   "outputs": [
    {
     "name": "stdout",
     "output_type": "stream",
     "text": [
      "Found framed material columns ['Material=Steel', 'Material=Aluminum', 'Material=Titanium']\n",
      "Mapping Material=Steel to MATERIAL OHCLASS: STEEL\n",
      "Mapping Material=Aluminum to MATERIAL OHCLASS: ALUMINUM\n",
      "Mapping Material=Titanium to MATERIAL OHCLASS: TITANIUM\n",
      "Deleting key MATERIAL OHCLASS: ALUMINIUM\n",
      "Deleting key MATERIAL OHCLASS: BAMBOO\n",
      "Deleting key MATERIAL OHCLASS: CARBON\n",
      "Deleting key MATERIAL OHCLASS: OTHER\n",
      "Deleting key MATERIAL OHCLASS: STEEL\n",
      "Deleting key MATERIAL OHCLASS: TITANIUM\n",
      "Deleting key Dropout spacing style OHCLASS: 0\n",
      "Deleting key Dropout spacing style OHCLASS: 1\n",
      "Deleting key Dropout spacing style OHCLASS: 2\n",
      "Deleting key Dropout spacing style OHCLASS: 3\n",
      "Deleting key Fork type OHCLASS: 0\n",
      "Deleting key Fork type OHCLASS: 1\n",
      "Deleting key Fork type OHCLASS: 2\n",
      "Deleting key Stem kind OHCLASS: 0\n",
      "Deleting key Stem kind OHCLASS: 1\n",
      "Deleting key Stem kind OHCLASS: 2\n",
      "Deleting key Handlebar style OHCLASS: 0\n",
      "Deleting key Handlebar style OHCLASS: 1\n",
      "Deleting key Handlebar style OHCLASS: 2\n",
      "Deleting key Head tube type OHCLASS: 0\n",
      "Deleting key Head tube type OHCLASS: 1\n",
      "Deleting key Head tube type OHCLASS: 2\n",
      "Deleting key Head tube type OHCLASS: 3\n",
      "Deleting key Top tube type OHCLASS: 0\n",
      "Deleting key Top tube type OHCLASS: 1\n",
      "Deleting key bottle SEATTUBE0 show OHCLASS: False\n",
      "Deleting key bottle SEATTUBE0 show OHCLASS: True\n",
      "Deleting key bottle DOWNTUBE0 show OHCLASS: False\n",
      "Deleting key bottle DOWNTUBE0 show OHCLASS: True\n",
      "Deleting key BELTorCHAIN OHCLASS: 0\n",
      "Deleting key BELTorCHAIN OHCLASS: 1\n",
      "Deleting key RIM_STYLE front OHCLASS: DISC\n",
      "Deleting key RIM_STYLE front OHCLASS: SPOKED\n",
      "Deleting key RIM_STYLE front OHCLASS: TRISPOKE\n",
      "Deleting key RIM_STYLE rear OHCLASS: DISC\n",
      "Deleting key RIM_STYLE rear OHCLASS: SPOKED\n",
      "Deleting key RIM_STYLE rear OHCLASS: TRISPOKE\n",
      "Updating CS textfield with value 429\n",
      "Updating BB textfield with value 66\n",
      "Updating Stack with value 565\n",
      "Updating Head angle with value 67\n",
      "Updating Head tube length textfield with value 113\n",
      "Updating Seat stay junction0 with value 45\n",
      "Updating Seat tube length with value 282\n",
      "Updating Seat angle with value 71\n",
      "Updating BB diameter with value 39\n",
      "Updating ttd with value 26\n",
      "Updating dtd with value 36\n",
      "Updating csd with value 30\n",
      "Updating ssd with value 16\n",
      "Updating Chain stay position on BB with value 15\n",
      "Updating SSTopZOFFSET with value 9\n",
      "Updating Head tube upper extension2 with value 38\n",
      "Updating Seat tube extension2 with value 49\n",
      "Updating Head tube lower extension2 with value 50\n",
      "Updating SEATSTAYbrdgshift with value 330\n",
      "Updating CHAINSTAYbrdgshift with value 350\n",
      "Updating SEATSTAYbrdgdia1 with value 16\n",
      "Updating CHAINSTAYbrdgdia1 with value 18\n",
      "Updating SEATSTAYbrdgCheck with value 0\n",
      "Updating CHAINSTAYbrdgCheck with value 0\n",
      "Updating Dropout spacing with value 135\n",
      "Updating ERD rear with value 519\n",
      "Updating Wheel width rear with value 37\n",
      "Updating BSD front with value 559\n",
      "Updating Wheel width front with value 55\n",
      "Updating ERD front with value 533\n",
      "Updating BSD rear with value 556\n",
      "Updating Display AEROBARS with value 1\n",
      "Updating BB length with value 72\n",
      "Updating Head tube diameter with value 45\n",
      "Updating Wheel cut with value 692\n",
      "Updating Seat tube diameter with value 31\n",
      "Updating Front Fender include with value 0\n",
      "Updating Rear Fender include with value 0\n",
      "Updating Number of cogs with value 0\n",
      "Updating Number of chainrings with value 1\n",
      "Updating Display RACK with value 0\n",
      "Updating SPOKES composite front with value 1\n",
      "Updating SBLADEW front with value 80\n",
      "Updating SBLADEW rear with value 80\n",
      "Updating Saddle length with value 298\n",
      "Updating Saddle height with value 366\n",
      "Updating Down tube diameter with value 34\n",
      "Updating Seatpost LENGTH with value 329\n",
      "Updating Wall thickness Bottom Bracket with value 2\n",
      "Updating Wall thickness Top tube with value 0\n",
      "Updating Wall thickness Head tube with value 1\n",
      "Updating Wall thickness Down tube with value 0\n",
      "Updating Wall thickness Chain stay with value 1\n",
      "Updating Wall thickness Seat stay with value 0\n",
      "Updating Wall thickness Seat tube with value 0\n",
      "Updating Chain stay back diameter with value 30\n",
      "Updating Chain stay vertical diameter with value 30\n",
      "Updating SEATSTAY_HR with value 16\n",
      "Updating Seat stay bottom diameter with value 16\n",
      "Updating Top tube rear diameter with value 26\n",
      "Updating Top tube rear dia2 with value 26\n",
      "Updating Top tube front diameter with value 26\n",
      "Updating Top tube front dia2 with value 26\n",
      "Updating Down tube rear diameter with value 36\n",
      "Updating Down tube rear dia2 with value 36\n",
      "Updating Down tube front diameter with value 36\n",
      "Updating Down tube front dia2 with value 36\n",
      "Updating FCD textfield with value 667\n",
      "Updating FIRST color sRGB with value -16776677\n",
      "Updating MATERIAL with value ALUMINIUM\n",
      "Updating Dropout spacing style with value 1\n",
      "Updating Head tube type with value 2\n",
      "Updating BELTorCHAIN with value 0\n",
      "Updating bottle SEATTUBE0 show with value false\n",
      "Updating RIM_STYLE front with value SPOKED\n",
      "Updating RIM_STYLE rear with value SPOKED\n",
      "Updating Handlebar style with value 2\n",
      "Updating bottle DOWNTUBE0 show with value false\n",
      "Updating Stem kind with value 1\n",
      "Updating Fork type with value 0\n",
      "Updating Top tube type with value 1\n",
      "num_updated=81\n",
      "Deleting key MATERIAL OHCLASS: ALUMINIUM\n",
      "Deleting key MATERIAL OHCLASS: BAMBOO\n",
      "Deleting key MATERIAL OHCLASS: CARBON\n",
      "Deleting key MATERIAL OHCLASS: OTHER\n",
      "Deleting key MATERIAL OHCLASS: STEEL\n",
      "Deleting key MATERIAL OHCLASS: TITANIUM\n",
      "Deleting key Dropout spacing style OHCLASS: 0\n",
      "Deleting key Dropout spacing style OHCLASS: 1\n",
      "Deleting key Dropout spacing style OHCLASS: 2\n",
      "Deleting key Dropout spacing style OHCLASS: 3\n",
      "Deleting key Fork type OHCLASS: 0\n",
      "Deleting key Fork type OHCLASS: 1\n",
      "Deleting key Fork type OHCLASS: 2\n",
      "Deleting key Stem kind OHCLASS: 0\n",
      "Deleting key Stem kind OHCLASS: 1\n",
      "Deleting key Stem kind OHCLASS: 2\n",
      "Deleting key Handlebar style OHCLASS: 0\n",
      "Deleting key Handlebar style OHCLASS: 1\n",
      "Deleting key Handlebar style OHCLASS: 2\n",
      "Deleting key Head tube type OHCLASS: 0\n",
      "Deleting key Head tube type OHCLASS: 1\n",
      "Deleting key Head tube type OHCLASS: 2\n",
      "Deleting key Head tube type OHCLASS: 3\n",
      "Deleting key Top tube type OHCLASS: 0\n",
      "Deleting key Top tube type OHCLASS: 1\n",
      "Deleting key bottle SEATTUBE0 show OHCLASS: False\n",
      "Deleting key bottle SEATTUBE0 show OHCLASS: True\n",
      "Deleting key bottle DOWNTUBE0 show OHCLASS: False\n",
      "Deleting key bottle DOWNTUBE0 show OHCLASS: True\n",
      "Deleting key BELTorCHAIN OHCLASS: 0\n",
      "Deleting key BELTorCHAIN OHCLASS: 1\n",
      "Deleting key RIM_STYLE front OHCLASS: DISC\n",
      "Deleting key RIM_STYLE front OHCLASS: SPOKED\n",
      "Deleting key RIM_STYLE front OHCLASS: TRISPOKE\n",
      "Deleting key RIM_STYLE rear OHCLASS: DISC\n",
      "Deleting key RIM_STYLE rear OHCLASS: SPOKED\n",
      "Deleting key RIM_STYLE rear OHCLASS: TRISPOKE\n",
      "Updating CS textfield with value 431\n",
      "Updating BB textfield with value 61\n",
      "Updating Stack with value 579\n",
      "Updating Head angle with value 66\n",
      "Updating Head tube length textfield with value 135\n",
      "Updating Seat stay junction0 with value 44\n",
      "Updating Seat tube length with value 324\n",
      "Updating Seat angle with value 72\n",
      "Updating BB diameter with value 40\n",
      "Updating ttd with value 32\n",
      "Updating dtd with value 36\n",
      "Updating csd with value 23\n",
      "Updating ssd with value 19\n",
      "Updating Chain stay position on BB with value 15\n",
      "Updating SSTopZOFFSET with value 9\n",
      "Updating Head tube upper extension2 with value 33\n",
      "Updating Seat tube extension2 with value 54\n",
      "Updating Head tube lower extension2 with value 46\n",
      "Updating SEATSTAYbrdgshift with value 330\n",
      "Updating CHAINSTAYbrdgshift with value 350\n",
      "Updating SEATSTAYbrdgdia1 with value 16\n",
      "Updating CHAINSTAYbrdgdia1 with value 18\n",
      "Updating SEATSTAYbrdgCheck with value 0\n",
      "Updating CHAINSTAYbrdgCheck with value 0\n",
      "Updating Dropout spacing with value 134\n",
      "Updating ERD rear with value 467\n",
      "Updating Wheel width rear with value 23\n",
      "Updating BSD front with value 559\n",
      "Updating Wheel width front with value 23\n",
      "Updating ERD front with value 500\n",
      "Updating BSD rear with value 549\n",
      "Updating Display AEROBARS with value 1\n",
      "Updating BB length with value 68\n",
      "Updating Head tube diameter with value 44\n",
      "Updating Wheel cut with value 692\n",
      "Updating Seat tube diameter with value 31\n",
      "Updating Front Fender include with value 0\n",
      "Updating Rear Fender include with value 1\n",
      "Updating Number of cogs with value 0\n",
      "Updating Number of chainrings with value 2\n",
      "Updating Display RACK with value 0\n",
      "Updating SPOKES composite front with value 1\n",
      "Updating SBLADEW front with value 80\n",
      "Updating SBLADEW rear with value 80\n",
      "Updating Saddle length with value 228\n",
      "Updating Saddle height with value 454\n",
      "Updating Down tube diameter with value 34\n",
      "Updating Seatpost LENGTH with value 300\n",
      "Updating Wall thickness Bottom Bracket with value 2\n",
      "Updating Wall thickness Top tube with value 0\n",
      "Updating Wall thickness Head tube with value 1\n",
      "Updating Wall thickness Down tube with value 0\n",
      "Updating Wall thickness Chain stay with value 1\n",
      "Updating Wall thickness Seat stay with value 0\n",
      "Updating Wall thickness Seat tube with value 0\n",
      "Updating Chain stay back diameter with value 23\n",
      "Updating Chain stay vertical diameter with value 23\n",
      "Updating SEATSTAY_HR with value 19\n",
      "Updating Seat stay bottom diameter with value 19\n",
      "Updating Top tube rear diameter with value 32\n",
      "Updating Top tube rear dia2 with value 32\n",
      "Updating Top tube front diameter with value 32\n",
      "Updating Top tube front dia2 with value 32\n",
      "Updating Down tube rear diameter with value 36\n",
      "Updating Down tube rear dia2 with value 36\n",
      "Updating Down tube front diameter with value 36\n",
      "Updating Down tube front dia2 with value 36\n",
      "Updating FCD textfield with value 684\n",
      "Updating FIRST color sRGB with value -16777202\n",
      "Updating MATERIAL with value ALUMINIUM\n",
      "Updating Dropout spacing style with value 0\n",
      "Updating Head tube type with value 3\n",
      "Updating BELTorCHAIN with value 1\n",
      "Updating bottle SEATTUBE0 show with value false\n",
      "Updating RIM_STYLE front with value SPOKED\n",
      "Updating RIM_STYLE rear with value SPOKED\n",
      "Updating Handlebar style with value 1\n",
      "Updating bottle DOWNTUBE0 show with value false\n",
      "Updating Stem kind with value 1\n",
      "Updating Fork type with value 0\n",
      "Updating Top tube type with value 0\n",
      "num_updated=81\n",
      "Deleting key MATERIAL OHCLASS: ALUMINIUM\n",
      "Deleting key MATERIAL OHCLASS: BAMBOO\n",
      "Deleting key MATERIAL OHCLASS: CARBON\n",
      "Deleting key MATERIAL OHCLASS: OTHER\n",
      "Deleting key MATERIAL OHCLASS: STEEL\n",
      "Deleting key MATERIAL OHCLASS: TITANIUM\n",
      "Deleting key Dropout spacing style OHCLASS: 0\n",
      "Deleting key Dropout spacing style OHCLASS: 1\n",
      "Deleting key Dropout spacing style OHCLASS: 2\n",
      "Deleting key Dropout spacing style OHCLASS: 3\n",
      "Deleting key Fork type OHCLASS: 0\n",
      "Deleting key Fork type OHCLASS: 1\n",
      "Deleting key Fork type OHCLASS: 2\n",
      "Deleting key Stem kind OHCLASS: 0\n",
      "Deleting key Stem kind OHCLASS: 1\n",
      "Deleting key Stem kind OHCLASS: 2\n",
      "Deleting key Handlebar style OHCLASS: 0\n",
      "Deleting key Handlebar style OHCLASS: 1\n",
      "Deleting key Handlebar style OHCLASS: 2\n",
      "Deleting key Head tube type OHCLASS: 0\n",
      "Deleting key Head tube type OHCLASS: 1\n",
      "Deleting key Head tube type OHCLASS: 2\n",
      "Deleting key Head tube type OHCLASS: 3\n",
      "Deleting key Top tube type OHCLASS: 0\n",
      "Deleting key Top tube type OHCLASS: 1\n",
      "Deleting key bottle SEATTUBE0 show OHCLASS: False\n",
      "Deleting key bottle SEATTUBE0 show OHCLASS: True\n",
      "Deleting key bottle DOWNTUBE0 show OHCLASS: False\n",
      "Deleting key bottle DOWNTUBE0 show OHCLASS: True\n",
      "Deleting key BELTorCHAIN OHCLASS: 0\n",
      "Deleting key BELTorCHAIN OHCLASS: 1\n",
      "Deleting key RIM_STYLE front OHCLASS: DISC\n",
      "Deleting key RIM_STYLE front OHCLASS: SPOKED\n",
      "Deleting key RIM_STYLE front OHCLASS: TRISPOKE\n",
      "Deleting key RIM_STYLE rear OHCLASS: DISC\n",
      "Deleting key RIM_STYLE rear OHCLASS: SPOKED\n",
      "Deleting key RIM_STYLE rear OHCLASS: TRISPOKE\n",
      "Updating CS textfield with value 362\n",
      "Updating BB textfield with value -24\n",
      "Updating Stack with value 565\n",
      "Updating Head angle with value 66\n",
      "Updating Head tube length textfield with value 135\n",
      "Updating Seat stay junction0 with value 45\n",
      "Updating Seat tube length with value 279\n",
      "Updating Seat angle with value 72\n",
      "Updating BB diameter with value 40\n",
      "Updating ttd with value 38\n",
      "Updating dtd with value 35\n",
      "Updating csd with value 22\n",
      "Updating ssd with value 13\n",
      "Updating Chain stay position on BB with value 15\n",
      "Updating SSTopZOFFSET with value 7\n",
      "Updating Head tube upper extension2 with value 39\n",
      "Updating Seat tube extension2 with value 59\n",
      "Updating Head tube lower extension2 with value 50\n",
      "Updating SEATSTAYbrdgshift with value 330\n",
      "Updating CHAINSTAYbrdgshift with value 350\n",
      "Updating SEATSTAYbrdgdia1 with value 16\n",
      "Updating CHAINSTAYbrdgdia1 with value 18\n",
      "Updating SEATSTAYbrdgCheck with value 0\n",
      "Updating CHAINSTAYbrdgCheck with value 0\n",
      "Updating Dropout spacing with value 135\n",
      "Updating ERD rear with value 534\n",
      "Updating Wheel width rear with value 65\n",
      "Updating BSD front with value 557\n",
      "Updating Wheel width front with value 22\n",
      "Updating ERD front with value 519\n",
      "Updating BSD rear with value 556\n",
      "Updating Display AEROBARS with value 1\n",
      "Updating BB length with value 67\n",
      "Updating Head tube diameter with value 44\n",
      "Updating Wheel cut with value 691\n",
      "Updating Seat tube diameter with value 31\n",
      "Updating Front Fender include with value 0\n",
      "Updating Rear Fender include with value 1\n",
      "Updating Number of cogs with value 9\n",
      "Updating Number of chainrings with value 0\n",
      "Updating Display RACK with value 0\n",
      "Updating SPOKES composite front with value 1\n",
      "Updating SBLADEW front with value 79\n",
      "Updating SBLADEW rear with value 80\n",
      "Updating Saddle length with value 229\n",
      "Updating Saddle height with value 381\n",
      "Updating Down tube diameter with value 28\n",
      "Updating Seatpost LENGTH with value 279\n",
      "Updating Wall thickness Bottom Bracket with value 2\n",
      "Updating Wall thickness Top tube with value 0\n",
      "Updating Wall thickness Head tube with value 1\n",
      "Updating Wall thickness Down tube with value 0\n",
      "Updating Wall thickness Chain stay with value 1\n",
      "Updating Wall thickness Seat stay with value 0\n",
      "Updating Wall thickness Seat tube with value 0\n",
      "Updating Chain stay back diameter with value 22\n",
      "Updating Chain stay vertical diameter with value 22\n",
      "Updating SEATSTAY_HR with value 13\n",
      "Updating Seat stay bottom diameter with value 13\n",
      "Updating Top tube rear diameter with value 38\n",
      "Updating Top tube rear dia2 with value 38\n",
      "Updating Top tube front diameter with value 38\n",
      "Updating Top tube front dia2 with value 38\n",
      "Updating Down tube rear diameter with value 35\n",
      "Updating Down tube rear dia2 with value 35\n",
      "Updating Down tube front diameter with value 35\n",
      "Updating Down tube front dia2 with value 35\n",
      "Updating FCD textfield with value 696\n",
      "Updating FIRST color sRGB with value -16449519\n",
      "Updating MATERIAL with value STEEL\n",
      "Updating Dropout spacing style with value 0\n",
      "Updating Head tube type with value 1\n",
      "Updating BELTorCHAIN with value 0\n",
      "Updating bottle SEATTUBE0 show with value false\n",
      "Updating RIM_STYLE front with value SPOKED\n",
      "Updating RIM_STYLE rear with value SPOKED\n",
      "Updating Handlebar style with value 1\n",
      "Updating bottle DOWNTUBE0 show with value false\n",
      "Updating Stem kind with value 0\n",
      "Updating Fork type with value 0\n",
      "Updating Top tube type with value 0\n",
      "num_updated=81\n",
      "Deleting key MATERIAL OHCLASS: ALUMINIUM\n",
      "Deleting key MATERIAL OHCLASS: BAMBOO\n",
      "Deleting key MATERIAL OHCLASS: CARBON\n",
      "Deleting key MATERIAL OHCLASS: OTHER\n",
      "Deleting key MATERIAL OHCLASS: STEEL\n",
      "Deleting key MATERIAL OHCLASS: TITANIUM\n",
      "Deleting key Dropout spacing style OHCLASS: 0\n",
      "Deleting key Dropout spacing style OHCLASS: 1\n",
      "Deleting key Dropout spacing style OHCLASS: 2\n",
      "Deleting key Dropout spacing style OHCLASS: 3\n",
      "Deleting key Fork type OHCLASS: 0\n",
      "Deleting key Fork type OHCLASS: 1\n",
      "Deleting key Fork type OHCLASS: 2\n",
      "Deleting key Stem kind OHCLASS: 0\n",
      "Deleting key Stem kind OHCLASS: 1\n",
      "Deleting key Stem kind OHCLASS: 2\n",
      "Deleting key Handlebar style OHCLASS: 0\n",
      "Deleting key Handlebar style OHCLASS: 1\n",
      "Deleting key Handlebar style OHCLASS: 2\n",
      "Deleting key Head tube type OHCLASS: 0\n",
      "Deleting key Head tube type OHCLASS: 1\n",
      "Deleting key Head tube type OHCLASS: 2\n",
      "Deleting key Head tube type OHCLASS: 3\n",
      "Deleting key Top tube type OHCLASS: 0\n",
      "Deleting key Top tube type OHCLASS: 1\n",
      "Deleting key bottle SEATTUBE0 show OHCLASS: False\n",
      "Deleting key bottle SEATTUBE0 show OHCLASS: True\n",
      "Deleting key bottle DOWNTUBE0 show OHCLASS: False\n",
      "Deleting key bottle DOWNTUBE0 show OHCLASS: True\n",
      "Deleting key BELTorCHAIN OHCLASS: 0\n",
      "Deleting key BELTorCHAIN OHCLASS: 1\n",
      "Deleting key RIM_STYLE front OHCLASS: DISC\n",
      "Deleting key RIM_STYLE front OHCLASS: SPOKED\n",
      "Deleting key RIM_STYLE front OHCLASS: TRISPOKE\n",
      "Deleting key RIM_STYLE rear OHCLASS: DISC\n",
      "Deleting key RIM_STYLE rear OHCLASS: SPOKED\n",
      "Deleting key RIM_STYLE rear OHCLASS: TRISPOKE\n",
      "Updating CS textfield with value 362\n",
      "Updating BB textfield with value 66\n",
      "Updating Stack with value 565\n",
      "Updating Head angle with value 66\n",
      "Updating Head tube length textfield with value 135\n",
      "Updating Seat stay junction0 with value 45\n",
      "Updating Seat tube length with value 308\n",
      "Updating Seat angle with value 72\n",
      "Updating BB diameter with value 40\n",
      "Updating ttd with value 38\n",
      "Updating dtd with value 35\n",
      "Updating csd with value 22\n",
      "Updating ssd with value 12\n",
      "Updating Chain stay position on BB with value 15\n",
      "Updating SSTopZOFFSET with value 7\n",
      "Updating Head tube upper extension2 with value 39\n",
      "Updating Seat tube extension2 with value 59\n",
      "Updating Head tube lower extension2 with value 50\n",
      "Updating SEATSTAYbrdgshift with value 330\n",
      "Updating CHAINSTAYbrdgshift with value 350\n",
      "Updating SEATSTAYbrdgdia1 with value 16\n",
      "Updating CHAINSTAYbrdgdia1 with value 18\n",
      "Updating SEATSTAYbrdgCheck with value 1\n",
      "Updating CHAINSTAYbrdgCheck with value 1\n",
      "Updating Dropout spacing with value 135\n",
      "Updating ERD rear with value 518\n",
      "Updating Wheel width rear with value 65\n",
      "Updating BSD front with value 557\n",
      "Updating Wheel width front with value 35\n",
      "Updating ERD front with value 519\n",
      "Updating BSD rear with value 556\n",
      "Updating Display AEROBARS with value 1\n",
      "Updating BB length with value 67\n",
      "Updating Head tube diameter with value 44\n",
      "Updating Wheel cut with value 691\n",
      "Updating Seat tube diameter with value 34\n",
      "Updating Front Fender include with value 0\n",
      "Updating Rear Fender include with value 0\n",
      "Updating Number of cogs with value 9\n",
      "Updating Number of chainrings with value 1\n",
      "Updating Display RACK with value 0\n",
      "Updating SPOKES composite front with value 1\n",
      "Updating SBLADEW front with value 79\n",
      "Updating SBLADEW rear with value 80\n",
      "Updating Saddle length with value 213\n",
      "Updating Saddle height with value 381\n",
      "Updating Down tube diameter with value 28\n",
      "Updating Seatpost LENGTH with value 278\n",
      "Updating Wall thickness Bottom Bracket with value 2\n",
      "Updating Wall thickness Top tube with value 0\n",
      "Updating Wall thickness Head tube with value 1\n",
      "Updating Wall thickness Down tube with value 0\n",
      "Updating Wall thickness Chain stay with value 1\n",
      "Updating Wall thickness Seat stay with value 0\n",
      "Updating Wall thickness Seat tube with value 0\n",
      "Updating Chain stay back diameter with value 22\n",
      "Updating Chain stay vertical diameter with value 22\n",
      "Updating SEATSTAY_HR with value 12\n",
      "Updating Seat stay bottom diameter with value 12\n",
      "Updating Top tube rear diameter with value 38\n",
      "Updating Top tube rear dia2 with value 38\n",
      "Updating Top tube front diameter with value 38\n",
      "Updating Top tube front dia2 with value 38\n",
      "Updating Down tube rear diameter with value 35\n",
      "Updating Down tube rear dia2 with value 35\n",
      "Updating Down tube front diameter with value 35\n",
      "Updating Down tube front dia2 with value 35\n",
      "Updating FCD textfield with value 619\n",
      "Updating FIRST color sRGB with value -16777199\n",
      "Updating MATERIAL with value STEEL\n",
      "Updating Dropout spacing style with value 0\n",
      "Updating Head tube type with value 1\n",
      "Updating BELTorCHAIN with value 1\n",
      "Updating bottle SEATTUBE0 show with value false\n",
      "Updating RIM_STYLE front with value SPOKED\n",
      "Updating RIM_STYLE rear with value SPOKED\n",
      "Updating Handlebar style with value 1\n",
      "Updating bottle DOWNTUBE0 show with value false\n",
      "Updating Stem kind with value 0\n",
      "Updating Fork type with value 0\n",
      "Updating Top tube type with value 1\n",
      "num_updated=81\n"
     ]
    }
   ],
   "source": [
    "render_some(closes_cfs, 'latest-run', 1, 'both')"
   ]
  },
  {
   "cell_type": "code",
   "execution_count": null,
   "id": "78a55933-1cc2-4a0c-b3fc-1f9a9191a21c",
   "metadata": {},
   "outputs": [],
   "source": []
  }
 ],
 "metadata": {
  "kernelspec": {
   "display_name": "Python 3 (ipykernel)",
   "language": "python",
   "name": "python3"
  },
  "language_info": {
   "codemirror_mode": {
    "name": "ipython",
    "version": 3
   },
   "file_extension": ".py",
   "mimetype": "text/x-python",
   "name": "python",
   "nbconvert_exporter": "python",
   "pygments_lexer": "ipython3",
   "version": "3.10.12"
  }
 },
 "nbformat": 4,
 "nbformat_minor": 5
}
